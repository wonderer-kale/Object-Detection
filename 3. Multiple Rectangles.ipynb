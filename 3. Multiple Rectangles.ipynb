{
 "cells": [
  {
   "cell_type": "markdown",
   "metadata": {},
   "source": [
    "# Multiple Rectangles Detection"
   ]
  },
  {
   "cell_type": "markdown",
   "metadata": {},
   "source": [
    "## Import Packages"
   ]
  },
  {
   "cell_type": "code",
   "execution_count": 1,
   "metadata": {
    "ExecuteTime": {
     "end_time": "2016-07-11T02:31:23.705000",
     "start_time": "2016-07-11T02:31:23.164000"
    }
   },
   "outputs": [],
   "source": [
    "import numpy as np\n",
    "import matplotlib.pyplot as plt\n",
    "import matplotlib\n",
    "import math\n",
    "%matplotlib inline"
   ]
  },
  {
   "cell_type": "markdown",
   "metadata": {},
   "source": [
    "## Data Generation"
   ]
  },
  {
   "cell_type": "code",
   "execution_count": 11,
   "metadata": {
    "ExecuteTime": {
     "end_time": "2016-07-11T02:31:26.922000",
     "start_time": "2016-07-11T02:31:24.029000"
    }
   },
   "outputs": [
    {
     "data": {
      "text/plain": [
       "((60000, 10, 10), (60000, 3, 4))"
      ]
     },
     "execution_count": 11,
     "metadata": {},
     "output_type": "execute_result"
    }
   ],
   "source": [
    "num_imgs = 60000\n",
    "\n",
    "img_size = 10\n",
    "min_rect_size = 2\n",
    "max_rect_size = 5\n",
    "num_objects = 3\n",
    "\n",
    "bboxes = np.zeros((num_imgs, num_objects, 4))\n",
    "imgs = np.zeros((num_imgs, img_size, img_size))\n",
    "\n",
    "for i_img in range(num_imgs):\n",
    "    for i_object in range(num_objects):\n",
    "        width, height = np.random.randint(min_rect_size, max_rect_size, size = 2)\n",
    "        x = np.random.randint(0, img_size - width)\n",
    "        y = np.random.randint(0, img_size - height)\n",
    "        imgs[i_img, x:x + width, y:y + height] = 1.\n",
    "        bboxes[i_img, i_object] = [x, y, width, height]\n",
    "\n",
    "imgs.shape, bboxes.shape"
   ]
  },
  {
   "cell_type": "code",
   "execution_count": 3,
   "metadata": {
    "ExecuteTime": {
     "end_time": "2016-07-11T02:31:27.836000",
     "start_time": "2016-07-11T02:31:27.576000"
    },
    "scrolled": true
   },
   "outputs": [
    {
     "data": {
      "image/png": "[encoded data removed]",
      "text/plain": [
       "<Figure size 432x288 with 1 Axes>"
      ]
     },
     "metadata": {
      "needs_background": "light"
     },
     "output_type": "display_data"
    }
   ],
   "source": [
    "i = 5\n",
    "plt.imshow(imgs[i].T, cmap = 'Greys', interpolation = 'none', origin = 'lower', extent = [0, img_size, 0, img_size])\n",
    "for bbox in bboxes[i]:\n",
    "    plt.gca().add_patch(matplotlib.patches.Rectangle((bbox[0], bbox[1]), bbox[2], bbox[3], lw = 2, ec = 'r', fc = 'none'))\n",
    "plt.savefig('multiple-rectangles_data.png', dpi = 100)"
   ]
  },
  {
   "cell_type": "markdown",
   "metadata": {},
   "source": [
    "## Preprocessing"
   ]
  },
  {
   "cell_type": "code",
   "execution_count": 12,
   "metadata": {
    "ExecuteTime": {
     "end_time": "2016-07-11T02:31:29.292000",
     "start_time": "2016-07-11T02:31:29.159000"
    }
   },
   "outputs": [
    {
     "data": {
      "text/plain": [
       "((60000, 100), -2.484471887479837e-17, 1.0)"
      ]
     },
     "execution_count": 12,
     "metadata": {},
     "output_type": "execute_result"
    }
   ],
   "source": [
    "# Reshape and normalize the data to mean 0 and std 1.\n",
    "X = (imgs.reshape(num_imgs, -1) - np.mean(imgs)) / np.std(imgs)\n",
    "X.shape, np.mean(X), np.std(X)"
   ]
  },
  {
   "cell_type": "code",
   "execution_count": 13,
   "metadata": {
    "ExecuteTime": {
     "end_time": "2016-07-11T02:31:30.073000",
     "start_time": "2016-07-11T02:31:30.064000"
    }
   },
   "outputs": [
    {
     "data": {
      "text/plain": [
       "(60000, 12)"
      ]
     },
     "execution_count": 13,
     "metadata": {},
     "output_type": "execute_result"
    }
   ],
   "source": [
    "y = bboxes.reshape(num_imgs, -1) / img_size\n",
    "y.shape"
   ]
  },
  {
   "cell_type": "markdown",
   "metadata": {},
   "source": [
    "## Train Test Split"
   ]
  },
  {
   "cell_type": "code",
   "execution_count": 14,
   "metadata": {
    "ExecuteTime": {
     "end_time": "2016-07-11T02:31:31.033000",
     "start_time": "2016-07-11T02:31:31.028000"
    }
   },
   "outputs": [],
   "source": [
    "i = int(0.8 * num_imgs)\n",
    "train_X = X[:i]\n",
    "test_X = X[i:]\n",
    "train_y = y[:i]\n",
    "test_y = y[i:]\n",
    "test_imgs = imgs[i:]\n",
    "test_bboxes = bboxes[i:]"
   ]
  },
  {
   "cell_type": "markdown",
   "metadata": {},
   "source": [
    "## Model"
   ]
  },
  {
   "cell_type": "code",
   "execution_count": 15,
   "metadata": {
    "ExecuteTime": {
     "end_time": "2016-07-11T02:31:38.581000",
     "start_time": "2016-07-11T02:31:32.040000"
    }
   },
   "outputs": [
    {
     "name": "stdout",
     "output_type": "stream",
     "text": [
      "Model: \"sequential_1\"\n",
      "_________________________________________________________________\n",
      "Layer (type)                 Output Shape              Param #   \n",
      "=================================================================\n",
      "dense_2 (Dense)              (None, 256)               25856     \n",
      "_________________________________________________________________\n",
      "activation_1 (Activation)    (None, 256)               0         \n",
      "_________________________________________________________________\n",
      "dropout_1 (Dropout)          (None, 256)               0         \n",
      "_________________________________________________________________\n",
      "dense_3 (Dense)              (None, 12)                3084      \n",
      "=================================================================\n",
      "Total params: 28,940\n",
      "Trainable params: 28,940\n",
      "Non-trainable params: 0\n",
      "_________________________________________________________________\n"
     ]
    }
   ],
   "source": [
    "from keras.models import Sequential\n",
    "from keras.layers import Dense, Activation, Dropout\n",
    "from keras.callbacks import ModelCheckpoint\n",
    "from keras.optimizers import SGD\n",
    "from keras.models import load_model\n",
    "model = Sequential([\n",
    "        Dense(256, input_dim = X.shape[-1]), \n",
    "        Activation('relu'), \n",
    "        Dropout(0.6), \n",
    "        Dense(y.shape[-1])\n",
    "    ])\n",
    "model.compile(loss = 'mse', optimizer = 'adam')\n",
    "model.summary()"
   ]
  },
  {
   "cell_type": "markdown",
   "metadata": {},
   "source": [
    "## IoU Calculating Function"
   ]
  },
  {
   "cell_type": "code",
   "execution_count": 16,
   "metadata": {},
   "outputs": [],
   "source": [
    "def IOU(bbox1, bbox2):\n",
    "    '''Calculate overlap between two bounding boxes [x, y, w, h] as the area of intersection over the area of unity'''\n",
    "    x1, y1, w1, h1 = bbox1[0], bbox1[1], bbox1[2], bbox1[3]  # TODO: Check if its more performant if tensor elements are accessed directly below.\n",
    "    x2, y2, w2, h2 = bbox2[0], bbox2[1], bbox2[2], bbox2[3]\n",
    "\n",
    "    w_I = min(x1 + w1, x2 + w2) - max(x1, x2)\n",
    "    h_I = min(y1 + h1, y2 + h2) - max(y1, y2)\n",
    "    if w_I <= 0 or h_I <= 0:  # no overlap\n",
    "        return 0\n",
    "    I = w_I * h_I\n",
    "\n",
    "    U = w1 * h1 + w2 * h2 - I\n",
    "\n",
    "    return I / U"
   ]
  },
  {
   "cell_type": "markdown",
   "metadata": {},
   "source": [
    "## Distance Calculating function"
   ]
  },
  {
   "cell_type": "code",
   "execution_count": 17,
   "metadata": {},
   "outputs": [],
   "source": [
    "def distance(bbox1, bbox2):\n",
    "    return np.sqrt(np.sum(np.square(bbox1[:2] - bbox2[:2])))"
   ]
  },
  {
   "cell_type": "markdown",
   "metadata": {},
   "source": [
    "## Training"
   ]
  },
  {
   "cell_type": "code",
   "execution_count": 18,
   "metadata": {
    "ExecuteTime": {
     "end_time": "2016-07-11T02:49:39.783000",
     "start_time": "2016-07-11T02:31:48.430000"
    },
    "code_folding": [
     2,
     17
    ],
    "scrolled": false
   },
   "outputs": [
    {
     "name": "stdout",
     "output_type": "stream",
     "text": [
      "Epoch  0\n",
      "1500/1500 [==============================] - 1s 883us/step - loss: 0.0506 - val_loss: 0.0193\n",
      "Switched 81.11041666666667 % of all elements\n",
      "Mean IOU: 0.1788553277502246\n",
      "Mean dist: 0.2266466977372695\n",
      "Mean mse: 0.018633963872696162\n",
      "Epoch  1\n",
      "1500/1500 [==============================] - 1s 847us/step - loss: 0.0190 - val_loss: 0.0197\n",
      "Switched 51.03333333333333 % of all elements\n",
      "Mean IOU: 0.2284130780107691\n",
      "Mean dist: 0.19944021532773962\n",
      "Mean mse: 0.015596832524519587\n",
      "Epoch  2\n",
      "1500/1500 [==============================] - 1s 903us/step - loss: 0.0159 - val_loss: 0.0219\n",
      "Switched 35.31458333333333 % of all elements\n",
      "Mean IOU: 0.30824813344678287\n",
      "Mean dist: 0.16333723108088216\n",
      "Mean mse: 0.011998930992022564\n",
      "Epoch  3\n",
      "1500/1500 [==============================] - 2s 1ms/step - loss: 0.0131 - val_loss: 0.0244\n",
      "Switched 21.122916666666665 % of all elements\n",
      "Mean IOU: 0.37471640558568187\n",
      "Mean dist: 0.1330088873768464\n",
      "Mean mse: 0.009328753664075191\n",
      "Epoch  4\n",
      "1500/1500 [==============================] - 1s 831us/step - loss: 0.0111 - val_loss: 0.0252\n",
      "Switched 12.714583333333335 % of all elements\n",
      "Mean IOU: 0.4043484179503762\n",
      "Mean dist: 0.12203630489469078\n",
      "Mean mse: 0.008374796511320592\n",
      "Epoch  5\n",
      "1500/1500 [==============================] - 1s 845us/step - loss: 0.0104 - val_loss: 0.0257\n",
      "Switched 9.772916666666667 % of all elements\n",
      "Mean IOU: 0.41530807629770977\n",
      "Mean dist: 0.11598395410855672\n",
      "Mean mse: 0.007757391795713622\n",
      "Epoch  6\n",
      "1500/1500 [==============================] - 2s 1ms/step - loss: 0.0099 - val_loss: 0.0265\n",
      "Switched 8.9625 % of all elements\n",
      "Mean IOU: 0.4353404053950012\n",
      "Mean dist: 0.10980785373496386\n",
      "Mean mse: 0.007339327869323095\n",
      "Epoch  7\n",
      "1500/1500 [==============================] - 1s 932us/step - loss: 0.0095 - val_loss: 0.0265\n",
      "Switched 10.347916666666666 % of all elements\n",
      "Mean IOU: 0.4415420381619645\n",
      "Mean dist: 0.10678067898073285\n",
      "Mean mse: 0.007008611179008015\n",
      "Epoch  8\n",
      "1500/1500 [==============================] - 1s 873us/step - loss: 0.0093 - val_loss: 0.0274\n",
      "Switched 8.177083333333334 % of all elements\n",
      "Mean IOU: 0.45092026989831907\n",
      "Mean dist: 0.1036483765293744\n",
      "Mean mse: 0.0068462055505090465\n",
      "Epoch  9\n",
      "1500/1500 [==============================] - 1s 824us/step - loss: 0.0091 - val_loss: 0.0265\n",
      "Switched 7.814583333333333 % of all elements\n",
      "Mean IOU: 0.4556218278044542\n",
      "Mean dist: 0.1018832752566877\n",
      "Mean mse: 0.006663427795061864\n",
      "Epoch  10\n",
      "1500/1500 [==============================] - 3s 2ms/step - loss: 0.0090 - val_loss: 0.0273\n",
      "Switched 8.779166666666667 % of all elements\n",
      "Mean IOU: 0.45700086952130564\n",
      "Mean dist: 0.10212342839614312\n",
      "Mean mse: 0.006720478277359015\n",
      "Epoch  11\n",
      "1500/1500 [==============================] - 2s 1ms/step - loss: 0.0090 - val_loss: 0.0267\n",
      "Switched 8.079166666666666 % of all elements\n",
      "Mean IOU: 0.46419606689054377\n",
      "Mean dist: 0.09981347629725881\n",
      "Mean mse: 0.006578086084089772\n",
      "Epoch  12\n",
      "1500/1500 [==============================] - 3s 2ms/step - loss: 0.0089 - val_loss: 0.0265\n",
      "Switched 7.629166666666666 % of all elements\n",
      "Mean IOU: 0.4651152356660666\n",
      "Mean dist: 0.10001434374660612\n",
      "Mean mse: 0.006503545165470527\n",
      "Epoch  13\n",
      "1500/1500 [==============================] - 1s 855us/step - loss: 0.0088 - val_loss: 0.0271\n",
      "Switched 8.058333333333334 % of all elements\n",
      "Mean IOU: 0.45693235381692976\n",
      "Mean dist: 0.10098379045171178\n",
      "Mean mse: 0.006543385323230529\n",
      "Epoch  14\n",
      "1500/1500 [==============================] - 1s 926us/step - loss: 0.0088 - val_loss: 0.0270\n",
      "Switched 7.039583333333334 % of all elements\n",
      "Mean IOU: 0.4564948350151052\n",
      "Mean dist: 0.10011232627201765\n",
      "Mean mse: 0.006471026424514265\n",
      "Epoch  15\n",
      "1500/1500 [==============================] - 1s 849us/step - loss: 0.0088 - val_loss: 0.0272\n",
      "Switched 8.375 % of all elements\n",
      "Mean IOU: 0.46473651292066037\n",
      "Mean dist: 0.0989338212881284\n",
      "Mean mse: 0.0064636512341888375\n",
      "Epoch  16\n",
      "1500/1500 [==============================] - 2s 1ms/step - loss: 0.0088 - val_loss: 0.0270\n",
      "Switched 7.835416666666667 % of all elements\n",
      "Mean IOU: 0.45783413001835305\n",
      "Mean dist: 0.09966502611335729\n",
      "Mean mse: 0.0064119541036932615\n",
      "Epoch  17\n",
      "1500/1500 [==============================] - 2s 1ms/step - loss: 0.0088 - val_loss: 0.0269\n",
      "Switched 7.0375 % of all elements\n",
      "Mean IOU: 0.4568021801579823\n",
      "Mean dist: 0.10064946655914764\n",
      "Mean mse: 0.006452596991390375\n",
      "Epoch  18\n",
      "1500/1500 [==============================] - 1s 848us/step - loss: 0.0087 - val_loss: 0.0267\n",
      "Switched 6.8062499999999995 % of all elements\n",
      "Mean IOU: 0.4668800894858656\n",
      "Mean dist: 0.0968199012177767\n",
      "Mean mse: 0.006244080589047459\n",
      "Epoch  19\n",
      "1500/1500 [==============================] - 2s 1ms/step - loss: 0.0087 - val_loss: 0.0265\n",
      "Switched 7.264583333333334 % of all elements\n",
      "Mean IOU: 0.4606858523118229\n",
      "Mean dist: 0.09767859669436643\n",
      "Mean mse: 0.00626824252703666\n",
      "Epoch  20\n",
      "1500/1500 [==============================] - 1s 810us/step - loss: 0.0087 - val_loss: 0.0269\n",
      "Switched 6.679166666666666 % of all elements\n",
      "Mean IOU: 0.46437498689775913\n",
      "Mean dist: 0.09755923427383462\n",
      "Mean mse: 0.0062718141693380025\n",
      "Epoch  21\n",
      "1500/1500 [==============================] - 1s 828us/step - loss: 0.0087 - val_loss: 0.0271\n",
      "Switched 6.322916666666667 % of all elements\n",
      "Mean IOU: 0.46997727863511635\n",
      "Mean dist: 0.09704062965857614\n",
      "Mean mse: 0.0062591739736223215\n",
      "Epoch  22\n",
      "1500/1500 [==============================] - 2s 1ms/step - loss: 0.0086 - val_loss: 0.0269\n",
      "Switched 6.147916666666667 % of all elements\n",
      "Mean IOU: 0.45985248581809574\n",
      "Mean dist: 0.09886746197084124\n",
      "Mean mse: 0.006304794172045272\n",
      "Epoch  23\n",
      "1500/1500 [==============================] - 2s 1ms/step - loss: 0.0086 - val_loss: 0.0269\n",
      "Switched 7.083333333333333 % of all elements\n",
      "Mean IOU: 0.45959253830618946\n",
      "Mean dist: 0.09960757383620773\n",
      "Mean mse: 0.006338803347948395\n",
      "Epoch  24\n",
      "1500/1500 [==============================] - 1s 812us/step - loss: 0.0087 - val_loss: 0.0265\n",
      "Switched 7.060416666666666 % of all elements\n",
      "Mean IOU: 0.4569386259265421\n",
      "Mean dist: 0.10129634478210858\n",
      "Mean mse: 0.006412629234964526\n",
      "Epoch  25\n",
      "1500/1500 [==============================] - 2s 1ms/step - loss: 0.0086 - val_loss: 0.0272\n",
      "Switched 7.6125 % of all elements\n",
      "Mean IOU: 0.4662293473317369\n",
      "Mean dist: 0.09707586622290616\n",
      "Mean mse: 0.006207111275801962\n",
      "Epoch  26\n",
      "1500/1500 [==============================] - 1s 887us/step - loss: 0.0086 - val_loss: 0.0266\n",
      "Switched 7.48125 % of all elements\n",
      "Mean IOU: 0.46248165642286926\n",
      "Mean dist: 0.09909615624209193\n",
      "Mean mse: 0.006318803828095102\n",
      "Epoch  27\n",
      "1500/1500 [==============================] - 1s 808us/step - loss: 0.0086 - val_loss: 0.0271\n",
      "Switched 7.483333333333333 % of all elements\n",
      "Mean IOU: 0.4574833183636033\n",
      "Mean dist: 0.09965426183091818\n",
      "Mean mse: 0.006318175522495146\n",
      "Epoch  28\n",
      "1500/1500 [==============================] - 1s 827us/step - loss: 0.0086 - val_loss: 0.0270\n",
      "Switched 6.927083333333334 % of all elements\n",
      "Mean IOU: 0.46649198475100273\n",
      "Mean dist: 0.09746287077233905\n",
      "Mean mse: 0.00618536887822637\n",
      "Epoch  29\n",
      "1500/1500 [==============================] - 2s 1ms/step - loss: 0.0086 - val_loss: 0.0268\n",
      "Switched 7.9312499999999995 % of all elements\n",
      "Mean IOU: 0.453099427048947\n",
      "Mean dist: 0.10199140038013087\n",
      "Mean mse: 0.006480707938059658\n",
      "Epoch  30\n",
      "1500/1500 [==============================] - 1s 845us/step - loss: 0.0086 - val_loss: 0.0262\n",
      "Switched 7.35 % of all elements\n",
      "Mean IOU: 0.45781307533469506\n",
      "Mean dist: 0.10093283263060762\n",
      "Mean mse: 0.00632585678234531\n",
      "Epoch  31\n",
      "1500/1500 [==============================] - 1s 829us/step - loss: 0.0086 - val_loss: 0.0269\n",
      "Switched 6.7625 % of all elements\n",
      "Mean IOU: 0.46843379396768176\n",
      "Mean dist: 0.09750972504853603\n",
      "Mean mse: 0.006205826748932081\n",
      "Epoch  32\n",
      "1500/1500 [==============================] - 1s 876us/step - loss: 0.0086 - val_loss: 0.0271\n",
      "Switched 7.066666666666667 % of all elements\n",
      "Mean IOU: 0.4655807184387233\n",
      "Mean dist: 0.09607264765814129\n",
      "Mean mse: 0.006071484654895605\n",
      "Epoch  33\n",
      "1500/1500 [==============================] - 1s 866us/step - loss: 0.0085 - val_loss: 0.0268\n",
      "Switched 7.3 % of all elements\n",
      "Mean IOU: 0.46055764768382224\n",
      "Mean dist: 0.09916050391520162\n",
      "Mean mse: 0.0062615199555484825\n",
      "Epoch  34\n",
      "1500/1500 [==============================] - 1s 840us/step - loss: 0.0086 - val_loss: 0.0271\n",
      "Switched 6.404166666666667 % of all elements\n",
      "Mean IOU: 0.46913265729457015\n",
      "Mean dist: 0.09803294158437789\n",
      "Mean mse: 0.006225886912117449\n",
      "Epoch  35\n"
     ]
    },
    {
     "name": "stdout",
     "output_type": "stream",
     "text": [
      "1500/1500 [==============================] - 1s 868us/step - loss: 0.0085 - val_loss: 0.0273\n",
      "Switched 6.79375 % of all elements\n",
      "Mean IOU: 0.4631465986574121\n",
      "Mean dist: 0.09794288360092568\n",
      "Mean mse: 0.006208275456729079\n",
      "Epoch  36\n",
      "1500/1500 [==============================] - 1s 857us/step - loss: 0.0085 - val_loss: 0.0266\n",
      "Switched 6.875000000000001 % of all elements\n",
      "Mean IOU: 0.46870230236502386\n",
      "Mean dist: 0.09706270682308427\n",
      "Mean mse: 0.006175470682087787\n",
      "Epoch  37\n",
      "1500/1500 [==============================] - 1s 830us/step - loss: 0.0086 - val_loss: 0.0265\n",
      "Switched 7.187499999999999 % of all elements\n",
      "Mean IOU: 0.46743953281863937\n",
      "Mean dist: 0.09796915322370638\n",
      "Mean mse: 0.0061337921773013055\n",
      "Epoch  38\n",
      "1500/1500 [==============================] - 1s 833us/step - loss: 0.0085 - val_loss: 0.0270\n",
      "Switched 6.6083333333333325 % of all elements\n",
      "Mean IOU: 0.46180806904197885\n",
      "Mean dist: 0.09918265611084173\n",
      "Mean mse: 0.006282938315217732\n",
      "Epoch  39\n",
      "1500/1500 [==============================] - 1s 825us/step - loss: 0.0085 - val_loss: 0.0272\n",
      "Switched 6.564583333333333 % of all elements\n",
      "Mean IOU: 0.47117154586197013\n",
      "Mean dist: 0.09632673595295743\n",
      "Mean mse: 0.006062208722111852\n",
      "Epoch  40\n",
      "1500/1500 [==============================] - 1s 813us/step - loss: 0.0085 - val_loss: 0.0268\n",
      "Switched 6.4375 % of all elements\n",
      "Mean IOU: 0.4691086145876754\n",
      "Mean dist: 0.09623180532870629\n",
      "Mean mse: 0.006063590150689338\n",
      "Epoch  41\n",
      "1500/1500 [==============================] - 1s 941us/step - loss: 0.0085 - val_loss: 0.0265\n",
      "Switched 6.364583333333333 % of all elements\n",
      "Mean IOU: 0.4576057461321151\n",
      "Mean dist: 0.10052405237399932\n",
      "Mean mse: 0.0063068931753875665\n",
      "Epoch  42\n",
      "1500/1500 [==============================] - 1s 989us/step - loss: 0.0085 - val_loss: 0.0270\n",
      "Switched 6.739583333333334 % of all elements\n",
      "Mean IOU: 0.46534861456854293\n",
      "Mean dist: 0.09748055797208569\n",
      "Mean mse: 0.006129235668544922\n",
      "Epoch  43\n",
      "1500/1500 [==============================] - 1s 811us/step - loss: 0.0085 - val_loss: 0.0272\n",
      "Switched 6.810416666666666 % of all elements\n",
      "Mean IOU: 0.4733623639342959\n",
      "Mean dist: 0.09512449132166582\n",
      "Mean mse: 0.006042460324216886\n",
      "Epoch  44\n",
      "1500/1500 [==============================] - 1s 995us/step - loss: 0.0085 - val_loss: 0.0271\n",
      "Switched 6.635416666666667 % of all elements\n",
      "Mean IOU: 0.4666876050794039\n",
      "Mean dist: 0.09783856437137255\n",
      "Mean mse: 0.006147660313097045\n",
      "Epoch  45\n",
      "1500/1500 [==============================] - 1s 865us/step - loss: 0.0085 - val_loss: 0.0268\n",
      "Switched 6.50625 % of all elements\n",
      "Mean IOU: 0.47240015934142515\n",
      "Mean dist: 0.09647877520667612\n",
      "Mean mse: 0.0060979729678916975\n",
      "Epoch  46\n",
      "1500/1500 [==============================] - 1s 808us/step - loss: 0.0085 - val_loss: 0.0271\n",
      "Switched 6.59375 % of all elements\n",
      "Mean IOU: 0.4691143829896189\n",
      "Mean dist: 0.09683153952684051\n",
      "Mean mse: 0.006097730578511299\n",
      "Epoch  47\n",
      "1500/1500 [==============================] - 1s 821us/step - loss: 0.0085 - val_loss: 0.0267\n",
      "Switched 6.054166666666667 % of all elements\n",
      "Mean IOU: 0.47287155971400435\n",
      "Mean dist: 0.09670992494576901\n",
      "Mean mse: 0.0061024034531205985\n",
      "Epoch  48\n",
      "1500/1500 [==============================] - 1s 814us/step - loss: 0.0085 - val_loss: 0.0265\n",
      "Switched 6.0 % of all elements\n",
      "Mean IOU: 0.4726091114882322\n",
      "Mean dist: 0.09605594405792447\n",
      "Mean mse: 0.005999768689030197\n",
      "Epoch  49\n",
      "1500/1500 [==============================] - 1s 818us/step - loss: 0.0085 - val_loss: 0.0271\n",
      "Switched 6.066666666666666 % of all elements\n",
      "Mean IOU: 0.46800418127414894\n",
      "Mean dist: 0.09546913304154149\n",
      "Mean mse: 0.00604571158417051\n"
     ]
    }
   ],
   "source": [
    "from itertools import permutations\n",
    "num_epochs = 50\n",
    "fact = math.factorial(num_objects)\n",
    "\n",
    "switched_train_y = np.array(train_y)\n",
    "switched = np.zeros((len(switched_train_y), num_epochs))\n",
    "ious_epochs = np.zeros((len(switched_train_y), num_epochs))\n",
    "dists_epochs = np.zeros((len(switched_train_y), num_epochs))\n",
    "mses_epochs = np.zeros((len(switched_train_y), num_epochs))\n",
    "\n",
    "for epoch in range(num_epochs):\n",
    "    print('Epoch ', epoch)\n",
    "    model.fit(train_X, switched_train_y, epochs = 1, validation_data = (test_X, test_y), verbose = 1, \n",
    "              callbacks = [ModelCheckpoint('Multiple_Rectangles_model.h5', \n",
    "                                           monitor = 'val_loss',\n",
    "                                           save_best_only = True)])\n",
    "    pred_y = model.predict(train_X)\n",
    "    \n",
    "    for i, (pred_bboxes, exp_bboxes) in enumerate(zip(pred_y, switched_train_y)):\n",
    "        \n",
    "        pred_bboxes = pred_bboxes.reshape(num_objects, -1)\n",
    "        exp_bboxes = exp_bboxes.reshape(num_objects, -1)\n",
    "        \n",
    "        p_exp_bboxes = list(permutations(exp_bboxes))\n",
    "        ious = np.zeros((fact, num_objects))\n",
    "        dists = np.zeros((fact, num_objects))\n",
    "        mses = np.zeros((fact, num_objects))\n",
    "        p_ious = np.zeros(fact)\n",
    "        p_mses = np.zeros(fact)\n",
    "        p_dists = np.zeros(fact)\n",
    "        \n",
    "        for j, exp_bboxes in enumerate(p_exp_bboxes):\n",
    "            exp_bboxes = list(exp_bboxes) \n",
    "            for k in range(num_objects):\n",
    "                ious[j, k] = IOU(exp_bboxes[k], pred_bboxes[k])\n",
    "                dists[j, k] = distance(exp_bboxes[k], pred_bboxes[k])\n",
    "                mses[j, k] = np.mean(np.square(exp_bboxes[k] - pred_bboxes[k]))\n",
    "            p_ious[j] = sum(ious[j, :])\n",
    "            p_dists[j] = sum(dists[j, :])\n",
    "            p_mses[j] = sum(mses[j, :])\n",
    "            \n",
    "        keymax = p_ious.argmax()\n",
    "        ious_epochs[i, epoch] += p_ious[keymax] / num_objects\n",
    "        dists_epochs[i, epoch] += p_dists[keymax] / num_objects\n",
    "        mses_epochs[i, epoch] += p_mses[keymax] / num_objects\n",
    "        \n",
    "        switched_train_y[i] = np.array(p_exp_bboxes[keymax]).flatten()\n",
    "        if keymax != 0:\n",
    "            switched[i, epoch] = 1.\n",
    "    \n",
    "    print('Switched {} % of all elements'.format(np.mean(switched[:, epoch]) * 100.))\n",
    "    print('Mean IOU: {}'.format(np.mean(ious_epochs[:, epoch])))\n",
    "    print('Mean dist: {}'.format(np.mean(dists_epochs[:, epoch])))\n",
    "    print('Mean mse: {}'.format(np.mean(mses_epochs[:, epoch])))"
   ]
  },
  {
   "cell_type": "markdown",
   "metadata": {},
   "source": [
    "## Switching Track"
   ]
  },
  {
   "cell_type": "code",
   "execution_count": 19,
   "metadata": {
    "ExecuteTime": {
     "end_time": "2016-07-03T16:51:28.611000",
     "start_time": "2016-07-03T16:51:25.540000"
    },
    "scrolled": true
   },
   "outputs": [
    {
     "data": {
      "image/png": "[encoded data removed]",
      "text/plain": [
       "<Figure size 432x288 with 1 Axes>"
      ]
     },
     "metadata": {
      "needs_background": "light"
     },
     "output_type": "display_data"
    }
   ],
   "source": [
    "# Show switchings for a few training samples.\n",
    "plt.pcolormesh(switched[:, :], cmap = 'Greys')\n",
    "plt.xlabel('Epoch')\n",
    "plt.ylabel('Training sample')\n",
    "plt.savefig('multiple-rectangles_switches.png', dpi = 100)\n",
    "plt.show()"
   ]
  },
  {
   "cell_type": "markdown",
   "metadata": {},
   "source": [
    "## Metrics Track"
   ]
  },
  {
   "cell_type": "code",
   "execution_count": 20,
   "metadata": {
    "ExecuteTime": {
     "end_time": "2016-07-03T16:51:37.618000",
     "start_time": "2016-07-03T16:51:37.062000"
    }
   },
   "outputs": [
    {
     "data": {
      "image/png": "[encoded data removed]",
      "text/plain": [
       "<Figure size 432x288 with 1 Axes>"
      ]
     },
     "metadata": {
      "needs_background": "light"
     },
     "output_type": "display_data"
    }
   ],
   "source": [
    "# Plot metrics on the training data.\n",
    "mean_ious_epoch = np.mean(ious_epochs, axis = 0)\n",
    "mean_dists_epoch = np.mean(dists_epochs, axis = 0)\n",
    "mean_mses_epoch = np.mean(mses_epochs, axis = 0)\n",
    "plt.plot(mean_ious_epoch, label = 'Mean IOU')  # between predicted and assigned true bboxes\n",
    "plt.plot(mean_dists_epoch, label = 'Mean distance')  # relative to image size\n",
    "plt.plot(mean_mses_epoch, label = 'Mean mse')\n",
    "plt.annotate(np.round(np.max(mean_ious_epoch), 3), (len(mean_ious_epoch) - 1, mean_ious_epoch[-1] + 0.02), horizontalalignment = 'right', color = 'b')\n",
    "plt.annotate(np.round(np.min(mean_dists_epoch), 3), (len(mean_dists_epoch) - 1, mean_dists_epoch[-1] + 0.02), horizontalalignment = 'right', color = 'g')\n",
    "plt.annotate(np.round(np.min(mean_mses_epoch), 3), (len(mean_mses_epoch) - 1, mean_mses_epoch[-1] + 0.02), horizontalalignment = 'right', color = 'r')\n",
    "\n",
    "plt.xlabel('Epoch')\n",
    "# Hide y tick\n",
    "ax = plt.gca()\n",
    "ax.axes.yaxis.set_visible(False)\n",
    "\n",
    "plt.legend()\n",
    "plt.ylim(0, 0.8)\n",
    "plt.savefig('training_metrics.png', dpi = 100)"
   ]
  },
  {
   "cell_type": "markdown",
   "metadata": {},
   "source": [
    "## Denormalize Data"
   ]
  },
  {
   "cell_type": "code",
   "execution_count": 21,
   "metadata": {
    "ExecuteTime": {
     "end_time": "2016-07-03T16:34:24.949000",
     "start_time": "2016-07-03T16:34:24.511000"
    }
   },
   "outputs": [
    {
     "data": {
      "text/plain": [
       "(12000, 3, 4)"
      ]
     },
     "execution_count": 21,
     "metadata": {},
     "output_type": "execute_result"
    }
   ],
   "source": [
    "pred_y = model.predict(test_X)\n",
    "pred_bboxes = pred_y * img_size\n",
    "pred_bboxes = pred_bboxes.reshape(len(pred_bboxes), num_objects, -1)\n",
    "pred_bboxes.shape"
   ]
  },
  {
   "cell_type": "markdown",
   "metadata": {},
   "source": [
    "## Visualize Results"
   ]
  },
  {
   "cell_type": "code",
   "execution_count": 22,
   "metadata": {
    "ExecuteTime": {
     "end_time": "2016-07-03T16:34:55.948000",
     "start_time": "2016-07-03T16:34:54.428000"
    },
    "scrolled": false
   },
   "outputs": [
    {
     "data": {
      "image/png": "[encoded data removed]",
      "text/plain": [
       "<Figure size 864x216 with 4 Axes>"
      ]
     },
     "metadata": {
      "needs_background": "light"
     },
     "output_type": "display_data"
    }
   ],
   "source": [
    "plt.figure(figsize = (12, 3))\n",
    "for i_subplot in range(1, 5):\n",
    "    plt.subplot(1, 4, i_subplot)\n",
    "    i = np.random.randint(len(test_X))\n",
    "    plt.imshow(test_imgs[i].T, cmap = 'Greys', interpolation = 'none', origin = 'lower', extent = [0, img_size, 0, img_size])\n",
    "    for pred_bbox, exp_bbox in zip(pred_bboxes[i], test_bboxes[i]):\n",
    "        plt.gca().add_patch(matplotlib.patches.Rectangle((pred_bbox[0], pred_bbox[1]), pred_bbox[2], pred_bbox[3], lw = 2, ec = 'r', fc = 'none'))\n",
    "        # TODO: Calculate max IOU with all expected bounding boxes.\n",
    "#         plt.annotate('IOU: {:.2f}'.format(IOU(pred_bbox, exp_bbox)), (pred_bbox[0], pred_bbox[1]+pred_bbox[3]+0.4), color='r')\n",
    "\n",
    "plt.savefig('multiple-rectangles_with-switching.png', dpi = 100)"
   ]
  },
  {
   "cell_type": "markdown",
   "metadata": {},
   "source": [
    "## Overall Assessment"
   ]
  },
  {
   "cell_type": "code",
   "execution_count": 23,
   "metadata": {},
   "outputs": [
    {
     "name": "stdout",
     "output_type": "stream",
     "text": [
      "IoU: 0.4654082235451728\n",
      "Distance: 0.09664215779995443\n",
      "MSE: 0.0061412154516344635\n"
     ]
    }
   ],
   "source": [
    "from keras.models import load_model\n",
    "from itertools import permutations\n",
    "fact = math.factorial(num_objects)\n",
    "model_test = load_model('Multiple_Rectangles_model.h5')\n",
    "pred_y = model_test.predict(test_X)\n",
    "sum_iou = 0.\n",
    "sum_dist = 0.\n",
    "sum_mse = 0.\n",
    "test_y = np.array(test_y)\n",
    "\n",
    "for pred_bboxes, test_bboxes in zip(pred_y, test_y):\n",
    "    \n",
    "    pred_bboxes = pred_bboxes.reshape(num_objects, -1)\n",
    "    test_bboxes = test_bboxes.reshape(num_objects, -1)\n",
    "    \n",
    "    p_test_bboxes = list(permutations(test_bboxes))\n",
    "    p_ious = np.zeros(fact)\n",
    "    p_dists = np.zeros(fact)\n",
    "    p_mses = np.zeros(fact)\n",
    "    ious = np.zeros((fact, num_objects))\n",
    "    dists = np.zeros((fact, num_objects))\n",
    "    mses = np.zeros((fact, num_objects))\n",
    "    \n",
    "    for j, test_bboxes in enumerate(p_test_bboxes):\n",
    "        test_bboxes = list(test_bboxes) \n",
    "        for k in range(num_objects):\n",
    "            ious[j, k] = IOU(test_bboxes[k], pred_bboxes[k])\n",
    "            dists[j, k] = distance(test_bboxes[k], pred_bboxes[k])\n",
    "            mses[j, k] = np.mean(np.square(test_bboxes[k] - pred_bboxes[k]))\n",
    "        p_ious[j] = sum(ious[j, :])\n",
    "        p_dists[j] = sum(dists[j, :])\n",
    "        p_mses[j] = sum(mses[j, :])\n",
    "            \n",
    "    keymax = p_ious.argmax()\n",
    "    sum_iou += p_ious[keymax] \n",
    "    sum_dist += p_dists[keymax] \n",
    "    sum_mse += p_mses[keymax] \n",
    "\n",
    "mean_iou = sum_iou / (num_objects * len(pred_y))\n",
    "mean_dist = sum_dist / (num_objects * len(pred_y))\n",
    "mean_mse = sum_mse / (num_objects * len(pred_y))\n",
    "print('IoU:', mean_iou)\n",
    "print('Distance:', mean_dist)\n",
    "print('MSE:', mean_mse)"
   ]
  },
  {
   "cell_type": "code",
   "execution_count": null,
   "metadata": {},
   "outputs": [],
   "source": []
  }
 ],
 "metadata": {
  "kernelspec": {
   "display_name": "Python 3",
   "language": "python",
   "name": "python3"
  },
  "language_info": {
   "codemirror_mode": {
    "name": "ipython",
    "version": 3
   },
   "file_extension": ".py",
   "mimetype": "text/x-python",
   "name": "python",
   "nbconvert_exporter": "python",
   "pygments_lexer": "ipython3",
   "version": "3.8.3"
  }
 },
 "nbformat": 4,
 "nbformat_minor": 1
}
