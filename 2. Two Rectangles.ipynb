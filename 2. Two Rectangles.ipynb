{
 "cells": [
  {
   "cell_type": "markdown",
   "metadata": {},
   "source": [
    "# Two Rectangles Detection"
   ]
  },
  {
   "cell_type": "markdown",
   "metadata": {},
   "source": [
    "## Import Packages"
   ]
  },
  {
   "cell_type": "code",
   "execution_count": 1,
   "metadata": {},
   "outputs": [],
   "source": [
    "import numpy as np\n",
    "import matplotlib.pyplot as plt\n",
    "import matplotlib\n",
    "%matplotlib inline"
   ]
  },
  {
   "cell_type": "markdown",
   "metadata": {},
   "source": [
    "## Data Generation"
   ]
  },
  {
   "cell_type": "code",
   "execution_count": 2,
   "metadata": {},
   "outputs": [
    {
     "data": {
      "text/plain": [
       "((50000, 8, 8), (50000, 2, 4))"
      ]
     },
     "execution_count": 2,
     "metadata": {},
     "output_type": "execute_result"
    }
   ],
   "source": [
    "# Create images with random rectangles and bounding boxes. \n",
    "num_imgs = 50000\n",
    "\n",
    "img_size = 8\n",
    "min_rect_size = 1\n",
    "max_rect_size = 4\n",
    "num_objects = 2\n",
    "\n",
    "bboxes = np.zeros((num_imgs, num_objects, 4))\n",
    "imgs = np.zeros((num_imgs, img_size, img_size))\n",
    "\n",
    "for i_img in range(num_imgs):\n",
    "    for i_object in range(num_objects):\n",
    "        w, h = np.random.randint(min_rect_size, max_rect_size, size = 2)\n",
    "        x = np.random.randint(0, img_size - w)\n",
    "        y = np.random.randint(0, img_size - h)\n",
    "        imgs[i_img, x:x + w, y:y + h] = 1.\n",
    "        bboxes[i_img, i_object] = [x, y, w, h]\n",
    "        \n",
    "imgs.shape, bboxes.shape"
   ]
  },
  {
   "cell_type": "code",
   "execution_count": 3,
   "metadata": {
    "scrolled": true
   },
   "outputs": [
    {
     "data": {
      "image/png": "[encoded data removed]",
      "text/plain": [
       "<Figure size 432x288 with 1 Axes>"
      ]
     },
     "metadata": {
      "needs_background": "light"
     },
     "output_type": "display_data"
    }
   ],
   "source": [
    "i = 0\n",
    "plt.imshow(imgs[i].T, cmap = 'Greys', interpolation = 'none', origin = 'lower', extent = [0, img_size, 0, img_size])\n",
    "for bbox in bboxes[i]:\n",
    "    plt.gca().add_patch(matplotlib.patches.Rectangle((bbox[0], bbox[1]), bbox[2], bbox[3], lw = 2, ec = 'r', fc = 'none'))\n",
    "plt.savefig('two-rectangles_data.png', dpi = 100)"
   ]
  },
  {
   "cell_type": "markdown",
   "metadata": {},
   "source": [
    "## Preprocessing"
   ]
  },
  {
   "cell_type": "code",
   "execution_count": 4,
   "metadata": {},
   "outputs": [
    {
     "data": {
      "text/plain": [
       "((50000, 64), 2.058686554562428e-17, 0.9999999999999999)"
      ]
     },
     "execution_count": 4,
     "metadata": {},
     "output_type": "execute_result"
    }
   ],
   "source": [
    "# Reshape and normalize the data to mean 0 and std 1. \n",
    "X = (imgs.reshape(num_imgs, -1) - np.mean(imgs)) / np.std(imgs)\n",
    "X.shape, np.mean(X), np.std(X)"
   ]
  },
  {
   "cell_type": "code",
   "execution_count": 5,
   "metadata": {},
   "outputs": [
    {
     "data": {
      "text/plain": [
       "((50000, 8), 0.28113, 0.17514030439907313)"
      ]
     },
     "execution_count": 5,
     "metadata": {},
     "output_type": "execute_result"
    }
   ],
   "source": [
    "# Normalize x, y, w, h by img_size, so that all values are between 0 and 1.\n",
    "# Important: Do not shift to negative values (e.g. by setting to mean 0), because the IOU calculation needs positive w and h.\n",
    "y = bboxes.reshape(num_imgs, -1) / img_size\n",
    "y.shape, np.mean(y), np.std(y)"
   ]
  },
  {
   "cell_type": "markdown",
   "metadata": {},
   "source": [
    "## Train Test Split"
   ]
  },
  {
   "cell_type": "code",
   "execution_count": 6,
   "metadata": {},
   "outputs": [],
   "source": [
    "# Split training and test.\n",
    "i = int(0.8 * num_imgs)\n",
    "train_X = X[:i]\n",
    "test_X = X[i:]\n",
    "train_y = y[:i]\n",
    "test_y = y[i:]\n",
    "test_imgs = imgs[i:]\n",
    "test_bboxes = bboxes[i:]"
   ]
  },
  {
   "cell_type": "markdown",
   "metadata": {},
   "source": [
    "## Model"
   ]
  },
  {
   "cell_type": "code",
   "execution_count": 7,
   "metadata": {
    "scrolled": false
   },
   "outputs": [
    {
     "name": "stdout",
     "output_type": "stream",
     "text": [
      "Model: \"sequential\"\n",
      "_________________________________________________________________\n",
      "Layer (type)                 Output Shape              Param #   \n",
      "=================================================================\n",
      "dense (Dense)                (None, 256)               16640     \n",
      "_________________________________________________________________\n",
      "activation (Activation)      (None, 256)               0         \n",
      "_________________________________________________________________\n",
      "dropout (Dropout)            (None, 256)               0         \n",
      "_________________________________________________________________\n",
      "dense_1 (Dense)              (None, 8)                 2056      \n",
      "=================================================================\n",
      "Total params: 18,696\n",
      "Trainable params: 18,696\n",
      "Non-trainable params: 0\n",
      "_________________________________________________________________\n"
     ]
    }
   ],
   "source": [
    "# Build the model.\n",
    "from keras.models import Sequential\n",
    "from keras.layers import Dense, Activation, Dropout\n",
    "from keras.callbacks import ModelCheckpoint\n",
    "from keras.models import load_model\n",
    "model = Sequential([\n",
    "        Dense(256, input_dim = X.shape[-1]), \n",
    "        Activation('relu'), \n",
    "        Dropout(0.4), \n",
    "        Dense(y.shape[-1])\n",
    "        ])\n",
    "model.compile(loss = 'mse', optimizer = 'adam', metrics = ['accuracy'])\n",
    "model.summary()"
   ]
  },
  {
   "cell_type": "markdown",
   "metadata": {},
   "source": [
    "## IoU Calculating Function"
   ]
  },
  {
   "cell_type": "code",
   "execution_count": 8,
   "metadata": {},
   "outputs": [],
   "source": [
    "def IOU(bbox1, bbox2):\n",
    "    '''Calculate overlap between two bounding boxes [x, y, w, h] as the area of intersection over the area of unity'''\n",
    "    x1, y1, w1, h1 = bbox1[0], bbox1[1], bbox1[2], bbox1[3]\n",
    "    x2, y2, w2, h2 = bbox2[0], bbox2[1], bbox2[2], bbox2[3]\n",
    "\n",
    "    w_I = min(x1 + w1, x2 + w2) - max(x1, x2)\n",
    "    h_I = min(y1 + h1, y2 + h2) - max(y1, y2)\n",
    "    if w_I <= 0 or h_I <= 0:  # no overlap\n",
    "        return 0\n",
    "    I = w_I * h_I\n",
    "\n",
    "    U = w1 * h1 + w2 * h2 - I\n",
    "\n",
    "    return I / U"
   ]
  },
  {
   "cell_type": "markdown",
   "metadata": {},
   "source": [
    "## Distance Calculating function"
   ]
  },
  {
   "cell_type": "code",
   "execution_count": 9,
   "metadata": {},
   "outputs": [],
   "source": [
    "def distance(bbox1, bbox2):\n",
    "    return np.sqrt(np.sum(np.square(bbox1[:2] - bbox2[:2])))"
   ]
  },
  {
   "cell_type": "markdown",
   "metadata": {},
   "source": [
    "## Training"
   ]
  },
  {
   "cell_type": "code",
   "execution_count": 10,
   "metadata": {
    "scrolled": false
   },
   "outputs": [
    {
     "name": "stdout",
     "output_type": "stream",
     "text": [
      "Epoch:  0\n",
      "1250/1250 [==============================] - 1s 955us/step - loss: 0.0456 - accuracy: 0.2774 - val_loss: 0.0187 - val_accuracy: 0.3581\n",
      "Switched 19023.0 training samples (47.557500000000005 %)\n",
      "Mean IOU: 0.1737342597587413\n",
      "Mean dist: 0.20090408059330084\n",
      "Mean mse: 0.008223800800398078\n",
      "Epoch:  1\n",
      "1250/1250 [==============================] - 1s 865us/step - loss: 0.0163 - accuracy: 0.4987 - val_loss: 0.0195 - val_accuracy: 0.4033\n",
      "Switched 8244.0 training samples (20.61 %)\n",
      "Mean IOU: 0.23487118402243154\n",
      "Mean dist: 0.15890321022330434\n",
      "Mean mse: 0.005752321166449696\n",
      "Epoch:  2\n",
      "1250/1250 [==============================] - 1s 866us/step - loss: 0.0117 - accuracy: 0.6282 - val_loss: 0.0231 - val_accuracy: 0.4280\n",
      "Switched 4499.0 training samples (11.2475 %)\n",
      "Mean IOU: 0.34106898348859566\n",
      "Mean dist: 0.11393242119350616\n",
      "Mean mse: 0.0037379732645468947\n",
      "Epoch:  3\n",
      "1250/1250 [==============================] - 1s 1ms/step - loss: 0.0090 - accuracy: 0.6842 - val_loss: 0.0243 - val_accuracy: 0.4370\n",
      "Switched 2485.0 training samples (6.2125 %)\n",
      "Mean IOU: 0.39995849402428485\n",
      "Mean dist: 0.09396171963208579\n",
      "Mean mse: 0.002897118539062989\n",
      "Epoch:  4\n",
      "1250/1250 [==============================] - 2s 1ms/step - loss: 0.0077 - accuracy: 0.7107 - val_loss: 0.0251 - val_accuracy: 0.4475\n",
      "Switched 1599.0 training samples (3.9974999999999996 %)\n",
      "Mean IOU: 0.4444564696644431\n",
      "Mean dist: 0.08256128524449738\n",
      "Mean mse: 0.002422459891842275\n",
      "Epoch:  5\n",
      "1250/1250 [==============================] - 2s 1ms/step - loss: 0.0070 - accuracy: 0.7237 - val_loss: 0.0254 - val_accuracy: 0.4479\n",
      "Switched 1362.0 training samples (3.405 %)\n",
      "Mean IOU: 0.45722318925047967\n",
      "Mean dist: 0.07798938923877037\n",
      "Mean mse: 0.002192027598557751\n",
      "Epoch:  6\n",
      "1250/1250 [==============================] - 1s 964us/step - loss: 0.0066 - accuracy: 0.7322 - val_loss: 0.0261 - val_accuracy: 0.4596\n",
      "Switched 1161.0 training samples (2.9025 %)\n",
      "Mean IOU: 0.4751264534385961\n",
      "Mean dist: 0.07368253408325012\n",
      "Mean mse: 0.0020545460397187586\n",
      "Epoch:  7\n",
      "1250/1250 [==============================] - 1s 818us/step - loss: 0.0062 - accuracy: 0.7405 - val_loss: 0.0256 - val_accuracy: 0.4430\n",
      "Switched 1009.0 training samples (2.5225 %)\n",
      "Mean IOU: 0.4845708517262013\n",
      "Mean dist: 0.07212318205661333\n",
      "Mean mse: 0.00194695917680464\n",
      "Epoch:  8\n",
      "1250/1250 [==============================] - 1s 796us/step - loss: 0.0061 - accuracy: 0.7383 - val_loss: 0.0264 - val_accuracy: 0.4433\n",
      "Switched 905.0 training samples (2.2624999999999997 %)\n",
      "Mean IOU: 0.48956473446884285\n",
      "Mean dist: 0.0696781357270923\n",
      "Mean mse: 0.0018507665845182437\n",
      "Epoch:  9\n",
      "1250/1250 [==============================] - 1s 794us/step - loss: 0.0059 - accuracy: 0.7373 - val_loss: 0.0267 - val_accuracy: 0.4395\n",
      "Switched 909.0 training samples (2.2725 %)\n",
      "Mean IOU: 0.5059882980957926\n",
      "Mean dist: 0.0653858445698776\n",
      "Mean mse: 0.0017399290745976647\n",
      "Epoch:  10\n",
      "1250/1250 [==============================] - 1s 822us/step - loss: 0.0058 - accuracy: 0.7383 - val_loss: 0.0262 - val_accuracy: 0.4369\n",
      "Switched 791.0 training samples (1.9775 %)\n",
      "Mean IOU: 0.5002811363641914\n",
      "Mean dist: 0.0672404209104193\n",
      "Mean mse: 0.001744165370895854\n",
      "Epoch:  11\n",
      "1250/1250 [==============================] - 1s 816us/step - loss: 0.0057 - accuracy: 0.7348 - val_loss: 0.0269 - val_accuracy: 0.4493\n",
      "Switched 763.0 training samples (1.9075000000000002 %)\n",
      "Mean IOU: 0.5107524436092868\n",
      "Mean dist: 0.06564987765265501\n",
      "Mean mse: 0.0017366643395702497\n",
      "Epoch:  12\n",
      "1250/1250 [==============================] - 1s 828us/step - loss: 0.0057 - accuracy: 0.7383 - val_loss: 0.0266 - val_accuracy: 0.4400\n",
      "Switched 848.0 training samples (2.12 %)\n",
      "Mean IOU: 0.5141145243085135\n",
      "Mean dist: 0.06255279195613679\n",
      "Mean mse: 0.0016209299614966092\n",
      "Epoch:  13\n",
      "1250/1250 [==============================] - 1s 828us/step - loss: 0.0056 - accuracy: 0.7345 - val_loss: 0.0267 - val_accuracy: 0.4351\n",
      "Switched 790.0 training samples (1.975 %)\n",
      "Mean IOU: 0.5177786255393546\n",
      "Mean dist: 0.06411221914040675\n",
      "Mean mse: 0.001630390705268777\n",
      "Epoch:  14\n",
      "1250/1250 [==============================] - 1s 844us/step - loss: 0.0055 - accuracy: 0.7368 - val_loss: 0.0264 - val_accuracy: 0.4355\n",
      "Switched 896.0 training samples (2.2399999999999998 %)\n",
      "Mean IOU: 0.509512315680818\n",
      "Mean dist: 0.06463167948057076\n",
      "Mean mse: 0.0016600767788955636\n",
      "Epoch:  15\n",
      "1250/1250 [==============================] - 1s 835us/step - loss: 0.0055 - accuracy: 0.7367 - val_loss: 0.0264 - val_accuracy: 0.4210\n",
      "Switched 848.0 training samples (2.12 %)\n",
      "Mean IOU: 0.5133775477209429\n",
      "Mean dist: 0.06317822938522663\n",
      "Mean mse: 0.001595081696701736\n",
      "Epoch:  16\n",
      "1250/1250 [==============================] - 1s 857us/step - loss: 0.0055 - accuracy: 0.7390 - val_loss: 0.0266 - val_accuracy: 0.4303\n",
      "Switched 950.0 training samples (2.375 %)\n",
      "Mean IOU: 0.5093038860206016\n",
      "Mean dist: 0.06340570804613337\n",
      "Mean mse: 0.0015796223836143481\n",
      "Epoch:  17\n",
      "1250/1250 [==============================] - 1s 809us/step - loss: 0.0054 - accuracy: 0.7385 - val_loss: 0.0265 - val_accuracy: 0.4381\n",
      "Switched 679.0 training samples (1.6975 %)\n",
      "Mean IOU: 0.5239925877789137\n",
      "Mean dist: 0.061659954546084375\n",
      "Mean mse: 0.0015421013559080048\n",
      "Epoch:  18\n",
      "1250/1250 [==============================] - 1s 896us/step - loss: 0.0054 - accuracy: 0.7407 - val_loss: 0.0269 - val_accuracy: 0.4574\n",
      "Switched 737.0 training samples (1.8425 %)\n",
      "Mean IOU: 0.5214797737675287\n",
      "Mean dist: 0.06125425228454584\n",
      "Mean mse: 0.0015206655287613824\n",
      "Epoch:  19\n",
      "1250/1250 [==============================] - 1s 846us/step - loss: 0.0053 - accuracy: 0.7420 - val_loss: 0.0268 - val_accuracy: 0.4394\n",
      "Switched 802.0 training samples (2.005 %)\n",
      "Mean IOU: 0.5162038174517373\n",
      "Mean dist: 0.062088946105242175\n",
      "Mean mse: 0.0015640509604859594\n",
      "Epoch:  20\n",
      "1250/1250 [==============================] - 1s 828us/step - loss: 0.0053 - accuracy: 0.7451 - val_loss: 0.0263 - val_accuracy: 0.4374\n",
      "Switched 742.0 training samples (1.855 %)\n",
      "Mean IOU: 0.5132852426455881\n",
      "Mean dist: 0.06241043810150194\n",
      "Mean mse: 0.0015342570414957155\n",
      "Epoch:  21\n",
      "1250/1250 [==============================] - 1s 852us/step - loss: 0.0053 - accuracy: 0.7428 - val_loss: 0.0274 - val_accuracy: 0.4462\n",
      "Switched 673.0 training samples (1.6824999999999999 %)\n",
      "Mean IOU: 0.5189512142584063\n",
      "Mean dist: 0.06186289769259338\n",
      "Mean mse: 0.0015260160469859944\n",
      "Epoch:  22\n",
      "1250/1250 [==============================] - 1s 838us/step - loss: 0.0053 - accuracy: 0.7444 - val_loss: 0.0271 - val_accuracy: 0.4523\n",
      "Switched 625.0 training samples (1.5625 %)\n",
      "Mean IOU: 0.5255469142659379\n",
      "Mean dist: 0.06049166735052636\n",
      "Mean mse: 0.0014843562532284537\n",
      "Epoch:  23\n",
      "1250/1250 [==============================] - 1s 852us/step - loss: 0.0053 - accuracy: 0.7436 - val_loss: 0.0269 - val_accuracy: 0.4430\n",
      "Switched 734.0 training samples (1.8350000000000002 %)\n",
      "Mean IOU: 0.5258159280093287\n",
      "Mean dist: 0.061584265253150826\n",
      "Mean mse: 0.0015200428967785315\n",
      "Epoch:  24\n",
      "1250/1250 [==============================] - 1s 837us/step - loss: 0.0052 - accuracy: 0.7442 - val_loss: 0.0273 - val_accuracy: 0.4540\n",
      "Switched 721.0 training samples (1.8025 %)\n",
      "Mean IOU: 0.5240320067388973\n",
      "Mean dist: 0.06037443721546533\n",
      "Mean mse: 0.00151357632661336\n",
      "Epoch:  25\n",
      "1250/1250 [==============================] - 1s 830us/step - loss: 0.0053 - accuracy: 0.7499 - val_loss: 0.0275 - val_accuracy: 0.4365\n",
      "Switched 721.0 training samples (1.8025 %)\n",
      "Mean IOU: 0.5241249390350673\n",
      "Mean dist: 0.06029576675841009\n",
      "Mean mse: 0.001482518034536258\n",
      "Epoch:  26\n",
      "1250/1250 [==============================] - 1s 828us/step - loss: 0.0052 - accuracy: 0.7469 - val_loss: 0.0270 - val_accuracy: 0.4387\n",
      "Switched 557.0 training samples (1.3925 %)\n",
      "Mean IOU: 0.533012934521667\n",
      "Mean dist: 0.057799884122636945\n",
      "Mean mse: 0.0014452284544442294\n",
      "Epoch:  27\n",
      "1250/1250 [==============================] - 1s 825us/step - loss: 0.0052 - accuracy: 0.7481 - val_loss: 0.0270 - val_accuracy: 0.4459\n",
      "Switched 506.0 training samples (1.265 %)\n",
      "Mean IOU: 0.5245184776277984\n",
      "Mean dist: 0.06023337296012892\n",
      "Mean mse: 0.0014908830196443794\n",
      "Epoch:  28\n",
      "1250/1250 [==============================] - 1s 842us/step - loss: 0.0052 - accuracy: 0.7490 - val_loss: 0.0262 - val_accuracy: 0.4403\n",
      "Switched 612.0 training samples (1.53 %)\n",
      "Mean IOU: 0.5065905472428534\n",
      "Mean dist: 0.06253891694771885\n",
      "Mean mse: 0.0015335593787262202\n",
      "Epoch:  29\n"
     ]
    },
    {
     "name": "stdout",
     "output_type": "stream",
     "text": [
      "1250/1250 [==============================] - 1s 853us/step - loss: 0.0052 - accuracy: 0.7436 - val_loss: 0.0272 - val_accuracy: 0.4281\n",
      "Switched 744.0 training samples (1.8599999999999999 %)\n",
      "Mean IOU: 0.522486800793413\n",
      "Mean dist: 0.06111339737748847\n",
      "Mean mse: 0.0015061406044836224\n",
      "Epoch:  30\n",
      "1250/1250 [==============================] - 1s 843us/step - loss: 0.0053 - accuracy: 0.7434 - val_loss: 0.0270 - val_accuracy: 0.4420\n",
      "Switched 651.0 training samples (1.6275000000000002 %)\n",
      "Mean IOU: 0.525870857680283\n",
      "Mean dist: 0.060134558843322805\n",
      "Mean mse: 0.0014494973862113562\n",
      "Epoch:  31\n",
      "1250/1250 [==============================] - 1s 840us/step - loss: 0.0052 - accuracy: 0.7473 - val_loss: 0.0267 - val_accuracy: 0.4475\n",
      "Switched 557.0 training samples (1.3925 %)\n",
      "Mean IOU: 0.5294273782426224\n",
      "Mean dist: 0.05865046670246113\n",
      "Mean mse: 0.001446813424463577\n",
      "Epoch:  32\n",
      "1250/1250 [==============================] - 1s 841us/step - loss: 0.0052 - accuracy: 0.7458 - val_loss: 0.0270 - val_accuracy: 0.4299\n",
      "Switched 538.0 training samples (1.345 %)\n",
      "Mean IOU: 0.5189867408149634\n",
      "Mean dist: 0.06110668914407697\n",
      "Mean mse: 0.001499508508803204\n",
      "Epoch:  33\n",
      "1250/1250 [==============================] - 1s 823us/step - loss: 0.0052 - accuracy: 0.7420 - val_loss: 0.0264 - val_accuracy: 0.4395\n",
      "Switched 519.0 training samples (1.2975 %)\n",
      "Mean IOU: 0.5331974621385074\n",
      "Mean dist: 0.058117685198299025\n",
      "Mean mse: 0.0014284265264428375\n",
      "Epoch:  34\n",
      "1250/1250 [==============================] - 1s 823us/step - loss: 0.0052 - accuracy: 0.7439 - val_loss: 0.0271 - val_accuracy: 0.4432\n",
      "Switched 508.0 training samples (1.27 %)\n",
      "Mean IOU: 0.5341311731946009\n",
      "Mean dist: 0.05774022668179525\n",
      "Mean mse: 0.0014139360003561955\n",
      "Epoch:  35\n",
      "1250/1250 [==============================] - 1s 841us/step - loss: 0.0052 - accuracy: 0.7466 - val_loss: 0.0272 - val_accuracy: 0.4539\n",
      "Switched 708.0 training samples (1.77 %)\n",
      "Mean IOU: 0.5322002425821216\n",
      "Mean dist: 0.058979392704200426\n",
      "Mean mse: 0.0014529693771789935\n",
      "Epoch:  36\n",
      "1250/1250 [==============================] - 1s 826us/step - loss: 0.0052 - accuracy: 0.7461 - val_loss: 0.0271 - val_accuracy: 0.4460\n",
      "Switched 556.0 training samples (1.39 %)\n",
      "Mean IOU: 0.5284307354293323\n",
      "Mean dist: 0.059771116136097126\n",
      "Mean mse: 0.0014511015924895633\n",
      "Epoch:  37\n",
      "1250/1250 [==============================] - 1s 878us/step - loss: 0.0052 - accuracy: 0.7483 - val_loss: 0.0271 - val_accuracy: 0.4399\n",
      "Switched 618.0 training samples (1.545 %)\n",
      "Mean IOU: 0.5269086228711601\n",
      "Mean dist: 0.0590122780465653\n",
      "Mean mse: 0.0014600885142876017\n",
      "Epoch:  38\n",
      "1250/1250 [==============================] - 1s 823us/step - loss: 0.0051 - accuracy: 0.7469 - val_loss: 0.0273 - val_accuracy: 0.4454\n",
      "Switched 492.0 training samples (1.23 %)\n",
      "Mean IOU: 0.5336321702464758\n",
      "Mean dist: 0.057676387594966606\n",
      "Mean mse: 0.0014259576477777963\n",
      "Epoch:  39\n",
      "1250/1250 [==============================] - 1s 831us/step - loss: 0.0051 - accuracy: 0.7455 - val_loss: 0.0268 - val_accuracy: 0.4449\n",
      "Switched 507.0 training samples (1.2675 %)\n",
      "Mean IOU: 0.521792017842806\n",
      "Mean dist: 0.06030244051167537\n",
      "Mean mse: 0.0014427958185721425\n",
      "Epoch:  40\n",
      "1250/1250 [==============================] - 1s 856us/step - loss: 0.0051 - accuracy: 0.7465 - val_loss: 0.0264 - val_accuracy: 0.4288\n",
      "Switched 556.0 training samples (1.39 %)\n",
      "Mean IOU: 0.5239746389544402\n",
      "Mean dist: 0.059054629346637855\n",
      "Mean mse: 0.0014475188903064044\n",
      "Epoch:  41\n",
      "1250/1250 [==============================] - 1s 837us/step - loss: 0.0051 - accuracy: 0.7469 - val_loss: 0.0272 - val_accuracy: 0.4342\n",
      "Switched 622.0 training samples (1.555 %)\n",
      "Mean IOU: 0.5285566479477433\n",
      "Mean dist: 0.05939061670193304\n",
      "Mean mse: 0.001439775094189709\n",
      "Epoch:  42\n",
      "1250/1250 [==============================] - 1s 834us/step - loss: 0.0051 - accuracy: 0.7412 - val_loss: 0.0269 - val_accuracy: 0.4328\n",
      "Switched 626.0 training samples (1.5650000000000002 %)\n",
      "Mean IOU: 0.529264544895944\n",
      "Mean dist: 0.056933265223683666\n",
      "Mean mse: 0.0013840885560927453\n",
      "Epoch:  43\n",
      "1250/1250 [==============================] - 1s 841us/step - loss: 0.0051 - accuracy: 0.7461 - val_loss: 0.0274 - val_accuracy: 0.4407\n",
      "Switched 654.0 training samples (1.635 %)\n",
      "Mean IOU: 0.534161864225826\n",
      "Mean dist: 0.056763558934189134\n",
      "Mean mse: 0.0014013101493911754\n",
      "Epoch:  44\n",
      "1250/1250 [==============================] - 1s 823us/step - loss: 0.0051 - accuracy: 0.7459 - val_loss: 0.0272 - val_accuracy: 0.4546\n",
      "Switched 669.0 training samples (1.6725 %)\n",
      "Mean IOU: 0.5301321447447165\n",
      "Mean dist: 0.05782788525967287\n",
      "Mean mse: 0.0014108828374249773\n",
      "Epoch:  45\n",
      "1250/1250 [==============================] - 1s 831us/step - loss: 0.0051 - accuracy: 0.7427 - val_loss: 0.0272 - val_accuracy: 0.4288\n",
      "Switched 719.0 training samples (1.7975 %)\n",
      "Mean IOU: 0.526463617667476\n",
      "Mean dist: 0.05953660996935432\n",
      "Mean mse: 0.0014330735909552992\n",
      "Epoch:  46\n",
      "1250/1250 [==============================] - 1s 826us/step - loss: 0.0051 - accuracy: 0.7456 - val_loss: 0.0266 - val_accuracy: 0.4533\n",
      "Switched 545.0 training samples (1.3625 %)\n",
      "Mean IOU: 0.5281787726873014\n",
      "Mean dist: 0.059714441482735255\n",
      "Mean mse: 0.0014610815139195533\n",
      "Epoch:  47\n",
      "1250/1250 [==============================] - 1s 835us/step - loss: 0.0051 - accuracy: 0.7492 - val_loss: 0.0275 - val_accuracy: 0.4287\n",
      "Switched 482.0 training samples (1.205 %)\n",
      "Mean IOU: 0.5227423555782732\n",
      "Mean dist: 0.059333639015181384\n",
      "Mean mse: 0.0014368334709396833\n",
      "Epoch:  48\n",
      "1250/1250 [==============================] - 1s 829us/step - loss: 0.0051 - accuracy: 0.7473 - val_loss: 0.0272 - val_accuracy: 0.4513\n",
      "Switched 649.0 training samples (1.6225 %)\n",
      "Mean IOU: 0.5160249869697379\n",
      "Mean dist: 0.061458628947246643\n",
      "Mean mse: 0.0014700897707937075\n",
      "Epoch:  49\n",
      "1250/1250 [==============================] - 1s 827us/step - loss: 0.0051 - accuracy: 0.7482 - val_loss: 0.0270 - val_accuracy: 0.4431\n",
      "Switched 595.0 training samples (1.4874999999999998 %)\n",
      "Mean IOU: 0.5160583988533701\n",
      "Mean dist: 0.06116765667772854\n",
      "Mean mse: 0.0015023918231964679\n"
     ]
    }
   ],
   "source": [
    "# Since the model won't know which box to predict first, we have to switch bboxes during training.\n",
    "# Note: The validation loss is always quite big here because we don't switch the bounding boxes for the validation data. \n",
    "\n",
    "num_epochs = 50\n",
    "switched_train_y = np.array(train_y)\n",
    "switched = np.zeros((len(switched_train_y), num_epochs))\n",
    "ious_epoch = np.zeros((len(switched_train_y), num_epochs))\n",
    "dists_epoch = np.zeros((len(switched_train_y), num_epochs))\n",
    "mses_epoch = np.zeros((len(switched_train_y), num_epochs))\n",
    "\n",
    "for epoch in range(num_epochs):\n",
    "    print(\"Epoch: \", epoch)\n",
    "    model.fit(train_X, switched_train_y, epochs = 1, validation_data = (test_X, test_y), verbose = 1,\n",
    "              callbacks = [ModelCheckpoint('Two_Rectangles_model.h5',\n",
    "                                           monitor = 'val_accuracy',\n",
    "                                           save_best_only = True)])\n",
    "    pred_y = model.predict(train_X)\n",
    "    \n",
    "    for i, (pred_bboxes, exp_bboxes) in enumerate(zip(pred_y, switched_train_y)):\n",
    "        \n",
    "        switched_exp_bboxes = np.concatenate([exp_bboxes[4:], exp_bboxes[:4]])\n",
    "        \n",
    "        mse = np.mean(np.square(pred_bboxes - exp_bboxes))\n",
    "        mse_switched = np.mean(np.square(pred_bboxes - switched_exp_bboxes))\n",
    "        \n",
    "        iou = IOU(pred_bboxes[:4], exp_bboxes[:4]) + IOU(pred_bboxes[4:], exp_bboxes[4:])\n",
    "        iou_switched = IOU(pred_bboxes[:4], switched_exp_bboxes[:4]) + IOU(pred_bboxes[4:], switched_exp_bboxes[4:])\n",
    "        \n",
    "        dist = distance(pred_bboxes[:4], exp_bboxes[:4]) + distance(pred_bboxes[4:], exp_bboxes[4:])\n",
    "        dist_switched = distance(pred_bboxes[:4], switched_exp_bboxes[:4]) + distance(pred_bboxes[4:], switched_exp_bboxes[4:])\n",
    "        \n",
    "        if mse_switched < mse:  # you can also use iou or dist here\n",
    "            switched_train_y[i] = switched_exp_bboxes\n",
    "            switched[i, epoch] = 1\n",
    "            mses_epoch[i, epoch] = mse_switched / 2.\n",
    "            ious_epoch[i, epoch] = iou_switched / 2.\n",
    "            dists_epoch[i, epoch] = dist_switched / 2.\n",
    "        else:\n",
    "            mses_epoch[i, epoch] = mse / 2.\n",
    "            ious_epoch[i, epoch] = iou / 2.\n",
    "            dists_epoch[i, epoch] = dist / 2.\n",
    "            \n",
    "    print('Switched {} training samples ({} %)'.format(np.sum(switched[:, epoch]), np.mean(switched[:, epoch]) * 100.))\n",
    "    print('Mean IOU: {}'.format(np.mean(ious_epoch[:, epoch])))\n",
    "    print('Mean dist: {}'.format(np.mean(dists_epoch[:, epoch])))\n",
    "    print('Mean mse: {}'.format(np.mean(mses_epoch[:, epoch])))"
   ]
  },
  {
   "cell_type": "markdown",
   "metadata": {},
   "source": [
    "## Switching Track"
   ]
  },
  {
   "cell_type": "code",
   "execution_count": 11,
   "metadata": {},
   "outputs": [
    {
     "data": {
      "image/png": "[encoded data removed]",
      "text/plain": [
       "<Figure size 432x288 with 1 Axes>"
      ]
     },
     "metadata": {
      "needs_background": "light"
     },
     "output_type": "display_data"
    }
   ],
   "source": [
    "# Show switchings for a few training samples.\n",
    "'''Differences between pcolor() and pcolormesh(): \n",
    "   pcolormesh() is more specialized for the given purpose and thus is faster. It should almost always be preferred.'''\n",
    "plt.pcolormesh(switched[:, :], cmap = 'Greys')\n",
    "plt.xlabel('Epoch')\n",
    "plt.ylabel('Training sample')\n",
    "plt.savefig('two-rectangles_switches.png', dpi = 100)\n",
    "plt.show()"
   ]
  },
  {
   "cell_type": "markdown",
   "metadata": {},
   "source": [
    "## Metrics Track"
   ]
  },
  {
   "cell_type": "code",
   "execution_count": 12,
   "metadata": {
    "scrolled": true
   },
   "outputs": [
    {
     "data": {
      "image/png": "[encoded data removed]",
      "text/plain": [
       "<Figure size 432x288 with 1 Axes>"
      ]
     },
     "metadata": {
      "needs_background": "light"
     },
     "output_type": "display_data"
    }
   ],
   "source": [
    "# Plot metrics on the training data. \n",
    "mean_ious_epoch = np.mean(ious_epoch, axis = 0)\n",
    "mean_dists_epoch = np.mean(dists_epoch, axis = 0)\n",
    "mean_mses_epoch = np.mean(mses_epoch, axis = 0)\n",
    "plt.plot(mean_ious_epoch, label = 'Mean IOU')  # between predicted and assigned true bboxes\n",
    "plt.plot(mean_dists_epoch, label = 'Mean distance')  # relative to image size\n",
    "plt.plot(mean_mses_epoch, label = 'Mean mse')\n",
    "# horizontalalignment = 'right': make the annotation text aligns with the right side\n",
    "plt.annotate(np.round(np.max(mean_ious_epoch), 3), (len(mean_ious_epoch) - 1, mean_ious_epoch[-1] + 0.02), horizontalalignment = 'right', color = 'purple')\n",
    "plt.annotate(np.round(np.min(mean_dists_epoch), 3), (len(mean_dists_epoch) - 1, mean_dists_epoch[-1] + 0.02), horizontalalignment = 'right', color = 'g')\n",
    "plt.annotate(np.round(np.min(mean_mses_epoch), 3), (len(mean_mses_epoch) - 1, mean_mses_epoch[-1] + 0.02), horizontalalignment = 'right', color = 'r')\n",
    "\n",
    "plt.xlabel('Epoch')\n",
    "# Hide y tick\n",
    "ax = plt.gca()\n",
    "ax.axes.yaxis.set_visible(False)\n",
    "\n",
    "plt.legend()\n",
    "plt.ylim(0, 0.8)\n",
    "plt.savefig('training_metrics.png', dpi = 100)"
   ]
  },
  {
   "cell_type": "markdown",
   "metadata": {},
   "source": [
    "## Denormalize Data"
   ]
  },
  {
   "cell_type": "code",
   "execution_count": 13,
   "metadata": {},
   "outputs": [
    {
     "data": {
      "text/plain": [
       "(10000, 2, 4)"
      ]
     },
     "execution_count": 13,
     "metadata": {},
     "output_type": "execute_result"
    }
   ],
   "source": [
    "# Predict bounding boxes on the test images.\n",
    "pred_y = model.predict(test_X)\n",
    "pred_bboxes = pred_y * img_size\n",
    "pred_bboxes = pred_bboxes.reshape(len(pred_bboxes), num_objects, -1)\n",
    "pred_bboxes.shape"
   ]
  },
  {
   "cell_type": "markdown",
   "metadata": {},
   "source": [
    "## Visualize Results"
   ]
  },
  {
   "cell_type": "code",
   "execution_count": 14,
   "metadata": {
    "scrolled": true
   },
   "outputs": [
    {
     "data": {
      "image/png": "[encoded data removed]",
      "text/plain": [
       "<Figure size 864x216 with 4 Axes>"
      ]
     },
     "metadata": {
      "needs_background": "light"
     },
     "output_type": "display_data"
    }
   ],
   "source": [
    "# Show a few images and predicted bounding boxes from the test dataset. \n",
    "plt.figure(figsize = (12, 3))\n",
    "for i_subplot in range(1, 5):\n",
    "    plt.subplot(1, 4, i_subplot)\n",
    "    i = np.random.randint(len(test_X))\n",
    "    plt.imshow(test_imgs[i].T, cmap = 'Greys', interpolation = 'none', origin = 'lower', extent = [0, img_size, 0, img_size])\n",
    "    for pred_bbox, exp_bbox in zip(pred_bboxes[i], test_bboxes[i]):\n",
    "        plt.gca().add_patch(matplotlib.patches.Rectangle((pred_bbox[0], pred_bbox[1]), pred_bbox[2], pred_bbox[3], lw = 2, ec = 'r', fc = 'none'))\n",
    "\n",
    "plt.savefig('two-rectangles_with-switching.png', dpi = 100)"
   ]
  },
  {
   "cell_type": "markdown",
   "metadata": {},
   "source": [
    "## Overall Assessment"
   ]
  },
  {
   "cell_type": "code",
   "execution_count": 15,
   "metadata": {},
   "outputs": [
    {
     "data": {
      "text/plain": [
       "0.5128854941788031"
      ]
     },
     "execution_count": 15,
     "metadata": {},
     "output_type": "execute_result"
    }
   ],
   "source": [
    "from keras.models import load_model\n",
    "model_test = load_model('Two_Rectangles_model.h5')\n",
    "pred_y = model_test.predict(test_X)\n",
    "summed_IOU = 0.\n",
    "\n",
    "for i, (pred_bboxes, exp_bboxes) in enumerate(zip(pred_y, test_y)):\n",
    "\n",
    "    switched_exp_bboxes = np.concatenate([exp_bboxes[4:], exp_bboxes[:4]])\n",
    "\n",
    "    iou = IOU(pred_bboxes[:4], exp_bboxes[:4]) + IOU(pred_bboxes[4:], exp_bboxes[4:])\n",
    "    iou_switched = IOU(pred_bboxes[:4], switched_exp_bboxes[:4]) + IOU(pred_bboxes[4:], switched_exp_bboxes[4:])\n",
    "\n",
    "    if iou_switched > iou:  \n",
    "        summed_IOU += iou_switched\n",
    "    else:\n",
    "        summed_IOU += iou\n",
    "\n",
    "mean_IOU = summed_IOU / (num_objects * len(pred_y))\n",
    "mean_IOU"
   ]
  },
  {
   "cell_type": "code",
   "execution_count": null,
   "metadata": {},
   "outputs": [],
   "source": []
  }
 ],
 "metadata": {
  "kernelspec": {
   "display_name": "Python 3",
   "language": "python",
   "name": "python3"
  },
  "language_info": {
   "codemirror_mode": {
    "name": "ipython",
    "version": 3
   },
   "file_extension": ".py",
   "mimetype": "text/x-python",
   "name": "python",
   "nbconvert_exporter": "python",
   "pygments_lexer": "ipython3",
   "version": "3.8.3"
  }
 },
 "nbformat": 4,
 "nbformat_minor": 4
}
