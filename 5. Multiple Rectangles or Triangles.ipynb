{
 "cells": [
  {
   "cell_type": "markdown",
   "metadata": {},
   "source": [
    "# Multiple Rectangles or Triangles"
   ]
  },
  {
   "cell_type": "markdown",
   "metadata": {},
   "source": [
    "## Import Packages"
   ]
  },
  {
   "cell_type": "code",
   "execution_count": 19,
   "metadata": {
    "ExecuteTime": {
     "end_time": "2016-07-03T16:03:53.170000",
     "start_time": "2016-07-03T16:03:52.500000"
    }
   },
   "outputs": [],
   "source": [
    "import numpy as np\n",
    "import matplotlib.pyplot as plt\n",
    "import math\n",
    "import matplotlib\n",
    "%matplotlib inline"
   ]
  },
  {
   "cell_type": "markdown",
   "metadata": {},
   "source": [
    "## Data Generation"
   ]
  },
  {
   "cell_type": "code",
   "execution_count": 20,
   "metadata": {
    "ExecuteTime": {
     "end_time": "2016-07-03T16:16:34.666000",
     "start_time": "2016-07-03T16:16:28.832000"
    }
   },
   "outputs": [
    {
     "data": {
      "text/plain": [
       "((50000, 16, 16), (50000, 3, 4))"
      ]
     },
     "execution_count": 20,
     "metadata": {},
     "output_type": "execute_result"
    }
   ],
   "source": [
    "num_imgs = 50000\n",
    "\n",
    "img_size = 16\n",
    "min_rect_size = 4\n",
    "max_rect_size = 7\n",
    "num_objects = 3\n",
    "\n",
    "bboxes = np.zeros((num_imgs, num_objects, 4))\n",
    "imgs = np.zeros((num_imgs, img_size, img_size))\n",
    "shapes = np.zeros((num_imgs, num_objects, 1))\n",
    "\n",
    "for i_img in range(num_imgs):\n",
    "    for i_object in range(num_objects):\n",
    "        if np.random.choice([True, False]):\n",
    "            width, height = np.random.randint(min_rect_size, max_rect_size, size = 2)\n",
    "            x = np.random.randint(0, img_size - width)\n",
    "            y = np.random.randint(0, img_size - height)\n",
    "            imgs[i_img, x:x + width, y:y + height] = 1.\n",
    "            bboxes[i_img, i_object] = [x, y, width, height]\n",
    "            shapes[i_img, i_object] = [0]\n",
    "        else:\n",
    "            size = np.random.randint(min_rect_size, max_rect_size)\n",
    "            x, y = np.random.randint(0, img_size - size, size = 2)\n",
    "            mask = np.tril_indices(size)\n",
    "            imgs[i_img, x + mask[0], y + mask[1]] = 1.\n",
    "            bboxes[i_img, i_object] = [x, y, size, size]\n",
    "            shapes[i_img, i_object] = [1]\n",
    "            \n",
    "imgs.shape, bboxes.shape"
   ]
  },
  {
   "cell_type": "code",
   "execution_count": 21,
   "metadata": {
    "ExecuteTime": {
     "end_time": "2016-07-03T16:16:38.997000",
     "start_time": "2016-07-03T16:16:38.662000"
    },
    "scrolled": true
   },
   "outputs": [
    {
     "data": {
      "image/png": "[encoded data removed]",
      "text/plain": [
       "<Figure size 432x288 with 1 Axes>"
      ]
     },
     "metadata": {
      "needs_background": "light"
     },
     "output_type": "display_data"
    }
   ],
   "source": [
    "i = 0\n",
    "# TODO: Why does the array have to be transposed?\n",
    "plt.imshow(imgs[i].T, cmap = 'Greys', interpolation = 'none', origin = 'lower', extent = [0, img_size, 0, img_size])\n",
    "for bbox, shape in zip(bboxes[i], shapes[i]):\n",
    "    plt.gca().add_patch(matplotlib.patches.Rectangle((bbox[0], bbox[1]), bbox[2], bbox[3], lw = 2, ec = 'r' if shape[0] == 0 else 'b', fc = 'none'))"
   ]
  },
  {
   "cell_type": "markdown",
   "metadata": {},
   "source": [
    "## Preprocessing"
   ]
  },
  {
   "cell_type": "code",
   "execution_count": 22,
   "metadata": {
    "ExecuteTime": {
     "end_time": "2016-07-03T16:16:41.668000",
     "start_time": "2016-07-03T16:16:41.115000"
    }
   },
   "outputs": [
    {
     "data": {
      "text/plain": [
       "((50000, 256), -4.8849813083506885e-18, 0.9999999999999992)"
      ]
     },
     "execution_count": 22,
     "metadata": {},
     "output_type": "execute_result"
    }
   ],
   "source": [
    "X = (imgs.reshape(num_imgs, -1) - np.mean(imgs)) / np.std(imgs)\n",
    "X.shape, np.mean(X), np.std(X)"
   ]
  },
  {
   "cell_type": "code",
   "execution_count": 23,
   "metadata": {
    "ExecuteTime": {
     "end_time": "2016-07-03T16:16:42.640000",
     "start_time": "2016-07-03T16:16:42.627000"
    }
   },
   "outputs": [
    {
     "data": {
      "text/plain": [
       "(50000, 15)"
      ]
     },
     "execution_count": 23,
     "metadata": {},
     "output_type": "execute_result"
    }
   ],
   "source": [
    "y = np.concatenate([bboxes / img_size, shapes], axis = -1).reshape(num_imgs, -1)\n",
    "y.shape"
   ]
  },
  {
   "cell_type": "markdown",
   "metadata": {},
   "source": [
    "## Train Test Split"
   ]
  },
  {
   "cell_type": "code",
   "execution_count": 24,
   "metadata": {
    "ExecuteTime": {
     "end_time": "2016-07-03T16:16:43.445000",
     "start_time": "2016-07-03T16:16:43.437000"
    }
   },
   "outputs": [],
   "source": [
    "i = int(0.8 * num_imgs)\n",
    "train_X = X[:i]\n",
    "test_X = X[i:]\n",
    "train_y = y[:i]\n",
    "test_y = y[i:]\n",
    "test_imgs = imgs[i:]\n",
    "test_bboxes = bboxes[i:]"
   ]
  },
  {
   "cell_type": "markdown",
   "metadata": {},
   "source": [
    "## Model"
   ]
  },
  {
   "cell_type": "code",
   "execution_count": 25,
   "metadata": {
    "ExecuteTime": {
     "end_time": "2016-07-03T16:16:44.266000",
     "start_time": "2016-07-03T16:16:44.145000"
    },
    "scrolled": true
   },
   "outputs": [
    {
     "name": "stdout",
     "output_type": "stream",
     "text": [
      "Model: \"sequential_2\"\n",
      "_________________________________________________________________\n",
      "Layer (type)                 Output Shape              Param #   \n",
      "=================================================================\n",
      "dense_4 (Dense)              (None, 256)               65792     \n",
      "_________________________________________________________________\n",
      "activation_2 (Activation)    (None, 256)               0         \n",
      "_________________________________________________________________\n",
      "dropout_2 (Dropout)          (None, 256)               0         \n",
      "_________________________________________________________________\n",
      "dense_5 (Dense)              (None, 15)                3855      \n",
      "=================================================================\n",
      "Total params: 69,647\n",
      "Trainable params: 69,647\n",
      "Non-trainable params: 0\n",
      "_________________________________________________________________\n"
     ]
    }
   ],
   "source": [
    "from keras.models import Sequential\n",
    "from keras.layers import Dense, Activation, Dropout\n",
    "from keras.callbacks import ModelCheckpoint\n",
    "model = Sequential([\n",
    "        Dense(256, input_dim = X.shape[-1]), \n",
    "        Activation('relu'), \n",
    "        Dropout(0.5), \n",
    "        Dense(y.shape[-1])\n",
    "    ])\n",
    "model.compile(loss = 'mse', optimizer = 'adam')\n",
    "model.summary()"
   ]
  },
  {
   "cell_type": "markdown",
   "metadata": {},
   "source": [
    "## IoU Calculating Function"
   ]
  },
  {
   "cell_type": "code",
   "execution_count": 26,
   "metadata": {},
   "outputs": [],
   "source": [
    "def IOU(bbox1, bbox2):\n",
    "    '''Calculate overlap between two bounding boxes [x, y, w, h] as the area of intersection over the area of unity'''\n",
    "    x1, y1, w1, h1 = bbox1[0], bbox1[1], bbox1[2], bbox1[3]  # TODO: Check if its more performant if tensor elements are accessed directly below.\n",
    "    x2, y2, w2, h2 = bbox2[0], bbox2[1], bbox2[2], bbox2[3]\n",
    "\n",
    "    w_I = min(x1 + w1, x2 + w2) - max(x1, x2)\n",
    "    h_I = min(y1 + h1, y2 + h2) - max(y1, y2)\n",
    "    if w_I <= 0 or h_I <= 0:  # no overlap\n",
    "        return 0\n",
    "    I = w_I * h_I\n",
    "\n",
    "    U = w1 * h1 + w2 * h2 - I\n",
    "\n",
    "    return I / U"
   ]
  },
  {
   "cell_type": "markdown",
   "metadata": {},
   "source": [
    "## Distance Calculating Function"
   ]
  },
  {
   "cell_type": "code",
   "execution_count": 27,
   "metadata": {},
   "outputs": [],
   "source": [
    "def distance(bbox1, bbox2):\n",
    "    return np.sqrt(np.sum(np.square(bbox1[:2] - bbox2[:2])))"
   ]
  },
  {
   "cell_type": "markdown",
   "metadata": {},
   "source": [
    "## Training"
   ]
  },
  {
   "cell_type": "code",
   "execution_count": 30,
   "metadata": {
    "scrolled": false
   },
   "outputs": [
    {
     "name": "stdout",
     "output_type": "stream",
     "text": [
      "Epoch  0\n",
      "1250/1250 [==============================] - 1s 901us/step - loss: 0.0573 - val_loss: 0.0541\n",
      "Flipped 82.49499999999999 % of all elements\n",
      "Mean IOU: 0.2030865115243235\n",
      "Mean dist: 0.2158248886061032\n",
      "Mean mse: 0.014976224766963551\n",
      "Epoch  1\n",
      "1250/1250 [==============================] - 1s 992us/step - loss: 0.0544 - val_loss: 0.0548\n",
      "Flipped 45.7725 % of all elements\n",
      "Mean IOU: 0.25282042079709166\n",
      "Mean dist: 0.18828829052607124\n",
      "Mean mse: 0.012015093278984222\n",
      "Epoch  2\n",
      "1250/1250 [==============================] - 1s 905us/step - loss: 0.0514 - val_loss: 0.0569\n",
      "Flipped 31.0525 % of all elements\n",
      "Mean IOU: 0.29698333949631595\n",
      "Mean dist: 0.16786727943309138\n",
      "Mean mse: 0.010075658757685008\n",
      "Epoch  3\n",
      "1250/1250 [==============================] - 1s 922us/step - loss: 0.0483 - val_loss: 0.0585\n",
      "Flipped 25.685000000000002 % of all elements\n",
      "Mean IOU: 0.33530935325395705\n",
      "Mean dist: 0.15081169795500105\n",
      "Mean mse: 0.008552717987837539\n",
      "Epoch  4\n",
      "1250/1250 [==============================] - 1s 935us/step - loss: 0.0458 - val_loss: 0.0597\n",
      "Flipped 18.2625 % of all elements\n",
      "Mean IOU: 0.3554887485734646\n",
      "Mean dist: 0.1426878743221393\n",
      "Mean mse: 0.007846477419307914\n",
      "Epoch  5\n",
      "1250/1250 [==============================] - 1s 938us/step - loss: 0.0437 - val_loss: 0.0616\n",
      "Flipped 14.5875 % of all elements\n",
      "Mean IOU: 0.38217112724108515\n",
      "Mean dist: 0.13308440565375854\n",
      "Mean mse: 0.007101855546266042\n",
      "Epoch  6\n",
      "1250/1250 [==============================] - 1s 933us/step - loss: 0.0420 - val_loss: 0.0626\n",
      "Flipped 11.4275 % of all elements\n",
      "Mean IOU: 0.38498576072325796\n",
      "Mean dist: 0.13180035298144124\n",
      "Mean mse: 0.006963544075088888\n",
      "Epoch  7\n",
      "1250/1250 [==============================] - 1s 939us/step - loss: 0.0408 - val_loss: 0.0630\n",
      "Flipped 10.36 % of all elements\n",
      "Mean IOU: 0.3933605999837601\n",
      "Mean dist: 0.12760276858984185\n",
      "Mean mse: 0.00669060778529224\n",
      "Epoch  8\n",
      "1250/1250 [==============================] - 1s 928us/step - loss: 0.0399 - val_loss: 0.0624\n",
      "Flipped 8.89 % of all elements\n",
      "Mean IOU: 0.40976983899347924\n",
      "Mean dist: 0.12170358398888027\n",
      "Mean mse: 0.006242365891480368\n",
      "Epoch  9\n",
      "1250/1250 [==============================] - 1s 1ms/step - loss: 0.0393 - val_loss: 0.0634\n",
      "Flipped 9.4475 % of all elements\n",
      "Mean IOU: 0.414254914882142\n",
      "Mean dist: 0.12163811938050581\n",
      "Mean mse: 0.006266713927158931\n",
      "Epoch  10\n",
      "1250/1250 [==============================] - 1s 1ms/step - loss: 0.0388 - val_loss: 0.0630\n",
      "Flipped 7.677499999999999 % of all elements\n",
      "Mean IOU: 0.4047850090140438\n",
      "Mean dist: 0.12350197022051976\n",
      "Mean mse: 0.006391978483450223\n",
      "Epoch  11\n",
      "1250/1250 [==============================] - 1s 942us/step - loss: 0.0382 - val_loss: 0.0636\n",
      "Flipped 7.489999999999999 % of all elements\n",
      "Mean IOU: 0.4179063038981856\n",
      "Mean dist: 0.12051571621699939\n",
      "Mean mse: 0.006163049454265816\n",
      "Epoch  12\n",
      "1250/1250 [==============================] - 1s 933us/step - loss: 0.0378 - val_loss: 0.0641\n",
      "Flipped 7.8975 % of all elements\n",
      "Mean IOU: 0.4287822474160651\n",
      "Mean dist: 0.11630318173185096\n",
      "Mean mse: 0.005905833392035757\n",
      "Epoch  13\n",
      "1250/1250 [==============================] - 1s 945us/step - loss: 0.0374 - val_loss: 0.0634\n",
      "Flipped 7.84 % of all elements\n",
      "Mean IOU: 0.41814636057045007\n",
      "Mean dist: 0.12013372929005614\n",
      "Mean mse: 0.006093441910722682\n",
      "Epoch  14\n",
      "1250/1250 [==============================] - 1s 931us/step - loss: 0.0371 - val_loss: 0.0633\n",
      "Flipped 7.049999999999999 % of all elements\n",
      "Mean IOU: 0.42856269679258846\n",
      "Mean dist: 0.11605457513483104\n",
      "Mean mse: 0.005836002451288387\n",
      "Epoch  15\n",
      "1250/1250 [==============================] - 1s 931us/step - loss: 0.0368 - val_loss: 0.0638\n",
      "Flipped 7.6325 % of all elements\n",
      "Mean IOU: 0.4275115595604209\n",
      "Mean dist: 0.11624010480985292\n",
      "Mean mse: 0.005872942382047213\n",
      "Epoch  16\n",
      "1250/1250 [==============================] - 1s 936us/step - loss: 0.0365 - val_loss: 0.0635\n",
      "Flipped 6.99 % of all elements\n",
      "Mean IOU: 0.42681279566125047\n",
      "Mean dist: 0.11505849623028123\n",
      "Mean mse: 0.005783667811183809\n",
      "Epoch  17\n",
      "1250/1250 [==============================] - 1s 948us/step - loss: 0.0364 - val_loss: 0.0642\n",
      "Flipped 7.5275 % of all elements\n",
      "Mean IOU: 0.42806746628699227\n",
      "Mean dist: 0.11608628516126174\n",
      "Mean mse: 0.005867312482577109\n",
      "Epoch  18\n",
      "1250/1250 [==============================] - 1s 1ms/step - loss: 0.0362 - val_loss: 0.0641\n",
      "Flipped 7.449999999999999 % of all elements\n",
      "Mean IOU: 0.42853327223225063\n",
      "Mean dist: 0.11527491588798737\n",
      "Mean mse: 0.005853700809671007\n",
      "Epoch  19\n",
      "1250/1250 [==============================] - 1s 937us/step - loss: 0.0360 - val_loss: 0.0640\n",
      "Flipped 8.02 % of all elements\n",
      "Mean IOU: 0.43241756871492054\n",
      "Mean dist: 0.11562834900133039\n",
      "Mean mse: 0.0058235304972110765\n",
      "Epoch  20\n",
      "1250/1250 [==============================] - 1s 939us/step - loss: 0.0359 - val_loss: 0.0650\n",
      "Flipped 9.3225 % of all elements\n",
      "Mean IOU: 0.4268104415856219\n",
      "Mean dist: 0.1172042644813132\n",
      "Mean mse: 0.005933186310086354\n",
      "Epoch  21\n",
      "1250/1250 [==============================] - 2s 1ms/step - loss: 0.0358 - val_loss: 0.0645\n",
      "Flipped 8.3 % of all elements\n",
      "Mean IOU: 0.4337255912692134\n",
      "Mean dist: 0.11474323231033566\n",
      "Mean mse: 0.005783366337694073\n",
      "Epoch  22\n",
      "1250/1250 [==============================] - 1s 911us/step - loss: 0.0356 - val_loss: 0.0646\n",
      "Flipped 7.1675 % of all elements\n",
      "Mean IOU: 0.4279732725674139\n",
      "Mean dist: 0.11607949077321457\n",
      "Mean mse: 0.005879485046076884\n",
      "Epoch  23\n",
      "1250/1250 [==============================] - 1s 933us/step - loss: 0.0354 - val_loss: 0.0644\n",
      "Flipped 7.1625 % of all elements\n",
      "Mean IOU: 0.4306319232101747\n",
      "Mean dist: 0.11312743048525042\n",
      "Mean mse: 0.005671991939848697\n",
      "Epoch  24\n",
      "1250/1250 [==============================] - 1s 1ms/step - loss: 0.0352 - val_loss: 0.0644\n",
      "Flipped 8.19 % of all elements\n",
      "Mean IOU: 0.43196081894587485\n",
      "Mean dist: 0.11456746425954761\n",
      "Mean mse: 0.005704149047610086\n",
      "Epoch  25\n",
      "1250/1250 [==============================] - 1s 928us/step - loss: 0.0351 - val_loss: 0.0656\n",
      "Flipped 7.739999999999999 % of all elements\n",
      "Mean IOU: 0.4317109893863532\n",
      "Mean dist: 0.11462741929911306\n",
      "Mean mse: 0.005761331268735276\n",
      "Epoch  26\n",
      "1250/1250 [==============================] - 1s 926us/step - loss: 0.0350 - val_loss: 0.0644\n",
      "Flipped 7.6875 % of all elements\n",
      "Mean IOU: 0.435178994886527\n",
      "Mean dist: 0.11421844601380715\n",
      "Mean mse: 0.005704526047026497\n",
      "Epoch  27\n",
      "1250/1250 [==============================] - 1s 950us/step - loss: 0.0349 - val_loss: 0.0642\n",
      "Flipped 7.455 % of all elements\n",
      "Mean IOU: 0.43388628182851996\n",
      "Mean dist: 0.11474121336569476\n",
      "Mean mse: 0.00576234349158402\n",
      "Epoch  28\n",
      "1250/1250 [==============================] - 1s 937us/step - loss: 0.0347 - val_loss: 0.0646\n",
      "Flipped 7.517500000000001 % of all elements\n",
      "Mean IOU: 0.4346577761472654\n",
      "Mean dist: 0.1141138443300887\n",
      "Mean mse: 0.005690355331185958\n",
      "Epoch  29\n",
      "1250/1250 [==============================] - 1s 934us/step - loss: 0.0346 - val_loss: 0.0650\n",
      "Flipped 7.4624999999999995 % of all elements\n",
      "Mean IOU: 0.4383062013350984\n",
      "Mean dist: 0.11229869708611179\n",
      "Mean mse: 0.005572125580555527\n",
      "Epoch  30\n",
      "1250/1250 [==============================] - 1s 936us/step - loss: 0.0344 - val_loss: 0.0649\n",
      "Flipped 7.477499999999999 % of all elements\n",
      "Mean IOU: 0.4340695648592893\n",
      "Mean dist: 0.11352857123401737\n",
      "Mean mse: 0.0056599279793746165\n",
      "Epoch  31\n",
      "1250/1250 [==============================] - 1s 936us/step - loss: 0.0342 - val_loss: 0.0655\n",
      "Flipped 7.065 % of all elements\n",
      "Mean IOU: 0.43336391865387597\n",
      "Mean dist: 0.1142108923790047\n",
      "Mean mse: 0.005742348039124093\n",
      "Epoch  32\n",
      "1250/1250 [==============================] - 1s 937us/step - loss: 0.0343 - val_loss: 0.0654\n",
      "Flipped 6.432499999999999 % of all elements\n",
      "Mean IOU: 0.43212358959091546\n",
      "Mean dist: 0.11471452763931916\n",
      "Mean mse: 0.0057500852884626984\n",
      "Epoch  33\n",
      "1250/1250 [==============================] - 1s 975us/step - loss: 0.0342 - val_loss: 0.0655\n",
      "Flipped 7.7700000000000005 % of all elements\n",
      "Mean IOU: 0.4361763252313811\n",
      "Mean dist: 0.11351522240117973\n",
      "Mean mse: 0.005671039802153851\n",
      "Epoch  34\n",
      "1250/1250 [==============================] - 1s 938us/step - loss: 0.0340 - val_loss: 0.0653\n",
      "Flipped 8.9775 % of all elements\n",
      "Mean IOU: 0.42909300305891174\n",
      "Mean dist: 0.1157356612812519\n",
      "Mean mse: 0.005818919372162908\n",
      "Epoch  35\n",
      "1250/1250 [==============================] - 1s 911us/step - loss: 0.0340 - val_loss: 0.0646\n",
      "Flipped 7.8825 % of all elements\n",
      "Mean IOU: 0.435303195158858\n",
      "Mean dist: 0.11296827204762415\n",
      "Mean mse: 0.005601786218181427\n",
      "Epoch  36\n"
     ]
    },
    {
     "name": "stdout",
     "output_type": "stream",
     "text": [
      "1250/1250 [==============================] - 1s 913us/step - loss: 0.0338 - val_loss: 0.0660\n",
      "Flipped 7.305000000000001 % of all elements\n",
      "Mean IOU: 0.440984121559301\n",
      "Mean dist: 0.11079593896837996\n",
      "Mean mse: 0.005501127870731501\n",
      "Epoch  37\n",
      "1250/1250 [==============================] - 1s 1ms/step - loss: 0.0339 - val_loss: 0.0655\n",
      "Flipped 7.085 % of all elements\n",
      "Mean IOU: 0.43824347178567313\n",
      "Mean dist: 0.11348590213712736\n",
      "Mean mse: 0.005644086069519003\n",
      "Epoch  38\n",
      "1250/1250 [==============================] - 1s 936us/step - loss: 0.0337 - val_loss: 0.0659\n",
      "Flipped 6.775 % of all elements\n",
      "Mean IOU: 0.4478047444492153\n",
      "Mean dist: 0.11158379877285131\n",
      "Mean mse: 0.005580184248357176\n",
      "Epoch  39\n",
      "1250/1250 [==============================] - 1s 912us/step - loss: 0.0337 - val_loss: 0.0656\n",
      "Flipped 7.005 % of all elements\n",
      "Mean IOU: 0.4382887777899613\n",
      "Mean dist: 0.11316574048220585\n",
      "Mean mse: 0.005629178013777667\n",
      "Epoch  40\n",
      "1250/1250 [==============================] - 1s 901us/step - loss: 0.0336 - val_loss: 0.0659\n",
      "Flipped 6.5325 % of all elements\n",
      "Mean IOU: 0.44053676347916654\n",
      "Mean dist: 0.11147313160420506\n",
      "Mean mse: 0.005495286023381363\n",
      "Epoch  41\n",
      "1250/1250 [==============================] - 1s 880us/step - loss: 0.0336 - val_loss: 0.0650\n",
      "Flipped 7.8950000000000005 % of all elements\n",
      "Mean IOU: 0.4403418070381898\n",
      "Mean dist: 0.11178735128820683\n",
      "Mean mse: 0.0054835272144219335\n",
      "Epoch  42\n",
      "1250/1250 [==============================] - 1s 884us/step - loss: 0.0335 - val_loss: 0.0648\n",
      "Flipped 7.047499999999999 % of all elements\n",
      "Mean IOU: 0.43550891917168627\n",
      "Mean dist: 0.11219323237284884\n",
      "Mean mse: 0.005535012500209539\n",
      "Epoch  43\n",
      "1250/1250 [==============================] - 2s 2ms/step - loss: 0.0334 - val_loss: 0.0662\n",
      "Flipped 7.0874999999999995 % of all elements\n",
      "Mean IOU: 0.4377652604304828\n",
      "Mean dist: 0.11183111606853124\n",
      "Mean mse: 0.005527802360703874\n",
      "Epoch  44\n",
      "1250/1250 [==============================] - 1s 894us/step - loss: 0.0336 - val_loss: 0.0645\n",
      "Flipped 7.0525 % of all elements\n",
      "Mean IOU: 0.43606963596372944\n",
      "Mean dist: 0.11316584479281729\n",
      "Mean mse: 0.005579825872885838\n",
      "Epoch  45\n",
      "1250/1250 [==============================] - 1s 939us/step - loss: 0.0334 - val_loss: 0.0657\n",
      "Flipped 6.6725 % of all elements\n",
      "Mean IOU: 0.43942963207434793\n",
      "Mean dist: 0.11214501054110997\n",
      "Mean mse: 0.005553043228494276\n",
      "Epoch  46\n",
      "1250/1250 [==============================] - 1s 941us/step - loss: 0.0334 - val_loss: 0.0646\n",
      "Flipped 6.775 % of all elements\n",
      "Mean IOU: 0.4335897932395901\n",
      "Mean dist: 0.11226438849457133\n",
      "Mean mse: 0.005572073497837392\n",
      "Epoch  47\n",
      "1250/1250 [==============================] - 1s 940us/step - loss: 0.0334 - val_loss: 0.0651\n",
      "Flipped 6.8675 % of all elements\n",
      "Mean IOU: 0.43726326118395537\n",
      "Mean dist: 0.11220086535923944\n",
      "Mean mse: 0.005519428760160141\n",
      "Epoch  48\n",
      "1250/1250 [==============================] - 1s 926us/step - loss: 0.0331 - val_loss: 0.0657\n",
      "Flipped 6.515 % of all elements\n",
      "Mean IOU: 0.43366833094901946\n",
      "Mean dist: 0.11402126389269272\n",
      "Mean mse: 0.005654742621364671\n",
      "Epoch  49\n",
      "1250/1250 [==============================] - 1s 939us/step - loss: 0.0332 - val_loss: 0.0652\n",
      "Flipped 7.215000000000001 % of all elements\n",
      "Mean IOU: 0.44723274194367013\n",
      "Mean dist: 0.11046982557419745\n",
      "Mean mse: 0.005415364366289993\n"
     ]
    }
   ],
   "source": [
    "from itertools import permutations\n",
    "num_epochs = 50\n",
    "iou_max = 0.\n",
    "fact = math.factorial(num_objects)\n",
    "\n",
    "flipped_train_y = np.array(train_y)\n",
    "flipped = np.zeros((len(flipped_train_y), num_epochs))\n",
    "ious_epochs = np.zeros((len(flipped_train_y), num_epochs))\n",
    "dists_epochs = np.zeros((len(flipped_train_y), num_epochs))\n",
    "mses_epochs = np.zeros((len(flipped_train_y), num_epochs))\n",
    "\n",
    "for epoch in range(num_epochs):\n",
    "    print('Epoch ', epoch)\n",
    "    model.fit(train_X, flipped_train_y, epochs = 1, validation_data = (test_X, test_y), verbose = 1)\n",
    "    pred_y = model.predict(train_X)\n",
    "    \n",
    "    for i, (pred_bboxes, exp_bboxes) in enumerate(zip(pred_y, flipped_train_y)):\n",
    "        \n",
    "        pred = pred_bboxes.reshape(num_objects, -1)\n",
    "        exp = exp_bboxes.reshape(num_objects, -1)\n",
    "        p_exp = list(permutations(exp))\n",
    "        \n",
    "        # ignore the shape value\n",
    "        pred_bboxes = pred[:, :4]\n",
    "        exp_bboxes = exp[:, :4]\n",
    "        \n",
    "        p_exp_bboxes = list(permutations(exp_bboxes))\n",
    "        ious = np.zeros((fact, num_objects))\n",
    "        dists = np.zeros((fact, num_objects))\n",
    "        mses = np.zeros((fact, num_objects))\n",
    "        p_ious = np.zeros(fact)\n",
    "        p_mses = np.zeros(fact)\n",
    "        p_dists = np.zeros(fact)\n",
    "        \n",
    "        for j, exp_bboxes in enumerate(p_exp_bboxes):\n",
    "            exp_bboxes = list(exp_bboxes) \n",
    "            for k in range(num_objects):\n",
    "                ious[j, k] = IOU(exp_bboxes[k], pred_bboxes[k])\n",
    "                dists[j, k] = distance(exp_bboxes[k], pred_bboxes[k])\n",
    "                mses[j, k] = np.mean(np.square(exp_bboxes[k] - pred_bboxes[k]))\n",
    "            p_ious[j] = sum(ious[j, :])\n",
    "            p_dists[j] = sum(dists[j, :])\n",
    "            p_mses[j] = sum(mses[j, :])\n",
    "            \n",
    "        keymax = p_mses.argmin()\n",
    "        ious_epochs[i, epoch] += p_ious[keymax] / num_objects\n",
    "        dists_epochs[i, epoch] += p_dists[keymax] / num_objects\n",
    "        mses_epochs[i, epoch] += p_mses[keymax] / num_objects\n",
    "        \n",
    "        flipped_train_y[i] = np.array(p_exp[keymax]).flatten()\n",
    "        if keymax != 0:\n",
    "            flipped[i, epoch] = 1.\n",
    "        \n",
    "        if p_ious[keymax] > iou_max:\n",
    "            model.save('Multiple_Rectangles_or_Triangles_model.h5')\n",
    "            iou_max = p_ious[keymax]\n",
    "    \n",
    "    print('Flipped {} % of all elements'.format(np.mean(flipped[:, epoch]) * 100.))\n",
    "    print('Mean IOU: {}'.format(np.mean(ious_epochs[:, epoch])))\n",
    "    print('Mean dist: {}'.format(np.mean(dists_epochs[:, epoch])))\n",
    "    print('Mean mse: {}'.format(np.mean(mses_epochs[:, epoch])))"
   ]
  },
  {
   "cell_type": "markdown",
   "metadata": {},
   "source": [
    "## Flipping Track"
   ]
  },
  {
   "cell_type": "code",
   "execution_count": 31,
   "metadata": {
    "ExecuteTime": {
     "end_time": "2016-07-03T16:32:11.172000",
     "start_time": "2016-07-03T16:32:07.209000"
    }
   },
   "outputs": [
    {
     "data": {
      "image/png": "[encoded data removed]",
      "text/plain": [
       "<Figure size 432x288 with 1 Axes>"
      ]
     },
     "metadata": {
      "needs_background": "light"
     },
     "output_type": "display_data"
    }
   ],
   "source": [
    "# Show flippings for a few training samples.\n",
    "plt.pcolormesh(flipped[:, :], cmap = 'Greys')\n",
    "plt.xlabel('Epoch')\n",
    "plt.ylabel('Training sample')\n",
    "plt.savefig('multiple-rectangles_or_triangles_flips.png', dpi = 100)\n",
    "plt.show()"
   ]
  },
  {
   "cell_type": "markdown",
   "metadata": {},
   "source": [
    "## Metrics Track"
   ]
  },
  {
   "cell_type": "code",
   "execution_count": 32,
   "metadata": {
    "ExecuteTime": {
     "end_time": "2016-07-03T16:32:15.670000",
     "start_time": "2016-07-03T16:32:15.223000"
    }
   },
   "outputs": [
    {
     "data": {
      "image/png": "[encoded data removed]",
      "text/plain": [
       "<Figure size 432x288 with 1 Axes>"
      ]
     },
     "metadata": {
      "needs_background": "light"
     },
     "output_type": "display_data"
    }
   ],
   "source": [
    "# Plot metrics on the training data.\n",
    "mean_ious_epoch = np.mean(ious_epochs, axis = 0)\n",
    "mean_dists_epoch = np.mean(dists_epochs, axis = 0)\n",
    "mean_mses_epoch = np.mean(mses_epochs, axis = 0)\n",
    "plt.plot(mean_ious_epoch, label = 'Mean IOU')  # between predicted and assigned true bboxes\n",
    "plt.plot(mean_dists_epoch, label = 'Mean distance')  # relative to image size\n",
    "plt.plot(mean_mses_epoch, label = 'Mean mse')\n",
    "plt.annotate(np.round(np.max(mean_ious_epoch), 3), (len(mean_ious_epoch) - 1, mean_ious_epoch[-1] + 0.02), horizontalalignment = 'right', color = 'b')\n",
    "plt.annotate(np.round(np.min(mean_dists_epoch), 3), (len(mean_dists_epoch) - 1, mean_dists_epoch[-1] + 0.02), horizontalalignment = 'right', color = 'g')\n",
    "plt.annotate(np.round(np.min(mean_mses_epoch), 3), (len(mean_mses_epoch) - 1, mean_mses_epoch[-1] + 0.02), horizontalalignment = 'right', color = 'r')\n",
    "\n",
    "plt.xlabel('Epoch')\n",
    "# Hide y tick\n",
    "ax = plt.gca()\n",
    "ax.axes.yaxis.set_visible(False)\n",
    "\n",
    "plt.legend()\n",
    "plt.ylim(0, 0.8)\n",
    "plt.savefig('training_metrics.png', dpi = 100)"
   ]
  },
  {
   "cell_type": "markdown",
   "metadata": {},
   "source": [
    "## Denormalize Data"
   ]
  },
  {
   "cell_type": "code",
   "execution_count": 33,
   "metadata": {
    "ExecuteTime": {
     "end_time": "2016-07-03T16:32:21.325000",
     "start_time": "2016-07-03T16:32:20.874000"
    }
   },
   "outputs": [
    {
     "data": {
      "text/plain": [
       "((10000, 3, 4), (10000, 3, 1))"
      ]
     },
     "execution_count": 33,
     "metadata": {},
     "output_type": "execute_result"
    }
   ],
   "source": [
    "pred_y = model.predict(test_X)\n",
    "pred_y = pred_y.reshape(len(pred_y), num_objects, -1)\n",
    "pred_bboxes = pred_y[..., :4] * img_size\n",
    "pred_shapes = pred_y[..., 4:5]\n",
    "pred_bboxes.shape, pred_shapes.shape"
   ]
  },
  {
   "cell_type": "markdown",
   "metadata": {},
   "source": [
    "## Visualize Results"
   ]
  },
  {
   "cell_type": "code",
   "execution_count": 34,
   "metadata": {
    "ExecuteTime": {
     "end_time": "2016-07-03T16:33:28.201000",
     "start_time": "2016-07-03T16:33:26.046000"
    }
   },
   "outputs": [
    {
     "data": {
      "image/png": "[encoded data removed]",
      "text/plain": [
       "<Figure size 1152x576 with 8 Axes>"
      ]
     },
     "metadata": {
      "needs_background": "light"
     },
     "output_type": "display_data"
    }
   ],
   "source": [
    "plt.figure(figsize = (16, 8))\n",
    "for i_subplot in range(1, 9):\n",
    "    plt.subplot(2, 4, i_subplot)\n",
    "    i = np.random.randint(len(test_X))\n",
    "    plt.imshow(test_imgs[i].T, cmap = 'Greys', interpolation = 'none', origin = 'lower', extent = [0, img_size, 0, img_size])\n",
    "    for pred_bbox, exp_bbox, pred_shape in zip(pred_bboxes[i], test_bboxes[i], pred_shapes[i]):\n",
    "        plt.gca().add_patch(matplotlib.patches.Rectangle((pred_bbox[0], pred_bbox[1]), pred_bbox[2], pred_bbox[3], lw = 2, ec = 'r' if pred_shape[0] <= 0.5 else 'b', fc = 'none'))\n",
    "        # TODO: Calculate max IOU with all expected bounding boxes.\n",
    "#         plt.annotate('IOU: {:.2f}'.format(IOU(pred_bbox, exp_bbox)), (pred_bbox[0], pred_bbox[1]+pred_bbox[3]+0.4), color='r')"
   ]
  },
  {
   "cell_type": "markdown",
   "metadata": {
    "collapsed": true
   },
   "source": [
    "## Overall Assessment"
   ]
  },
  {
   "cell_type": "code",
   "execution_count": 36,
   "metadata": {},
   "outputs": [
    {
     "name": "stdout",
     "output_type": "stream",
     "text": [
      "IoU: 0.44049974894277083\n",
      "Distance: 0.11516086963991934\n",
      "MSE: 0.02735857395528621\n"
     ]
    }
   ],
   "source": [
    "from keras.models import load_model\n",
    "from itertools import permutations\n",
    "fact = math.factorial(num_objects)\n",
    "model_test = load_model('Multiple_Rectangles_or_Triangles_model.h5')\n",
    "pred_y = model_test.predict(test_X)\n",
    "sum_iou = 0.\n",
    "sum_dist = 0.\n",
    "sum_mse = 0.\n",
    "test_y = np.array(test_y)\n",
    "\n",
    "for pred_bboxes, test_bboxes in zip(pred_y, test_y):\n",
    "    \n",
    "    pred_bboxes = pred_bboxes.reshape(num_objects, -1)\n",
    "    test_bboxes = test_bboxes.reshape(num_objects, -1)\n",
    "    \n",
    "    p_test_bboxes = list(permutations(test_bboxes))\n",
    "    p_ious = np.zeros(fact)\n",
    "    p_dists = np.zeros(fact)\n",
    "    p_mses = np.zeros(fact)\n",
    "    ious = np.zeros((fact, num_objects))\n",
    "    dists = np.zeros((fact, num_objects))\n",
    "    mses = np.zeros((fact, num_objects))\n",
    "    \n",
    "    for j, test_bboxes in enumerate(p_test_bboxes):\n",
    "        test_bboxes = list(test_bboxes) \n",
    "        for k in range(num_objects):\n",
    "            ious[j, k] = IOU(test_bboxes[k], pred_bboxes[k])\n",
    "            dists[j, k] = distance(test_bboxes[k], pred_bboxes[k])\n",
    "            mses[j, k] = np.mean(np.square(test_bboxes[k] - pred_bboxes[k]))\n",
    "        p_ious[j] = sum(ious[j, :])\n",
    "        p_dists[j] = sum(dists[j, :])\n",
    "        p_mses[j] = sum(mses[j, :])\n",
    "            \n",
    "    keymax = p_ious.argmax()\n",
    "    sum_iou += p_ious[keymax] \n",
    "    sum_dist += p_dists[keymax] \n",
    "    sum_mse += p_mses[keymax] \n",
    "\n",
    "mean_iou = sum_iou / (num_objects * len(pred_y))\n",
    "mean_dist = sum_dist / (num_objects * len(pred_y))\n",
    "mean_mse = sum_mse / (num_objects * len(pred_y))\n",
    "print('IoU:', mean_iou)\n",
    "print('Distance:', mean_dist)\n",
    "print('MSE:', mean_mse)"
   ]
  },
  {
   "cell_type": "code",
   "execution_count": null,
   "metadata": {},
   "outputs": [],
   "source": []
  }
 ],
 "metadata": {
  "kernelspec": {
   "display_name": "Python (tensorflow-gpu)",
   "language": "python",
   "name": "tf-gpu"
  },
  "language_info": {
   "codemirror_mode": {
    "name": "ipython",
    "version": 3
   },
   "file_extension": ".py",
   "mimetype": "text/x-python",
   "name": "python",
   "nbconvert_exporter": "python",
   "pygments_lexer": "ipython3",
   "version": "3.8.3"
  }
 },
 "nbformat": 4,
 "nbformat_minor": 1
}
