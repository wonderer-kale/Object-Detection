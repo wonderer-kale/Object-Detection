{
 "cells": [
  {
   "cell_type": "markdown",
   "metadata": {},
   "source": [
    "# Two Rectangles Detection"
   ]
  },
  {
   "cell_type": "markdown",
   "metadata": {},
   "source": [
    "## Import Packages"
   ]
  },
  {
   "cell_type": "code",
   "execution_count": 1,
   "metadata": {},
   "outputs": [],
   "source": [
    "import numpy as np\n",
    "import matplotlib.pyplot as plt\n",
    "import matplotlib\n",
    "%matplotlib inline"
   ]
  },
  {
   "cell_type": "markdown",
   "metadata": {},
   "source": [
    "## Data Generation"
   ]
  },
  {
   "cell_type": "code",
   "execution_count": 2,
   "metadata": {},
   "outputs": [
    {
     "data": {
      "text/plain": [
       "((50000, 8, 8), (50000, 2, 4))"
      ]
     },
     "execution_count": 2,
     "metadata": {},
     "output_type": "execute_result"
    }
   ],
   "source": [
    "# Create images with random rectangles and bounding boxes. \n",
    "num_imgs = 50000\n",
    "\n",
    "img_size = 8\n",
    "min_rect_size = 1\n",
    "max_rect_size = 4\n",
    "num_objects = 2\n",
    "\n",
    "bboxes = np.zeros((num_imgs, num_objects, 4))\n",
    "imgs = np.zeros((num_imgs, img_size, img_size))\n",
    "\n",
    "for i_img in range(num_imgs):\n",
    "    for i_object in range(num_objects):\n",
    "        w, h = np.random.randint(min_rect_size, max_rect_size, size = 2)\n",
    "        x = np.random.randint(0, img_size - w)\n",
    "        y = np.random.randint(0, img_size - h)\n",
    "        imgs[i_img, x:x + w, y:y + h] = 1.\n",
    "        bboxes[i_img, i_object] = [x, y, w, h]\n",
    "        \n",
    "imgs.shape, bboxes.shape"
   ]
  },
  {
   "cell_type": "code",
   "execution_count": 3,
   "metadata": {
    "scrolled": true
   },
   "outputs": [
    {
     "data": {
      "image/png": "[encoded data removed]",
      "text/plain": [
       "<Figure size 432x288 with 1 Axes>"
      ]
     },
     "metadata": {
      "needs_background": "light"
     },
     "output_type": "display_data"
    }
   ],
   "source": [
    "i = 0\n",
    "plt.imshow(imgs[i].T, cmap = 'Greys', interpolation = 'none', origin = 'lower', extent = [0, img_size, 0, img_size])\n",
    "for bbox in bboxes[i]:\n",
    "    plt.gca().add_patch(matplotlib.patches.Rectangle((bbox[0], bbox[1]), bbox[2], bbox[3], lw = 2, ec = 'r', fc = 'none'))"
   ]
  },
  {
   "cell_type": "markdown",
   "metadata": {},
   "source": [
    "## Preprocessing"
   ]
  },
  {
   "cell_type": "code",
   "execution_count": 4,
   "metadata": {},
   "outputs": [
    {
     "data": {
      "text/plain": [
       "((50000, 64), -5.732303520744608e-17, 0.9999999999999969)"
      ]
     },
     "execution_count": 4,
     "metadata": {},
     "output_type": "execute_result"
    }
   ],
   "source": [
    "# Reshape and normalize the data to mean 0 and std 1. \n",
    "X = (imgs.reshape(num_imgs, -1) - np.mean(imgs)) / np.std(imgs)\n",
    "X.shape, np.mean(X), np.std(X)"
   ]
  },
  {
   "cell_type": "code",
   "execution_count": 5,
   "metadata": {},
   "outputs": [
    {
     "data": {
      "text/plain": [
       "((50000, 8), 0.281383125, 0.17507482176268058)"
      ]
     },
     "execution_count": 5,
     "metadata": {},
     "output_type": "execute_result"
    }
   ],
   "source": [
    "# Normalize x, y, w, h by img_size, so that all values are between 0 and 1.\n",
    "# Important: Do not shift to negative values (e.g. by setting to mean 0), because the IOU calculation needs positive w and h.\n",
    "y = bboxes.reshape(num_imgs, -1) / img_size\n",
    "y.shape, np.mean(y), np.std(y)"
   ]
  },
  {
   "cell_type": "markdown",
   "metadata": {},
   "source": [
    "## Train Test Split"
   ]
  },
  {
   "cell_type": "code",
   "execution_count": 6,
   "metadata": {},
   "outputs": [],
   "source": [
    "# Split training and test.\n",
    "i = int(0.8 * num_imgs)\n",
    "train_X = X[:i]\n",
    "test_X = X[i:]\n",
    "train_y = y[:i]\n",
    "test_y = y[i:]\n",
    "test_imgs = imgs[i:]\n",
    "test_bboxes = bboxes[i:]"
   ]
  },
  {
   "cell_type": "markdown",
   "metadata": {},
   "source": [
    "## Model"
   ]
  },
  {
   "cell_type": "code",
   "execution_count": 7,
   "metadata": {
    "scrolled": false
   },
   "outputs": [
    {
     "name": "stderr",
     "output_type": "stream",
     "text": [
      "WARNING:root:Limited tf.compat.v2.summary API due to missing TensorBoard installation.\n",
      "WARNING:root:Limited tf.compat.v2.summary API due to missing TensorBoard installation.\n",
      "WARNING:root:Limited tf.compat.v2.summary API due to missing TensorBoard installation.\n",
      "WARNING:root:Limited tf.summary API due to missing TensorBoard installation.\n"
     ]
    },
    {
     "name": "stdout",
     "output_type": "stream",
     "text": [
      "Model: \"sequential\"\n",
      "_________________________________________________________________\n",
      "Layer (type)                 Output Shape              Param #   \n",
      "=================================================================\n",
      "dense (Dense)                (None, 256)               16640     \n",
      "_________________________________________________________________\n",
      "activation (Activation)      (None, 256)               0         \n",
      "_________________________________________________________________\n",
      "dropout (Dropout)            (None, 256)               0         \n",
      "_________________________________________________________________\n",
      "dense_1 (Dense)              (None, 8)                 2056      \n",
      "=================================================================\n",
      "Total params: 18,696\n",
      "Trainable params: 18,696\n",
      "Non-trainable params: 0\n",
      "_________________________________________________________________\n"
     ]
    }
   ],
   "source": [
    "# Build the model.\n",
    "from keras.models import Sequential\n",
    "from keras.layers import Dense, Activation, Dropout\n",
    "from keras.callbacks import ModelCheckpoint\n",
    "from keras.models import load_model\n",
    "model = Sequential([\n",
    "        Dense(256, input_dim = X.shape[-1]), \n",
    "        Activation('relu'), \n",
    "        Dropout(0.4), \n",
    "        Dense(y.shape[-1])\n",
    "        ])\n",
    "model.compile(loss = 'mse', optimizer = 'adam', metrics = ['accuracy'])\n",
    "model.summary()"
   ]
  },
  {
   "cell_type": "markdown",
   "metadata": {},
   "source": [
    "## IoU Calculating Function"
   ]
  },
  {
   "cell_type": "code",
   "execution_count": 7,
   "metadata": {},
   "outputs": [],
   "source": [
    "def IOU(bbox1, bbox2):\n",
    "    '''Calculate overlap between two bounding boxes [x, y, w, h] as the area of intersection over the area of unity'''\n",
    "    x1, y1, w1, h1 = bbox1[0], bbox1[1], bbox1[2], bbox1[3]\n",
    "    x2, y2, w2, h2 = bbox2[0], bbox2[1], bbox2[2], bbox2[3]\n",
    "\n",
    "    w_I = min(x1 + w1, x2 + w2) - max(x1, x2)\n",
    "    h_I = min(y1 + h1, y2 + h2) - max(y1, y2)\n",
    "    if w_I <= 0 or h_I <= 0:  # no overlap\n",
    "        return 0\n",
    "    I = w_I * h_I\n",
    "\n",
    "    U = w1 * h1 + w2 * h2 - I\n",
    "\n",
    "    return I / U"
   ]
  },
  {
   "cell_type": "markdown",
   "metadata": {},
   "source": [
    "## Distance Calculating function"
   ]
  },
  {
   "cell_type": "code",
   "execution_count": null,
   "metadata": {},
   "outputs": [],
   "source": [
    "### def distance(bbox1, bbox2):\n",
    "    return np.sqrt(np.sum(np.square(bbox1[:2] - bbox2[:2])))"
   ]
  },
  {
   "cell_type": "markdown",
   "metadata": {},
   "source": [
    "## Training"
   ]
  },
  {
   "cell_type": "code",
   "execution_count": 10,
   "metadata": {},
   "outputs": [
    {
     "name": "stdout",
     "output_type": "stream",
     "text": [
      "Epoch:  0\n",
      "1250/1250 [==============================] - 1s 948us/step - loss: 0.0489 - accuracy: 0.2790 - val_loss: 0.0185 - val_accuracy: 0.3353\n",
      "Flipped 19141.0 training samples (47.8525 %)\n",
      "Mean IOU: 0.1705845819294847\n",
      "Mean dist: 0.20174097553304918\n",
      "Mean mse: 0.008324379682539617\n",
      "Epoch:  1\n",
      "1250/1250 [==============================] - 2s 1ms/step - loss: 0.0168 - accuracy: 0.4476 - val_loss: 0.0188 - val_accuracy: 0.3653\n",
      "Flipped 8268.0 training samples (20.669999999999998 %)\n",
      "Mean IOU: 0.22076959163535217\n",
      "Mean dist: 0.16611266204970856\n",
      "Mean mse: 0.00612157934714806\n",
      "Epoch:  2\n",
      "1250/1250 [==============================] - 1s 906us/step - loss: 0.0127 - accuracy: 0.5590 - val_loss: 0.0218 - val_accuracy: 0.3908\n",
      "Flipped 4818.0 training samples (12.045 %)\n",
      "Mean IOU: 0.30534792388523213\n",
      "Mean dist: 0.1269469033633127\n",
      "Mean mse: 0.004209951496383174\n",
      "Epoch:  3\n",
      "1250/1250 [==============================] - 2s 1ms/step - loss: 0.0101 - accuracy: 0.6194 - val_loss: 0.0236 - val_accuracy: 0.4440\n",
      "Flipped 3490.0 training samples (8.725 %)\n",
      "Mean IOU: 0.3610121966455678\n",
      "Mean dist: 0.10718183803632592\n",
      "Mean mse: 0.003374547394806213\n",
      "Epoch:  4\n",
      "1250/1250 [==============================] - 1s 943us/step - loss: 0.0087 - accuracy: 0.6625 - val_loss: 0.0235 - val_accuracy: 0.4398\n",
      "Flipped 2102.0 training samples (5.255 %)\n",
      "Mean IOU: 0.40113836872569264\n",
      "Mean dist: 0.09435737317863739\n",
      "Mean mse: 0.0028051214477714907\n",
      "Epoch:  5\n",
      "1250/1250 [==============================] - 2s 1ms/step - loss: 0.0078 - accuracy: 0.6760 - val_loss: 0.0249 - val_accuracy: 0.4303\n",
      "Flipped 1550.0 training samples (3.875 %)\n",
      "Mean IOU: 0.43128963064069475\n",
      "Mean dist: 0.08592448165644233\n",
      "Mean mse: 0.0024954743668336096\n",
      "Epoch:  6\n",
      "1250/1250 [==============================] - 2s 1ms/step - loss: 0.0073 - accuracy: 0.6855 - val_loss: 0.0248 - val_accuracy: 0.4402\n",
      "Flipped 1325.0 training samples (3.3125 %)\n",
      "Mean IOU: 0.4513929363459232\n",
      "Mean dist: 0.0814406038787733\n",
      "Mean mse: 0.0022950059361334725\n",
      "Epoch:  7\n",
      "1250/1250 [==============================] - 1s 901us/step - loss: 0.0069 - accuracy: 0.6950 - val_loss: 0.0247 - val_accuracy: 0.4404\n",
      "Flipped 1062.0 training samples (2.6550000000000002 %)\n",
      "Mean IOU: 0.4581353642647544\n",
      "Mean dist: 0.07791031897644177\n",
      "Mean mse: 0.0021432675243297145\n",
      "Epoch:  8\n",
      "1250/1250 [==============================] - 1s 851us/step - loss: 0.0066 - accuracy: 0.7038 - val_loss: 0.0253 - val_accuracy: 0.4452\n",
      "Flipped 1112.0 training samples (2.78 %)\n",
      "Mean IOU: 0.4714075033819827\n",
      "Mean dist: 0.07482716946336557\n",
      "Mean mse: 0.002015442199788164\n",
      "Epoch:  9\n",
      "1250/1250 [==============================] - 1s 910us/step - loss: 0.0064 - accuracy: 0.7052 - val_loss: 0.0254 - val_accuracy: 0.4333\n",
      "Flipped 1058.0 training samples (2.645 %)\n",
      "Mean IOU: 0.4682904095325957\n",
      "Mean dist: 0.07273435435520821\n",
      "Mean mse: 0.001973573810937823\n",
      "Epoch:  10\n",
      "1250/1250 [==============================] - 1s 884us/step - loss: 0.0063 - accuracy: 0.7052 - val_loss: 0.0257 - val_accuracy: 0.4519\n",
      "Flipped 849.0 training samples (2.1225 %)\n",
      "Mean IOU: 0.4811900516060039\n",
      "Mean dist: 0.0712506040189548\n",
      "Mean mse: 0.0018871952317862518\n",
      "Epoch:  11\n",
      "1250/1250 [==============================] - 1s 862us/step - loss: 0.0061 - accuracy: 0.7121 - val_loss: 0.0257 - val_accuracy: 0.4427\n",
      "Flipped 705.0 training samples (1.7624999999999997 %)\n",
      "Mean IOU: 0.48810688097855454\n",
      "Mean dist: 0.070272718253676\n",
      "Mean mse: 0.0018545862224327873\n",
      "Epoch:  12\n",
      "1250/1250 [==============================] - 1s 947us/step - loss: 0.0060 - accuracy: 0.7128 - val_loss: 0.0254 - val_accuracy: 0.4315\n",
      "Flipped 833.0 training samples (2.0825 %)\n",
      "Mean IOU: 0.49920478683223657\n",
      "Mean dist: 0.06832794419404085\n",
      "Mean mse: 0.0018096018651126173\n",
      "Epoch:  13\n",
      "1250/1250 [==============================] - 1s 942us/step - loss: 0.0059 - accuracy: 0.7144 - val_loss: 0.0260 - val_accuracy: 0.4258\n",
      "Flipped 802.0 training samples (2.005 %)\n",
      "Mean IOU: 0.49022930079945953\n",
      "Mean dist: 0.070234112250089\n",
      "Mean mse: 0.0018066037327580838\n",
      "Epoch:  14\n",
      "1250/1250 [==============================] - 1s 892us/step - loss: 0.0058 - accuracy: 0.7175 - val_loss: 0.0257 - val_accuracy: 0.4417\n",
      "Flipped 688.0 training samples (1.72 %)\n",
      "Mean IOU: 0.4998779259750724\n",
      "Mean dist: 0.06609400254031063\n",
      "Mean mse: 0.001723136675638359\n",
      "Epoch:  15\n",
      "1250/1250 [==============================] - 2s 1ms/step - loss: 0.0057 - accuracy: 0.7195 - val_loss: 0.0256 - val_accuracy: 0.4361\n",
      "Flipped 559.0 training samples (1.3975 %)\n",
      "Mean IOU: 0.5046117240966143\n",
      "Mean dist: 0.06480467501634582\n",
      "Mean mse: 0.0016584488156432236\n",
      "Epoch:  16\n",
      "1250/1250 [==============================] - 2s 2ms/step - loss: 0.0057 - accuracy: 0.7195 - val_loss: 0.0262 - val_accuracy: 0.4297\n",
      "Flipped 716.0 training samples (1.79 %)\n",
      "Mean IOU: 0.5031575215217841\n",
      "Mean dist: 0.06520759503479844\n",
      "Mean mse: 0.0016813285318882161\n",
      "Epoch:  17\n",
      "1250/1250 [==============================] - 1s 890us/step - loss: 0.0057 - accuracy: 0.7184 - val_loss: 0.0260 - val_accuracy: 0.4442\n",
      "Flipped 724.0 training samples (1.81 %)\n",
      "Mean IOU: 0.5028742678251543\n",
      "Mean dist: 0.06451209573801606\n",
      "Mean mse: 0.0016451265125940048\n",
      "Epoch:  18\n",
      "1250/1250 [==============================] - 1s 887us/step - loss: 0.0056 - accuracy: 0.7243 - val_loss: 0.0261 - val_accuracy: 0.4523\n",
      "Flipped 622.0 training samples (1.555 %)\n",
      "Mean IOU: 0.5047414540029375\n",
      "Mean dist: 0.065051543970865\n",
      "Mean mse: 0.001649393443667316\n",
      "Epoch:  19\n",
      "1250/1250 [==============================] - 1s 891us/step - loss: 0.0055 - accuracy: 0.7268 - val_loss: 0.0259 - val_accuracy: 0.4424\n",
      "Flipped 658.0 training samples (1.645 %)\n",
      "Mean IOU: 0.5067190601132862\n",
      "Mean dist: 0.06391829405513613\n",
      "Mean mse: 0.001603576454141882\n",
      "Epoch:  20\n",
      "1250/1250 [==============================] - 1s 889us/step - loss: 0.0056 - accuracy: 0.7254 - val_loss: 0.0261 - val_accuracy: 0.4528\n",
      "Flipped 507.0 training samples (1.2675 %)\n",
      "Mean IOU: 0.502001981928991\n",
      "Mean dist: 0.06478373917994877\n",
      "Mean mse: 0.001624882155426672\n",
      "Epoch:  21\n",
      "1250/1250 [==============================] - 1s 1ms/step - loss: 0.0056 - accuracy: 0.7272 - val_loss: 0.0262 - val_accuracy: 0.4417\n",
      "Flipped 538.0 training samples (1.345 %)\n",
      "Mean IOU: 0.5162983543301267\n",
      "Mean dist: 0.06146232784164931\n",
      "Mean mse: 0.0015654254926406228\n",
      "Epoch:  22\n",
      "1250/1250 [==============================] - 2s 2ms/step - loss: 0.0055 - accuracy: 0.7296 - val_loss: 0.0261 - val_accuracy: 0.4539\n",
      "Flipped 563.0 training samples (1.4075 %)\n",
      "Mean IOU: 0.5095865711418154\n",
      "Mean dist: 0.06376679491847338\n",
      "Mean mse: 0.0015955116366425414\n",
      "Epoch:  23\n",
      "1250/1250 [==============================] - 2s 2ms/step - loss: 0.0055 - accuracy: 0.7299 - val_loss: 0.0259 - val_accuracy: 0.4467\n",
      "Flipped 479.0 training samples (1.1975 %)\n",
      "Mean IOU: 0.5034324054834457\n",
      "Mean dist: 0.06485829526728289\n",
      "Mean mse: 0.0016088492774226414\n",
      "Epoch:  24\n",
      "1250/1250 [==============================] - 1s 894us/step - loss: 0.0055 - accuracy: 0.7251 - val_loss: 0.0258 - val_accuracy: 0.4451\n",
      "Flipped 515.0 training samples (1.2874999999999999 %)\n",
      "Mean IOU: 0.5023905718104233\n",
      "Mean dist: 0.06347917356942238\n",
      "Mean mse: 0.0015809458921695796\n",
      "Epoch:  25\n",
      "1250/1250 [==============================] - 2s 2ms/step - loss: 0.0055 - accuracy: 0.7284 - val_loss: 0.0264 - val_accuracy: 0.4297\n",
      "Flipped 562.0 training samples (1.405 %)\n",
      "Mean IOU: 0.5234350597992569\n",
      "Mean dist: 0.060333190892462675\n",
      "Mean mse: 0.0015114843073602785\n",
      "Epoch:  26\n",
      "1250/1250 [==============================] - 2s 2ms/step - loss: 0.0054 - accuracy: 0.7284 - val_loss: 0.0263 - val_accuracy: 0.4455\n",
      "Flipped 604.0 training samples (1.51 %)\n",
      "Mean IOU: 0.5136763702287047\n",
      "Mean dist: 0.06375242827211117\n",
      "Mean mse: 0.0016030144367613968\n",
      "Epoch:  27\n",
      "1250/1250 [==============================] - 2s 1ms/step - loss: 0.0055 - accuracy: 0.7300 - val_loss: 0.0262 - val_accuracy: 0.4454\n",
      "Flipped 483.0 training samples (1.2075 %)\n",
      "Mean IOU: 0.5124931151928123\n",
      "Mean dist: 0.062108939592816555\n",
      "Mean mse: 0.001554246933850579\n",
      "Epoch:  28\n",
      "1250/1250 [==============================] - 2s 2ms/step - loss: 0.0054 - accuracy: 0.7299 - val_loss: 0.0262 - val_accuracy: 0.4271\n",
      "Flipped 755.0 training samples (1.8875 %)\n",
      "Mean IOU: 0.5129968976233006\n",
      "Mean dist: 0.0616451231389063\n",
      "Mean mse: 0.0015534396747640378\n",
      "Epoch:  29\n",
      "1250/1250 [==============================] - 1s 874us/step - loss: 0.0054 - accuracy: 0.7268 - val_loss: 0.0258 - val_accuracy: 0.4554\n",
      "Flipped 672.0 training samples (1.68 %)\n",
      "Mean IOU: 0.5168176376625901\n",
      "Mean dist: 0.06152331555683936\n",
      "Mean mse: 0.001509603609722366\n",
      "Epoch:  30\n",
      "1250/1250 [==============================] - 2s 2ms/step - loss: 0.0054 - accuracy: 0.7297 - val_loss: 0.0262 - val_accuracy: 0.4480\n",
      "Flipped 510.0 training samples (1.275 %)\n",
      "Mean IOU: 0.522010329806028\n",
      "Mean dist: 0.06032606155941298\n",
      "Mean mse: 0.0015111899289489328\n",
      "Epoch:  31\n",
      "1250/1250 [==============================] - 2s 2ms/step - loss: 0.0054 - accuracy: 0.7351 - val_loss: 0.0262 - val_accuracy: 0.4473\n",
      "Flipped 492.0 training samples (1.23 %)\n",
      "Mean IOU: 0.5165013555468321\n",
      "Mean dist: 0.06268445796439061\n",
      "Mean mse: 0.001562474905571862\n",
      "Epoch:  32\n",
      "1250/1250 [==============================] - 1s 869us/step - loss: 0.0054 - accuracy: 0.7324 - val_loss: 0.0266 - val_accuracy: 0.4523\n",
      "Flipped 483.0 training samples (1.2075 %)\n",
      "Mean IOU: 0.5236865188969974\n",
      "Mean dist: 0.060632986652053855\n",
      "Mean mse: 0.0015006093553914805\n",
      "Epoch:  33\n",
      "1250/1250 [==============================] - 2s 2ms/step - loss: 0.0054 - accuracy: 0.7271 - val_loss: 0.0261 - val_accuracy: 0.4300\n",
      "Flipped 482.0 training samples (1.205 %)\n",
      "Mean IOU: 0.5184602733049436\n",
      "Mean dist: 0.060543132126869924\n",
      "Mean mse: 0.0014981722446822283\n",
      "Epoch:  34\n",
      "1250/1250 [==============================] - 2s 2ms/step - loss: 0.0054 - accuracy: 0.7301 - val_loss: 0.0258 - val_accuracy: 0.4406\n",
      "Flipped 538.0 training samples (1.345 %)\n",
      "Mean IOU: 0.5104303629819508\n",
      "Mean dist: 0.06376051474593201\n",
      "Mean mse: 0.0015705233496616578\n",
      "Epoch:  35\n",
      "1250/1250 [==============================] - 1s 869us/step - loss: 0.0054 - accuracy: 0.7322 - val_loss: 0.0259 - val_accuracy: 0.4383\n",
      "Flipped 651.0 training samples (1.6275000000000002 %)\n",
      "Mean IOU: 0.5139306619747371\n",
      "Mean dist: 0.06092227808505296\n",
      "Mean mse: 0.0014732393862370112\n",
      "Epoch:  36\n",
      "1250/1250 [==============================] - 2s 1ms/step - loss: 0.0054 - accuracy: 0.7326 - val_loss: 0.0262 - val_accuracy: 0.4393\n",
      "Flipped 516.0 training samples (1.29 %)\n",
      "Mean IOU: 0.5214909467301578\n",
      "Mean dist: 0.05968967483941749\n",
      "Mean mse: 0.0014783099144890233\n",
      "Epoch:  37\n",
      "1250/1250 [==============================] - 2s 1ms/step - loss: 0.0053 - accuracy: 0.7337 - val_loss: 0.0262 - val_accuracy: 0.4551\n",
      "Flipped 525.0 training samples (1.3125 %)\n",
      "Mean IOU: 0.5078613773721369\n",
      "Mean dist: 0.06255402919599397\n",
      "Mean mse: 0.0015082185787667949\n",
      "Epoch:  38\n",
      "1250/1250 [==============================] - 1s 894us/step - loss: 0.0054 - accuracy: 0.7314 - val_loss: 0.0260 - val_accuracy: 0.4536\n",
      "Flipped 513.0 training samples (1.2825 %)\n",
      "Mean IOU: 0.5100069752360613\n",
      "Mean dist: 0.06264176074519369\n",
      "Mean mse: 0.0015340038156175602\n",
      "Epoch:  39\n",
      "1250/1250 [==============================] - 1s 1ms/step - loss: 0.0053 - accuracy: 0.7319 - val_loss: 0.0261 - val_accuracy: 0.4408\n",
      "Flipped 466.0 training samples (1.165 %)\n",
      "Mean IOU: 0.5139754415735203\n",
      "Mean dist: 0.06195019103803373\n",
      "Mean mse: 0.001525025883732531\n",
      "Epoch:  40\n",
      "1250/1250 [==============================] - 2s 1ms/step - loss: 0.0053 - accuracy: 0.7313 - val_loss: 0.0262 - val_accuracy: 0.4420\n",
      "Flipped 437.0 training samples (1.0925 %)\n",
      "Mean IOU: 0.5178970255999147\n",
      "Mean dist: 0.06141070551273217\n",
      "Mean mse: 0.0014924095685487605\n",
      "Epoch:  41\n",
      "1250/1250 [==============================] - 1s 890us/step - loss: 0.0053 - accuracy: 0.7326 - val_loss: 0.0263 - val_accuracy: 0.4375\n",
      "Flipped 429.0 training samples (1.0725 %)\n",
      "Mean IOU: 0.5252457109809325\n",
      "Mean dist: 0.05900094266765267\n",
      "Mean mse: 0.0014615460884128094\n",
      "Epoch:  42\n",
      "1250/1250 [==============================] - 1s 898us/step - loss: 0.0053 - accuracy: 0.7311 - val_loss: 0.0260 - val_accuracy: 0.4438\n",
      "Flipped 435.0 training samples (1.0875 %)\n",
      "Mean IOU: 0.5107198996569365\n",
      "Mean dist: 0.06185557131521608\n",
      "Mean mse: 0.0014912144054909488\n",
      "Epoch:  43\n",
      "1250/1250 [==============================] - 1s 895us/step - loss: 0.0053 - accuracy: 0.7319 - val_loss: 0.0268 - val_accuracy: 0.4464\n",
      "Flipped 479.0 training samples (1.1975 %)\n",
      "Mean IOU: 0.5211926225961298\n",
      "Mean dist: 0.06120504282152972\n",
      "Mean mse: 0.0014969555752282883\n",
      "Epoch:  44\n",
      "1250/1250 [==============================] - 1s 975us/step - loss: 0.0053 - accuracy: 0.7332 - val_loss: 0.0260 - val_accuracy: 0.4224\n",
      "Flipped 462.0 training samples (1.155 %)\n",
      "Mean IOU: 0.5169149481379274\n",
      "Mean dist: 0.06051360685660673\n",
      "Mean mse: 0.0014786132450004422\n",
      "Epoch:  45\n",
      "1250/1250 [==============================] - 1s 900us/step - loss: 0.0053 - accuracy: 0.7340 - val_loss: 0.0267 - val_accuracy: 0.4433\n",
      "Flipped 481.0 training samples (1.2025 %)\n",
      "Mean IOU: 0.5250600798728892\n",
      "Mean dist: 0.05999404364277029\n",
      "Mean mse: 0.0014715541481723482\n",
      "Epoch:  46\n",
      "1250/1250 [==============================] - 1s 896us/step - loss: 0.0053 - accuracy: 0.7343 - val_loss: 0.0260 - val_accuracy: 0.4302\n",
      "Flipped 450.0 training samples (1.125 %)\n",
      "Mean IOU: 0.5149479379728141\n",
      "Mean dist: 0.06061196092465236\n",
      "Mean mse: 0.001491610980851445\n",
      "Epoch:  47\n",
      "1250/1250 [==============================] - 1s 887us/step - loss: 0.0053 - accuracy: 0.7312 - val_loss: 0.0269 - val_accuracy: 0.4379\n",
      "Flipped 421.0 training samples (1.0525 %)\n",
      "Mean IOU: 0.5318105613750861\n",
      "Mean dist: 0.05833214937385795\n",
      "Mean mse: 0.001438602184959212\n",
      "Epoch:  48\n",
      "1250/1250 [==============================] - 1s 892us/step - loss: 0.0053 - accuracy: 0.7330 - val_loss: 0.0269 - val_accuracy: 0.4318\n",
      "Flipped 423.0 training samples (1.0574999999999999 %)\n",
      "Mean IOU: 0.5266245778738843\n",
      "Mean dist: 0.05921065042438878\n",
      "Mean mse: 0.0014316253283439162\n",
      "Epoch:  49\n",
      "1250/1250 [==============================] - 1s 899us/step - loss: 0.0053 - accuracy: 0.7322 - val_loss: 0.0260 - val_accuracy: 0.4527\n",
      "Flipped 529.0 training samples (1.3225 %)\n",
      "Mean IOU: 0.5190896409482246\n",
      "Mean dist: 0.06157757377733724\n",
      "Mean mse: 0.0014993496657672509\n"
     ]
    }
   ],
   "source": [
    "# Since the model won't know which box to predict first, we have to flip bboxes during training.\n",
    "# In here, flipping bboxes means switching the data of two bboxes.\n",
    "# Note: The validation loss is always quite big here because we don't flip the bounding boxes for the validation data. \n",
    "\n",
    "num_epochs = 50\n",
    "flipped_train_y = np.array(train_y)\n",
    "flipped = np.zeros((len(flipped_train_y), num_epochs))\n",
    "ious_epoch = np.zeros((len(flipped_train_y), num_epochs))\n",
    "dists_epoch = np.zeros((len(flipped_train_y), num_epochs))\n",
    "mses_epoch = np.zeros((len(flipped_train_y), num_epochs))\n",
    "\n",
    "for epoch in range(num_epochs):\n",
    "    print(\"Epoch: \", epoch)\n",
    "    model.fit(train_X, flipped_train_y, epochs = 1, validation_data = (test_X, test_y), verbose = 1,\n",
    "              callbacks = [ModelCheckpoint('Two_Rectangles_model.h5',\n",
    "                                           monitor = 'val_accuracy',\n",
    "                                           save_best_only = True)])\n",
    "    pred_y = model.predict(train_X)\n",
    "    \n",
    "    for i, (pred_bboxes, exp_bboxes) in enumerate(zip(pred_y, flipped_train_y)):\n",
    "        \n",
    "        flipped_exp_bboxes = np.concatenate([exp_bboxes[4:], exp_bboxes[:4]])\n",
    "        \n",
    "        mse = np.mean(np.square(pred_bboxes - exp_bboxes))\n",
    "        mse_flipped = np.mean(np.square(pred_bboxes - flipped_exp_bboxes))\n",
    "        \n",
    "        iou = IOU(pred_bboxes[:4], exp_bboxes[:4]) + IOU(pred_bboxes[4:], exp_bboxes[4:])\n",
    "        iou_flipped = IOU(pred_bboxes[:4], flipped_exp_bboxes[:4]) + IOU(pred_bboxes[4:], flipped_exp_bboxes[4:])\n",
    "        \n",
    "        dist = distance(pred_bboxes[:4], exp_bboxes[:4]) + distance(pred_bboxes[4:], exp_bboxes[4:])\n",
    "        dist_flipped = distance(pred_bboxes[:4], flipped_exp_bboxes[:4]) + distance(pred_bboxes[4:], flipped_exp_bboxes[4:])\n",
    "        \n",
    "        if mse_flipped < mse:  # you can also use iou or dist here\n",
    "            flipped_train_y[i] = flipped_exp_bboxes\n",
    "            flipped[i, epoch] = 1\n",
    "            mses_epoch[i, epoch] = mse_flipped / 2.\n",
    "            ious_epoch[i, epoch] = iou_flipped / 2.\n",
    "            dists_epoch[i, epoch] = dist_flipped / 2.\n",
    "        else:\n",
    "            mses_epoch[i, epoch] = mse / 2.\n",
    "            ious_epoch[i, epoch] = iou / 2.\n",
    "            dists_epoch[i, epoch] = dist / 2.\n",
    "            \n",
    "    print('Flipped {} training samples ({} %)'.format(np.sum(flipped[:, epoch]), np.mean(flipped[:, epoch]) * 100.))\n",
    "    print('Mean IOU: {}'.format(np.mean(ious_epoch[:, epoch])))\n",
    "    print('Mean dist: {}'.format(np.mean(dists_epoch[:, epoch])))\n",
    "    print('Mean mse: {}'.format(np.mean(mses_epoch[:, epoch])))"
   ]
  },
  {
   "cell_type": "markdown",
   "metadata": {},
   "source": [
    "## Flipping Track"
   ]
  },
  {
   "cell_type": "code",
   "execution_count": 11,
   "metadata": {},
   "outputs": [
    {
     "data": {
      "image/png": "[encoded data removed]",
      "text/plain": [
       "<Figure size 432x288 with 1 Axes>"
      ]
     },
     "metadata": {
      "needs_background": "light"
     },
     "output_type": "display_data"
    }
   ],
   "source": [
    "# Show flippings for a few training samples.\n",
    "'''Differences between pcolor() and pcolormesh(): \n",
    "   pcolormesh() is more specialized for the given purpose and thus is faster. It should almost always be preferred.'''\n",
    "plt.pcolormesh(flipped[:, :], cmap = 'Greys')\n",
    "plt.xlabel('Epoch')\n",
    "plt.ylabel('Training sample')\n",
    "plt.savefig('two-rectangles_flips.png', dpi = 100)\n",
    "plt.show()"
   ]
  },
  {
   "cell_type": "markdown",
   "metadata": {},
   "source": [
    "## Metrics Track"
   ]
  },
  {
   "cell_type": "code",
   "execution_count": 12,
   "metadata": {
    "scrolled": true
   },
   "outputs": [
    {
     "data": {
      "image/png": "[encoded data removed]",
      "text/plain": [
       "<Figure size 432x288 with 1 Axes>"
      ]
     },
     "metadata": {
      "needs_background": "light"
     },
     "output_type": "display_data"
    }
   ],
   "source": [
    "# Plot metrics on the training data. \n",
    "mean_ious_epoch = np.mean(ious_epoch, axis = 0)\n",
    "mean_dists_epoch = np.mean(dists_epoch, axis = 0)\n",
    "mean_mses_epoch = np.mean(mses_epoch, axis = 0)\n",
    "plt.plot(mean_ious_epoch, label = 'Mean IOU')  # between predicted and assigned true bboxes\n",
    "plt.plot(mean_dists_epoch, label = 'Mean distance')  # relative to image size\n",
    "plt.plot(mean_mses_epoch, label = 'Mean mse')\n",
    "# horizontalalignment = 'right': make the annotation text aligns with the right side\n",
    "plt.annotate(np.round(np.max(mean_ious_epoch), 3), (len(mean_ious_epoch) - 1, mean_ious_epoch[-1] + 0.02), horizontalalignment = 'right', color = 'purple')\n",
    "plt.annotate(np.round(np.min(mean_dists_epoch), 3), (len(mean_dists_epoch) - 1, mean_dists_epoch[-1] + 0.02), horizontalalignment = 'right', color = 'g')\n",
    "plt.annotate(np.round(np.min(mean_mses_epoch), 3), (len(mean_mses_epoch) - 1, mean_mses_epoch[-1] + 0.02), horizontalalignment = 'right', color = 'r')\n",
    "\n",
    "# Hide y tick\n",
    "ax = plt.gca()\n",
    "ax.axes.yaxis.set_visible(False)\n",
    "\n",
    "plt.legend()\n",
    "plt.ylim(0, 0.8)\n",
    "plt.savefig('training_metrics.png', dpi = 100)"
   ]
  },
  {
   "cell_type": "markdown",
   "metadata": {},
   "source": [
    "## Denormalize Data"
   ]
  },
  {
   "cell_type": "code",
   "execution_count": 13,
   "metadata": {},
   "outputs": [
    {
     "data": {
      "text/plain": [
       "(10000, 2, 4)"
      ]
     },
     "execution_count": 13,
     "metadata": {},
     "output_type": "execute_result"
    }
   ],
   "source": [
    "# Predict bounding boxes on the test images.\n",
    "pred_y = model.predict(test_X)\n",
    "pred_bboxes = pred_y * img_size\n",
    "pred_bboxes = pred_bboxes.reshape(len(pred_bboxes), num_objects, -1)\n",
    "pred_bboxes.shape"
   ]
  },
  {
   "cell_type": "markdown",
   "metadata": {},
   "source": [
    "## Visualize Results"
   ]
  },
  {
   "cell_type": "code",
   "execution_count": 14,
   "metadata": {
    "scrolled": true
   },
   "outputs": [
    {
     "data": {
      "image/png": "[encoded data removed]",
      "text/plain": [
       "<Figure size 864x216 with 4 Axes>"
      ]
     },
     "metadata": {
      "needs_background": "light"
     },
     "output_type": "display_data"
    }
   ],
   "source": [
    "# Show a few images and predicted bounding boxes from the test dataset. \n",
    "plt.figure(figsize = (12, 3))\n",
    "for i_subplot in range(1, 5):\n",
    "    plt.subplot(1, 4, i_subplot)\n",
    "    i = np.random.randint(len(test_X))\n",
    "    plt.imshow(test_imgs[i].T, cmap = 'Greys', interpolation = 'none', origin = 'lower', extent = [0, img_size, 0, img_size])\n",
    "    for pred_bbox, exp_bbox in zip(pred_bboxes[i], test_bboxes[i]):\n",
    "        plt.gca().add_patch(matplotlib.patches.Rectangle((pred_bbox[0], pred_bbox[1]), pred_bbox[2], pred_bbox[3], lw = 2, ec = 'r', fc = 'none'))\n",
    "\n",
    "plt.savefig('two-rectangles_with-flipping.png', dpi = 100)"
   ]
  },
  {
   "cell_type": "markdown",
   "metadata": {},
   "source": [
    "## Overall Assessment"
   ]
  },
  {
   "cell_type": "code",
   "execution_count": 9,
   "metadata": {},
   "outputs": [
    {
     "data": {
      "text/plain": [
       "0.5146535979265879"
      ]
     },
     "execution_count": 9,
     "metadata": {},
     "output_type": "execute_result"
    }
   ],
   "source": [
    "from keras.models import load_model\n",
    "model_test = load_model('Two_Rectangles_model.h5')\n",
    "pred_y = model_test.predict(test_X)\n",
    "summed_IOU = 0.\n",
    "\n",
    "for i, (pred_bboxes, exp_bboxes) in enumerate(zip(pred_y, test_y)):\n",
    "\n",
    "    flipped_exp_bboxes = np.concatenate([exp_bboxes[4:], exp_bboxes[:4]])\n",
    "\n",
    "    iou = IOU(pred_bboxes[:4], exp_bboxes[:4]) + IOU(pred_bboxes[4:], exp_bboxes[4:])\n",
    "    iou_flipped = IOU(pred_bboxes[:4], flipped_exp_bboxes[:4]) + IOU(pred_bboxes[4:], flipped_exp_bboxes[4:])\n",
    "\n",
    "    if iou_flipped > iou:  \n",
    "        summed_IOU += iou_flipped\n",
    "    else:\n",
    "        summed_IOU += iou\n",
    "\n",
    "mean_IOU = summed_IOU / (num_objects * len(pred_y))\n",
    "mean_IOU"
   ]
  },
  {
   "cell_type": "code",
   "execution_count": null,
   "metadata": {},
   "outputs": [],
   "source": []
  }
 ],
 "metadata": {
  "kernelspec": {
   "display_name": "Python (tensorflow-gpu)",
   "language": "python",
   "name": "tf-gpu"
  },
  "language_info": {
   "codemirror_mode": {
    "name": "ipython",
    "version": 3
   },
   "file_extension": ".py",
   "mimetype": "text/x-python",
   "name": "python",
   "nbconvert_exporter": "python",
   "pygments_lexer": "ipython3",
   "version": "3.8.3"
  }
 },
 "nbformat": 4,
 "nbformat_minor": 4
}
