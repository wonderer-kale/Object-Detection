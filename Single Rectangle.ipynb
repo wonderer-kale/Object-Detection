{
 "cells": [
  {
   "cell_type": "markdown",
   "metadata": {},
   "source": [
    "# Single Rectangle Detection"
   ]
  },
  {
   "cell_type": "markdown",
   "metadata": {},
   "source": [
    "## Import Packages"
   ]
  },
  {
   "cell_type": "code",
   "execution_count": 2,
   "metadata": {},
   "outputs": [],
   "source": [
    "import numpy as np\n",
    "import matplotlib.pyplot as plt\n",
    "import matplotlib\n",
    "%matplotlib inline"
   ]
  },
  {
   "cell_type": "markdown",
   "metadata": {},
   "source": [
    "## Data Generation"
   ]
  },
  {
   "cell_type": "code",
   "execution_count": 99,
   "metadata": {},
   "outputs": [
    {
     "name": "stdout",
     "output_type": "stream",
     "text": [
      "Image Shape: (50000, 8, 8)\n",
      "Bounding Box Shape: (50000, 1, 4)\n"
     ]
    }
   ],
   "source": [
    "# Create images with random rectangles and bounding boxes. \n",
    "num_imgs = 50000\n",
    "\n",
    "img_size = 8\n",
    "min_object_size = 1\n",
    "max_object_size = 4\n",
    "num_objects = 1\n",
    "\n",
    "# create and zero two arrays, one is for the bounding boxes, the other is for the images\n",
    "bboxes = np.zeros((num_imgs, num_objects, 4))\n",
    "# set the pixel value of the background to 0\n",
    "imgs = np.zeros((num_imgs, img_size, img_size))\n",
    "\n",
    "for i_img in range(num_imgs):\n",
    "    for i_object in range(num_objects):\n",
    "        # set the width and height of the rectangle\n",
    "        w, h = np.random.randint(min_object_size, max_object_size, size = 2)\n",
    "        # set the location (x, y) of the rectangle\n",
    "        x = np.random.randint(0, img_size - w)\n",
    "        y = np.random.randint(0, img_size - h)\n",
    "        # set the pixel value of the rectangle to 1\n",
    "        imgs[i_img, x:x + w, y:y + h] = 1.0\n",
    "        bboxes[i_img, i_object] = [x, y, w, h]\n",
    "        \n",
    "print(\"Image Shape: {}\".format(imgs.shape))\n",
    "print(\"Bounding Box Shape: {}\".format(bboxes.shape))"
   ]
  },
  {
   "cell_type": "code",
   "execution_count": 101,
   "metadata": {
    "scrolled": true
   },
   "outputs": [
    {
     "data": {
      "image/png": "[encoded data removed]",
      "text/plain": [
       "<Figure size 432x288 with 1 Axes>"
      ]
     },
     "metadata": {
      "needs_background": "light"
     },
     "output_type": "display_data"
    }
   ],
   "source": [
    "i = 0\n",
    "# origin: place the [0, 0] index of the array in the upper left or lower left corner of the axes\n",
    "# extent: floats(left, right, bottom, top)\n",
    "plt.imshow(imgs[i].T, cmap = 'Greys', interpolation = 'none', origin = 'lower', extent = [0, img_size, 0, img_size])\n",
    "# tranverse(.T) and flip upside down(origin = 'lower') to fit in the bounding box\n",
    "for bbox in bboxes[i]:\n",
    "    plt.gca().add_patch(matplotlib.patches.Rectangle((bbox[0], bbox[1]), bbox[2], bbox[3], lw = 2, ec = 'r', fc = 'none'))\n",
    "    # patches.Rectangle((x, y), w, h, linewidth, edgecolor, facecolor)"
   ]
  },
  {
   "cell_type": "markdown",
   "metadata": {},
   "source": [
    "## Preprocessing"
   ]
  },
  {
   "cell_type": "code",
   "execution_count": 105,
   "metadata": {},
   "outputs": [
    {
     "data": {
      "text/plain": [
       "((50000, 64), 9.796607969292381e-18, 1.0000000000000004)"
      ]
     },
     "execution_count": 105,
     "metadata": {},
     "output_type": "execute_result"
    }
   ],
   "source": [
    "# Reshape and normalize the image data to mean 0 and std 1. \n",
    "X = (imgs.reshape(num_imgs, -1) - np.mean(imgs)) / np.std(imgs)\n",
    "X.shape, np.mean(X), np.std(X)"
   ]
  },
  {
   "cell_type": "code",
   "execution_count": 106,
   "metadata": {},
   "outputs": [
    {
     "data": {
      "text/plain": [
       "((50000, 4), 0.281514375, 0.17510010649157062)"
      ]
     },
     "execution_count": 106,
     "metadata": {},
     "output_type": "execute_result"
    }
   ],
   "source": [
    "# Normalize x, y, w, h by img_size, so that all values are between 0 and 1.\n",
    "# Important: Do not shift to negative values (e.g. by setting to mean 0), because the IOU calculation needs positive w and h.\n",
    "y = bboxes.reshape(num_imgs, -1) / img_size\n",
    "y.shape, np.mean(y), np.std(y)"
   ]
  },
  {
   "cell_type": "markdown",
   "metadata": {},
   "source": [
    "## Train Test Split"
   ]
  },
  {
   "cell_type": "code",
   "execution_count": 18,
   "metadata": {},
   "outputs": [],
   "source": [
    "# Split training and test.\n",
    "i = int(0.8 * num_imgs)\n",
    "train_X, test_X = X[:i], X[i:]\n",
    "train_y ,test_y = y[:i], y[i:]\n",
    "test_imgs = imgs[i:]\n",
    "test_bboxes = bboxes[i:]"
   ]
  },
  {
   "cell_type": "markdown",
   "metadata": {},
   "source": [
    "## CNN Model"
   ]
  },
  {
   "cell_type": "code",
   "execution_count": 108,
   "metadata": {},
   "outputs": [
    {
     "name": "stdout",
     "output_type": "stream",
     "text": [
      "Model: \"sequential_1\"\n",
      "_________________________________________________________________\n",
      "Layer (type)                 Output Shape              Param #   \n",
      "=================================================================\n",
      "dense_2 (Dense)              (None, 200)               13000     \n",
      "_________________________________________________________________\n",
      "activation_1 (Activation)    (None, 200)               0         \n",
      "_________________________________________________________________\n",
      "dropout_1 (Dropout)          (None, 200)               0         \n",
      "_________________________________________________________________\n",
      "dense_3 (Dense)              (None, 4)                 804       \n",
      "=================================================================\n",
      "Total params: 13,804\n",
      "Trainable params: 13,804\n",
      "Non-trainable params: 0\n",
      "_________________________________________________________________\n"
     ]
    }
   ],
   "source": [
    "# Build the model.\n",
    "from keras.models import Sequential\n",
    "from keras.layers import Dense, Activation, Dropout\n",
    "from keras.callbacks import ModelCheckpoint\n",
    "from keras.optimizers import SGD\n",
    "model = Sequential([\n",
    "        Dense(200, input_dim = X.shape[-1]), \n",
    "        Activation('relu'), \n",
    "        Dropout(0.2), \n",
    "        Dense(y.shape[-1])\n",
    "        ])\n",
    "model.compile(loss = 'mse', optimizer = 'adam', metrics = ['accuracy'])\n",
    "model.summary()"
   ]
  },
  {
   "cell_type": "markdown",
   "metadata": {},
   "source": [
    "## Training"
   ]
  },
  {
   "cell_type": "code",
   "execution_count": 20,
   "metadata": {},
   "outputs": [
    {
     "name": "stdout",
     "output_type": "stream",
     "text": [
      "Epoch 1/30\n",
      "1250/1250 [==============================] - 1s 797us/step - loss: 0.0250 - accuracy: 0.7100 - val_loss: 7.9200e-04 - val_accuracy: 0.8539\n",
      "Epoch 2/30\n",
      "1250/1250 [==============================] - 1s 804us/step - loss: 0.0023 - accuracy: 0.8431 - val_loss: 3.0553e-04 - val_accuracy: 0.8710\n",
      "Epoch 3/30\n",
      "1250/1250 [==============================] - 1s 799us/step - loss: 0.0014 - accuracy: 0.8497 - val_loss: 1.6850e-04 - val_accuracy: 0.8535\n",
      "Epoch 4/30\n",
      "1250/1250 [==============================] - 1s 818us/step - loss: 0.0011 - accuracy: 0.8474 - val_loss: 1.5755e-04 - val_accuracy: 0.8343\n",
      "Epoch 5/30\n",
      "1250/1250 [==============================] - 1s 770us/step - loss: 9.3241e-04 - accuracy: 0.8464 - val_loss: 1.5366e-04 - val_accuracy: 0.8650\n",
      "Epoch 6/30\n",
      "1250/1250 [==============================] - 1s 822us/step - loss: 8.5262e-04 - accuracy: 0.8489 - val_loss: 1.3675e-04 - val_accuracy: 0.8509\n",
      "Epoch 7/30\n",
      "1250/1250 [==============================] - 1s 870us/step - loss: 8.0259e-04 - accuracy: 0.8468 - val_loss: 1.5564e-04 - val_accuracy: 0.8214\n",
      "Epoch 8/30\n",
      "1250/1250 [==============================] - 1s 844us/step - loss: 7.6912e-04 - accuracy: 0.8479 - val_loss: 2.3725e-04 - val_accuracy: 0.8473\n",
      "Epoch 9/30\n",
      "1250/1250 [==============================] - 1s 798us/step - loss: 7.2980e-04 - accuracy: 0.8464 - val_loss: 1.4849e-04 - val_accuracy: 0.9046\n",
      "Epoch 10/30\n",
      "1250/1250 [==============================] - 1s 751us/step - loss: 7.0079e-04 - accuracy: 0.8488 - val_loss: 1.3399e-04 - val_accuracy: 0.8938\n",
      "Epoch 11/30\n",
      "1250/1250 [==============================] - 1s 820us/step - loss: 6.9650e-04 - accuracy: 0.8501 - val_loss: 1.8968e-04 - val_accuracy: 0.8212\n",
      "Epoch 12/30\n",
      "1250/1250 [==============================] - 1s 749us/step - loss: 6.7544e-04 - accuracy: 0.8495 - val_loss: 1.9153e-04 - val_accuracy: 0.8250\n",
      "Epoch 13/30\n",
      "1250/1250 [==============================] - 1s 753us/step - loss: 6.4542e-04 - accuracy: 0.8507 - val_loss: 1.4337e-04 - val_accuracy: 0.9219\n",
      "Epoch 14/30\n",
      "1250/1250 [==============================] - 1s 825us/step - loss: 6.3968e-04 - accuracy: 0.8484 - val_loss: 1.2030e-04 - val_accuracy: 0.8827\n",
      "Epoch 15/30\n",
      "1250/1250 [==============================] - 1s 754us/step - loss: 6.2639e-04 - accuracy: 0.8487 - val_loss: 2.1873e-04 - val_accuracy: 0.8574\n",
      "Epoch 16/30\n",
      "1250/1250 [==============================] - 1s 843us/step - loss: 6.1256e-04 - accuracy: 0.8472 - val_loss: 1.4224e-04 - val_accuracy: 0.8364\n",
      "Epoch 17/30\n",
      "1250/1250 [==============================] - 1s 796us/step - loss: 6.1477e-04 - accuracy: 0.8511 - val_loss: 1.1657e-04 - val_accuracy: 0.8421\n",
      "Epoch 18/30\n",
      "1250/1250 [==============================] - 1s 764us/step - loss: 6.1319e-04 - accuracy: 0.8493 - val_loss: 1.4746e-04 - val_accuracy: 0.8021\n",
      "Epoch 19/30\n",
      "1250/1250 [==============================] - 1s 760us/step - loss: 6.0590e-04 - accuracy: 0.8499 - val_loss: 1.7821e-04 - val_accuracy: 0.8727\n",
      "Epoch 20/30\n",
      "1250/1250 [==============================] - 1s 748us/step - loss: 6.0055e-04 - accuracy: 0.8491 - val_loss: 1.2646e-04 - val_accuracy: 0.9048\n",
      "Epoch 21/30\n",
      "1250/1250 [==============================] - 1s 777us/step - loss: 5.9580e-04 - accuracy: 0.8493 - val_loss: 1.6704e-04 - val_accuracy: 0.8340\n",
      "Epoch 22/30\n",
      "1250/1250 [==============================] - 1s 761us/step - loss: 5.9808e-04 - accuracy: 0.8489 - val_loss: 2.0755e-04 - val_accuracy: 0.8697\n",
      "Epoch 23/30\n",
      "1250/1250 [==============================] - 1s 758us/step - loss: 5.9116e-04 - accuracy: 0.8496 - val_loss: 1.2585e-04 - val_accuracy: 0.8165\n",
      "Epoch 24/30\n",
      "1250/1250 [==============================] - 1s 763us/step - loss: 5.8880e-04 - accuracy: 0.8478 - val_loss: 1.6030e-04 - val_accuracy: 0.8193\n",
      "Epoch 25/30\n",
      "1250/1250 [==============================] - 1s 779us/step - loss: 5.9570e-04 - accuracy: 0.8495 - val_loss: 1.5794e-04 - val_accuracy: 0.8605\n",
      "Epoch 26/30\n",
      "1250/1250 [==============================] - 1s 742us/step - loss: 5.9268e-04 - accuracy: 0.8468 - val_loss: 1.0628e-04 - val_accuracy: 0.8151\n",
      "Epoch 27/30\n",
      "1250/1250 [==============================] - 1s 798us/step - loss: 5.8806e-04 - accuracy: 0.8480 - val_loss: 1.2764e-04 - val_accuracy: 0.8789\n",
      "Epoch 28/30\n",
      "1250/1250 [==============================] - 1s 811us/step - loss: 5.8316e-04 - accuracy: 0.8492 - val_loss: 1.2310e-04 - val_accuracy: 0.8624\n",
      "Epoch 29/30\n",
      "1250/1250 [==============================] - 1s 782us/step - loss: 5.9017e-04 - accuracy: 0.8467 - val_loss: 1.5073e-04 - val_accuracy: 0.8418\n",
      "Epoch 30/30\n",
      "1250/1250 [==============================] - 1s 738us/step - loss: 5.8334e-04 - accuracy: 0.8473 - val_loss: 1.6978e-04 - val_accuracy: 0.8467\n"
     ]
    },
    {
     "data": {
      "text/plain": [
       "<tensorflow.python.keras.callbacks.History at 0x22c00020af0>"
      ]
     },
     "execution_count": 20,
     "metadata": {},
     "output_type": "execute_result"
    }
   ],
   "source": [
    "# Train\n",
    "model.fit(train_X, train_y, epochs = 30, validation_data = (test_X, test_y), verbose = 1,\n",
    "          callbacks = [ModelCheckpoint('Single_Rectangle_model.h5',\n",
    "                                       monitor = 'val_accuracy',\n",
    "                                       save_best_only = True)])"
   ]
  },
  {
   "cell_type": "markdown",
   "metadata": {},
   "source": [
    "## Prediction"
   ]
  },
  {
   "cell_type": "code",
   "execution_count": 1,
   "metadata": {},
   "outputs": [
    {
     "name": "stderr",
     "output_type": "stream",
     "text": [
      "WARNING:root:Limited tf.compat.v2.summary API due to missing TensorBoard installation.\n",
      "WARNING:root:Limited tf.compat.v2.summary API due to missing TensorBoard installation.\n",
      "WARNING:root:Limited tf.compat.v2.summary API due to missing TensorBoard installation.\n",
      "WARNING:root:Limited tf.summary API due to missing TensorBoard installation.\n"
     ]
    },
    {
     "ename": "NameError",
     "evalue": "name 'test_X' is not defined",
     "output_type": "error",
     "traceback": [
      "\u001b[1;31m---------------------------------------------------------------------------\u001b[0m",
      "\u001b[1;31mNameError\u001b[0m                                 Traceback (most recent call last)",
      "\u001b[1;32m<ipython-input-1-43dc15ee4f17>\u001b[0m in \u001b[0;36m<module>\u001b[1;34m\u001b[0m\n\u001b[0;32m      2\u001b[0m \u001b[1;32mfrom\u001b[0m \u001b[0mkeras\u001b[0m\u001b[1;33m.\u001b[0m\u001b[0mmodels\u001b[0m \u001b[1;32mimport\u001b[0m \u001b[0mload_model\u001b[0m\u001b[1;33m\u001b[0m\u001b[1;33m\u001b[0m\u001b[0m\n\u001b[0;32m      3\u001b[0m \u001b[0mmodel_test\u001b[0m \u001b[1;33m=\u001b[0m \u001b[0mload_model\u001b[0m\u001b[1;33m(\u001b[0m\u001b[1;34m'Single_Rectangle_model.h5'\u001b[0m\u001b[1;33m)\u001b[0m\u001b[1;33m\u001b[0m\u001b[1;33m\u001b[0m\u001b[0m\n\u001b[1;32m----> 4\u001b[1;33m \u001b[0mpred_y\u001b[0m \u001b[1;33m=\u001b[0m \u001b[0mmodel_test\u001b[0m\u001b[1;33m.\u001b[0m\u001b[0mpredict\u001b[0m\u001b[1;33m(\u001b[0m\u001b[0mtest_X\u001b[0m\u001b[1;33m)\u001b[0m\u001b[1;33m\u001b[0m\u001b[1;33m\u001b[0m\u001b[0m\n\u001b[0m\u001b[0;32m      5\u001b[0m \u001b[0mpred_bboxes\u001b[0m \u001b[1;33m=\u001b[0m \u001b[0mpred_y\u001b[0m \u001b[1;33m*\u001b[0m \u001b[0mimg_size\u001b[0m\u001b[1;33m\u001b[0m\u001b[1;33m\u001b[0m\u001b[0m\n\u001b[0;32m      6\u001b[0m \u001b[0mpred_bboxes\u001b[0m \u001b[1;33m=\u001b[0m \u001b[0mpred_bboxes\u001b[0m\u001b[1;33m.\u001b[0m\u001b[0mreshape\u001b[0m\u001b[1;33m(\u001b[0m\u001b[0mlen\u001b[0m\u001b[1;33m(\u001b[0m\u001b[0mpred_bboxes\u001b[0m\u001b[1;33m)\u001b[0m\u001b[1;33m,\u001b[0m \u001b[0mnum_objects\u001b[0m\u001b[1;33m,\u001b[0m \u001b[1;33m-\u001b[0m\u001b[1;36m1\u001b[0m\u001b[1;33m)\u001b[0m\u001b[1;33m\u001b[0m\u001b[1;33m\u001b[0m\u001b[0m\n",
      "\u001b[1;31mNameError\u001b[0m: name 'test_X' is not defined"
     ]
    }
   ],
   "source": [
    "# Predict bounding boxes on the test images.\n",
    "from keras.models import load_model\n",
    "model_test = load_model('Single_Rectangle_model.h5')\n",
    "prediction = model_test.predict(test_X)\n",
    "pred_bboxes = prediction * img_size\n",
    "pred_bboxes = pred_bboxes.reshape(len(pred_bboxes), num_objects, -1)\n",
    "pred_bboxes.shape"
   ]
  },
  {
   "cell_type": "code",
   "execution_count": 22,
   "metadata": {},
   "outputs": [],
   "source": [
    "def IOU(bbox1, bbox2):\n",
    "    '''Calculate overlap between two bounding boxes [x, y, w, h] as the area of intersection over the area of unity'''\n",
    "    x1, y1, w1, h1 = bbox1[0], bbox1[1], bbox1[2], bbox1[3]\n",
    "    x2, y2, w2, h2 = bbox2[0], bbox2[1], bbox2[2], bbox2[3]\n",
    "\n",
    "    w_I = min(x1 + w1, x2 + w2) - max(x1, x2)\n",
    "    h_I = min(y1 + h1, y2 + h2) - max(y1, y2)\n",
    "    if w_I <= 0 or h_I <= 0:  # no overlap\n",
    "        return 0.\n",
    "    I = w_I * h_I\n",
    "\n",
    "    U = w1 * h1 + w2 * h2 - I\n",
    "\n",
    "    return I / U"
   ]
  },
  {
   "cell_type": "code",
   "execution_count": 23,
   "metadata": {},
   "outputs": [
    {
     "data": {
      "image/png": "[encoded data removed]",
      "text/plain": [
       "<Figure size 864x216 with 4 Axes>"
      ]
     },
     "metadata": {
      "needs_background": "light"
     },
     "output_type": "display_data"
    }
   ],
   "source": [
    "# Show a few images and predicted bounding boxes from the test dataset. \n",
    "plt.figure(figsize = (12, 3))\n",
    "for i_subplot in range(1, 5):\n",
    "    plt.subplot(1, 4, i_subplot)\n",
    "    i = np.random.randint(len(test_imgs))\n",
    "    plt.imshow(test_imgs[i].T, cmap = 'Greys', interpolation = 'none', origin = 'lower', extent = [0, img_size, 0, img_size])\n",
    "    for pred_bbox, exp_bbox in zip(pred_bboxes[i], test_bboxes[i]):\n",
    "        plt.gca().add_patch(matplotlib.patches.Rectangle((pred_bbox[0], pred_bbox[1]), pred_bbox[2], pred_bbox[3], ec = 'r', fc = 'none'))\n",
    "        plt.annotate(\"IOU: {:.2f}\".format(IOU(pred_bbox, exp_bbox)), (pred_bbox[0], pred_bbox[1] + pred_bbox[3] + 0.2), color = 'r')\n",
    "        # plt.annotate(text, (x, y), color)\n",
    "        \n",
    "plt.savefig(\"single-rectangle_prediction.png\", dpi = 100)"
   ]
  },
  {
   "cell_type": "code",
   "execution_count": 24,
   "metadata": {},
   "outputs": [
    {
     "data": {
      "text/plain": [
       "0.8082458046829537"
      ]
     },
     "execution_count": 24,
     "metadata": {},
     "output_type": "execute_result"
    }
   ],
   "source": [
    "# Calculate the mean IOU (overlap) between the predicted and expected bounding boxes on the test dataset. \n",
    "summed_IOU = 0.\n",
    "for pred_bbox, test_bbox in zip(pred_bboxes.reshape(-1, 4), test_bboxes.reshape(-1, 4)):\n",
    "    summed_IOU += IOU(pred_bbox, test_bbox)\n",
    "mean_IOU = summed_IOU / len(pred_bboxes)\n",
    "mean_IOU"
   ]
  },
  {
   "cell_type": "code",
   "execution_count": null,
   "metadata": {},
   "outputs": [],
   "source": []
  }
 ],
 "metadata": {
  "kernelspec": {
   "display_name": "Python (tensorflow-gpu)",
   "language": "python",
   "name": "tf-gpu"
  },
  "language_info": {
   "codemirror_mode": {
    "name": "ipython",
    "version": 3
   },
   "file_extension": ".py",
   "mimetype": "text/x-python",
   "name": "python",
   "nbconvert_exporter": "python",
   "pygments_lexer": "ipython3",
   "version": "3.8.3"
  }
 },
 "nbformat": 4,
 "nbformat_minor": 4
}
