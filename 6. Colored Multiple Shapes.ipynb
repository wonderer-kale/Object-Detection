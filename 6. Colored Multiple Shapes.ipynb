{
 "cells": [
  {
   "cell_type": "markdown",
   "metadata": {},
   "source": [
    "# Colored Multiple Shapes"
   ]
  },
  {
   "cell_type": "markdown",
   "metadata": {},
   "source": [
    "## Import Packages"
   ]
  },
  {
   "cell_type": "code",
   "execution_count": 11,
   "metadata": {
    "ExecuteTime": {
     "end_time": "2016-07-04T17:28:39.034000",
     "start_time": "2016-07-04T17:28:38.325000"
    }
   },
   "outputs": [],
   "source": [
    "import numpy as np\n",
    "import matplotlib.pyplot as plt\n",
    "import matplotlib\n",
    "import math\n",
    "from PIL import Image\n",
    "from skimage import draw\n",
    "from itertools import permutations\n",
    "%matplotlib inline"
   ]
  },
  {
   "cell_type": "markdown",
   "metadata": {},
   "source": [
    "## Data Generation"
   ]
  },
  {
   "cell_type": "code",
   "execution_count": 12,
   "metadata": {
    "ExecuteTime": {
     "end_time": "2016-07-05T22:57:56.251000",
     "start_time": "2016-07-05T22:57:54.426000"
    }
   },
   "outputs": [
    {
     "data": {
      "text/plain": [
       "((60000, 32, 32, 3), (60000, 3, 4), (60000, 3), (60000, 3))"
      ]
     },
     "execution_count": 12,
     "metadata": {},
     "output_type": "execute_result"
    }
   ],
   "source": [
    "num_imgs = 60000\n",
    "\n",
    "img_size = 32\n",
    "min_object_size = 7\n",
    "max_object_size = 16\n",
    "num_objects = 3\n",
    "num_shapes = 3\n",
    "num_colors = 3\n",
    "\n",
    "bboxes = np.zeros((num_imgs, num_objects, 4))\n",
    "imgs = np.zeros((num_imgs, img_size, img_size, 3)) + 1\n",
    "shapes = np.zeros((num_imgs, num_objects), dtype = int)\n",
    "shape_labels = ['rectangle', 'circle', 'triangle']\n",
    "colors = np.zeros((num_imgs, num_objects), dtype = int)\n",
    "color_labels = ['r', 'g', 'b']\n",
    "\n",
    "for i_img in range(num_imgs):\n",
    "    \n",
    "    for i_object in range(num_objects):\n",
    "        shape = np.random.randint(num_shapes)\n",
    "        shapes[i_img, i_object] = shape\n",
    "        color = np.random.randint(num_colors)\n",
    "        colors[i_img, i_object] = color\n",
    "        rgb = np.zeros(3)\n",
    "        \n",
    "        # TODO: Introduce some variation to the colors by adding a small random offset to the rgb values.\n",
    "        offset = np.random.uniform(0, 0.8)\n",
    "        if color == 0:\n",
    "            rgb = (1., 0 + offset, 0 + offset)\n",
    "        elif color == 1:\n",
    "            rgb = (0 + offset, 1., 0 + offset)\n",
    "        else:\n",
    "            rgb = (0 + offset, 0 + offset, 1.)\n",
    "            \n",
    "        if shape == 0: # rectangle\n",
    "            w, h = np.random.randint(min_object_size, max_object_size, size = 2)\n",
    "            x = np.random.randint(0, img_size - w)\n",
    "            y = np.random.randint(0, img_size - h)\n",
    "            imgs[i_img, x:x + w, y:y + h] = rgb\n",
    "            bboxes[i_img, i_object] = [x, y, w, h]\n",
    "            \n",
    "        elif shape == 1: # circle\n",
    "            r = 0.5 * np.random.randint(min_object_size, max_object_size)\n",
    "            x = np.random.randint(r, img_size - r)\n",
    "            y = np.random.randint(r, img_size - r)\n",
    "            bboxes[i_img, i_object] = [x - r, y - r, 2 * r, 2 * r]\n",
    "            r, c = draw.circle(x, y, radius = r)\n",
    "            imgs[i_img, r, c] = rgb\n",
    "            \n",
    "        else: # triangle\n",
    "            size = np.random.randint(min_object_size, max_object_size)\n",
    "            x, y = np.random.randint(0, img_size - size, size = 2)\n",
    "            mask = np.tril_indices(size)\n",
    "            imgs[i_img, x + mask[0], y + mask[1]] = rgb\n",
    "            bboxes[i_img, i_object] = [x, y, size, size]\n",
    "            \n",
    "imgs = imgs * 255\n",
    "imgs = imgs.astype(np.uint8)\n",
    "\n",
    "imgs.shape, bboxes.shape, shapes.shape, colors.shape"
   ]
  },
  {
   "cell_type": "code",
   "execution_count": 13,
   "metadata": {
    "ExecuteTime": {
     "end_time": "2016-07-05T22:57:56.856000",
     "start_time": "2016-07-05T22:57:56.254000"
    },
    "scrolled": true
   },
   "outputs": [
    {
     "data": {
      "image/png": "[encoded data removed]",
      "text/plain": [
       "<Figure size 432x288 with 1 Axes>"
      ]
     },
     "metadata": {
      "needs_background": "light"
     },
     "output_type": "display_data"
    }
   ],
   "source": [
    "i = np.random.randint(num_imgs)\n",
    "plt.imshow(np.transpose(imgs[i], (1, 0, 2)), interpolation = 'none', origin = 'lower', extent = [0, img_size, 0, img_size])\n",
    "for bbox, shape, color in zip(bboxes[i], shapes[i], colors[i]):\n",
    "    plt.gca().add_patch(matplotlib.patches.Rectangle((bbox[0], bbox[1]), bbox[2], bbox[3], lw = 2, ec = 'k', fc = 'none'))\n",
    "    plt.annotate(shape_labels[shape], (bbox[0], bbox[1] + bbox[3] + 0.7), color = color_labels[color], clip_on = False)\n",
    "plt.savefig('colored-multiple-shapes_data.png', dpi = 100)"
   ]
  },
  {
   "cell_type": "markdown",
   "metadata": {},
   "source": [
    "## Preprocessing"
   ]
  },
  {
   "cell_type": "code",
   "execution_count": 14,
   "metadata": {
    "ExecuteTime": {
     "end_time": "2016-07-05T23:55:30.611000",
     "start_time": "2016-07-05T23:55:26.822000"
    }
   },
   "outputs": [
    {
     "data": {
      "text/plain": [
       "((60000, 32, 32, 3), 0.40151607336771516, 0.23931472997766176)"
      ]
     },
     "execution_count": 14,
     "metadata": {},
     "output_type": "execute_result"
    }
   ],
   "source": [
    "X = (imgs - 128.) / 255.\n",
    "X.shape, np.mean(X), np.std(X)"
   ]
  },
  {
   "cell_type": "code",
   "execution_count": 15,
   "metadata": {
    "ExecuteTime": {
     "end_time": "2016-07-05T23:55:33.242000",
     "start_time": "2016-07-05T23:55:33.179000"
    }
   },
   "outputs": [
    {
     "data": {
      "text/plain": [
       "((60000, 30), True)"
      ]
     },
     "execution_count": 15,
     "metadata": {},
     "output_type": "execute_result"
    }
   ],
   "source": [
    "colors_onehot = np.zeros((num_imgs, num_objects, num_colors))\n",
    "for i_img in range(num_imgs):\n",
    "    for i_object in range(num_objects):\n",
    "        colors_onehot[i_img, i_object, colors[i_img, i_object]] = 1\n",
    "\n",
    "shapes_onehot = np.zeros((num_imgs, num_objects, num_shapes))\n",
    "for i_img in range(num_imgs):\n",
    "    for i_object in range(num_objects):\n",
    "        shapes_onehot[i_img, i_object, shapes[i_img, i_object]] = 1\n",
    "        \n",
    "y = np.concatenate([bboxes / img_size, shapes_onehot, colors_onehot], axis = -1).reshape(num_imgs, -1)\n",
    "y.shape, np.all(np.argmax(colors_onehot, axis = -1) == colors)"
   ]
  },
  {
   "cell_type": "markdown",
   "metadata": {},
   "source": [
    "## Train Test Split"
   ]
  },
  {
   "cell_type": "code",
   "execution_count": 16,
   "metadata": {
    "ExecuteTime": {
     "end_time": "2016-07-05T23:55:33.989000",
     "start_time": "2016-07-05T23:55:33.981000"
    }
   },
   "outputs": [],
   "source": [
    "i = int(0.8 * num_imgs)\n",
    "train_X = X[:i]\n",
    "test_X = X[i:]\n",
    "train_y = y[:i]\n",
    "test_y = y[i:]\n",
    "test_imgs = imgs[i:]\n",
    "test_bboxes = bboxes[i:]"
   ]
  },
  {
   "cell_type": "markdown",
   "metadata": {},
   "source": [
    "## CNN Model"
   ]
  },
  {
   "cell_type": "code",
   "execution_count": 17,
   "metadata": {
    "ExecuteTime": {
     "end_time": "2016-07-06T00:27:51.515000",
     "start_time": "2016-07-06T00:27:50.598000"
    }
   },
   "outputs": [
    {
     "name": "stdout",
     "output_type": "stream",
     "text": [
      "Model: \"sequential_1\"\n",
      "_________________________________________________________________\n",
      "Layer (type)                 Output Shape              Param #   \n",
      "=================================================================\n",
      "conv2d_4 (Conv2D)            (None, 16, 16, 32)        3488      \n",
      "_________________________________________________________________\n",
      "max_pooling2d_3 (MaxPooling2 (None, 8, 8, 32)          0         \n",
      "_________________________________________________________________\n",
      "conv2d_5 (Conv2D)            (None, 8, 8, 64)          18496     \n",
      "_________________________________________________________________\n",
      "max_pooling2d_4 (MaxPooling2 (None, 4, 4, 64)          0         \n",
      "_________________________________________________________________\n",
      "conv2d_6 (Conv2D)            (None, 4, 4, 128)         73856     \n",
      "_________________________________________________________________\n",
      "conv2d_7 (Conv2D)            (None, 4, 4, 256)         295168    \n",
      "_________________________________________________________________\n",
      "max_pooling2d_5 (MaxPooling2 (None, 2, 2, 256)         0         \n",
      "_________________________________________________________________\n",
      "flatten_1 (Flatten)          (None, 1024)              0         \n",
      "_________________________________________________________________\n",
      "dropout_2 (Dropout)          (None, 1024)              0         \n",
      "_________________________________________________________________\n",
      "dense_2 (Dense)              (None, 256)               262400    \n",
      "_________________________________________________________________\n",
      "dropout_3 (Dropout)          (None, 256)               0         \n",
      "_________________________________________________________________\n",
      "dense_3 (Dense)              (None, 30)                7710      \n",
      "=================================================================\n",
      "Total params: 661,118\n",
      "Trainable params: 661,118\n",
      "Non-trainable params: 0\n",
      "_________________________________________________________________\n"
     ]
    }
   ],
   "source": [
    "from keras.models import Sequential\n",
    "from keras.layers import Dense, Activation, Dropout, Convolution2D, MaxPooling2D, Flatten\n",
    "\n",
    "model = Sequential([\n",
    "        Convolution2D(32, kernel_size = (6, 6), \n",
    "                      strides = (2, 2),\n",
    "                      input_shape = (32, 32, 3),\n",
    "                      padding = 'same', activation = 'relu'), \n",
    "        MaxPooling2D(pool_size = (3, 3), strides = (2, 2), padding = 'same'),\n",
    "        Convolution2D(64, kernel_size = (3, 3), \n",
    "                      strides = (1, 1), \n",
    "                      padding = 'same', activation = 'relu'),\n",
    "        MaxPooling2D(pool_size = (3, 3), strides = (2, 2), padding = 'same'),\n",
    "        Convolution2D(128, kernel_size = (3, 3), \n",
    "                      strides = (1, 1), \n",
    "                      padding = 'same', activation = 'relu'),\n",
    "        Convolution2D(256, kernel_size = (3, 3), \n",
    "                      strides = (1, 1), \n",
    "                      padding = 'same', activation = 'relu'),\n",
    "        MaxPooling2D(pool_size = (3, 3), strides = (2, 2), padding = 'same'),\n",
    "        Flatten(),\n",
    "        Dropout(0.4),\n",
    "        Dense(256, activation = 'relu'),\n",
    "        Dropout(0.4),\n",
    "        Dense(y.shape[-1])\n",
    "    ])\n",
    "\n",
    "model.compile('adamax', 'mse')\n",
    "model.summary()\n",
    "# adam, adamax, nadam, adagrad"
   ]
  },
  {
   "cell_type": "markdown",
   "metadata": {},
   "source": [
    "## IoU Calculating Function"
   ]
  },
  {
   "cell_type": "code",
   "execution_count": 18,
   "metadata": {},
   "outputs": [],
   "source": [
    "def IOU(bbox1, bbox2):\n",
    "    '''Calculate overlap between two bounding boxes [x, y, w, h] as the area of intersection over the area of unity'''\n",
    "    x1, y1, w1, h1 = bbox1[0], bbox1[1], bbox1[2], bbox1[3]  # TODO: Check if its more performant if tensor elements are accessed directly below.\n",
    "    x2, y2, w2, h2 = bbox2[0], bbox2[1], bbox2[2], bbox2[3]\n",
    "\n",
    "    w_I = min(x1 + w1, x2 + w2) - max(x1, x2)\n",
    "    h_I = min(y1 + h1, y2 + h2) - max(y1, y2)\n",
    "    if w_I <= 0 or h_I <= 0:  # no overlap\n",
    "        return 0\n",
    "    I = w_I * h_I\n",
    "\n",
    "    U = w1 * h1 + w2 * h2 - I\n",
    "\n",
    "    return I / U"
   ]
  },
  {
   "cell_type": "markdown",
   "metadata": {},
   "source": [
    "## Distance Calculating Function"
   ]
  },
  {
   "cell_type": "code",
   "execution_count": 19,
   "metadata": {},
   "outputs": [],
   "source": [
    "def distance(bbox1, bbox2):\n",
    "    return np.sqrt(np.sum(np.square(bbox1[:2] - bbox2[:2])))"
   ]
  },
  {
   "cell_type": "markdown",
   "metadata": {},
   "source": [
    "## Training"
   ]
  },
  {
   "cell_type": "code",
   "execution_count": 20,
   "metadata": {
    "ExecuteTime": {
     "end_time": "2016-07-06T16:47:14.477000",
     "start_time": "2016-07-06T00:27:51.517000"
    },
    "code_folding": [
     2,
     17
    ],
    "scrolled": false
   },
   "outputs": [
    {
     "name": "stdout",
     "output_type": "stream",
     "text": [
      "Epoch 0\n",
      "1500/1500 [==============================] - 26s 17ms/step - loss: 0.1263 - val_loss: 0.1139\n",
      "Switched 82.82083333333333 % of all elements\n",
      "Mean IOU: 0.22721095788212672\n",
      "Mean dist: 0.21593685952202707\n",
      "Mean mse: 0.01751773905125954\n",
      "Accuracy shapes: 0.5050972222222222\n",
      "Accuracy colors: 0.604611111111111\n",
      "Epoch 1\n",
      "1500/1500 [==============================] - 31s 21ms/step - loss: 0.1090 - val_loss: 0.1140\n",
      "Switched 41.25 % of all elements\n",
      "Mean IOU: 0.29830476395425876\n",
      "Mean dist: 0.17557218302912683\n",
      "Mean mse: 0.012895066360360969\n",
      "Accuracy shapes: 0.6217083333333333\n",
      "Accuracy colors: 0.7385625\n",
      "Epoch 2\n",
      "1500/1500 [==============================] - 31s 21ms/step - loss: 0.0905 - val_loss: 0.1264\n",
      "Switched 23.68541666666667 % of all elements\n",
      "Mean IOU: 0.32834573730388394\n",
      "Mean dist: 0.16179043006197735\n",
      "Mean mse: 0.011456262987334374\n",
      "Accuracy shapes: 0.7029166666666666\n",
      "Accuracy colors: 0.8105138888888889\n",
      "Epoch 3\n",
      "1500/1500 [==============================] - 29s 19ms/step - loss: 0.0780 - val_loss: 0.1339\n",
      "Switched 15.064583333333333 % of all elements\n",
      "Mean IOU: 0.34015116938853185\n",
      "Mean dist: 0.15652167937122438\n",
      "Mean mse: 0.010959913257203458\n",
      "Accuracy shapes: 0.7646319444444444\n",
      "Accuracy colors: 0.8449027777777778\n",
      "Epoch 4\n",
      "1500/1500 [==============================] - 31s 20ms/step - loss: 0.0694 - val_loss: 0.1385\n",
      "Switched 11.0 % of all elements\n",
      "Mean IOU: 0.3504016318559987\n",
      "Mean dist: 0.15109544291514776\n",
      "Mean mse: 0.010387213544417188\n",
      "Accuracy shapes: 0.8070833333333332\n",
      "Accuracy colors: 0.8653125\n",
      "Epoch 5\n",
      "1500/1500 [==============================] - 28s 19ms/step - loss: 0.0637 - val_loss: 0.1426\n",
      "Switched 9.579166666666666 % of all elements\n",
      "Mean IOU: 0.3658960811266501\n",
      "Mean dist: 0.14484218031348242\n",
      "Mean mse: 0.009835993018112698\n",
      "Accuracy shapes: 0.823875\n",
      "Accuracy colors: 0.873486111111111\n",
      "Epoch 6\n",
      "1500/1500 [==============================] - 28s 19ms/step - loss: 0.0592 - val_loss: 0.1457\n",
      "Switched 10.139583333333334 % of all elements\n",
      "Mean IOU: 0.37904327732396254\n",
      "Mean dist: 0.13974681216721407\n",
      "Mean mse: 0.009440926595988152\n",
      "Accuracy shapes: 0.837486111111111\n",
      "Accuracy colors: 0.8866666666666667\n",
      "Epoch 7\n",
      "1500/1500 [==============================] - 28s 18ms/step - loss: 0.0562 - val_loss: 0.1490\n",
      "Switched 7.331250000000001 % of all elements\n",
      "Mean IOU: 0.39156899615642615\n",
      "Mean dist: 0.13432348008096526\n",
      "Mean mse: 0.008935113293359184\n",
      "Accuracy shapes: 0.8537708333333334\n",
      "Accuracy colors: 0.8974444444444445\n",
      "Epoch 8\n",
      "1500/1500 [==============================] - 32s 22ms/step - loss: 0.0532 - val_loss: 0.1488\n",
      "Switched 6.19375 % of all elements\n",
      "Mean IOU: 0.39257779261887615\n",
      "Mean dist: 0.13280402080244733\n",
      "Mean mse: 0.008806690350033852\n",
      "Accuracy shapes: 0.8614027777777779\n",
      "Accuracy colors: 0.9021875\n",
      "Epoch 9\n",
      "1500/1500 [==============================] - 26s 17ms/step - loss: 0.0512 - val_loss: 0.1506\n",
      "Switched 5.760416666666666 % of all elements\n",
      "Mean IOU: 0.39503794696389394\n",
      "Mean dist: 0.13148646267820743\n",
      "Mean mse: 0.008681033421173006\n",
      "Accuracy shapes: 0.8684999999999998\n",
      "Accuracy colors: 0.9091041666666667\n",
      "Epoch 10\n",
      "1500/1500 [==============================] - 29s 19ms/step - loss: 0.0493 - val_loss: 0.1509\n",
      "Switched 5.947916666666667 % of all elements\n",
      "Mean IOU: 0.40194653229056676\n",
      "Mean dist: 0.12878329241591602\n",
      "Mean mse: 0.008469004783046298\n",
      "Accuracy shapes: 0.878736111111111\n",
      "Accuracy colors: 0.9159305555555555\n",
      "Epoch 11\n",
      "1500/1500 [==============================] - 27s 18ms/step - loss: 0.0474 - val_loss: 0.1508\n",
      "Switched 5.45625 % of all elements\n",
      "Mean IOU: 0.4038071950406576\n",
      "Mean dist: 0.1281742454963135\n",
      "Mean mse: 0.008401167473903261\n",
      "Accuracy shapes: 0.884611111111111\n",
      "Accuracy colors: 0.9220138888888888\n",
      "Epoch 12\n",
      "1500/1500 [==============================] - 28s 19ms/step - loss: 0.0457 - val_loss: 0.1535\n",
      "Switched 5.0062500000000005 % of all elements\n",
      "Mean IOU: 0.41707176311614075\n",
      "Mean dist: 0.12301852583500932\n",
      "Mean mse: 0.008031003379269213\n",
      "Accuracy shapes: 0.8922083333333334\n",
      "Accuracy colors: 0.9275416666666667\n",
      "Epoch 13\n",
      "1500/1500 [==============================] - 27s 18ms/step - loss: 0.0441 - val_loss: 0.1536\n",
      "Switched 4.1875 % of all elements\n",
      "Mean IOU: 0.41815653460933017\n",
      "Mean dist: 0.1235836132657301\n",
      "Mean mse: 0.008050772201105933\n",
      "Accuracy shapes: 0.8983263888888888\n",
      "Accuracy colors: 0.9308472222222222\n",
      "Epoch 14\n",
      "1500/1500 [==============================] - 32s 21ms/step - loss: 0.0427 - val_loss: 0.1560\n",
      "Switched 4.739583333333333 % of all elements\n",
      "Mean IOU: 0.42068661179017186\n",
      "Mean dist: 0.1211558950755527\n",
      "Mean mse: 0.007852799764555163\n",
      "Accuracy shapes: 0.8984930555555555\n",
      "Accuracy colors: 0.9341319444444445\n",
      "Epoch 15\n",
      "1500/1500 [==============================] - 30s 20ms/step - loss: 0.0415 - val_loss: 0.1568\n",
      "Switched 5.341666666666667 % of all elements\n",
      "Mean IOU: 0.4236110029731999\n",
      "Mean dist: 0.12002509096503727\n",
      "Mean mse: 0.007771237954904476\n",
      "Accuracy shapes: 0.9006041666666667\n",
      "Accuracy colors: 0.9352777777777779\n",
      "Epoch 16\n",
      "1500/1500 [==============================] - 28s 19ms/step - loss: 0.0410 - val_loss: 0.1565\n",
      "Switched 4.70625 % of all elements\n",
      "Mean IOU: 0.42377341039725913\n",
      "Mean dist: 0.11948046466249963\n",
      "Mean mse: 0.007712502673663882\n",
      "Accuracy shapes: 0.9065902777777778\n",
      "Accuracy colors: 0.9376458333333333\n",
      "Epoch 17\n",
      "1500/1500 [==============================] - 28s 19ms/step - loss: 0.0402 - val_loss: 0.1573\n",
      "Switched 4.98125 % of all elements\n",
      "Mean IOU: 0.4262972913096305\n",
      "Mean dist: 0.11986035686229563\n",
      "Mean mse: 0.0077509384799283685\n",
      "Accuracy shapes: 0.9106041666666665\n",
      "Accuracy colors: 0.9395833333333333\n",
      "Epoch 18\n",
      "1500/1500 [==============================] - 28s 19ms/step - loss: 0.0389 - val_loss: 0.1574\n",
      "Switched 4.35 % of all elements\n",
      "Mean IOU: 0.43035758261680424\n",
      "Mean dist: 0.11797973638407387\n",
      "Mean mse: 0.007596362052971717\n",
      "Accuracy shapes: 0.9150625\n",
      "Accuracy colors: 0.9439166666666666\n",
      "Epoch 19\n",
      "1500/1500 [==============================] - 28s 18ms/step - loss: 0.0382 - val_loss: 0.1594\n",
      "Switched 4.40625 % of all elements\n",
      "Mean IOU: 0.4306171238675031\n",
      "Mean dist: 0.11661978063270988\n",
      "Mean mse: 0.007485653794789324\n",
      "Accuracy shapes: 0.9139305555555555\n",
      "Accuracy colors: 0.9472083333333333\n",
      "Epoch 20\n",
      "1500/1500 [==============================] - 27s 18ms/step - loss: 0.0371 - val_loss: 0.1588\n",
      "Switched 4.54375 % of all elements\n",
      "Mean IOU: 0.43497208578366503\n",
      "Mean dist: 0.11543937889352547\n",
      "Mean mse: 0.007421826734192336\n",
      "Accuracy shapes: 0.9175069444444444\n",
      "Accuracy colors: 0.9495694444444447\n",
      "Epoch 21\n",
      "1500/1500 [==============================] - 27s 18ms/step - loss: 0.0368 - val_loss: 0.1594\n",
      "Switched 4.216666666666667 % of all elements\n",
      "Mean IOU: 0.4364085537456363\n",
      "Mean dist: 0.11531944137292542\n",
      "Mean mse: 0.0074015085399640945\n",
      "Accuracy shapes: 0.9209236111111112\n",
      "Accuracy colors: 0.9496527777777778\n",
      "Epoch 22\n",
      "1500/1500 [==============================] - 27s 18ms/step - loss: 0.0360 - val_loss: 0.1613\n",
      "Switched 4.03125 % of all elements\n",
      "Mean IOU: 0.44028846695110724\n",
      "Mean dist: 0.11309681991917529\n",
      "Mean mse: 0.0072368877665889226\n",
      "Accuracy shapes: 0.9257083333333334\n",
      "Accuracy colors: 0.9499930555555555\n",
      "Epoch 23\n",
      "1500/1500 [==============================] - 27s 18ms/step - loss: 0.0354 - val_loss: 0.1588\n",
      "Switched 3.964583333333333 % of all elements\n",
      "Mean IOU: 0.439009346488193\n",
      "Mean dist: 0.1138282032624129\n",
      "Mean mse: 0.007271702719752129\n",
      "Accuracy shapes: 0.9276041666666667\n",
      "Accuracy colors: 0.9523611111111112\n",
      "Epoch 24\n",
      "1500/1500 [==============================] - 27s 18ms/step - loss: 0.0347 - val_loss: 0.1604\n",
      "Switched 3.65 % of all elements\n",
      "Mean IOU: 0.43729672913607337\n",
      "Mean dist: 0.11402105707921985\n",
      "Mean mse: 0.007284283434566577\n",
      "Accuracy shapes: 0.9322291666666667\n",
      "Accuracy colors: 0.9563680555555555\n",
      "Epoch 25\n",
      "1500/1500 [==============================] - 33s 22ms/step - loss: 0.0340 - val_loss: 0.1595\n",
      "Switched 4.347916666666666 % of all elements\n",
      "Mean IOU: 0.44013963601753064\n",
      "Mean dist: 0.11316021991920905\n",
      "Mean mse: 0.0072189203374335535\n",
      "Accuracy shapes: 0.9338333333333333\n",
      "Accuracy colors: 0.9590486111111111\n",
      "Epoch 26\n",
      "1500/1500 [==============================] - 30s 20ms/step - loss: 0.0333 - val_loss: 0.1595\n",
      "Switched 4.208333333333333 % of all elements\n",
      "Mean IOU: 0.4444754436293369\n",
      "Mean dist: 0.11236928141823833\n",
      "Mean mse: 0.0071734924118354425\n",
      "Accuracy shapes: 0.9355972222222222\n",
      "Accuracy colors: 0.959375\n",
      "Epoch 27\n"
     ]
    },
    {
     "name": "stdout",
     "output_type": "stream",
     "text": [
      "1500/1500 [==============================] - 30s 20ms/step - loss: 0.0329 - val_loss: 0.1606\n",
      "Switched 3.6833333333333336 % of all elements\n",
      "Mean IOU: 0.4445400578197047\n",
      "Mean dist: 0.11089156467732993\n",
      "Mean mse: 0.007058282133380555\n",
      "Accuracy shapes: 0.934048611111111\n",
      "Accuracy colors: 0.9599444444444445\n",
      "Epoch 28\n",
      "1500/1500 [==============================] - 30s 20ms/step - loss: 0.0323 - val_loss: 0.1604\n",
      "Switched 3.6249999999999996 % of all elements\n",
      "Mean IOU: 0.44299828475807235\n",
      "Mean dist: 0.1117187691277373\n",
      "Mean mse: 0.007107253110242689\n",
      "Accuracy shapes: 0.939138888888889\n",
      "Accuracy colors: 0.9624652777777778\n",
      "Epoch 29\n",
      "1500/1500 [==============================] - 29s 20ms/step - loss: 0.0316 - val_loss: 0.1618\n",
      "Switched 3.3833333333333333 % of all elements\n",
      "Mean IOU: 0.4496788538469632\n",
      "Mean dist: 0.11036266719647006\n",
      "Mean mse: 0.007022006835898815\n",
      "Accuracy shapes: 0.9411666666666667\n",
      "Accuracy colors: 0.963111111111111\n",
      "Epoch 30\n",
      "1500/1500 [==============================] - 29s 19ms/step - loss: 0.0313 - val_loss: 0.1619\n",
      "Switched 3.5854166666666667 % of all elements\n",
      "Mean IOU: 0.4435406596630511\n",
      "Mean dist: 0.11134343723319656\n",
      "Mean mse: 0.007055007043721448\n",
      "Accuracy shapes: 0.943673611111111\n",
      "Accuracy colors: 0.9633125\n",
      "Epoch 31\n",
      "1500/1500 [==============================] - 28s 19ms/step - loss: 0.0309 - val_loss: 0.1623\n",
      "Switched 4.179166666666666 % of all elements\n",
      "Mean IOU: 0.44698588456230975\n",
      "Mean dist: 0.11017141737797023\n",
      "Mean mse: 0.007002208545597094\n",
      "Accuracy shapes: 0.944048611111111\n",
      "Accuracy colors: 0.961201388888889\n",
      "Epoch 32\n",
      "1500/1500 [==============================] - 29s 19ms/step - loss: 0.0312 - val_loss: 0.1625\n",
      "Switched 4.214583333333334 % of all elements\n",
      "Mean IOU: 0.448904231225589\n",
      "Mean dist: 0.1089348002779112\n",
      "Mean mse: 0.0069048000500545655\n",
      "Accuracy shapes: 0.9453402777777778\n",
      "Accuracy colors: 0.9665069444444443\n",
      "Epoch 33\n",
      "1500/1500 [==============================] - 29s 19ms/step - loss: 0.0300 - val_loss: 0.1626\n",
      "Switched 3.5791666666666666 % of all elements\n",
      "Mean IOU: 0.45140914970430684\n",
      "Mean dist: 0.10928656323995824\n",
      "Mean mse: 0.006931131628222421\n",
      "Accuracy shapes: 0.9478958333333334\n",
      "Accuracy colors: 0.9669930555555557\n",
      "Epoch 34\n",
      "1500/1500 [==============================] - 29s 19ms/step - loss: 0.0297 - val_loss: 0.1631\n",
      "Switched 3.29375 % of all elements\n",
      "Mean IOU: 0.44503823330910813\n",
      "Mean dist: 0.10975922767074958\n",
      "Mean mse: 0.006946663166082005\n",
      "Accuracy shapes: 0.9486944444444444\n",
      "Accuracy colors: 0.9686597222222223\n",
      "Epoch 35\n",
      "1500/1500 [==============================] - 29s 19ms/step - loss: 0.0292 - val_loss: 0.1621\n",
      "Switched 3.1625 % of all elements\n",
      "Mean IOU: 0.4465441721628459\n",
      "Mean dist: 0.10981874322689517\n",
      "Mean mse: 0.006964084332003005\n",
      "Accuracy shapes: 0.9511597222222222\n",
      "Accuracy colors: 0.9692500000000002\n",
      "Epoch 36\n",
      "1500/1500 [==============================] - 28s 19ms/step - loss: 0.0287 - val_loss: 0.1634\n",
      "Switched 3.3375000000000004 % of all elements\n",
      "Mean IOU: 0.4503649048576931\n",
      "Mean dist: 0.10922378479195902\n",
      "Mean mse: 0.006929307972245809\n",
      "Accuracy shapes: 0.9503819444444443\n",
      "Accuracy colors: 0.9697777777777776\n",
      "Epoch 37\n",
      "1500/1500 [==============================] - 28s 19ms/step - loss: 0.0288 - val_loss: 0.1625\n",
      "Switched 3.4770833333333333 % of all elements\n",
      "Mean IOU: 0.44986901251034744\n",
      "Mean dist: 0.10923962930468639\n",
      "Mean mse: 0.006920853983914917\n",
      "Accuracy shapes: 0.9492708333333332\n",
      "Accuracy colors: 0.9692847222222223\n",
      "Epoch 38\n",
      "1500/1500 [==============================] - 29s 19ms/step - loss: 0.0286 - val_loss: 0.1629\n",
      "Switched 3.58125 % of all elements\n",
      "Mean IOU: 0.45318505361307887\n",
      "Mean dist: 0.1082073350297145\n",
      "Mean mse: 0.006839760207167127\n",
      "Accuracy shapes: 0.9484097222222222\n",
      "Accuracy colors: 0.9692638888888888\n",
      "Epoch 39\n",
      "1500/1500 [==============================] - 29s 19ms/step - loss: 0.0283 - val_loss: 0.1636\n",
      "Switched 3.3625000000000003 % of all elements\n",
      "Mean IOU: 0.4535747607765172\n",
      "Mean dist: 0.10747523404820215\n",
      "Mean mse: 0.006786516586385209\n",
      "Accuracy shapes: 0.9580902777777778\n",
      "Accuracy colors: 0.9721805555555556\n"
     ]
    }
   ],
   "source": [
    "num_epochs = 40\n",
    "iou_max = 0.\n",
    "fact = math.factorial(num_objects)\n",
    "\n",
    "switched_train_y = np.array(train_y)\n",
    "switched = np.zeros((len(train_y), num_epochs))\n",
    "ious_epochs = np.zeros((len(train_y), num_epochs))\n",
    "dists_epochs = np.zeros((len(train_y), num_epochs))\n",
    "mses_epochs = np.zeros((len(train_y), num_epochs))\n",
    "acc_shapes_epoch = np.zeros((len(train_y), num_epochs))\n",
    "acc_colors_epoch = np.zeros((len(train_y), num_epochs))\n",
    "\n",
    "# TODO: Calculate ious directly for all samples (using slices of the array pred_y for x, y, w, h).\n",
    "for epoch in range(num_epochs):\n",
    "    print('Epoch', epoch)\n",
    "    model.fit(train_X, switched_train_y, epochs = 1, validation_data = (test_X, test_y), verbose = 1)\n",
    "    pred_y = model.predict(train_X)\n",
    "\n",
    "    for i, (pred_bboxes, exp_bboxes) in enumerate(zip(pred_y, switched_train_y)):\n",
    "        \n",
    "        pred = pred_bboxes.reshape(num_objects, -1)\n",
    "        exp = exp_bboxes.reshape(num_objects, -1)\n",
    "        p_exp = list(permutations(exp))\n",
    "        \n",
    "        # ignore the shape value\n",
    "        pred_bboxes = pred[:, :4]\n",
    "        exp_bboxes = exp[:, :4]\n",
    "        \n",
    "        p_exp_bboxes = list(permutations(exp_bboxes))\n",
    "        ious = np.zeros((fact, num_objects))\n",
    "        dists = np.zeros((fact, num_objects))\n",
    "        mses = np.zeros((fact, num_objects))\n",
    "        p_ious = np.zeros(fact)\n",
    "        p_mses = np.zeros(fact)\n",
    "        p_dists = np.zeros(fact)\n",
    "        \n",
    "        for j, exp_bboxes in enumerate(p_exp_bboxes):\n",
    "            exp_bboxes = list(exp_bboxes) \n",
    "            for k in range(num_objects):\n",
    "                ious[j, k] = IOU(exp_bboxes[k], pred_bboxes[k])\n",
    "                dists[j, k] = distance(exp_bboxes[k], pred_bboxes[k])\n",
    "                mses[j, k] = np.mean(np.square(exp_bboxes[k] - pred_bboxes[k]))\n",
    "            p_ious[j] = sum(ious[j, :])\n",
    "            p_dists[j] = sum(dists[j, :])\n",
    "            p_mses[j] = sum(mses[j, :])\n",
    "            \n",
    "        keymax = p_mses.argmin()\n",
    "        ious_epochs[i, epoch] += p_ious[keymax] / num_objects\n",
    "        dists_epochs[i, epoch] += p_dists[keymax] / num_objects\n",
    "        mses_epochs[i, epoch] += p_mses[keymax] / num_objects\n",
    "        \n",
    "        switched_train_y[i] = np.array(p_exp[keymax]).flatten()\n",
    "        if keymax != 0:\n",
    "            switched[i, epoch] = 1.\n",
    "        \n",
    "        if p_ious[keymax] > iou_max:\n",
    "            model.save('Colored_Multiple_Shapes_model.h5')\n",
    "            iou_max = p_ious[keymax]\n",
    "        \n",
    "        acc_shapes_epoch[i, epoch] = np.mean(np.argmax(pred[:, 4:4 + num_shapes], axis = -1) == np.argmax(exp[:, 4:4 + num_shapes], axis = -1))\n",
    "        acc_colors_epoch[i, epoch] = np.mean(np.argmax(pred[:, 4 + num_shapes:4 + num_shapes + num_colors], axis = -1) == np.argmax(exp[:, 4 + num_shapes:4 + num_shapes + num_colors], axis = -1))    \n",
    "            \n",
    "    print('Switched {} % of all elements'.format(np.mean(switched[:, epoch]) * 100.))\n",
    "    print('Mean IOU: {}'.format(np.mean(ious_epochs[:, epoch])))\n",
    "    print('Mean dist: {}'.format(np.mean(dists_epochs[:, epoch])))\n",
    "    print('Mean mse: {}'.format(np.mean(mses_epochs[:, epoch])))\n",
    "    print('Accuracy shapes: {}'.format(np.mean(acc_shapes_epoch[:, epoch])))\n",
    "    print('Accuracy colors: {}'.format(np.mean(acc_colors_epoch[:, epoch])))"
   ]
  },
  {
   "cell_type": "markdown",
   "metadata": {},
   "source": [
    "## Model Layers"
   ]
  },
  {
   "cell_type": "code",
   "execution_count": 21,
   "metadata": {
    "ExecuteTime": {
     "end_time": "2016-07-06T00:26:47.814000",
     "start_time": "2016-07-06T00:26:43.399000"
    }
   },
   "outputs": [
    {
     "name": "stdout",
     "output_type": "stream",
     "text": [
      "weights.shape: (32, 6, 6, 3)\n",
      "0.0022790008 0.0679347 -0.20643634 0.15320465\n",
      "128.09259259259258 17.32453678341632 75 167\n"
     ]
    },
    {
     "data": {
      "image/png": "[encoded data removed]",
      "text/plain": [
       "<Figure size 1152x576 with 24 Axes>"
      ]
     },
     "metadata": {
      "needs_background": "light"
     },
     "output_type": "display_data"
    }
   ],
   "source": [
    "weights = model.layers[0].get_weights()[0]\n",
    "weights = weights.transpose(3, 0, 1, 2)\n",
    "print('weights.shape:', weights.shape)\n",
    "print(np.mean(weights[0]), np.std(weights[0]), np.min(weights[0]), np.max(weights[0]))\n",
    "adj_weights = (weights * 255.) + 128.\n",
    "adj_weights = adj_weights.astype(np.uint8)\n",
    "print(np.mean(adj_weights[0]), np.std(adj_weights[0]), np.min(adj_weights[0]), np.max(adj_weights[0]))\n",
    "plt.figure(figsize = (16, 8))\n",
    "for i in range(24):\n",
    "    plt.subplot(4, 6, i + 1)\n",
    "    plt.imshow(adj_weights[i, :, :], interpolation = 'none', origin = 'lower', cmap = 'Greys')"
   ]
  },
  {
   "cell_type": "markdown",
   "metadata": {},
   "source": [
    "## Switching Track"
   ]
  },
  {
   "cell_type": "code",
   "execution_count": 22,
   "metadata": {
    "ExecuteTime": {
     "end_time": "2016-07-05T23:54:37.858000",
     "start_time": "2016-07-05T23:54:35.466000"
    }
   },
   "outputs": [
    {
     "data": {
      "image/png": "[encoded data removed]",
      "text/plain": [
       "<Figure size 432x288 with 1 Axes>"
      ]
     },
     "metadata": {
      "needs_background": "light"
     },
     "output_type": "display_data"
    }
   ],
   "source": [
    "plt.pcolormesh(switched[:, :], cmap = 'Greys')\n",
    "plt.xlabel('Epoch')\n",
    "plt.ylabel('Training sample')\n",
    "plt.savefig('colored_multiple_shapes_switches.png', dpi = 100)\n",
    "plt.show()"
   ]
  },
  {
   "cell_type": "markdown",
   "metadata": {},
   "source": [
    "## Metrics Track"
   ]
  },
  {
   "cell_type": "code",
   "execution_count": 23,
   "metadata": {
    "ExecuteTime": {
     "end_time": "2016-07-05T23:54:38.252000",
     "start_time": "2016-07-05T23:54:37.860000"
    }
   },
   "outputs": [
    {
     "data": {
      "image/png": "[encoded data removed]",
      "text/plain": [
       "<Figure size 432x288 with 1 Axes>"
      ]
     },
     "metadata": {
      "needs_background": "light"
     },
     "output_type": "display_data"
    }
   ],
   "source": [
    "mean_ious_epoch = np.mean(ious_epochs, axis = 0)\n",
    "mean_dists_epoch = np.mean(dists_epochs, axis = 0)\n",
    "mean_mses_epoch = np.mean(mses_epochs, axis = 0)\n",
    "plt.plot(mean_ious_epoch, label = 'Mean IOU')  # between predicted and assigned true bboxes\n",
    "plt.plot(mean_dists_epoch, label = 'Mean distance')  # relative to image size\n",
    "plt.plot(mean_mses_epoch, label = 'Mean mse')  # relative to image size\n",
    "plt.annotate(np.round(np.max(mean_ious_epoch), 3), (len(mean_ious_epoch) - 1, mean_ious_epoch[-1] + 0.02), horizontalalignment = 'right', color = 'b')\n",
    "plt.annotate(np.round(np.min(mean_dists_epoch), 3), (len(mean_dists_epoch) - 1, mean_dists_epoch[-1] + 0.02), horizontalalignment = 'right', color = 'r')\n",
    "plt.annotate(np.round(np.min(mean_mses_epoch), 3), (len(mean_mses_epoch) - 1, mean_mses_epoch[-1] + 0.02), horizontalalignment = 'right', color = 'g')\n",
    "\n",
    "plt.xlabel('Epoch')\n",
    "plt.legend(loc = 'upper left')\n",
    "plt.ylim(0, 0.6)\n",
    "ax = plt.gca()\n",
    "ax.axes.yaxis.set_visible(False)\n",
    "plt.savefig('training_metrics.png', dpi = 100)"
   ]
  },
  {
   "cell_type": "code",
   "execution_count": 26,
   "metadata": {
    "ExecuteTime": {
     "end_time": "2016-07-05T23:54:40.181000",
     "start_time": "2016-07-05T23:54:38.255000"
    },
    "scrolled": true
   },
   "outputs": [
    {
     "data": {
      "image/png": "[encoded data removed]",
      "text/plain": [
       "<Figure size 432x288 with 1 Axes>"
      ]
     },
     "metadata": {
      "needs_background": "light"
     },
     "output_type": "display_data"
    }
   ],
   "source": [
    "mean_acc_shapes_epoch = np.mean(acc_shapes_epoch, axis = 0)\n",
    "mean_acc_colors_epoch = np.mean(acc_colors_epoch, axis = 0)\n",
    "plt.plot(mean_acc_shapes_epoch, label = 'Accuracy shapes')  # between predicted and assigned true bboxes\n",
    "plt.plot(mean_acc_colors_epoch, label = 'Accuracy colors')\n",
    "plt.annotate(np.round(np.max(mean_acc_shapes_epoch), 3), (len(mean_acc_shapes_epoch) - 1, mean_acc_shapes_epoch[-1] + 0.002), horizontalalignment = 'right', color = 'b')\n",
    "plt.annotate(np.round(np.max(mean_acc_colors_epoch), 3), (len(mean_acc_colors_epoch) - 1, mean_acc_colors_epoch[-1] + 0.002), horizontalalignment = 'right', color = 'orange')\n",
    "\n",
    "plt.xlabel('Epoch')\n",
    "plt.legend(loc = 'lower right')\n",
    "plt.ylim(0.5, 1)\n",
    "\n",
    "plt.savefig('training_metrics_classification.png', dpi = 100)"
   ]
  },
  {
   "cell_type": "markdown",
   "metadata": {},
   "source": [
    "## Denormalize Data"
   ]
  },
  {
   "cell_type": "code",
   "execution_count": 27,
   "metadata": {
    "ExecuteTime": {
     "end_time": "2016-07-05T23:54:55.731000",
     "start_time": "2016-07-05T23:54:54.739000"
    }
   },
   "outputs": [
    {
     "data": {
      "text/plain": [
       "((12000, 3, 4), (12000, 3), (12000, 3))"
      ]
     },
     "execution_count": 27,
     "metadata": {},
     "output_type": "execute_result"
    }
   ],
   "source": [
    "pred_y = model.predict(test_X)\n",
    "pred_y = pred_y.reshape(len(pred_y), num_objects, -1)\n",
    "pred_bboxes = pred_y[..., :4] * img_size\n",
    "pred_shapes = np.argmax(pred_y[..., 4:4 + num_shapes], axis = -1).astype(int)  # take max from probabilities\n",
    "pred_colors = np.argmax(pred_y[..., 4 + num_shapes:4 + num_shapes + num_colors], axis = -1).astype(int)\n",
    "pred_bboxes.shape, pred_shapes.shape, pred_colors.shape"
   ]
  },
  {
   "cell_type": "markdown",
   "metadata": {},
   "source": [
    "## Visualize Results"
   ]
  },
  {
   "cell_type": "code",
   "execution_count": 28,
   "metadata": {
    "ExecuteTime": {
     "end_time": "2016-07-05T23:54:57.198000",
     "start_time": "2016-07-05T23:54:55.733000"
    }
   },
   "outputs": [
    {
     "data": {
      "image/png": "[encoded data removed]",
      "text/plain": [
       "<Figure size 1152x576 with 8 Axes>"
      ]
     },
     "metadata": {
      "needs_background": "light"
     },
     "output_type": "display_data"
    }
   ],
   "source": [
    "plt.figure(figsize = (16, 8))\n",
    "for i_subplot in range(1, 9):\n",
    "    plt.subplot(2, 4, i_subplot)\n",
    "    i = np.random.randint(len(test_X))\n",
    "    plt.imshow(test_imgs[i], interpolation = 'none', origin = 'lower', extent = [0, img_size, 0, img_size])\n",
    "    for bbox, shape, color in zip(pred_bboxes[i], pred_shapes[i], pred_colors[i]):\n",
    "        plt.gca().add_patch(matplotlib.patches.Rectangle((bbox[0], bbox[1]), bbox[2], bbox[3], lw = 2, ec = 'k', fc = 'none'))\n",
    "        plt.annotate(shape_labels[shape], (bbox[0], bbox[1] + bbox[3] + 0.7), color = color_labels[color], clip_on = False, bbox = {'fc': 'w', 'ec': 'none', 'pad': 1, 'alpha': 0.8})"
   ]
  },
  {
   "cell_type": "code",
   "execution_count": 29,
   "metadata": {
    "ExecuteTime": {
     "end_time": "2016-07-05T18:09:07.838000",
     "start_time": "2016-07-05T18:09:07.831000"
    }
   },
   "outputs": [
    {
     "data": {
      "text/plain": [
       "(10.938647, 0.5526218)"
      ]
     },
     "execution_count": 29,
     "metadata": {},
     "output_type": "execute_result"
    }
   ],
   "source": [
    "np.mean(pred_bboxes[:, :, 2]), np.std(pred_bboxes[:, :, 2])"
   ]
  },
  {
   "cell_type": "markdown",
   "metadata": {},
   "source": [
    "## Overall Assessment"
   ]
  },
  {
   "cell_type": "code",
   "execution_count": 30,
   "metadata": {},
   "outputs": [
    {
     "name": "stdout",
     "output_type": "stream",
     "text": [
      "IoU: 0.443210260456869\n",
      "Distance: 0.11670156232386368\n",
      "MSE: 0.007790715045258518\n"
     ]
    }
   ],
   "source": [
    "from keras.models import load_model\n",
    "fact = math.factorial(num_objects)\n",
    "model_test = load_model('Colored_Multiple_Shapes_model.h5')\n",
    "pred_y = model_test.predict(test_X)\n",
    "sum_iou = 0.\n",
    "sum_dist = 0.\n",
    "sum_mse = 0.\n",
    "switched_test_y = np.array(test_y)\n",
    "\n",
    "for pred_bboxes, test_bboxes in zip(pred_y, switched_test_y):\n",
    "    \n",
    "    pred = pred_bboxes.reshape(num_objects, -1)\n",
    "    test = test_bboxes.reshape(num_objects, -1)\n",
    "    \n",
    "    pred_bboxes = pred[:, :4]\n",
    "    test_bboxes = test[:, :4]\n",
    "    p_test_bboxes = list(permutations(test_bboxes))\n",
    "    \n",
    "    p_ious = np.zeros(fact)\n",
    "    p_dists = np.zeros(fact)\n",
    "    p_mses = np.zeros(fact)\n",
    "    ious = np.zeros((fact, num_objects))\n",
    "    dists = np.zeros((fact, num_objects))\n",
    "    mses = np.zeros((fact, num_objects))\n",
    "    \n",
    "    for j, test_bboxes in enumerate(p_test_bboxes):\n",
    "        test_bboxes = list(test_bboxes) \n",
    "        for k in range(num_objects):\n",
    "            ious[j, k] = IOU(test_bboxes[k], pred_bboxes[k])\n",
    "            dists[j, k] = distance(test_bboxes[k], pred_bboxes[k])\n",
    "            mses[j, k] = np.mean(np.square(test_bboxes[k] - pred_bboxes[k]))\n",
    "        p_ious[j] = sum(ious[j, :])\n",
    "        p_dists[j] = sum(dists[j, :])\n",
    "        p_mses[j] = sum(mses[j, :])\n",
    "            \n",
    "    keymax = p_ious.argmax()\n",
    "    sum_iou += p_ious[keymax] \n",
    "    sum_dist += p_dists[keymax] \n",
    "    sum_mse += p_mses[keymax] \n",
    "\n",
    "mean_iou = sum_iou / (num_objects * len(pred_y))\n",
    "mean_dist = sum_dist / (num_objects * len(pred_y))\n",
    "mean_mse = sum_mse / (num_objects * len(pred_y))\n",
    "print('IoU:', mean_iou)\n",
    "print('Distance:', mean_dist)\n",
    "print('MSE:', mean_mse)"
   ]
  },
  {
   "cell_type": "code",
   "execution_count": null,
   "metadata": {},
   "outputs": [],
   "source": []
  }
 ],
 "metadata": {
  "kernelspec": {
   "display_name": "Python 3",
   "language": "python",
   "name": "python3"
  },
  "language_info": {
   "codemirror_mode": {
    "name": "ipython",
    "version": 3
   },
   "file_extension": ".py",
   "mimetype": "text/x-python",
   "name": "python",
   "nbconvert_exporter": "python",
   "pygments_lexer": "ipython3",
   "version": "3.8.3"
  }
 },
 "nbformat": 4,
 "nbformat_minor": 1
}
