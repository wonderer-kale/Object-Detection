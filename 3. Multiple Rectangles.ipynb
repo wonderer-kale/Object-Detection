{
 "cells": [
  {
   "cell_type": "markdown",
   "metadata": {},
   "source": [
    "# Multiple Rectangles Detection"
   ]
  },
  {
   "cell_type": "markdown",
   "metadata": {},
   "source": [
    "## Import Packages"
   ]
  },
  {
   "cell_type": "code",
   "execution_count": 1,
   "metadata": {
    "ExecuteTime": {
     "end_time": "2016-07-11T02:31:23.705000",
     "start_time": "2016-07-11T02:31:23.164000"
    }
   },
   "outputs": [],
   "source": [
    "import numpy as np\n",
    "import matplotlib.pyplot as plt\n",
    "import matplotlib\n",
    "import math\n",
    "%matplotlib inline"
   ]
  },
  {
   "cell_type": "markdown",
   "metadata": {},
   "source": [
    "## Data Generation"
   ]
  },
  {
   "cell_type": "code",
   "execution_count": 58,
   "metadata": {
    "ExecuteTime": {
     "end_time": "2016-07-11T02:31:26.922000",
     "start_time": "2016-07-11T02:31:24.029000"
    }
   },
   "outputs": [
    {
     "data": {
      "text/plain": [
       "((60000, 10, 10), (60000, 3, 4))"
      ]
     },
     "execution_count": 58,
     "metadata": {},
     "output_type": "execute_result"
    }
   ],
   "source": [
    "num_imgs = 60000\n",
    "\n",
    "img_size = 10\n",
    "min_rect_size = 2\n",
    "max_rect_size = 5\n",
    "num_objects = 3\n",
    "\n",
    "bboxes = np.zeros((num_imgs, num_objects, 4))\n",
    "imgs = np.zeros((num_imgs, img_size, img_size))\n",
    "\n",
    "for i_img in range(num_imgs):\n",
    "    for i_object in range(num_objects):\n",
    "        width, height = np.random.randint(min_rect_size, max_rect_size, size = 2)\n",
    "        x = np.random.randint(0, img_size - width)\n",
    "        y = np.random.randint(0, img_size - height)\n",
    "        imgs[i_img, x:x + width, y:y + height] = 1.\n",
    "        bboxes[i_img, i_object] = [x, y, width, height]\n",
    "\n",
    "'''\n",
    "    # Prevent overlap between rectangles.\n",
    "    # Makes results (i.e. mean IOU) slightly worse; probably because the shapes are smaller\n",
    "    # (i.e. they are harder to recognize and capture within a bbox)\n",
    "    # and further apart (i.e. the algorithm can't set all bboxes to the same location to get a good IOU).\n",
    "    i_object = 0\n",
    "    while i_object < num_objects:\n",
    "        width, height = np.random.randint(min_rect_size, max_rect_size, size = 2)\n",
    "        x = np.random.randint(0, img_size - width)\n",
    "        y = np.random.randint(0, img_size - height)\n",
    "        overlap = False\n",
    "        print('Creating object', i_object, ' - checking', len(bboxes[i_img, :i_object]), 'bboxes for overlap', )\n",
    "        for bbox in bboxes[i_img, :i_object]:  # TODO: Check if this includes all bboxes.\n",
    "            overlap = bool(IOU(bbox, [x - 1, y - 1, width + 2, height + 2]))  # at least one free field between objects\n",
    "            if overlap:\n",
    "                print('--> Found overlap')\n",
    "                break\n",
    "            if not overlap:\n",
    "                imgs[i_img, x:x + width, y:y + height] = 1.\n",
    "                bboxes[i_img, i_object] = [x, y, width, height]\n",
    "                i_object += 1\n",
    "                print('--> Found no overlap')\n",
    "'''\n",
    "\n",
    "imgs.shape, bboxes.shape"
   ]
  },
  {
   "cell_type": "code",
   "execution_count": 59,
   "metadata": {
    "ExecuteTime": {
     "end_time": "2016-07-11T02:31:27.836000",
     "start_time": "2016-07-11T02:31:27.576000"
    },
    "scrolled": true
   },
   "outputs": [
    {
     "data": {
      "image/png": "[encoded data removed]",
      "text/plain": [
       "<Figure size 432x288 with 1 Axes>"
      ]
     },
     "metadata": {
      "needs_background": "light"
     },
     "output_type": "display_data"
    }
   ],
   "source": [
    "i = 0\n",
    "plt.imshow(imgs[i].T, cmap = 'Greys', interpolation = 'none', origin = 'lower', extent = [0, img_size, 0, img_size])\n",
    "for bbox in bboxes[i]:\n",
    "    plt.gca().add_patch(matplotlib.patches.Rectangle((bbox[0], bbox[1]), bbox[2], bbox[3], lw = 2, ec = 'r', fc = 'none'))"
   ]
  },
  {
   "cell_type": "markdown",
   "metadata": {},
   "source": [
    "## Preprocessing"
   ]
  },
  {
   "cell_type": "code",
   "execution_count": 60,
   "metadata": {
    "ExecuteTime": {
     "end_time": "2016-07-11T02:31:29.292000",
     "start_time": "2016-07-11T02:31:29.159000"
    }
   },
   "outputs": [
    {
     "data": {
      "text/plain": [
       "((60000, 100), 2.3711995330207477e-17, 0.9999999999999998)"
      ]
     },
     "execution_count": 60,
     "metadata": {},
     "output_type": "execute_result"
    }
   ],
   "source": [
    "# Reshape and normalize the data to mean 0 and std 1.\n",
    "X = (imgs.reshape(num_imgs, -1) - np.mean(imgs)) / np.std(imgs)\n",
    "X.shape, np.mean(X), np.std(X)"
   ]
  },
  {
   "cell_type": "code",
   "execution_count": 61,
   "metadata": {
    "ExecuteTime": {
     "end_time": "2016-07-11T02:31:30.073000",
     "start_time": "2016-07-11T02:31:30.064000"
    }
   },
   "outputs": [
    {
     "data": {
      "text/plain": [
       "(60000, 12)"
      ]
     },
     "execution_count": 61,
     "metadata": {},
     "output_type": "execute_result"
    }
   ],
   "source": [
    "y = bboxes.reshape(num_imgs, -1) / img_size\n",
    "y.shape"
   ]
  },
  {
   "cell_type": "markdown",
   "metadata": {},
   "source": [
    "## Train Test Split"
   ]
  },
  {
   "cell_type": "code",
   "execution_count": 62,
   "metadata": {
    "ExecuteTime": {
     "end_time": "2016-07-11T02:31:31.033000",
     "start_time": "2016-07-11T02:31:31.028000"
    }
   },
   "outputs": [],
   "source": [
    "i = int(0.8 * num_imgs)\n",
    "train_X = X[:i]\n",
    "test_X = X[i:]\n",
    "train_y = y[:i]\n",
    "test_y = y[i:]\n",
    "test_imgs = imgs[i:]\n",
    "test_bboxes = bboxes[i:]"
   ]
  },
  {
   "cell_type": "markdown",
   "metadata": {},
   "source": [
    "## CNN Model"
   ]
  },
  {
   "cell_type": "code",
   "execution_count": 63,
   "metadata": {
    "ExecuteTime": {
     "end_time": "2016-07-11T02:31:38.581000",
     "start_time": "2016-07-11T02:31:32.040000"
    }
   },
   "outputs": [
    {
     "name": "stdout",
     "output_type": "stream",
     "text": [
      "Model: \"sequential_6\"\n",
      "_________________________________________________________________\n",
      "Layer (type)                 Output Shape              Param #   \n",
      "=================================================================\n",
      "dense_16 (Dense)             (None, 256)               25856     \n",
      "_________________________________________________________________\n",
      "activation_6 (Activation)    (None, 256)               0         \n",
      "_________________________________________________________________\n",
      "dropout_10 (Dropout)         (None, 256)               0         \n",
      "_________________________________________________________________\n",
      "dense_17 (Dense)             (None, 12)                3084      \n",
      "=================================================================\n",
      "Total params: 28,940\n",
      "Trainable params: 28,940\n",
      "Non-trainable params: 0\n",
      "_________________________________________________________________\n"
     ]
    }
   ],
   "source": [
    "from keras.models import Sequential\n",
    "from keras.layers import Dense, Activation, Dropout\n",
    "from keras.callbacks import ModelCheckpoint\n",
    "from keras.optimizers import SGD\n",
    "from keras.models import load_model\n",
    "model = Sequential([\n",
    "        Dense(256, input_dim = X.shape[-1]), \n",
    "        Activation('relu'), \n",
    "        Dropout(0.6), \n",
    "        Dense(y.shape[-1])\n",
    "    ])\n",
    "model.compile(loss = 'mse', optimizer = 'adam')\n",
    "model.summary()"
   ]
  },
  {
   "cell_type": "markdown",
   "metadata": {},
   "source": [
    "## IoU Calculating Function"
   ]
  },
  {
   "cell_type": "code",
   "execution_count": 64,
   "metadata": {},
   "outputs": [],
   "source": [
    "def IOU(bbox1, bbox2):\n",
    "    '''Calculate overlap between two bounding boxes [x, y, w, h] as the area of intersection over the area of unity'''\n",
    "    x1, y1, w1, h1 = bbox1[0], bbox1[1], bbox1[2], bbox1[3]  # TODO: Check if its more performant if tensor elements are accessed directly below.\n",
    "    x2, y2, w2, h2 = bbox2[0], bbox2[1], bbox2[2], bbox2[3]\n",
    "\n",
    "    w_I = min(x1 + w1, x2 + w2) - max(x1, x2)\n",
    "    h_I = min(y1 + h1, y2 + h2) - max(y1, y2)\n",
    "    if w_I <= 0 or h_I <= 0:  # no overlap\n",
    "        return 0\n",
    "    I = w_I * h_I\n",
    "\n",
    "    U = w1 * h1 + w2 * h2 - I\n",
    "\n",
    "    return I / U"
   ]
  },
  {
   "cell_type": "markdown",
   "metadata": {},
   "source": [
    "## Distance Calculating function"
   ]
  },
  {
   "cell_type": "code",
   "execution_count": 65,
   "metadata": {},
   "outputs": [],
   "source": [
    "def distance(bbox1, bbox2):\n",
    "    return np.sqrt(np.sum(np.square(bbox1[:2] - bbox2[:2])))"
   ]
  },
  {
   "cell_type": "markdown",
   "metadata": {},
   "source": [
    "## Training"
   ]
  },
  {
   "cell_type": "code",
   "execution_count": 66,
   "metadata": {
    "ExecuteTime": {
     "end_time": "2016-07-11T02:49:39.783000",
     "start_time": "2016-07-11T02:31:48.430000"
    },
    "code_folding": [
     2,
     17
    ],
    "scrolled": true
   },
   "outputs": [
    {
     "name": "stdout",
     "output_type": "stream",
     "text": [
      "Epoch  0\n",
      "1500/1500 [==============================] - 1s 847us/step - loss: 0.0476 - val_loss: 0.0190\n",
      "Flipped 81.05 % of all elements\n",
      "Mean IOU: 0.18242600593970534\n",
      "Mean dist: 0.22433210032522805\n",
      "Mean mse: 0.018320519374899726\n",
      "Epoch  1\n",
      "1500/1500 [==============================] - 1s 839us/step - loss: 0.0183 - val_loss: 0.0201\n",
      "Flipped 49.635416666666664 % of all elements\n",
      "Mean IOU: 0.2614987627304945\n",
      "Mean dist: 0.18502563644922254\n",
      "Mean mse: 0.014167377137896666\n",
      "Epoch  2\n",
      "1500/1500 [==============================] - 2s 1ms/step - loss: 0.0147 - val_loss: 0.0229\n",
      "Flipped 25.183333333333337 % of all elements\n",
      "Mean IOU: 0.3320116756362739\n",
      "Mean dist: 0.15241281599909387\n",
      "Mean mse: 0.010992454538267353\n",
      "Epoch  3\n",
      "1500/1500 [==============================] - 3s 2ms/step - loss: 0.0125 - val_loss: 0.0243\n",
      "Flipped 16.995833333333334 % of all elements\n",
      "Mean IOU: 0.3792091219589422\n",
      "Mean dist: 0.13355143007257564\n",
      "Mean mse: 0.00925091417693392\n",
      "Epoch  4\n",
      "1500/1500 [==============================] - 1s 946us/step - loss: 0.0112 - val_loss: 0.0252\n",
      "Flipped 14.914583333333335 % of all elements\n",
      "Mean IOU: 0.4065706483529751\n",
      "Mean dist: 0.12173219988396687\n",
      "Mean mse: 0.008232137068805904\n",
      "Epoch  5\n",
      "1500/1500 [==============================] - 1s 844us/step - loss: 0.0104 - val_loss: 0.0259\n",
      "Flipped 11.470833333333333 % of all elements\n",
      "Mean IOU: 0.42733053474260535\n",
      "Mean dist: 0.11347846326229422\n",
      "Mean mse: 0.007589377046868556\n",
      "Epoch  6\n",
      "1500/1500 [==============================] - 1s 852us/step - loss: 0.0099 - val_loss: 0.0257\n",
      "Flipped 10.116666666666667 % of all elements\n",
      "Mean IOU: 0.4405451055545926\n",
      "Mean dist: 0.10906399724827258\n",
      "Mean mse: 0.007140694250019661\n",
      "Epoch  7\n",
      "1500/1500 [==============================] - 2s 2ms/step - loss: 0.0096 - val_loss: 0.0257\n",
      "Flipped 9.097916666666666 % of all elements\n",
      "Mean IOU: 0.44673578919326884\n",
      "Mean dist: 0.1060330794576612\n",
      "Mean mse: 0.00689007778711939\n",
      "Epoch  8\n",
      "1500/1500 [==============================] - 2s 1ms/step - loss: 0.0094 - val_loss: 0.0264\n",
      "Flipped 9.60625 % of all elements\n",
      "Mean IOU: 0.4510300088579216\n",
      "Mean dist: 0.10404845735169313\n",
      "Mean mse: 0.006737557000814171\n",
      "Epoch  9\n",
      "1500/1500 [==============================] - 1s 844us/step - loss: 0.0092 - val_loss: 0.0262\n",
      "Flipped 9.585416666666667 % of all elements\n",
      "Mean IOU: 0.4470478169239055\n",
      "Mean dist: 0.10603229056652645\n",
      "Mean mse: 0.006839519174566501\n",
      "Epoch  10\n",
      "1500/1500 [==============================] - 1s 849us/step - loss: 0.0091 - val_loss: 0.0264\n",
      "Flipped 9.597916666666666 % of all elements\n",
      "Mean IOU: 0.45558519125645913\n",
      "Mean dist: 0.10302370431108608\n",
      "Mean mse: 0.006578125688005542\n",
      "Epoch  11\n",
      "1500/1500 [==============================] - 1s 890us/step - loss: 0.0090 - val_loss: 0.0265\n",
      "Flipped 8.308333333333334 % of all elements\n",
      "Mean IOU: 0.4604178619863773\n",
      "Mean dist: 0.10105380428832544\n",
      "Mean mse: 0.006425617432017233\n",
      "Epoch  12\n",
      "1500/1500 [==============================] - 1s 974us/step - loss: 0.0089 - val_loss: 0.0267\n",
      "Flipped 8.9625 % of all elements\n",
      "Mean IOU: 0.4506612116975554\n",
      "Mean dist: 0.10304737529716143\n",
      "Mean mse: 0.006588248935397448\n",
      "Epoch  13\n",
      "1500/1500 [==============================] - ETA: 0s - loss: 0.008 - 1s 881us/step - loss: 0.0089 - val_loss: 0.0266\n",
      "Flipped 8.143749999999999 % of all elements\n",
      "Mean IOU: 0.4542007557717825\n",
      "Mean dist: 0.10229131359808266\n",
      "Mean mse: 0.006534062688710155\n",
      "Epoch  14\n",
      "1500/1500 [==============================] - 1s 898us/step - loss: 0.0088 - val_loss: 0.0268\n",
      "Flipped 6.879166666666666 % of all elements\n",
      "Mean IOU: 0.4635794810747278\n",
      "Mean dist: 0.1001423882849798\n",
      "Mean mse: 0.006375621937904287\n",
      "Epoch  15\n",
      "1500/1500 [==============================] - 1s 881us/step - loss: 0.0087 - val_loss: 0.0263\n",
      "Flipped 7.320833333333334 % of all elements\n",
      "Mean IOU: 0.46586659978400363\n",
      "Mean dist: 0.09848578308632117\n",
      "Mean mse: 0.006250123198702537\n",
      "Epoch  16\n",
      "1500/1500 [==============================] - 1s 860us/step - loss: 0.0088 - val_loss: 0.0268\n",
      "Flipped 7.035416666666666 % of all elements\n",
      "Mean IOU: 0.4614966644853355\n",
      "Mean dist: 0.10027898423355672\n",
      "Mean mse: 0.006337537468659118\n",
      "Epoch  17\n",
      "1500/1500 [==============================] - 2s 1ms/step - loss: 0.0087 - val_loss: 0.0269\n",
      "Flipped 7.410416666666666 % of all elements\n",
      "Mean IOU: 0.46086763085642674\n",
      "Mean dist: 0.10004947299316025\n",
      "Mean mse: 0.006340816332859331\n",
      "Epoch  18\n",
      "1500/1500 [==============================] - 1s 947us/step - loss: 0.0087 - val_loss: 0.0265\n",
      "Flipped 7.731250000000001 % of all elements\n",
      "Mean IOU: 0.4596634016689956\n",
      "Mean dist: 0.09969324507731236\n",
      "Mean mse: 0.006334370892867227\n",
      "Epoch  19\n",
      "1500/1500 [==============================] - 1s 854us/step - loss: 0.0087 - val_loss: 0.0259\n",
      "Flipped 8.13125 % of all elements\n",
      "Mean IOU: 0.4595204141210661\n",
      "Mean dist: 0.09948883652204997\n",
      "Mean mse: 0.006214412789679561\n",
      "Epoch  20\n",
      "1500/1500 [==============================] - 1s 957us/step - loss: 0.0087 - val_loss: 0.0266\n",
      "Flipped 7.602083333333333 % of all elements\n",
      "Mean IOU: 0.4649795536508117\n",
      "Mean dist: 0.09860406756479503\n",
      "Mean mse: 0.006197764887696555\n",
      "Epoch  21\n",
      "1500/1500 [==============================] - 1s 938us/step - loss: 0.0087 - val_loss: 0.0264\n",
      "Flipped 6.481249999999999 % of all elements\n",
      "Mean IOU: 0.4589132978957268\n",
      "Mean dist: 0.10022341097842517\n",
      "Mean mse: 0.006299236603082429\n",
      "Epoch  22\n",
      "1500/1500 [==============================] - 1s 915us/step - loss: 0.0087 - val_loss: 0.0267\n",
      "Flipped 7.24375 % of all elements\n",
      "Mean IOU: 0.4660023631962829\n",
      "Mean dist: 0.09826528632386741\n",
      "Mean mse: 0.006143949655764933\n",
      "Epoch  23\n",
      "1500/1500 [==============================] - 1s 914us/step - loss: 0.0086 - val_loss: 0.0272\n",
      "Flipped 7.064583333333334 % of all elements\n",
      "Mean IOU: 0.4772394118223107\n",
      "Mean dist: 0.09451033039929929\n",
      "Mean mse: 0.005983762122435185\n",
      "Epoch  24\n",
      "1500/1500 [==============================] - 1s 937us/step - loss: 0.0086 - val_loss: 0.0264\n",
      "Flipped 7.154166666666667 % of all elements\n",
      "Mean IOU: 0.45745807630605667\n",
      "Mean dist: 0.10030919675204279\n",
      "Mean mse: 0.006263454383319558\n",
      "Epoch  25\n",
      "1500/1500 [==============================] - 1s 927us/step - loss: 0.0087 - val_loss: 0.0269\n",
      "Flipped 6.125 % of all elements\n",
      "Mean IOU: 0.46356042650867074\n",
      "Mean dist: 0.09796723785964692\n",
      "Mean mse: 0.006199812533807125\n",
      "Epoch  26\n",
      "1500/1500 [==============================] - 1s 854us/step - loss: 0.0086 - val_loss: 0.0271\n",
      "Flipped 7.147916666666666 % of all elements\n",
      "Mean IOU: 0.4702375085234934\n",
      "Mean dist: 0.09714506635352883\n",
      "Mean mse: 0.0061561028163341905\n",
      "Epoch  27\n",
      "1500/1500 [==============================] - 1s 928us/step - loss: 0.0086 - val_loss: 0.0271\n",
      "Flipped 6.766666666666667 % of all elements\n",
      "Mean IOU: 0.4682832931756041\n",
      "Mean dist: 0.09668656186032797\n",
      "Mean mse: 0.006114284434078953\n",
      "Epoch  28\n",
      "1500/1500 [==============================] - 1s 918us/step - loss: 0.0086 - val_loss: 0.0272\n",
      "Flipped 7.3270833333333325 % of all elements\n",
      "Mean IOU: 0.4641852185196831\n",
      "Mean dist: 0.09887936480107347\n",
      "Mean mse: 0.006233902511079234\n",
      "Epoch  29\n",
      "1500/1500 [==============================] - 1s 883us/step - loss: 0.0086 - val_loss: 0.0268\n",
      "Flipped 7.070833333333333 % of all elements\n",
      "Mean IOU: 0.4643581369355651\n",
      "Mean dist: 0.09930939748776217\n",
      "Mean mse: 0.006348558824389014\n",
      "Epoch  30\n",
      "1500/1500 [==============================] - 1s 910us/step - loss: 0.0086 - val_loss: 0.0264\n",
      "Flipped 6.708333333333333 % of all elements\n",
      "Mean IOU: 0.4606123258696848\n",
      "Mean dist: 0.09986168331130402\n",
      "Mean mse: 0.0063030925813721056\n",
      "Epoch  31\n",
      "1500/1500 [==============================] - 1s 903us/step - loss: 0.0086 - val_loss: 0.0267\n",
      "Flipped 6.583333333333333 % of all elements\n",
      "Mean IOU: 0.4711603046675618\n",
      "Mean dist: 0.09590424733274695\n",
      "Mean mse: 0.006004188139641\n",
      "Epoch  32\n",
      "1500/1500 [==============================] - 1s 870us/step - loss: 0.0086 - val_loss: 0.0265\n",
      "Flipped 6.69375 % of all elements\n",
      "Mean IOU: 0.4653176305288242\n",
      "Mean dist: 0.09826509501724616\n",
      "Mean mse: 0.006157733003731821\n",
      "Epoch  33\n",
      "1500/1500 [==============================] - 1s 834us/step - loss: 0.0086 - val_loss: 0.0261\n",
      "Flipped 6.708333333333333 % of all elements\n",
      "Mean IOU: 0.45942314558237307\n",
      "Mean dist: 0.10012625600812497\n",
      "Mean mse: 0.006282780598273664\n",
      "Epoch  34\n",
      "1500/1500 [==============================] - 1s 855us/step - loss: 0.0086 - val_loss: 0.0266\n",
      "Flipped 7.13125 % of all elements\n",
      "Mean IOU: 0.4705957946316703\n",
      "Mean dist: 0.09728937403347654\n",
      "Mean mse: 0.006092402398614032\n",
      "Epoch  35\n"
     ]
    },
    {
     "name": "stdout",
     "output_type": "stream",
     "text": [
      "1500/1500 [==============================] - 1s 879us/step - loss: 0.0086 - val_loss: 0.0265\n",
      "Flipped 6.260416666666667 % of all elements\n",
      "Mean IOU: 0.46542896371967474\n",
      "Mean dist: 0.09851977601226014\n",
      "Mean mse: 0.006217210376646372\n",
      "Epoch  36\n",
      "1500/1500 [==============================] - 1s 860us/step - loss: 0.0086 - val_loss: 0.0268\n",
      "Flipped 7.735416666666667 % of all elements\n",
      "Mean IOU: 0.46349573397350113\n",
      "Mean dist: 0.1001622520559394\n",
      "Mean mse: 0.006321439746412221\n",
      "Epoch  37\n",
      "1500/1500 [==============================] - 1s 856us/step - loss: 0.0086 - val_loss: 0.0272\n",
      "Flipped 7.6395833333333325 % of all elements\n",
      "Mean IOU: 0.4798225959429692\n",
      "Mean dist: 0.09428811371773986\n",
      "Mean mse: 0.005991302641156216\n",
      "Epoch  38\n",
      "1500/1500 [==============================] - 1s 889us/step - loss: 0.0086 - val_loss: 0.0264\n",
      "Flipped 7.139583333333334 % of all elements\n",
      "Mean IOU: 0.45771257061432996\n",
      "Mean dist: 0.10090024970717658\n",
      "Mean mse: 0.006319119043228313\n",
      "Epoch  39\n",
      "1500/1500 [==============================] - 1s 854us/step - loss: 0.0086 - val_loss: 0.0267\n",
      "Flipped 6.647916666666667 % of all elements\n",
      "Mean IOU: 0.46712544218570407\n",
      "Mean dist: 0.09698220074465302\n",
      "Mean mse: 0.006142764523620908\n",
      "Epoch  40\n",
      "1500/1500 [==============================] - 1s 862us/step - loss: 0.0086 - val_loss: 0.0267\n",
      "Flipped 7.229166666666667 % of all elements\n",
      "Mean IOU: 0.47067377438696245\n",
      "Mean dist: 0.09531732740887677\n",
      "Mean mse: 0.005984130625591476\n",
      "Epoch  41\n",
      "1500/1500 [==============================] - 1s 936us/step - loss: 0.0085 - val_loss: 0.0268\n",
      "Flipped 6.279166666666666 % of all elements\n",
      "Mean IOU: 0.46837590309627647\n",
      "Mean dist: 0.09772177192727266\n",
      "Mean mse: 0.00606671611887897\n",
      "Epoch  42\n",
      "1500/1500 [==============================] - 1s 854us/step - loss: 0.0086 - val_loss: 0.0272\n",
      "Flipped 7.88125 % of all elements\n",
      "Mean IOU: 0.47898463313854495\n",
      "Mean dist: 0.09522737584337446\n",
      "Mean mse: 0.006042754562532785\n",
      "Epoch  43\n",
      "1500/1500 [==============================] - 1s 866us/step - loss: 0.0086 - val_loss: 0.0264\n",
      "Flipped 7.854166666666666 % of all elements\n",
      "Mean IOU: 0.4726597052128268\n",
      "Mean dist: 0.09552480499833087\n",
      "Mean mse: 0.005928041947494981\n",
      "Epoch  44\n",
      "1500/1500 [==============================] - 1s 882us/step - loss: 0.0086 - val_loss: 0.0269\n",
      "Flipped 6.520833333333333 % of all elements\n",
      "Mean IOU: 0.4722391035466873\n",
      "Mean dist: 0.09621712354355402\n",
      "Mean mse: 0.006096148631263028\n",
      "Epoch  45\n",
      "1500/1500 [==============================] - 3s 2ms/step - loss: 0.0086 - val_loss: 0.0264\n",
      "Flipped 6.760416666666667 % of all elements\n",
      "Mean IOU: 0.46111926673218234\n",
      "Mean dist: 0.09996066238049174\n",
      "Mean mse: 0.006268160549274285\n",
      "Epoch  46\n",
      "1500/1500 [==============================] - 1s 849us/step - loss: 0.0086 - val_loss: 0.0268\n",
      "Flipped 6.366666666666666 % of all elements\n",
      "Mean IOU: 0.4594089246261261\n",
      "Mean dist: 0.099372888794183\n",
      "Mean mse: 0.006256904463041813\n",
      "Epoch  47\n",
      "1500/1500 [==============================] - 1s 876us/step - loss: 0.0086 - val_loss: 0.0267\n",
      "Flipped 6.383333333333334 % of all elements\n",
      "Mean IOU: 0.4772741374255645\n",
      "Mean dist: 0.09386856754424326\n",
      "Mean mse: 0.005894691095244762\n",
      "Epoch  48\n",
      "1500/1500 [==============================] - 1s 853us/step - loss: 0.0085 - val_loss: 0.0267\n",
      "Flipped 5.902083333333334 % of all elements\n",
      "Mean IOU: 0.4629360117949847\n",
      "Mean dist: 0.098678673989992\n",
      "Mean mse: 0.006167720185675442\n",
      "Epoch  49\n",
      "1500/1500 [==============================] - 1s 833us/step - loss: 0.0086 - val_loss: 0.0267\n",
      "Flipped 6.270833333333334 % of all elements\n",
      "Mean IOU: 0.47101645666654435\n",
      "Mean dist: 0.09642633632945809\n",
      "Mean mse: 0.006073686637560787\n"
     ]
    }
   ],
   "source": [
    "from itertools import permutations\n",
    "num_epochs = 50\n",
    "fact = math.factorial(num_objects)\n",
    "\n",
    "flipped_train_y = np.array(train_y)\n",
    "flipped = np.zeros((len(flipped_train_y), num_epochs))\n",
    "ious_epochs = np.zeros((len(flipped_train_y), num_epochs))\n",
    "dists_epochs = np.zeros((len(flipped_train_y), num_epochs))\n",
    "mses_epochs = np.zeros((len(flipped_train_y), num_epochs))\n",
    "\n",
    "for epoch in range(num_epochs):\n",
    "    print('Epoch ', epoch)\n",
    "    model.fit(train_X, flipped_train_y, epochs = 1, validation_data = (test_X, test_y), verbose = 1, \n",
    "              callbacks = [ModelCheckpoint('Multiple_Rectangles_model.h5', \n",
    "                                           monitor = 'val_loss',\n",
    "                                           save_best_only = True)])\n",
    "    pred_y = model.predict(train_X)\n",
    "    \n",
    "    for i, (pred_bboxes, exp_bboxes) in enumerate(zip(pred_y, flipped_train_y)):\n",
    "        \n",
    "        pred_bboxes = pred_bboxes.reshape(num_objects, -1)\n",
    "        exp_bboxes = exp_bboxes.reshape(num_objects, -1)\n",
    "        \n",
    "        p_exp_bboxes = list(permutations(exp_bboxes))\n",
    "        ious = np.zeros((fact, num_objects))\n",
    "        dists = np.zeros((fact, num_objects))\n",
    "        mses = np.zeros((fact, num_objects))\n",
    "        p_ious = np.zeros(fact)\n",
    "        p_mses = np.zeros(fact)\n",
    "        p_dists = np.zeros(fact)\n",
    "        \n",
    "        for j, exp_bboxes in enumerate(p_exp_bboxes):\n",
    "            exp_bboxes = list(exp_bboxes) \n",
    "            for k in range(num_objects):\n",
    "                ious[j, k] = IOU(exp_bboxes[k], pred_bboxes[k])\n",
    "                dists[j, k] = distance(exp_bboxes[k], pred_bboxes[k])\n",
    "                mses[j, k] = np.mean(np.square(exp_bboxes[k] - pred_bboxes[k]))\n",
    "            p_ious[j] = sum(ious[j, :])\n",
    "            p_dists[j] = sum(dists[j, :])\n",
    "            p_mses[j] = sum(mses[j, :])\n",
    "            \n",
    "        keymax = p_ious.argmax()\n",
    "        ious_epochs[i, epoch] += p_ious[keymax] / num_objects\n",
    "        dists_epochs[i, epoch] += p_dists[keymax] / num_objects\n",
    "        mses_epochs[i, epoch] += p_mses[keymax] / num_objects\n",
    "        \n",
    "        flipped_train_y[i] = np.array(p_exp_bboxes[keymax]).flatten()\n",
    "        if keymax != 0:\n",
    "            flipped[i, epoch] = 1.\n",
    "    \n",
    "    print('Flipped {} % of all elements'.format(np.mean(flipped[:, epoch]) * 100.))\n",
    "    print('Mean IOU: {}'.format(np.mean(ious_epochs[:, epoch])))\n",
    "    print('Mean dist: {}'.format(np.mean(dists_epochs[:, epoch])))\n",
    "    print('Mean mse: {}'.format(np.mean(mses_epochs[:, epoch])))"
   ]
  },
  {
   "cell_type": "markdown",
   "metadata": {},
   "source": [
    "## Flipping Track"
   ]
  },
  {
   "cell_type": "code",
   "execution_count": 67,
   "metadata": {
    "ExecuteTime": {
     "end_time": "2016-07-03T16:51:28.611000",
     "start_time": "2016-07-03T16:51:25.540000"
    },
    "scrolled": true
   },
   "outputs": [
    {
     "data": {
      "image/png": "[encoded data removed]",
      "text/plain": [
       "<Figure size 432x288 with 1 Axes>"
      ]
     },
     "metadata": {
      "needs_background": "light"
     },
     "output_type": "display_data"
    }
   ],
   "source": [
    "# Show flippings for a few training samples.\n",
    "plt.pcolormesh(flipped[:, :], cmap = 'Greys')\n",
    "plt.xlabel('Epoch')\n",
    "plt.ylabel('Training sample')\n",
    "plt.savefig('multiple-rectangles_flips.png', dpi = 100)\n",
    "plt.show()"
   ]
  },
  {
   "cell_type": "markdown",
   "metadata": {},
   "source": [
    "## Metrics Track"
   ]
  },
  {
   "cell_type": "code",
   "execution_count": 69,
   "metadata": {
    "ExecuteTime": {
     "end_time": "2016-07-03T16:51:37.618000",
     "start_time": "2016-07-03T16:51:37.062000"
    }
   },
   "outputs": [
    {
     "data": {
      "text/plain": [
       "(0.0, 0.8)"
      ]
     },
     "execution_count": 69,
     "metadata": {},
     "output_type": "execute_result"
    },
    {
     "data": {
      "image/png": "[encoded data removed]",
      "text/plain": [
       "<Figure size 432x288 with 1 Axes>"
      ]
     },
     "metadata": {
      "needs_background": "light"
     },
     "output_type": "display_data"
    }
   ],
   "source": [
    "# Plot metrics on the training data.\n",
    "mean_ious_epoch = np.mean(ious_epochs, axis = 0)\n",
    "mean_dists_epoch = np.mean(dists_epochs, axis = 0)\n",
    "mean_mses_epoch = np.mean(mses_epochs, axis = 0)\n",
    "plt.plot(mean_ious_epoch, label = 'Mean IOU')  # between predicted and assigned true bboxes\n",
    "plt.plot(mean_dists_epoch, label = 'Mean distance')  # relative to image size\n",
    "plt.plot(mean_mses_epoch, label = 'Mean mse')\n",
    "plt.annotate(np.round(np.max(mean_ious_epoch), 3), (len(mean_ious_epoch) - 1, mean_ious_epoch[-1] + 0.02), horizontalalignment = 'right', color = 'b')\n",
    "plt.annotate(np.round(np.min(mean_dists_epoch), 3), (len(mean_dists_epoch) - 1, mean_dists_epoch[-1] + 0.02), horizontalalignment = 'right', color = 'g')\n",
    "plt.annotate(np.round(np.min(mean_mses_epoch), 3), (len(mean_mses_epoch) - 1, mean_mses_epoch[-1] + 0.02), horizontalalignment = 'right', color = 'r')\n",
    "\n",
    "plt.xlabel('Epoch')\n",
    "# Hide y tick\n",
    "ax = plt.gca()\n",
    "ax.axes.yaxis.set_visible(False)\n",
    "\n",
    "plt.legend()\n",
    "plt.ylim(0, 0.8)"
   ]
  },
  {
   "cell_type": "markdown",
   "metadata": {},
   "source": [
    "## Denormalize Data"
   ]
  },
  {
   "cell_type": "code",
   "execution_count": 70,
   "metadata": {
    "ExecuteTime": {
     "end_time": "2016-07-03T16:34:24.949000",
     "start_time": "2016-07-03T16:34:24.511000"
    }
   },
   "outputs": [
    {
     "data": {
      "text/plain": [
       "(12000, 3, 4)"
      ]
     },
     "execution_count": 70,
     "metadata": {},
     "output_type": "execute_result"
    }
   ],
   "source": [
    "pred_y = model.predict(test_X)\n",
    "pred_bboxes = pred_y * img_size\n",
    "pred_bboxes = pred_bboxes.reshape(len(pred_bboxes), num_objects, -1)\n",
    "pred_bboxes.shape"
   ]
  },
  {
   "cell_type": "markdown",
   "metadata": {},
   "source": [
    "## Visualize Results"
   ]
  },
  {
   "cell_type": "code",
   "execution_count": 71,
   "metadata": {
    "ExecuteTime": {
     "end_time": "2016-07-03T16:34:55.948000",
     "start_time": "2016-07-03T16:34:54.428000"
    },
    "scrolled": true
   },
   "outputs": [
    {
     "data": {
      "image/png": "[encoded data removed]",
      "text/plain": [
       "<Figure size 864x216 with 4 Axes>"
      ]
     },
     "metadata": {
      "needs_background": "light"
     },
     "output_type": "display_data"
    }
   ],
   "source": [
    "plt.figure(figsize = (12, 3))\n",
    "for i_subplot in range(1, 5):\n",
    "    plt.subplot(1, 4, i_subplot)\n",
    "    i = np.random.randint(len(test_X))\n",
    "    plt.imshow(test_imgs[i].T, cmap = 'Greys', interpolation = 'none', origin = 'lower', extent = [0, img_size, 0, img_size])\n",
    "    for pred_bbox, exp_bbox in zip(pred_bboxes[i], test_bboxes[i]):\n",
    "        plt.gca().add_patch(matplotlib.patches.Rectangle((pred_bbox[0], pred_bbox[1]), pred_bbox[2], pred_bbox[3], lw = 2, ec = 'r', fc = 'none'))\n",
    "        # TODO: Calculate max IOU with all expected bounding boxes.\n",
    "#         plt.annotate('IOU: {:.2f}'.format(IOU(pred_bbox, exp_bbox)), (pred_bbox[0], pred_bbox[1]+pred_bbox[3]+0.4), color='r')"
   ]
  },
  {
   "cell_type": "markdown",
   "metadata": {},
   "source": [
    "## Overall Assessment"
   ]
  },
  {
   "cell_type": "code",
   "execution_count": 74,
   "metadata": {},
   "outputs": [
    {
     "name": "stdout",
     "output_type": "stream",
     "text": [
      "IoU: 0.6675773082607528\n"
     ]
    }
   ],
   "source": [
    "from keras.models import load_model\n",
    "model_test = load_model('Multiple_Rectangles_model.h5')\n",
    "pred_y = model_test.predict(test_X)\n",
    "pred_bboxes = pred_y * img_size\n",
    "pred_bboxes = pred_bboxes.reshape(len(pred_bboxes), num_objects, -1)\n",
    "summed_IOU = 0.\n",
    "for pred_bbox, test_bbox in zip(pred_bboxes.reshape(-1, 4), test_bboxes.reshape(-1, 4)):\n",
    "    summed_IOU += IOU(pred_bbox, test_bbox)\n",
    "mean_IOU = summed_IOU / len(pred_bboxes)\n",
    "print('IoU:', mean_IOU)"
   ]
  },
  {
   "cell_type": "code",
   "execution_count": null,
   "metadata": {},
   "outputs": [],
   "source": []
  }
 ],
 "metadata": {
  "kernelspec": {
   "display_name": "Python (tensorflow-gpu)",
   "language": "python",
   "name": "tf-gpu"
  },
  "language_info": {
   "codemirror_mode": {
    "name": "ipython",
    "version": 3
   },
   "file_extension": ".py",
   "mimetype": "text/x-python",
   "name": "python",
   "nbconvert_exporter": "python",
   "pygments_lexer": "ipython3",
   "version": "3.8.3"
  }
 },
 "nbformat": 4,
 "nbformat_minor": 1
}
