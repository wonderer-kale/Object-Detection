{
 "cells": [
  {
   "cell_type": "markdown",
   "metadata": {},
   "source": [
    "# Colored Multiple Shapes"
   ]
  },
  {
   "cell_type": "markdown",
   "metadata": {},
   "source": [
    "## Import Packages"
   ]
  },
  {
   "cell_type": "code",
   "execution_count": 2,
   "metadata": {
    "ExecuteTime": {
     "end_time": "2016-07-04T17:28:39.034000",
     "start_time": "2016-07-04T17:28:38.325000"
    }
   },
   "outputs": [],
   "source": [
    "import numpy as np\n",
    "import matplotlib.pyplot as plt\n",
    "import matplotlib\n",
    "import math\n",
    "from PIL import Image\n",
    "from skimage import draw\n",
    "from itertools import permutations\n",
    "%matplotlib inline"
   ]
  },
  {
   "cell_type": "markdown",
   "metadata": {},
   "source": [
    "## Data Generation"
   ]
  },
  {
   "cell_type": "code",
   "execution_count": 3,
   "metadata": {
    "ExecuteTime": {
     "end_time": "2016-07-05T22:57:56.251000",
     "start_time": "2016-07-05T22:57:54.426000"
    }
   },
   "outputs": [
    {
     "data": {
      "text/plain": [
       "((50000, 32, 32, 3), (50000, 3, 4), (50000, 3), (50000, 3))"
      ]
     },
     "execution_count": 3,
     "metadata": {},
     "output_type": "execute_result"
    }
   ],
   "source": [
    "num_imgs = 50000\n",
    "\n",
    "img_size = 32\n",
    "min_object_size = 7\n",
    "max_object_size = 16\n",
    "num_objects = 3\n",
    "num_shapes = 3\n",
    "num_colors = 3\n",
    "\n",
    "bboxes = np.zeros((num_imgs, num_objects, 4))\n",
    "imgs = np.zeros((num_imgs, img_size, img_size, 3)) + 1\n",
    "shapes = np.zeros((num_imgs, num_objects), dtype = int)\n",
    "shape_labels = ['rectangle', 'circle', 'triangle']\n",
    "colors = np.zeros((num_imgs, num_objects), dtype = int)\n",
    "color_labels = ['r', 'g', 'b']\n",
    "\n",
    "for i_img in range(num_imgs):\n",
    "    \n",
    "    for i_object in range(num_objects):\n",
    "        shape = np.random.randint(num_shapes)\n",
    "        shapes[i_img, i_object] = shape\n",
    "        color = np.random.randint(num_colors)\n",
    "        colors[i_img, i_object] = color\n",
    "        rgb = np.zeros(3)\n",
    "        \n",
    "        # TODO: Introduce some variation to the colors by adding a small random offset to the rgb values.\n",
    "        max_offset = 0.02\n",
    "        r_offset, g_offset, b_offset = max_offset * (np.random.rand(3) - 0.5)\n",
    "        if color == 0:\n",
    "            rgb = (1. - 0.5 * abs(r_offset), 0 + g_offset, 0 + b_offset)\n",
    "        elif color == 1:\n",
    "            rgb = (0 + r_offset, 1. - 0.5 * abs(g_offset), 0 + b_offset)\n",
    "        else:\n",
    "            rgb = (0 + r_offset, 0 + g_offset, 1. - 0.5 * abs(b_offset))\n",
    "            \n",
    "        if shape == 0: # rectangle\n",
    "            w, h = np.random.randint(min_object_size, max_object_size, size = 2)\n",
    "            x = np.random.randint(0, img_size - w)\n",
    "            y = np.random.randint(0, img_size - h)\n",
    "            imgs[i_img, x:x + w, y:y + h] = rgb\n",
    "            bboxes[i_img, i_object] = [x, y, w, h]\n",
    "            \n",
    "        elif shape == 1: # circle\n",
    "            r = 0.5 * np.random.randint(min_object_size, max_object_size)\n",
    "            x = np.random.randint(r, img_size - r)\n",
    "            y = np.random.randint(r, img_size - r)\n",
    "            bboxes[i_img, i_object] = [x - r, y - r, 2 * r, 2 * r]\n",
    "            r, c = draw.circle(x, y, radius = r)\n",
    "            imgs[i_img, r, c] = rgb\n",
    "            \n",
    "        else: # triangle\n",
    "            size = np.random.randint(min_object_size, max_object_size)\n",
    "            x, y = np.random.randint(0, img_size - size, size = 2)\n",
    "            mask = np.tril_indices(size)\n",
    "            imgs[i_img, x + mask[0], y + mask[1]] = rgb\n",
    "            bboxes[i_img, i_object] = [x, y, size, size]\n",
    "            \n",
    "imgs = imgs * 255\n",
    "imgs = imgs.astype(np.uint8)\n",
    "\n",
    "imgs.shape, bboxes.shape, shapes.shape, colors.shape"
   ]
  },
  {
   "cell_type": "code",
   "execution_count": 6,
   "metadata": {
    "ExecuteTime": {
     "end_time": "2016-07-05T22:57:56.856000",
     "start_time": "2016-07-05T22:57:56.254000"
    },
    "scrolled": true
   },
   "outputs": [
    {
     "data": {
      "image/png": "[encoded data removed]",
      "text/plain": [
       "<Figure size 432x288 with 1 Axes>"
      ]
     },
     "metadata": {
      "needs_background": "light"
     },
     "output_type": "display_data"
    }
   ],
   "source": [
    "i = np.random.randint(num_imgs)\n",
    "plt.imshow(np.transpose(imgs[i], (1, 0, 2)), interpolation = 'none', origin = 'lower', extent = [0, img_size, 0, img_size])\n",
    "for bbox, shape, color in zip(bboxes[i], shapes[i], colors[i]):\n",
    "    plt.gca().add_patch(matplotlib.patches.Rectangle((bbox[0], bbox[1]), bbox[2], bbox[3], lw = 2, ec = 'k', fc = 'none'))\n",
    "    plt.annotate(shape_labels[shape], (bbox[0], bbox[1] + bbox[3] + 0.7), color = color_labels[color], clip_on = False)"
   ]
  },
  {
   "cell_type": "markdown",
   "metadata": {},
   "source": [
    "## Preprocessing"
   ]
  },
  {
   "cell_type": "code",
   "execution_count": 7,
   "metadata": {
    "ExecuteTime": {
     "end_time": "2016-07-05T23:55:30.611000",
     "start_time": "2016-07-05T23:55:26.822000"
    }
   },
   "outputs": [
    {
     "data": {
      "text/plain": [
       "((50000, 32, 32, 3), 0.38592452193116783, 0.31438538862341575)"
      ]
     },
     "execution_count": 7,
     "metadata": {},
     "output_type": "execute_result"
    }
   ],
   "source": [
    "X = (imgs - 128.) / 255.\n",
    "X.shape, np.mean(X), np.std(X)"
   ]
  },
  {
   "cell_type": "code",
   "execution_count": 8,
   "metadata": {
    "ExecuteTime": {
     "end_time": "2016-07-05T23:55:33.242000",
     "start_time": "2016-07-05T23:55:33.179000"
    }
   },
   "outputs": [
    {
     "data": {
      "text/plain": [
       "((50000, 30), True)"
      ]
     },
     "execution_count": 8,
     "metadata": {},
     "output_type": "execute_result"
    }
   ],
   "source": [
    "colors_onehot = np.zeros((num_imgs, num_objects, num_colors))\n",
    "for i_img in range(num_imgs):\n",
    "    for i_object in range(num_objects):\n",
    "        colors_onehot[i_img, i_object, colors[i_img, i_object]] = 1\n",
    "\n",
    "shapes_onehot = np.zeros((num_imgs, num_objects, num_shapes))\n",
    "for i_img in range(num_imgs):\n",
    "    for i_object in range(num_objects):\n",
    "        shapes_onehot[i_img, i_object, shapes[i_img, i_object]] = 1\n",
    "        \n",
    "y = np.concatenate([bboxes / img_size, shapes_onehot, colors_onehot], axis = -1).reshape(num_imgs, -1)\n",
    "y.shape, np.all(np.argmax(colors_onehot, axis = -1) == colors)"
   ]
  },
  {
   "cell_type": "markdown",
   "metadata": {},
   "source": [
    "## Train Test Split"
   ]
  },
  {
   "cell_type": "code",
   "execution_count": 9,
   "metadata": {
    "ExecuteTime": {
     "end_time": "2016-07-05T23:55:33.989000",
     "start_time": "2016-07-05T23:55:33.981000"
    }
   },
   "outputs": [],
   "source": [
    "i = int(0.8 * num_imgs)\n",
    "train_X = X[:i]\n",
    "test_X = X[i:]\n",
    "train_y = y[:i]\n",
    "test_y = y[i:]\n",
    "test_imgs = imgs[i:]\n",
    "test_bboxes = bboxes[i:]"
   ]
  },
  {
   "cell_type": "markdown",
   "metadata": {},
   "source": [
    "## CNN Model"
   ]
  },
  {
   "cell_type": "code",
   "execution_count": 20,
   "metadata": {
    "ExecuteTime": {
     "end_time": "2016-07-06T00:27:51.515000",
     "start_time": "2016-07-06T00:27:50.598000"
    }
   },
   "outputs": [
    {
     "name": "stdout",
     "output_type": "stream",
     "text": [
      "Model: \"sequential_7\"\n",
      "_________________________________________________________________\n",
      "Layer (type)                 Output Shape              Param #   \n",
      "=================================================================\n",
      "conv2d_34 (Conv2D)           (None, 16, 16, 32)        3488      \n",
      "_________________________________________________________________\n",
      "max_pooling2d_21 (MaxPooling (None, 8, 8, 32)          0         \n",
      "_________________________________________________________________\n",
      "conv2d_35 (Conv2D)           (None, 8, 8, 64)          18496     \n",
      "_________________________________________________________________\n",
      "max_pooling2d_22 (MaxPooling (None, 4, 4, 64)          0         \n",
      "_________________________________________________________________\n",
      "conv2d_36 (Conv2D)           (None, 4, 4, 128)         73856     \n",
      "_________________________________________________________________\n",
      "conv2d_37 (Conv2D)           (None, 4, 4, 256)         295168    \n",
      "_________________________________________________________________\n",
      "max_pooling2d_23 (MaxPooling (None, 2, 2, 256)         0         \n",
      "_________________________________________________________________\n",
      "flatten_7 (Flatten)          (None, 1024)              0         \n",
      "_________________________________________________________________\n",
      "dropout_14 (Dropout)         (None, 1024)              0         \n",
      "_________________________________________________________________\n",
      "dense_14 (Dense)             (None, 256)               262400    \n",
      "_________________________________________________________________\n",
      "dropout_15 (Dropout)         (None, 256)               0         \n",
      "_________________________________________________________________\n",
      "dense_15 (Dense)             (None, 30)                7710      \n",
      "=================================================================\n",
      "Total params: 661,118\n",
      "Trainable params: 661,118\n",
      "Non-trainable params: 0\n",
      "_________________________________________________________________\n"
     ]
    }
   ],
   "source": [
    "from keras.models import Sequential\n",
    "from keras.layers import Dense, Activation, Dropout, Convolution2D, MaxPooling2D, Flatten\n",
    "\n",
    "# TODO: Maybe remove pooling bc it takes away the spatial information.\n",
    "\n",
    "model = Sequential([\n",
    "        Convolution2D(32, kernel_size = (6, 6), \n",
    "                      strides = (2, 2),\n",
    "                      input_shape = (32, 32, 3),\n",
    "                      padding = 'same', activation = 'relu'),\n",
    "        MaxPooling2D(pool_size = (3, 3), strides = (2, 2), padding = 'same'),\n",
    "        Convolution2D(64, kernel_size = (3, 3), \n",
    "                      strides = (1, 1), \n",
    "                      padding = 'same', activation = 'relu'),\n",
    "        MaxPooling2D(pool_size = (3, 3), strides = (2, 2), padding = 'same'),\n",
    "        Convolution2D(128, kernel_size = (3, 3), \n",
    "                      strides = (1, 1), \n",
    "                      padding = 'same', activation = 'relu'),\n",
    "        Convolution2D(256, kernel_size = (3, 3), \n",
    "                      strides = (1, 1), \n",
    "                      padding = 'same', activation = 'relu'),\n",
    "        MaxPooling2D(pool_size = (3, 3), strides = (2, 2), padding = 'same'),\n",
    "        Flatten(),\n",
    "        Dropout(0.4),\n",
    "        Dense(256, activation = 'relu'),\n",
    "        Dropout(0.4),\n",
    "        Dense(y.shape[ - 1])\n",
    "    ])\n",
    "\n",
    "model.compile('adam', 'mse')\n",
    "model.summary()"
   ]
  },
  {
   "cell_type": "markdown",
   "metadata": {},
   "source": [
    "## IoU Calculating Function"
   ]
  },
  {
   "cell_type": "code",
   "execution_count": 21,
   "metadata": {},
   "outputs": [],
   "source": [
    "def IOU(bbox1, bbox2):\n",
    "    '''Calculate overlap between two bounding boxes [x, y, w, h] as the area of intersection over the area of unity'''\n",
    "    x1, y1, w1, h1 = bbox1[0], bbox1[1], bbox1[2], bbox1[3]  # TODO: Check if its more performant if tensor elements are accessed directly below.\n",
    "    x2, y2, w2, h2 = bbox2[0], bbox2[1], bbox2[2], bbox2[3]\n",
    "\n",
    "    w_I = min(x1 + w1, x2 + w2) - max(x1, x2)\n",
    "    h_I = min(y1 + h1, y2 + h2) - max(y1, y2)\n",
    "    if w_I <= 0 or h_I <= 0:  # no overlap\n",
    "        return 0\n",
    "    I = w_I * h_I\n",
    "\n",
    "    U = w1 * h1 + w2 * h2 - I\n",
    "\n",
    "    return I / U"
   ]
  },
  {
   "cell_type": "markdown",
   "metadata": {},
   "source": [
    "## Distance Calculating Function"
   ]
  },
  {
   "cell_type": "code",
   "execution_count": 22,
   "metadata": {},
   "outputs": [],
   "source": [
    "def distance(bbox1, bbox2):\n",
    "    return np.sqrt(np.sum(np.square(bbox1[:2] - bbox2[:2])))"
   ]
  },
  {
   "cell_type": "markdown",
   "metadata": {},
   "source": [
    "## Training"
   ]
  },
  {
   "cell_type": "code",
   "execution_count": 23,
   "metadata": {
    "ExecuteTime": {
     "end_time": "2016-07-06T16:47:14.477000",
     "start_time": "2016-07-06T00:27:51.517000"
    },
    "code_folding": [
     2,
     17
    ],
    "scrolled": false
   },
   "outputs": [
    {
     "name": "stdout",
     "output_type": "stream",
     "text": [
      "Epoch 0\n",
      "1250/1250 [==============================] - 22s 17ms/step - loss: 0.1299 - val_loss: 0.1203\n",
      "Flipped 83.005 % of all elements\n",
      "Mean IOU: 0.23089664647649297\n",
      "Mean dist: 0.21525564730222954\n",
      "Mean mse: 0.01732701068687949\n",
      "Accuracy shapes: 0.5400166666666667\n",
      "Accuracy colors: 0.5440833333333333\n",
      "Epoch 1\n",
      "1250/1250 [==============================] - 22s 17ms/step - loss: 0.1131 - val_loss: 0.1226\n",
      "Flipped 34.582499999999996 % of all elements\n",
      "Mean IOU: 0.2945896060622477\n",
      "Mean dist: 0.1780676218478496\n",
      "Mean mse: 0.013054884621320534\n",
      "Accuracy shapes: 0.7088749999999998\n",
      "Accuracy colors: 0.6078\n",
      "Epoch 2\n",
      "1250/1250 [==============================] - 22s 17ms/step - loss: 0.0995 - val_loss: 0.1301\n",
      "Flipped 19.43 % of all elements\n",
      "Mean IOU: 0.31339821333273604\n",
      "Mean dist: 0.16879571019160725\n",
      "Mean mse: 0.012098189833204999\n",
      "Accuracy shapes: 0.7581249999999999\n",
      "Accuracy colors: 0.636025\n",
      "Epoch 3\n",
      "1250/1250 [==============================] - 22s 17ms/step - loss: 0.0938 - val_loss: 0.1329\n",
      "Flipped 15.617500000000001 % of all elements\n",
      "Mean IOU: 0.32616403020089035\n",
      "Mean dist: 0.16382276610033725\n",
      "Mean mse: 0.011626353899095424\n",
      "Accuracy shapes: 0.7842416666666666\n",
      "Accuracy colors: 0.6568833333333333\n",
      "Epoch 4\n",
      "1250/1250 [==============================] - 22s 17ms/step - loss: 0.0898 - val_loss: 0.1353\n",
      "Flipped 13.91 % of all elements\n",
      "Mean IOU: 0.32892660465508383\n",
      "Mean dist: 0.16172595429003125\n",
      "Mean mse: 0.011406663825346212\n",
      "Accuracy shapes: 0.8009916666666667\n",
      "Accuracy colors: 0.6686083333333332\n",
      "Epoch 5\n",
      "1250/1250 [==============================] - 22s 17ms/step - loss: 0.0864 - val_loss: 0.1370\n",
      "Flipped 11.675 % of all elements\n",
      "Mean IOU: 0.3343447738058171\n",
      "Mean dist: 0.15938431735342856\n",
      "Mean mse: 0.01115620509121237\n",
      "Accuracy shapes: 0.8102416666666666\n",
      "Accuracy colors: 0.6790666666666668\n",
      "Epoch 6\n",
      "1250/1250 [==============================] - 21s 17ms/step - loss: 0.0846 - val_loss: 0.1397\n",
      "Flipped 11.125 % of all elements\n",
      "Mean IOU: 0.3393924233926758\n",
      "Mean dist: 0.15720364158396274\n",
      "Mean mse: 0.011003145201890033\n",
      "Accuracy shapes: 0.8178833333333332\n",
      "Accuracy colors: 0.6809083333333333\n",
      "Epoch 7\n",
      "1250/1250 [==============================] - 21s 17ms/step - loss: 0.0828 - val_loss: 0.1397\n",
      "Flipped 10.764999999999999 % of all elements\n",
      "Mean IOU: 0.34767718988865365\n",
      "Mean dist: 0.15306574785215243\n",
      "Mean mse: 0.010624237009195585\n",
      "Accuracy shapes: 0.8161916666666666\n",
      "Accuracy colors: 0.6898333333333333\n",
      "Epoch 8\n",
      "1250/1250 [==============================] - 22s 17ms/step - loss: 0.0822 - val_loss: 0.1440\n",
      "Flipped 9.6825 % of all elements\n",
      "Mean IOU: 0.3503703097023629\n",
      "Mean dist: 0.15179286672702047\n",
      "Mean mse: 0.010511996936974202\n",
      "Accuracy shapes: 0.8267916666666666\n",
      "Accuracy colors: 0.6979\n",
      "Epoch 9\n",
      "1250/1250 [==============================] - 22s 17ms/step - loss: 0.0807 - val_loss: 0.1422\n",
      "Flipped 9.3825 % of all elements\n",
      "Mean IOU: 0.3506964525192903\n",
      "Mean dist: 0.15257540927460622\n",
      "Mean mse: 0.010558301626532016\n",
      "Accuracy shapes: 0.8275166666666666\n",
      "Accuracy colors: 0.7035749999999998\n",
      "Epoch 10\n",
      "1250/1250 [==============================] - 22s 17ms/step - loss: 0.0804 - val_loss: 0.1439\n",
      "Flipped 9.4125 % of all elements\n",
      "Mean IOU: 0.355991019843611\n",
      "Mean dist: 0.15074359241201832\n",
      "Mean mse: 0.01042046199064724\n",
      "Accuracy shapes: 0.8336583333333332\n",
      "Accuracy colors: 0.70435\n",
      "Epoch 11\n",
      "1250/1250 [==============================] - 22s 18ms/step - loss: 0.0795 - val_loss: 0.1427\n",
      "Flipped 8.5725 % of all elements\n",
      "Mean IOU: 0.34961304266237997\n",
      "Mean dist: 0.1524684383430642\n",
      "Mean mse: 0.010540293807321242\n",
      "Accuracy shapes: 0.8375666666666666\n",
      "Accuracy colors: 0.7087666666666667\n",
      "Epoch 12\n",
      "1250/1250 [==============================] - 23s 18ms/step - loss: 0.0786 - val_loss: 0.1450\n",
      "Flipped 8.595 % of all elements\n",
      "Mean IOU: 0.3539967441366194\n",
      "Mean dist: 0.15187945710720815\n",
      "Mean mse: 0.010513524402951896\n",
      "Accuracy shapes: 0.8395\n",
      "Accuracy colors: 0.7144833333333332\n",
      "Epoch 13\n",
      "1250/1250 [==============================] - 22s 18ms/step - loss: 0.0779 - val_loss: 0.1442\n",
      "Flipped 9.42 % of all elements\n",
      "Mean IOU: 0.3578781276426853\n",
      "Mean dist: 0.15069002261536052\n",
      "Mean mse: 0.010399547561477842\n",
      "Accuracy shapes: 0.83775\n",
      "Accuracy colors: 0.7135833333333333\n",
      "Epoch 14\n",
      "1250/1250 [==============================] - 21s 17ms/step - loss: 0.0780 - val_loss: 0.1431\n",
      "Flipped 8.952499999999999 % of all elements\n",
      "Mean IOU: 0.3500913351850094\n",
      "Mean dist: 0.1517186380507801\n",
      "Mean mse: 0.010464219141701505\n",
      "Accuracy shapes: 0.8407166666666664\n",
      "Accuracy colors: 0.7205583333333332\n",
      "Epoch 15\n",
      "1250/1250 [==============================] - 21s 17ms/step - loss: 0.0774 - val_loss: 0.1456\n",
      "Flipped 9.0275 % of all elements\n",
      "Mean IOU: 0.3525370875812229\n",
      "Mean dist: 0.15010706846304406\n",
      "Mean mse: 0.010334214890563683\n",
      "Accuracy shapes: 0.8445\n",
      "Accuracy colors: 0.7241249999999999\n",
      "Epoch 16\n",
      "1250/1250 [==============================] - 21s 17ms/step - loss: 0.0765 - val_loss: 0.1456\n",
      "Flipped 8.924999999999999 % of all elements\n",
      "Mean IOU: 0.35791611508258536\n",
      "Mean dist: 0.15025925168304938\n",
      "Mean mse: 0.010359763261209166\n",
      "Accuracy shapes: 0.8477916666666666\n",
      "Accuracy colors: 0.7321333333333332\n",
      "Epoch 17\n",
      "1250/1250 [==============================] - 21s 17ms/step - loss: 0.0761 - val_loss: 0.1480\n",
      "Flipped 9.9 % of all elements\n",
      "Mean IOU: 0.3611974857349501\n",
      "Mean dist: 0.14943590120955935\n",
      "Mean mse: 0.010318132408095392\n",
      "Accuracy shapes: 0.8502333333333332\n",
      "Accuracy colors: 0.7314416666666667\n",
      "Epoch 18\n",
      "1250/1250 [==============================] - 22s 17ms/step - loss: 0.0756 - val_loss: 0.1453\n",
      "Flipped 10.8325 % of all elements\n",
      "Mean IOU: 0.35762966126542955\n",
      "Mean dist: 0.14983841575736975\n",
      "Mean mse: 0.010325163411947207\n",
      "Accuracy shapes: 0.8501583333333332\n",
      "Accuracy colors: 0.73575\n",
      "Epoch 19\n",
      "1250/1250 [==============================] - 22s 17ms/step - loss: 0.0753 - val_loss: 0.1455\n",
      "Flipped 9.995 % of all elements\n",
      "Mean IOU: 0.35871626480670743\n",
      "Mean dist: 0.14883294863604285\n",
      "Mean mse: 0.010252302749040924\n",
      "Accuracy shapes: 0.8463333333333332\n",
      "Accuracy colors: 0.7336499999999998\n",
      "Epoch 20\n",
      "1250/1250 [==============================] - 22s 17ms/step - loss: 0.0751 - val_loss: 0.1453\n",
      "Flipped 9.725 % of all elements\n",
      "Mean IOU: 0.3519038527182046\n",
      "Mean dist: 0.15052240067769837\n",
      "Mean mse: 0.010381793836860475\n",
      "Accuracy shapes: 0.8493083333333332\n",
      "Accuracy colors: 0.73455\n",
      "Epoch 21\n",
      "1250/1250 [==============================] - 22s 17ms/step - loss: 0.0749 - val_loss: 0.1465\n",
      "Flipped 9.7725 % of all elements\n",
      "Mean IOU: 0.357925912116918\n",
      "Mean dist: 0.1490885835810481\n",
      "Mean mse: 0.010259586485393633\n",
      "Accuracy shapes: 0.8518333333333334\n",
      "Accuracy colors: 0.7440666666666667\n",
      "Epoch 22\n",
      "1250/1250 [==============================] - 23s 18ms/step - loss: 0.0744 - val_loss: 0.1475\n",
      "Flipped 10.3125 % of all elements\n",
      "Mean IOU: 0.36050115432655183\n",
      "Mean dist: 0.14755086994068178\n",
      "Mean mse: 0.01013435025566661\n",
      "Accuracy shapes: 0.8499333333333332\n",
      "Accuracy colors: 0.7409583333333332\n",
      "Epoch 23\n",
      "1250/1250 [==============================] - 21s 17ms/step - loss: 0.0748 - val_loss: 0.1471\n",
      "Flipped 10.7075 % of all elements\n",
      "Mean IOU: 0.3561564349545665\n",
      "Mean dist: 0.14811556245553292\n",
      "Mean mse: 0.010167505599422168\n",
      "Accuracy shapes: 0.8547666666666666\n",
      "Accuracy colors: 0.7484416666666666\n",
      "Epoch 24\n",
      "1250/1250 [==============================] - 22s 17ms/step - loss: 0.0740 - val_loss: 0.1467\n",
      "Flipped 9.35 % of all elements\n",
      "Mean IOU: 0.35506377085180657\n",
      "Mean dist: 0.14976412193198566\n",
      "Mean mse: 0.010307285473136519\n",
      "Accuracy shapes: 0.8589583333333332\n",
      "Accuracy colors: 0.7511249999999999\n",
      "Epoch 25\n",
      "1250/1250 [==============================] - 22s 17ms/step - loss: 0.0736 - val_loss: 0.1458\n",
      "Flipped 8.9825 % of all elements\n",
      "Mean IOU: 0.3566471920323493\n",
      "Mean dist: 0.1507994712398034\n",
      "Mean mse: 0.010438760120662695\n",
      "Accuracy shapes: 0.8570416666666666\n",
      "Accuracy colors: 0.7550916666666666\n",
      "Epoch 26\n",
      "1250/1250 [==============================] - 23s 18ms/step - loss: 0.0731 - val_loss: 0.1461\n",
      "Flipped 10.3925 % of all elements\n",
      "Mean IOU: 0.3534705556292405\n",
      "Mean dist: 0.15163193629120097\n",
      "Mean mse: 0.010484201331945124\n",
      "Accuracy shapes: 0.85625\n",
      "Accuracy colors: 0.7562166666666664\n",
      "Epoch 27\n",
      "1250/1250 [==============================] - 22s 17ms/step - loss: 0.0735 - val_loss: 0.1462\n",
      "Flipped 9.6975 % of all elements\n",
      "Mean IOU: 0.3598061513853756\n",
      "Mean dist: 0.1489130191365743\n",
      "Mean mse: 0.010272223669904264\n",
      "Accuracy shapes: 0.8607166666666666\n",
      "Accuracy colors: 0.7556\n",
      "Epoch 28\n"
     ]
    },
    {
     "name": "stdout",
     "output_type": "stream",
     "text": [
      "1250/1250 [==============================] - 22s 17ms/step - loss: 0.0724 - val_loss: 0.1486\n",
      "Flipped 9.6325 % of all elements\n",
      "Mean IOU: 0.3557987761177433\n",
      "Mean dist: 0.1492852703492449\n",
      "Mean mse: 0.010281191387927748\n",
      "Accuracy shapes: 0.862425\n",
      "Accuracy colors: 0.7604666666666666\n",
      "Epoch 29\n",
      "1250/1250 [==============================] - 22s 17ms/step - loss: 0.0724 - val_loss: 0.1462\n",
      "Flipped 10.0975 % of all elements\n",
      "Mean IOU: 0.35035936028093495\n",
      "Mean dist: 0.1498496416384353\n",
      "Mean mse: 0.010352304447821896\n",
      "Accuracy shapes: 0.8618833333333332\n",
      "Accuracy colors: 0.7633583333333332\n",
      "Epoch 30\n",
      "1250/1250 [==============================] - 22s 18ms/step - loss: 0.0722 - val_loss: 0.1486\n",
      "Flipped 9.0325 % of all elements\n",
      "Mean IOU: 0.35725506120624567\n",
      "Mean dist: 0.14980146829241736\n",
      "Mean mse: 0.010324438108681161\n",
      "Accuracy shapes: 0.8651583333333333\n",
      "Accuracy colors: 0.7671999999999999\n",
      "Epoch 31\n",
      "1250/1250 [==============================] - 21s 17ms/step - loss: 0.0715 - val_loss: 0.1484\n",
      "Flipped 10.7075 % of all elements\n",
      "Mean IOU: 0.35786149266743467\n",
      "Mean dist: 0.14938190076528773\n",
      "Mean mse: 0.010317711445392794\n",
      "Accuracy shapes: 0.866175\n",
      "Accuracy colors: 0.7701166666666666\n",
      "Epoch 32\n",
      "1250/1250 [==============================] - 21s 17ms/step - loss: 0.0713 - val_loss: 0.1478\n",
      "Flipped 9.657499999999999 % of all elements\n",
      "Mean IOU: 0.35528923179675165\n",
      "Mean dist: 0.14886638397726848\n",
      "Mean mse: 0.010296736782123023\n",
      "Accuracy shapes: 0.8679416666666666\n",
      "Accuracy colors: 0.7745583333333332\n",
      "Epoch 33\n",
      "1250/1250 [==============================] - 21s 17ms/step - loss: 0.0710 - val_loss: 0.1468\n",
      "Flipped 10.1175 % of all elements\n",
      "Mean IOU: 0.3549927152783217\n",
      "Mean dist: 0.15081590846696893\n",
      "Mean mse: 0.010414236104950157\n",
      "Accuracy shapes: 0.8646666666666666\n",
      "Accuracy colors: 0.7682666666666667\n",
      "Epoch 34\n",
      "1250/1250 [==============================] - 21s 17ms/step - loss: 0.0711 - val_loss: 0.1462\n",
      "Flipped 10.13 % of all elements\n",
      "Mean IOU: 0.35664079702818574\n",
      "Mean dist: 0.15015686187240876\n",
      "Mean mse: 0.010335179386161773\n",
      "Accuracy shapes: 0.866075\n",
      "Accuracy colors: 0.7756999999999998\n",
      "Epoch 35\n",
      "1250/1250 [==============================] - 21s 17ms/step - loss: 0.0709 - val_loss: 0.1472\n",
      "Flipped 8.6675 % of all elements\n",
      "Mean IOU: 0.35469056536429344\n",
      "Mean dist: 0.14916199071651906\n",
      "Mean mse: 0.010268925960249937\n",
      "Accuracy shapes: 0.8674166666666666\n",
      "Accuracy colors: 0.7771166666666666\n",
      "Epoch 36\n",
      "1250/1250 [==============================] - 21s 16ms/step - loss: 0.0705 - val_loss: 0.1500\n",
      "Flipped 8.14 % of all elements\n",
      "Mean IOU: 0.3618747553327409\n",
      "Mean dist: 0.14634550863969953\n",
      "Mean mse: 0.010046724093741619\n",
      "Accuracy shapes: 0.870275\n",
      "Accuracy colors: 0.7790833333333332\n",
      "Epoch 37\n",
      "1250/1250 [==============================] - 20s 16ms/step - loss: 0.0696 - val_loss: 0.1472\n",
      "Flipped 8.6425 % of all elements\n",
      "Mean IOU: 0.35856059885659286\n",
      "Mean dist: 0.14912622284939125\n",
      "Mean mse: 0.010273658438262565\n",
      "Accuracy shapes: 0.873225\n",
      "Accuracy colors: 0.7824583333333331\n",
      "Epoch 38\n",
      "1250/1250 [==============================] - 21s 17ms/step - loss: 0.0695 - val_loss: 0.1485\n",
      "Flipped 8.63 % of all elements\n",
      "Mean IOU: 0.358399700918915\n",
      "Mean dist: 0.1493228652960167\n",
      "Mean mse: 0.010272703059850511\n",
      "Accuracy shapes: 0.8716583333333332\n",
      "Accuracy colors: 0.7848666666666665\n",
      "Epoch 39\n",
      "1250/1250 [==============================] - 21s 17ms/step - loss: 0.0695 - val_loss: 0.1477\n",
      "Flipped 10.2475 % of all elements\n",
      "Mean IOU: 0.35917914856797595\n",
      "Mean dist: 0.14884085893265686\n",
      "Mean mse: 0.010265516214600576\n",
      "Accuracy shapes: 0.8683416666666666\n",
      "Accuracy colors: 0.7814\n",
      "Epoch 40\n",
      "1250/1250 [==============================] - 22s 18ms/step - loss: 0.0699 - val_loss: 0.1493\n",
      "Flipped 9.25 % of all elements\n",
      "Mean IOU: 0.36270755090828777\n",
      "Mean dist: 0.14820074919325846\n",
      "Mean mse: 0.010257136254959503\n",
      "Accuracy shapes: 0.8725333333333332\n",
      "Accuracy colors: 0.7874916666666665\n",
      "Epoch 41\n",
      "1250/1250 [==============================] - 22s 17ms/step - loss: 0.0689 - val_loss: 0.1522\n",
      "Flipped 8.4525 % of all elements\n",
      "Mean IOU: 0.3596215266170524\n",
      "Mean dist: 0.14696438496631445\n",
      "Mean mse: 0.010081022115093277\n",
      "Accuracy shapes: 0.874125\n",
      "Accuracy colors: 0.7878583333333332\n",
      "Epoch 42\n",
      "1250/1250 [==============================] - 22s 17ms/step - loss: 0.0687 - val_loss: 0.1486\n",
      "Flipped 8.49 % of all elements\n",
      "Mean IOU: 0.36244117656136005\n",
      "Mean dist: 0.14769076759496103\n",
      "Mean mse: 0.010151570908917228\n",
      "Accuracy shapes: 0.872\n",
      "Accuracy colors: 0.7849416666666666\n",
      "Epoch 43\n",
      "1250/1250 [==============================] - 22s 17ms/step - loss: 0.0686 - val_loss: 0.1503\n",
      "Flipped 8.0725 % of all elements\n",
      "Mean IOU: 0.35604108537187984\n",
      "Mean dist: 0.14816288630324229\n",
      "Mean mse: 0.010209290284484663\n",
      "Accuracy shapes: 0.8751083333333334\n",
      "Accuracy colors: 0.7911583333333333\n",
      "Epoch 44\n",
      "1250/1250 [==============================] - 21s 17ms/step - loss: 0.0681 - val_loss: 0.1488\n",
      "Flipped 8.28 % of all elements\n",
      "Mean IOU: 0.3577595986832595\n",
      "Mean dist: 0.14837129566362706\n",
      "Mean mse: 0.01018088152181665\n",
      "Accuracy shapes: 0.8723833333333332\n",
      "Accuracy colors: 0.792675\n",
      "Epoch 45\n",
      "1250/1250 [==============================] - 22s 18ms/step - loss: 0.0683 - val_loss: 0.1492\n",
      "Flipped 7.9025 % of all elements\n",
      "Mean IOU: 0.34972739497891525\n",
      "Mean dist: 0.15083205421454668\n",
      "Mean mse: 0.010342468485456191\n",
      "Accuracy shapes: 0.871975\n",
      "Accuracy colors: 0.7929583333333332\n",
      "Epoch 46\n",
      "1250/1250 [==============================] - 23s 19ms/step - loss: 0.0683 - val_loss: 0.1506\n",
      "Flipped 9.685 % of all elements\n",
      "Mean IOU: 0.3536117145668691\n",
      "Mean dist: 0.14828832642341871\n",
      "Mean mse: 0.01022451590114841\n",
      "Accuracy shapes: 0.872125\n",
      "Accuracy colors: 0.7926916666666666\n",
      "Epoch 47\n",
      "1250/1250 [==============================] - 23s 18ms/step - loss: 0.0679 - val_loss: 0.1490\n",
      "Flipped 8.0 % of all elements\n",
      "Mean IOU: 0.3549260925317707\n",
      "Mean dist: 0.146631442251261\n",
      "Mean mse: 0.010065981998893915\n",
      "Accuracy shapes: 0.8776916666666666\n",
      "Accuracy colors: 0.80255\n",
      "Epoch 48\n",
      "1250/1250 [==============================] - 22s 18ms/step - loss: 0.0673 - val_loss: 0.1487\n",
      "Flipped 8.08 % of all elements\n",
      "Mean IOU: 0.355854633328918\n",
      "Mean dist: 0.14971507892278674\n",
      "Mean mse: 0.010277591674521636\n",
      "Accuracy shapes: 0.8791916666666664\n",
      "Accuracy colors: 0.7987083333333332\n",
      "Epoch 49\n",
      "1250/1250 [==============================] - 22s 18ms/step - loss: 0.0670 - val_loss: 0.1499\n",
      "Flipped 7.657500000000001 % of all elements\n",
      "Mean IOU: 0.3575491630213805\n",
      "Mean dist: 0.14845273334838585\n",
      "Mean mse: 0.010199974491460472\n",
      "Accuracy shapes: 0.8803083333333332\n",
      "Accuracy colors: 0.8043333333333332\n"
     ]
    }
   ],
   "source": [
    "num_epochs = 50\n",
    "iou_max = 0.\n",
    "fact = math.factorial(num_objects)\n",
    "\n",
    "flipped_train_y = np.array(train_y)\n",
    "flipped = np.zeros((len(train_y), num_epochs))\n",
    "ious_epochs = np.zeros((len(train_y), num_epochs))\n",
    "dists_epochs = np.zeros((len(train_y), num_epochs))\n",
    "mses_epochs = np.zeros((len(train_y), num_epochs))\n",
    "acc_shapes_epoch = np.zeros((len(train_y), num_epochs))\n",
    "acc_colors_epoch = np.zeros((len(train_y), num_epochs))\n",
    "\n",
    "# TODO: Calculate ious directly for all samples (using slices of the array pred_y for x, y, w, h).\n",
    "for epoch in range(num_epochs):\n",
    "    print('Epoch', epoch)\n",
    "    model.fit(train_X, flipped_train_y, epochs = 1, validation_data = (test_X, test_y), verbose = 1)\n",
    "    pred_y = model.predict(train_X)\n",
    "\n",
    "    for i, (pred_bboxes, exp_bboxes) in enumerate(zip(pred_y, flipped_train_y)):\n",
    "        \n",
    "        pred = pred_bboxes.reshape(num_objects, -1)\n",
    "        exp = exp_bboxes.reshape(num_objects, -1)\n",
    "        p_exp = list(permutations(exp))\n",
    "        \n",
    "        # ignore the shape value\n",
    "        pred_bboxes = pred[:, :4]\n",
    "        exp_bboxes = exp[:, :4]\n",
    "        \n",
    "        p_exp_bboxes = list(permutations(exp_bboxes))\n",
    "        ious = np.zeros((fact, num_objects))\n",
    "        dists = np.zeros((fact, num_objects))\n",
    "        mses = np.zeros((fact, num_objects))\n",
    "        p_ious = np.zeros(fact)\n",
    "        p_mses = np.zeros(fact)\n",
    "        p_dists = np.zeros(fact)\n",
    "        \n",
    "        for j, exp_bboxes in enumerate(p_exp_bboxes):\n",
    "            exp_bboxes = list(exp_bboxes) \n",
    "            for k in range(num_objects):\n",
    "                ious[j, k] = IOU(exp_bboxes[k], pred_bboxes[k])\n",
    "                dists[j, k] = distance(exp_bboxes[k], pred_bboxes[k])\n",
    "                mses[j, k] = np.mean(np.square(exp_bboxes[k] - pred_bboxes[k]))\n",
    "            p_ious[j] = sum(ious[j, :])\n",
    "            p_dists[j] = sum(dists[j, :])\n",
    "            p_mses[j] = sum(mses[j, :])\n",
    "            \n",
    "        keymax = p_mses.argmin()\n",
    "        ious_epochs[i, epoch] += p_ious[keymax] / num_objects\n",
    "        dists_epochs[i, epoch] += p_dists[keymax] / num_objects\n",
    "        mses_epochs[i, epoch] += p_mses[keymax] / num_objects\n",
    "        \n",
    "        flipped_train_y[i] = np.array(p_exp[keymax]).flatten()\n",
    "        if keymax != 0:\n",
    "            flipped[i, epoch] = 1.\n",
    "        \n",
    "        if p_ious[keymax] > iou_max:\n",
    "            model.save('Colored_Multiple_Shapes_model.h5')\n",
    "            iou_max = p_ious[keymax]\n",
    "        \n",
    "        acc_shapes_epoch[i, epoch] = np.mean(np.argmax(pred[:, 4:4 + num_shapes], axis = -1) == np.argmax(exp[:, 4:4 + num_shapes], axis = -1))\n",
    "        acc_colors_epoch[i, epoch] = np.mean(np.argmax(pred[:, 4 + num_shapes:4 + num_shapes + num_colors], axis = -1) == np.argmax(exp[:, 4 + num_shapes:4 + num_shapes + num_colors], axis = -1))    \n",
    "            \n",
    "    print('Flipped {} % of all elements'.format(np.mean(flipped[:, epoch]) * 100.))\n",
    "    print('Mean IOU: {}'.format(np.mean(ious_epochs[:, epoch])))\n",
    "    print('Mean dist: {}'.format(np.mean(dists_epochs[:, epoch])))\n",
    "    print('Mean mse: {}'.format(np.mean(mses_epochs[:, epoch])))\n",
    "    print('Accuracy shapes: {}'.format(np.mean(acc_shapes_epoch[:, epoch])))\n",
    "    print('Accuracy colors: {}'.format(np.mean(acc_colors_epoch[:, epoch])))\n",
    "    \n",
    "# training starts from 21:47"
   ]
  },
  {
   "cell_type": "markdown",
   "metadata": {},
   "source": [
    "## Model Layers"
   ]
  },
  {
   "cell_type": "code",
   "execution_count": 38,
   "metadata": {
    "ExecuteTime": {
     "end_time": "2016-07-06T00:26:47.814000",
     "start_time": "2016-07-06T00:26:43.399000"
    }
   },
   "outputs": [
    {
     "name": "stderr",
     "output_type": "stream",
     "text": [
      "WARNING:matplotlib.image:Clipping input data to the valid range for imshow with RGB data ([0..1] for floats or [0..255] for integers).\n",
      "WARNING:matplotlib.image:Clipping input data to the valid range for imshow with RGB data ([0..1] for floats or [0..255] for integers).\n",
      "WARNING:matplotlib.image:Clipping input data to the valid range for imshow with RGB data ([0..1] for floats or [0..255] for integers).\n",
      "WARNING:matplotlib.image:Clipping input data to the valid range for imshow with RGB data ([0..1] for floats or [0..255] for integers).\n",
      "WARNING:matplotlib.image:Clipping input data to the valid range for imshow with RGB data ([0..1] for floats or [0..255] for integers).\n",
      "WARNING:matplotlib.image:Clipping input data to the valid range for imshow with RGB data ([0..1] for floats or [0..255] for integers).\n",
      "WARNING:matplotlib.image:Clipping input data to the valid range for imshow with RGB data ([0..1] for floats or [0..255] for integers).\n",
      "WARNING:matplotlib.image:Clipping input data to the valid range for imshow with RGB data ([0..1] for floats or [0..255] for integers).\n",
      "WARNING:matplotlib.image:Clipping input data to the valid range for imshow with RGB data ([0..1] for floats or [0..255] for integers).\n",
      "WARNING:matplotlib.image:Clipping input data to the valid range for imshow with RGB data ([0..1] for floats or [0..255] for integers).\n",
      "WARNING:matplotlib.image:Clipping input data to the valid range for imshow with RGB data ([0..1] for floats or [0..255] for integers).\n",
      "WARNING:matplotlib.image:Clipping input data to the valid range for imshow with RGB data ([0..1] for floats or [0..255] for integers).\n",
      "WARNING:matplotlib.image:Clipping input data to the valid range for imshow with RGB data ([0..1] for floats or [0..255] for integers).\n",
      "WARNING:matplotlib.image:Clipping input data to the valid range for imshow with RGB data ([0..1] for floats or [0..255] for integers).\n",
      "WARNING:matplotlib.image:Clipping input data to the valid range for imshow with RGB data ([0..1] for floats or [0..255] for integers).\n"
     ]
    },
    {
     "name": "stdout",
     "output_type": "stream",
     "text": [
      "(32, 6, 6, 3)\n",
      "-0.0075885663 0.10781064 -0.3591065 0.30483738\n",
      "126.064926 27.491716 36.42784 205.73352\n"
     ]
    },
    {
     "name": "stderr",
     "output_type": "stream",
     "text": [
      "WARNING:matplotlib.image:Clipping input data to the valid range for imshow with RGB data ([0..1] for floats or [0..255] for integers).\n",
      "WARNING:matplotlib.image:Clipping input data to the valid range for imshow with RGB data ([0..1] for floats or [0..255] for integers).\n",
      "WARNING:matplotlib.image:Clipping input data to the valid range for imshow with RGB data ([0..1] for floats or [0..255] for integers).\n",
      "WARNING:matplotlib.image:Clipping input data to the valid range for imshow with RGB data ([0..1] for floats or [0..255] for integers).\n",
      "WARNING:matplotlib.image:Clipping input data to the valid range for imshow with RGB data ([0..1] for floats or [0..255] for integers).\n",
      "WARNING:matplotlib.image:Clipping input data to the valid range for imshow with RGB data ([0..1] for floats or [0..255] for integers).\n",
      "WARNING:matplotlib.image:Clipping input data to the valid range for imshow with RGB data ([0..1] for floats or [0..255] for integers).\n",
      "WARNING:matplotlib.image:Clipping input data to the valid range for imshow with RGB data ([0..1] for floats or [0..255] for integers).\n",
      "WARNING:matplotlib.image:Clipping input data to the valid range for imshow with RGB data ([0..1] for floats or [0..255] for integers).\n"
     ]
    },
    {
     "data": {
      "image/png": "[encoded data removed]",
      "text/plain": [
       "<Figure size 1152x576 with 24 Axes>"
      ]
     },
     "metadata": {
      "needs_background": "light"
     },
     "output_type": "display_data"
    }
   ],
   "source": [
    "# model.layers\n",
    "weights = model.layers[0].get_weights()[0]\n",
    "weights = weights.transpose(3, 0, 1, 2)\n",
    "print(weights.shape)\n",
    "# plt.imshow(weights[0] * 255. + 128., interpolation='none', origin='lower')\n",
    "print(np.mean(weights[0]), np.std(weights[0]), np.min(weights[0]), np.max(weights[0]))\n",
    "adj_weights = (weights * 255.) + 128.\n",
    "print(np.mean(adj_weights[0]), np.std(adj_weights[0]), np.min(adj_weights[0]), np.max(adj_weights[0]))\n",
    "plt.figure(figsize = (16, 8))\n",
    "for i in range(24):\n",
    "    plt.subplot(4, 6, i + 1)\n",
    "    plt.imshow(adj_weights[i, :, :], interpolation = 'none', origin = 'lower', cmap = 'Greys')"
   ]
  },
  {
   "cell_type": "markdown",
   "metadata": {},
   "source": [
    "## Flipping Track"
   ]
  },
  {
   "cell_type": "code",
   "execution_count": 25,
   "metadata": {
    "ExecuteTime": {
     "end_time": "2016-07-05T23:54:37.858000",
     "start_time": "2016-07-05T23:54:35.466000"
    }
   },
   "outputs": [
    {
     "data": {
      "image/png": "[encoded data removed]",
      "text/plain": [
       "<Figure size 432x288 with 1 Axes>"
      ]
     },
     "metadata": {
      "needs_background": "light"
     },
     "output_type": "display_data"
    }
   ],
   "source": [
    "plt.pcolormesh(flipped[:, :], cmap = 'Greys')\n",
    "plt.xlabel('Epoch')\n",
    "plt.ylabel('Training sample')\n",
    "plt.savefig('colored_multiple_shapes_flips.png', dpi = 100)\n",
    "plt.show()"
   ]
  },
  {
   "cell_type": "markdown",
   "metadata": {},
   "source": [
    "## Metrics Track"
   ]
  },
  {
   "cell_type": "code",
   "execution_count": 27,
   "metadata": {
    "ExecuteTime": {
     "end_time": "2016-07-05T23:54:38.252000",
     "start_time": "2016-07-05T23:54:37.860000"
    }
   },
   "outputs": [
    {
     "data": {
      "image/png": "[encoded data removed]",
      "text/plain": [
       "<Figure size 432x288 with 1 Axes>"
      ]
     },
     "metadata": {
      "needs_background": "light"
     },
     "output_type": "display_data"
    }
   ],
   "source": [
    "mean_ious_epoch = np.mean(ious_epochs, axis = 0)\n",
    "mean_dists_epoch = np.mean(dists_epochs, axis = 0)\n",
    "mean_mses_epoch = np.mean(mses_epochs, axis = 0)\n",
    "plt.plot(mean_ious_epoch, label = 'Mean IOU')  # between predicted and assigned true bboxes\n",
    "plt.plot(mean_dists_epoch, label = 'Mean distance')  # relative to image size\n",
    "plt.plot(mean_mses_epoch, label = 'Mean mse')  # relative to image size\n",
    "plt.annotate(np.round(np.max(mean_ious_epoch), 3), (len(mean_ious_epoch) - 1, mean_ious_epoch[-1] + 0.02), horizontalalignment = 'right', color = 'b')\n",
    "plt.annotate(np.round(np.min(mean_dists_epoch), 3), (len(mean_dists_epoch) - 1, mean_dists_epoch[-1] + 0.02), horizontalalignment = 'right', color = 'g')\n",
    "plt.annotate(np.round(np.min(mean_mses_epoch), 3), (len(mean_mses_epoch) - 1, mean_mses_epoch[-1] + 0.02), horizontalalignment = 'right', color = 'r')\n",
    "\n",
    "plt.xlabel('Epoch')\n",
    "plt.legend(loc = 'upper left')\n",
    "plt.ylim(0, 0.6)\n",
    "ax = plt.gca()\n",
    "ax.axes.yaxis.set_visible(False)\n",
    "plt.savefig('training_metrics.png', dpi = 100)"
   ]
  },
  {
   "cell_type": "code",
   "execution_count": 28,
   "metadata": {
    "ExecuteTime": {
     "end_time": "2016-07-05T23:54:40.181000",
     "start_time": "2016-07-05T23:54:38.255000"
    },
    "scrolled": true
   },
   "outputs": [
    {
     "data": {
      "image/png": "[encoded data removed]",
      "text/plain": [
       "<Figure size 432x288 with 1 Axes>"
      ]
     },
     "metadata": {
      "needs_background": "light"
     },
     "output_type": "display_data"
    }
   ],
   "source": [
    "mean_acc_shapes_epoch = np.mean(acc_shapes_epoch, axis = 0)\n",
    "mean_acc_colors_epoch = np.mean(acc_colors_epoch, axis = 0)\n",
    "plt.plot(mean_acc_shapes_epoch, label = 'Accuracy shapes')  # between predicted and assigned true bboxes\n",
    "plt.plot(mean_acc_colors_epoch, label = 'Accuracy colors')\n",
    "plt.annotate(np.round(np.max(mean_acc_shapes_epoch), 3), (len(mean_acc_shapes_epoch)-1, mean_acc_shapes_epoch[-1] + 0.02), horizontalalignment = 'right', color = 'b')\n",
    "plt.annotate(np.round(np.max(mean_acc_colors_epoch), 3), (len(mean_acc_colors_epoch)-1, mean_acc_colors_epoch[-1] + 0.02), horizontalalignment = 'right', color = 'g')\n",
    "\n",
    "plt.xlabel('Epoch')\n",
    "plt.legend(loc = 'lower right')\n",
    "plt.ylim(0.5, 1)\n",
    "\n",
    "plt.savefig('training_metrics_classification.png', dpi = 100)"
   ]
  },
  {
   "cell_type": "markdown",
   "metadata": {},
   "source": [
    "## Denormalize Data"
   ]
  },
  {
   "cell_type": "code",
   "execution_count": 32,
   "metadata": {
    "ExecuteTime": {
     "end_time": "2016-07-05T23:54:55.731000",
     "start_time": "2016-07-05T23:54:54.739000"
    }
   },
   "outputs": [
    {
     "data": {
      "text/plain": [
       "((10000, 3, 4), (10000, 3), (10000, 3))"
      ]
     },
     "execution_count": 32,
     "metadata": {},
     "output_type": "execute_result"
    }
   ],
   "source": [
    "pred_y = model.predict(test_X)\n",
    "pred_y = pred_y.reshape(len(pred_y), num_objects, -1)\n",
    "pred_bboxes = pred_y[..., :4] * img_size\n",
    "pred_shapes = np.argmax(pred_y[..., 4:4 + num_shapes], axis = -1).astype(int)  # take max from probabilities\n",
    "pred_colors = np.argmax(pred_y[..., 4 + num_shapes:4 + num_shapes + num_colors], axis = -1).astype(int)\n",
    "pred_bboxes.shape, pred_shapes.shape, pred_colors.shape"
   ]
  },
  {
   "cell_type": "markdown",
   "metadata": {},
   "source": [
    "## Visualize Results"
   ]
  },
  {
   "cell_type": "code",
   "execution_count": 36,
   "metadata": {
    "ExecuteTime": {
     "end_time": "2016-07-05T23:54:57.198000",
     "start_time": "2016-07-05T23:54:55.733000"
    }
   },
   "outputs": [
    {
     "data": {
      "image/png": "[encoded data removed]",
      "text/plain": [
       "<Figure size 1152x576 with 8 Axes>"
      ]
     },
     "metadata": {
      "needs_background": "light"
     },
     "output_type": "display_data"
    }
   ],
   "source": [
    "plt.figure(figsize = (16, 8))\n",
    "for i_subplot in range(1, 9):\n",
    "    plt.subplot(2, 4, i_subplot)\n",
    "    i = np.random.randint(len(test_X))\n",
    "    plt.imshow(test_imgs[i], interpolation = 'none', origin = 'lower', extent = [0, img_size, 0, img_size])\n",
    "    for bbox, shape, color in zip(pred_bboxes[i], pred_shapes[i], pred_colors[i]):\n",
    "        plt.gca().add_patch(matplotlib.patches.Rectangle((bbox[0], bbox[1]), bbox[2], bbox[3], lw = 2, ec = 'k', fc = 'none'))\n",
    "        plt.annotate(shape_labels[shape], (bbox[0], bbox[1] + bbox[3] + 0.7), color = color_labels[color], clip_on = False, bbox = {'fc': 'w', 'ec': 'none', 'pad': 1, 'alpha': 0.8})"
   ]
  },
  {
   "cell_type": "code",
   "execution_count": 35,
   "metadata": {
    "ExecuteTime": {
     "end_time": "2016-07-05T18:09:07.838000",
     "start_time": "2016-07-05T18:09:07.831000"
    }
   },
   "outputs": [
    {
     "data": {
      "text/plain": [
       "(10.911018, 0.63509977)"
      ]
     },
     "execution_count": 35,
     "metadata": {},
     "output_type": "execute_result"
    }
   ],
   "source": [
    "np.mean(pred_bboxes[:, :, 2]), np.std(pred_bboxes[:, :, 2])"
   ]
  },
  {
   "cell_type": "markdown",
   "metadata": {},
   "source": [
    "## Overall Assessment"
   ]
  },
  {
   "cell_type": "code",
   "execution_count": 37,
   "metadata": {},
   "outputs": [
    {
     "name": "stdout",
     "output_type": "stream",
     "text": [
      "IoU: 0.36439285416456846\n",
      "Distance: 0.1561918434137123\n",
      "MSE: 0.07687554081672043\n"
     ]
    }
   ],
   "source": [
    "from keras.models import load_model\n",
    "fact = math.factorial(num_objects)\n",
    "model_test = load_model('Colored_Multiple_Shapes_model.h5')\n",
    "pred_y = model_test.predict(test_X)\n",
    "sum_iou = 0.\n",
    "sum_dist = 0.\n",
    "sum_mse = 0.\n",
    "test_y = np.array(test_y)\n",
    "\n",
    "for pred_bboxes, test_bboxes in zip(pred_y, test_y):\n",
    "    \n",
    "    pred_bboxes = pred_bboxes.reshape(num_objects, -1)\n",
    "    test_bboxes = test_bboxes.reshape(num_objects, -1)\n",
    "    \n",
    "    p_test_bboxes = list(permutations(test_bboxes))\n",
    "    p_ious = np.zeros(fact)\n",
    "    p_dists = np.zeros(fact)\n",
    "    p_mses = np.zeros(fact)\n",
    "    ious = np.zeros((fact, num_objects))\n",
    "    dists = np.zeros((fact, num_objects))\n",
    "    mses = np.zeros((fact, num_objects))\n",
    "    \n",
    "    for j, test_bboxes in enumerate(p_test_bboxes):\n",
    "        test_bboxes = list(test_bboxes) \n",
    "        for k in range(num_objects):\n",
    "            ious[j, k] = IOU(test_bboxes[k], pred_bboxes[k])\n",
    "            dists[j, k] = distance(test_bboxes[k], pred_bboxes[k])\n",
    "            mses[j, k] = np.mean(np.square(test_bboxes[k] - pred_bboxes[k]))\n",
    "        p_ious[j] = sum(ious[j, :])\n",
    "        p_dists[j] = sum(dists[j, :])\n",
    "        p_mses[j] = sum(mses[j, :])\n",
    "            \n",
    "    keymax = p_ious.argmax()\n",
    "    sum_iou += p_ious[keymax] \n",
    "    sum_dist += p_dists[keymax] \n",
    "    sum_mse += p_mses[keymax] \n",
    "\n",
    "mean_iou = sum_iou / (num_objects * len(pred_y))\n",
    "mean_dist = sum_dist / (num_objects * len(pred_y))\n",
    "mean_mse = sum_mse / (num_objects * len(pred_y))\n",
    "print('IoU:', mean_iou)\n",
    "print('Distance:', mean_dist)\n",
    "print('MSE:', mean_mse)"
   ]
  },
  {
   "cell_type": "code",
   "execution_count": null,
   "metadata": {},
   "outputs": [],
   "source": []
  }
 ],
 "metadata": {
  "kernelspec": {
   "display_name": "Python (tensorflow-gpu)",
   "language": "python",
   "name": "tf-gpu"
  },
  "language_info": {
   "codemirror_mode": {
    "name": "ipython",
    "version": 3
   },
   "file_extension": ".py",
   "mimetype": "text/x-python",
   "name": "python",
   "nbconvert_exporter": "python",
   "pygments_lexer": "ipython3",
   "version": "3.8.3"
  }
 },
 "nbformat": 4,
 "nbformat_minor": 1
}
