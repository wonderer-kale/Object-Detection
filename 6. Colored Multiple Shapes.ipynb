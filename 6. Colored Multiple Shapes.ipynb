{
 "cells": [
  {
   "cell_type": "markdown",
   "metadata": {},
   "source": [
    "# Colored Multiple Shapes"
   ]
  },
  {
   "cell_type": "markdown",
   "metadata": {},
   "source": [
    "## Import Packages"
   ]
  },
  {
   "cell_type": "code",
   "execution_count": 1,
   "metadata": {
    "ExecuteTime": {
     "end_time": "2016-07-04T17:28:39.034000",
     "start_time": "2016-07-04T17:28:38.325000"
    }
   },
   "outputs": [],
   "source": [
    "import numpy as np\n",
    "import matplotlib.pyplot as plt\n",
    "import matplotlib\n",
    "import math\n",
    "from PIL import Image\n",
    "from skimage import draw\n",
    "from itertools import permutations\n",
    "%matplotlib inline"
   ]
  },
  {
   "cell_type": "markdown",
   "metadata": {},
   "source": [
    "## Data Generation"
   ]
  },
  {
   "cell_type": "code",
   "execution_count": 24,
   "metadata": {
    "ExecuteTime": {
     "end_time": "2016-07-05T22:57:56.251000",
     "start_time": "2016-07-05T22:57:54.426000"
    }
   },
   "outputs": [
    {
     "data": {
      "text/plain": [
       "((60000, 32, 32, 3), (60000, 3, 4), (60000, 3), (60000, 3))"
      ]
     },
     "execution_count": 24,
     "metadata": {},
     "output_type": "execute_result"
    }
   ],
   "source": [
    "num_imgs = 60000\n",
    "\n",
    "img_size = 32\n",
    "min_object_size = 7\n",
    "max_object_size = 16\n",
    "num_objects = 3\n",
    "num_shapes = 3\n",
    "num_colors = 3\n",
    "\n",
    "bboxes = np.zeros((num_imgs, num_objects, 4))\n",
    "imgs = np.zeros((num_imgs, img_size, img_size, 3)) + 1\n",
    "shapes = np.zeros((num_imgs, num_objects), dtype = int)\n",
    "shape_labels = ['rectangle', 'circle', 'triangle']\n",
    "colors = np.zeros((num_imgs, num_objects), dtype = int)\n",
    "color_labels = ['r', 'g', 'b']\n",
    "\n",
    "for i_img in range(num_imgs):\n",
    "    \n",
    "    for i_object in range(num_objects):\n",
    "        shape = np.random.randint(num_shapes)\n",
    "        shapes[i_img, i_object] = shape\n",
    "        color = np.random.randint(num_colors)\n",
    "        colors[i_img, i_object] = color\n",
    "        rgb = np.zeros(3)\n",
    "        \n",
    "        # TODO: Introduce some variation to the colors by adding a small random offset to the rgb values.\n",
    "        max_offset = 0.02\n",
    "        r_offset, g_offset, b_offset = max_offset * (np.random.rand(3) - 0.5)\n",
    "        if color == 0:\n",
    "            rgb = (1. - 0.5 * abs(r_offset), 0 + g_offset, 0 + b_offset)\n",
    "        elif color == 1:\n",
    "            rgb = (0 + r_offset, 1. - 0.5 * abs(g_offset), 0 + b_offset)\n",
    "        else:\n",
    "            rgb = (0 + r_offset, 0 + g_offset, 1. - 0.5 * abs(b_offset))\n",
    "            \n",
    "        if shape == 0: # rectangle\n",
    "            w, h = np.random.randint(min_object_size, max_object_size, size = 2)\n",
    "            x = np.random.randint(0, img_size - w)\n",
    "            y = np.random.randint(0, img_size - h)\n",
    "            imgs[i_img, x:x + w, y:y + h] = rgb\n",
    "            bboxes[i_img, i_object] = [x, y, w, h]\n",
    "            \n",
    "        elif shape == 1: # circle\n",
    "            r = 0.5 * np.random.randint(min_object_size, max_object_size)\n",
    "            x = np.random.randint(r, img_size - r)\n",
    "            y = np.random.randint(r, img_size - r)\n",
    "            bboxes[i_img, i_object] = [x - r, y - r, 2 * r, 2 * r]\n",
    "            r, c = draw.circle(x, y, radius = r)\n",
    "            imgs[i_img, r, c] = rgb\n",
    "            \n",
    "        else: # triangle\n",
    "            size = np.random.randint(min_object_size, max_object_size)\n",
    "            x, y = np.random.randint(0, img_size - size, size = 2)\n",
    "            mask = np.tril_indices(size)\n",
    "            imgs[i_img, x + mask[0], y + mask[1]] = rgb\n",
    "            bboxes[i_img, i_object] = [x, y, size, size]\n",
    "            \n",
    "imgs = imgs * 255\n",
    "imgs = imgs.astype(np.uint8)\n",
    "\n",
    "imgs.shape, bboxes.shape, shapes.shape, colors.shape"
   ]
  },
  {
   "cell_type": "code",
   "execution_count": 25,
   "metadata": {
    "ExecuteTime": {
     "end_time": "2016-07-05T22:57:56.856000",
     "start_time": "2016-07-05T22:57:56.254000"
    },
    "scrolled": true
   },
   "outputs": [
    {
     "data": {
      "image/png": "[encoded data removed]",
      "text/plain": [
       "<Figure size 432x288 with 1 Axes>"
      ]
     },
     "metadata": {
      "needs_background": "light"
     },
     "output_type": "display_data"
    }
   ],
   "source": [
    "i = np.random.randint(num_imgs)\n",
    "plt.imshow(np.transpose(imgs[i], (1, 0, 2)), interpolation = 'none', origin = 'lower', extent = [0, img_size, 0, img_size])\n",
    "for bbox, shape, color in zip(bboxes[i], shapes[i], colors[i]):\n",
    "    plt.gca().add_patch(matplotlib.patches.Rectangle((bbox[0], bbox[1]), bbox[2], bbox[3], lw = 2, ec = 'k', fc = 'none'))\n",
    "    plt.annotate(shape_labels[shape], (bbox[0], bbox[1] + bbox[3] + 0.7), color = color_labels[color], clip_on = False)"
   ]
  },
  {
   "cell_type": "markdown",
   "metadata": {},
   "source": [
    "## Preprocessing"
   ]
  },
  {
   "cell_type": "code",
   "execution_count": 26,
   "metadata": {
    "ExecuteTime": {
     "end_time": "2016-07-05T23:55:30.611000",
     "start_time": "2016-07-05T23:55:26.822000"
    }
   },
   "outputs": [
    {
     "data": {
      "text/plain": [
       "((60000, 32, 32, 3), 0.38598180451303915, 0.31431356841576485)"
      ]
     },
     "execution_count": 26,
     "metadata": {},
     "output_type": "execute_result"
    }
   ],
   "source": [
    "X = (imgs - 128.) / 255.\n",
    "X.shape, np.mean(X), np.std(X)"
   ]
  },
  {
   "cell_type": "code",
   "execution_count": 27,
   "metadata": {
    "ExecuteTime": {
     "end_time": "2016-07-05T23:55:33.242000",
     "start_time": "2016-07-05T23:55:33.179000"
    }
   },
   "outputs": [
    {
     "data": {
      "text/plain": [
       "((60000, 30), True)"
      ]
     },
     "execution_count": 27,
     "metadata": {},
     "output_type": "execute_result"
    }
   ],
   "source": [
    "colors_onehot = np.zeros((num_imgs, num_objects, num_colors))\n",
    "for i_img in range(num_imgs):\n",
    "    for i_object in range(num_objects):\n",
    "        colors_onehot[i_img, i_object, colors[i_img, i_object]] = 1\n",
    "\n",
    "shapes_onehot = np.zeros((num_imgs, num_objects, num_shapes))\n",
    "for i_img in range(num_imgs):\n",
    "    for i_object in range(num_objects):\n",
    "        shapes_onehot[i_img, i_object, shapes[i_img, i_object]] = 1\n",
    "        \n",
    "y = np.concatenate([bboxes / img_size, shapes_onehot, colors_onehot], axis = -1).reshape(num_imgs, -1)\n",
    "y.shape, np.all(np.argmax(colors_onehot, axis = -1) == colors)"
   ]
  },
  {
   "cell_type": "markdown",
   "metadata": {},
   "source": [
    "## Train Test Split"
   ]
  },
  {
   "cell_type": "code",
   "execution_count": 28,
   "metadata": {
    "ExecuteTime": {
     "end_time": "2016-07-05T23:55:33.989000",
     "start_time": "2016-07-05T23:55:33.981000"
    }
   },
   "outputs": [],
   "source": [
    "i = int(0.8 * num_imgs)\n",
    "train_X = X[:i]\n",
    "test_X = X[i:]\n",
    "train_y = y[:i]\n",
    "test_y = y[i:]\n",
    "test_imgs = imgs[i:]\n",
    "test_bboxes = bboxes[i:]"
   ]
  },
  {
   "cell_type": "markdown",
   "metadata": {},
   "source": [
    "## CNN Model"
   ]
  },
  {
   "cell_type": "code",
   "execution_count": 83,
   "metadata": {
    "ExecuteTime": {
     "end_time": "2016-07-06T00:27:51.515000",
     "start_time": "2016-07-06T00:27:50.598000"
    }
   },
   "outputs": [
    {
     "name": "stdout",
     "output_type": "stream",
     "text": [
      "Model: \"sequential_28\"\n",
      "_________________________________________________________________\n",
      "Layer (type)                 Output Shape              Param #   \n",
      "=================================================================\n",
      "conv2d_104 (Conv2D)          (None, 16, 16, 32)        3488      \n",
      "_________________________________________________________________\n",
      "max_pooling2d_78 (MaxPooling (None, 8, 8, 32)          0         \n",
      "_________________________________________________________________\n",
      "conv2d_105 (Conv2D)          (None, 8, 8, 64)          18496     \n",
      "_________________________________________________________________\n",
      "max_pooling2d_79 (MaxPooling (None, 4, 4, 64)          0         \n",
      "_________________________________________________________________\n",
      "conv2d_106 (Conv2D)          (None, 4, 4, 128)         73856     \n",
      "_________________________________________________________________\n",
      "conv2d_107 (Conv2D)          (None, 4, 4, 256)         295168    \n",
      "_________________________________________________________________\n",
      "max_pooling2d_80 (MaxPooling (None, 2, 2, 256)         0         \n",
      "_________________________________________________________________\n",
      "flatten_28 (Flatten)         (None, 1024)              0         \n",
      "_________________________________________________________________\n",
      "dropout_56 (Dropout)         (None, 1024)              0         \n",
      "_________________________________________________________________\n",
      "dense_56 (Dense)             (None, 256)               262400    \n",
      "_________________________________________________________________\n",
      "dropout_57 (Dropout)         (None, 256)               0         \n",
      "_________________________________________________________________\n",
      "dense_57 (Dense)             (None, 30)                7710      \n",
      "=================================================================\n",
      "Total params: 661,118\n",
      "Trainable params: 661,118\n",
      "Non-trainable params: 0\n",
      "_________________________________________________________________\n"
     ]
    }
   ],
   "source": [
    "from keras.models import Sequential\n",
    "from keras.layers import Dense, Activation, Dropout, Convolution2D, MaxPooling2D, Flatten\n",
    "\n",
    "model = Sequential([\n",
    "        Convolution2D(32, kernel_size = (6, 6), \n",
    "                      strides = (2, 2),\n",
    "                      input_shape = (32, 32, 3),\n",
    "                      padding = 'same', activation = 'relu'), \n",
    "        MaxPooling2D(pool_size = (3, 3), strides = (2, 2), padding = 'same'),\n",
    "        Convolution2D(64, kernel_size = (3, 3), \n",
    "                      strides = (1, 1), \n",
    "                      padding = 'same', activation = 'relu'),\n",
    "        MaxPooling2D(pool_size = (3, 3), strides = (2, 2), padding = 'same'),\n",
    "        Convolution2D(128, kernel_size = (3, 3), \n",
    "                      strides = (1, 1), \n",
    "                      padding = 'same', activation = 'relu'),\n",
    "        Convolution2D(256, kernel_size = (3, 3), \n",
    "                      strides = (1, 1), \n",
    "                      padding = 'same', activation = 'relu'),\n",
    "        MaxPooling2D(pool_size = (3, 3), strides = (2, 2), padding = 'same'),\n",
    "        Flatten(),\n",
    "        Dropout(0.4),\n",
    "        Dense(256, activation = 'relu'),\n",
    "        Dropout(0.4),\n",
    "        Dense(y.shape[-1])\n",
    "    ])\n",
    "\n",
    "model.compile('adamax', 'mse')\n",
    "model.summary()\n",
    "# adam, adamax, nadam, adagrad"
   ]
  },
  {
   "cell_type": "markdown",
   "metadata": {},
   "source": [
    "## IoU Calculating Function"
   ]
  },
  {
   "cell_type": "code",
   "execution_count": 84,
   "metadata": {},
   "outputs": [],
   "source": [
    "def IOU(bbox1, bbox2):\n",
    "    '''Calculate overlap between two bounding boxes [x, y, w, h] as the area of intersection over the area of unity'''\n",
    "    x1, y1, w1, h1 = bbox1[0], bbox1[1], bbox1[2], bbox1[3]  # TODO: Check if its more performant if tensor elements are accessed directly below.\n",
    "    x2, y2, w2, h2 = bbox2[0], bbox2[1], bbox2[2], bbox2[3]\n",
    "\n",
    "    w_I = min(x1 + w1, x2 + w2) - max(x1, x2)\n",
    "    h_I = min(y1 + h1, y2 + h2) - max(y1, y2)\n",
    "    if w_I <= 0 or h_I <= 0:  # no overlap\n",
    "        return 0\n",
    "    I = w_I * h_I\n",
    "\n",
    "    U = w1 * h1 + w2 * h2 - I\n",
    "\n",
    "    return I / U"
   ]
  },
  {
   "cell_type": "markdown",
   "metadata": {},
   "source": [
    "## Distance Calculating Function"
   ]
  },
  {
   "cell_type": "code",
   "execution_count": 85,
   "metadata": {},
   "outputs": [],
   "source": [
    "def distance(bbox1, bbox2):\n",
    "    return np.sqrt(np.sum(np.square(bbox1[:2] - bbox2[:2])))"
   ]
  },
  {
   "cell_type": "markdown",
   "metadata": {},
   "source": [
    "## Training"
   ]
  },
  {
   "cell_type": "code",
   "execution_count": 86,
   "metadata": {
    "ExecuteTime": {
     "end_time": "2016-07-06T16:47:14.477000",
     "start_time": "2016-07-06T00:27:51.517000"
    },
    "code_folding": [
     2,
     17
    ],
    "scrolled": false
   },
   "outputs": [
    {
     "name": "stdout",
     "output_type": "stream",
     "text": [
      "Epoch 0\n",
      "1500/1500 [==============================] - 27s 18ms/step - loss: 0.1324 - val_loss: 0.1216\n",
      "Flipped 82.89166666666667 % of all elements\n",
      "Mean IOU: 0.23767211549883796\n",
      "Mean dist: 0.21380167248383056\n",
      "Mean mse: 0.017161366276403564\n",
      "Accuracy shapes: 0.5023263888888888\n",
      "Accuracy colors: 0.5485208333333333\n",
      "Epoch 1\n",
      "1500/1500 [==============================] - 26s 17ms/step - loss: 0.1151 - val_loss: 0.1232\n",
      "Flipped 40.704166666666666 % of all elements\n",
      "Mean IOU: 0.2998268291804082\n",
      "Mean dist: 0.1739524133327579\n",
      "Mean mse: 0.01286493131822188\n",
      "Accuracy shapes: 0.6747152777777776\n",
      "Accuracy colors: 0.6169444444444443\n",
      "Epoch 2\n",
      "1500/1500 [==============================] - 26s 17ms/step - loss: 0.0983 - val_loss: 0.1306\n",
      "Flipped 17.7625 % of all elements\n",
      "Mean IOU: 0.32652500917063887\n",
      "Mean dist: 0.162914246955481\n",
      "Mean mse: 0.011698508866247207\n",
      "Accuracy shapes: 0.7585347222222222\n",
      "Accuracy colors: 0.6536527777777776\n",
      "Epoch 3\n",
      "1500/1500 [==============================] - 25s 17ms/step - loss: 0.0901 - val_loss: 0.1365\n",
      "Flipped 11.15625 % of all elements\n",
      "Mean IOU: 0.3351022632104682\n",
      "Mean dist: 0.15794926133790338\n",
      "Mean mse: 0.011212321324275345\n",
      "Accuracy shapes: 0.7830069444444443\n",
      "Accuracy colors: 0.666611111111111\n",
      "Epoch 4\n",
      "1500/1500 [==============================] - 26s 17ms/step - loss: 0.0860 - val_loss: 0.1380\n",
      "Flipped 10.060416666666667 % of all elements\n",
      "Mean IOU: 0.3435670825315109\n",
      "Mean dist: 0.15456575677758488\n",
      "Mean mse: 0.010900424225243337\n",
      "Accuracy shapes: 0.7982847222222221\n",
      "Accuracy colors: 0.6779166666666666\n",
      "Epoch 5\n",
      "1500/1500 [==============================] - 26s 17ms/step - loss: 0.0830 - val_loss: 0.1407\n",
      "Flipped 8.658333333333333 % of all elements\n",
      "Mean IOU: 0.3556614108464862\n",
      "Mean dist: 0.15021790236600766\n",
      "Mean mse: 0.010487249049557135\n",
      "Accuracy shapes: 0.810986111111111\n",
      "Accuracy colors: 0.6842499999999998\n",
      "Epoch 6\n",
      "1500/1500 [==============================] - 27s 18ms/step - loss: 0.0805 - val_loss: 0.1421\n",
      "Flipped 8.041666666666666 % of all elements\n",
      "Mean IOU: 0.36144220672371913\n",
      "Mean dist: 0.14812050978199082\n",
      "Mean mse: 0.010294574102326419\n",
      "Accuracy shapes: 0.82275\n",
      "Accuracy colors: 0.692659722222222\n",
      "Epoch 7\n",
      "1500/1500 [==============================] - 26s 18ms/step - loss: 0.0784 - val_loss: 0.1450\n",
      "Flipped 10.299999999999999 % of all elements\n",
      "Mean IOU: 0.371148706929067\n",
      "Mean dist: 0.1438193088412033\n",
      "Mean mse: 0.009913251071748614\n",
      "Accuracy shapes: 0.8311666666666667\n",
      "Accuracy colors: 0.704375\n",
      "Epoch 8\n",
      "1500/1500 [==============================] - 26s 17ms/step - loss: 0.0765 - val_loss: 0.1464\n",
      "Flipped 9.20625 % of all elements\n",
      "Mean IOU: 0.3699269890320041\n",
      "Mean dist: 0.1440519411998269\n",
      "Mean mse: 0.009891069674004773\n",
      "Accuracy shapes: 0.838548611111111\n",
      "Accuracy colors: 0.7046319444444443\n",
      "Epoch 9\n",
      "1500/1500 [==============================] - 26s 17ms/step - loss: 0.0746 - val_loss: 0.1487\n",
      "Flipped 8.016666666666666 % of all elements\n",
      "Mean IOU: 0.38164567736023775\n",
      "Mean dist: 0.13910961740424738\n",
      "Mean mse: 0.009556973560867614\n",
      "Accuracy shapes: 0.8467083333333333\n",
      "Accuracy colors: 0.7155138888888889\n",
      "Epoch 10\n",
      "1500/1500 [==============================] - 27s 18ms/step - loss: 0.0728 - val_loss: 0.1472\n",
      "Flipped 6.597916666666667 % of all elements\n",
      "Mean IOU: 0.3849658974006242\n",
      "Mean dist: 0.13783402584424467\n",
      "Mean mse: 0.00941373970932538\n",
      "Accuracy shapes: 0.8523958333333334\n",
      "Accuracy colors: 0.7279305555555555\n",
      "Epoch 11\n",
      "1500/1500 [==============================] - 26s 18ms/step - loss: 0.0715 - val_loss: 0.1522\n",
      "Flipped 6.754166666666666 % of all elements\n",
      "Mean IOU: 0.3927982715089683\n",
      "Mean dist: 0.13462823385971756\n",
      "Mean mse: 0.009177101953044563\n",
      "Accuracy shapes: 0.8545625\n",
      "Accuracy colors: 0.728861111111111\n",
      "Epoch 12\n",
      "1500/1500 [==============================] - 26s 18ms/step - loss: 0.0703 - val_loss: 0.1500\n",
      "Flipped 5.604166666666666 % of all elements\n",
      "Mean IOU: 0.3903879085112225\n",
      "Mean dist: 0.13490077096763398\n",
      "Mean mse: 0.009161846942631014\n",
      "Accuracy shapes: 0.8625208333333333\n",
      "Accuracy colors: 0.7400069444444444\n",
      "Epoch 13\n",
      "1500/1500 [==============================] - 26s 18ms/step - loss: 0.0692 - val_loss: 0.1520\n",
      "Flipped 6.1625 % of all elements\n",
      "Mean IOU: 0.3970503898055735\n",
      "Mean dist: 0.13282308968780582\n",
      "Mean mse: 0.009013285893922213\n",
      "Accuracy shapes: 0.8639166666666667\n",
      "Accuracy colors: 0.7420277777777777\n",
      "Epoch 14\n",
      "1500/1500 [==============================] - 26s 17ms/step - loss: 0.0680 - val_loss: 0.1514\n",
      "Flipped 5.133333333333334 % of all elements\n",
      "Mean IOU: 0.39542754247033607\n",
      "Mean dist: 0.13291963734778903\n",
      "Mean mse: 0.009006130454528676\n",
      "Accuracy shapes: 0.8703888888888889\n",
      "Accuracy colors: 0.7537847222222221\n",
      "Epoch 15\n",
      "1500/1500 [==============================] - 26s 17ms/step - loss: 0.0665 - val_loss: 0.1509\n",
      "Flipped 5.370833333333333 % of all elements\n",
      "Mean IOU: 0.4004360784138992\n",
      "Mean dist: 0.13130570999819485\n",
      "Mean mse: 0.008891735562247354\n",
      "Accuracy shapes: 0.8733958333333334\n",
      "Accuracy colors: 0.7606527777777776\n",
      "Epoch 16\n",
      "1500/1500 [==============================] - 26s 17ms/step - loss: 0.0656 - val_loss: 0.1537\n",
      "Flipped 4.69375 % of all elements\n",
      "Mean IOU: 0.4029023943257931\n",
      "Mean dist: 0.12936675199567546\n",
      "Mean mse: 0.008702424027803074\n",
      "Accuracy shapes: 0.8791041666666665\n",
      "Accuracy colors: 0.7677430555555556\n",
      "Epoch 17\n",
      "1500/1500 [==============================] - 26s 17ms/step - loss: 0.0644 - val_loss: 0.1538\n",
      "Flipped 4.527083333333334 % of all elements\n",
      "Mean IOU: 0.4053900369589187\n",
      "Mean dist: 0.1287723947792887\n",
      "Mean mse: 0.008671331514484655\n",
      "Accuracy shapes: 0.87725\n",
      "Accuracy colors: 0.7770972222222222\n",
      "Epoch 18\n",
      "1500/1500 [==============================] - 26s 17ms/step - loss: 0.0636 - val_loss: 0.1530\n",
      "Flipped 4.402083333333334 % of all elements\n",
      "Mean IOU: 0.4013401058566797\n",
      "Mean dist: 0.13040237710017016\n",
      "Mean mse: 0.008766459237005978\n",
      "Accuracy shapes: 0.8856111111111109\n",
      "Accuracy colors: 0.7792569444444445\n",
      "Epoch 19\n",
      "1500/1500 [==============================] - 26s 17ms/step - loss: 0.0624 - val_loss: 0.1549\n",
      "Flipped 4.272916666666666 % of all elements\n",
      "Mean IOU: 0.40615202257233324\n",
      "Mean dist: 0.12869066145592528\n",
      "Mean mse: 0.008651639881927688\n",
      "Accuracy shapes: 0.8879722222222222\n",
      "Accuracy colors: 0.7910138888888887\n",
      "Epoch 20\n",
      "1500/1500 [==============================] - 26s 17ms/step - loss: 0.0612 - val_loss: 0.1547\n",
      "Flipped 3.847916666666667 % of all elements\n",
      "Mean IOU: 0.4034218415851821\n",
      "Mean dist: 0.1282184758793857\n",
      "Mean mse: 0.00859553240873744\n",
      "Accuracy shapes: 0.8932013888888889\n",
      "Accuracy colors: 0.8039166666666666\n",
      "Epoch 21\n",
      "1500/1500 [==============================] - 26s 17ms/step - loss: 0.0602 - val_loss: 0.1568\n",
      "Flipped 3.6937499999999996 % of all elements\n",
      "Mean IOU: 0.40350289697719677\n",
      "Mean dist: 0.12923415904026553\n",
      "Mean mse: 0.008662968787941896\n",
      "Accuracy shapes: 0.8951666666666667\n",
      "Accuracy colors: 0.805875\n",
      "Epoch 22\n",
      "1500/1500 [==============================] - 26s 17ms/step - loss: 0.0590 - val_loss: 0.1572\n",
      "Flipped 4.114583333333333 % of all elements\n",
      "Mean IOU: 0.4045637156057631\n",
      "Mean dist: 0.12873274949551872\n",
      "Mean mse: 0.008624631833730703\n",
      "Accuracy shapes: 0.8962152777777779\n",
      "Accuracy colors: 0.8152222222222222\n",
      "Epoch 23\n",
      "1500/1500 [==============================] - 27s 18ms/step - loss: 0.0586 - val_loss: 0.1583\n",
      "Flipped 3.5041666666666664 % of all elements\n",
      "Mean IOU: 0.4096554714277261\n",
      "Mean dist: 0.1267842894588357\n",
      "Mean mse: 0.008485215071556224\n",
      "Accuracy shapes: 0.9010208333333334\n",
      "Accuracy colors: 0.8204722222222223\n",
      "Epoch 24\n",
      "1500/1500 [==============================] - 26s 18ms/step - loss: 0.0574 - val_loss: 0.1572\n",
      "Flipped 3.3937500000000003 % of all elements\n",
      "Mean IOU: 0.4087774535063457\n",
      "Mean dist: 0.1267823058644861\n",
      "Mean mse: 0.008474913468083566\n",
      "Accuracy shapes: 0.9062847222222223\n",
      "Accuracy colors: 0.8326736111111112\n",
      "Epoch 25\n",
      "1500/1500 [==============================] - 26s 17ms/step - loss: 0.0565 - val_loss: 0.1581\n",
      "Flipped 3.502083333333333 % of all elements\n",
      "Mean IOU: 0.4064701532288216\n",
      "Mean dist: 0.12794836452142616\n",
      "Mean mse: 0.008558224077731793\n",
      "Accuracy shapes: 0.9086666666666666\n",
      "Accuracy colors: 0.8381597222222223\n",
      "Epoch 26\n",
      "1500/1500 [==============================] - 26s 17ms/step - loss: 0.0556 - val_loss: 0.1602\n",
      "Flipped 3.5000000000000004 % of all elements\n",
      "Mean IOU: 0.40803610149025854\n",
      "Mean dist: 0.12616249923526748\n",
      "Mean mse: 0.008419893136628135\n",
      "Accuracy shapes: 0.9100555555555555\n",
      "Accuracy colors: 0.844423611111111\n",
      "Epoch 27\n"
     ]
    },
    {
     "name": "stdout",
     "output_type": "stream",
     "text": [
      "1500/1500 [==============================] - 25s 17ms/step - loss: 0.0550 - val_loss: 0.1591\n",
      "Flipped 3.241666666666667 % of all elements\n",
      "Mean IOU: 0.4040831740539412\n",
      "Mean dist: 0.12877859514449386\n",
      "Mean mse: 0.008595904324070248\n",
      "Accuracy shapes: 0.9109791666666667\n",
      "Accuracy colors: 0.8497916666666666\n",
      "Epoch 28\n",
      "1500/1500 [==============================] - 25s 17ms/step - loss: 0.0541 - val_loss: 0.1605\n",
      "Flipped 3.4416666666666664 % of all elements\n",
      "Mean IOU: 0.4056683270264526\n",
      "Mean dist: 0.12756738145734828\n",
      "Mean mse: 0.008523260037795903\n",
      "Accuracy shapes: 0.9143055555555555\n",
      "Accuracy colors: 0.8566805555555556\n",
      "Epoch 29\n",
      "1500/1500 [==============================] - 25s 17ms/step - loss: 0.0530 - val_loss: 0.1596\n",
      "Flipped 3.7270833333333337 % of all elements\n",
      "Mean IOU: 0.4052560772094101\n",
      "Mean dist: 0.12788635374447707\n",
      "Mean mse: 0.008543122459849214\n",
      "Accuracy shapes: 0.9150555555555554\n",
      "Accuracy colors: 0.8608819444444443\n",
      "Epoch 30\n",
      "1500/1500 [==============================] - 25s 17ms/step - loss: 0.0528 - val_loss: 0.1596\n",
      "Flipped 3.0520833333333335 % of all elements\n",
      "Mean IOU: 0.4057290794833032\n",
      "Mean dist: 0.1275447469286854\n",
      "Mean mse: 0.008498266638210003\n",
      "Accuracy shapes: 0.9170208333333333\n",
      "Accuracy colors: 0.8661527777777779\n",
      "Epoch 31\n",
      "1500/1500 [==============================] - 25s 17ms/step - loss: 0.0517 - val_loss: 0.1606\n",
      "Flipped 3.6458333333333335 % of all elements\n",
      "Mean IOU: 0.4058328922530593\n",
      "Mean dist: 0.12701313263365524\n",
      "Mean mse: 0.008462667279113526\n",
      "Accuracy shapes: 0.9175208333333333\n",
      "Accuracy colors: 0.8707222222222222\n",
      "Epoch 32\n",
      "1500/1500 [==============================] - 26s 17ms/step - loss: 0.0513 - val_loss: 0.1608\n",
      "Flipped 3.35625 % of all elements\n",
      "Mean IOU: 0.40787795665750876\n",
      "Mean dist: 0.12731771908852663\n",
      "Mean mse: 0.00848709686499127\n",
      "Accuracy shapes: 0.9207152777777777\n",
      "Accuracy colors: 0.8786597222222222\n",
      "Epoch 33\n",
      "1500/1500 [==============================] - 25s 17ms/step - loss: 0.0504 - val_loss: 0.1623\n",
      "Flipped 3.2895833333333333 % of all elements\n",
      "Mean IOU: 0.40726429151668747\n",
      "Mean dist: 0.12706713737567157\n",
      "Mean mse: 0.008462951255833837\n",
      "Accuracy shapes: 0.9240694444444445\n",
      "Accuracy colors: 0.8830624999999999\n",
      "Epoch 34\n",
      "1500/1500 [==============================] - 25s 17ms/step - loss: 0.0498 - val_loss: 0.1623\n",
      "Flipped 3.3520833333333333 % of all elements\n",
      "Mean IOU: 0.40491403072461024\n",
      "Mean dist: 0.12802444262733312\n",
      "Mean mse: 0.008524065651972126\n",
      "Accuracy shapes: 0.9248472222222222\n",
      "Accuracy colors: 0.8894444444444444\n",
      "Epoch 35\n",
      "1500/1500 [==============================] - 25s 17ms/step - loss: 0.0492 - val_loss: 0.1611\n",
      "Flipped 3.61875 % of all elements\n",
      "Mean IOU: 0.4063859592583432\n",
      "Mean dist: 0.12711781225718927\n",
      "Mean mse: 0.008457350774860118\n",
      "Accuracy shapes: 0.9284444444444443\n",
      "Accuracy colors: 0.89\n",
      "Epoch 36\n",
      "1500/1500 [==============================] - 25s 17ms/step - loss: 0.0487 - val_loss: 0.1618\n",
      "Flipped 3.3000000000000003 % of all elements\n",
      "Mean IOU: 0.40408176914685495\n",
      "Mean dist: 0.1283317244900937\n",
      "Mean mse: 0.008544881596284132\n",
      "Accuracy shapes: 0.9292361111111112\n",
      "Accuracy colors: 0.8973055555555554\n",
      "Epoch 37\n",
      "1500/1500 [==============================] - 26s 17ms/step - loss: 0.0481 - val_loss: 0.1625\n",
      "Flipped 3.44375 % of all elements\n",
      "Mean IOU: 0.40661847004350893\n",
      "Mean dist: 0.12770206954820507\n",
      "Mean mse: 0.00850363214900877\n",
      "Accuracy shapes: 0.9303402777777777\n",
      "Accuracy colors: 0.8983333333333332\n",
      "Epoch 38\n",
      "1500/1500 [==============================] - 30s 20ms/step - loss: 0.0472 - val_loss: 0.1633\n",
      "Flipped 3.4854166666666666 % of all elements\n",
      "Mean IOU: 0.4096643837021248\n",
      "Mean dist: 0.126901439835282\n",
      "Mean mse: 0.008461545692435256\n",
      "Accuracy shapes: 0.9306597222222222\n",
      "Accuracy colors: 0.9008402777777776\n",
      "Epoch 39\n",
      "1500/1500 [==============================] - 26s 17ms/step - loss: 0.0472 - val_loss: 0.1634\n",
      "Flipped 3.252083333333333 % of all elements\n",
      "Mean IOU: 0.4093119971797834\n",
      "Mean dist: 0.12620658637184576\n",
      "Mean mse: 0.008396601072871802\n",
      "Accuracy shapes: 0.933625\n",
      "Accuracy colors: 0.9057916666666666\n"
     ]
    }
   ],
   "source": [
    "num_epochs = 40\n",
    "iou_max = 0.\n",
    "fact = math.factorial(num_objects)\n",
    "\n",
    "flipped_train_y = np.array(train_y)\n",
    "flipped = np.zeros((len(train_y), num_epochs))\n",
    "ious_epochs = np.zeros((len(train_y), num_epochs))\n",
    "dists_epochs = np.zeros((len(train_y), num_epochs))\n",
    "mses_epochs = np.zeros((len(train_y), num_epochs))\n",
    "acc_shapes_epoch = np.zeros((len(train_y), num_epochs))\n",
    "acc_colors_epoch = np.zeros((len(train_y), num_epochs))\n",
    "\n",
    "# TODO: Calculate ious directly for all samples (using slices of the array pred_y for x, y, w, h).\n",
    "for epoch in range(num_epochs):\n",
    "    print('Epoch', epoch)\n",
    "    model.fit(train_X, flipped_train_y, epochs = 1, validation_data = (test_X, test_y), verbose = 1)\n",
    "    pred_y = model.predict(train_X)\n",
    "\n",
    "    for i, (pred_bboxes, exp_bboxes) in enumerate(zip(pred_y, flipped_train_y)):\n",
    "        \n",
    "        pred = pred_bboxes.reshape(num_objects, -1)\n",
    "        exp = exp_bboxes.reshape(num_objects, -1)\n",
    "        p_exp = list(permutations(exp))\n",
    "        \n",
    "        # ignore the shape value\n",
    "        pred_bboxes = pred[:, :4]\n",
    "        exp_bboxes = exp[:, :4]\n",
    "        \n",
    "        p_exp_bboxes = list(permutations(exp_bboxes))\n",
    "        ious = np.zeros((fact, num_objects))\n",
    "        dists = np.zeros((fact, num_objects))\n",
    "        mses = np.zeros((fact, num_objects))\n",
    "        p_ious = np.zeros(fact)\n",
    "        p_mses = np.zeros(fact)\n",
    "        p_dists = np.zeros(fact)\n",
    "        \n",
    "        for j, exp_bboxes in enumerate(p_exp_bboxes):\n",
    "            exp_bboxes = list(exp_bboxes) \n",
    "            for k in range(num_objects):\n",
    "                ious[j, k] = IOU(exp_bboxes[k], pred_bboxes[k])\n",
    "                dists[j, k] = distance(exp_bboxes[k], pred_bboxes[k])\n",
    "                mses[j, k] = np.mean(np.square(exp_bboxes[k] - pred_bboxes[k]))\n",
    "            p_ious[j] = sum(ious[j, :])\n",
    "            p_dists[j] = sum(dists[j, :])\n",
    "            p_mses[j] = sum(mses[j, :])\n",
    "            \n",
    "        keymax = p_mses.argmin()\n",
    "        ious_epochs[i, epoch] += p_ious[keymax] / num_objects\n",
    "        dists_epochs[i, epoch] += p_dists[keymax] / num_objects\n",
    "        mses_epochs[i, epoch] += p_mses[keymax] / num_objects\n",
    "        \n",
    "        flipped_train_y[i] = np.array(p_exp[keymax]).flatten()\n",
    "        if keymax != 0:\n",
    "            flipped[i, epoch] = 1.\n",
    "        \n",
    "        if p_ious[keymax] > iou_max:\n",
    "            model.save('Colored_Multiple_Shapes_model.h5')\n",
    "            iou_max = p_ious[keymax]\n",
    "        \n",
    "        acc_shapes_epoch[i, epoch] = np.mean(np.argmax(pred[:, 4:4 + num_shapes], axis = -1) == np.argmax(exp[:, 4:4 + num_shapes], axis = -1))\n",
    "        acc_colors_epoch[i, epoch] = np.mean(np.argmax(pred[:, 4 + num_shapes:4 + num_shapes + num_colors], axis = -1) == np.argmax(exp[:, 4 + num_shapes:4 + num_shapes + num_colors], axis = -1))    \n",
    "            \n",
    "    print('Flipped {} % of all elements'.format(np.mean(flipped[:, epoch]) * 100.))\n",
    "    print('Mean IOU: {}'.format(np.mean(ious_epochs[:, epoch])))\n",
    "    print('Mean dist: {}'.format(np.mean(dists_epochs[:, epoch])))\n",
    "    print('Mean mse: {}'.format(np.mean(mses_epochs[:, epoch])))\n",
    "    print('Accuracy shapes: {}'.format(np.mean(acc_shapes_epoch[:, epoch])))\n",
    "    print('Accuracy colors: {}'.format(np.mean(acc_colors_epoch[:, epoch])))"
   ]
  },
  {
   "cell_type": "markdown",
   "metadata": {},
   "source": [
    "## Model Layers"
   ]
  },
  {
   "cell_type": "code",
   "execution_count": 87,
   "metadata": {
    "ExecuteTime": {
     "end_time": "2016-07-06T00:26:47.814000",
     "start_time": "2016-07-06T00:26:43.399000"
    }
   },
   "outputs": [
    {
     "name": "stdout",
     "output_type": "stream",
     "text": [
      "weights.shape: (32, 6, 6, 3)\n",
      "-0.0024770196 0.082119755 -0.1774897 0.15683015\n",
      "126.8425925925926 20.94400030638892 82 167\n"
     ]
    },
    {
     "data": {
      "image/png": "[encoded data removed]",
      "text/plain": [
       "<Figure size 1152x576 with 24 Axes>"
      ]
     },
     "metadata": {
      "needs_background": "light"
     },
     "output_type": "display_data"
    }
   ],
   "source": [
    "weights = model.layers[0].get_weights()[0]\n",
    "weights = weights.transpose(3, 0, 1, 2)\n",
    "print('weights.shape:', weights.shape)\n",
    "print(np.mean(weights[0]), np.std(weights[0]), np.min(weights[0]), np.max(weights[0]))\n",
    "adj_weights = (weights * 255.) + 128.\n",
    "adj_weights = adj_weights.astype(np.uint8)\n",
    "print(np.mean(adj_weights[0]), np.std(adj_weights[0]), np.min(adj_weights[0]), np.max(adj_weights[0]))\n",
    "plt.figure(figsize = (16, 8))\n",
    "for i in range(24):\n",
    "    plt.subplot(4, 6, i + 1)\n",
    "    plt.imshow(adj_weights[i, :, :], interpolation = 'none', origin = 'lower', cmap = 'Greys')"
   ]
  },
  {
   "cell_type": "markdown",
   "metadata": {},
   "source": [
    "## Flipping Track"
   ]
  },
  {
   "cell_type": "code",
   "execution_count": 88,
   "metadata": {
    "ExecuteTime": {
     "end_time": "2016-07-05T23:54:37.858000",
     "start_time": "2016-07-05T23:54:35.466000"
    }
   },
   "outputs": [
    {
     "data": {
      "image/png": "[encoded data removed]",
      "text/plain": [
       "<Figure size 432x288 with 1 Axes>"
      ]
     },
     "metadata": {
      "needs_background": "light"
     },
     "output_type": "display_data"
    }
   ],
   "source": [
    "plt.pcolormesh(flipped[:, :], cmap = 'Greys')\n",
    "plt.xlabel('Epoch')\n",
    "plt.ylabel('Training sample')\n",
    "plt.savefig('colored_multiple_shapes_flips.png', dpi = 100)\n",
    "plt.show()"
   ]
  },
  {
   "cell_type": "markdown",
   "metadata": {},
   "source": [
    "## Metrics Track"
   ]
  },
  {
   "cell_type": "code",
   "execution_count": 89,
   "metadata": {
    "ExecuteTime": {
     "end_time": "2016-07-05T23:54:38.252000",
     "start_time": "2016-07-05T23:54:37.860000"
    }
   },
   "outputs": [
    {
     "data": {
      "image/png": "[encoded data removed]",
      "text/plain": [
       "<Figure size 432x288 with 1 Axes>"
      ]
     },
     "metadata": {
      "needs_background": "light"
     },
     "output_type": "display_data"
    }
   ],
   "source": [
    "mean_ious_epoch = np.mean(ious_epochs, axis = 0)\n",
    "mean_dists_epoch = np.mean(dists_epochs, axis = 0)\n",
    "mean_mses_epoch = np.mean(mses_epochs, axis = 0)\n",
    "plt.plot(mean_ious_epoch, label = 'Mean IOU')  # between predicted and assigned true bboxes\n",
    "plt.plot(mean_dists_epoch, label = 'Mean distance')  # relative to image size\n",
    "plt.plot(mean_mses_epoch, label = 'Mean mse')  # relative to image size\n",
    "plt.annotate(np.round(np.max(mean_ious_epoch), 3), (len(mean_ious_epoch) - 1, mean_ious_epoch[-1] + 0.02), horizontalalignment = 'right', color = 'b')\n",
    "plt.annotate(np.round(np.min(mean_dists_epoch), 3), (len(mean_dists_epoch) - 1, mean_dists_epoch[-1] + 0.02), horizontalalignment = 'right', color = 'g')\n",
    "plt.annotate(np.round(np.min(mean_mses_epoch), 3), (len(mean_mses_epoch) - 1, mean_mses_epoch[-1] + 0.02), horizontalalignment = 'right', color = 'r')\n",
    "\n",
    "plt.xlabel('Epoch')\n",
    "plt.legend(loc = 'upper left')\n",
    "plt.ylim(0, 0.6)\n",
    "ax = plt.gca()\n",
    "ax.axes.yaxis.set_visible(False)\n",
    "plt.savefig('training_metrics.png', dpi = 100)"
   ]
  },
  {
   "cell_type": "code",
   "execution_count": 90,
   "metadata": {
    "ExecuteTime": {
     "end_time": "2016-07-05T23:54:40.181000",
     "start_time": "2016-07-05T23:54:38.255000"
    },
    "scrolled": true
   },
   "outputs": [
    {
     "data": {
      "image/png": "[encoded data removed]",
      "text/plain": [
       "<Figure size 432x288 with 1 Axes>"
      ]
     },
     "metadata": {
      "needs_background": "light"
     },
     "output_type": "display_data"
    }
   ],
   "source": [
    "mean_acc_shapes_epoch = np.mean(acc_shapes_epoch, axis = 0)\n",
    "mean_acc_colors_epoch = np.mean(acc_colors_epoch, axis = 0)\n",
    "plt.plot(mean_acc_shapes_epoch, label = 'Accuracy shapes')  # between predicted and assigned true bboxes\n",
    "plt.plot(mean_acc_colors_epoch, label = 'Accuracy colors')\n",
    "plt.annotate(np.round(np.max(mean_acc_shapes_epoch), 3), (len(mean_acc_shapes_epoch)-1, mean_acc_shapes_epoch[-1] + 0.02), horizontalalignment = 'right', color = 'b')\n",
    "plt.annotate(np.round(np.max(mean_acc_colors_epoch), 3), (len(mean_acc_colors_epoch)-1, mean_acc_colors_epoch[-1] + 0.02), horizontalalignment = 'right', color = 'g')\n",
    "\n",
    "plt.xlabel('Epoch')\n",
    "plt.legend(loc = 'lower right')\n",
    "plt.ylim(0.5, 1)\n",
    "\n",
    "plt.savefig('training_metrics_classification.png', dpi = 100)"
   ]
  },
  {
   "cell_type": "markdown",
   "metadata": {},
   "source": [
    "## Denormalize Data"
   ]
  },
  {
   "cell_type": "code",
   "execution_count": 91,
   "metadata": {
    "ExecuteTime": {
     "end_time": "2016-07-05T23:54:55.731000",
     "start_time": "2016-07-05T23:54:54.739000"
    }
   },
   "outputs": [
    {
     "data": {
      "text/plain": [
       "((12000, 3, 4), (12000, 3), (12000, 3))"
      ]
     },
     "execution_count": 91,
     "metadata": {},
     "output_type": "execute_result"
    }
   ],
   "source": [
    "pred_y = model.predict(test_X)\n",
    "pred_y = pred_y.reshape(len(pred_y), num_objects, -1)\n",
    "pred_bboxes = pred_y[..., :4] * img_size\n",
    "pred_shapes = np.argmax(pred_y[..., 4:4 + num_shapes], axis = -1).astype(int)  # take max from probabilities\n",
    "pred_colors = np.argmax(pred_y[..., 4 + num_shapes:4 + num_shapes + num_colors], axis = -1).astype(int)\n",
    "pred_bboxes.shape, pred_shapes.shape, pred_colors.shape"
   ]
  },
  {
   "cell_type": "markdown",
   "metadata": {},
   "source": [
    "## Visualize Results"
   ]
  },
  {
   "cell_type": "code",
   "execution_count": 92,
   "metadata": {
    "ExecuteTime": {
     "end_time": "2016-07-05T23:54:57.198000",
     "start_time": "2016-07-05T23:54:55.733000"
    }
   },
   "outputs": [
    {
     "data": {
      "image/png": "[encoded data removed]",
      "text/plain": [
       "<Figure size 1152x576 with 8 Axes>"
      ]
     },
     "metadata": {
      "needs_background": "light"
     },
     "output_type": "display_data"
    }
   ],
   "source": [
    "plt.figure(figsize = (16, 8))\n",
    "for i_subplot in range(1, 9):\n",
    "    plt.subplot(2, 4, i_subplot)\n",
    "    i = np.random.randint(len(test_X))\n",
    "    plt.imshow(test_imgs[i], interpolation = 'none', origin = 'lower', extent = [0, img_size, 0, img_size])\n",
    "    for bbox, shape, color in zip(pred_bboxes[i], pred_shapes[i], pred_colors[i]):\n",
    "        plt.gca().add_patch(matplotlib.patches.Rectangle((bbox[0], bbox[1]), bbox[2], bbox[3], lw = 2, ec = 'k', fc = 'none'))\n",
    "        plt.annotate(shape_labels[shape], (bbox[0], bbox[1] + bbox[3] + 0.7), color = color_labels[color], clip_on = False, bbox = {'fc': 'w', 'ec': 'none', 'pad': 1, 'alpha': 0.8})"
   ]
  },
  {
   "cell_type": "code",
   "execution_count": 93,
   "metadata": {
    "ExecuteTime": {
     "end_time": "2016-07-05T18:09:07.838000",
     "start_time": "2016-07-05T18:09:07.831000"
    }
   },
   "outputs": [
    {
     "data": {
      "text/plain": [
       "(11.093126, 0.6143875)"
      ]
     },
     "execution_count": 93,
     "metadata": {},
     "output_type": "execute_result"
    }
   ],
   "source": [
    "np.mean(pred_bboxes[:, :, 2]), np.std(pred_bboxes[:, :, 2])"
   ]
  },
  {
   "cell_type": "markdown",
   "metadata": {},
   "source": [
    "## Overall Assessment"
   ]
  },
  {
   "cell_type": "code",
   "execution_count": 94,
   "metadata": {},
   "outputs": [
    {
     "name": "stdout",
     "output_type": "stream",
     "text": [
      "IoU: 0.410686606493601\n",
      "Distance: 0.134025860461504\n",
      "MSE: 0.06909859122635836\n"
     ]
    }
   ],
   "source": [
    "from keras.models import load_model\n",
    "fact = math.factorial(num_objects)\n",
    "model_test = load_model('Colored_Multiple_Shapes_model.h5')\n",
    "pred_y = model_test.predict(test_X)\n",
    "sum_iou = 0.\n",
    "sum_dist = 0.\n",
    "sum_mse = 0.\n",
    "test_y = np.array(test_y)\n",
    "\n",
    "for pred_bboxes, test_bboxes in zip(pred_y, test_y):\n",
    "    \n",
    "    pred_bboxes = pred_bboxes.reshape(num_objects, -1)\n",
    "    test_bboxes = test_bboxes.reshape(num_objects, -1)\n",
    "    \n",
    "    p_test_bboxes = list(permutations(test_bboxes))\n",
    "    p_ious = np.zeros(fact)\n",
    "    p_dists = np.zeros(fact)\n",
    "    p_mses = np.zeros(fact)\n",
    "    ious = np.zeros((fact, num_objects))\n",
    "    dists = np.zeros((fact, num_objects))\n",
    "    mses = np.zeros((fact, num_objects))\n",
    "    \n",
    "    for j, test_bboxes in enumerate(p_test_bboxes):\n",
    "        test_bboxes = list(test_bboxes) \n",
    "        for k in range(num_objects):\n",
    "            ious[j, k] = IOU(test_bboxes[k], pred_bboxes[k])\n",
    "            dists[j, k] = distance(test_bboxes[k], pred_bboxes[k])\n",
    "            mses[j, k] = np.mean(np.square(test_bboxes[k] - pred_bboxes[k]))\n",
    "        p_ious[j] = sum(ious[j, :])\n",
    "        p_dists[j] = sum(dists[j, :])\n",
    "        p_mses[j] = sum(mses[j, :])\n",
    "            \n",
    "    keymax = p_ious.argmax()\n",
    "    sum_iou += p_ious[keymax] \n",
    "    sum_dist += p_dists[keymax] \n",
    "    sum_mse += p_mses[keymax] \n",
    "\n",
    "mean_iou = sum_iou / (num_objects * len(pred_y))\n",
    "mean_dist = sum_dist / (num_objects * len(pred_y))\n",
    "mean_mse = sum_mse / (num_objects * len(pred_y))\n",
    "print('IoU:', mean_iou)\n",
    "print('Distance:', mean_dist)\n",
    "print('MSE:', mean_mse)"
   ]
  },
  {
   "cell_type": "code",
   "execution_count": null,
   "metadata": {},
   "outputs": [],
   "source": []
  }
 ],
 "metadata": {
  "kernelspec": {
   "display_name": "Python (tensorflow-gpu)",
   "language": "python",
   "name": "tf-gpu"
  },
  "language_info": {
   "codemirror_mode": {
    "name": "ipython",
    "version": 3
   },
   "file_extension": ".py",
   "mimetype": "text/x-python",
   "name": "python",
   "nbconvert_exporter": "python",
   "pygments_lexer": "ipython3",
   "version": "3.8.3"
  }
 },
 "nbformat": 4,
 "nbformat_minor": 1
}
