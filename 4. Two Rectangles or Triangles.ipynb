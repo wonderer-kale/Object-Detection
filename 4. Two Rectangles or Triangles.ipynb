{
 "cells": [
  {
   "cell_type": "markdown",
   "metadata": {},
   "source": [
    "# Two Rectangles or Triangles"
   ]
  },
  {
   "cell_type": "markdown",
   "metadata": {},
   "source": [
    "## Import Packages"
   ]
  },
  {
   "cell_type": "code",
   "execution_count": 1,
   "metadata": {
    "ExecuteTime": {
     "end_time": "2016-07-06T23:25:52.986000",
     "start_time": "2016-07-06T23:25:52.454000"
    }
   },
   "outputs": [],
   "source": [
    "import numpy as np\n",
    "import matplotlib.pyplot as plt\n",
    "import matplotlib\n",
    "%matplotlib inline"
   ]
  },
  {
   "cell_type": "markdown",
   "metadata": {},
   "source": [
    "## Data Generation"
   ]
  },
  {
   "cell_type": "code",
   "execution_count": 2,
   "metadata": {
    "ExecuteTime": {
     "end_time": "2016-07-06T23:25:58.288000",
     "start_time": "2016-07-06T23:25:54.225000"
    }
   },
   "outputs": [
    {
     "data": {
      "text/plain": [
       "((50000, 16, 16), (50000, 2, 4))"
      ]
     },
     "execution_count": 2,
     "metadata": {},
     "output_type": "execute_result"
    }
   ],
   "source": [
    "num_imgs = 50000\n",
    "\n",
    "img_size = 16\n",
    "min_rect_size = 3\n",
    "max_rect_size = 8\n",
    "num_objects = 2\n",
    "\n",
    "bboxes = np.zeros((num_imgs, num_objects, 4))\n",
    "imgs = np.zeros((num_imgs, img_size, img_size))\n",
    "shapes = np.zeros((num_imgs, num_objects, 1))\n",
    "\n",
    "for i_img in range(num_imgs):\n",
    "    for i_object in range(num_objects):\n",
    "        if np.random.choice([True, False]):\n",
    "            width, height = np.random.randint(min_rect_size, max_rect_size, size = 2)\n",
    "            x = np.random.randint(0, img_size - width)\n",
    "            y = np.random.randint(0, img_size - height)\n",
    "            imgs[i_img, x:x + width, y:y + height] = 1.\n",
    "            bboxes[i_img, i_object] = [x, y, width, height]\n",
    "            shapes[i_img, i_object] = [0]\n",
    "        else:\n",
    "            size = np.random.randint(min_rect_size, max_rect_size)\n",
    "            x, y = np.random.randint(0, img_size - size, size = 2)\n",
    "            mask = np.tril_indices(size)\n",
    "            imgs[i_img, x + mask[0], y + mask[1]] = 1.\n",
    "            bboxes[i_img, i_object] = [x, y, size, size]\n",
    "            shapes[i_img, i_object] = [1]\n",
    "\n",
    "imgs.shape, bboxes.shape"
   ]
  },
  {
   "cell_type": "code",
   "execution_count": 3,
   "metadata": {
    "ExecuteTime": {
     "end_time": "2016-07-06T23:25:58.544000",
     "start_time": "2016-07-06T23:25:58.291000"
    },
    "scrolled": true
   },
   "outputs": [
    {
     "data": {
      "image/png": "[encoded data removed]",
      "text/plain": [
       "<Figure size 432x288 with 1 Axes>"
      ]
     },
     "metadata": {
      "needs_background": "light"
     },
     "output_type": "display_data"
    }
   ],
   "source": [
    "i = 2\n",
    "plt.imshow(imgs[i].T, cmap = 'Greys', interpolation = 'none', origin = 'lower', extent = [0, img_size, 0, img_size])\n",
    "for bbox, shape in zip(bboxes[i], shapes[i]):\n",
    "    plt.gca().add_patch(matplotlib.patches.Rectangle((bbox[0], bbox[1]), bbox[2], bbox[3], lw = 2, ec = 'r' if shape[0] == 0 else 'b', fc = 'none'))\n",
    "plt.savefig('two-rectangles-or-triangles_data.png', dpi = 100)"
   ]
  },
  {
   "cell_type": "markdown",
   "metadata": {},
   "source": [
    "## Preprocessing"
   ]
  },
  {
   "cell_type": "code",
   "execution_count": 4,
   "metadata": {
    "ExecuteTime": {
     "end_time": "2016-07-06T23:25:59.719000",
     "start_time": "2016-07-06T23:25:59.203000"
    }
   },
   "outputs": [
    {
     "data": {
      "text/plain": [
       "((50000, 256), 9.534373290875919e-17, 1.0000000000000002)"
      ]
     },
     "execution_count": 4,
     "metadata": {},
     "output_type": "execute_result"
    }
   ],
   "source": [
    "X = (imgs.reshape(num_imgs, -1) - np.mean(imgs)) / np.std(imgs)\n",
    "X.shape, np.mean(X), np.std(X)"
   ]
  },
  {
   "cell_type": "code",
   "execution_count": 5,
   "metadata": {
    "ExecuteTime": {
     "end_time": "2016-07-06T23:26:00.476000",
     "start_time": "2016-07-06T23:26:00.464000"
    }
   },
   "outputs": [
    {
     "data": {
      "text/plain": [
       "((50000, 10), 0.3496925, 0.2744247662270117)"
      ]
     },
     "execution_count": 5,
     "metadata": {},
     "output_type": "execute_result"
    }
   ],
   "source": [
    "# TODO: We use binary classification here - for multiple classes, convert classes to one-hot vectors.\n",
    "y = np.concatenate([bboxes / img_size, shapes], axis = -1).reshape(-1, 10)\n",
    "y.shape, np.mean(y), np.std(y)"
   ]
  },
  {
   "cell_type": "markdown",
   "metadata": {},
   "source": [
    "y = bboxes.reshape(num_imgs, -1) / img_size \n",
    "y.shape, np.mean(y), np.std(y)"
   ]
  },
  {
   "cell_type": "markdown",
   "metadata": {},
   "source": [
    "## Train Test Split"
   ]
  },
  {
   "cell_type": "code",
   "execution_count": 6,
   "metadata": {
    "ExecuteTime": {
     "end_time": "2016-07-06T23:26:01.233000",
     "start_time": "2016-07-06T23:26:01.226000"
    }
   },
   "outputs": [],
   "source": [
    "i = int(0.8 * num_imgs)\n",
    "train_X = X[:i]\n",
    "test_X = X[i:]\n",
    "train_y = y[:i]\n",
    "test_y = y[i:]\n",
    "test_imgs = imgs[i:]\n",
    "test_bboxes = bboxes[i:]"
   ]
  },
  {
   "cell_type": "markdown",
   "metadata": {},
   "source": [
    "## Model"
   ]
  },
  {
   "cell_type": "code",
   "execution_count": 7,
   "metadata": {
    "ExecuteTime": {
     "end_time": "2016-07-06T23:26:06.005000",
     "start_time": "2016-07-06T23:26:02.162000"
    }
   },
   "outputs": [
    {
     "name": "stdout",
     "output_type": "stream",
     "text": [
      "Model: \"sequential\"\n",
      "_________________________________________________________________\n",
      "Layer (type)                 Output Shape              Param #   \n",
      "=================================================================\n",
      "dense (Dense)                (None, 256)               65792     \n",
      "_________________________________________________________________\n",
      "activation (Activation)      (None, 256)               0         \n",
      "_________________________________________________________________\n",
      "dropout (Dropout)            (None, 256)               0         \n",
      "_________________________________________________________________\n",
      "dense_1 (Dense)              (None, 10)                2570      \n",
      "=================================================================\n",
      "Total params: 68,362\n",
      "Trainable params: 68,362\n",
      "Non-trainable params: 0\n",
      "_________________________________________________________________\n"
     ]
    }
   ],
   "source": [
    "from keras.models import Sequential\n",
    "from keras.layers import Dense, Activation, Dropout\n",
    "from keras.callbacks import ModelCheckpoint\n",
    "from keras.models import load_model\n",
    "model = Sequential([\n",
    "        Dense(256, input_dim = X.shape[-1]), \n",
    "        Activation('relu'), \n",
    "        Dropout(0.5), \n",
    "        Dense(y.shape[-1])\n",
    "        ])\n",
    "model.compile(loss = 'mse', optimizer = 'adam')\n",
    "model.summary()"
   ]
  },
  {
   "cell_type": "markdown",
   "metadata": {},
   "source": [
    "## IoU Calculating Function"
   ]
  },
  {
   "cell_type": "code",
   "execution_count": 8,
   "metadata": {},
   "outputs": [],
   "source": [
    "def IOU(bbox1, bbox2):\n",
    "    '''Calculate overlap between two bounding boxes [x, y, w, h] as the area of intersection over the area of unity'''\n",
    "    x1, y1, w1, h1 = bbox1[0], bbox1[1], bbox1[2], bbox1[3]  # TODO: Check if its more performant if tensor elements are accessed directly below.\n",
    "    x2, y2, w2, h2 = bbox2[0], bbox2[1], bbox2[2], bbox2[3]\n",
    "\n",
    "    w_I = min(x1 + w1, x2 + w2) - max(x1, x2)\n",
    "    h_I = min(y1 + h1, y2 + h2) - max(y1, y2)\n",
    "    if w_I <= 0 or h_I <= 0:  # no overlap\n",
    "        return 0\n",
    "    I = w_I * h_I\n",
    "\n",
    "    U = w1 * h1 + w2 * h2 - I\n",
    "\n",
    "    return I / U"
   ]
  },
  {
   "cell_type": "markdown",
   "metadata": {},
   "source": [
    "## Distance Calculating Function"
   ]
  },
  {
   "cell_type": "code",
   "execution_count": 9,
   "metadata": {},
   "outputs": [],
   "source": [
    "def distance(bbox1, bbox2):\n",
    "    return np.sqrt(np.sum(np.square(bbox1[0:2] - bbox2[0:2])))"
   ]
  },
  {
   "cell_type": "markdown",
   "metadata": {},
   "source": [
    "## Training"
   ]
  },
  {
   "cell_type": "code",
   "execution_count": 10,
   "metadata": {
    "ExecuteTime": {
     "end_time": "2016-07-06T23:32:54.867000",
     "start_time": "2016-07-06T23:26:06.009000"
    },
    "code_folding": [
     2,
     17
    ],
    "scrolled": false
   },
   "outputs": [
    {
     "name": "stdout",
     "output_type": "stream",
     "text": [
      "Epoch 0\n",
      "1250/1250 [==============================] - 2s 1ms/step - loss: 0.1112 - val_loss: 0.0536\n",
      "Switched 19199.0 training samples (47.997499999999995 %)\n",
      "Mean IOU: 0.23298876178173092\n",
      "Mean dist: 0.20226293552543567\n",
      "Mean mse: 0.02577581279052474\n",
      "Epoch 1\n",
      "1250/1250 [==============================] - 2s 2ms/step - loss: 0.0539 - val_loss: 0.0496\n",
      "Switched 12154.0 training samples (30.385 %)\n",
      "Mean IOU: 0.2771213140523608\n",
      "Mean dist: 0.17912775777276851\n",
      "Mean mse: 0.022379378450941435\n",
      "Epoch 2\n",
      "1250/1250 [==============================] - 1s 980us/step - loss: 0.0473 - val_loss: 0.0503\n",
      "Switched 6533.0 training samples (16.3325 %)\n",
      "Mean IOU: 0.34265371241312836\n",
      "Mean dist: 0.14985727452639921\n",
      "Mean mse: 0.018550442836570067\n",
      "Epoch 3\n",
      "1250/1250 [==============================] - 1s 959us/step - loss: 0.0414 - val_loss: 0.0523\n",
      "Switched 3785.0 training samples (9.4625 %)\n",
      "Mean IOU: 0.3908961127811043\n",
      "Mean dist: 0.13045298671400335\n",
      "Mean mse: 0.015441865706486894\n",
      "Epoch 4\n",
      "1250/1250 [==============================] - 1s 933us/step - loss: 0.0377 - val_loss: 0.0545\n",
      "Switched 3043.0 training samples (7.6075 %)\n",
      "Mean IOU: 0.41671743737046746\n",
      "Mean dist: 0.11868833646937677\n",
      "Mean mse: 0.01386351032074842\n",
      "Epoch 5\n",
      "1250/1250 [==============================] - 1s 938us/step - loss: 0.0353 - val_loss: 0.0553\n",
      "Switched 2688.0 training samples (6.72 %)\n",
      "Mean IOU: 0.437563133909058\n",
      "Mean dist: 0.11173893916220745\n",
      "Mean mse: 0.012942620327345269\n",
      "Epoch 6\n",
      "1250/1250 [==============================] - 1s 945us/step - loss: 0.0342 - val_loss: 0.0551\n",
      "Switched 2153.0 training samples (5.382499999999999 %)\n",
      "Mean IOU: 0.4491697425143066\n",
      "Mean dist: 0.10645477941339873\n",
      "Mean mse: 0.012141715252611774\n",
      "Epoch 7\n",
      "1250/1250 [==============================] - 1s 935us/step - loss: 0.0327 - val_loss: 0.0547\n",
      "Switched 2104.0 training samples (5.26 %)\n",
      "Mean IOU: 0.44684779743094366\n",
      "Mean dist: 0.10845200349002178\n",
      "Mean mse: 0.012058500311358756\n",
      "Epoch 8\n",
      "1250/1250 [==============================] - 1s 929us/step - loss: 0.0319 - val_loss: 0.0547\n",
      "Switched 1951.0 training samples (4.8774999999999995 %)\n",
      "Mean IOU: 0.46101748356865\n",
      "Mean dist: 0.1029352079433963\n",
      "Mean mse: 0.011393292619628943\n",
      "Epoch 9\n",
      "1250/1250 [==============================] - 1s 928us/step - loss: 0.0312 - val_loss: 0.0551\n",
      "Switched 1742.0 training samples (4.3549999999999995 %)\n",
      "Mean IOU: 0.4542478876079337\n",
      "Mean dist: 0.10400296766167055\n",
      "Mean mse: 0.011152700351373258\n",
      "Epoch 10\n",
      "1250/1250 [==============================] - 1s 959us/step - loss: 0.0304 - val_loss: 0.0564\n",
      "Switched 1754.0 training samples (4.385 %)\n",
      "Mean IOU: 0.4656869020905469\n",
      "Mean dist: 0.10112796140382511\n",
      "Mean mse: 0.010727499101153032\n",
      "Epoch 11\n",
      "1250/1250 [==============================] - 1s 925us/step - loss: 0.0301 - val_loss: 0.0562\n",
      "Switched 1680.0 training samples (4.2 %)\n",
      "Mean IOU: 0.46200010844110473\n",
      "Mean dist: 0.10180820386843002\n",
      "Mean mse: 0.010737835023531303\n",
      "Epoch 12\n",
      "1250/1250 [==============================] - 1s 1ms/step - loss: 0.0295 - val_loss: 0.0553\n",
      "Switched 1805.0 training samples (4.5125 %)\n",
      "Mean IOU: 0.4619508869441139\n",
      "Mean dist: 0.10158128942213145\n",
      "Mean mse: 0.010363177742633267\n",
      "Epoch 13\n",
      "1250/1250 [==============================] - 1s 939us/step - loss: 0.0293 - val_loss: 0.0561\n",
      "Switched 1799.0 training samples (4.4975000000000005 %)\n",
      "Mean IOU: 0.4627031521459584\n",
      "Mean dist: 0.10352048702162805\n",
      "Mean mse: 0.01029129851516479\n",
      "Epoch 14\n",
      "1250/1250 [==============================] - 1s 995us/step - loss: 0.0290 - val_loss: 0.0558\n",
      "Switched 1597.0 training samples (3.9925 %)\n",
      "Mean IOU: 0.46746008495278957\n",
      "Mean dist: 0.1000834629041842\n",
      "Mean mse: 0.010082075534889224\n",
      "Epoch 15\n",
      "1250/1250 [==============================] - 1s 941us/step - loss: 0.0287 - val_loss: 0.0561\n",
      "Switched 1610.0 training samples (4.025 %)\n",
      "Mean IOU: 0.46534980039286283\n",
      "Mean dist: 0.09999603762956669\n",
      "Mean mse: 0.010063698874586757\n",
      "Epoch 16\n",
      "1250/1250 [==============================] - 1s 927us/step - loss: 0.0285 - val_loss: 0.0559\n",
      "Switched 1652.0 training samples (4.130000000000001 %)\n",
      "Mean IOU: 0.4502824449963983\n",
      "Mean dist: 0.10728036551984588\n",
      "Mean mse: 0.010045137950722986\n",
      "Epoch 17\n",
      "1250/1250 [==============================] - 1s 916us/step - loss: 0.0281 - val_loss: 0.0566\n",
      "Switched 1850.0 training samples (4.625 %)\n",
      "Mean IOU: 0.4569474439259229\n",
      "Mean dist: 0.10260796167381978\n",
      "Mean mse: 0.009839556681748482\n",
      "Epoch 18\n",
      "1250/1250 [==============================] - 1s 930us/step - loss: 0.0281 - val_loss: 0.0560\n",
      "Switched 1614.0 training samples (4.035 %)\n",
      "Mean IOU: 0.4725813204434391\n",
      "Mean dist: 0.09824180337288035\n",
      "Mean mse: 0.009528443398470645\n",
      "Epoch 19\n",
      "1250/1250 [==============================] - 1s 941us/step - loss: 0.0277 - val_loss: 0.0551\n",
      "Switched 1551.0 training samples (3.8774999999999995 %)\n",
      "Mean IOU: 0.46318403352665083\n",
      "Mean dist: 0.10066850231154137\n",
      "Mean mse: 0.009459078408661167\n",
      "Epoch 20\n",
      "1250/1250 [==============================] - 1s 964us/step - loss: 0.0275 - val_loss: 0.0562\n",
      "Switched 1754.0 training samples (4.385 %)\n",
      "Mean IOU: 0.4641483444171264\n",
      "Mean dist: 0.0991444398349792\n",
      "Mean mse: 0.00932596738603863\n",
      "Epoch 21\n",
      "1250/1250 [==============================] - 1s 970us/step - loss: 0.0274 - val_loss: 0.0570\n",
      "Switched 1674.0 training samples (4.185 %)\n",
      "Mean IOU: 0.46474226067984264\n",
      "Mean dist: 0.09947389523544214\n",
      "Mean mse: 0.009251968662947044\n",
      "Epoch 22\n",
      "1250/1250 [==============================] - 1s 956us/step - loss: 0.0274 - val_loss: 0.0566\n",
      "Switched 1403.0 training samples (3.5075000000000003 %)\n",
      "Mean IOU: 0.4684631418679147\n",
      "Mean dist: 0.0988278042656817\n",
      "Mean mse: 0.009291024618454618\n",
      "Epoch 23\n",
      "1250/1250 [==============================] - 1s 960us/step - loss: 0.0272 - val_loss: 0.0566\n",
      "Switched 1469.0 training samples (3.6725 %)\n",
      "Mean IOU: 0.46345192906174415\n",
      "Mean dist: 0.09949382159422328\n",
      "Mean mse: 0.00927075562734644\n",
      "Epoch 24\n",
      "1250/1250 [==============================] - 1s 986us/step - loss: 0.0270 - val_loss: 0.0559\n",
      "Switched 1554.0 training samples (3.8850000000000002 %)\n",
      "Mean IOU: 0.47227091675542743\n",
      "Mean dist: 0.09814687459172347\n",
      "Mean mse: 0.009144741711262942\n",
      "Epoch 25\n",
      "1250/1250 [==============================] - 1s 1ms/step - loss: 0.0270 - val_loss: 0.0569\n",
      "Switched 1654.0 training samples (4.135 %)\n",
      "Mean IOU: 0.4709599535599471\n",
      "Mean dist: 0.09654827370038246\n",
      "Mean mse: 0.009000356550251928\n",
      "Epoch 26\n",
      "1250/1250 [==============================] - 1s 942us/step - loss: 0.0268 - val_loss: 0.0561\n",
      "Switched 1523.0 training samples (3.8074999999999997 %)\n",
      "Mean IOU: 0.4628630051628222\n",
      "Mean dist: 0.09869133501292349\n",
      "Mean mse: 0.00928969489830326\n",
      "Epoch 27\n",
      "1250/1250 [==============================] - 1s 986us/step - loss: 0.0267 - val_loss: 0.0571\n",
      "Switched 1485.0 training samples (3.7125 %)\n",
      "Mean IOU: 0.46852705023250457\n",
      "Mean dist: 0.09664112763032387\n",
      "Mean mse: 0.00900725570282803\n",
      "Epoch 28\n",
      "1250/1250 [==============================] - 1s 988us/step - loss: 0.0268 - val_loss: 0.0557\n",
      "Switched 1572.0 training samples (3.93 %)\n",
      "Mean IOU: 0.4811278791472285\n",
      "Mean dist: 0.09728854691506408\n",
      "Mean mse: 0.009001597029722672\n",
      "Epoch 29\n",
      "1250/1250 [==============================] - 1s 949us/step - loss: 0.0265 - val_loss: 0.0569\n",
      "Switched 1449.0 training samples (3.6225 %)\n",
      "Mean IOU: 0.48508545993509194\n",
      "Mean dist: 0.09388601783775449\n",
      "Mean mse: 0.008647987888003202\n",
      "Epoch 30\n",
      "1250/1250 [==============================] - 1s 974us/step - loss: 0.0265 - val_loss: 0.0579\n",
      "Switched 1762.0 training samples (4.405 %)\n",
      "Mean IOU: 0.4720126807286214\n",
      "Mean dist: 0.09600781602333616\n",
      "Mean mse: 0.008809977420477195\n",
      "Epoch 31\n",
      "1250/1250 [==============================] - 1s 941us/step - loss: 0.0263 - val_loss: 0.0566\n",
      "Switched 1695.0 training samples (4.237500000000001 %)\n",
      "Mean IOU: 0.46754029306499506\n",
      "Mean dist: 0.09896684189100981\n",
      "Mean mse: 0.008863580177032137\n",
      "Epoch 32\n",
      "1250/1250 [==============================] - 1s 951us/step - loss: 0.0266 - val_loss: 0.0567\n",
      "Switched 1748.0 training samples (4.37 %)\n",
      "Mean IOU: 0.45771035249623454\n",
      "Mean dist: 0.10247195521264447\n",
      "Mean mse: 0.009016387683578394\n",
      "Epoch 33\n",
      "1250/1250 [==============================] - 1s 1ms/step - loss: 0.0263 - val_loss: 0.0564\n",
      "Switched 1750.0 training samples (4.375 %)\n",
      "Mean IOU: 0.46316464948603786\n",
      "Mean dist: 0.09985209827647239\n",
      "Mean mse: 0.008992339692681303\n",
      "Epoch 34\n"
     ]
    },
    {
     "name": "stdout",
     "output_type": "stream",
     "text": [
      "1250/1250 [==============================] - 1s 927us/step - loss: 0.0263 - val_loss: 0.0575\n",
      "Switched 1635.0 training samples (4.0875 %)\n",
      "Mean IOU: 0.4800613694937931\n",
      "Mean dist: 0.09410612169257418\n",
      "Mean mse: 0.008585494995237685\n",
      "Epoch 35\n",
      "1250/1250 [==============================] - 1s 1ms/step - loss: 0.0262 - val_loss: 0.0570\n",
      "Switched 1607.0 training samples (4.0175 %)\n",
      "Mean IOU: 0.48325428777600826\n",
      "Mean dist: 0.09378895990994013\n",
      "Mean mse: 0.008567670601282057\n",
      "Epoch 36\n",
      "1250/1250 [==============================] - 1s 922us/step - loss: 0.0262 - val_loss: 0.0559\n",
      "Switched 1583.0 training samples (3.9575 %)\n",
      "Mean IOU: 0.4724490755440337\n",
      "Mean dist: 0.09813998123135459\n",
      "Mean mse: 0.008749670808153205\n",
      "Epoch 37\n",
      "1250/1250 [==============================] - 1s 1ms/step - loss: 0.0262 - val_loss: 0.0574\n",
      "Switched 1329.0 training samples (3.3225 %)\n",
      "Mean IOU: 0.4842277568891671\n",
      "Mean dist: 0.09485261535512177\n",
      "Mean mse: 0.008466508840817965\n",
      "Epoch 38\n",
      "1250/1250 [==============================] - 1s 942us/step - loss: 0.0260 - val_loss: 0.0576\n",
      "Switched 1565.0 training samples (3.9125 %)\n",
      "Mean IOU: 0.4753936406702186\n",
      "Mean dist: 0.09476776510008192\n",
      "Mean mse: 0.008512287410988745\n",
      "Epoch 39\n",
      "1250/1250 [==============================] - 1s 967us/step - loss: 0.0259 - val_loss: 0.0572\n",
      "Switched 1502.0 training samples (3.755 %)\n",
      "Mean IOU: 0.4697395986345662\n",
      "Mean dist: 0.09711041793512723\n",
      "Mean mse: 0.00846404448047464\n",
      "Epoch 40\n",
      "1250/1250 [==============================] - 2s 2ms/step - loss: 0.0259 - val_loss: 0.0566\n",
      "Switched 1446.0 training samples (3.615 %)\n",
      "Mean IOU: 0.4739355214400866\n",
      "Mean dist: 0.09627837269226312\n",
      "Mean mse: 0.0087867227770875\n",
      "Epoch 41\n",
      "1250/1250 [==============================] - 2s 2ms/step - loss: 0.0259 - val_loss: 0.0569\n",
      "Switched 1439.0 training samples (3.5975 %)\n",
      "Mean IOU: 0.47237022526631417\n",
      "Mean dist: 0.09736713256594524\n",
      "Mean mse: 0.008705214857428086\n",
      "Epoch 42\n",
      "1250/1250 [==============================] - 1s 992us/step - loss: 0.0260 - val_loss: 0.0569\n",
      "Switched 1591.0 training samples (3.9774999999999996 %)\n",
      "Mean IOU: 0.46861396815049766\n",
      "Mean dist: 0.09934097716256687\n",
      "Mean mse: 0.008765522613488065\n",
      "Epoch 43\n",
      "1250/1250 [==============================] - 1s 1ms/step - loss: 0.0257 - val_loss: 0.0581\n",
      "Switched 1483.0 training samples (3.7074999999999996 %)\n",
      "Mean IOU: 0.46833924590123377\n",
      "Mean dist: 0.09737836901906279\n",
      "Mean mse: 0.008776806214847109\n",
      "Epoch 44\n",
      "1250/1250 [==============================] - 1s 965us/step - loss: 0.0257 - val_loss: 0.0566\n",
      "Switched 1627.0 training samples (4.0675 %)\n",
      "Mean IOU: 0.46496840481915536\n",
      "Mean dist: 0.09884238641053521\n",
      "Mean mse: 0.008693475451108308\n",
      "Epoch 45\n",
      "1250/1250 [==============================] - 1s 1ms/step - loss: 0.0257 - val_loss: 0.0577\n",
      "Switched 1431.0 training samples (3.5775 %)\n",
      "Mean IOU: 0.4759822702784705\n",
      "Mean dist: 0.09683445679907161\n",
      "Mean mse: 0.008363683633928832\n",
      "Epoch 46\n",
      "1250/1250 [==============================] - 1s 932us/step - loss: 0.0257 - val_loss: 0.0564\n",
      "Switched 1553.0 training samples (3.8825 %)\n",
      "Mean IOU: 0.46721639378599905\n",
      "Mean dist: 0.10101237556845472\n",
      "Mean mse: 0.008740187824182141\n",
      "Epoch 47\n",
      "1250/1250 [==============================] - 1s 975us/step - loss: 0.0256 - val_loss: 0.0568\n",
      "Switched 1773.0 training samples (4.4325 %)\n",
      "Mean IOU: 0.4784391635155621\n",
      "Mean dist: 0.09582387054726867\n",
      "Mean mse: 0.00834499273437186\n",
      "Epoch 48\n",
      "1250/1250 [==============================] - 1s 942us/step - loss: 0.0257 - val_loss: 0.0572\n",
      "Switched 1609.0 training samples (4.0225 %)\n",
      "Mean IOU: 0.4764946116997874\n",
      "Mean dist: 0.0964062516151207\n",
      "Mean mse: 0.0085275707632173\n",
      "Epoch 49\n",
      "1250/1250 [==============================] - 1s 943us/step - loss: 0.0254 - val_loss: 0.0561\n",
      "Switched 1640.0 training samples (4.1000000000000005 %)\n",
      "Mean IOU: 0.47618503858412076\n",
      "Mean dist: 0.0955169161816114\n",
      "Mean mse: 0.008277658874546272\n"
     ]
    }
   ],
   "source": [
    "# Switch bboxes during training.\n",
    "num_epochs = 50\n",
    "switched_train_y = np.array(train_y)\n",
    "switched = np.zeros((len(switched_train_y), num_epochs))\n",
    "ious = np.zeros((len(switched_train_y), num_epochs))\n",
    "dists = np.zeros((len(switched_train_y), num_epochs))\n",
    "mses = np.zeros((len(switched_train_y), num_epochs))\n",
    "\n",
    "for epoch in range(num_epochs):\n",
    "    print('Epoch', epoch)\n",
    "    model.fit(train_X, switched_train_y, epochs = 1, validation_data = (test_X, test_y), verbose = 1, \n",
    "              callbacks = [ModelCheckpoint('Two_Rectangles_or_Triangles_model.h5', \n",
    "                                           monitor = 'val_loss',\n",
    "                                           save_best_only = True)])\n",
    "    pred_y = model.predict(train_X)\n",
    "\n",
    "    for i, (pred_bboxes, exp_bboxes) in enumerate(zip(pred_y, switched_train_y)):\n",
    "        \n",
    "        switched_exp_bboxes = np.concatenate([exp_bboxes[5:], exp_bboxes[:5]])\n",
    "        \n",
    "        mse = np.mean(np.square(pred_bboxes - exp_bboxes))\n",
    "        mse_switched = np.mean(np.square(pred_bboxes - switched_exp_bboxes))\n",
    "        \n",
    "        iou = IOU(pred_bboxes[0:4], exp_bboxes[0:4]) + IOU(pred_bboxes[5:9], exp_bboxes[5:9])\n",
    "        iou_switched = IOU(pred_bboxes[0:4], switched_exp_bboxes[0:4]) + IOU(pred_bboxes[5:9], switched_exp_bboxes[5:9])\n",
    "        \n",
    "        dist = distance(pred_bboxes[:2], exp_bboxes[:2]) + distance(pred_bboxes[5:9], exp_bboxes[5:9])\n",
    "        dist_switched = distance(pred_bboxes[:2], switched_exp_bboxes[:2]) + distance(pred_bboxes[5:9], switched_exp_bboxes[5:9])\n",
    "        \n",
    "        if iou_switched > iou:  \n",
    "            switched_train_y[i] = switched_exp_bboxes\n",
    "            switched[i, epoch] = 1\n",
    "            ious[i, epoch] = iou_switched / 2.\n",
    "            dists[i, epoch] = dist_switched / 2.\n",
    "            mses[i, epoch] = mse_switched / 2.\n",
    "        else:\n",
    "            ious[i, epoch] = iou / 2.\n",
    "            dists[i, epoch] = dist / 2.\n",
    "            mses[i, epoch] = mse / 2.\n",
    "            \n",
    "    print('Switched {} training samples ({} %)'.format(np.sum(switched[:, epoch]), np.mean(switched[:, epoch]) * 100.))\n",
    "    print('Mean IOU: {}'.format(np.mean(ious[:, epoch])))\n",
    "    print('Mean dist: {}'.format(np.mean(dists[:, epoch])))\n",
    "    print('Mean mse: {}'.format(np.mean(mses[:, epoch])))"
   ]
  },
  {
   "cell_type": "markdown",
   "metadata": {},
   "source": [
    "## Switching Track"
   ]
  },
  {
   "cell_type": "code",
   "execution_count": 11,
   "metadata": {
    "ExecuteTime": {
     "end_time": "2016-07-06T23:55:00.367000",
     "start_time": "2016-07-06T23:54:57.699000"
    },
    "scrolled": true
   },
   "outputs": [
    {
     "data": {
      "image/png": "[encoded data removed]",
      "text/plain": [
       "<Figure size 432x288 with 1 Axes>"
      ]
     },
     "metadata": {
      "needs_background": "light"
     },
     "output_type": "display_data"
    }
   ],
   "source": [
    "plt.pcolor(switched[:, :], cmap = 'Greys')\n",
    "plt.xlabel('Epoch')\n",
    "plt.ylabel('Training sample')\n",
    "plt.savefig('two-rectangles-or-triangles_switches.png', dpi = 100)"
   ]
  },
  {
   "cell_type": "markdown",
   "metadata": {},
   "source": [
    "## Metrics Track"
   ]
  },
  {
   "cell_type": "code",
   "execution_count": 12,
   "metadata": {
    "ExecuteTime": {
     "end_time": "2016-07-06T23:55:01.541000",
     "start_time": "2016-07-06T23:55:01.245000"
    }
   },
   "outputs": [
    {
     "data": {
      "image/png": "[encoded data removed]",
      "text/plain": [
       "<Figure size 432x288 with 1 Axes>"
      ]
     },
     "metadata": {
      "needs_background": "light"
     },
     "output_type": "display_data"
    }
   ],
   "source": [
    "mean_ious_epoch = np.mean(ious, axis = 0)\n",
    "mean_dists_epoch = np.mean(dists, axis = 0)\n",
    "mean_mses_epoch = np.mean(mses, axis = 0)\n",
    "plt.plot(np.mean(ious, axis = 0), label = 'Mean IOU')  # between predicted and assigned true bboxes\n",
    "plt.plot(np.mean(dists, axis = 0), label = 'Mean distance')  # relative to image size\n",
    "plt.plot(np.mean(mses, axis = 0), label = 'Mean mse')\n",
    "plt.annotate(np.round(np.max(mean_ious_epoch), 3), (len(mean_ious_epoch) - 1, mean_ious_epoch[-1] + 0.02), horizontalalignment = 'right', color = 'b')\n",
    "plt.annotate(np.round(np.min(mean_dists_epoch), 3), (len(mean_dists_epoch) - 1, mean_dists_epoch[-1] + 0.02), horizontalalignment = 'right', color = 'g')\n",
    "plt.annotate(np.round(np.min(mean_mses_epoch), 3), (len(mean_mses_epoch) - 1, mean_mses_epoch[-1] + 0.02), horizontalalignment = 'right', color = 'r')\n",
    "\n",
    "plt.xlabel('Epoch')\n",
    "# Hide y tick\n",
    "ax = plt.gca()\n",
    "ax.axes.yaxis.set_visible(False)\n",
    "\n",
    "plt.legend()\n",
    "plt.ylim(0, 0.9)\n",
    "plt.savefig('training_metrics.png', dpi = 100)"
   ]
  },
  {
   "cell_type": "markdown",
   "metadata": {},
   "source": [
    "## Denormalize Data"
   ]
  },
  {
   "cell_type": "code",
   "execution_count": 13,
   "metadata": {
    "ExecuteTime": {
     "end_time": "2016-07-06T23:55:02.905000",
     "start_time": "2016-07-06T23:55:02.569000"
    }
   },
   "outputs": [
    {
     "data": {
      "text/plain": [
       "((10000, 2, 4), (10000, 2, 1))"
      ]
     },
     "execution_count": 13,
     "metadata": {},
     "output_type": "execute_result"
    }
   ],
   "source": [
    "pred_y = model.predict(test_X)\n",
    "pred_y = pred_y.reshape(len(pred_y), num_objects, -1)\n",
    "pred_bboxes = pred_y[..., :4] * img_size\n",
    "pred_shapes = pred_y[..., 4:5]\n",
    "pred_bboxes.shape, pred_shapes.shape"
   ]
  },
  {
   "cell_type": "markdown",
   "metadata": {},
   "source": [
    "## Visualize Results"
   ]
  },
  {
   "cell_type": "code",
   "execution_count": 14,
   "metadata": {
    "ExecuteTime": {
     "end_time": "2016-07-06T23:57:24.479000",
     "start_time": "2016-07-06T23:57:22.606000"
    },
    "scrolled": true
   },
   "outputs": [
    {
     "data": {
      "image/png": "[encoded data removed]",
      "text/plain": [
       "<Figure size 1152x576 with 4 Axes>"
      ]
     },
     "metadata": {
      "needs_background": "light"
     },
     "output_type": "display_data"
    }
   ],
   "source": [
    "plt.figure(figsize = (16, 8))\n",
    "for i_subplot in range(1, 5):\n",
    "    plt.subplot(1, 4, i_subplot)\n",
    "    i = np.random.randint(len(test_X))\n",
    "    plt.imshow(test_imgs[i].T, cmap = 'Greys', interpolation = 'none', origin = 'lower', extent = [0, img_size, 0, img_size])\n",
    "    for pred_bbox, exp_bbox, pred_shape in zip(pred_bboxes[i], test_bboxes[i], pred_shapes[i]):\n",
    "        plt.gca().add_patch(matplotlib.patches.Rectangle((pred_bbox[0], pred_bbox[1]), pred_bbox[2], pred_bbox[3], lw = 2, ec = 'r' if pred_shape[0] <= 0.5 else 'b', fc = 'none'))\n",
    "        # TODO: Calculate max IOU with all expected bounding boxes.\n",
    "        # plt.annotate('IOU: {:.2f}'.format(IOU(pred_bbox, exp_bbox)), (pred_bbox[0], pred_bbox[1]+pred_bbox[3]+0.4), color='r')\n",
    "\n",
    "plt.savefig('two-rectangles-or-triangles.png', dpi = 100)"
   ]
  },
  {
   "cell_type": "markdown",
   "metadata": {
    "collapsed": true
   },
   "source": [
    "## Overall Assessment"
   ]
  },
  {
   "cell_type": "code",
   "execution_count": 15,
   "metadata": {},
   "outputs": [
    {
     "data": {
      "text/plain": [
       "0.4726898957145686"
      ]
     },
     "execution_count": 15,
     "metadata": {},
     "output_type": "execute_result"
    }
   ],
   "source": [
    "from keras.models import load_model\n",
    "model_test = load_model('Two_Rectangles_or_Triangles_model.h5')\n",
    "pred_y = model_test.predict(test_X)\n",
    "summed_IOU = 0.\n",
    "\n",
    "for i, (pred_bboxes, exp_bboxes) in enumerate(zip(pred_y, test_y)):\n",
    "\n",
    "    switched_exp_bboxes = np.concatenate([exp_bboxes[5:], exp_bboxes[:5]])\n",
    "\n",
    "    iou = IOU(pred_bboxes[0:4], exp_bboxes[0:4]) + IOU(pred_bboxes[5:9], exp_bboxes[5:9])\n",
    "    iou_switched = IOU(pred_bboxes[0:4], switched_exp_bboxes[0:4]) + IOU(pred_bboxes[5:9], switched_exp_bboxes[5:9])\n",
    "\n",
    "    if iou_switched > iou:  \n",
    "        summed_IOU += iou_switched\n",
    "    else:\n",
    "        summed_IOU += iou\n",
    "\n",
    "mean_IOU = summed_IOU / (num_objects * len(pred_y))\n",
    "mean_IOU"
   ]
  },
  {
   "cell_type": "code",
   "execution_count": null,
   "metadata": {},
   "outputs": [],
   "source": []
  }
 ],
 "metadata": {
  "kernelspec": {
   "display_name": "Python 3",
   "language": "python",
   "name": "python3"
  },
  "language_info": {
   "codemirror_mode": {
    "name": "ipython",
    "version": 3
   },
   "file_extension": ".py",
   "mimetype": "text/x-python",
   "name": "python",
   "nbconvert_exporter": "python",
   "pygments_lexer": "ipython3",
   "version": "3.8.3"
  },
  "toc": {
   "nav_menu": {},
   "number_sections": true,
   "sideBar": true,
   "skip_h1_title": false,
   "title_cell": "Table of Contents",
   "title_sidebar": "Contents",
   "toc_cell": false,
   "toc_position": {},
   "toc_section_display": true,
   "toc_window_display": false
  }
 },
 "nbformat": 4,
 "nbformat_minor": 1
}
