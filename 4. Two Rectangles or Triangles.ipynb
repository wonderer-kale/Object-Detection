{
 "cells": [
  {
   "cell_type": "markdown",
   "metadata": {},
   "source": [
    "# Two Rectangles or Triangles"
   ]
  },
  {
   "cell_type": "markdown",
   "metadata": {},
   "source": [
    "## Import Packages"
   ]
  },
  {
   "cell_type": "code",
   "execution_count": 1,
   "metadata": {
    "ExecuteTime": {
     "end_time": "2016-07-06T23:25:52.986000",
     "start_time": "2016-07-06T23:25:52.454000"
    }
   },
   "outputs": [],
   "source": [
    "import numpy as np\n",
    "import matplotlib.pyplot as plt\n",
    "import matplotlib\n",
    "%matplotlib inline"
   ]
  },
  {
   "cell_type": "markdown",
   "metadata": {},
   "source": [
    "## Data Generation"
   ]
  },
  {
   "cell_type": "code",
   "execution_count": 2,
   "metadata": {
    "ExecuteTime": {
     "end_time": "2016-07-06T23:25:58.288000",
     "start_time": "2016-07-06T23:25:54.225000"
    }
   },
   "outputs": [
    {
     "data": {
      "text/plain": [
       "((50000, 16, 16), (50000, 2, 4))"
      ]
     },
     "execution_count": 2,
     "metadata": {},
     "output_type": "execute_result"
    }
   ],
   "source": [
    "num_imgs = 50000\n",
    "\n",
    "img_size = 16\n",
    "min_rect_size = 3\n",
    "max_rect_size = 8\n",
    "num_objects = 2\n",
    "\n",
    "bboxes = np.zeros((num_imgs, num_objects, 4))\n",
    "imgs = np.zeros((num_imgs, img_size, img_size))\n",
    "shapes = np.zeros((num_imgs, num_objects, 1))\n",
    "\n",
    "for i_img in range(num_imgs):\n",
    "    for i_object in range(num_objects):\n",
    "        if np.random.choice([True, False]):\n",
    "            width, height = np.random.randint(min_rect_size, max_rect_size, size = 2)\n",
    "            x = np.random.randint(0, img_size - width)\n",
    "            y = np.random.randint(0, img_size - height)\n",
    "            imgs[i_img, x:x + width, y:y + height] = 1.\n",
    "            bboxes[i_img, i_object] = [x, y, width, height]\n",
    "            shapes[i_img, i_object] = [0]\n",
    "        else:\n",
    "            size = np.random.randint(min_rect_size, max_rect_size)\n",
    "            x, y = np.random.randint(0, img_size - size, size = 2)\n",
    "            mask = np.tril_indices(size)\n",
    "            imgs[i_img, x + mask[0], y + mask[1]] = 1.\n",
    "            bboxes[i_img, i_object] = [x, y, size, size]\n",
    "            shapes[i_img, i_object] = [1]\n",
    "\n",
    "imgs.shape, bboxes.shape"
   ]
  },
  {
   "cell_type": "code",
   "execution_count": 6,
   "metadata": {
    "ExecuteTime": {
     "end_time": "2016-07-06T23:25:58.544000",
     "start_time": "2016-07-06T23:25:58.291000"
    },
    "scrolled": true
   },
   "outputs": [
    {
     "data": {
      "image/png": "[encoded data removed]",
      "text/plain": [
       "<Figure size 432x288 with 1 Axes>"
      ]
     },
     "metadata": {
      "needs_background": "light"
     },
     "output_type": "display_data"
    }
   ],
   "source": [
    "i = 2\n",
    "plt.imshow(imgs[i].T, cmap = 'Greys', interpolation = 'none', origin = 'lower', extent = [0, img_size, 0, img_size])\n",
    "for bbox, shape in zip(bboxes[i], shapes[i]):\n",
    "    plt.gca().add_patch(matplotlib.patches.Rectangle((bbox[0], bbox[1]), bbox[2], bbox[3], lw = 2, ec = 'r' if shape[0] == 0 else 'b', fc = 'none'))\n",
    "plt.savefig('two-rectangles-or-triangles_data.png', dpi = 100)"
   ]
  },
  {
   "cell_type": "markdown",
   "metadata": {},
   "source": [
    "## Preprocessing"
   ]
  },
  {
   "cell_type": "code",
   "execution_count": 7,
   "metadata": {
    "ExecuteTime": {
     "end_time": "2016-07-06T23:25:59.719000",
     "start_time": "2016-07-06T23:25:59.203000"
    }
   },
   "outputs": [
    {
     "data": {
      "text/plain": [
       "((50000, 256), 1.0071388167887108e-16, 0.9999999999999999)"
      ]
     },
     "execution_count": 7,
     "metadata": {},
     "output_type": "execute_result"
    }
   ],
   "source": [
    "X = (imgs.reshape(num_imgs, -1) - np.mean(imgs)) / np.std(imgs)\n",
    "X.shape, np.mean(X), np.std(X)"
   ]
  },
  {
   "cell_type": "code",
   "execution_count": 8,
   "metadata": {
    "ExecuteTime": {
     "end_time": "2016-07-06T23:26:00.476000",
     "start_time": "2016-07-06T23:26:00.464000"
    }
   },
   "outputs": [
    {
     "data": {
      "text/plain": [
       "((50000, 10), 0.35042475, 0.27477978835321476)"
      ]
     },
     "execution_count": 8,
     "metadata": {},
     "output_type": "execute_result"
    }
   ],
   "source": [
    "# TODO: We use binary classification here - for multiple classes, convert classes to one-hot vectors.\n",
    "y = np.concatenate([bboxes / img_size, shapes], axis = -1).reshape(-1, 10)\n",
    "y.shape, np.mean(y), np.std(y)"
   ]
  },
  {
   "cell_type": "markdown",
   "metadata": {},
   "source": [
    "y = bboxes.reshape(num_imgs, -1) / img_size \n",
    "y.shape, np.mean(y), np.std(y)"
   ]
  },
  {
   "cell_type": "markdown",
   "metadata": {},
   "source": [
    "## Train Test Split"
   ]
  },
  {
   "cell_type": "code",
   "execution_count": 9,
   "metadata": {
    "ExecuteTime": {
     "end_time": "2016-07-06T23:26:01.233000",
     "start_time": "2016-07-06T23:26:01.226000"
    }
   },
   "outputs": [],
   "source": [
    "i = int(0.8 * num_imgs)\n",
    "train_X = X[:i]\n",
    "test_X = X[i:]\n",
    "train_y = y[:i]\n",
    "test_y = y[i:]\n",
    "test_imgs = imgs[i:]\n",
    "test_bboxes = bboxes[i:]"
   ]
  },
  {
   "cell_type": "markdown",
   "metadata": {},
   "source": [
    "## Model"
   ]
  },
  {
   "cell_type": "code",
   "execution_count": 10,
   "metadata": {
    "ExecuteTime": {
     "end_time": "2016-07-06T23:26:06.005000",
     "start_time": "2016-07-06T23:26:02.162000"
    }
   },
   "outputs": [
    {
     "name": "stdout",
     "output_type": "stream",
     "text": [
      "Model: \"sequential\"\n",
      "_________________________________________________________________\n",
      "Layer (type)                 Output Shape              Param #   \n",
      "=================================================================\n",
      "dense (Dense)                (None, 256)               65792     \n",
      "_________________________________________________________________\n",
      "activation (Activation)      (None, 256)               0         \n",
      "_________________________________________________________________\n",
      "dropout (Dropout)            (None, 256)               0         \n",
      "_________________________________________________________________\n",
      "dense_1 (Dense)              (None, 10)                2570      \n",
      "=================================================================\n",
      "Total params: 68,362\n",
      "Trainable params: 68,362\n",
      "Non-trainable params: 0\n",
      "_________________________________________________________________\n"
     ]
    }
   ],
   "source": [
    "from keras.models import Sequential\n",
    "from keras.layers import Dense, Activation, Dropout\n",
    "from keras.callbacks import ModelCheckpoint\n",
    "from keras.models import load_model\n",
    "model = Sequential([\n",
    "        Dense(256, input_dim = X.shape[-1]), \n",
    "        Activation('relu'), \n",
    "        Dropout(0.5), \n",
    "        Dense(y.shape[-1])\n",
    "        ])\n",
    "model.compile(loss = 'mse', optimizer = 'adam')\n",
    "model.summary()"
   ]
  },
  {
   "cell_type": "markdown",
   "metadata": {},
   "source": [
    "## IoU Calculating Function"
   ]
  },
  {
   "cell_type": "code",
   "execution_count": 11,
   "metadata": {},
   "outputs": [],
   "source": [
    "def IOU(bbox1, bbox2):\n",
    "    '''Calculate overlap between two bounding boxes [x, y, w, h] as the area of intersection over the area of unity'''\n",
    "    x1, y1, w1, h1 = bbox1[0], bbox1[1], bbox1[2], bbox1[3]  # TODO: Check if its more performant if tensor elements are accessed directly below.\n",
    "    x2, y2, w2, h2 = bbox2[0], bbox2[1], bbox2[2], bbox2[3]\n",
    "\n",
    "    w_I = min(x1 + w1, x2 + w2) - max(x1, x2)\n",
    "    h_I = min(y1 + h1, y2 + h2) - max(y1, y2)\n",
    "    if w_I <= 0 or h_I <= 0:  # no overlap\n",
    "        return 0\n",
    "    I = w_I * h_I\n",
    "\n",
    "    U = w1 * h1 + w2 * h2 - I\n",
    "\n",
    "    return I / U"
   ]
  },
  {
   "cell_type": "markdown",
   "metadata": {},
   "source": [
    "## Distance Calculating Function"
   ]
  },
  {
   "cell_type": "code",
   "execution_count": 12,
   "metadata": {},
   "outputs": [],
   "source": [
    "def distance(bbox1, bbox2):\n",
    "    return np.sqrt(np.sum(np.square(bbox1[0:2] - bbox2[0:2])))"
   ]
  },
  {
   "cell_type": "markdown",
   "metadata": {},
   "source": [
    "## Training"
   ]
  },
  {
   "cell_type": "code",
   "execution_count": 13,
   "metadata": {
    "ExecuteTime": {
     "end_time": "2016-07-06T23:32:54.867000",
     "start_time": "2016-07-06T23:26:06.009000"
    },
    "code_folding": [
     2,
     17
    ],
    "scrolled": false
   },
   "outputs": [
    {
     "name": "stdout",
     "output_type": "stream",
     "text": [
      "Epoch 0\n",
      "1250/1250 [==============================] - 1s 991us/step - loss: 0.1041 - val_loss: 0.0538\n",
      "Switched 19316.0 training samples (48.29 %)\n",
      "Mean IOU: 0.23287595402784964\n",
      "Mean dist: 0.2046034823947471\n",
      "Mean mse: 0.026075413012457933\n",
      "Epoch 1\n",
      "1250/1250 [==============================] - 1s 967us/step - loss: 0.0543 - val_loss: 0.0491\n",
      "Switched 12278.0 training samples (30.695 %)\n",
      "Mean IOU: 0.27054815966344975\n",
      "Mean dist: 0.18373544048265406\n",
      "Mean mse: 0.02279888197484235\n",
      "Epoch 2\n",
      "1250/1250 [==============================] - 1s 904us/step - loss: 0.0496 - val_loss: 0.0481\n",
      "Switched 8966.0 training samples (22.415 %)\n",
      "Mean IOU: 0.30949095839318086\n",
      "Mean dist: 0.16459274292437862\n",
      "Mean mse: 0.020257215339876213\n",
      "Epoch 3\n",
      "1250/1250 [==============================] - 1s 931us/step - loss: 0.0449 - val_loss: 0.0495\n",
      "Switched 6534.0 training samples (16.335 %)\n",
      "Mean IOU: 0.35173673393069976\n",
      "Mean dist: 0.14553539019945097\n",
      "Mean mse: 0.017703986562639707\n",
      "Epoch 4\n",
      "1250/1250 [==============================] - 1s 903us/step - loss: 0.0405 - val_loss: 0.0511\n",
      "Switched 5554.0 training samples (13.885 %)\n",
      "Mean IOU: 0.3988916326121866\n",
      "Mean dist: 0.12860662270532283\n",
      "Mean mse: 0.015311447065423991\n",
      "Epoch 5\n",
      "1250/1250 [==============================] - 1s 932us/step - loss: 0.0370 - val_loss: 0.0524\n",
      "Switched 3299.0 training samples (8.2475 %)\n",
      "Mean IOU: 0.41958710215755163\n",
      "Mean dist: 0.11810199662476338\n",
      "Mean mse: 0.013494329426607698\n",
      "Epoch 6\n",
      "1250/1250 [==============================] - 1s 929us/step - loss: 0.0346 - val_loss: 0.0536\n",
      "Switched 2747.0 training samples (6.8675 %)\n",
      "Mean IOU: 0.44220041421497464\n",
      "Mean dist: 0.11098636690549676\n",
      "Mean mse: 0.01255105344551624\n",
      "Epoch 7\n",
      "1250/1250 [==============================] - 1s 914us/step - loss: 0.0331 - val_loss: 0.0536\n",
      "Switched 1982.0 training samples (4.955 %)\n",
      "Mean IOU: 0.4538724211313035\n",
      "Mean dist: 0.1059722201897024\n",
      "Mean mse: 0.011629165955052579\n",
      "Epoch 8\n",
      "1250/1250 [==============================] - 1s 995us/step - loss: 0.0321 - val_loss: 0.0535\n",
      "Switched 1841.0 training samples (4.6025 %)\n",
      "Mean IOU: 0.4560861038623063\n",
      "Mean dist: 0.10531876403596266\n",
      "Mean mse: 0.011260624534032293\n",
      "Epoch 9\n",
      "1250/1250 [==============================] - 1s 918us/step - loss: 0.0311 - val_loss: 0.0530\n",
      "Switched 1943.0 training samples (4.8575 %)\n",
      "Mean IOU: 0.4404962749256383\n",
      "Mean dist: 0.11071961329099395\n",
      "Mean mse: 0.01119064292308889\n",
      "Epoch 10\n",
      "1250/1250 [==============================] - 1s 920us/step - loss: 0.0305 - val_loss: 0.0543\n",
      "Switched 1997.0 training samples (4.9925 %)\n",
      "Mean IOU: 0.4452107461609378\n",
      "Mean dist: 0.10920815235696654\n",
      "Mean mse: 0.010799676298756134\n",
      "Epoch 11\n",
      "1250/1250 [==============================] - 1s 916us/step - loss: 0.0301 - val_loss: 0.0538\n",
      "Switched 1866.0 training samples (4.665 %)\n",
      "Mean IOU: 0.46009695107230364\n",
      "Mean dist: 0.10256073861432606\n",
      "Mean mse: 0.010412996775805289\n",
      "Epoch 12\n",
      "1250/1250 [==============================] - ETA: 0s - loss: 0.029 - 1s 940us/step - loss: 0.0294 - val_loss: 0.0543\n",
      "Switched 1647.0 training samples (4.117500000000001 %)\n",
      "Mean IOU: 0.4597426916621429\n",
      "Mean dist: 0.10344826195718408\n",
      "Mean mse: 0.010187511074070984\n",
      "Epoch 13\n",
      "1250/1250 [==============================] - 1s 954us/step - loss: 0.0290 - val_loss: 0.0531\n",
      "Switched 1707.0 training samples (4.2675 %)\n",
      "Mean IOU: 0.4628929147308484\n",
      "Mean dist: 0.10164539103187858\n",
      "Mean mse: 0.010171251241733004\n",
      "Epoch 14\n",
      "1250/1250 [==============================] - 1s 894us/step - loss: 0.0286 - val_loss: 0.0543\n",
      "Switched 1664.0 training samples (4.16 %)\n",
      "Mean IOU: 0.4755414660884838\n",
      "Mean dist: 0.09836595509365854\n",
      "Mean mse: 0.00956543563205292\n",
      "Epoch 15\n",
      "1250/1250 [==============================] - 1s 910us/step - loss: 0.0286 - val_loss: 0.0548\n",
      "Switched 1707.0 training samples (4.2675 %)\n",
      "Mean IOU: 0.46875613846698716\n",
      "Mean dist: 0.10013447721691959\n",
      "Mean mse: 0.009648378213434193\n",
      "Epoch 16\n",
      "1250/1250 [==============================] - 1s 892us/step - loss: 0.0283 - val_loss: 0.0547\n",
      "Switched 1684.0 training samples (4.21 %)\n",
      "Mean IOU: 0.46785381060105374\n",
      "Mean dist: 0.09990327499177101\n",
      "Mean mse: 0.009733282350330469\n",
      "Epoch 17\n",
      "1250/1250 [==============================] - 1s 943us/step - loss: 0.0281 - val_loss: 0.0552\n",
      "Switched 1767.0 training samples (4.4174999999999995 %)\n",
      "Mean IOU: 0.4700793767835719\n",
      "Mean dist: 0.10076740886534549\n",
      "Mean mse: 0.009529558089371793\n",
      "Epoch 18\n",
      "1250/1250 [==============================] - 1s 905us/step - loss: 0.0279 - val_loss: 0.0538\n",
      "Switched 1563.0 training samples (3.9074999999999998 %)\n",
      "Mean IOU: 0.46911181035407234\n",
      "Mean dist: 0.09999773918760195\n",
      "Mean mse: 0.009589805834391459\n",
      "Epoch 19\n",
      "1250/1250 [==============================] - 1s 863us/step - loss: 0.0276 - val_loss: 0.0552\n",
      "Switched 1686.0 training samples (4.215 %)\n",
      "Mean IOU: 0.4736031383464684\n",
      "Mean dist: 0.0984577884148333\n",
      "Mean mse: 0.009202128625411797\n",
      "Epoch 20\n",
      "1250/1250 [==============================] - 1s 888us/step - loss: 0.0274 - val_loss: 0.0539\n",
      "Switched 1686.0 training samples (4.215 %)\n",
      "Mean IOU: 0.466472148047682\n",
      "Mean dist: 0.1008732859846371\n",
      "Mean mse: 0.009468449774811694\n",
      "Epoch 21\n",
      "1250/1250 [==============================] - 1s 876us/step - loss: 0.0274 - val_loss: 0.0566\n",
      "Switched 1587.0 training samples (3.9675000000000002 %)\n",
      "Mean IOU: 0.47673441317798027\n",
      "Mean dist: 0.09799751486323212\n",
      "Mean mse: 0.00887960390045708\n",
      "Epoch 22\n",
      "1250/1250 [==============================] - 1s 872us/step - loss: 0.0271 - val_loss: 0.0550\n",
      "Switched 1527.0 training samples (3.8175 %)\n",
      "Mean IOU: 0.4682193660395151\n",
      "Mean dist: 0.09971422356666021\n",
      "Mean mse: 0.009278018264564895\n",
      "Epoch 23\n",
      "1250/1250 [==============================] - 1s 877us/step - loss: 0.0270 - val_loss: 0.0551\n",
      "Switched 1575.0 training samples (3.9375 %)\n",
      "Mean IOU: 0.46777567543089515\n",
      "Mean dist: 0.09645280353533439\n",
      "Mean mse: 0.008929034638861275\n",
      "Epoch 24\n",
      "1250/1250 [==============================] - 1s 878us/step - loss: 0.0269 - val_loss: 0.0549\n",
      "Switched 1682.0 training samples (4.205 %)\n",
      "Mean IOU: 0.4691338915513399\n",
      "Mean dist: 0.09910474566516768\n",
      "Mean mse: 0.0088018688764787\n",
      "Epoch 25\n",
      "1250/1250 [==============================] - 1s 882us/step - loss: 0.0269 - val_loss: 0.0557\n",
      "Switched 1518.0 training samples (3.795 %)\n",
      "Mean IOU: 0.4771317586526957\n",
      "Mean dist: 0.09607936452806365\n",
      "Mean mse: 0.008768319282622125\n",
      "Epoch 26\n",
      "1250/1250 [==============================] - 1s 925us/step - loss: 0.0269 - val_loss: 0.0548\n",
      "Switched 1641.0 training samples (4.1025 %)\n",
      "Mean IOU: 0.47364482310526435\n",
      "Mean dist: 0.09804496143860897\n",
      "Mean mse: 0.008930267916274997\n",
      "Epoch 27\n",
      "1250/1250 [==============================] - 1s 933us/step - loss: 0.0266 - val_loss: 0.0541\n",
      "Switched 1883.0 training samples (4.7075 %)\n",
      "Mean IOU: 0.4608852086485889\n",
      "Mean dist: 0.10245364784159441\n",
      "Mean mse: 0.009267186682964543\n",
      "Epoch 28\n",
      "1250/1250 [==============================] - 1s 927us/step - loss: 0.0269 - val_loss: 0.0547\n",
      "Switched 1844.0 training samples (4.61 %)\n",
      "Mean IOU: 0.4697915643623068\n",
      "Mean dist: 0.09880928163782587\n",
      "Mean mse: 0.008866788037854883\n",
      "Epoch 29\n",
      "1250/1250 [==============================] - 1s 927us/step - loss: 0.0265 - val_loss: 0.0557\n",
      "Switched 1546.0 training samples (3.8649999999999998 %)\n",
      "Mean IOU: 0.466379684255081\n",
      "Mean dist: 0.09830184426677285\n",
      "Mean mse: 0.008629643026849773\n",
      "Epoch 30\n",
      "1250/1250 [==============================] - 1s 866us/step - loss: 0.0265 - val_loss: 0.0557\n",
      "Switched 1571.0 training samples (3.9274999999999998 %)\n",
      "Mean IOU: 0.4761511646919784\n",
      "Mean dist: 0.09690563204900604\n",
      "Mean mse: 0.00848160181122903\n",
      "Epoch 31\n",
      "1250/1250 [==============================] - 1s 927us/step - loss: 0.0262 - val_loss: 0.0546\n",
      "Switched 1596.0 training samples (3.9899999999999998 %)\n",
      "Mean IOU: 0.4689873175550038\n",
      "Mean dist: 0.09904843332470482\n",
      "Mean mse: 0.008594048778990445\n",
      "Epoch 32\n",
      "1250/1250 [==============================] - 1s 914us/step - loss: 0.0262 - val_loss: 0.0548\n",
      "Switched 1582.0 training samples (3.955 %)\n",
      "Mean IOU: 0.4684410222093953\n",
      "Mean dist: 0.0979975966041545\n",
      "Mean mse: 0.008833513710570383\n",
      "Epoch 33\n",
      "1250/1250 [==============================] - 1s 893us/step - loss: 0.0261 - val_loss: 0.0549\n",
      "Switched 1882.0 training samples (4.705 %)\n",
      "Mean IOU: 0.4610095033459579\n",
      "Mean dist: 0.10032244391100012\n",
      "Mean mse: 0.008680991391082584\n",
      "Epoch 34\n"
     ]
    },
    {
     "name": "stdout",
     "output_type": "stream",
     "text": [
      "1250/1250 [==============================] - 1s 914us/step - loss: 0.0263 - val_loss: 0.0545\n",
      "Switched 1941.0 training samples (4.8525 %)\n",
      "Mean IOU: 0.47513226726337116\n",
      "Mean dist: 0.09739242591003167\n",
      "Mean mse: 0.008533277037106575\n",
      "Epoch 35\n",
      "1250/1250 [==============================] - 1s 1ms/step - loss: 0.0261 - val_loss: 0.0546\n",
      "Switched 1783.0 training samples (4.4575 %)\n",
      "Mean IOU: 0.47203151121346093\n",
      "Mean dist: 0.09726586489477637\n",
      "Mean mse: 0.008438907097828493\n",
      "Epoch 36\n",
      "1250/1250 [==============================] - 1s 870us/step - loss: 0.0260 - val_loss: 0.0548\n",
      "Switched 1734.0 training samples (4.335 %)\n",
      "Mean IOU: 0.45749253886403796\n",
      "Mean dist: 0.10261502849557351\n",
      "Mean mse: 0.008838628642603466\n",
      "Epoch 37\n",
      "1250/1250 [==============================] - 1s 876us/step - loss: 0.0261 - val_loss: 0.0552\n",
      "Switched 1961.0 training samples (4.9025 %)\n",
      "Mean IOU: 0.46896911281422743\n",
      "Mean dist: 0.09828987326737053\n",
      "Mean mse: 0.00839536492991182\n",
      "Epoch 38\n",
      "1250/1250 [==============================] - 1s 874us/step - loss: 0.0260 - val_loss: 0.0553\n",
      "Switched 1733.0 training samples (4.3325000000000005 %)\n",
      "Mean IOU: 0.47574987234611155\n",
      "Mean dist: 0.09630440441146566\n",
      "Mean mse: 0.008555073478157885\n",
      "Epoch 39\n",
      "1250/1250 [==============================] - 1s 889us/step - loss: 0.0258 - val_loss: 0.0548\n",
      "Switched 1773.0 training samples (4.4325 %)\n",
      "Mean IOU: 0.4580496973662714\n",
      "Mean dist: 0.10094542129477746\n",
      "Mean mse: 0.008529230847803347\n",
      "Epoch 40\n",
      "1250/1250 [==============================] - 1s 875us/step - loss: 0.0260 - val_loss: 0.0547\n",
      "Switched 1856.0 training samples (4.64 %)\n",
      "Mean IOU: 0.4657519195559139\n",
      "Mean dist: 0.10068739738074549\n",
      "Mean mse: 0.00863318974609311\n",
      "Epoch 41\n",
      "1250/1250 [==============================] - 1s 858us/step - loss: 0.0260 - val_loss: 0.0548\n",
      "Switched 1670.0 training samples (4.175 %)\n",
      "Mean IOU: 0.4726606626966104\n",
      "Mean dist: 0.09799670081446041\n",
      "Mean mse: 0.00864452838442796\n",
      "Epoch 42\n",
      "1250/1250 [==============================] - 1s 895us/step - loss: 0.0258 - val_loss: 0.0560\n",
      "Switched 1578.0 training samples (3.945 %)\n",
      "Mean IOU: 0.46549442526042856\n",
      "Mean dist: 0.0973027545004299\n",
      "Mean mse: 0.00853758844302736\n",
      "Epoch 43\n",
      "1250/1250 [==============================] - 1s 896us/step - loss: 0.0258 - val_loss: 0.0554\n",
      "Switched 1848.0 training samples (4.62 %)\n",
      "Mean IOU: 0.47136832259441924\n",
      "Mean dist: 0.09843121607975976\n",
      "Mean mse: 0.008398446744097194\n",
      "Epoch 44\n",
      "1250/1250 [==============================] - 1s 893us/step - loss: 0.0258 - val_loss: 0.0557\n",
      "Switched 1653.0 training samples (4.1325 %)\n",
      "Mean IOU: 0.47242776094096045\n",
      "Mean dist: 0.09804087516129421\n",
      "Mean mse: 0.008204528649086933\n",
      "Epoch 45\n",
      "1250/1250 [==============================] - 1s 872us/step - loss: 0.0257 - val_loss: 0.0551\n",
      "Switched 1629.0 training samples (4.0725 %)\n",
      "Mean IOU: 0.47766985894647507\n",
      "Mean dist: 0.09730709026666808\n",
      "Mean mse: 0.008268198736708183\n",
      "Epoch 46\n",
      "1250/1250 [==============================] - 1s 874us/step - loss: 0.0256 - val_loss: 0.0553\n",
      "Switched 1629.0 training samples (4.0725 %)\n",
      "Mean IOU: 0.4697466095239004\n",
      "Mean dist: 0.09707934945883803\n",
      "Mean mse: 0.008054666715891634\n",
      "Epoch 47\n",
      "1250/1250 [==============================] - 1s 864us/step - loss: 0.0255 - val_loss: 0.0552\n",
      "Switched 1658.0 training samples (4.1450000000000005 %)\n",
      "Mean IOU: 0.4736125075315361\n",
      "Mean dist: 0.09604789099779162\n",
      "Mean mse: 0.008191151694999402\n",
      "Epoch 48\n",
      "1250/1250 [==============================] - 1s 863us/step - loss: 0.0255 - val_loss: 0.0563\n",
      "Switched 1697.0 training samples (4.2425 %)\n",
      "Mean IOU: 0.46318162545395025\n",
      "Mean dist: 0.09940465548815862\n",
      "Mean mse: 0.008151420589429165\n",
      "Epoch 49\n",
      "1250/1250 [==============================] - 1s 878us/step - loss: 0.0253 - val_loss: 0.0555\n",
      "Switched 1745.0 training samples (4.3625 %)\n",
      "Mean IOU: 0.4764850508907044\n",
      "Mean dist: 0.09707847749919793\n",
      "Mean mse: 0.008426051409219178\n"
     ]
    }
   ],
   "source": [
    "# Switch bboxes during training.\n",
    "num_epochs = 50\n",
    "switched_train_y = np.array(train_y)\n",
    "switched = np.zeros((len(switched_train_y), num_epochs))\n",
    "ious = np.zeros((len(switched_train_y), num_epochs))\n",
    "dists = np.zeros((len(switched_train_y), num_epochs))\n",
    "mses = np.zeros((len(switched_train_y), num_epochs))\n",
    "\n",
    "for epoch in range(num_epochs):\n",
    "    print('Epoch', epoch)\n",
    "    model.fit(train_X, switched_train_y, epochs = 1, validation_data = (test_X, test_y), verbose = 1, \n",
    "              callbacks = [ModelCheckpoint('Two_Rectangles_or_Triangles_model.h5', \n",
    "                                           monitor = 'val_loss',\n",
    "                                           save_best_only = True)])\n",
    "    pred_y = model.predict(train_X)\n",
    "\n",
    "    for i, (pred_bboxes, exp_bboxes) in enumerate(zip(pred_y, switched_train_y)):\n",
    "        \n",
    "        switched_exp_bboxes = np.concatenate([exp_bboxes[5:], exp_bboxes[:5]])\n",
    "        \n",
    "        mse = np.mean(np.square(pred_bboxes - exp_bboxes))\n",
    "        mse_switched = np.mean(np.square(pred_bboxes - switched_exp_bboxes))\n",
    "        \n",
    "        iou = IOU(pred_bboxes[0:4], exp_bboxes[0:4]) + IOU(pred_bboxes[5:9], exp_bboxes[5:9])\n",
    "        iou_switched = IOU(pred_bboxes[0:4], switched_exp_bboxes[0:4]) + IOU(pred_bboxes[5:9], switched_exp_bboxes[5:9])\n",
    "        \n",
    "        dist = distance(pred_bboxes[:2], exp_bboxes[:2]) + distance(pred_bboxes[5:9], exp_bboxes[5:9])\n",
    "        dist_switched = distance(pred_bboxes[:2], switched_exp_bboxes[:2]) + distance(pred_bboxes[5:9], switched_exp_bboxes[5:9])\n",
    "        \n",
    "        if iou_switched > iou:  \n",
    "            switched_train_y[i] = switched_exp_bboxes\n",
    "            switched[i, epoch] = 1\n",
    "            ious[i, epoch] = iou_switched / 2.\n",
    "            dists[i, epoch] = dist_switched / 2.\n",
    "            mses[i, epoch] = mse_switched / 2.\n",
    "        else:\n",
    "            ious[i, epoch] = iou / 2.\n",
    "            dists[i, epoch] = dist / 2.\n",
    "            mses[i, epoch] = mse / 2.\n",
    "            \n",
    "    print('Switched {} training samples ({} %)'.format(np.sum(switched[:, epoch]), np.mean(switched[:, epoch]) * 100.))\n",
    "    print('Mean IOU: {}'.format(np.mean(ious[:, epoch])))\n",
    "    print('Mean dist: {}'.format(np.mean(dists[:, epoch])))\n",
    "    print('Mean mse: {}'.format(np.mean(mses[:, epoch])))"
   ]
  },
  {
   "cell_type": "markdown",
   "metadata": {},
   "source": [
    "## Switching Track"
   ]
  },
  {
   "cell_type": "code",
   "execution_count": 14,
   "metadata": {
    "ExecuteTime": {
     "end_time": "2016-07-06T23:55:00.367000",
     "start_time": "2016-07-06T23:54:57.699000"
    },
    "scrolled": true
   },
   "outputs": [
    {
     "data": {
      "image/png": "[encoded data removed]",
      "text/plain": [
       "<Figure size 432x288 with 1 Axes>"
      ]
     },
     "metadata": {
      "needs_background": "light"
     },
     "output_type": "display_data"
    }
   ],
   "source": [
    "plt.pcolor(switched[:1000], cmap = 'Greys')\n",
    "plt.xlabel('Epoch')\n",
    "plt.ylabel('Training sample')\n",
    "plt.savefig('two-rectangles-or-triangles_switches.png', dpi = 100)"
   ]
  },
  {
   "cell_type": "markdown",
   "metadata": {},
   "source": [
    "## Metrics Track"
   ]
  },
  {
   "cell_type": "code",
   "execution_count": 15,
   "metadata": {
    "ExecuteTime": {
     "end_time": "2016-07-06T23:55:01.541000",
     "start_time": "2016-07-06T23:55:01.245000"
    }
   },
   "outputs": [
    {
     "data": {
      "image/png": "[encoded data removed]",
      "text/plain": [
       "<Figure size 432x288 with 1 Axes>"
      ]
     },
     "metadata": {
      "needs_background": "light"
     },
     "output_type": "display_data"
    }
   ],
   "source": [
    "mean_ious_epoch = np.mean(ious, axis = 0)\n",
    "mean_dists_epoch = np.mean(dists, axis = 0)\n",
    "mean_mses_epoch = np.mean(mses, axis = 0)\n",
    "plt.plot(np.mean(ious, axis = 0), label = 'Mean IOU')  # between predicted and assigned true bboxes\n",
    "plt.plot(np.mean(dists, axis = 0), label = 'Mean distance')  # relative to image size\n",
    "plt.plot(np.mean(mses, axis = 0), label = 'Mean mse')\n",
    "plt.annotate(np.round(np.max(mean_ious_epoch), 3), (len(mean_ious_epoch) - 1, mean_ious_epoch[-1] + 0.02), horizontalalignment = 'right', color = 'b')\n",
    "plt.annotate(np.round(np.min(mean_dists_epoch), 3), (len(mean_dists_epoch) - 1, mean_dists_epoch[-1] + 0.02), horizontalalignment = 'right', color = 'g')\n",
    "plt.annotate(np.round(np.min(mean_mses_epoch), 3), (len(mean_mses_epoch) - 1, mean_mses_epoch[-1] + 0.02), horizontalalignment = 'right', color = 'r')\n",
    "\n",
    "plt.xlabel('Epoch')\n",
    "# Hide y tick\n",
    "ax = plt.gca()\n",
    "ax.axes.yaxis.set_visible(False)\n",
    "\n",
    "plt.legend()\n",
    "plt.ylim(0, 0.9)\n",
    "plt.savefig('training_metrics.png', dpi = 100)"
   ]
  },
  {
   "cell_type": "markdown",
   "metadata": {},
   "source": [
    "## Denormalize Data"
   ]
  },
  {
   "cell_type": "code",
   "execution_count": 16,
   "metadata": {
    "ExecuteTime": {
     "end_time": "2016-07-06T23:55:02.905000",
     "start_time": "2016-07-06T23:55:02.569000"
    }
   },
   "outputs": [
    {
     "data": {
      "text/plain": [
       "((10000, 2, 4), (10000, 2, 1))"
      ]
     },
     "execution_count": 16,
     "metadata": {},
     "output_type": "execute_result"
    }
   ],
   "source": [
    "pred_y = model.predict(test_X)\n",
    "pred_y = pred_y.reshape(len(pred_y), num_objects, -1)\n",
    "pred_bboxes = pred_y[..., :4] * img_size\n",
    "pred_shapes = pred_y[..., 4:5]\n",
    "pred_bboxes.shape, pred_shapes.shape"
   ]
  },
  {
   "cell_type": "markdown",
   "metadata": {},
   "source": [
    "## Visualize Results"
   ]
  },
  {
   "cell_type": "code",
   "execution_count": 17,
   "metadata": {
    "ExecuteTime": {
     "end_time": "2016-07-06T23:57:24.479000",
     "start_time": "2016-07-06T23:57:22.606000"
    },
    "scrolled": true
   },
   "outputs": [
    {
     "data": {
      "image/png": "[encoded data removed]",
      "text/plain": [
       "<Figure size 1152x576 with 4 Axes>"
      ]
     },
     "metadata": {
      "needs_background": "light"
     },
     "output_type": "display_data"
    }
   ],
   "source": [
    "plt.figure(figsize = (16, 8))\n",
    "for i_subplot in range(1, 5):\n",
    "    plt.subplot(1, 4, i_subplot)\n",
    "    i = np.random.randint(len(test_X))\n",
    "    plt.imshow(test_imgs[i].T, cmap = 'Greys', interpolation = 'none', origin = 'lower', extent = [0, img_size, 0, img_size])\n",
    "    for pred_bbox, exp_bbox, pred_shape in zip(pred_bboxes[i], test_bboxes[i], pred_shapes[i]):\n",
    "        plt.gca().add_patch(matplotlib.patches.Rectangle((pred_bbox[0], pred_bbox[1]), pred_bbox[2], pred_bbox[3], lw = 2, ec = 'r' if pred_shape[0] <= 0.5 else 'b', fc = 'none'))\n",
    "        # TODO: Calculate max IOU with all expected bounding boxes.\n",
    "        # plt.annotate('IOU: {:.2f}'.format(IOU(pred_bbox, exp_bbox)), (pred_bbox[0], pred_bbox[1]+pred_bbox[3]+0.4), color='r')\n",
    "\n",
    "plt.savefig('two-rectangles-or-triangles.png', dpi = 100)"
   ]
  },
  {
   "cell_type": "markdown",
   "metadata": {
    "collapsed": true
   },
   "source": [
    "## Overall Assessment"
   ]
  },
  {
   "cell_type": "code",
   "execution_count": 18,
   "metadata": {},
   "outputs": [
    {
     "data": {
      "text/plain": [
       "0.47136725208376673"
      ]
     },
     "execution_count": 18,
     "metadata": {},
     "output_type": "execute_result"
    }
   ],
   "source": [
    "from keras.models import load_model\n",
    "model_test = load_model('Two_Rectangles_or_Triangles_model.h5')\n",
    "pred_y = model_test.predict(test_X)\n",
    "summed_IOU = 0.\n",
    "\n",
    "for i, (pred_bboxes, exp_bboxes) in enumerate(zip(pred_y, test_y)):\n",
    "\n",
    "    switched_exp_bboxes = np.concatenate([exp_bboxes[5:], exp_bboxes[:5]])\n",
    "\n",
    "    iou = IOU(pred_bboxes[0:4], exp_bboxes[0:4]) + IOU(pred_bboxes[5:9], exp_bboxes[5:9])\n",
    "    iou_switched = IOU(pred_bboxes[0:4], switched_exp_bboxes[0:4]) + IOU(pred_bboxes[5:9], switched_exp_bboxes[5:9])\n",
    "\n",
    "    if iou_switched > iou:  \n",
    "        summed_IOU += iou_switched\n",
    "    else:\n",
    "        summed_IOU += iou\n",
    "\n",
    "mean_IOU = summed_IOU / (num_objects * len(pred_y))\n",
    "mean_IOU"
   ]
  },
  {
   "cell_type": "code",
   "execution_count": null,
   "metadata": {},
   "outputs": [],
   "source": []
  }
 ],
 "metadata": {
  "kernelspec": {
   "display_name": "Python 3",
   "language": "python",
   "name": "python3"
  },
  "language_info": {
   "codemirror_mode": {
    "name": "ipython",
    "version": 3
   },
   "file_extension": ".py",
   "mimetype": "text/x-python",
   "name": "python",
   "nbconvert_exporter": "python",
   "pygments_lexer": "ipython3",
   "version": "3.8.3"
  },
  "toc": {
   "nav_menu": {},
   "number_sections": true,
   "sideBar": true,
   "skip_h1_title": false,
   "title_cell": "Table of Contents",
   "title_sidebar": "Contents",
   "toc_cell": false,
   "toc_position": {},
   "toc_section_display": true,
   "toc_window_display": false
  }
 },
 "nbformat": 4,
 "nbformat_minor": 1
}
