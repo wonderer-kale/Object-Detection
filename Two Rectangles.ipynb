{
 "cells": [
  {
   "cell_type": "markdown",
   "metadata": {},
   "source": [
    "# Two Rectangles Detection"
   ]
  },
  {
   "cell_type": "markdown",
   "metadata": {},
   "source": [
    "## Import Packages"
   ]
  },
  {
   "cell_type": "code",
   "execution_count": 1,
   "metadata": {},
   "outputs": [],
   "source": [
    "import numpy as np\n",
    "import matplotlib.pyplot as plt\n",
    "import matplotlib\n",
    "%matplotlib inline"
   ]
  },
  {
   "cell_type": "markdown",
   "metadata": {},
   "source": [
    "## Data Generation"
   ]
  },
  {
   "cell_type": "code",
   "execution_count": 2,
   "metadata": {},
   "outputs": [
    {
     "data": {
      "text/plain": [
       "((50000, 8, 8), (50000, 2, 4))"
      ]
     },
     "execution_count": 2,
     "metadata": {},
     "output_type": "execute_result"
    }
   ],
   "source": [
    "# Create images with random rectangles and bounding boxes. \n",
    "num_imgs = 50000\n",
    "\n",
    "img_size = 8\n",
    "min_rect_size = 1\n",
    "max_rect_size = 4\n",
    "num_objects = 2\n",
    "\n",
    "bboxes = np.zeros((num_imgs, num_objects, 4))\n",
    "imgs = np.zeros((num_imgs, img_size, img_size))\n",
    "\n",
    "for i_img in range(num_imgs):\n",
    "    for i_object in range(num_objects):\n",
    "        w, h = np.random.randint(min_rect_size, max_rect_size, size = 2)\n",
    "        x = np.random.randint(0, img_size - w)\n",
    "        y = np.random.randint(0, img_size - h)\n",
    "        imgs[i_img, x:x + w, y:y + h] = 1.\n",
    "        bboxes[i_img, i_object] = [x, y, w, h]\n",
    "        \n",
    "imgs.shape, bboxes.shape"
   ]
  },
  {
   "cell_type": "code",
   "execution_count": 3,
   "metadata": {
    "scrolled": true
   },
   "outputs": [
    {
     "data": {
      "image/png": "[encoded data removed]",
      "text/plain": [
       "<Figure size 432x288 with 1 Axes>"
      ]
     },
     "metadata": {
      "needs_background": "light"
     },
     "output_type": "display_data"
    }
   ],
   "source": [
    "i = 0\n",
    "plt.imshow(imgs[i].T, cmap = 'Greys', interpolation = 'none', origin = 'lower', extent = [0, img_size, 0, img_size])\n",
    "for bbox in bboxes[i]:\n",
    "    plt.gca().add_patch(matplotlib.patches.Rectangle((bbox[0], bbox[1]), bbox[2], bbox[3], lw = 2, ec = 'r', fc = 'none'))"
   ]
  },
  {
   "cell_type": "markdown",
   "metadata": {},
   "source": [
    "## Preprocessing"
   ]
  },
  {
   "cell_type": "code",
   "execution_count": 4,
   "metadata": {},
   "outputs": [
    {
     "data": {
      "text/plain": [
       "((50000, 64), 6.548095399239173e-17, 1.0000000000000002)"
      ]
     },
     "execution_count": 4,
     "metadata": {},
     "output_type": "execute_result"
    }
   ],
   "source": [
    "# Reshape and normalize the data to mean 0 and std 1. \n",
    "X = (imgs.reshape(num_imgs, -1) - np.mean(imgs)) / np.std(imgs)\n",
    "X.shape, np.mean(X), np.std(X)"
   ]
  },
  {
   "cell_type": "code",
   "execution_count": 5,
   "metadata": {},
   "outputs": [
    {
     "data": {
      "text/plain": [
       "((50000, 8), 0.2813375, 0.1752005328723346)"
      ]
     },
     "execution_count": 5,
     "metadata": {},
     "output_type": "execute_result"
    }
   ],
   "source": [
    "# Normalize x, y, w, h by img_size, so that all values are between 0 and 1.\n",
    "# Important: Do not shift to negative values (e.g. by setting to mean 0), because the IOU calculation needs positive w and h.\n",
    "y = bboxes.reshape(num_imgs, -1) / img_size\n",
    "y.shape, np.mean(y), np.std(y)"
   ]
  },
  {
   "cell_type": "markdown",
   "metadata": {},
   "source": [
    "## Train Test Split"
   ]
  },
  {
   "cell_type": "code",
   "execution_count": 6,
   "metadata": {},
   "outputs": [],
   "source": [
    "# Split training and test.\n",
    "i = int(0.8 * num_imgs)\n",
    "train_X = X[:i]\n",
    "test_X = X[i:]\n",
    "train_y = y[:i]\n",
    "test_y = y[i:]\n",
    "test_imgs = imgs[i:]\n",
    "test_bboxes = bboxes[i:]"
   ]
  },
  {
   "cell_type": "markdown",
   "metadata": {},
   "source": [
    "## CNN Model"
   ]
  },
  {
   "cell_type": "code",
   "execution_count": 75,
   "metadata": {
    "scrolled": false
   },
   "outputs": [
    {
     "name": "stdout",
     "output_type": "stream",
     "text": [
      "Model: \"sequential_1\"\n",
      "_________________________________________________________________\n",
      "Layer (type)                 Output Shape              Param #   \n",
      "=================================================================\n",
      "dense_2 (Dense)              (None, 256)               16640     \n",
      "_________________________________________________________________\n",
      "activation_1 (Activation)    (None, 256)               0         \n",
      "_________________________________________________________________\n",
      "dropout_1 (Dropout)          (None, 256)               0         \n",
      "_________________________________________________________________\n",
      "dense_3 (Dense)              (None, 8)                 2056      \n",
      "=================================================================\n",
      "Total params: 18,696\n",
      "Trainable params: 18,696\n",
      "Non-trainable params: 0\n",
      "_________________________________________________________________\n"
     ]
    }
   ],
   "source": [
    "# Build the model.\n",
    "from keras.models import Sequential\n",
    "from keras.layers import Dense, Activation, Dropout\n",
    "from keras.callbacks import ModelCheckpoint\n",
    "from keras.models import load_model\n",
    "model = Sequential([\n",
    "        Dense(256, input_dim = X.shape[-1]), \n",
    "        Activation('relu'), \n",
    "        Dropout(0.4), \n",
    "        Dense(y.shape[-1])\n",
    "        ])\n",
    "model.compile(loss = 'mse', optimizer = 'adam', metrics = ['accuracy'])\n",
    "model.summary()"
   ]
  },
  {
   "cell_type": "markdown",
   "metadata": {},
   "source": [
    "## IoU Calculating Function"
   ]
  },
  {
   "cell_type": "code",
   "execution_count": 8,
   "metadata": {},
   "outputs": [],
   "source": [
    "def IOU(bbox1, bbox2):\n",
    "    '''Calculate overlap between two bounding boxes [x, y, w, h] as the area of intersection over the area of unity'''\n",
    "    x1, y1, w1, h1 = bbox1[0], bbox1[1], bbox1[2], bbox1[3]\n",
    "    x2, y2, w2, h2 = bbox2[0], bbox2[1], bbox2[2], bbox2[3]\n",
    "\n",
    "    w_I = min(x1 + w1, x2 + w2) - max(x1, x2)\n",
    "    h_I = min(y1 + h1, y2 + h2) - max(y1, y2)\n",
    "    if w_I <= 0 or h_I <= 0:  # no overlap\n",
    "        return 0\n",
    "    I = w_I * h_I\n",
    "\n",
    "    U = w1 * h1 + w2 * h2 - I\n",
    "\n",
    "    return I / U"
   ]
  },
  {
   "cell_type": "markdown",
   "metadata": {},
   "source": [
    "## Distance Calculating function"
   ]
  },
  {
   "cell_type": "code",
   "execution_count": 9,
   "metadata": {},
   "outputs": [],
   "source": [
    "def distance(bbox1, bbox2):\n",
    "    return np.sqrt(np.sum(np.square(bbox1[:2] - bbox2[:2])))"
   ]
  },
  {
   "cell_type": "markdown",
   "metadata": {},
   "source": [
    "## Training"
   ]
  },
  {
   "cell_type": "code",
   "execution_count": 10,
   "metadata": {},
   "outputs": [
    {
     "name": "stdout",
     "output_type": "stream",
     "text": [
      "Epoch:  0\n",
      "1250/1250 [==============================] - 1s 1ms/step - loss: 0.0452 - accuracy: 0.2779 - val_loss: 0.0184 - val_accuracy: 0.3519\n",
      "Flipped 19101.0 training samples (47.7525 %)\n",
      "Mean IOU: 0.17005186476229364\n",
      "Mean dist: 0.20217401524631265\n",
      "Mean mse: 0.00834285103411052\n",
      "Epoch:  1\n",
      "1250/1250 [==============================] - 1s 883us/step - loss: 0.0167 - accuracy: 0.4533 - val_loss: 0.0190 - val_accuracy: 0.3699\n",
      "Flipped 8446.0 training samples (21.115000000000002 %)\n",
      "Mean IOU: 0.22284583843369254\n",
      "Mean dist: 0.16366880337625794\n",
      "Mean mse: 0.005987206328219746\n",
      "Epoch:  2\n",
      "1250/1250 [==============================] - 1s 875us/step - loss: 0.0127 - accuracy: 0.5441 - val_loss: 0.0214 - val_accuracy: 0.3780\n",
      "Flipped 4458.0 training samples (11.145 %)\n",
      "Mean IOU: 0.29993396517027243\n",
      "Mean dist: 0.13030961032047397\n",
      "Mean mse: 0.004360096361651221\n",
      "Epoch:  3\n",
      "1250/1250 [==============================] - 1s 1ms/step - loss: 0.0105 - accuracy: 0.5911 - val_loss: 0.0224 - val_accuracy: 0.3724\n",
      "Flipped 2933.0 training samples (7.3325000000000005 %)\n",
      "Mean IOU: 0.3414762184187864\n",
      "Mean dist: 0.11327082208728123\n",
      "Mean mse: 0.0035992419933756166\n",
      "Epoch:  4\n",
      "1250/1250 [==============================] - 1s 867us/step - loss: 0.0094 - accuracy: 0.6148 - val_loss: 0.0236 - val_accuracy: 0.3765\n",
      "Flipped 2306.0 training samples (5.765 %)\n",
      "Mean IOU: 0.37104545266278655\n",
      "Mean dist: 0.10313346147169518\n",
      "Mean mse: 0.0031581580715116255\n",
      "Epoch:  5\n",
      "1250/1250 [==============================] - 1s 862us/step - loss: 0.0086 - accuracy: 0.6331 - val_loss: 0.0238 - val_accuracy: 0.3787\n",
      "Flipped 2157.0 training samples (5.3925 %)\n",
      "Mean IOU: 0.39355235785522247\n",
      "Mean dist: 0.09588835717289611\n",
      "Mean mse: 0.002835975618383367\n",
      "Epoch:  6\n",
      "1250/1250 [==============================] - 1s 875us/step - loss: 0.0080 - accuracy: 0.6447 - val_loss: 0.0244 - val_accuracy: 0.3953\n",
      "Flipped 1696.0 training samples (4.24 %)\n",
      "Mean IOU: 0.4055182099897602\n",
      "Mean dist: 0.09100787391020486\n",
      "Mean mse: 0.002619272774349946\n",
      "Epoch:  7\n",
      "1250/1250 [==============================] - 1s 882us/step - loss: 0.0076 - accuracy: 0.6568 - val_loss: 0.0244 - val_accuracy: 0.3838\n",
      "Flipped 1555.0 training samples (3.8875 %)\n",
      "Mean IOU: 0.42153980190907286\n",
      "Mean dist: 0.08674033788087288\n",
      "Mean mse: 0.002485589404140609\n",
      "Epoch:  8\n",
      "1250/1250 [==============================] - 1s 868us/step - loss: 0.0073 - accuracy: 0.6612 - val_loss: 0.0247 - val_accuracy: 0.3822\n",
      "Flipped 1296.0 training samples (3.2399999999999998 %)\n",
      "Mean IOU: 0.4321369475125138\n",
      "Mean dist: 0.08428381275935344\n",
      "Mean mse: 0.0023625636486396713\n",
      "Epoch:  9\n",
      "1250/1250 [==============================] - 1s 899us/step - loss: 0.0071 - accuracy: 0.6699 - val_loss: 0.0248 - val_accuracy: 0.3856\n",
      "Flipped 1069.0 training samples (2.6725 %)\n",
      "Mean IOU: 0.44936687209095344\n",
      "Mean dist: 0.07970168299130352\n",
      "Mean mse: 0.002238311502215395\n",
      "Epoch:  10\n",
      "1250/1250 [==============================] - 1s 879us/step - loss: 0.0068 - accuracy: 0.6744 - val_loss: 0.0250 - val_accuracy: 0.3819\n",
      "Flipped 1132.0 training samples (2.83 %)\n",
      "Mean IOU: 0.44555249260859264\n",
      "Mean dist: 0.07833822890389218\n",
      "Mean mse: 0.0021583615637917964\n",
      "Epoch:  11\n",
      "1250/1250 [==============================] - 1s 958us/step - loss: 0.0068 - accuracy: 0.6785 - val_loss: 0.0250 - val_accuracy: 0.3962\n",
      "Flipped 1013.0 training samples (2.5325 %)\n",
      "Mean IOU: 0.46111419094792183\n",
      "Mean dist: 0.07542188888137295\n",
      "Mean mse: 0.002067397533064941\n",
      "Epoch:  12\n",
      "1250/1250 [==============================] - 1s 888us/step - loss: 0.0066 - accuracy: 0.6757 - val_loss: 0.0252 - val_accuracy: 0.4010\n",
      "Flipped 959.0 training samples (2.3975 %)\n",
      "Mean IOU: 0.46260669913154107\n",
      "Mean dist: 0.07389620334006507\n",
      "Mean mse: 0.0019999666823523536\n",
      "Epoch:  13\n",
      "1250/1250 [==============================] - 1s 877us/step - loss: 0.0065 - accuracy: 0.6827 - val_loss: 0.0255 - val_accuracy: 0.3911\n",
      "Flipped 829.0 training samples (2.0725000000000002 %)\n",
      "Mean IOU: 0.45892978200414475\n",
      "Mean dist: 0.07514215575629707\n",
      "Mean mse: 0.0020113061019525784\n",
      "Epoch:  14\n",
      "1250/1250 [==============================] - 1s 877us/step - loss: 0.0064 - accuracy: 0.6840 - val_loss: 0.0250 - val_accuracy: 0.3976\n",
      "Flipped 757.0 training samples (1.8925 %)\n",
      "Mean IOU: 0.458844312875566\n",
      "Mean dist: 0.0741374359267339\n",
      "Mean mse: 0.0019428362068595905\n",
      "Epoch:  15\n",
      "1250/1250 [==============================] - 1s 873us/step - loss: 0.0063 - accuracy: 0.6844 - val_loss: 0.0259 - val_accuracy: 0.4013\n",
      "Flipped 885.0 training samples (2.2125 %)\n",
      "Mean IOU: 0.47971741068325763\n",
      "Mean dist: 0.07097122791367039\n",
      "Mean mse: 0.0019109249535918561\n",
      "Epoch:  16\n",
      "1250/1250 [==============================] - 1s 921us/step - loss: 0.0062 - accuracy: 0.6908 - val_loss: 0.0255 - val_accuracy: 0.4001\n",
      "Flipped 702.0 training samples (1.755 %)\n",
      "Mean IOU: 0.47283311863519195\n",
      "Mean dist: 0.07044644557388545\n",
      "Mean mse: 0.0018577407596956632\n",
      "Epoch:  17\n",
      "1250/1250 [==============================] - 1s 938us/step - loss: 0.0062 - accuracy: 0.6901 - val_loss: 0.0257 - val_accuracy: 0.3876\n",
      "Flipped 635.0 training samples (1.5875 %)\n",
      "Mean IOU: 0.4800030270215024\n",
      "Mean dist: 0.07060156344314507\n",
      "Mean mse: 0.0018424724799930548\n",
      "Epoch:  18\n",
      "1250/1250 [==============================] - 1s 957us/step - loss: 0.0062 - accuracy: 0.6908 - val_loss: 0.0256 - val_accuracy: 0.3958\n",
      "Flipped 678.0 training samples (1.695 %)\n",
      "Mean IOU: 0.48233033892889654\n",
      "Mean dist: 0.06813202007636678\n",
      "Mean mse: 0.0018053675803513566\n",
      "Epoch:  19\n",
      "1250/1250 [==============================] - 1s 1ms/step - loss: 0.0061 - accuracy: 0.6926 - val_loss: 0.0253 - val_accuracy: 0.3959\n",
      "Flipped 703.0 training samples (1.7575 %)\n",
      "Mean IOU: 0.4759799866021099\n",
      "Mean dist: 0.07090592658008298\n",
      "Mean mse: 0.0018488155274959635\n",
      "Epoch:  20\n",
      "1250/1250 [==============================] - 1s 951us/step - loss: 0.0061 - accuracy: 0.6917 - val_loss: 0.0255 - val_accuracy: 0.4055\n",
      "Flipped 576.0 training samples (1.44 %)\n",
      "Mean IOU: 0.4728464400267192\n",
      "Mean dist: 0.07013374252312518\n",
      "Mean mse: 0.0018157847570142945\n",
      "Epoch:  21\n",
      "1250/1250 [==============================] - 1s 931us/step - loss: 0.0061 - accuracy: 0.6930 - val_loss: 0.0259 - val_accuracy: 0.4042\n",
      "Flipped 588.0 training samples (1.47 %)\n",
      "Mean IOU: 0.48221900907382925\n",
      "Mean dist: 0.06857384984779381\n",
      "Mean mse: 0.0017641402718010838\n",
      "Epoch:  22\n",
      "1250/1250 [==============================] - 1s 925us/step - loss: 0.0060 - accuracy: 0.6945 - val_loss: 0.0254 - val_accuracy: 0.3940\n",
      "Flipped 637.0 training samples (1.5925000000000002 %)\n",
      "Mean IOU: 0.4797688088222556\n",
      "Mean dist: 0.06758655548443128\n",
      "Mean mse: 0.001747822820480081\n",
      "Epoch:  23\n",
      "1250/1250 [==============================] - 1s 903us/step - loss: 0.0060 - accuracy: 0.6949 - val_loss: 0.0260 - val_accuracy: 0.3875\n",
      "Flipped 589.0 training samples (1.4725 %)\n",
      "Mean IOU: 0.48851953803621107\n",
      "Mean dist: 0.06737725642906861\n",
      "Mean mse: 0.0017614807777460975\n",
      "Epoch:  24\n",
      "1250/1250 [==============================] - 1s 897us/step - loss: 0.0060 - accuracy: 0.6975 - val_loss: 0.0257 - val_accuracy: 0.4072\n",
      "Flipped 530.0 training samples (1.325 %)\n",
      "Mean IOU: 0.482867287825509\n",
      "Mean dist: 0.06785462451970992\n",
      "Mean mse: 0.0017339041198530833\n",
      "Epoch:  25\n",
      "1250/1250 [==============================] - 1s 937us/step - loss: 0.0059 - accuracy: 0.6973 - val_loss: 0.0254 - val_accuracy: 0.3960\n",
      "Flipped 618.0 training samples (1.545 %)\n",
      "Mean IOU: 0.48644943401681323\n",
      "Mean dist: 0.06722013613332962\n",
      "Mean mse: 0.0017257952145345826\n",
      "Epoch:  26\n",
      "1250/1250 [==============================] - 1s 937us/step - loss: 0.0059 - accuracy: 0.6987 - val_loss: 0.0260 - val_accuracy: 0.3903\n",
      "Flipped 504.0 training samples (1.26 %)\n",
      "Mean IOU: 0.49199444491937905\n",
      "Mean dist: 0.06671193256186513\n",
      "Mean mse: 0.001713731604253794\n",
      "Epoch:  27\n",
      "1250/1250 [==============================] - 1s 884us/step - loss: 0.0059 - accuracy: 0.6962 - val_loss: 0.0256 - val_accuracy: 0.3957\n",
      "Flipped 549.0 training samples (1.3724999999999998 %)\n",
      "Mean IOU: 0.4816778526749269\n",
      "Mean dist: 0.06815378128040626\n",
      "Mean mse: 0.001715272822396042\n",
      "Epoch:  28\n",
      "1250/1250 [==============================] - 1s 869us/step - loss: 0.0059 - accuracy: 0.6962 - val_loss: 0.0257 - val_accuracy: 0.4067\n",
      "Flipped 507.0 training samples (1.2675 %)\n",
      "Mean IOU: 0.4906117712639639\n",
      "Mean dist: 0.06596345896410553\n",
      "Mean mse: 0.0016769382340425733\n",
      "Epoch:  29\n"
     ]
    },
    {
     "name": "stdout",
     "output_type": "stream",
     "text": [
      "1250/1250 [==============================] - 1s 876us/step - loss: 0.0059 - accuracy: 0.6995 - val_loss: 0.0255 - val_accuracy: 0.3935\n",
      "Flipped 738.0 training samples (1.8450000000000002 %)\n",
      "Mean IOU: 0.4940274990293467\n",
      "Mean dist: 0.06641751371406965\n",
      "Mean mse: 0.0017022500729946479\n",
      "Epoch:  30\n",
      "1250/1250 [==============================] - 1s 877us/step - loss: 0.0058 - accuracy: 0.7006 - val_loss: 0.0263 - val_accuracy: 0.3899\n",
      "Flipped 496.0 training samples (1.24 %)\n",
      "Mean IOU: 0.4946681467247728\n",
      "Mean dist: 0.06559355897676669\n",
      "Mean mse: 0.0016836343150201131\n",
      "Epoch:  31\n",
      "1250/1250 [==============================] - 1s 1ms/step - loss: 0.0059 - accuracy: 0.6964 - val_loss: 0.0263 - val_accuracy: 0.3938\n",
      "Flipped 457.0 training samples (1.1424999999999998 %)\n",
      "Mean IOU: 0.48605567755965073\n",
      "Mean dist: 0.06746304588762853\n",
      "Mean mse: 0.0016870240785164603\n",
      "Epoch:  32\n",
      "1250/1250 [==============================] - 1s 979us/step - loss: 0.0058 - accuracy: 0.7015 - val_loss: 0.0261 - val_accuracy: 0.3925\n",
      "Flipped 456.0 training samples (1.1400000000000001 %)\n",
      "Mean IOU: 0.4903843624208488\n",
      "Mean dist: 0.06568793709085105\n",
      "Mean mse: 0.0016721594054073606\n",
      "Epoch:  33\n",
      "1250/1250 [==============================] - 1s 872us/step - loss: 0.0058 - accuracy: 0.6995 - val_loss: 0.0260 - val_accuracy: 0.3959\n",
      "Flipped 496.0 training samples (1.24 %)\n",
      "Mean IOU: 0.4878567071455749\n",
      "Mean dist: 0.06624379115195811\n",
      "Mean mse: 0.0016712648386693273\n",
      "Epoch:  34\n",
      "1250/1250 [==============================] - 1s 865us/step - loss: 0.0058 - accuracy: 0.7006 - val_loss: 0.0256 - val_accuracy: 0.3914\n",
      "Flipped 458.0 training samples (1.145 %)\n",
      "Mean IOU: 0.49962095338457896\n",
      "Mean dist: 0.06398496027316701\n",
      "Mean mse: 0.0016130770773625446\n",
      "Epoch:  35\n",
      "1250/1250 [==============================] - 1s 889us/step - loss: 0.0058 - accuracy: 0.6979 - val_loss: 0.0261 - val_accuracy: 0.3976\n",
      "Flipped 492.0 training samples (1.23 %)\n",
      "Mean IOU: 0.488188618136959\n",
      "Mean dist: 0.06519357845802547\n",
      "Mean mse: 0.0016536260415463005\n",
      "Epoch:  36\n",
      "1250/1250 [==============================] - 1s 892us/step - loss: 0.0058 - accuracy: 0.7015 - val_loss: 0.0257 - val_accuracy: 0.3872\n",
      "Flipped 487.0 training samples (1.2175 %)\n",
      "Mean IOU: 0.48307163540327375\n",
      "Mean dist: 0.06587457718032201\n",
      "Mean mse: 0.001683989939638442\n",
      "Epoch:  37\n",
      "1250/1250 [==============================] - 1s 879us/step - loss: 0.0058 - accuracy: 0.6997 - val_loss: 0.0263 - val_accuracy: 0.3870\n",
      "Flipped 456.0 training samples (1.1400000000000001 %)\n",
      "Mean IOU: 0.4854363258325544\n",
      "Mean dist: 0.06709089828893096\n",
      "Mean mse: 0.0016718515254418918\n",
      "Epoch:  38\n",
      "1250/1250 [==============================] - 1s 871us/step - loss: 0.0058 - accuracy: 0.6999 - val_loss: 0.0258 - val_accuracy: 0.4008\n",
      "Flipped 437.0 training samples (1.0925 %)\n",
      "Mean IOU: 0.5054125685703306\n",
      "Mean dist: 0.06231694514939011\n",
      "Mean mse: 0.0015878436298157154\n",
      "Epoch:  39\n",
      "1250/1250 [==============================] - 1s 863us/step - loss: 0.0058 - accuracy: 0.7003 - val_loss: 0.0258 - val_accuracy: 0.3863\n",
      "Flipped 553.0 training samples (1.3825 %)\n",
      "Mean IOU: 0.4858809221256326\n",
      "Mean dist: 0.0670731473107977\n",
      "Mean mse: 0.001694407758340152\n",
      "Epoch:  40\n",
      "1250/1250 [==============================] - 1s 964us/step - loss: 0.0058 - accuracy: 0.7000 - val_loss: 0.0262 - val_accuracy: 0.3860\n",
      "Flipped 474.0 training samples (1.185 %)\n",
      "Mean IOU: 0.49983059053699763\n",
      "Mean dist: 0.0636309889846843\n",
      "Mean mse: 0.0015977837270937031\n",
      "Epoch:  41\n",
      "1250/1250 [==============================] - 1s 888us/step - loss: 0.0057 - accuracy: 0.7013 - val_loss: 0.0262 - val_accuracy: 0.3941\n",
      "Flipped 456.0 training samples (1.1400000000000001 %)\n",
      "Mean IOU: 0.5084713478263402\n",
      "Mean dist: 0.06258817260566514\n",
      "Mean mse: 0.0015939258101253402\n",
      "Epoch:  42\n",
      "1250/1250 [==============================] - 1s 910us/step - loss: 0.0058 - accuracy: 0.7018 - val_loss: 0.0254 - val_accuracy: 0.3901\n",
      "Flipped 494.0 training samples (1.2349999999999999 %)\n",
      "Mean IOU: 0.4936595146348368\n",
      "Mean dist: 0.06491063278585384\n",
      "Mean mse: 0.0016142489619907232\n",
      "Epoch:  43\n",
      "1250/1250 [==============================] - 1s 865us/step - loss: 0.0057 - accuracy: 0.7056 - val_loss: 0.0261 - val_accuracy: 0.3920\n",
      "Flipped 443.0 training samples (1.1075 %)\n",
      "Mean IOU: 0.4903874790387825\n",
      "Mean dist: 0.06561937336578558\n",
      "Mean mse: 0.0016326384741437014\n",
      "Epoch:  44\n",
      "1250/1250 [==============================] - 1s 927us/step - loss: 0.0057 - accuracy: 0.7035 - val_loss: 0.0260 - val_accuracy: 0.3938\n",
      "Flipped 458.0 training samples (1.145 %)\n",
      "Mean IOU: 0.4884823937685391\n",
      "Mean dist: 0.06590474915413853\n",
      "Mean mse: 0.0016317054089373044\n",
      "Epoch:  45\n",
      "1250/1250 [==============================] - 1s 883us/step - loss: 0.0057 - accuracy: 0.7064 - val_loss: 0.0257 - val_accuracy: 0.3843\n",
      "Flipped 594.0 training samples (1.485 %)\n",
      "Mean IOU: 0.49575768072471593\n",
      "Mean dist: 0.06403449155984252\n",
      "Mean mse: 0.001616514942914803\n",
      "Epoch:  46\n",
      "1250/1250 [==============================] - 1s 977us/step - loss: 0.0057 - accuracy: 0.7063 - val_loss: 0.0263 - val_accuracy: 0.3926\n",
      "Flipped 492.0 training samples (1.23 %)\n",
      "Mean IOU: 0.4969945626738515\n",
      "Mean dist: 0.06488861667676107\n",
      "Mean mse: 0.0016060854195927281\n",
      "Epoch:  47\n",
      "1250/1250 [==============================] - 1s 971us/step - loss: 0.0057 - accuracy: 0.7033 - val_loss: 0.0258 - val_accuracy: 0.3968\n",
      "Flipped 513.0 training samples (1.2825 %)\n",
      "Mean IOU: 0.5020827105317235\n",
      "Mean dist: 0.06325951490595466\n",
      "Mean mse: 0.0015930217589915148\n",
      "Epoch:  48\n",
      "1250/1250 [==============================] - 1s 996us/step - loss: 0.0057 - accuracy: 0.7032 - val_loss: 0.0252 - val_accuracy: 0.3727\n",
      "Flipped 512.0 training samples (1.28 %)\n",
      "Mean IOU: 0.4818487654399785\n",
      "Mean dist: 0.06822847926893146\n",
      "Mean mse: 0.0016714080846662973\n",
      "Epoch:  49\n",
      "1250/1250 [==============================] - 1s 929us/step - loss: 0.0057 - accuracy: 0.7053 - val_loss: 0.0258 - val_accuracy: 0.3892\n",
      "Flipped 487.0 training samples (1.2175 %)\n",
      "Mean IOU: 0.49176106100977124\n",
      "Mean dist: 0.06528689860762718\n",
      "Mean mse: 0.001638846344075499\n"
     ]
    }
   ],
   "source": [
    "# Since the model won't know which box to predict first, we have to flip bboxes during training.\n",
    "# In here, flipping bboxes means switching the data of two bboxes.\n",
    "# Note: The validation loss is always quite big here because we don't flip the bounding boxes for the validation data. \n",
    "\n",
    "num_epochs = 50\n",
    "flipped_train_y = np.array(train_y)\n",
    "flipped = np.zeros((len(flipped_train_y), num_epochs))\n",
    "ious_epoch = np.zeros((len(flipped_train_y), num_epochs))\n",
    "dists_epoch = np.zeros((len(flipped_train_y), num_epochs))\n",
    "mses_epoch = np.zeros((len(flipped_train_y), num_epochs))\n",
    "\n",
    "for epoch in range(num_epochs):\n",
    "    print(\"Epoch: \", epoch)\n",
    "    model.fit(train_X, flipped_train_y, epochs = 1, validation_data = (test_X, test_y), verbose = 1,\n",
    "              callbacks = [ModelCheckpoint('Two_Rectangles_model.h5',\n",
    "                                           monitor = 'val_accuracy',\n",
    "                                           save_best_only = True)])\n",
    "    model_test = load_model('Two_Rectangles_model.h5')\n",
    "    pred_y = model.predict(train_X)\n",
    "    \n",
    "    for i, (pred_bboxes, exp_bboxes) in enumerate(zip(pred_y, flipped_train_y)):\n",
    "        \n",
    "        flipped_exp_bboxes = np.concatenate([exp_bboxes[4:], exp_bboxes[:4]])\n",
    "        \n",
    "        mse = np.mean(np.square(pred_bboxes - exp_bboxes))\n",
    "        mse_flipped = np.mean(np.square(pred_bboxes - flipped_exp_bboxes))\n",
    "        \n",
    "        iou = IOU(pred_bboxes[:4], exp_bboxes[:4]) + IOU(pred_bboxes[4:], exp_bboxes[4:])\n",
    "        iou_flipped = IOU(pred_bboxes[:4], flipped_exp_bboxes[:4]) + IOU(pred_bboxes[4:], flipped_exp_bboxes[4:])\n",
    "        \n",
    "        dist = distance(pred_bboxes[:4], exp_bboxes[:4]) + distance(pred_bboxes[4:], exp_bboxes[4:])\n",
    "        dist_flipped = distance(pred_bboxes[:4], flipped_exp_bboxes[:4]) + distance(pred_bboxes[4:], flipped_exp_bboxes[4:])\n",
    "        \n",
    "        if mse_flipped < mse:  # you can also use iou or dist here\n",
    "            flipped_train_y[i] = flipped_exp_bboxes\n",
    "            flipped[i, epoch] = 1\n",
    "            mses_epoch[i, epoch] = mse_flipped / 2.\n",
    "            ious_epoch[i, epoch] = iou_flipped / 2.\n",
    "            dists_epoch[i, epoch] = dist_flipped / 2.\n",
    "        else:\n",
    "            mses_epoch[i, epoch] = mse / 2.\n",
    "            ious_epoch[i, epoch] = iou / 2.\n",
    "            dists_epoch[i, epoch] = dist / 2.\n",
    "            \n",
    "    print('Flipped {} training samples ({} %)'.format(np.sum(flipped[:, epoch]), np.mean(flipped[:, epoch]) * 100.))\n",
    "    print('Mean IOU: {}'.format(np.mean(ious_epoch[:, epoch])))\n",
    "    print('Mean dist: {}'.format(np.mean(dists_epoch[:, epoch])))\n",
    "    print('Mean mse: {}'.format(np.mean(mses_epoch[:, epoch])))"
   ]
  },
  {
   "cell_type": "markdown",
   "metadata": {},
   "source": [
    "## Flipping Track"
   ]
  },
  {
   "cell_type": "code",
   "execution_count": 74,
   "metadata": {},
   "outputs": [
    {
     "data": {
      "image/png": "[encoded data removed]",
      "text/plain": [
       "<Figure size 432x288 with 1 Axes>"
      ]
     },
     "metadata": {
      "needs_background": "light"
     },
     "output_type": "display_data"
    }
   ],
   "source": [
    "# Show flippings for a few training samples.\n",
    "'''Differences between pcolor() and pcolormesh(): \n",
    "   pcolormesh() is more specialized for the given purpose and thus is faster. It should almost always be preferred.'''\n",
    "plt.pcolormesh(flipped[:3000, :], cmap = 'Greys')\n",
    "plt.xlabel('Epoch')\n",
    "plt.ylabel('Training sample')\n",
    "plt.savefig('two-rectangles_flips.png', dpi = 100)\n",
    "plt.show()"
   ]
  },
  {
   "cell_type": "markdown",
   "metadata": {},
   "source": [
    "## Metrics Track"
   ]
  },
  {
   "cell_type": "code",
   "execution_count": 62,
   "metadata": {
    "scrolled": true
   },
   "outputs": [
    {
     "data": {
      "image/png": "[encoded data removed]",
      "text/plain": [
       "<Figure size 432x288 with 1 Axes>"
      ]
     },
     "metadata": {
      "needs_background": "light"
     },
     "output_type": "display_data"
    }
   ],
   "source": [
    "# Plot metrics on the training data. \n",
    "mean_ious_epoch = np.mean(ious_epoch, axis = 0)\n",
    "mean_dists_epoch = np.mean(dists_epoch, axis = 0)\n",
    "mean_mses_epoch = np.mean(mses_epoch, axis = 0)\n",
    "plt.plot(mean_ious_epoch, label = 'Mean IOU')  # between predicted and assigned true bboxes\n",
    "plt.plot(mean_dists_epoch, label = 'Mean distance')  # relative to image size\n",
    "plt.plot(mean_mses_epoch, label = 'Mean mse')\n",
    "# horizontalalignment = 'right': make the annotation text aligns with the right side\n",
    "plt.annotate(np.round(np.max(mean_ious_epoch), 3), (len(mean_ious_epoch) - 1, mean_ious_epoch[-1] + 0.02), horizontalalignment = 'right', color = 'purple')\n",
    "plt.annotate(np.round(np.min(mean_dists_epoch), 3), (len(mean_dists_epoch) - 1, mean_dists_epoch[-1] + 0.02), horizontalalignment = 'right', color = 'g')\n",
    "plt.annotate(np.round(np.min(mean_mses_epoch), 3), (len(mean_mses_epoch) - 1, mean_mses_epoch[-1] + 0.02), horizontalalignment = 'right', color = 'r')\n",
    "\n",
    "# Hide y tick\n",
    "ax = plt.gca()\n",
    "ax.axes.yaxis.set_visible(False)\n",
    "\n",
    "plt.legend()\n",
    "plt.ylim(0, 0.8)\n",
    "plt.savefig('training_metrics.png', dpi = 100)"
   ]
  },
  {
   "cell_type": "markdown",
   "metadata": {},
   "source": [
    "## Denormalize Data"
   ]
  },
  {
   "cell_type": "code",
   "execution_count": 66,
   "metadata": {},
   "outputs": [
    {
     "data": {
      "text/plain": [
       "(10000, 2, 4)"
      ]
     },
     "execution_count": 66,
     "metadata": {},
     "output_type": "execute_result"
    }
   ],
   "source": [
    "# Predict bounding boxes on the test images.\n",
    "pred_y = model.predict(test_X)\n",
    "pred_bboxes = pred_y * img_size\n",
    "pred_bboxes = pred_bboxes.reshape(len(pred_bboxes), num_objects, -1)\n",
    "pred_bboxes.shape"
   ]
  },
  {
   "cell_type": "markdown",
   "metadata": {},
   "source": [
    "## Visualized Results"
   ]
  },
  {
   "cell_type": "code",
   "execution_count": 71,
   "metadata": {},
   "outputs": [
    {
     "data": {
      "image/png": "[encoded data removed]",
      "text/plain": [
       "<Figure size 864x216 with 4 Axes>"
      ]
     },
     "metadata": {
      "needs_background": "light"
     },
     "output_type": "display_data"
    }
   ],
   "source": [
    "# Show a few images and predicted bounding boxes from the test dataset. \n",
    "plt.figure(figsize = (12, 3))\n",
    "for i_subplot in range(1, 5):\n",
    "    plt.subplot(1, 4, i_subplot)\n",
    "    i = np.random.randint(len(test_X))\n",
    "    plt.imshow(test_imgs[i].T, cmap = 'Greys', interpolation = 'none', origin = 'lower', extent = [0, img_size, 0, img_size])\n",
    "    for pred_bbox, exp_bbox in zip(pred_bboxes[i], test_bboxes[i]):\n",
    "        plt.gca().add_patch(matplotlib.patches.Rectangle((pred_bbox[0], pred_bbox[1]), pred_bbox[2], pred_bbox[3], lw = 2, ec = 'r', fc = 'none'))\n",
    "\n",
    "plt.savefig('two-rectangles_with-flipping.png', dpi = 100)"
   ]
  },
  {
   "cell_type": "code",
   "execution_count": null,
   "metadata": {},
   "outputs": [],
   "source": []
  }
 ],
 "metadata": {
  "kernelspec": {
   "display_name": "Python (tensorflow-gpu)",
   "language": "python",
   "name": "tf-gpu"
  },
  "language_info": {
   "codemirror_mode": {
    "name": "ipython",
    "version": 3
   },
   "file_extension": ".py",
   "mimetype": "text/x-python",
   "name": "python",
   "nbconvert_exporter": "python",
   "pygments_lexer": "ipython3",
   "version": "3.8.3"
  }
 },
 "nbformat": 4,
 "nbformat_minor": 4
}
