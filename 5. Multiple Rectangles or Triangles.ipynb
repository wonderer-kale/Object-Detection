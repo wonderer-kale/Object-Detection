{
 "cells": [
  {
   "cell_type": "markdown",
   "metadata": {},
   "source": [
    "# Multiple Rectangles or Triangles"
   ]
  },
  {
   "cell_type": "markdown",
   "metadata": {},
   "source": [
    "## Import Packages"
   ]
  },
  {
   "cell_type": "code",
   "execution_count": 1,
   "metadata": {
    "ExecuteTime": {
     "end_time": "2016-07-03T16:03:53.170000",
     "start_time": "2016-07-03T16:03:52.500000"
    }
   },
   "outputs": [],
   "source": [
    "import numpy as np\n",
    "import matplotlib.pyplot as plt\n",
    "import math\n",
    "import matplotlib\n",
    "%matplotlib inline"
   ]
  },
  {
   "cell_type": "markdown",
   "metadata": {},
   "source": [
    "## Data Generation"
   ]
  },
  {
   "cell_type": "code",
   "execution_count": 2,
   "metadata": {
    "ExecuteTime": {
     "end_time": "2016-07-03T16:16:34.666000",
     "start_time": "2016-07-03T16:16:28.832000"
    }
   },
   "outputs": [
    {
     "data": {
      "text/plain": [
       "((50000, 16, 16), (50000, 3, 4))"
      ]
     },
     "execution_count": 2,
     "metadata": {},
     "output_type": "execute_result"
    }
   ],
   "source": [
    "num_imgs = 50000\n",
    "\n",
    "img_size = 16\n",
    "min_rect_size = 4\n",
    "max_rect_size = 7\n",
    "num_objects = 3\n",
    "\n",
    "bboxes = np.zeros((num_imgs, num_objects, 4))\n",
    "imgs = np.zeros((num_imgs, img_size, img_size))\n",
    "shapes = np.zeros((num_imgs, num_objects, 1))\n",
    "\n",
    "for i_img in range(num_imgs):\n",
    "    for i_object in range(num_objects):\n",
    "        if np.random.choice([True, False]):\n",
    "            width, height = np.random.randint(min_rect_size, max_rect_size, size = 2)\n",
    "            x = np.random.randint(0, img_size - width)\n",
    "            y = np.random.randint(0, img_size - height)\n",
    "            imgs[i_img, x:x + width, y:y + height] = 1.\n",
    "            bboxes[i_img, i_object] = [x, y, width, height]\n",
    "            shapes[i_img, i_object] = [0]\n",
    "        else:\n",
    "            size = np.random.randint(min_rect_size, max_rect_size)\n",
    "            x, y = np.random.randint(0, img_size - size, size = 2)\n",
    "            mask = np.tril_indices(size)\n",
    "            imgs[i_img, x + mask[0], y + mask[1]] = 1.\n",
    "            bboxes[i_img, i_object] = [x, y, size, size]\n",
    "            shapes[i_img, i_object] = [1]\n",
    "            \n",
    "imgs.shape, bboxes.shape"
   ]
  },
  {
   "cell_type": "code",
   "execution_count": 5,
   "metadata": {
    "ExecuteTime": {
     "end_time": "2016-07-03T16:16:38.997000",
     "start_time": "2016-07-03T16:16:38.662000"
    },
    "scrolled": true
   },
   "outputs": [
    {
     "data": {
      "image/png": "[encoded data removed]",
      "text/plain": [
       "<Figure size 432x288 with 1 Axes>"
      ]
     },
     "metadata": {
      "needs_background": "light"
     },
     "output_type": "display_data"
    }
   ],
   "source": [
    "i = 2\n",
    "plt.imshow(imgs[i].T, cmap = 'Greys', interpolation = 'none', origin = 'lower', extent = [0, img_size, 0, img_size])\n",
    "for bbox, shape in zip(bboxes[i], shapes[i]):\n",
    "    plt.gca().add_patch(matplotlib.patches.Rectangle((bbox[0], bbox[1]), bbox[2], bbox[3], lw = 2, ec = 'r' if shape[0] == 0 else 'b', fc = 'none'))\n",
    "plt.savefig('multiple-rectangles-or-triangles_data.png', dpi = 100)"
   ]
  },
  {
   "cell_type": "markdown",
   "metadata": {},
   "source": [
    "## Preprocessing"
   ]
  },
  {
   "cell_type": "code",
   "execution_count": 6,
   "metadata": {
    "ExecuteTime": {
     "end_time": "2016-07-03T16:16:41.668000",
     "start_time": "2016-07-03T16:16:41.115000"
    }
   },
   "outputs": [
    {
     "data": {
      "text/plain": [
       "((50000, 256), -6.524336626512194e-17, 1.0000000000000007)"
      ]
     },
     "execution_count": 6,
     "metadata": {},
     "output_type": "execute_result"
    }
   ],
   "source": [
    "X = (imgs.reshape(num_imgs, -1) - np.mean(imgs)) / np.std(imgs)\n",
    "X.shape, np.mean(X), np.std(X)"
   ]
  },
  {
   "cell_type": "code",
   "execution_count": 7,
   "metadata": {
    "ExecuteTime": {
     "end_time": "2016-07-03T16:16:42.640000",
     "start_time": "2016-07-03T16:16:42.627000"
    }
   },
   "outputs": [
    {
     "data": {
      "text/plain": [
       "(50000, 15)"
      ]
     },
     "execution_count": 7,
     "metadata": {},
     "output_type": "execute_result"
    }
   ],
   "source": [
    "y = np.concatenate([bboxes / img_size, shapes], axis = -1).reshape(num_imgs, -1)\n",
    "y.shape"
   ]
  },
  {
   "cell_type": "markdown",
   "metadata": {},
   "source": [
    "## Train Test Split"
   ]
  },
  {
   "cell_type": "code",
   "execution_count": 8,
   "metadata": {
    "ExecuteTime": {
     "end_time": "2016-07-03T16:16:43.445000",
     "start_time": "2016-07-03T16:16:43.437000"
    }
   },
   "outputs": [],
   "source": [
    "i = int(0.8 * num_imgs)\n",
    "train_X = X[:i]\n",
    "test_X = X[i:]\n",
    "train_y = y[:i]\n",
    "test_y = y[i:]\n",
    "test_imgs = imgs[i:]\n",
    "test_bboxes = bboxes[i:]"
   ]
  },
  {
   "cell_type": "markdown",
   "metadata": {},
   "source": [
    "## Model"
   ]
  },
  {
   "cell_type": "code",
   "execution_count": 9,
   "metadata": {
    "ExecuteTime": {
     "end_time": "2016-07-03T16:16:44.266000",
     "start_time": "2016-07-03T16:16:44.145000"
    },
    "scrolled": true
   },
   "outputs": [
    {
     "name": "stdout",
     "output_type": "stream",
     "text": [
      "Model: \"sequential\"\n",
      "_________________________________________________________________\n",
      "Layer (type)                 Output Shape              Param #   \n",
      "=================================================================\n",
      "dense (Dense)                (None, 256)               65792     \n",
      "_________________________________________________________________\n",
      "activation (Activation)      (None, 256)               0         \n",
      "_________________________________________________________________\n",
      "dropout (Dropout)            (None, 256)               0         \n",
      "_________________________________________________________________\n",
      "dense_1 (Dense)              (None, 15)                3855      \n",
      "=================================================================\n",
      "Total params: 69,647\n",
      "Trainable params: 69,647\n",
      "Non-trainable params: 0\n",
      "_________________________________________________________________\n"
     ]
    }
   ],
   "source": [
    "from keras.models import Sequential\n",
    "from keras.layers import Dense, Activation, Dropout\n",
    "from keras.callbacks import ModelCheckpoint\n",
    "model = Sequential([\n",
    "        Dense(256, input_dim = X.shape[-1]), \n",
    "        Activation('relu'), \n",
    "        Dropout(0.5), \n",
    "        Dense(y.shape[-1])\n",
    "    ])\n",
    "model.compile(loss = 'mse', optimizer = 'adam')\n",
    "model.summary()"
   ]
  },
  {
   "cell_type": "markdown",
   "metadata": {},
   "source": [
    "## IoU Calculating Function"
   ]
  },
  {
   "cell_type": "code",
   "execution_count": 10,
   "metadata": {},
   "outputs": [],
   "source": [
    "def IOU(bbox1, bbox2):\n",
    "    '''Calculate overlap between two bounding boxes [x, y, w, h] as the area of intersection over the area of unity'''\n",
    "    x1, y1, w1, h1 = bbox1[0], bbox1[1], bbox1[2], bbox1[3]  # TODO: Check if its more performant if tensor elements are accessed directly below.\n",
    "    x2, y2, w2, h2 = bbox2[0], bbox2[1], bbox2[2], bbox2[3]\n",
    "\n",
    "    w_I = min(x1 + w1, x2 + w2) - max(x1, x2)\n",
    "    h_I = min(y1 + h1, y2 + h2) - max(y1, y2)\n",
    "    if w_I <= 0 or h_I <= 0:  # no overlap\n",
    "        return 0\n",
    "    I = w_I * h_I\n",
    "\n",
    "    U = w1 * h1 + w2 * h2 - I\n",
    "\n",
    "    return I / U"
   ]
  },
  {
   "cell_type": "markdown",
   "metadata": {},
   "source": [
    "## Distance Calculating Function"
   ]
  },
  {
   "cell_type": "code",
   "execution_count": 11,
   "metadata": {},
   "outputs": [],
   "source": [
    "def distance(bbox1, bbox2):\n",
    "    return np.sqrt(np.sum(np.square(bbox1[:2] - bbox2[:2])))"
   ]
  },
  {
   "cell_type": "markdown",
   "metadata": {},
   "source": [
    "## Training"
   ]
  },
  {
   "cell_type": "code",
   "execution_count": 12,
   "metadata": {
    "scrolled": false
   },
   "outputs": [
    {
     "name": "stdout",
     "output_type": "stream",
     "text": [
      "Epoch  0\n",
      "1250/1250 [==============================] - 1s 964us/step - loss: 0.0972 - val_loss: 0.0575\n",
      "Switched 82.6 % of all elements\n",
      "Mean IOU: 0.18944549519625695\n",
      "Mean dist: 0.2236604466902173\n",
      "Mean mse: 0.01603598749750811\n",
      "Epoch  1\n",
      "1250/1250 [==============================] - 1s 894us/step - loss: 0.0569 - val_loss: 0.0565\n",
      "Switched 51.287499999999994 % of all elements\n",
      "Mean IOU: 0.250454470507982\n",
      "Mean dist: 0.1902584447937736\n",
      "Mean mse: 0.01231430257451852\n",
      "Epoch  2\n",
      "1250/1250 [==============================] - 1s 895us/step - loss: 0.0525 - val_loss: 0.0582\n",
      "Switched 31.802500000000002 % of all elements\n",
      "Mean IOU: 0.3069578347803728\n",
      "Mean dist: 0.16335155704904486\n",
      "Mean mse: 0.009670852810736767\n",
      "Epoch  3\n",
      "1250/1250 [==============================] - 1s 914us/step - loss: 0.0485 - val_loss: 0.0596\n",
      "Switched 21.892500000000002 % of all elements\n",
      "Mean IOU: 0.3418720410034527\n",
      "Mean dist: 0.14832481116760596\n",
      "Mean mse: 0.0083279530358739\n",
      "Epoch  4\n",
      "1250/1250 [==============================] - 1s 896us/step - loss: 0.0455 - val_loss: 0.0606\n",
      "Switched 15.7325 % of all elements\n",
      "Mean IOU: 0.36991661572912354\n",
      "Mean dist: 0.13893025555342814\n",
      "Mean mse: 0.007590027537017861\n",
      "Epoch  5\n",
      "1250/1250 [==============================] - 1s 877us/step - loss: 0.0434 - val_loss: 0.0621\n",
      "Switched 13.34 % of all elements\n",
      "Mean IOU: 0.38704542098774575\n",
      "Mean dist: 0.13128282952327996\n",
      "Mean mse: 0.006929819309624574\n",
      "Epoch  6\n",
      "1250/1250 [==============================] - 1s 894us/step - loss: 0.0415 - val_loss: 0.0623\n",
      "Switched 10.1975 % of all elements\n",
      "Mean IOU: 0.40566284254729895\n",
      "Mean dist: 0.1259524663113222\n",
      "Mean mse: 0.006601305639884869\n",
      "Epoch  7\n",
      "1250/1250 [==============================] - 1s 906us/step - loss: 0.0403 - val_loss: 0.0635\n",
      "Switched 8.77 % of all elements\n",
      "Mean IOU: 0.40938383436089526\n",
      "Mean dist: 0.12383128295971983\n",
      "Mean mse: 0.006384799465920356\n",
      "Epoch  8\n",
      "1250/1250 [==============================] - 1s 879us/step - loss: 0.0393 - val_loss: 0.0636\n",
      "Switched 7.9399999999999995 % of all elements\n",
      "Mean IOU: 0.41676080529814136\n",
      "Mean dist: 0.12113803689211688\n",
      "Mean mse: 0.006226119805446106\n",
      "Epoch  9\n",
      "1250/1250 [==============================] - 1s 892us/step - loss: 0.0383 - val_loss: 0.0637\n",
      "Switched 8.48 % of all elements\n",
      "Mean IOU: 0.430574212888763\n",
      "Mean dist: 0.11713929143016785\n",
      "Mean mse: 0.005916331456182758\n",
      "Epoch  10\n",
      "1250/1250 [==============================] - 1s 1ms/step - loss: 0.0377 - val_loss: 0.0646\n",
      "Switched 7.2225 % of all elements\n",
      "Mean IOU: 0.4263050633801219\n",
      "Mean dist: 0.1179270277139912\n",
      "Mean mse: 0.005961969300713581\n",
      "Epoch  11\n",
      "1250/1250 [==============================] - 1s 858us/step - loss: 0.0371 - val_loss: 0.0639\n",
      "Switched 7.4175 % of all elements\n",
      "Mean IOU: 0.4320150581744041\n",
      "Mean dist: 0.11552387965395294\n",
      "Mean mse: 0.005783775148645585\n",
      "Epoch  12\n",
      "1250/1250 [==============================] - 1s 855us/step - loss: 0.0367 - val_loss: 0.0651\n",
      "Switched 7.364999999999999 % of all elements\n",
      "Mean IOU: 0.4381518494150059\n",
      "Mean dist: 0.11342547577401535\n",
      "Mean mse: 0.0056844224242737044\n",
      "Epoch  13\n",
      "1250/1250 [==============================] - 1s 891us/step - loss: 0.0363 - val_loss: 0.0652\n",
      "Switched 7.545 % of all elements\n",
      "Mean IOU: 0.4371427942924063\n",
      "Mean dist: 0.11516564985643149\n",
      "Mean mse: 0.00575891709560779\n",
      "Epoch  14\n",
      "1250/1250 [==============================] - 1s 880us/step - loss: 0.0360 - val_loss: 0.0646\n",
      "Switched 7.8525 % of all elements\n",
      "Mean IOU: 0.44177598318039946\n",
      "Mean dist: 0.11290359836966415\n",
      "Mean mse: 0.005610518790548576\n",
      "Epoch  15\n",
      "1250/1250 [==============================] - 1s 842us/step - loss: 0.0357 - val_loss: 0.0642\n",
      "Switched 7.8825 % of all elements\n",
      "Mean IOU: 0.43085588548626363\n",
      "Mean dist: 0.11554618096186195\n",
      "Mean mse: 0.0057871414049688805\n",
      "Epoch  16\n",
      "1250/1250 [==============================] - 1s 901us/step - loss: 0.0354 - val_loss: 0.0647\n",
      "Switched 8.43 % of all elements\n",
      "Mean IOU: 0.4431295833831246\n",
      "Mean dist: 0.11309842995055593\n",
      "Mean mse: 0.0056536966488365216\n",
      "Epoch  17\n",
      "1250/1250 [==============================] - 1s 891us/step - loss: 0.0352 - val_loss: 0.0642\n",
      "Switched 7.6274999999999995 % of all elements\n",
      "Mean IOU: 0.43136263384986695\n",
      "Mean dist: 0.11513832259394914\n",
      "Mean mse: 0.005749296130437874\n",
      "Epoch  18\n",
      "1250/1250 [==============================] - 1s 888us/step - loss: 0.0350 - val_loss: 0.0653\n",
      "Switched 6.805 % of all elements\n",
      "Mean IOU: 0.4417527208484453\n",
      "Mean dist: 0.11303272136163724\n",
      "Mean mse: 0.00565863102455297\n",
      "Epoch  19\n",
      "1250/1250 [==============================] - 1s 860us/step - loss: 0.0349 - val_loss: 0.0644\n",
      "Switched 6.845 % of all elements\n",
      "Mean IOU: 0.4379039107454382\n",
      "Mean dist: 0.11280381608226674\n",
      "Mean mse: 0.005618699436696423\n",
      "Epoch  20\n",
      "1250/1250 [==============================] - 1s 859us/step - loss: 0.0347 - val_loss: 0.0655\n",
      "Switched 7.765 % of all elements\n",
      "Mean IOU: 0.4384655405096775\n",
      "Mean dist: 0.11276896617156322\n",
      "Mean mse: 0.005608214252281398\n",
      "Epoch  21\n",
      "1250/1250 [==============================] - 1s 914us/step - loss: 0.0345 - val_loss: 0.0649\n",
      "Switched 6.909999999999999 % of all elements\n",
      "Mean IOU: 0.43541457806028466\n",
      "Mean dist: 0.11337990270691635\n",
      "Mean mse: 0.005696430922446474\n",
      "Epoch  22\n",
      "1250/1250 [==============================] - 1s 893us/step - loss: 0.0345 - val_loss: 0.0649\n",
      "Switched 7.385 % of all elements\n",
      "Mean IOU: 0.4310981638235431\n",
      "Mean dist: 0.11522832392214145\n",
      "Mean mse: 0.005793726494780821\n",
      "Epoch  23\n",
      "1250/1250 [==============================] - 1s 878us/step - loss: 0.0343 - val_loss: 0.0655\n",
      "Switched 7.0925 % of all elements\n",
      "Mean IOU: 0.4242346990779316\n",
      "Mean dist: 0.11719104897614839\n",
      "Mean mse: 0.005877407935261898\n",
      "Epoch  24\n",
      "1250/1250 [==============================] - 1s 866us/step - loss: 0.0341 - val_loss: 0.0657\n",
      "Switched 6.797499999999999 % of all elements\n",
      "Mean IOU: 0.43920872517762083\n",
      "Mean dist: 0.11266071423056301\n",
      "Mean mse: 0.005669277100982816\n",
      "Epoch  25\n",
      "1250/1250 [==============================] - 1s 870us/step - loss: 0.0340 - val_loss: 0.0653\n",
      "Switched 6.9 % of all elements\n",
      "Mean IOU: 0.4311417043775987\n",
      "Mean dist: 0.11551081773196181\n",
      "Mean mse: 0.0058090694961233265\n",
      "Epoch  26\n",
      "1250/1250 [==============================] - 1s 848us/step - loss: 0.0341 - val_loss: 0.0656\n",
      "Switched 7.5475 % of all elements\n",
      "Mean IOU: 0.43403546429792106\n",
      "Mean dist: 0.11484243275586156\n",
      "Mean mse: 0.005783673820044438\n",
      "Epoch  27\n",
      "1250/1250 [==============================] - 1s 867us/step - loss: 0.0338 - val_loss: 0.0650\n",
      "Switched 7.090000000000001 % of all elements\n",
      "Mean IOU: 0.43038855001540605\n",
      "Mean dist: 0.1170285681020645\n",
      "Mean mse: 0.005934658526761165\n",
      "Epoch  28\n",
      "1250/1250 [==============================] - 1s 850us/step - loss: 0.0338 - val_loss: 0.0652\n",
      "Switched 7.025 % of all elements\n",
      "Mean IOU: 0.4410596623947882\n",
      "Mean dist: 0.1116556366865063\n",
      "Mean mse: 0.0055479593194424906\n",
      "Epoch  29\n",
      "1250/1250 [==============================] - 1s 865us/step - loss: 0.0336 - val_loss: 0.0655\n",
      "Switched 7.285 % of all elements\n",
      "Mean IOU: 0.42990229482682224\n",
      "Mean dist: 0.11475101083129256\n",
      "Mean mse: 0.0057726459615519456\n",
      "Epoch  30\n",
      "1250/1250 [==============================] - 1s 854us/step - loss: 0.0336 - val_loss: 0.0653\n",
      "Switched 7.074999999999999 % of all elements\n",
      "Mean IOU: 0.43637850206541734\n",
      "Mean dist: 0.1146765881656602\n",
      "Mean mse: 0.005729176781123023\n",
      "Epoch  31\n",
      "1250/1250 [==============================] - 1s 893us/step - loss: 0.0334 - val_loss: 0.0660\n",
      "Switched 7.630000000000001 % of all elements\n",
      "Mean IOU: 0.4313910113287897\n",
      "Mean dist: 0.11484674915719102\n",
      "Mean mse: 0.005801886557071991\n",
      "Epoch  32\n",
      "1250/1250 [==============================] - 1s 928us/step - loss: 0.0334 - val_loss: 0.0661\n",
      "Switched 6.6525 % of all elements\n",
      "Mean IOU: 0.4465827372039339\n",
      "Mean dist: 0.11121643508611169\n",
      "Mean mse: 0.005520021219230521\n",
      "Epoch  33\n",
      "1250/1250 [==============================] - 1s 857us/step - loss: 0.0334 - val_loss: 0.0662\n",
      "Switched 6.3950000000000005 % of all elements\n",
      "Mean IOU: 0.4382147101509119\n",
      "Mean dist: 0.11275597302329401\n",
      "Mean mse: 0.005630652959358315\n",
      "Epoch  34\n",
      "1250/1250 [==============================] - 1s 878us/step - loss: 0.0334 - val_loss: 0.0664\n",
      "Switched 6.550000000000001 % of all elements\n",
      "Mean IOU: 0.43350320385425184\n",
      "Mean dist: 0.11578578527470886\n",
      "Mean mse: 0.005812919164262925\n",
      "Epoch  35\n",
      "1250/1250 [==============================] - 1s 878us/step - loss: 0.0332 - val_loss: 0.0658\n"
     ]
    },
    {
     "name": "stdout",
     "output_type": "stream",
     "text": [
      "Switched 6.6925 % of all elements\n",
      "Mean IOU: 0.4435129902885101\n",
      "Mean dist: 0.11222889950085316\n",
      "Mean mse: 0.005566153016222218\n",
      "Epoch  36\n",
      "1250/1250 [==============================] - 1s 844us/step - loss: 0.0331 - val_loss: 0.0656\n",
      "Switched 6.734999999999999 % of all elements\n",
      "Mean IOU: 0.4400335101695002\n",
      "Mean dist: 0.11289460591774289\n",
      "Mean mse: 0.005639044217863245\n",
      "Epoch  37\n",
      "1250/1250 [==============================] - 1s 906us/step - loss: 0.0331 - val_loss: 0.0659\n",
      "Switched 6.950000000000001 % of all elements\n",
      "Mean IOU: 0.4306126643264213\n",
      "Mean dist: 0.11521356679725664\n",
      "Mean mse: 0.005732587758013681\n",
      "Epoch  38\n",
      "1250/1250 [==============================] - 1s 898us/step - loss: 0.0331 - val_loss: 0.0662\n",
      "Switched 6.800000000000001 % of all elements\n",
      "Mean IOU: 0.4365445616708612\n",
      "Mean dist: 0.11291993892098764\n",
      "Mean mse: 0.005641067864681917\n",
      "Epoch  39\n",
      "1250/1250 [==============================] - 1s 870us/step - loss: 0.0330 - val_loss: 0.0661\n",
      "Switched 7.405 % of all elements\n",
      "Mean IOU: 0.4407834521095551\n",
      "Mean dist: 0.11197973804007717\n",
      "Mean mse: 0.005528793252615646\n",
      "Epoch  40\n",
      "1250/1250 [==============================] - 1s 851us/step - loss: 0.0328 - val_loss: 0.0656\n",
      "Switched 7.04 % of all elements\n",
      "Mean IOU: 0.4321699999924615\n",
      "Mean dist: 0.11364033611364575\n",
      "Mean mse: 0.005652030815057381\n",
      "Epoch  41\n",
      "1250/1250 [==============================] - 1s 911us/step - loss: 0.0329 - val_loss: 0.0664\n",
      "Switched 7.317500000000001 % of all elements\n",
      "Mean IOU: 0.4466608648460058\n",
      "Mean dist: 0.10977864717482741\n",
      "Mean mse: 0.005432038014785623\n",
      "Epoch  42\n",
      "1250/1250 [==============================] - 1s 858us/step - loss: 0.0329 - val_loss: 0.0674\n",
      "Switched 7.0874999999999995 % of all elements\n",
      "Mean IOU: 0.4281359499385375\n",
      "Mean dist: 0.11515530385952716\n",
      "Mean mse: 0.0057813589162197705\n",
      "Epoch  43\n",
      "1250/1250 [==============================] - 1s 900us/step - loss: 0.0326 - val_loss: 0.0661\n",
      "Switched 6.8500000000000005 % of all elements\n",
      "Mean IOU: 0.4462429396064791\n",
      "Mean dist: 0.10942855560179544\n",
      "Mean mse: 0.005405799811097198\n",
      "Epoch  44\n",
      "1250/1250 [==============================] - 1s 890us/step - loss: 0.0328 - val_loss: 0.0670\n",
      "Switched 6.9575 % of all elements\n",
      "Mean IOU: 0.45097187084507967\n",
      "Mean dist: 0.11024210374490799\n",
      "Mean mse: 0.005480716446636305\n",
      "Epoch  45\n",
      "1250/1250 [==============================] - 1s 902us/step - loss: 0.0327 - val_loss: 0.0649\n",
      "Switched 6.557499999999999 % of all elements\n",
      "Mean IOU: 0.4377140381486952\n",
      "Mean dist: 0.11336095475504313\n",
      "Mean mse: 0.005639774495137839\n",
      "Epoch  46\n",
      "1250/1250 [==============================] - 1s 879us/step - loss: 0.0325 - val_loss: 0.0654\n",
      "Switched 6.9175 % of all elements\n",
      "Mean IOU: 0.440804378532421\n",
      "Mean dist: 0.11180010906288965\n",
      "Mean mse: 0.005569403139693563\n",
      "Epoch  47\n",
      "1250/1250 [==============================] - 1s 901us/step - loss: 0.0325 - val_loss: 0.0666\n",
      "Switched 6.7275 % of all elements\n",
      "Mean IOU: 0.45199603401686206\n",
      "Mean dist: 0.10894407946733523\n",
      "Mean mse: 0.005342216112304689\n",
      "Epoch  48\n",
      "1250/1250 [==============================] - 1s 864us/step - loss: 0.0324 - val_loss: 0.0659\n",
      "Switched 7.115 % of all elements\n",
      "Mean IOU: 0.44168109769773867\n",
      "Mean dist: 0.11138912521760069\n",
      "Mean mse: 0.005526458975800052\n",
      "Epoch  49\n",
      "1250/1250 [==============================] - 1s 864us/step - loss: 0.0324 - val_loss: 0.0655\n",
      "Switched 7.6850000000000005 % of all elements\n",
      "Mean IOU: 0.43605139984990726\n",
      "Mean dist: 0.11249095421701816\n",
      "Mean mse: 0.005557567372493871\n"
     ]
    }
   ],
   "source": [
    "from itertools import permutations\n",
    "num_epochs = 50\n",
    "iou_max = 0.\n",
    "fact = math.factorial(num_objects)\n",
    "\n",
    "switched_train_y = np.array(train_y)\n",
    "switched = np.zeros((len(switched_train_y), num_epochs))\n",
    "ious_epochs = np.zeros((len(switched_train_y), num_epochs))\n",
    "dists_epochs = np.zeros((len(switched_train_y), num_epochs))\n",
    "mses_epochs = np.zeros((len(switched_train_y), num_epochs))\n",
    "\n",
    "for epoch in range(num_epochs):\n",
    "    print('Epoch ', epoch)\n",
    "    model.fit(train_X, switched_train_y, epochs = 1, validation_data = (test_X, test_y), verbose = 1)\n",
    "    pred_y = model.predict(train_X)\n",
    "    \n",
    "    for i, (pred_bboxes, exp_bboxes) in enumerate(zip(pred_y, switched_train_y)):\n",
    "        \n",
    "        pred = pred_bboxes.reshape(num_objects, -1)\n",
    "        exp = exp_bboxes.reshape(num_objects, -1)\n",
    "        p_exp = list(permutations(exp))\n",
    "        \n",
    "        # ignore the shape value\n",
    "        pred_bboxes = pred[:, :4]\n",
    "        exp_bboxes = exp[:, :4]\n",
    "        \n",
    "        p_exp_bboxes = list(permutations(exp_bboxes))\n",
    "        ious = np.zeros((fact, num_objects))\n",
    "        dists = np.zeros((fact, num_objects))\n",
    "        mses = np.zeros((fact, num_objects))\n",
    "        p_ious = np.zeros(fact)\n",
    "        p_mses = np.zeros(fact)\n",
    "        p_dists = np.zeros(fact)\n",
    "        \n",
    "        for j, exp_bboxes in enumerate(p_exp_bboxes):\n",
    "            exp_bboxes = list(exp_bboxes) \n",
    "            for k in range(num_objects):\n",
    "                ious[j, k] = IOU(exp_bboxes[k], pred_bboxes[k])\n",
    "                dists[j, k] = distance(exp_bboxes[k], pred_bboxes[k])\n",
    "                mses[j, k] = np.mean(np.square(exp_bboxes[k] - pred_bboxes[k]))\n",
    "            p_ious[j] = sum(ious[j, :])\n",
    "            p_dists[j] = sum(dists[j, :])\n",
    "            p_mses[j] = sum(mses[j, :])\n",
    "            \n",
    "        keymax = p_mses.argmin()\n",
    "        ious_epochs[i, epoch] += p_ious[keymax] / num_objects\n",
    "        dists_epochs[i, epoch] += p_dists[keymax] / num_objects\n",
    "        mses_epochs[i, epoch] += p_mses[keymax] / num_objects\n",
    "        \n",
    "        switched_train_y[i] = np.array(p_exp[keymax]).flatten()\n",
    "        if keymax != 0:\n",
    "            switched[i, epoch] = 1.\n",
    "        \n",
    "        if p_ious[keymax] > iou_max:\n",
    "            model.save('Multiple_Rectangles_or_Triangles_model.h5')\n",
    "            iou_max = p_ious[keymax]\n",
    "    \n",
    "    print('Switched {} % of all elements'.format(np.mean(switched[:, epoch]) * 100.))\n",
    "    print('Mean IOU: {}'.format(np.mean(ious_epochs[:, epoch])))\n",
    "    print('Mean dist: {}'.format(np.mean(dists_epochs[:, epoch])))\n",
    "    print('Mean mse: {}'.format(np.mean(mses_epochs[:, epoch])))"
   ]
  },
  {
   "cell_type": "markdown",
   "metadata": {},
   "source": [
    "## Switching Track"
   ]
  },
  {
   "cell_type": "code",
   "execution_count": 13,
   "metadata": {
    "ExecuteTime": {
     "end_time": "2016-07-03T16:32:11.172000",
     "start_time": "2016-07-03T16:32:07.209000"
    }
   },
   "outputs": [
    {
     "data": {
      "image/png": "[encoded data removed]",
      "text/plain": [
       "<Figure size 432x288 with 1 Axes>"
      ]
     },
     "metadata": {
      "needs_background": "light"
     },
     "output_type": "display_data"
    }
   ],
   "source": [
    "# Show switchings for a few training samples.\n",
    "plt.pcolormesh(switched[:, :], cmap = 'Greys')\n",
    "plt.xlabel('Epoch')\n",
    "plt.ylabel('Training sample')\n",
    "plt.savefig('multiple-rectangles_or_triangles_switches.png', dpi = 100)\n",
    "plt.show()"
   ]
  },
  {
   "cell_type": "markdown",
   "metadata": {},
   "source": [
    "## Metrics Track"
   ]
  },
  {
   "cell_type": "code",
   "execution_count": 14,
   "metadata": {
    "ExecuteTime": {
     "end_time": "2016-07-03T16:32:15.670000",
     "start_time": "2016-07-03T16:32:15.223000"
    }
   },
   "outputs": [
    {
     "data": {
      "image/png": "[encoded data removed]",
      "text/plain": [
       "<Figure size 432x288 with 1 Axes>"
      ]
     },
     "metadata": {
      "needs_background": "light"
     },
     "output_type": "display_data"
    }
   ],
   "source": [
    "# Plot metrics on the training data.\n",
    "mean_ious_epoch = np.mean(ious_epochs, axis = 0)\n",
    "mean_dists_epoch = np.mean(dists_epochs, axis = 0)\n",
    "mean_mses_epoch = np.mean(mses_epochs, axis = 0)\n",
    "plt.plot(mean_ious_epoch, label = 'Mean IOU')  # between predicted and assigned true bboxes\n",
    "plt.plot(mean_dists_epoch, label = 'Mean distance')  # relative to image size\n",
    "plt.plot(mean_mses_epoch, label = 'Mean mse')\n",
    "plt.annotate(np.round(np.max(mean_ious_epoch), 3), (len(mean_ious_epoch) - 1, mean_ious_epoch[-1] + 0.02), horizontalalignment = 'right', color = 'b')\n",
    "plt.annotate(np.round(np.min(mean_dists_epoch), 3), (len(mean_dists_epoch) - 1, mean_dists_epoch[-1] + 0.02), horizontalalignment = 'right', color = 'g')\n",
    "plt.annotate(np.round(np.min(mean_mses_epoch), 3), (len(mean_mses_epoch) - 1, mean_mses_epoch[-1] + 0.02), horizontalalignment = 'right', color = 'r')\n",
    "\n",
    "plt.xlabel('Epoch')\n",
    "# Hide y tick\n",
    "ax = plt.gca()\n",
    "ax.axes.yaxis.set_visible(False)\n",
    "\n",
    "plt.legend()\n",
    "plt.ylim(0, 0.8)\n",
    "plt.savefig('training_metrics.png', dpi = 100)"
   ]
  },
  {
   "cell_type": "markdown",
   "metadata": {},
   "source": [
    "## Denormalize Data"
   ]
  },
  {
   "cell_type": "code",
   "execution_count": 15,
   "metadata": {
    "ExecuteTime": {
     "end_time": "2016-07-03T16:32:21.325000",
     "start_time": "2016-07-03T16:32:20.874000"
    }
   },
   "outputs": [
    {
     "data": {
      "text/plain": [
       "((10000, 3, 4), (10000, 3, 1))"
      ]
     },
     "execution_count": 15,
     "metadata": {},
     "output_type": "execute_result"
    }
   ],
   "source": [
    "pred_y = model.predict(test_X)\n",
    "pred_y = pred_y.reshape(len(pred_y), num_objects, -1)\n",
    "pred_bboxes = pred_y[..., :4] * img_size\n",
    "pred_shapes = pred_y[..., 4:5]\n",
    "pred_bboxes.shape, pred_shapes.shape"
   ]
  },
  {
   "cell_type": "markdown",
   "metadata": {},
   "source": [
    "## Visualize Results"
   ]
  },
  {
   "cell_type": "code",
   "execution_count": 16,
   "metadata": {
    "ExecuteTime": {
     "end_time": "2016-07-03T16:33:28.201000",
     "start_time": "2016-07-03T16:33:26.046000"
    }
   },
   "outputs": [
    {
     "data": {
      "image/png": "[encoded data removed]",
      "text/plain": [
       "<Figure size 1152x576 with 8 Axes>"
      ]
     },
     "metadata": {
      "needs_background": "light"
     },
     "output_type": "display_data"
    }
   ],
   "source": [
    "plt.figure(figsize = (16, 8))\n",
    "for i_subplot in range(1, 9):\n",
    "    plt.subplot(2, 4, i_subplot)\n",
    "    i = np.random.randint(len(test_X))\n",
    "    plt.imshow(test_imgs[i].T, cmap = 'Greys', interpolation = 'none', origin = 'lower', extent = [0, img_size, 0, img_size])\n",
    "    for pred_bbox, exp_bbox, pred_shape in zip(pred_bboxes[i], test_bboxes[i], pred_shapes[i]):\n",
    "        plt.gca().add_patch(matplotlib.patches.Rectangle((pred_bbox[0], pred_bbox[1]), pred_bbox[2], pred_bbox[3], lw = 2, ec = 'r' if pred_shape[0] <= 0.5 else 'b', fc = 'none'))\n",
    "        # TODO: Calculate max IOU with all expected bounding boxes.\n",
    "#         plt.annotate('IOU: {:.2f}'.format(IOU(pred_bbox, exp_bbox)), (pred_bbox[0], pred_bbox[1]+pred_bbox[3]+0.4), color='r')\n",
    "plt.savefig('multiple-rectangles-or-triangles.png', dpi = 100)"
   ]
  },
  {
   "cell_type": "markdown",
   "metadata": {
    "collapsed": true
   },
   "source": [
    "## Overall Assessment"
   ]
  },
  {
   "cell_type": "code",
   "execution_count": 17,
   "metadata": {},
   "outputs": [
    {
     "name": "stdout",
     "output_type": "stream",
     "text": [
      "IoU: 0.4431627738951412\n",
      "Distance: 0.11490035793887554\n",
      "MSE: 0.02653635237550672\n"
     ]
    }
   ],
   "source": [
    "from keras.models import load_model\n",
    "from itertools import permutations\n",
    "fact = math.factorial(num_objects)\n",
    "model_test = load_model('Multiple_Rectangles_or_Triangles_model.h5')\n",
    "pred_y = model_test.predict(test_X)\n",
    "sum_iou = 0.\n",
    "sum_dist = 0.\n",
    "sum_mse = 0.\n",
    "test_y = np.array(test_y)\n",
    "\n",
    "for pred_bboxes, test_bboxes in zip(pred_y, test_y):\n",
    "    \n",
    "    pred_bboxes = pred_bboxes.reshape(num_objects, -1)\n",
    "    test_bboxes = test_bboxes.reshape(num_objects, -1)\n",
    "    \n",
    "    p_test_bboxes = list(permutations(test_bboxes))\n",
    "    p_ious = np.zeros(fact)\n",
    "    p_dists = np.zeros(fact)\n",
    "    p_mses = np.zeros(fact)\n",
    "    ious = np.zeros((fact, num_objects))\n",
    "    dists = np.zeros((fact, num_objects))\n",
    "    mses = np.zeros((fact, num_objects))\n",
    "    \n",
    "    for j, test_bboxes in enumerate(p_test_bboxes):\n",
    "        test_bboxes = list(test_bboxes) \n",
    "        for k in range(num_objects):\n",
    "            ious[j, k] = IOU(test_bboxes[k], pred_bboxes[k])\n",
    "            dists[j, k] = distance(test_bboxes[k], pred_bboxes[k])\n",
    "            mses[j, k] = np.mean(np.square(test_bboxes[k] - pred_bboxes[k]))\n",
    "        p_ious[j] = sum(ious[j, :])\n",
    "        p_dists[j] = sum(dists[j, :])\n",
    "        p_mses[j] = sum(mses[j, :])\n",
    "            \n",
    "    keymax = p_ious.argmax()\n",
    "    sum_iou += p_ious[keymax] \n",
    "    sum_dist += p_dists[keymax] \n",
    "    sum_mse += p_mses[keymax] \n",
    "\n",
    "mean_iou = sum_iou / (num_objects * len(pred_y))\n",
    "mean_dist = sum_dist / (num_objects * len(pred_y))\n",
    "mean_mse = sum_mse / (num_objects * len(pred_y))\n",
    "print('IoU:', mean_iou)\n",
    "print('Distance:', mean_dist)\n",
    "print('MSE:', mean_mse)"
   ]
  },
  {
   "cell_type": "code",
   "execution_count": null,
   "metadata": {},
   "outputs": [],
   "source": []
  }
 ],
 "metadata": {
  "kernelspec": {
   "display_name": "Python 3",
   "language": "python",
   "name": "python3"
  },
  "language_info": {
   "codemirror_mode": {
    "name": "ipython",
    "version": 3
   },
   "file_extension": ".py",
   "mimetype": "text/x-python",
   "name": "python",
   "nbconvert_exporter": "python",
   "pygments_lexer": "ipython3",
   "version": "3.8.3"
  }
 },
 "nbformat": 4,
 "nbformat_minor": 1
}
