{
 "cells": [
  {
   "cell_type": "markdown",
   "metadata": {},
   "source": [
    "# Two Rectangles or Triangles"
   ]
  },
  {
   "cell_type": "markdown",
   "metadata": {},
   "source": [
    "## Import Packages"
   ]
  },
  {
   "cell_type": "code",
   "execution_count": 2,
   "metadata": {
    "ExecuteTime": {
     "end_time": "2016-07-06T23:25:52.986000",
     "start_time": "2016-07-06T23:25:52.454000"
    }
   },
   "outputs": [],
   "source": [
    "import numpy as np\n",
    "import matplotlib.pyplot as plt\n",
    "import matplotlib\n",
    "%matplotlib inline"
   ]
  },
  {
   "cell_type": "markdown",
   "metadata": {},
   "source": [
    "## Data Generation"
   ]
  },
  {
   "cell_type": "code",
   "execution_count": 3,
   "metadata": {
    "ExecuteTime": {
     "end_time": "2016-07-06T23:25:58.288000",
     "start_time": "2016-07-06T23:25:54.225000"
    }
   },
   "outputs": [
    {
     "data": {
      "text/plain": [
       "((50000, 16, 16), (50000, 2, 4))"
      ]
     },
     "execution_count": 3,
     "metadata": {},
     "output_type": "execute_result"
    }
   ],
   "source": [
    "num_imgs = 50000\n",
    "\n",
    "img_size = 16\n",
    "min_rect_size = 3\n",
    "max_rect_size = 8\n",
    "num_objects = 2\n",
    "\n",
    "bboxes = np.zeros((num_imgs, num_objects, 4))\n",
    "imgs = np.zeros((num_imgs, img_size, img_size))\n",
    "shapes = np.zeros((num_imgs, num_objects, 1))\n",
    "\n",
    "for i_img in range(num_imgs):\n",
    "    for i_object in range(num_objects):\n",
    "        if np.random.choice([True, False]):\n",
    "            width, height = np.random.randint(min_rect_size, max_rect_size, size = 2)\n",
    "            x = np.random.randint(0, img_size - width)\n",
    "            y = np.random.randint(0, img_size - height)\n",
    "            imgs[i_img, x:x + width, y:y + height] = 1.\n",
    "            bboxes[i_img, i_object] = [x, y, width, height]\n",
    "            shapes[i_img, i_object] = [0]\n",
    "        else:\n",
    "            size = np.random.randint(min_rect_size, max_rect_size)\n",
    "            x, y = np.random.randint(0, img_size - size, size = 2)\n",
    "            mask = np.tril_indices(size)\n",
    "            imgs[i_img, x + mask[0], y + mask[1]] = 1.\n",
    "            bboxes[i_img, i_object] = [x, y, size, size]\n",
    "            shapes[i_img, i_object] = [1]\n",
    "\n",
    "imgs.shape, bboxes.shape"
   ]
  },
  {
   "cell_type": "code",
   "execution_count": 4,
   "metadata": {
    "ExecuteTime": {
     "end_time": "2016-07-06T23:25:58.544000",
     "start_time": "2016-07-06T23:25:58.291000"
    },
    "scrolled": true
   },
   "outputs": [
    {
     "data": {
      "image/png": "[encoded data removed]",
      "text/plain": [
       "<Figure size 432x288 with 1 Axes>"
      ]
     },
     "metadata": {
      "needs_background": "light"
     },
     "output_type": "display_data"
    }
   ],
   "source": [
    "i = 1\n",
    "plt.imshow(imgs[i].T, cmap = 'Greys', interpolation = 'none', origin = 'lower', extent = [0, img_size, 0, img_size])\n",
    "for bbox, shape in zip(bboxes[i], shapes[i]):\n",
    "    plt.gca().add_patch(matplotlib.patches.Rectangle((bbox[0], bbox[1]), bbox[2], bbox[3], lw = 2, ec = 'r' if shape[0] == 0 else 'b', fc = 'none'))"
   ]
  },
  {
   "cell_type": "markdown",
   "metadata": {},
   "source": [
    "## Preprocessing"
   ]
  },
  {
   "cell_type": "code",
   "execution_count": 6,
   "metadata": {
    "ExecuteTime": {
     "end_time": "2016-07-06T23:25:59.719000",
     "start_time": "2016-07-06T23:25:59.203000"
    }
   },
   "outputs": [
    {
     "data": {
      "text/plain": [
       "((50000, 256), 3.2537028626933304e-17, 1.0000000000000007)"
      ]
     },
     "execution_count": 6,
     "metadata": {},
     "output_type": "execute_result"
    }
   ],
   "source": [
    "X = (imgs.reshape(num_imgs, -1) - np.mean(imgs)) / np.std(imgs)\n",
    "X.shape, np.mean(X), np.std(X)"
   ]
  },
  {
   "cell_type": "code",
   "execution_count": 7,
   "metadata": {
    "ExecuteTime": {
     "end_time": "2016-07-06T23:26:00.476000",
     "start_time": "2016-07-06T23:26:00.464000"
    }
   },
   "outputs": [
    {
     "data": {
      "text/plain": [
       "((50000, 10), 0.350275, 0.27459649829340504)"
      ]
     },
     "execution_count": 7,
     "metadata": {},
     "output_type": "execute_result"
    }
   ],
   "source": [
    "# TODO: We use binary classification here - for multiple classes, convert classes to one-hot vectors.\n",
    "y = np.concatenate([bboxes / img_size, shapes], axis = -1).reshape(-1, 10)\n",
    "y.shape, np.mean(y), np.std(y)"
   ]
  },
  {
   "cell_type": "markdown",
   "metadata": {},
   "source": [
    "y = bboxes.reshape(num_imgs, -1) / img_size \n",
    "y.shape, np.mean(y), np.std(y)"
   ]
  },
  {
   "cell_type": "markdown",
   "metadata": {},
   "source": [
    "## Train Test Split"
   ]
  },
  {
   "cell_type": "code",
   "execution_count": 8,
   "metadata": {
    "ExecuteTime": {
     "end_time": "2016-07-06T23:26:01.233000",
     "start_time": "2016-07-06T23:26:01.226000"
    }
   },
   "outputs": [],
   "source": [
    "i = int(0.8 * num_imgs)\n",
    "train_X = X[:i]\n",
    "test_X = X[i:]\n",
    "train_y = y[:i]\n",
    "test_y = y[i:]\n",
    "test_imgs = imgs[i:]\n",
    "test_bboxes = bboxes[i:]"
   ]
  },
  {
   "cell_type": "markdown",
   "metadata": {},
   "source": [
    "## Model"
   ]
  },
  {
   "cell_type": "code",
   "execution_count": 11,
   "metadata": {
    "ExecuteTime": {
     "end_time": "2016-07-06T23:26:06.005000",
     "start_time": "2016-07-06T23:26:02.162000"
    }
   },
   "outputs": [
    {
     "name": "stdout",
     "output_type": "stream",
     "text": [
      "Model: \"sequential\"\n",
      "_________________________________________________________________\n",
      "Layer (type)                 Output Shape              Param #   \n",
      "=================================================================\n",
      "dense (Dense)                (None, 256)               65792     \n",
      "_________________________________________________________________\n",
      "activation (Activation)      (None, 256)               0         \n",
      "_________________________________________________________________\n",
      "dropout (Dropout)            (None, 256)               0         \n",
      "_________________________________________________________________\n",
      "dense_1 (Dense)              (None, 10)                2570      \n",
      "=================================================================\n",
      "Total params: 68,362\n",
      "Trainable params: 68,362\n",
      "Non-trainable params: 0\n",
      "_________________________________________________________________\n"
     ]
    }
   ],
   "source": [
    "from keras.models import Sequential\n",
    "from keras.layers import Dense, Activation, Dropout\n",
    "from keras.callbacks import ModelCheckpoint\n",
    "from keras.models import load_model\n",
    "model = Sequential([\n",
    "        Dense(256, input_dim = X.shape[-1]), \n",
    "        Activation('relu'), \n",
    "        Dropout(0.5), \n",
    "        Dense(y.shape[-1])\n",
    "        ])\n",
    "model.compile(loss = 'mse', optimizer = 'adam')\n",
    "model.summary()"
   ]
  },
  {
   "cell_type": "markdown",
   "metadata": {},
   "source": [
    "## IoU Calculating Function"
   ]
  },
  {
   "cell_type": "code",
   "execution_count": 9,
   "metadata": {},
   "outputs": [],
   "source": [
    "def IOU(bbox1, bbox2):\n",
    "    '''Calculate overlap between two bounding boxes [x, y, w, h] as the area of intersection over the area of unity'''\n",
    "    x1, y1, w1, h1 = bbox1[0], bbox1[1], bbox1[2], bbox1[3]  # TODO: Check if its more performant if tensor elements are accessed directly below.\n",
    "    x2, y2, w2, h2 = bbox2[0], bbox2[1], bbox2[2], bbox2[3]\n",
    "\n",
    "    w_I = min(x1 + w1, x2 + w2) - max(x1, x2)\n",
    "    h_I = min(y1 + h1, y2 + h2) - max(y1, y2)\n",
    "    if w_I <= 0 or h_I <= 0:  # no overlap\n",
    "        return 0\n",
    "    I = w_I * h_I\n",
    "\n",
    "    U = w1 * h1 + w2 * h2 - I\n",
    "\n",
    "    return I / U"
   ]
  },
  {
   "cell_type": "markdown",
   "metadata": {},
   "source": [
    "## Distance Calculating Function"
   ]
  },
  {
   "cell_type": "code",
   "execution_count": 16,
   "metadata": {},
   "outputs": [],
   "source": [
    "def distance(bbox1, bbox2):\n",
    "    return np.sqrt(np.sum(np.square(bbox1[0:2] - bbox2[0:2])))"
   ]
  },
  {
   "cell_type": "markdown",
   "metadata": {},
   "source": [
    "## Training"
   ]
  },
  {
   "cell_type": "code",
   "execution_count": 21,
   "metadata": {
    "ExecuteTime": {
     "end_time": "2016-07-06T23:32:54.867000",
     "start_time": "2016-07-06T23:26:06.009000"
    },
    "code_folding": [
     2,
     17
    ],
    "scrolled": false
   },
   "outputs": [
    {
     "name": "stdout",
     "output_type": "stream",
     "text": [
      "Epoch 0\n",
      "1250/1250 [==============================] - 3s 2ms/step - loss: 0.0492 - val_loss: 0.0445\n",
      "Flipped 19244.0 training samples (48.11 %)\n",
      "Mean IOU: 0.26764115566427216\n",
      "Mean dist: 0.18687123302752062\n",
      "Mean mse: 0.02132520364592047\n",
      "Epoch 1\n",
      "1250/1250 [==============================] - 3s 2ms/step - loss: 0.0466 - val_loss: 0.0458\n",
      "Flipped 9367.0 training samples (23.4175 %)\n",
      "Mean IOU: 0.312888351801889\n",
      "Mean dist: 0.16121109181887577\n",
      "Mean mse: 0.018959374728791095\n",
      "Epoch 2\n",
      "1250/1250 [==============================] - 3s 2ms/step - loss: 0.0427 - val_loss: 0.0486\n",
      "Flipped 6043.0 training samples (15.107499999999998 %)\n",
      "Mean IOU: 0.3656556556382135\n",
      "Mean dist: 0.14103534166513895\n",
      "Mean mse: 0.016633270795083123\n",
      "Epoch 3\n",
      "1250/1250 [==============================] - 3s 2ms/step - loss: 0.0392 - val_loss: 0.0509\n",
      "Flipped 4597.0 training samples (11.4925 %)\n",
      "Mean IOU: 0.3939722347114811\n",
      "Mean dist: 0.12901207890421135\n",
      "Mean mse: 0.01460577884631824\n",
      "Epoch 4\n",
      "1250/1250 [==============================] - 3s 2ms/step - loss: 0.0365 - val_loss: 0.0511\n",
      "Flipped 3696.0 training samples (9.24 %)\n",
      "Mean IOU: 0.4101213311672662\n",
      "Mean dist: 0.12384027358032582\n",
      "Mean mse: 0.013407748950505711\n",
      "Epoch 5\n",
      "1250/1250 [==============================] - 3s 2ms/step - loss: 0.0341 - val_loss: 0.0524\n",
      "Flipped 2762.0 training samples (6.905 %)\n",
      "Mean IOU: 0.43540257472360155\n",
      "Mean dist: 0.11204494319626865\n",
      "Mean mse: 0.012716497942925986\n",
      "Epoch 6\n",
      "1250/1250 [==============================] - 3s 2ms/step - loss: 0.0326 - val_loss: 0.0534\n",
      "Flipped 2125.0 training samples (5.3125 %)\n",
      "Mean IOU: 0.451146612666874\n",
      "Mean dist: 0.10614357156529072\n",
      "Mean mse: 0.01139673768560032\n",
      "Epoch 7\n",
      "1250/1250 [==============================] - 4s 3ms/step - loss: 0.0316 - val_loss: 0.0540\n",
      "Flipped 1654.0 training samples (4.135 %)\n",
      "Mean IOU: 0.46157151314238415\n",
      "Mean dist: 0.10287088463098684\n",
      "Mean mse: 0.010820717318356482\n",
      "Epoch 8\n",
      "1250/1250 [==============================] - 3s 2ms/step - loss: 0.0305 - val_loss: 0.0552\n",
      "Flipped 1671.0 training samples (4.1775 %)\n",
      "Mean IOU: 0.4507301396320825\n",
      "Mean dist: 0.10558918829963543\n",
      "Mean mse: 0.010641749693660517\n",
      "Epoch 9\n",
      "1250/1250 [==============================] - 3s 2ms/step - loss: 0.0300 - val_loss: 0.0553\n",
      "Flipped 1372.0 training samples (3.4299999999999997 %)\n",
      "Mean IOU: 0.4616095284726317\n",
      "Mean dist: 0.10259594036578537\n",
      "Mean mse: 0.010483301279483286\n",
      "Epoch 10\n",
      "1250/1250 [==============================] - 3s 2ms/step - loss: 0.0293 - val_loss: 0.0554\n",
      "Flipped 1624.0 training samples (4.06 %)\n",
      "Mean IOU: 0.4531685341095406\n",
      "Mean dist: 0.10357621288283064\n",
      "Mean mse: 0.010061475015383913\n",
      "Epoch 11\n",
      "1250/1250 [==============================] - 3s 2ms/step - loss: 0.0291 - val_loss: 0.0543\n",
      "Flipped 1792.0 training samples (4.4799999999999995 %)\n",
      "Mean IOU: 0.460978288961022\n",
      "Mean dist: 0.10243942830803987\n",
      "Mean mse: 0.01003967579878403\n",
      "Epoch 12\n",
      "1250/1250 [==============================] - 3s 2ms/step - loss: 0.0288 - val_loss: 0.0539\n",
      "Flipped 1624.0 training samples (4.06 %)\n",
      "Mean IOU: 0.4609012770344925\n",
      "Mean dist: 0.10054253663159078\n",
      "Mean mse: 0.009819909482187207\n",
      "Epoch 13\n",
      "1250/1250 [==============================] - 3s 2ms/step - loss: 0.0285 - val_loss: 0.0543\n",
      "Flipped 1484.0 training samples (3.71 %)\n",
      "Mean IOU: 0.46103617613301556\n",
      "Mean dist: 0.10108115344230353\n",
      "Mean mse: 0.009889408216425193\n",
      "Epoch 14\n",
      "1250/1250 [==============================] - 3s 3ms/step - loss: 0.0284 - val_loss: 0.0553\n",
      "Flipped 1939.0 training samples (4.8475 %)\n",
      "Mean IOU: 0.4653793514432965\n",
      "Mean dist: 0.09991631404118885\n",
      "Mean mse: 0.009412828728272173\n",
      "Epoch 15\n",
      "1250/1250 [==============================] - 3s 2ms/step - loss: 0.0282 - val_loss: 0.0561\n",
      "Flipped 1582.0 training samples (3.955 %)\n",
      "Mean IOU: 0.46884769373322344\n",
      "Mean dist: 0.09833945461782383\n",
      "Mean mse: 0.009538283660628168\n",
      "Epoch 16\n",
      "1250/1250 [==============================] - 3s 2ms/step - loss: 0.0281 - val_loss: 0.0554\n",
      "Flipped 1420.0 training samples (3.55 %)\n",
      "Mean IOU: 0.4676451389363239\n",
      "Mean dist: 0.09893522556753033\n",
      "Mean mse: 0.00929871669854785\n",
      "Epoch 17\n",
      "1250/1250 [==============================] - 3s 2ms/step - loss: 0.0277 - val_loss: 0.0546\n",
      "Flipped 1524.0 training samples (3.81 %)\n",
      "Mean IOU: 0.465500702187321\n",
      "Mean dist: 0.098629730940284\n",
      "Mean mse: 0.009420832344295065\n",
      "Epoch 18\n",
      "1250/1250 [==============================] - 3s 2ms/step - loss: 0.0275 - val_loss: 0.0563\n",
      "Flipped 1557.0 training samples (3.8925 %)\n",
      "Mean IOU: 0.46438457072033235\n",
      "Mean dist: 0.0996498487451458\n",
      "Mean mse: 0.009337703205155761\n",
      "Epoch 19\n",
      "1250/1250 [==============================] - 3s 2ms/step - loss: 0.0273 - val_loss: 0.0562\n",
      "Flipped 1605.0 training samples (4.0125 %)\n",
      "Mean IOU: 0.46759161957161616\n",
      "Mean dist: 0.09942228784514563\n",
      "Mean mse: 0.009161579534089925\n",
      "Epoch 20\n",
      "1250/1250 [==============================] - 3s 2ms/step - loss: 0.0272 - val_loss: 0.0557\n",
      "Flipped 1674.0 training samples (4.185 %)\n",
      "Mean IOU: 0.471702363962857\n",
      "Mean dist: 0.09802082054661418\n",
      "Mean mse: 0.009037598084330394\n",
      "Epoch 21\n",
      "1250/1250 [==============================] - 3s 2ms/step - loss: 0.0272 - val_loss: 0.0567\n",
      "Flipped 1582.0 training samples (3.955 %)\n",
      "Mean IOU: 0.4697053712161749\n",
      "Mean dist: 0.09875024945676562\n",
      "Mean mse: 0.009235228635306307\n",
      "Epoch 22\n",
      "1250/1250 [==============================] - 3s 2ms/step - loss: 0.0270 - val_loss: 0.0561\n",
      "Flipped 1774.0 training samples (4.4350000000000005 %)\n",
      "Mean IOU: 0.4701082624624537\n",
      "Mean dist: 0.09791903629067146\n",
      "Mean mse: 0.009055148644034929\n",
      "Epoch 23\n",
      "1250/1250 [==============================] - 3s 2ms/step - loss: 0.0268 - val_loss: 0.0563\n",
      "Flipped 1533.0 training samples (3.8324999999999996 %)\n",
      "Mean IOU: 0.48037772647774646\n",
      "Mean dist: 0.09360424325928672\n",
      "Mean mse: 0.00858087127065755\n",
      "Epoch 24\n",
      "1250/1250 [==============================] - 3s 2ms/step - loss: 0.0270 - val_loss: 0.0571\n",
      "Flipped 1607.0 training samples (4.0175 %)\n",
      "Mean IOU: 0.47815622109017886\n",
      "Mean dist: 0.09601592224021849\n",
      "Mean mse: 0.008602023418391405\n",
      "Epoch 25\n",
      "1250/1250 [==============================] - 3s 2ms/step - loss: 0.0267 - val_loss: 0.0561\n",
      "Flipped 1439.0 training samples (3.5975 %)\n",
      "Mean IOU: 0.47009938751031033\n",
      "Mean dist: 0.09810683044306284\n",
      "Mean mse: 0.008729365606646965\n",
      "Epoch 26\n",
      "1250/1250 [==============================] - 3s 2ms/step - loss: 0.0264 - val_loss: 0.0564\n",
      "Flipped 1321.0 training samples (3.3024999999999998 %)\n",
      "Mean IOU: 0.4568587575860145\n",
      "Mean dist: 0.10162981983414891\n",
      "Mean mse: 0.008797155318783709\n",
      "Epoch 27\n",
      "1250/1250 [==============================] - 3s 2ms/step - loss: 0.0265 - val_loss: 0.0559\n",
      "Flipped 1559.0 training samples (3.8975000000000004 %)\n",
      "Mean IOU: 0.4751907637097799\n",
      "Mean dist: 0.09641992787594952\n",
      "Mean mse: 0.008324549096143549\n",
      "Epoch 28\n",
      "1250/1250 [==============================] - 3s 2ms/step - loss: 0.0265 - val_loss: 0.0551\n",
      "Flipped 1616.0 training samples (4.04 %)\n",
      "Mean IOU: 0.46243506960080066\n",
      "Mean dist: 0.10188022378339587\n",
      "Mean mse: 0.00881029517939586\n",
      "Epoch 29\n",
      "1250/1250 [==============================] - 3s 2ms/step - loss: 0.0266 - val_loss: 0.0548\n",
      "Flipped 1500.0 training samples (3.75 %)\n",
      "Mean IOU: 0.4770722176945376\n",
      "Mean dist: 0.097291807236452\n",
      "Mean mse: 0.00865468533978739\n",
      "Epoch 30\n",
      "1250/1250 [==============================] - 3s 2ms/step - loss: 0.0264 - val_loss: 0.0561\n",
      "Flipped 1497.0 training samples (3.7425 %)\n",
      "Mean IOU: 0.4652052298665107\n",
      "Mean dist: 0.09892922000479111\n",
      "Mean mse: 0.008781525293882101\n",
      "Epoch 31\n",
      "1250/1250 [==============================] - 3s 2ms/step - loss: 0.0264 - val_loss: 0.0552\n",
      "Flipped 1417.0 training samples (3.5425 %)\n",
      "Mean IOU: 0.46261851279820965\n",
      "Mean dist: 0.09837801033355843\n",
      "Mean mse: 0.008764135378726083\n",
      "Epoch 32\n",
      "1250/1250 [==============================] - 3s 2ms/step - loss: 0.0264 - val_loss: 0.0556\n",
      "Flipped 1470.0 training samples (3.675 %)\n",
      "Mean IOU: 0.4660629273059075\n",
      "Mean dist: 0.09743239722526224\n",
      "Mean mse: 0.008545639758942996\n",
      "Epoch 33\n",
      "1250/1250 [==============================] - 3s 2ms/step - loss: 0.0261 - val_loss: 0.0571\n",
      "Flipped 1495.0 training samples (3.7375 %)\n",
      "Mean IOU: 0.4638068969061758\n",
      "Mean dist: 0.09959287525773725\n",
      "Mean mse: 0.008550339539180309\n",
      "Epoch 34\n",
      "1250/1250 [==============================] - 3s 3ms/step - loss: 0.0261 - val_loss: 0.0557\n",
      "Flipped 1794.0 training samples (4.485 %)\n",
      "Mean IOU: 0.4631398179015998\n",
      "Mean dist: 0.10047056624435428\n",
      "Mean mse: 0.00869441151152787\n",
      "Epoch 35\n"
     ]
    },
    {
     "name": "stdout",
     "output_type": "stream",
     "text": [
      "1250/1250 [==============================] - 3s 2ms/step - loss: 0.0262 - val_loss: 0.0550\n",
      "Flipped 1913.0 training samples (4.7825 %)\n",
      "Mean IOU: 0.45815570877179695\n",
      "Mean dist: 0.10095811599240254\n",
      "Mean mse: 0.008647359816371936\n",
      "Epoch 36\n",
      "1250/1250 [==============================] - 3s 2ms/step - loss: 0.0261 - val_loss: 0.0571\n",
      "Flipped 1658.0 training samples (4.1450000000000005 %)\n",
      "Mean IOU: 0.48351754013422144\n",
      "Mean dist: 0.09251889243010912\n",
      "Mean mse: 0.008458949464602721\n",
      "Epoch 37\n",
      "1250/1250 [==============================] - 3s 2ms/step - loss: 0.0259 - val_loss: 0.0565\n",
      "Flipped 1453.0 training samples (3.6325000000000003 %)\n",
      "Mean IOU: 0.4694674213608125\n",
      "Mean dist: 0.09915693727742751\n",
      "Mean mse: 0.008306565256700354\n",
      "Epoch 38\n",
      "1250/1250 [==============================] - 3s 2ms/step - loss: 0.0258 - val_loss: 0.0563\n",
      "Flipped 1504.0 training samples (3.7600000000000002 %)\n",
      "Mean IOU: 0.47114013498992163\n",
      "Mean dist: 0.09666818463285275\n",
      "Mean mse: 0.008406407531989594\n",
      "Epoch 39\n",
      "1250/1250 [==============================] - 3s 2ms/step - loss: 0.0259 - val_loss: 0.0573\n",
      "Flipped 1435.0 training samples (3.5875 %)\n",
      "Mean IOU: 0.46908319183175545\n",
      "Mean dist: 0.09764030540511233\n",
      "Mean mse: 0.008421449988346806\n",
      "Epoch 40\n",
      "1250/1250 [==============================] - 3s 2ms/step - loss: 0.0258 - val_loss: 0.0558\n",
      "Flipped 1522.0 training samples (3.805 %)\n",
      "Mean IOU: 0.4703872855231485\n",
      "Mean dist: 0.097372850950539\n",
      "Mean mse: 0.00832245023622663\n",
      "Epoch 41\n",
      "1250/1250 [==============================] - 3s 2ms/step - loss: 0.0257 - val_loss: 0.0562\n",
      "Flipped 1436.0 training samples (3.5900000000000003 %)\n",
      "Mean IOU: 0.4688406398291306\n",
      "Mean dist: 0.0963890928507796\n",
      "Mean mse: 0.008302237377900404\n",
      "Epoch 42\n",
      "1250/1250 [==============================] - 3s 2ms/step - loss: 0.0257 - val_loss: 0.0563\n",
      "Flipped 1332.0 training samples (3.3300000000000005 %)\n",
      "Mean IOU: 0.47344125691532735\n",
      "Mean dist: 0.09510187006715516\n",
      "Mean mse: 0.008187817989064296\n",
      "Epoch 43\n",
      "1250/1250 [==============================] - 3s 3ms/step - loss: 0.0256 - val_loss: 0.0573\n",
      "Flipped 1433.0 training samples (3.5825000000000005 %)\n",
      "Mean IOU: 0.47056584021839754\n",
      "Mean dist: 0.09723353047734105\n",
      "Mean mse: 0.008146493735597215\n",
      "Epoch 44\n",
      "1250/1250 [==============================] - 3s 2ms/step - loss: 0.0255 - val_loss: 0.0571\n",
      "Flipped 1511.0 training samples (3.7775000000000003 %)\n",
      "Mean IOU: 0.47180014023314754\n",
      "Mean dist: 0.09605065229997146\n",
      "Mean mse: 0.00809742326497917\n",
      "Epoch 45\n",
      "1250/1250 [==============================] - 3s 2ms/step - loss: 0.0257 - val_loss: 0.0551\n",
      "Flipped 1548.0 training samples (3.8699999999999997 %)\n",
      "Mean IOU: 0.46972546244447494\n",
      "Mean dist: 0.09729673948422772\n",
      "Mean mse: 0.008277226592589355\n",
      "Epoch 46\n",
      "1250/1250 [==============================] - 3s 2ms/step - loss: 0.0257 - val_loss: 0.0568\n",
      "Flipped 1485.0 training samples (3.7125 %)\n",
      "Mean IOU: 0.46234104535924614\n",
      "Mean dist: 0.1006321533030415\n",
      "Mean mse: 0.008166942718131709\n",
      "Epoch 47\n",
      "1250/1250 [==============================] - 3s 2ms/step - loss: 0.0255 - val_loss: 0.0565\n",
      "Flipped 1537.0 training samples (3.8425000000000002 %)\n",
      "Mean IOU: 0.4671809381503326\n",
      "Mean dist: 0.0996254895868458\n",
      "Mean mse: 0.00829540688764951\n",
      "Epoch 48\n",
      "1250/1250 [==============================] - 3s 2ms/step - loss: 0.0257 - val_loss: 0.0569\n",
      "Flipped 1585.0 training samples (3.9625 %)\n",
      "Mean IOU: 0.4660044440112333\n",
      "Mean dist: 0.0972564357429275\n",
      "Mean mse: 0.00819486297545706\n",
      "Epoch 49\n",
      "1250/1250 [==============================] - 3s 2ms/step - loss: 0.0255 - val_loss: 0.0555\n",
      "Flipped 1503.0 training samples (3.7575 %)\n",
      "Mean IOU: 0.4676505228993642\n",
      "Mean dist: 0.09787487061231313\n",
      "Mean mse: 0.008316860486708837\n"
     ]
    }
   ],
   "source": [
    "# Flip bboxes during training.\n",
    "num_epochs = 50\n",
    "flipped_train_y = np.array(train_y)\n",
    "flipped = np.zeros((len(flipped_train_y), num_epochs))\n",
    "ious = np.zeros((len(flipped_train_y), num_epochs))\n",
    "dists = np.zeros((len(flipped_train_y), num_epochs))\n",
    "mses = np.zeros((len(flipped_train_y), num_epochs))\n",
    "\n",
    "for epoch in range(num_epochs):\n",
    "    print('Epoch', epoch)\n",
    "    model.fit(train_X, flipped_train_y, epochs = 1, validation_data = (test_X, test_y), verbose = 1, \n",
    "              callbacks = [ModelCheckpoint('Two_Rectangles_or_Triangles_model.h5', \n",
    "                                           monitor = 'val_loss',\n",
    "                                           save_best_only = True)])\n",
    "    pred_y = model.predict(train_X)\n",
    "\n",
    "    for i, (pred_bboxes, exp_bboxes) in enumerate(zip(pred_y, flipped_train_y)):\n",
    "        \n",
    "        flipped_exp_bboxes = np.concatenate([exp_bboxes[5:], exp_bboxes[:5]])\n",
    "        \n",
    "        mse = np.mean(np.square(pred_bboxes - exp_bboxes))\n",
    "        mse_flipped = np.mean(np.square(pred_bboxes - flipped_exp_bboxes))\n",
    "        \n",
    "        iou = IOU(pred_bboxes[0:4], exp_bboxes[0:4]) + IOU(pred_bboxes[5:9], exp_bboxes[5:9])\n",
    "        iou_flipped = IOU(pred_bboxes[0:4], flipped_exp_bboxes[0:4]) + IOU(pred_bboxes[5:9], flipped_exp_bboxes[5:9])\n",
    "        \n",
    "        dist = distance(pred_bboxes[:2], exp_bboxes[:2]) + distance(pred_bboxes[5:9], exp_bboxes[5:9])\n",
    "        dist_flipped = distance(pred_bboxes[:2], flipped_exp_bboxes[:2]) + distance(pred_bboxes[5:9], flipped_exp_bboxes[5:9])\n",
    "        \n",
    "        if iou_flipped > iou:  \n",
    "            flipped_train_y[i] = flipped_exp_bboxes\n",
    "            flipped[i, epoch] = 1\n",
    "            ious[i, epoch] = iou_flipped / 2.\n",
    "            dists[i, epoch] = dist_flipped / 2.\n",
    "            mses[i, epoch] = mse_flipped / 2.\n",
    "        else:\n",
    "            ious[i, epoch] = iou / 2.\n",
    "            dists[i, epoch] = dist / 2.\n",
    "            mses[i, epoch] = mse / 2.\n",
    "            \n",
    "    print('Flipped {} training samples ({} %)'.format(np.sum(flipped[:, epoch]), np.mean(flipped[:, epoch]) * 100.))\n",
    "    print('Mean IOU: {}'.format(np.mean(ious[:, epoch])))\n",
    "    print('Mean dist: {}'.format(np.mean(dists[:, epoch])))\n",
    "    print('Mean mse: {}'.format(np.mean(mses[:, epoch])))"
   ]
  },
  {
   "cell_type": "markdown",
   "metadata": {},
   "source": [
    "## Flipping Track"
   ]
  },
  {
   "cell_type": "code",
   "execution_count": 22,
   "metadata": {
    "ExecuteTime": {
     "end_time": "2016-07-06T23:55:00.367000",
     "start_time": "2016-07-06T23:54:57.699000"
    },
    "scrolled": true
   },
   "outputs": [
    {
     "data": {
      "image/png": "[encoded data removed]",
      "text/plain": [
       "<Figure size 432x288 with 1 Axes>"
      ]
     },
     "metadata": {
      "needs_background": "light"
     },
     "output_type": "display_data"
    }
   ],
   "source": [
    "plt.pcolor(flipped[:1000], cmap = 'Greys')\n",
    "plt.xlabel('Epoch')\n",
    "plt.ylabel('Training sample')\n",
    "plt.savefig('two-rectangles-or-triangles_flips.png', dpi = 100)"
   ]
  },
  {
   "cell_type": "markdown",
   "metadata": {},
   "source": [
    "## Metrics Track"
   ]
  },
  {
   "cell_type": "code",
   "execution_count": 23,
   "metadata": {
    "ExecuteTime": {
     "end_time": "2016-07-06T23:55:01.541000",
     "start_time": "2016-07-06T23:55:01.245000"
    }
   },
   "outputs": [
    {
     "data": {
      "image/png": "[encoded data removed]",
      "text/plain": [
       "<Figure size 432x288 with 1 Axes>"
      ]
     },
     "metadata": {
      "needs_background": "light"
     },
     "output_type": "display_data"
    }
   ],
   "source": [
    "mean_ious_epoch = np.mean(ious, axis = 0)\n",
    "mean_dists_epoch = np.mean(dists, axis = 0)\n",
    "mean_mses_epoch = np.mean(mses, axis = 0)\n",
    "plt.plot(np.mean(ious, axis = 0), label = 'Mean IOU')  # between predicted and assigned true bboxes\n",
    "plt.plot(np.mean(dists, axis = 0), label = 'Mean distance')  # relative to image size\n",
    "plt.plot(np.mean(mses, axis = 0), label = 'Mean mse')\n",
    "plt.annotate(np.round(np.max(mean_ious_epoch), 3), (len(mean_ious_epoch) - 1, mean_ious_epoch[-1] + 0.02), horizontalalignment = 'right', color = 'b')\n",
    "plt.annotate(np.round(np.min(mean_dists_epoch), 3), (len(mean_dists_epoch) - 1, mean_dists_epoch[-1] + 0.02), horizontalalignment = 'right', color = 'g')\n",
    "plt.annotate(np.round(np.min(mean_mses_epoch), 3), (len(mean_mses_epoch) - 1, mean_mses_epoch[-1] + 0.02), horizontalalignment = 'right', color = 'r')\n",
    "\n",
    "plt.xlabel('Epoch')\n",
    "# Hide y tick\n",
    "ax = plt.gca()\n",
    "ax.axes.yaxis.set_visible(False)\n",
    "\n",
    "plt.legend()\n",
    "plt.ylim(0, 0.9)\n",
    "plt.savefig('training_metrics.png', dpi = 100)"
   ]
  },
  {
   "cell_type": "markdown",
   "metadata": {},
   "source": [
    "## Denormalize Data"
   ]
  },
  {
   "cell_type": "code",
   "execution_count": 24,
   "metadata": {
    "ExecuteTime": {
     "end_time": "2016-07-06T23:55:02.905000",
     "start_time": "2016-07-06T23:55:02.569000"
    }
   },
   "outputs": [
    {
     "data": {
      "text/plain": [
       "((10000, 2, 4), (10000, 2, 1))"
      ]
     },
     "execution_count": 24,
     "metadata": {},
     "output_type": "execute_result"
    }
   ],
   "source": [
    "pred_y = model.predict(test_X)\n",
    "pred_y = pred_y.reshape(len(pred_y), num_objects, -1)\n",
    "pred_bboxes = pred_y[..., :4] * img_size\n",
    "pred_shapes = pred_y[..., 4:5]\n",
    "pred_bboxes.shape, pred_shapes.shape"
   ]
  },
  {
   "cell_type": "markdown",
   "metadata": {},
   "source": [
    "## Visualize Results"
   ]
  },
  {
   "cell_type": "code",
   "execution_count": 25,
   "metadata": {
    "ExecuteTime": {
     "end_time": "2016-07-06T23:57:24.479000",
     "start_time": "2016-07-06T23:57:22.606000"
    },
    "scrolled": true
   },
   "outputs": [
    {
     "data": {
      "image/png": "[encoded data removed]",
      "text/plain": [
       "<Figure size 1152x576 with 4 Axes>"
      ]
     },
     "metadata": {
      "needs_background": "light"
     },
     "output_type": "display_data"
    }
   ],
   "source": [
    "plt.figure(figsize = (16, 8))\n",
    "for i_subplot in range(1, 5):\n",
    "    plt.subplot(1, 4, i_subplot)\n",
    "    i = np.random.randint(len(test_X))\n",
    "    plt.imshow(test_imgs[i].T, cmap = 'Greys', interpolation = 'none', origin = 'lower', extent = [0, img_size, 0, img_size])\n",
    "    for pred_bbox, exp_bbox, pred_shape in zip(pred_bboxes[i], test_bboxes[i], pred_shapes[i]):\n",
    "        plt.gca().add_patch(matplotlib.patches.Rectangle((pred_bbox[0], pred_bbox[1]), pred_bbox[2], pred_bbox[3], lw = 2, ec = 'r' if pred_shape[0] <= 0.5 else 'b', fc = 'none'))\n",
    "        # TODO: Calculate max IOU with all expected bounding boxes.\n",
    "        # plt.annotate('IOU: {:.2f}'.format(IOU(pred_bbox, exp_bbox)), (pred_bbox[0], pred_bbox[1]+pred_bbox[3]+0.4), color='r')\n",
    "\n",
    "plt.savefig('two-rectangles-or-triangles.png', dpi = 100)"
   ]
  },
  {
   "cell_type": "markdown",
   "metadata": {
    "collapsed": true
   },
   "source": [
    "## Overall Assessment"
   ]
  },
  {
   "cell_type": "code",
   "execution_count": 26,
   "metadata": {},
   "outputs": [
    {
     "data": {
      "text/plain": [
       "0.4638055382459841"
      ]
     },
     "execution_count": 26,
     "metadata": {},
     "output_type": "execute_result"
    }
   ],
   "source": [
    "from keras.models import load_model\n",
    "model_test = load_model('Two_Rectangles_or_Triangles_model.h5')\n",
    "pred_y = model_test.predict(test_X)\n",
    "summed_IOU = 0.\n",
    "\n",
    "for i, (pred_bboxes, exp_bboxes) in enumerate(zip(pred_y, test_y)):\n",
    "\n",
    "    flipped_exp_bboxes = np.concatenate([exp_bboxes[5:], exp_bboxes[:5]])\n",
    "\n",
    "    iou = IOU(pred_bboxes[0:4], exp_bboxes[0:4]) + IOU(pred_bboxes[5:9], exp_bboxes[5:9])\n",
    "    iou_flipped = IOU(pred_bboxes[0:4], flipped_exp_bboxes[0:4]) + IOU(pred_bboxes[5:9], flipped_exp_bboxes[5:9])\n",
    "\n",
    "    if iou_flipped > iou:  \n",
    "        summed_IOU += iou_flipped\n",
    "    else:\n",
    "        summed_IOU += iou\n",
    "\n",
    "mean_IOU = summed_IOU / (num_objects * len(pred_y))\n",
    "mean_IOU"
   ]
  },
  {
   "cell_type": "code",
   "execution_count": null,
   "metadata": {},
   "outputs": [],
   "source": []
  }
 ],
 "metadata": {
  "kernelspec": {
   "display_name": "Python (tensorflow-gpu)",
   "language": "python",
   "name": "tf-gpu"
  },
  "language_info": {
   "codemirror_mode": {
    "name": "ipython",
    "version": 3
   },
   "file_extension": ".py",
   "mimetype": "text/x-python",
   "name": "python",
   "nbconvert_exporter": "python",
   "pygments_lexer": "ipython3",
   "version": "3.8.3"
  },
  "toc": {
   "nav_menu": {},
   "number_sections": true,
   "sideBar": true,
   "skip_h1_title": false,
   "title_cell": "Table of Contents",
   "title_sidebar": "Contents",
   "toc_cell": false,
   "toc_position": {},
   "toc_section_display": true,
   "toc_window_display": false
  }
 },
 "nbformat": 4,
 "nbformat_minor": 1
}
