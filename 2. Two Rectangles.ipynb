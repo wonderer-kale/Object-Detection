{
 "cells": [
  {
   "cell_type": "markdown",
   "metadata": {},
   "source": [
    "# Two Rectangles Detection"
   ]
  },
  {
   "cell_type": "markdown",
   "metadata": {},
   "source": [
    "## Import Packages"
   ]
  },
  {
   "cell_type": "code",
   "execution_count": 1,
   "metadata": {},
   "outputs": [],
   "source": [
    "import numpy as np\n",
    "import matplotlib.pyplot as plt\n",
    "import matplotlib\n",
    "%matplotlib inline"
   ]
  },
  {
   "cell_type": "markdown",
   "metadata": {},
   "source": [
    "## Data Generation"
   ]
  },
  {
   "cell_type": "code",
   "execution_count": 18,
   "metadata": {},
   "outputs": [
    {
     "data": {
      "text/plain": [
       "((50000, 8, 8), (50000, 2, 4))"
      ]
     },
     "execution_count": 18,
     "metadata": {},
     "output_type": "execute_result"
    }
   ],
   "source": [
    "# Create images with random rectangles and bounding boxes. \n",
    "num_imgs = 50000\n",
    "\n",
    "img_size = 8\n",
    "min_rect_size = 1\n",
    "max_rect_size = 4\n",
    "num_objects = 2\n",
    "\n",
    "bboxes = np.zeros((num_imgs, num_objects, 4))\n",
    "imgs = np.zeros((num_imgs, img_size, img_size))\n",
    "\n",
    "for i_img in range(num_imgs):\n",
    "    for i_object in range(num_objects):\n",
    "        w, h = np.random.randint(min_rect_size, max_rect_size, size = 2)\n",
    "        x = np.random.randint(0, img_size - w)\n",
    "        y = np.random.randint(0, img_size - h)\n",
    "        imgs[i_img, x:x + w, y:y + h] = 1.\n",
    "        bboxes[i_img, i_object] = [x, y, w, h]\n",
    "        \n",
    "imgs.shape, bboxes.shape"
   ]
  },
  {
   "cell_type": "code",
   "execution_count": 19,
   "metadata": {
    "scrolled": true
   },
   "outputs": [
    {
     "data": {
      "image/png": "[encoded data removed]",
      "text/plain": [
       "<Figure size 432x288 with 1 Axes>"
      ]
     },
     "metadata": {
      "needs_background": "light"
     },
     "output_type": "display_data"
    }
   ],
   "source": [
    "i = 0\n",
    "plt.imshow(imgs[i].T, cmap = 'Greys', interpolation = 'none', origin = 'lower', extent = [0, img_size, 0, img_size])\n",
    "for bbox in bboxes[i]:\n",
    "    plt.gca().add_patch(matplotlib.patches.Rectangle((bbox[0], bbox[1]), bbox[2], bbox[3], lw = 2, ec = 'r', fc = 'none'))\n",
    "plt.savefig('two-rectangles_data.png', dpi = 100)"
   ]
  },
  {
   "cell_type": "markdown",
   "metadata": {},
   "source": [
    "## Preprocessing"
   ]
  },
  {
   "cell_type": "code",
   "execution_count": 20,
   "metadata": {},
   "outputs": [
    {
     "data": {
      "text/plain": [
       "((50000, 64), 2.2133406218927122e-17, 1.0)"
      ]
     },
     "execution_count": 20,
     "metadata": {},
     "output_type": "execute_result"
    }
   ],
   "source": [
    "# Reshape and normalize the data to mean 0 and std 1. \n",
    "X = (imgs.reshape(num_imgs, -1) - np.mean(imgs)) / np.std(imgs)\n",
    "X.shape, np.mean(X), np.std(X)"
   ]
  },
  {
   "cell_type": "code",
   "execution_count": 21,
   "metadata": {},
   "outputs": [
    {
     "data": {
      "text/plain": [
       "((50000, 8), 0.2809125, 0.17491483240065722)"
      ]
     },
     "execution_count": 21,
     "metadata": {},
     "output_type": "execute_result"
    }
   ],
   "source": [
    "# Normalize x, y, w, h by img_size, so that all values are between 0 and 1.\n",
    "# Important: Do not shift to negative values (e.g. by setting to mean 0), because the IOU calculation needs positive w and h.\n",
    "y = bboxes.reshape(num_imgs, -1) / img_size\n",
    "y.shape, np.mean(y), np.std(y)"
   ]
  },
  {
   "cell_type": "markdown",
   "metadata": {},
   "source": [
    "## Train Test Split"
   ]
  },
  {
   "cell_type": "code",
   "execution_count": 22,
   "metadata": {},
   "outputs": [],
   "source": [
    "# Split training and test.\n",
    "i = int(0.8 * num_imgs)\n",
    "train_X = X[:i]\n",
    "test_X = X[i:]\n",
    "train_y = y[:i]\n",
    "test_y = y[i:]\n",
    "test_imgs = imgs[i:]\n",
    "test_bboxes = bboxes[i:]"
   ]
  },
  {
   "cell_type": "markdown",
   "metadata": {},
   "source": [
    "## Model"
   ]
  },
  {
   "cell_type": "code",
   "execution_count": 23,
   "metadata": {
    "scrolled": false
   },
   "outputs": [
    {
     "name": "stdout",
     "output_type": "stream",
     "text": [
      "Model: \"sequential_1\"\n",
      "_________________________________________________________________\n",
      "Layer (type)                 Output Shape              Param #   \n",
      "=================================================================\n",
      "dense_2 (Dense)              (None, 256)               16640     \n",
      "_________________________________________________________________\n",
      "activation_1 (Activation)    (None, 256)               0         \n",
      "_________________________________________________________________\n",
      "dropout_1 (Dropout)          (None, 256)               0         \n",
      "_________________________________________________________________\n",
      "dense_3 (Dense)              (None, 8)                 2056      \n",
      "=================================================================\n",
      "Total params: 18,696\n",
      "Trainable params: 18,696\n",
      "Non-trainable params: 0\n",
      "_________________________________________________________________\n"
     ]
    }
   ],
   "source": [
    "# Build the model.\n",
    "from keras.models import Sequential\n",
    "from keras.layers import Dense, Activation, Dropout\n",
    "from keras.callbacks import ModelCheckpoint\n",
    "from keras.models import load_model\n",
    "model = Sequential([\n",
    "        Dense(256, input_dim = X.shape[-1]), \n",
    "        Activation('relu'), \n",
    "        Dropout(0.4), \n",
    "        Dense(y.shape[-1])\n",
    "        ])\n",
    "model.compile(loss = 'mse', optimizer = 'adam', metrics = ['accuracy'])\n",
    "model.summary()"
   ]
  },
  {
   "cell_type": "markdown",
   "metadata": {},
   "source": [
    "## IoU Calculating Function"
   ]
  },
  {
   "cell_type": "code",
   "execution_count": 24,
   "metadata": {},
   "outputs": [],
   "source": [
    "def IOU(bbox1, bbox2):\n",
    "    '''Calculate overlap between two bounding boxes [x, y, w, h] as the area of intersection over the area of unity'''\n",
    "    x1, y1, w1, h1 = bbox1[0], bbox1[1], bbox1[2], bbox1[3]\n",
    "    x2, y2, w2, h2 = bbox2[0], bbox2[1], bbox2[2], bbox2[3]\n",
    "\n",
    "    w_I = min(x1 + w1, x2 + w2) - max(x1, x2)\n",
    "    h_I = min(y1 + h1, y2 + h2) - max(y1, y2)\n",
    "    if w_I <= 0 or h_I <= 0:  # no overlap\n",
    "        return 0\n",
    "    I = w_I * h_I\n",
    "\n",
    "    U = w1 * h1 + w2 * h2 - I\n",
    "\n",
    "    return I / U"
   ]
  },
  {
   "cell_type": "markdown",
   "metadata": {},
   "source": [
    "## Distance Calculating function"
   ]
  },
  {
   "cell_type": "code",
   "execution_count": 25,
   "metadata": {},
   "outputs": [],
   "source": [
    "def distance(bbox1, bbox2):\n",
    "    return np.sqrt(np.sum(np.square(bbox1[:2] - bbox2[:2])))"
   ]
  },
  {
   "cell_type": "markdown",
   "metadata": {},
   "source": [
    "## Training"
   ]
  },
  {
   "cell_type": "code",
   "execution_count": 26,
   "metadata": {
    "scrolled": false
   },
   "outputs": [
    {
     "name": "stdout",
     "output_type": "stream",
     "text": [
      "Epoch:  0\n",
      "1250/1250 [==============================] - 1s 920us/step - loss: 0.0472 - accuracy: 0.2779 - val_loss: 0.0184 - val_accuracy: 0.3298\n",
      "Switched 19255.0 training samples (48.1375 %)\n",
      "Mean IOU: 0.17139559832046844\n",
      "Mean dist: 0.2022666551474687\n",
      "Mean mse: 0.008365470404598369\n",
      "Epoch:  1\n",
      "1250/1250 [==============================] - 1s 997us/step - loss: 0.0167 - accuracy: 0.4526 - val_loss: 0.0191 - val_accuracy: 0.3511\n",
      "Switched 8146.0 training samples (20.365 %)\n",
      "Mean IOU: 0.2184023200064336\n",
      "Mean dist: 0.16513168040168508\n",
      "Mean mse: 0.006012877709147831\n",
      "Epoch:  2\n",
      "1250/1250 [==============================] - 1s 872us/step - loss: 0.0125 - accuracy: 0.5567 - val_loss: 0.0218 - val_accuracy: 0.3755\n",
      "Switched 4376.0 training samples (10.94 %)\n",
      "Mean IOU: 0.30545837805076037\n",
      "Mean dist: 0.1273614912063631\n",
      "Mean mse: 0.004225262831310145\n",
      "Epoch:  3\n",
      "1250/1250 [==============================] - 1s 887us/step - loss: 0.0102 - accuracy: 0.6136 - val_loss: 0.0229 - val_accuracy: 0.3923\n",
      "Switched 2618.0 training samples (6.544999999999999 %)\n",
      "Mean IOU: 0.3528806332756262\n",
      "Mean dist: 0.1097481751488275\n",
      "Mean mse: 0.0034754371566946686\n",
      "Epoch:  4\n",
      "1250/1250 [==============================] - 1s 876us/step - loss: 0.0090 - accuracy: 0.6484 - val_loss: 0.0239 - val_accuracy: 0.4011\n",
      "Switched 1942.0 training samples (4.855 %)\n",
      "Mean IOU: 0.3890910111694005\n",
      "Mean dist: 0.09862978469735177\n",
      "Mean mse: 0.0030221431759007993\n",
      "Epoch:  5\n",
      "1250/1250 [==============================] - 1s 884us/step - loss: 0.0083 - accuracy: 0.6701 - val_loss: 0.0239 - val_accuracy: 0.4098\n",
      "Switched 1579.0 training samples (3.9475000000000002 %)\n",
      "Mean IOU: 0.4048914456324426\n",
      "Mean dist: 0.09344882327030375\n",
      "Mean mse: 0.002785654987827323\n",
      "Epoch:  6\n",
      "1250/1250 [==============================] - 1s 880us/step - loss: 0.0078 - accuracy: 0.6824 - val_loss: 0.0244 - val_accuracy: 0.4195\n",
      "Switched 1596.0 training samples (3.9899999999999998 %)\n",
      "Mean IOU: 0.42242467884046525\n",
      "Mean dist: 0.0867241710539687\n",
      "Mean mse: 0.0025558832378484186\n",
      "Epoch:  7\n",
      "1250/1250 [==============================] - 1s 886us/step - loss: 0.0075 - accuracy: 0.6852 - val_loss: 0.0249 - val_accuracy: 0.4108\n",
      "Switched 1260.0 training samples (3.15 %)\n",
      "Mean IOU: 0.44164685000364534\n",
      "Mean dist: 0.08350450723171529\n",
      "Mean mse: 0.0023842040167849996\n",
      "Epoch:  8\n",
      "1250/1250 [==============================] - 1s 887us/step - loss: 0.0072 - accuracy: 0.6879 - val_loss: 0.0251 - val_accuracy: 0.4176\n",
      "Switched 1017.0 training samples (2.5425 %)\n",
      "Mean IOU: 0.44453850436161774\n",
      "Mean dist: 0.08030610058569763\n",
      "Mean mse: 0.0022837114554004516\n",
      "Epoch:  9\n",
      "1250/1250 [==============================] - 1s 876us/step - loss: 0.0070 - accuracy: 0.6930 - val_loss: 0.0247 - val_accuracy: 0.4339\n",
      "Switched 1102.0 training samples (2.7550000000000003 %)\n",
      "Mean IOU: 0.4489389666926613\n",
      "Mean dist: 0.07986355729088215\n",
      "Mean mse: 0.0022165642126734386\n",
      "Epoch:  10\n",
      "1250/1250 [==============================] - 1s 977us/step - loss: 0.0068 - accuracy: 0.7001 - val_loss: 0.0253 - val_accuracy: 0.4261\n",
      "Switched 1013.0 training samples (2.5325 %)\n",
      "Mean IOU: 0.4633084070088292\n",
      "Mean dist: 0.07633115895672772\n",
      "Mean mse: 0.0021113914390964703\n",
      "Epoch:  11\n",
      "1250/1250 [==============================] - 1s 872us/step - loss: 0.0067 - accuracy: 0.6997 - val_loss: 0.0250 - val_accuracy: 0.4165\n",
      "Switched 1013.0 training samples (2.5325 %)\n",
      "Mean IOU: 0.4617468977088981\n",
      "Mean dist: 0.07655232033275151\n",
      "Mean mse: 0.0020998147628239336\n",
      "Epoch:  12\n",
      "1250/1250 [==============================] - 1s 877us/step - loss: 0.0066 - accuracy: 0.7002 - val_loss: 0.0249 - val_accuracy: 0.4096\n",
      "Switched 893.0 training samples (2.2325 %)\n",
      "Mean IOU: 0.47242912411568605\n",
      "Mean dist: 0.07447565300809733\n",
      "Mean mse: 0.002004920419993693\n",
      "Epoch:  13\n",
      "1250/1250 [==============================] - 1s 845us/step - loss: 0.0064 - accuracy: 0.7046 - val_loss: 0.0254 - val_accuracy: 0.4252\n",
      "Switched 1172.0 training samples (2.93 %)\n",
      "Mean IOU: 0.4653771442904171\n",
      "Mean dist: 0.07652386383976167\n",
      "Mean mse: 0.0020662721391501797\n",
      "Epoch:  14\n",
      "1250/1250 [==============================] - 1s 901us/step - loss: 0.0064 - accuracy: 0.7047 - val_loss: 0.0252 - val_accuracy: 0.4266\n",
      "Switched 937.0 training samples (2.3425000000000002 %)\n",
      "Mean IOU: 0.47467210436103807\n",
      "Mean dist: 0.07239125337135353\n",
      "Mean mse: 0.001929393729297159\n",
      "Epoch:  15\n",
      "1250/1250 [==============================] - 1s 860us/step - loss: 0.0062 - accuracy: 0.7090 - val_loss: 0.0256 - val_accuracy: 0.4079\n",
      "Switched 1031.0 training samples (2.5775 %)\n",
      "Mean IOU: 0.4815686674036913\n",
      "Mean dist: 0.07103301053973797\n",
      "Mean mse: 0.0018608951467004747\n",
      "Epoch:  16\n",
      "1250/1250 [==============================] - 1s 849us/step - loss: 0.0062 - accuracy: 0.7017 - val_loss: 0.0257 - val_accuracy: 0.4163\n",
      "Switched 823.0 training samples (2.0575 %)\n",
      "Mean IOU: 0.47365310269086613\n",
      "Mean dist: 0.07237212531383674\n",
      "Mean mse: 0.001907776332199656\n",
      "Epoch:  17\n",
      "1250/1250 [==============================] - 1s 872us/step - loss: 0.0060 - accuracy: 0.7056 - val_loss: 0.0255 - val_accuracy: 0.4469\n",
      "Switched 1084.0 training samples (2.71 %)\n",
      "Mean IOU: 0.48239109906172906\n",
      "Mean dist: 0.07042348317020723\n",
      "Mean mse: 0.0018385855341295986\n",
      "Epoch:  18\n",
      "1250/1250 [==============================] - 1s 873us/step - loss: 0.0060 - accuracy: 0.7120 - val_loss: 0.0260 - val_accuracy: 0.4213\n",
      "Switched 756.0 training samples (1.8900000000000001 %)\n",
      "Mean IOU: 0.49650214324220643\n",
      "Mean dist: 0.0676252157371864\n",
      "Mean mse: 0.0017592850416147257\n",
      "Epoch:  19\n",
      "1250/1250 [==============================] - 1s 845us/step - loss: 0.0060 - accuracy: 0.7106 - val_loss: 0.0259 - val_accuracy: 0.4222\n",
      "Switched 689.0 training samples (1.7225000000000001 %)\n",
      "Mean IOU: 0.48916983310174583\n",
      "Mean dist: 0.06755815951244191\n",
      "Mean mse: 0.001733701988597457\n",
      "Epoch:  20\n",
      "1250/1250 [==============================] - 1s 844us/step - loss: 0.0059 - accuracy: 0.7103 - val_loss: 0.0258 - val_accuracy: 0.4367\n",
      "Switched 653.0 training samples (1.6324999999999998 %)\n",
      "Mean IOU: 0.4974025811025253\n",
      "Mean dist: 0.06710614295203836\n",
      "Mean mse: 0.001736573631245985\n",
      "Epoch:  21\n",
      "1250/1250 [==============================] - 1s 820us/step - loss: 0.0058 - accuracy: 0.7134 - val_loss: 0.0257 - val_accuracy: 0.4273\n",
      "Switched 690.0 training samples (1.725 %)\n",
      "Mean IOU: 0.4937665322108105\n",
      "Mean dist: 0.0674593865290746\n",
      "Mean mse: 0.001717708892236113\n",
      "Epoch:  22\n",
      "1250/1250 [==============================] - 1s 828us/step - loss: 0.0058 - accuracy: 0.7119 - val_loss: 0.0258 - val_accuracy: 0.4028\n",
      "Switched 761.0 training samples (1.9025 %)\n",
      "Mean IOU: 0.5060797089709984\n",
      "Mean dist: 0.0657463280819883\n",
      "Mean mse: 0.0017212175219846768\n",
      "Epoch:  23\n",
      "1250/1250 [==============================] - 1s 850us/step - loss: 0.0058 - accuracy: 0.7079 - val_loss: 0.0262 - val_accuracy: 0.4265\n",
      "Switched 796.0 training samples (1.9900000000000002 %)\n",
      "Mean IOU: 0.5049467297461688\n",
      "Mean dist: 0.06572155921413157\n",
      "Mean mse: 0.0016729657185057252\n",
      "Epoch:  24\n",
      "1250/1250 [==============================] - 1s 835us/step - loss: 0.0057 - accuracy: 0.7148 - val_loss: 0.0258 - val_accuracy: 0.4433\n",
      "Switched 604.0 training samples (1.51 %)\n",
      "Mean IOU: 0.49782467583827994\n",
      "Mean dist: 0.06776306185630841\n",
      "Mean mse: 0.0017124429041750688\n",
      "Epoch:  25\n",
      "1250/1250 [==============================] - 1s 858us/step - loss: 0.0058 - accuracy: 0.7188 - val_loss: 0.0261 - val_accuracy: 0.4413\n",
      "Switched 644.0 training samples (1.6099999999999999 %)\n",
      "Mean IOU: 0.49479081728134644\n",
      "Mean dist: 0.06601657254939759\n",
      "Mean mse: 0.0016672262179414068\n",
      "Epoch:  26\n",
      "1250/1250 [==============================] - 1s 858us/step - loss: 0.0058 - accuracy: 0.7161 - val_loss: 0.0255 - val_accuracy: 0.4349\n",
      "Switched 588.0 training samples (1.47 %)\n",
      "Mean IOU: 0.5044702811305737\n",
      "Mean dist: 0.06490523018705771\n",
      "Mean mse: 0.0016409241689839045\n",
      "Epoch:  27\n",
      "1250/1250 [==============================] - 1s 886us/step - loss: 0.0057 - accuracy: 0.7188 - val_loss: 0.0259 - val_accuracy: 0.4400\n",
      "Switched 566.0 training samples (1.415 %)\n",
      "Mean IOU: 0.5138419420147795\n",
      "Mean dist: 0.06332569208405549\n",
      "Mean mse: 0.0016127094673890638\n",
      "Epoch:  28\n",
      "1250/1250 [==============================] - 1s 880us/step - loss: 0.0057 - accuracy: 0.7190 - val_loss: 0.0259 - val_accuracy: 0.4253\n",
      "Switched 542.0 training samples (1.355 %)\n",
      "Mean IOU: 0.512872110829015\n",
      "Mean dist: 0.06304745990737413\n",
      "Mean mse: 0.0015939431914803765\n",
      "Epoch:  29\n"
     ]
    },
    {
     "name": "stdout",
     "output_type": "stream",
     "text": [
      "1250/1250 [==============================] - 1s 861us/step - loss: 0.0057 - accuracy: 0.7188 - val_loss: 0.0262 - val_accuracy: 0.4238\n",
      "Switched 654.0 training samples (1.635 %)\n",
      "Mean IOU: 0.5048910268676522\n",
      "Mean dist: 0.06374810823794283\n",
      "Mean mse: 0.0016309107338702547\n",
      "Epoch:  30\n",
      "1250/1250 [==============================] - 1s 891us/step - loss: 0.0057 - accuracy: 0.7143 - val_loss: 0.0259 - val_accuracy: 0.4290\n",
      "Switched 602.0 training samples (1.505 %)\n",
      "Mean IOU: 0.506276924970862\n",
      "Mean dist: 0.06238126724032048\n",
      "Mean mse: 0.0015838676936582485\n",
      "Epoch:  31\n",
      "1250/1250 [==============================] - 1s 872us/step - loss: 0.0057 - accuracy: 0.7151 - val_loss: 0.0261 - val_accuracy: 0.4186\n",
      "Switched 660.0 training samples (1.6500000000000001 %)\n",
      "Mean IOU: 0.5053512528823366\n",
      "Mean dist: 0.06467605072023798\n",
      "Mean mse: 0.0016278682677267355\n",
      "Epoch:  32\n",
      "1250/1250 [==============================] - 1s 847us/step - loss: 0.0056 - accuracy: 0.7158 - val_loss: 0.0256 - val_accuracy: 0.4216\n",
      "Switched 602.0 training samples (1.505 %)\n",
      "Mean IOU: 0.5014160452025835\n",
      "Mean dist: 0.06564762760348387\n",
      "Mean mse: 0.0016271543174912733\n",
      "Epoch:  33\n",
      "1250/1250 [==============================] - 1s 841us/step - loss: 0.0056 - accuracy: 0.7162 - val_loss: 0.0261 - val_accuracy: 0.4453\n",
      "Switched 595.0 training samples (1.4874999999999998 %)\n",
      "Mean IOU: 0.5082050535508542\n",
      "Mean dist: 0.06414944819133035\n",
      "Mean mse: 0.0015874530533373267\n",
      "Epoch:  34\n",
      "1250/1250 [==============================] - 1s 850us/step - loss: 0.0056 - accuracy: 0.7186 - val_loss: 0.0268 - val_accuracy: 0.4433\n",
      "Switched 448.0 training samples (1.1199999999999999 %)\n",
      "Mean IOU: 0.5054302687304929\n",
      "Mean dist: 0.06472620002345955\n",
      "Mean mse: 0.0016112568771667938\n",
      "Epoch:  35\n",
      "1250/1250 [==============================] - 1s 825us/step - loss: 0.0056 - accuracy: 0.7197 - val_loss: 0.0256 - val_accuracy: 0.4353\n",
      "Switched 543.0 training samples (1.3575 %)\n",
      "Mean IOU: 0.5023119557190288\n",
      "Mean dist: 0.06565155670295787\n",
      "Mean mse: 0.001614975944072363\n",
      "Epoch:  36\n",
      "1250/1250 [==============================] - 1s 851us/step - loss: 0.0055 - accuracy: 0.7194 - val_loss: 0.0255 - val_accuracy: 0.4401\n",
      "Switched 520.0 training samples (1.3 %)\n",
      "Mean IOU: 0.5077263992047822\n",
      "Mean dist: 0.06451654647176469\n",
      "Mean mse: 0.0015964385660040422\n",
      "Epoch:  37\n",
      "1250/1250 [==============================] - 1s 858us/step - loss: 0.0056 - accuracy: 0.7192 - val_loss: 0.0263 - val_accuracy: 0.4253\n",
      "Switched 597.0 training samples (1.4925000000000002 %)\n",
      "Mean IOU: 0.5193718257790789\n",
      "Mean dist: 0.06085279527547348\n",
      "Mean mse: 0.0015382987010851383\n",
      "Epoch:  38\n",
      "1250/1250 [==============================] - 1s 850us/step - loss: 0.0056 - accuracy: 0.7183 - val_loss: 0.0260 - val_accuracy: 0.4272\n",
      "Switched 563.0 training samples (1.4075 %)\n",
      "Mean IOU: 0.5154461646657824\n",
      "Mean dist: 0.06160638393078692\n",
      "Mean mse: 0.001534768755749412\n",
      "Epoch:  39\n",
      "1250/1250 [==============================] - 1s 862us/step - loss: 0.0055 - accuracy: 0.7219 - val_loss: 0.0259 - val_accuracy: 0.4433\n",
      "Switched 594.0 training samples (1.485 %)\n",
      "Mean IOU: 0.5052308358125112\n",
      "Mean dist: 0.06298479098164483\n",
      "Mean mse: 0.0015739427733106944\n",
      "Epoch:  40\n",
      "1250/1250 [==============================] - 1s 869us/step - loss: 0.0055 - accuracy: 0.7247 - val_loss: 0.0260 - val_accuracy: 0.4319\n",
      "Switched 581.0 training samples (1.4525 %)\n",
      "Mean IOU: 0.51191288062805\n",
      "Mean dist: 0.06270337155185211\n",
      "Mean mse: 0.0015317768047889042\n",
      "Epoch:  41\n",
      "1250/1250 [==============================] - 1s 833us/step - loss: 0.0055 - accuracy: 0.7230 - val_loss: 0.0262 - val_accuracy: 0.4312\n",
      "Switched 653.0 training samples (1.6324999999999998 %)\n",
      "Mean IOU: 0.5058379195547039\n",
      "Mean dist: 0.06343140765709092\n",
      "Mean mse: 0.0015967111609506077\n",
      "Epoch:  42\n",
      "1250/1250 [==============================] - 1s 816us/step - loss: 0.0055 - accuracy: 0.7239 - val_loss: 0.0257 - val_accuracy: 0.4263\n",
      "Switched 622.0 training samples (1.555 %)\n",
      "Mean IOU: 0.4978552168035569\n",
      "Mean dist: 0.06343330095685229\n",
      "Mean mse: 0.001585391180751067\n",
      "Epoch:  43\n",
      "1250/1250 [==============================] - 1s 832us/step - loss: 0.0055 - accuracy: 0.7208 - val_loss: 0.0265 - val_accuracy: 0.4342\n",
      "Switched 730.0 training samples (1.825 %)\n",
      "Mean IOU: 0.49979869339299937\n",
      "Mean dist: 0.06543514196894816\n",
      "Mean mse: 0.0016373528161659952\n",
      "Epoch:  44\n",
      "1250/1250 [==============================] - 1s 827us/step - loss: 0.0055 - accuracy: 0.7203 - val_loss: 0.0259 - val_accuracy: 0.4172\n",
      "Switched 676.0 training samples (1.69 %)\n",
      "Mean IOU: 0.49986087398979234\n",
      "Mean dist: 0.06467162726016829\n",
      "Mean mse: 0.001607971601978462\n",
      "Epoch:  45\n",
      "1250/1250 [==============================] - 1s 826us/step - loss: 0.0055 - accuracy: 0.7185 - val_loss: 0.0260 - val_accuracy: 0.4195\n",
      "Switched 717.0 training samples (1.7925 %)\n",
      "Mean IOU: 0.5007424764248002\n",
      "Mean dist: 0.0637681571272787\n",
      "Mean mse: 0.0015724115036321058\n",
      "Epoch:  46\n",
      "1250/1250 [==============================] - 1s 859us/step - loss: 0.0055 - accuracy: 0.7177 - val_loss: 0.0255 - val_accuracy: 0.4382\n",
      "Switched 580.0 training samples (1.4500000000000002 %)\n",
      "Mean IOU: 0.5134809059361186\n",
      "Mean dist: 0.06271066018235225\n",
      "Mean mse: 0.0015452103475346445\n",
      "Epoch:  47\n",
      "1250/1250 [==============================] - 1s 857us/step - loss: 0.0055 - accuracy: 0.7207 - val_loss: 0.0263 - val_accuracy: 0.4175\n",
      "Switched 537.0 training samples (1.3425 %)\n",
      "Mean IOU: 0.5168538664347608\n",
      "Mean dist: 0.06168411568918482\n",
      "Mean mse: 0.001534555394390977\n",
      "Epoch:  48\n",
      "1250/1250 [==============================] - 1s 850us/step - loss: 0.0055 - accuracy: 0.7179 - val_loss: 0.0258 - val_accuracy: 0.4289\n",
      "Switched 543.0 training samples (1.3575 %)\n",
      "Mean IOU: 0.51487926642245\n",
      "Mean dist: 0.062358286770630926\n",
      "Mean mse: 0.0015500571750140146\n",
      "Epoch:  49\n",
      "1250/1250 [==============================] - 1s 833us/step - loss: 0.0055 - accuracy: 0.7184 - val_loss: 0.0265 - val_accuracy: 0.4411\n",
      "Switched 578.0 training samples (1.4449999999999998 %)\n",
      "Mean IOU: 0.5171013419170833\n",
      "Mean dist: 0.06224905869779092\n",
      "Mean mse: 0.0015504343134633543\n"
     ]
    }
   ],
   "source": [
    "# Since the model won't know which box to predict first, we have to switch bboxes during training.\n",
    "# Note: The validation loss is always quite big here because we don't switch the bounding boxes for the validation data. \n",
    "\n",
    "num_epochs = 50\n",
    "switched_train_y = np.array(train_y)\n",
    "switched = np.zeros((len(switched_train_y), num_epochs))\n",
    "ious_epoch = np.zeros((len(switched_train_y), num_epochs))\n",
    "dists_epoch = np.zeros((len(switched_train_y), num_epochs))\n",
    "mses_epoch = np.zeros((len(switched_train_y), num_epochs))\n",
    "\n",
    "for epoch in range(num_epochs):\n",
    "    print(\"Epoch: \", epoch)\n",
    "    model.fit(train_X, switched_train_y, epochs = 1, validation_data = (test_X, test_y), verbose = 1,\n",
    "              callbacks = [ModelCheckpoint('Two_Rectangles_model.h5',\n",
    "                                           monitor = 'val_accuracy',\n",
    "                                           save_best_only = True)])\n",
    "    pred_y = model.predict(train_X)\n",
    "    \n",
    "    for i, (pred_bboxes, exp_bboxes) in enumerate(zip(pred_y, switched_train_y)):\n",
    "        \n",
    "        switched_exp_bboxes = np.concatenate([exp_bboxes[4:], exp_bboxes[:4]])\n",
    "        \n",
    "        mse = np.mean(np.square(pred_bboxes - exp_bboxes))\n",
    "        mse_switched = np.mean(np.square(pred_bboxes - switched_exp_bboxes))\n",
    "        \n",
    "        iou = IOU(pred_bboxes[:4], exp_bboxes[:4]) + IOU(pred_bboxes[4:], exp_bboxes[4:])\n",
    "        iou_switched = IOU(pred_bboxes[:4], switched_exp_bboxes[:4]) + IOU(pred_bboxes[4:], switched_exp_bboxes[4:])\n",
    "        \n",
    "        dist = distance(pred_bboxes[:4], exp_bboxes[:4]) + distance(pred_bboxes[4:], exp_bboxes[4:])\n",
    "        dist_switched = distance(pred_bboxes[:4], switched_exp_bboxes[:4]) + distance(pred_bboxes[4:], switched_exp_bboxes[4:])\n",
    "        \n",
    "        if mse_switched < mse:  # you can also use iou or dist here\n",
    "            switched_train_y[i] = switched_exp_bboxes\n",
    "            switched[i, epoch] = 1\n",
    "            mses_epoch[i, epoch] = mse_switched / 2.\n",
    "            ious_epoch[i, epoch] = iou_switched / 2.\n",
    "            dists_epoch[i, epoch] = dist_switched / 2.\n",
    "        else:\n",
    "            mses_epoch[i, epoch] = mse / 2.\n",
    "            ious_epoch[i, epoch] = iou / 2.\n",
    "            dists_epoch[i, epoch] = dist / 2.\n",
    "            \n",
    "    print('Switched {} training samples ({} %)'.format(np.sum(switched[:, epoch]), np.mean(switched[:, epoch]) * 100.))\n",
    "    print('Mean IOU: {}'.format(np.mean(ious_epoch[:, epoch])))\n",
    "    print('Mean dist: {}'.format(np.mean(dists_epoch[:, epoch])))\n",
    "    print('Mean mse: {}'.format(np.mean(mses_epoch[:, epoch])))"
   ]
  },
  {
   "cell_type": "markdown",
   "metadata": {},
   "source": [
    "## Switching Track"
   ]
  },
  {
   "cell_type": "code",
   "execution_count": 32,
   "metadata": {},
   "outputs": [
    {
     "data": {
      "image/png": "[encoded data removed]",
      "text/plain": [
       "<Figure size 432x288 with 1 Axes>"
      ]
     },
     "metadata": {
      "needs_background": "light"
     },
     "output_type": "display_data"
    }
   ],
   "source": [
    "# Show switchings for a few training samples.\n",
    "'''Differences between pcolor() and pcolormesh(): \n",
    "   pcolormesh() is more specialized for the given purpose and thus is faster. It should almost always be preferred.'''\n",
    "plt.pcolormesh(switched[:, :], cmap = 'Greys')\n",
    "plt.xlabel('Epoch')\n",
    "plt.ylabel('Training sample')\n",
    "plt.savefig('two-rectangles_switches.png', dpi = 100)\n",
    "plt.show()"
   ]
  },
  {
   "cell_type": "markdown",
   "metadata": {},
   "source": [
    "## Metrics Track"
   ]
  },
  {
   "cell_type": "code",
   "execution_count": 28,
   "metadata": {
    "scrolled": true
   },
   "outputs": [
    {
     "data": {
      "image/png": "[encoded data removed]",
      "text/plain": [
       "<Figure size 432x288 with 1 Axes>"
      ]
     },
     "metadata": {
      "needs_background": "light"
     },
     "output_type": "display_data"
    }
   ],
   "source": [
    "# Plot metrics on the training data. \n",
    "mean_ious_epoch = np.mean(ious_epoch, axis = 0)\n",
    "mean_dists_epoch = np.mean(dists_epoch, axis = 0)\n",
    "mean_mses_epoch = np.mean(mses_epoch, axis = 0)\n",
    "plt.plot(mean_ious_epoch, label = 'Mean IOU')  # between predicted and assigned true bboxes\n",
    "plt.plot(mean_dists_epoch, label = 'Mean distance')  # relative to image size\n",
    "plt.plot(mean_mses_epoch, label = 'Mean mse')\n",
    "# horizontalalignment = 'right': make the annotation text aligns with the right side\n",
    "plt.annotate(np.round(np.max(mean_ious_epoch), 3), (len(mean_ious_epoch) - 1, mean_ious_epoch[-1] + 0.02), horizontalalignment = 'right', color = 'purple')\n",
    "plt.annotate(np.round(np.min(mean_dists_epoch), 3), (len(mean_dists_epoch) - 1, mean_dists_epoch[-1] + 0.02), horizontalalignment = 'right', color = 'g')\n",
    "plt.annotate(np.round(np.min(mean_mses_epoch), 3), (len(mean_mses_epoch) - 1, mean_mses_epoch[-1] + 0.02), horizontalalignment = 'right', color = 'r')\n",
    "\n",
    "# Hide y tick\n",
    "ax = plt.gca()\n",
    "ax.axes.yaxis.set_visible(False)\n",
    "\n",
    "plt.legend()\n",
    "plt.ylim(0, 0.8)\n",
    "plt.savefig('training_metrics.png', dpi = 100)"
   ]
  },
  {
   "cell_type": "markdown",
   "metadata": {},
   "source": [
    "## Denormalize Data"
   ]
  },
  {
   "cell_type": "code",
   "execution_count": 29,
   "metadata": {},
   "outputs": [
    {
     "data": {
      "text/plain": [
       "(10000, 2, 4)"
      ]
     },
     "execution_count": 29,
     "metadata": {},
     "output_type": "execute_result"
    }
   ],
   "source": [
    "# Predict bounding boxes on the test images.\n",
    "pred_y = model.predict(test_X)\n",
    "pred_bboxes = pred_y * img_size\n",
    "pred_bboxes = pred_bboxes.reshape(len(pred_bboxes), num_objects, -1)\n",
    "pred_bboxes.shape"
   ]
  },
  {
   "cell_type": "markdown",
   "metadata": {},
   "source": [
    "## Visualize Results"
   ]
  },
  {
   "cell_type": "code",
   "execution_count": 30,
   "metadata": {
    "scrolled": true
   },
   "outputs": [
    {
     "data": {
      "image/png": "[encoded data removed]",
      "text/plain": [
       "<Figure size 864x216 with 4 Axes>"
      ]
     },
     "metadata": {
      "needs_background": "light"
     },
     "output_type": "display_data"
    }
   ],
   "source": [
    "# Show a few images and predicted bounding boxes from the test dataset. \n",
    "plt.figure(figsize = (12, 3))\n",
    "for i_subplot in range(1, 5):\n",
    "    plt.subplot(1, 4, i_subplot)\n",
    "    i = np.random.randint(len(test_X))\n",
    "    plt.imshow(test_imgs[i].T, cmap = 'Greys', interpolation = 'none', origin = 'lower', extent = [0, img_size, 0, img_size])\n",
    "    for pred_bbox, exp_bbox in zip(pred_bboxes[i], test_bboxes[i]):\n",
    "        plt.gca().add_patch(matplotlib.patches.Rectangle((pred_bbox[0], pred_bbox[1]), pred_bbox[2], pred_bbox[3], lw = 2, ec = 'r', fc = 'none'))\n",
    "\n",
    "plt.savefig('two-rectangles_with-switching.png', dpi = 100)"
   ]
  },
  {
   "cell_type": "markdown",
   "metadata": {},
   "source": [
    "## Overall Assessment"
   ]
  },
  {
   "cell_type": "code",
   "execution_count": 31,
   "metadata": {},
   "outputs": [
    {
     "data": {
      "text/plain": [
       "0.5165961587354475"
      ]
     },
     "execution_count": 31,
     "metadata": {},
     "output_type": "execute_result"
    }
   ],
   "source": [
    "from keras.models import load_model\n",
    "model_test = load_model('Two_Rectangles_model.h5')\n",
    "pred_y = model_test.predict(test_X)\n",
    "summed_IOU = 0.\n",
    "\n",
    "for i, (pred_bboxes, exp_bboxes) in enumerate(zip(pred_y, test_y)):\n",
    "\n",
    "    switched_exp_bboxes = np.concatenate([exp_bboxes[4:], exp_bboxes[:4]])\n",
    "\n",
    "    iou = IOU(pred_bboxes[:4], exp_bboxes[:4]) + IOU(pred_bboxes[4:], exp_bboxes[4:])\n",
    "    iou_switched = IOU(pred_bboxes[:4], switched_exp_bboxes[:4]) + IOU(pred_bboxes[4:], switched_exp_bboxes[4:])\n",
    "\n",
    "    if iou_switched > iou:  \n",
    "        summed_IOU += iou_switched\n",
    "    else:\n",
    "        summed_IOU += iou\n",
    "\n",
    "mean_IOU = summed_IOU / (num_objects * len(pred_y))\n",
    "mean_IOU"
   ]
  },
  {
   "cell_type": "code",
   "execution_count": null,
   "metadata": {},
   "outputs": [],
   "source": []
  }
 ],
 "metadata": {
  "kernelspec": {
   "display_name": "Python 3",
   "language": "python",
   "name": "python3"
  },
  "language_info": {
   "codemirror_mode": {
    "name": "ipython",
    "version": 3
   },
   "file_extension": ".py",
   "mimetype": "text/x-python",
   "name": "python",
   "nbconvert_exporter": "python",
   "pygments_lexer": "ipython3",
   "version": "3.8.3"
  }
 },
 "nbformat": 4,
 "nbformat_minor": 4
}
