{
 "cells": [
  {
   "cell_type": "markdown",
   "metadata": {},
   "source": [
    "# Multiple Rectangles Detection"
   ]
  },
  {
   "cell_type": "markdown",
   "metadata": {},
   "source": [
    "## Import Packages"
   ]
  },
  {
   "cell_type": "code",
   "execution_count": 1,
   "metadata": {
    "ExecuteTime": {
     "end_time": "2016-07-11T02:31:23.705000",
     "start_time": "2016-07-11T02:31:23.164000"
    }
   },
   "outputs": [],
   "source": [
    "import numpy as np\n",
    "import matplotlib.pyplot as plt\n",
    "import matplotlib\n",
    "%matplotlib inline"
   ]
  },
  {
   "cell_type": "markdown",
   "metadata": {},
   "source": [
    "## Data Generation"
   ]
  },
  {
   "cell_type": "code",
   "execution_count": 2,
   "metadata": {
    "ExecuteTime": {
     "end_time": "2016-07-11T02:31:26.922000",
     "start_time": "2016-07-11T02:31:24.029000"
    }
   },
   "outputs": [
    {
     "data": {
      "text/plain": [
       "((50000, 8, 8), (50000, 3, 4))"
      ]
     },
     "execution_count": 2,
     "metadata": {},
     "output_type": "execute_result"
    }
   ],
   "source": [
    "num_imgs = 50000\n",
    "\n",
    "img_size = 8\n",
    "min_rect_size = 1\n",
    "max_rect_size = 4\n",
    "num_objects = 3\n",
    "\n",
    "bboxes = np.zeros((num_imgs, num_objects, 4))\n",
    "imgs = np.zeros((num_imgs, img_size, img_size))\n",
    "\n",
    "for i_img in range(num_imgs):\n",
    "    for i_object in range(num_objects):\n",
    "        width, height = np.random.randint(min_rect_size, max_rect_size, size=2)\n",
    "        x = np.random.randint(0, img_size - width)\n",
    "        y = np.random.randint(0, img_size - height)\n",
    "        imgs[i_img, x:x+width, y:y+height] = 1.\n",
    "        bboxes[i_img, i_object] = [x, y, width, height]\n",
    "        \n",
    "'''        \n",
    "    # Prevent overlap between rectangles.\n",
    "    # Makes results (i.e. mean IOU) slightly worse; probably because the shapes are smaller \n",
    "    # (i.e. they are harder to recognize and capture within a bbox) \n",
    "    # and further apart (i.e. the algorithm can't set all bboxes to the same location to get a good IOU).    \n",
    "    i_object = 0\n",
    "    while i_object < num_objects:\n",
    "        width, height = np.random.randint(min_rect_size, max_rect_size, size=2)\n",
    "        x = np.random.randint(0, img_size - width)\n",
    "        y = np.random.randint(0, img_size - height)\n",
    "        overlap = False        \n",
    "        print('Creating object', i_object, '- checking', len(bboxes[i_img, :i_object]), 'bboxes for overlap',)\n",
    "        for bbox in bboxes[i_img, :i_object]:  # TODO: Check if this includes all bboxes.\n",
    "            overlap = bool(IOU(bbox, [x-1, y-1, width+2, height+2]))  # at least one free field between objects\n",
    "            if overlap: \n",
    "                print('--> Found overlap')\n",
    "                break\n",
    "            if not overlap:\n",
    "                imgs[i_img, x:x+width, y:y+height] = 1.\n",
    "                bboxes[i_img, i_object] = [x, y, width, height]\n",
    "                i_object += 1\n",
    "                print('--> Found no overlap')\n",
    "'''\n",
    "        \n",
    "imgs.shape, bboxes.shape"
   ]
  },
  {
   "cell_type": "code",
   "execution_count": 20,
   "metadata": {
    "ExecuteTime": {
     "end_time": "2016-07-11T02:31:27.836000",
     "start_time": "2016-07-11T02:31:27.576000"
    },
    "scrolled": true
   },
   "outputs": [
    {
     "data": {
      "image/png": "[encoded data removed]",
      "text/plain": [
       "<Figure size 432x288 with 1 Axes>"
      ]
     },
     "metadata": {
      "needs_background": "light"
     },
     "output_type": "display_data"
    }
   ],
   "source": [
    "i = 0\n",
    "plt.imshow(imgs[i].T, cmap='Greys', interpolation='none', origin='lower', extent=[0, img_size, 0, img_size])\n",
    "for bbox in bboxes[i]:\n",
    "    plt.gca().add_patch(matplotlib.patches.Rectangle((bbox[0], bbox[1]), bbox[2], bbox[3], ec='r', fc='none'))"
   ]
  },
  {
   "cell_type": "markdown",
   "metadata": {},
   "source": [
    "## Preprocessing"
   ]
  },
  {
   "cell_type": "code",
   "execution_count": 21,
   "metadata": {
    "ExecuteTime": {
     "end_time": "2016-07-11T02:31:29.292000",
     "start_time": "2016-07-11T02:31:29.159000"
    }
   },
   "outputs": [
    {
     "data": {
      "text/plain": [
       "((50000, 64), -6.606271085729532e-17, 1.0000000000000002)"
      ]
     },
     "execution_count": 21,
     "metadata": {},
     "output_type": "execute_result"
    }
   ],
   "source": [
    "X = (imgs.reshape(num_imgs, -1) - np.mean(imgs)) / np.std(imgs)\n",
    "X.shape, np.mean(X), np.std(X)"
   ]
  },
  {
   "cell_type": "code",
   "execution_count": 22,
   "metadata": {
    "ExecuteTime": {
     "end_time": "2016-07-11T02:31:30.073000",
     "start_time": "2016-07-11T02:31:30.064000"
    }
   },
   "outputs": [
    {
     "data": {
      "text/plain": [
       "(50000, 12)"
      ]
     },
     "execution_count": 22,
     "metadata": {},
     "output_type": "execute_result"
    }
   ],
   "source": [
    "y = bboxes.reshape(num_imgs, -1) / img_size\n",
    "y.shape"
   ]
  },
  {
   "cell_type": "markdown",
   "metadata": {},
   "source": [
    "## Train Test Split"
   ]
  },
  {
   "cell_type": "code",
   "execution_count": 23,
   "metadata": {
    "ExecuteTime": {
     "end_time": "2016-07-11T02:31:31.033000",
     "start_time": "2016-07-11T02:31:31.028000"
    }
   },
   "outputs": [],
   "source": [
    "i = int(0.8 * num_imgs)\n",
    "train_X = X[:i]\n",
    "test_X = X[i:]\n",
    "train_y = y[:i]\n",
    "test_y = y[i:]\n",
    "test_imgs = imgs[i:]\n",
    "test_bboxes = bboxes[i:]"
   ]
  },
  {
   "cell_type": "markdown",
   "metadata": {},
   "source": [
    "## CNN Model"
   ]
  },
  {
   "cell_type": "code",
   "execution_count": 24,
   "metadata": {
    "ExecuteTime": {
     "end_time": "2016-07-11T02:31:38.581000",
     "start_time": "2016-07-11T02:31:32.040000"
    }
   },
   "outputs": [],
   "source": [
    "from keras.models import Sequential\n",
    "from keras.layers import Dense, Activation, Dropout\n",
    "from keras.callbacks import ModelCheckpoint\n",
    "from keras.optimizers import SGD\n",
    "model = Sequential([\n",
    "        Dense(256, input_dim=X.shape[-1]), \n",
    "        Activation('relu'), \n",
    "        Dropout(0.4), \n",
    "        Dense(y.shape[-1])\n",
    "    ])\n",
    "model.compile('adadelta', 'mse')"
   ]
  },
  {
   "cell_type": "markdown",
   "metadata": {},
   "source": [
    "## IoU Calculating Function"
   ]
  },
  {
   "cell_type": "code",
   "execution_count": 25,
   "metadata": {},
   "outputs": [],
   "source": [
    "def IOU(bbox1, bbox2):\n",
    "    '''Calculate overlap between two bounding boxes [x, y, w, h] as the area of intersection over the area of unity'''\n",
    "    x1, y1, w1, h1 = bbox1[0], bbox1[1], bbox1[2], bbox1[3]  # TODO: Check if its more performant if tensor elements are accessed directly below.\n",
    "    x2, y2, w2, h2 = bbox2[0], bbox2[1], bbox2[2], bbox2[3]\n",
    "\n",
    "    w_I = min(x1 + w1, x2 + w2) - max(x1, x2)\n",
    "    h_I = min(y1 + h1, y2 + h2) - max(y1, y2)\n",
    "    if w_I <= 0 or h_I <= 0:  # no overlap\n",
    "        return 0\n",
    "    I = w_I * h_I\n",
    "\n",
    "    U = w1 * h1 + w2 * h2 - I\n",
    "\n",
    "    return I / U"
   ]
  },
  {
   "cell_type": "markdown",
   "metadata": {},
   "source": [
    "## Distance Calculating function"
   ]
  },
  {
   "cell_type": "code",
   "execution_count": 26,
   "metadata": {},
   "outputs": [],
   "source": [
    "def distance(bbox1, bbox2):\n",
    "    return np.sqrt(np.sum(np.square(bbox1[:2] - bbox2[:2])))"
   ]
  },
  {
   "cell_type": "markdown",
   "metadata": {},
   "source": [
    "## Training"
   ]
  },
  {
   "cell_type": "code",
   "execution_count": 27,
   "metadata": {
    "ExecuteTime": {
     "end_time": "2016-07-11T02:49:39.783000",
     "start_time": "2016-07-11T02:31:48.430000"
    },
    "code_folding": [
     2,
     17
    ]
   },
   "outputs": [
    {
     "name": "stdout",
     "output_type": "stream",
     "text": [
      "Epoch 0\n",
      "1250/1250 [==============================] - 2s 1ms/step - loss: 0.6965 - val_loss: 0.3949\n",
      "Flipped 66.40916666666666 % of all elements\n",
      "Mean IOU: 0.006727140984834437\n",
      "Mean dist: 0.7599117815797228\n",
      "Mean mse: 0.3429969085765352\n",
      "Epoch 1\n",
      "1250/1250 [==============================] - 1s 786us/step - loss: 0.5366 - val_loss: 0.3124\n",
      "Flipped 12.055833333333336 % of all elements\n",
      "Mean IOU: 0.010079655720177234\n",
      "Mean dist: 0.6594768881627949\n",
      "Mean mse: 0.26908578433745434\n",
      "Epoch 2\n",
      "1250/1250 [==============================] - 1s 846us/step - loss: 0.4670 - val_loss: 0.2577\n",
      "Flipped 12.200833333333334 % of all elements\n",
      "Mean IOU: 0.013743295553946936\n",
      "Mean dist: 0.5870252974414205\n",
      "Mean mse: 0.2204727725308463\n",
      "Epoch 3\n",
      "1250/1250 [==============================] - 1s 900us/step - loss: 0.4190 - val_loss: 0.2211\n",
      "Flipped 11.176666666666668 % of all elements\n",
      "Mean IOU: 0.017439621634678666\n",
      "Mean dist: 0.5352713913861437\n",
      "Mean mse: 0.18819178160432992\n",
      "Epoch 4\n",
      "1250/1250 [==============================] - 1s 854us/step - loss: 0.3859 - val_loss: 0.1959\n",
      "Flipped 9.191666666666668 % of all elements\n",
      "Mean IOU: 0.020866611288453872\n",
      "Mean dist: 0.4983624554962812\n",
      "Mean mse: 0.16600051758604284\n",
      "Epoch 5\n",
      "1250/1250 [==============================] - 1s 815us/step - loss: 0.3592 - val_loss: 0.1776\n",
      "Flipped 7.679166666666667 % of all elements\n",
      "Mean IOU: 0.023892334332284274\n",
      "Mean dist: 0.47093825638456677\n",
      "Mean mse: 0.14975697733582488\n",
      "Epoch 6\n",
      "1250/1250 [==============================] - 1s 821us/step - loss: 0.3402 - val_loss: 0.1635\n",
      "Flipped 6.535833333333334 % of all elements\n",
      "Mean IOU: 0.026609754821913884\n",
      "Mean dist: 0.4495864509032121\n",
      "Mean mse: 0.13709547062430077\n",
      "Epoch 7\n",
      "1250/1250 [==============================] - 1s 1ms/step - loss: 0.3203 - val_loss: 0.1521\n",
      "Flipped 5.496666666666668 % of all elements\n",
      "Mean IOU: 0.02913591717497419\n",
      "Mean dist: 0.43250607413969383\n",
      "Mean mse: 0.1269837798623116\n",
      "Epoch 8\n",
      "1250/1250 [==============================] - 1s 800us/step - loss: 0.3054 - val_loss: 0.1425\n",
      "Flipped 4.711666666666668 % of all elements\n",
      "Mean IOU: 0.03153737185898188\n",
      "Mean dist: 0.41748660805320226\n",
      "Mean mse: 0.11834341421000118\n",
      "Epoch 9\n",
      "1250/1250 [==============================] - 1s 822us/step - loss: 0.2923 - val_loss: 0.1344\n",
      "Flipped 4.0725 % of all elements\n",
      "Mean IOU: 0.03383040929833772\n",
      "Mean dist: 0.40476237550113153\n",
      "Mean mse: 0.11106140905614861\n",
      "Epoch 10\n",
      "1250/1250 [==============================] - 2s 1ms/step - loss: 0.2791 - val_loss: 0.1272\n",
      "Flipped 3.6100000000000008 % of all elements\n",
      "Mean IOU: 0.03610303392587428\n",
      "Mean dist: 0.3933809453243803\n",
      "Mean mse: 0.10463090880460828\n",
      "Epoch 11\n",
      "1250/1250 [==============================] - 1s 837us/step - loss: 0.2681 - val_loss: 0.1208\n",
      "Flipped 3.429166666666667 % of all elements\n",
      "Mean IOU: 0.03832971364089993\n",
      "Mean dist: 0.38319775641806336\n",
      "Mean mse: 0.09893123948340483\n",
      "Epoch 12\n",
      "1250/1250 [==============================] - 1s 798us/step - loss: 0.2570 - val_loss: 0.1151\n",
      "Flipped 3.1533333333333338 % of all elements\n",
      "Mean IOU: 0.04052810255731702\n",
      "Mean dist: 0.374120771988343\n",
      "Mean mse: 0.09392901820863607\n",
      "Epoch 13\n",
      "1250/1250 [==============================] - 1s 823us/step - loss: 0.2468 - val_loss: 0.1101\n",
      "Flipped 3.1300000000000003 % of all elements\n",
      "Mean IOU: 0.0427697552079579\n",
      "Mean dist: 0.365775130267047\n",
      "Mean mse: 0.08941203383524848\n",
      "Epoch 14\n",
      "1250/1250 [==============================] - 1s 779us/step - loss: 0.2377 - val_loss: 0.1055\n",
      "Flipped 2.9308333333333336 % of all elements\n",
      "Mean IOU: 0.04492077002431411\n",
      "Mean dist: 0.3581575039261907\n",
      "Mean mse: 0.08532604285685577\n",
      "Epoch 15\n",
      "1250/1250 [==============================] - 1s 983us/step - loss: 0.2293 - val_loss: 0.1013\n",
      "Flipped 2.6700000000000004 % of all elements\n",
      "Mean IOU: 0.04701070069044556\n",
      "Mean dist: 0.3512386740264043\n",
      "Mean mse: 0.08166219415180136\n",
      "Epoch 16\n",
      "1250/1250 [==============================] - 1s 811us/step - loss: 0.2205 - val_loss: 0.0975\n",
      "Flipped 2.7158333333333338 % of all elements\n",
      "Mean IOU: 0.049106174479225016\n",
      "Mean dist: 0.3447562447904321\n",
      "Mean mse: 0.07834527124989296\n",
      "Epoch 17\n",
      "1250/1250 [==============================] - 1s 786us/step - loss: 0.2131 - val_loss: 0.0940\n",
      "Flipped 2.608333333333334 % of all elements\n",
      "Mean IOU: 0.05125855304232495\n",
      "Mean dist: 0.33859904193225243\n",
      "Mean mse: 0.0752479384627141\n",
      "Epoch 18\n",
      "1250/1250 [==============================] - 1s 814us/step - loss: 0.2059 - val_loss: 0.0909\n",
      "Flipped 2.625833333333334 % of all elements\n",
      "Mean IOU: 0.053118576451078696\n",
      "Mean dist: 0.33298618876355773\n",
      "Mean mse: 0.07242155162754975\n",
      "Epoch 19\n",
      "1250/1250 [==============================] - 1s 804us/step - loss: 0.1987 - val_loss: 0.0879\n",
      "Flipped 2.504166666666667 % of all elements\n",
      "Mean IOU: 0.05501989175514474\n",
      "Mean dist: 0.3277301742525547\n",
      "Mean mse: 0.06981237927929726\n",
      "Epoch 20\n",
      "1250/1250 [==============================] - 1s 1ms/step - loss: 0.1924 - val_loss: 0.0852\n",
      "Flipped 2.5149999999999997 % of all elements\n",
      "Mean IOU: 0.056997446294749295\n",
      "Mean dist: 0.3229251278040544\n",
      "Mean mse: 0.06744832781382393\n",
      "Epoch 21\n",
      "1250/1250 [==============================] - 1s 900us/step - loss: 0.1856 - val_loss: 0.0826\n",
      "Flipped 2.306666666666667 % of all elements\n",
      "Mean IOU: 0.05886202576318258\n",
      "Mean dist: 0.3184216557494926\n",
      "Mean mse: 0.06523607608508865\n",
      "Epoch 22\n",
      "1250/1250 [==============================] - 1s 869us/step - loss: 0.1799 - val_loss: 0.0803\n",
      "Flipped 2.2550000000000003 % of all elements\n",
      "Mean IOU: 0.06058203746501152\n",
      "Mean dist: 0.31416237559639787\n",
      "Mean mse: 0.06319383250848243\n",
      "Epoch 23\n",
      "1250/1250 [==============================] - 1s 822us/step - loss: 0.1751 - val_loss: 0.0781\n",
      "Flipped 2.0966666666666667 % of all elements\n",
      "Mean IOU: 0.062387567561908906\n",
      "Mean dist: 0.31032108445639084\n",
      "Mean mse: 0.06133080284764899\n",
      "Epoch 24\n",
      "1250/1250 [==============================] - 1s 797us/step - loss: 0.1686 - val_loss: 0.0761\n",
      "Flipped 2.0425 % of all elements\n",
      "Mean IOU: 0.06419721632609583\n",
      "Mean dist: 0.30660787032256376\n",
      "Mean mse: 0.05956867034341825\n",
      "Epoch 25\n",
      "1250/1250 [==============================] - 1s 797us/step - loss: 0.1641 - val_loss: 0.0742\n",
      "Flipped 2.144166666666667 % of all elements\n",
      "Mean IOU: 0.06597204089124976\n",
      "Mean dist: 0.30294050226415137\n",
      "Mean mse: 0.057891423864623925\n",
      "Epoch 26\n",
      "1250/1250 [==============================] - 1s 799us/step - loss: 0.1589 - val_loss: 0.0724\n",
      "Flipped 2.0883333333333334 % of all elements\n",
      "Mean IOU: 0.0677559780923769\n",
      "Mean dist: 0.29955987834527437\n",
      "Mean mse: 0.056333875152506895\n",
      "Epoch 27\n",
      "1250/1250 [==============================] - 1s 1ms/step - loss: 0.1548 - val_loss: 0.0707\n",
      "Flipped 2.0033333333333334 % of all elements\n",
      "Mean IOU: 0.0694156827182789\n",
      "Mean dist: 0.29641035539735183\n",
      "Mean mse: 0.054858671839776295\n",
      "Epoch 28\n",
      "1250/1250 [==============================] - 1s 803us/step - loss: 0.1500 - val_loss: 0.0691\n",
      "Flipped 2.1100000000000003 % of all elements\n",
      "Mean IOU: 0.07122640180581682\n",
      "Mean dist: 0.29340301731054863\n",
      "Mean mse: 0.0534846617279976\n",
      "Epoch 29\n",
      "1250/1250 [==============================] - 1s 823us/step - loss: 0.1455 - val_loss: 0.0676\n",
      "Flipped 2.041666666666667 % of all elements\n",
      "Mean IOU: 0.07282645278901143\n",
      "Mean dist: 0.2906804316273842\n",
      "Mean mse: 0.05222101720605924\n",
      "Epoch 30\n",
      "1250/1250 [==============================] - 1s 822us/step - loss: 0.1415 - val_loss: 0.0662\n",
      "Flipped 1.855 % of all elements\n",
      "Mean IOU: 0.07433491466576288\n",
      "Mean dist: 0.2879769119456677\n",
      "Mean mse: 0.0510123151536367\n",
      "Epoch 31\n",
      "1250/1250 [==============================] - 1s 829us/step - loss: 0.1374 - val_loss: 0.0648\n",
      "Flipped 1.8000000000000003 % of all elements\n",
      "Mean IOU: 0.07593502668490094\n",
      "Mean dist: 0.28549613245661687\n",
      "Mean mse: 0.049851555637756756\n",
      "Epoch 32\n",
      "1250/1250 [==============================] - 1s 1ms/step - loss: 0.1339 - val_loss: 0.0636\n",
      "Flipped 2.001666666666667 % of all elements\n",
      "Mean IOU: 0.07746298806380546\n",
      "Mean dist: 0.2830957598382835\n",
      "Mean mse: 0.0487839651544586\n",
      "Epoch 33\n",
      "1250/1250 [==============================] - 1s 826us/step - loss: 0.1299 - val_loss: 0.0624\n",
      "Flipped 1.8483333333333334 % of all elements\n",
      "Mean IOU: 0.07901635928380887\n",
      "Mean dist: 0.28080176961794134\n",
      "Mean mse: 0.04776273905305088\n",
      "Epoch 34\n",
      "1250/1250 [==============================] - 1s 771us/step - loss: 0.1263 - val_loss: 0.0612\n",
      "Flipped 1.8191666666666668 % of all elements\n",
      "Mean IOU: 0.08052647777501143\n",
      "Mean dist: 0.2786204446688154\n",
      "Mean mse: 0.046799169168812736\n",
      "Epoch 35\n"
     ]
    },
    {
     "name": "stdout",
     "output_type": "stream",
     "text": [
      "1250/1250 [==============================] - 1s 801us/step - loss: 0.1232 - val_loss: 0.0601\n",
      "Flipped 1.7383333333333333 % of all elements\n",
      "Mean IOU: 0.08197520508054769\n",
      "Mean dist: 0.27643395661341696\n",
      "Mean mse: 0.045871056101933816\n",
      "Epoch 36\n",
      "1250/1250 [==============================] - 1s 815us/step - loss: 0.1207 - val_loss: 0.0591\n",
      "Flipped 1.6841666666666668 % of all elements\n",
      "Mean IOU: 0.08319874194073636\n",
      "Mean dist: 0.27445333768821895\n",
      "Mean mse: 0.045004802301953736\n",
      "Epoch 37\n",
      "1250/1250 [==============================] - 1s 798us/step - loss: 0.1172 - val_loss: 0.0581\n",
      "Flipped 1.7541666666666667 % of all elements\n",
      "Mean IOU: 0.08444861063985061\n",
      "Mean dist: 0.27262485337644987\n",
      "Mean mse: 0.04417532859375469\n",
      "Epoch 38\n",
      "1250/1250 [==============================] - 1s 790us/step - loss: 0.1142 - val_loss: 0.0571\n",
      "Flipped 1.77 % of all elements\n",
      "Mean IOU: 0.08586785244881687\n",
      "Mean dist: 0.2708133848516937\n",
      "Mean mse: 0.043376614664163794\n",
      "Epoch 39\n",
      "1250/1250 [==============================] - 1s 797us/step - loss: 0.1113 - val_loss: 0.0562\n",
      "Flipped 1.6500000000000001 % of all elements\n",
      "Mean IOU: 0.0872097234514266\n",
      "Mean dist: 0.2690210837216578\n",
      "Mean mse: 0.04262834946936913\n",
      "Epoch 40\n",
      "1250/1250 [==============================] - 2s 1ms/step - loss: 0.1089 - val_loss: 0.0554\n",
      "Flipped 1.6508333333333334 % of all elements\n",
      "Mean IOU: 0.08847649968690088\n",
      "Mean dist: 0.2673719640995976\n",
      "Mean mse: 0.0419067282806616\n",
      "Epoch 41\n",
      "1250/1250 [==============================] - 1s 810us/step - loss: 0.1064 - val_loss: 0.0545\n",
      "Flipped 1.6233333333333335 % of all elements\n",
      "Mean IOU: 0.08962806317210616\n",
      "Mean dist: 0.26576297279029804\n",
      "Mean mse: 0.04121791209370123\n",
      "Epoch 42\n",
      "1250/1250 [==============================] - 1s 877us/step - loss: 0.1037 - val_loss: 0.0537\n",
      "Flipped 1.549166666666667 % of all elements\n",
      "Mean IOU: 0.09093689579212216\n",
      "Mean dist: 0.2641592111504906\n",
      "Mean mse: 0.040547780762652336\n",
      "Epoch 43\n",
      "1250/1250 [==============================] - 1s 784us/step - loss: 0.1014 - val_loss: 0.0530\n",
      "Flipped 1.5599999999999998 % of all elements\n",
      "Mean IOU: 0.0921508039504206\n",
      "Mean dist: 0.2626685820788044\n",
      "Mean mse: 0.039917118072053406\n",
      "Epoch 44\n",
      "1250/1250 [==============================] - 1s 782us/step - loss: 0.0988 - val_loss: 0.0522\n",
      "Flipped 1.5483333333333336 % of all elements\n",
      "Mean IOU: 0.09337452702791742\n",
      "Mean dist: 0.2611844418211918\n",
      "Mean mse: 0.03931121991952804\n",
      "Epoch 45\n",
      "1250/1250 [==============================] - 1s 798us/step - loss: 0.0969 - val_loss: 0.0515\n",
      "Flipped 1.5474999999999999 % of all elements\n",
      "Mean IOU: 0.09471594648488106\n",
      "Mean dist: 0.25973595125180954\n",
      "Mean mse: 0.03871276036973806\n",
      "Epoch 46\n",
      "1250/1250 [==============================] - 1s 1ms/step - loss: 0.0944 - val_loss: 0.0508\n",
      "Flipped 1.4808333333333334 % of all elements\n",
      "Mean IOU: 0.0959051393382032\n",
      "Mean dist: 0.2584827618375314\n",
      "Mean mse: 0.0381634171242829\n",
      "Epoch 47\n",
      "1250/1250 [==============================] - 1s 1ms/step - loss: 0.0923 - val_loss: 0.0502\n",
      "Flipped 1.4675 % of all elements\n",
      "Mean IOU: 0.0970049188479715\n",
      "Mean dist: 0.2572339215081966\n",
      "Mean mse: 0.03763844377633995\n",
      "Epoch 48\n",
      "1250/1250 [==============================] - 2s 2ms/step - loss: 0.0904 - val_loss: 0.0496\n",
      "Flipped 1.4791666666666667 % of all elements\n",
      "Mean IOU: 0.09808188754161326\n",
      "Mean dist: 0.25601461416050864\n",
      "Mean mse: 0.037127391167195246\n",
      "Epoch 49\n",
      "1250/1250 [==============================] - 1s 783us/step - loss: 0.0886 - val_loss: 0.0490\n",
      "Flipped 1.4533333333333334 % of all elements\n",
      "Mean IOU: 0.09911332478488205\n",
      "Mean dist: 0.2548573770259308\n",
      "Mean mse: 0.03664482270975121\n"
     ]
    }
   ],
   "source": [
    "# Flip bboxes during training.\n",
    "# Note: The validation loss is always quite big here because we don't flip the bounding boxes for the validation data. \n",
    "\n",
    "num_epochs = 50\n",
    "flipped_train_y = np.array(train_y)\n",
    "flipped = np.zeros((len(flipped_train_y), num_epochs))\n",
    "ious_epoch = np.zeros((len(flipped_train_y), num_epochs))\n",
    "dists_epoch = np.zeros((len(flipped_train_y), num_epochs))\n",
    "mses_epoch = np.zeros((len(flipped_train_y), num_epochs))\n",
    "\n",
    "for epoch in range(num_epochs):\n",
    "    print('Epoch', epoch)\n",
    "    model.fit(train_X, flipped_train_y, epochs=1, validation_data=(test_X, test_y), verbose=1)\n",
    "    pred_y = model.predict(train_X)\n",
    "\n",
    "    for sample, (pred_bboxes, exp_bboxes) in enumerate(zip(pred_y, flipped_train_y)):\n",
    "        \n",
    "        pred_bboxes = pred_bboxes.reshape(num_objects, -1)\n",
    "        exp_bboxes = exp_bboxes.reshape(num_objects, -1)\n",
    "\n",
    "        ious = np.zeros((num_objects, num_objects))\n",
    "        dists = np.zeros((num_objects, num_objects))\n",
    "        mses = np.zeros((num_objects, num_objects))\n",
    "        for i, exp_bbox in enumerate(exp_bboxes):\n",
    "            for j, pred_bbox in enumerate(pred_bboxes):\n",
    "                ious[i, j] = IOU(exp_bbox, pred_bbox)\n",
    "                dists[i, j] = distance(exp_bbox, pred_bbox)\n",
    "                mses[i, j] = np.mean(np.square(exp_bbox - pred_bbox))\n",
    "                \n",
    "        new_order = np.zeros(num_objects, dtype=int)\n",
    "        \n",
    "        for i in range(num_objects):\n",
    "            # Find pred and exp bbox with minimum mse and assign them to each other (i.e. switch the positions of the exp bboxes in y).\n",
    "            ind_exp_bbox, ind_pred_bbox = np.unravel_index(mses.argmin(), mses.shape)\n",
    "            ious_epoch[sample, epoch] += ious[ind_exp_bbox, ind_pred_bbox]\n",
    "            dists_epoch[sample, epoch] += dists[ind_exp_bbox, ind_pred_bbox]\n",
    "            mses_epoch[sample, epoch] += mses[ind_exp_bbox, ind_pred_bbox]\n",
    "            mses[ind_exp_bbox] = 10000000#-1  # set mse of assigned bboxes to a large number, so they don't get assigned again\n",
    "            mses[:, ind_pred_bbox] = 10000000#-1\n",
    "            new_order[ind_pred_bbox] = ind_exp_bbox\n",
    "        \n",
    "        # Write flipped bboxes to training data.\n",
    "        flipped_train_y[sample] = exp_bboxes[new_order].flatten()\n",
    "        \n",
    "        flipped[sample, epoch] = 1. - np.mean(new_order == np.arange(num_objects, dtype=int))#np.array_equal(new_order, np.arange(num_objects, dtype=int))  \n",
    "        # TODO: Change this to reflect the number of flips.\n",
    "        ious_epoch[sample, epoch] /= num_objects\n",
    "        dists_epoch[sample, epoch] /= num_objects\n",
    "        mses_epoch[sample, epoch] /= num_objects\n",
    "        \n",
    "            \n",
    "    print('Flipped {} % of all elements'.format(np.mean(flipped[:, epoch]) * 100.))\n",
    "    print('Mean IOU: {}'.format(np.mean(ious_epoch[:, epoch])))\n",
    "    print('Mean dist: {}'.format(np.mean(dists_epoch[:, epoch])))\n",
    "    print('Mean mse: {}'.format(np.mean(mses_epoch[:, epoch])))"
   ]
  },
  {
   "cell_type": "markdown",
   "metadata": {},
   "source": [
    "## Flipping Track"
   ]
  },
  {
   "cell_type": "code",
   "execution_count": 28,
   "metadata": {
    "ExecuteTime": {
     "end_time": "2016-07-03T16:51:28.611000",
     "start_time": "2016-07-03T16:51:25.540000"
    },
    "scrolled": true
   },
   "outputs": [
    {
     "data": {
      "text/plain": [
       "Text(0, 0.5, 'Training sample')"
      ]
     },
     "execution_count": 28,
     "metadata": {},
     "output_type": "execute_result"
    },
    {
     "data": {
      "image/png": "[encoded data removed]",
      "text/plain": [
       "<Figure size 432x288 with 1 Axes>"
      ]
     },
     "metadata": {
      "needs_background": "light"
     },
     "output_type": "display_data"
    }
   ],
   "source": [
    "# Show flippings for a few training samples.\n",
    "plt.pcolor(flipped[:300], cmap='Greys', vmax=1.)\n",
    "plt.xlabel('Epoch')\n",
    "plt.ylabel('Training sample')"
   ]
  },
  {
   "cell_type": "markdown",
   "metadata": {},
   "source": [
    "## Metrics Track"
   ]
  },
  {
   "cell_type": "code",
   "execution_count": 29,
   "metadata": {
    "ExecuteTime": {
     "end_time": "2016-07-03T16:51:37.618000",
     "start_time": "2016-07-03T16:51:37.062000"
    }
   },
   "outputs": [
    {
     "data": {
      "text/plain": [
       "(0.0, 1.0)"
      ]
     },
     "execution_count": 29,
     "metadata": {},
     "output_type": "execute_result"
    },
    {
     "data": {
      "image/png": "[encoded data removed]",
      "text/plain": [
       "<Figure size 432x288 with 1 Axes>"
      ]
     },
     "metadata": {
      "needs_background": "light"
     },
     "output_type": "display_data"
    }
   ],
   "source": [
    "# Plot metrics on the training data. \n",
    "mean_ious_epoch = np.mean(ious_epoch, axis=0)\n",
    "mean_dists_epoch = np.mean(dists_epoch, axis=0)\n",
    "mean_mses_epoch = np.mean(mses_epoch, axis=0)\n",
    "plt.plot(mean_ious_epoch, label='Mean IOU')  # between predicted and assigned true bboxes\n",
    "plt.plot(mean_dists_epoch, label='Mean distance')  # relative to image size\n",
    "plt.plot(mean_mses_epoch, label='Mean mse')\n",
    "plt.annotate(np.round(np.max(mean_ious_epoch), 3), (len(mean_ious_epoch)-1, mean_ious_epoch[-1]+0.03), horizontalalignment='right', color='b')\n",
    "plt.annotate(np.round(np.min(mean_dists_epoch), 3), (len(mean_dists_epoch)-1, mean_dists_epoch[-1]+0.03), horizontalalignment='right', color='g')\n",
    "plt.annotate(np.round(np.min(mean_mses_epoch), 3), (len(mean_mses_epoch)-1, mean_mses_epoch[-1]+0.03), horizontalalignment='right', color='r')\n",
    "plt.xlabel('Epoch')\n",
    "plt.legend()\n",
    "plt.ylim(0, 1)\n",
    "\n",
    "# plt.savefig('plots/bw-three-rectangles-50k.png', dpi=300)"
   ]
  },
  {
   "cell_type": "markdown",
   "metadata": {},
   "source": [
    "## Denormalize Data"
   ]
  },
  {
   "cell_type": "code",
   "execution_count": 30,
   "metadata": {
    "ExecuteTime": {
     "end_time": "2016-07-03T16:34:24.949000",
     "start_time": "2016-07-03T16:34:24.511000"
    }
   },
   "outputs": [
    {
     "data": {
      "text/plain": [
       "(10000, 3, 4)"
      ]
     },
     "execution_count": 30,
     "metadata": {},
     "output_type": "execute_result"
    }
   ],
   "source": [
    "pred_y = model.predict(test_X)\n",
    "pred_bboxes = pred_y * img_size\n",
    "pred_bboxes = pred_bboxes.reshape(len(pred_bboxes), num_objects, -1)\n",
    "pred_bboxes.shape"
   ]
  },
  {
   "cell_type": "markdown",
   "metadata": {},
   "source": [
    "## Visualize Results"
   ]
  },
  {
   "cell_type": "code",
   "execution_count": 31,
   "metadata": {
    "ExecuteTime": {
     "end_time": "2016-07-03T16:34:55.948000",
     "start_time": "2016-07-03T16:34:54.428000"
    }
   },
   "outputs": [
    {
     "data": {
      "image/png": "[encoded data removed]",
      "text/plain": [
       "<Figure size 864x216 with 4 Axes>"
      ]
     },
     "metadata": {
      "needs_background": "light"
     },
     "output_type": "display_data"
    }
   ],
   "source": [
    "plt.figure(figsize=(12, 3))\n",
    "for i_subplot in range(1, 5):\n",
    "    plt.subplot(1, 4, i_subplot)\n",
    "    i = np.random.randint(len(test_X))\n",
    "    plt.imshow(test_imgs[i].T, cmap='Greys', interpolation='none', origin='lower', extent=[0, img_size, 0, img_size])\n",
    "    for pred_bbox, exp_bbox in zip(pred_bboxes[i], test_bboxes[i]):\n",
    "        plt.gca().add_patch(matplotlib.patches.Rectangle((pred_bbox[0], pred_bbox[1]), pred_bbox[2], pred_bbox[3], ec='r', fc='none'))\n",
    "        # TODO: Calculate max IOU with all expected bounding boxes.\n",
    "#         plt.annotate('IOU: {:.2f}'.format(IOU(pred_bbox, exp_bbox)), (pred_bbox[0], pred_bbox[1]+pred_bbox[3]+0.4), color='r')"
   ]
  },
  {
   "cell_type": "code",
   "execution_count": null,
   "metadata": {
    "collapsed": true
   },
   "outputs": [],
   "source": []
  }
 ],
 "metadata": {
  "kernelspec": {
   "display_name": "Python (tensorflow-gpu)",
   "language": "python",
   "name": "tf-gpu"
  },
  "language_info": {
   "codemirror_mode": {
    "name": "ipython",
    "version": 3
   },
   "file_extension": ".py",
   "mimetype": "text/x-python",
   "name": "python",
   "nbconvert_exporter": "python",
   "pygments_lexer": "ipython3",
   "version": "3.8.3"
  }
 },
 "nbformat": 4,
 "nbformat_minor": 1
}
