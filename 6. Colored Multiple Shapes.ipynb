{
 "cells": [
  {
   "cell_type": "markdown",
   "metadata": {},
   "source": [
    "# Colored Multiple Shapes"
   ]
  },
  {
   "cell_type": "markdown",
   "metadata": {},
   "source": [
    "## Import Packages"
   ]
  },
  {
   "cell_type": "code",
   "execution_count": 1,
   "metadata": {
    "ExecuteTime": {
     "end_time": "2016-07-04T17:28:39.034000",
     "start_time": "2016-07-04T17:28:38.325000"
    }
   },
   "outputs": [],
   "source": [
    "import numpy as np\n",
    "import matplotlib.pyplot as plt\n",
    "import matplotlib\n",
    "import math\n",
    "from PIL import Image\n",
    "from skimage import draw\n",
    "from itertools import permutations\n",
    "%matplotlib inline"
   ]
  },
  {
   "cell_type": "markdown",
   "metadata": {},
   "source": [
    "## Data Generation"
   ]
  },
  {
   "cell_type": "code",
   "execution_count": 2,
   "metadata": {
    "ExecuteTime": {
     "end_time": "2016-07-05T22:57:56.251000",
     "start_time": "2016-07-05T22:57:54.426000"
    }
   },
   "outputs": [
    {
     "data": {
      "text/plain": [
       "((60000, 32, 32, 3), (60000, 3, 4), (60000, 3), (60000, 3))"
      ]
     },
     "execution_count": 2,
     "metadata": {},
     "output_type": "execute_result"
    }
   ],
   "source": [
    "num_imgs = 60000\n",
    "\n",
    "img_size = 32\n",
    "min_object_size = 7\n",
    "max_object_size = 16\n",
    "num_objects = 3\n",
    "num_shapes = 3\n",
    "num_colors = 3\n",
    "\n",
    "bboxes = np.zeros((num_imgs, num_objects, 4))\n",
    "imgs = np.zeros((num_imgs, img_size, img_size, 3)) + 1\n",
    "shapes = np.zeros((num_imgs, num_objects), dtype = int)\n",
    "shape_labels = ['rectangle', 'circle', 'triangle']\n",
    "colors = np.zeros((num_imgs, num_objects), dtype = int)\n",
    "color_labels = ['r', 'g', 'b']\n",
    "\n",
    "for i_img in range(num_imgs):\n",
    "    \n",
    "    for i_object in range(num_objects):\n",
    "        shape = np.random.randint(num_shapes)\n",
    "        shapes[i_img, i_object] = shape\n",
    "        color = np.random.randint(num_colors)\n",
    "        colors[i_img, i_object] = color\n",
    "        rgb = np.zeros(3)\n",
    "        \n",
    "        # TODO: Introduce some variation to the colors by adding a small random offset to the rgb values.\n",
    "        offset = np.random.uniform(0, 0.8)\n",
    "        if color == 0:\n",
    "            rgb = (1., 0 + offset, 0 + offset)\n",
    "        elif color == 1:\n",
    "            rgb = (0 + offset, 1., 0 + offset)\n",
    "        else:\n",
    "            rgb = (0 + offset, 0 + offset, 1.)\n",
    "            \n",
    "        if shape == 0: # rectangle\n",
    "            w, h = np.random.randint(min_object_size, max_object_size, size = 2)\n",
    "            x = np.random.randint(0, img_size - w)\n",
    "            y = np.random.randint(0, img_size - h)\n",
    "            imgs[i_img, x:x + w, y:y + h] = rgb\n",
    "            bboxes[i_img, i_object] = [x, y, w, h]\n",
    "            \n",
    "        elif shape == 1: # circle\n",
    "            r = 0.5 * np.random.randint(min_object_size, max_object_size)\n",
    "            x = np.random.randint(r, img_size - r)\n",
    "            y = np.random.randint(r, img_size - r)\n",
    "            bboxes[i_img, i_object] = [x - r, y - r, 2 * r, 2 * r]\n",
    "            r, c = draw.circle(x, y, radius = r)\n",
    "            imgs[i_img, r, c] = rgb\n",
    "            \n",
    "        else: # triangle\n",
    "            size = np.random.randint(min_object_size, max_object_size)\n",
    "            x, y = np.random.randint(0, img_size - size, size = 2)\n",
    "            mask = np.tril_indices(size)\n",
    "            imgs[i_img, x + mask[0], y + mask[1]] = rgb\n",
    "            bboxes[i_img, i_object] = [x, y, size, size]\n",
    "            \n",
    "imgs = imgs * 255\n",
    "imgs = imgs.astype(np.uint8)\n",
    "\n",
    "imgs.shape, bboxes.shape, shapes.shape, colors.shape"
   ]
  },
  {
   "cell_type": "code",
   "execution_count": 60,
   "metadata": {
    "ExecuteTime": {
     "end_time": "2016-07-05T22:57:56.856000",
     "start_time": "2016-07-05T22:57:56.254000"
    },
    "scrolled": true
   },
   "outputs": [
    {
     "data": {
      "image/png": "[encoded data removed]",
      "text/plain": [
       "<Figure size 432x288 with 1 Axes>"
      ]
     },
     "metadata": {
      "needs_background": "light"
     },
     "output_type": "display_data"
    }
   ],
   "source": [
    "i = np.random.randint(num_imgs)\n",
    "plt.imshow(np.transpose(imgs[i], (1, 0, 2)), interpolation = 'none', origin = 'lower', extent = [0, img_size, 0, img_size])\n",
    "for bbox, shape, color in zip(bboxes[i], shapes[i], colors[i]):\n",
    "    plt.gca().add_patch(matplotlib.patches.Rectangle((bbox[0], bbox[1]), bbox[2], bbox[3], lw = 2, ec = 'k', fc = 'none'))\n",
    "    plt.annotate(shape_labels[shape], (bbox[0], bbox[1] + bbox[3] + 0.7), color = color_labels[color], clip_on = False)"
   ]
  },
  {
   "cell_type": "markdown",
   "metadata": {},
   "source": [
    "## Preprocessing"
   ]
  },
  {
   "cell_type": "code",
   "execution_count": 61,
   "metadata": {
    "ExecuteTime": {
     "end_time": "2016-07-05T23:55:30.611000",
     "start_time": "2016-07-05T23:55:26.822000"
    }
   },
   "outputs": [
    {
     "data": {
      "text/plain": [
       "((60000, 32, 32, 3), 0.40127888761233527, 0.23963712159965453)"
      ]
     },
     "execution_count": 61,
     "metadata": {},
     "output_type": "execute_result"
    }
   ],
   "source": [
    "X = (imgs - 128.) / 255.\n",
    "X.shape, np.mean(X), np.std(X)"
   ]
  },
  {
   "cell_type": "code",
   "execution_count": 62,
   "metadata": {
    "ExecuteTime": {
     "end_time": "2016-07-05T23:55:33.242000",
     "start_time": "2016-07-05T23:55:33.179000"
    }
   },
   "outputs": [
    {
     "data": {
      "text/plain": [
       "((60000, 30), True)"
      ]
     },
     "execution_count": 62,
     "metadata": {},
     "output_type": "execute_result"
    }
   ],
   "source": [
    "colors_onehot = np.zeros((num_imgs, num_objects, num_colors))\n",
    "for i_img in range(num_imgs):\n",
    "    for i_object in range(num_objects):\n",
    "        colors_onehot[i_img, i_object, colors[i_img, i_object]] = 1\n",
    "\n",
    "shapes_onehot = np.zeros((num_imgs, num_objects, num_shapes))\n",
    "for i_img in range(num_imgs):\n",
    "    for i_object in range(num_objects):\n",
    "        shapes_onehot[i_img, i_object, shapes[i_img, i_object]] = 1\n",
    "        \n",
    "y = np.concatenate([bboxes / img_size, shapes_onehot, colors_onehot], axis = -1).reshape(num_imgs, -1)\n",
    "y.shape, np.all(np.argmax(colors_onehot, axis = -1) == colors)"
   ]
  },
  {
   "cell_type": "markdown",
   "metadata": {},
   "source": [
    "## Train Test Split"
   ]
  },
  {
   "cell_type": "code",
   "execution_count": 63,
   "metadata": {
    "ExecuteTime": {
     "end_time": "2016-07-05T23:55:33.989000",
     "start_time": "2016-07-05T23:55:33.981000"
    }
   },
   "outputs": [],
   "source": [
    "i = int(0.8 * num_imgs)\n",
    "train_X = X[:i]\n",
    "test_X = X[i:]\n",
    "train_y = y[:i]\n",
    "test_y = y[i:]\n",
    "test_imgs = imgs[i:]\n",
    "test_bboxes = bboxes[i:]"
   ]
  },
  {
   "cell_type": "markdown",
   "metadata": {},
   "source": [
    "## CNN Model"
   ]
  },
  {
   "cell_type": "code",
   "execution_count": 65,
   "metadata": {
    "ExecuteTime": {
     "end_time": "2016-07-06T00:27:51.515000",
     "start_time": "2016-07-06T00:27:50.598000"
    }
   },
   "outputs": [
    {
     "name": "stdout",
     "output_type": "stream",
     "text": [
      "Model: \"sequential_1\"\n",
      "_________________________________________________________________\n",
      "Layer (type)                 Output Shape              Param #   \n",
      "=================================================================\n",
      "conv2d_4 (Conv2D)            (None, 16, 16, 32)        3488      \n",
      "_________________________________________________________________\n",
      "max_pooling2d_3 (MaxPooling2 (None, 8, 8, 32)          0         \n",
      "_________________________________________________________________\n",
      "conv2d_5 (Conv2D)            (None, 8, 8, 64)          18496     \n",
      "_________________________________________________________________\n",
      "max_pooling2d_4 (MaxPooling2 (None, 4, 4, 64)          0         \n",
      "_________________________________________________________________\n",
      "conv2d_6 (Conv2D)            (None, 4, 4, 128)         73856     \n",
      "_________________________________________________________________\n",
      "conv2d_7 (Conv2D)            (None, 4, 4, 256)         295168    \n",
      "_________________________________________________________________\n",
      "max_pooling2d_5 (MaxPooling2 (None, 2, 2, 256)         0         \n",
      "_________________________________________________________________\n",
      "flatten_1 (Flatten)          (None, 1024)              0         \n",
      "_________________________________________________________________\n",
      "dropout_2 (Dropout)          (None, 1024)              0         \n",
      "_________________________________________________________________\n",
      "dense_2 (Dense)              (None, 256)               262400    \n",
      "_________________________________________________________________\n",
      "dropout_3 (Dropout)          (None, 256)               0         \n",
      "_________________________________________________________________\n",
      "dense_3 (Dense)              (None, 30)                7710      \n",
      "=================================================================\n",
      "Total params: 661,118\n",
      "Trainable params: 661,118\n",
      "Non-trainable params: 0\n",
      "_________________________________________________________________\n"
     ]
    }
   ],
   "source": [
    "from keras.models import Sequential\n",
    "from keras.layers import Dense, Activation, Dropout, Convolution2D, MaxPooling2D, Flatten\n",
    "\n",
    "model = Sequential([\n",
    "        Convolution2D(32, kernel_size = (6, 6), \n",
    "                      strides = (2, 2),\n",
    "                      input_shape = (32, 32, 3),\n",
    "                      padding = 'same', activation = 'relu'), \n",
    "        MaxPooling2D(pool_size = (3, 3), strides = (2, 2), padding = 'same'),\n",
    "        Convolution2D(64, kernel_size = (3, 3), \n",
    "                      strides = (1, 1), \n",
    "                      padding = 'same', activation = 'relu'),\n",
    "        MaxPooling2D(pool_size = (3, 3), strides = (2, 2), padding = 'same'),\n",
    "        Convolution2D(128, kernel_size = (3, 3), \n",
    "                      strides = (1, 1), \n",
    "                      padding = 'same', activation = 'relu'),\n",
    "        Convolution2D(256, kernel_size = (3, 3), \n",
    "                      strides = (1, 1), \n",
    "                      padding = 'same', activation = 'relu'),\n",
    "        MaxPooling2D(pool_size = (3, 3), strides = (2, 2), padding = 'same'),\n",
    "        Flatten(),\n",
    "        Dropout(0.4),\n",
    "        Dense(256, activation = 'relu'),\n",
    "        Dropout(0.4),\n",
    "        Dense(y.shape[-1])\n",
    "    ])\n",
    "\n",
    "model.compile('adamax', 'mse')\n",
    "model.summary()\n",
    "# adam, adamax, nadam, adagrad"
   ]
  },
  {
   "cell_type": "markdown",
   "metadata": {},
   "source": [
    "## IoU Calculating Function"
   ]
  },
  {
   "cell_type": "code",
   "execution_count": 66,
   "metadata": {},
   "outputs": [],
   "source": [
    "def IOU(bbox1, bbox2):\n",
    "    '''Calculate overlap between two bounding boxes [x, y, w, h] as the area of intersection over the area of unity'''\n",
    "    x1, y1, w1, h1 = bbox1[0], bbox1[1], bbox1[2], bbox1[3]  # TODO: Check if its more performant if tensor elements are accessed directly below.\n",
    "    x2, y2, w2, h2 = bbox2[0], bbox2[1], bbox2[2], bbox2[3]\n",
    "\n",
    "    w_I = min(x1 + w1, x2 + w2) - max(x1, x2)\n",
    "    h_I = min(y1 + h1, y2 + h2) - max(y1, y2)\n",
    "    if w_I <= 0 or h_I <= 0:  # no overlap\n",
    "        return 0\n",
    "    I = w_I * h_I\n",
    "\n",
    "    U = w1 * h1 + w2 * h2 - I\n",
    "\n",
    "    return I / U"
   ]
  },
  {
   "cell_type": "markdown",
   "metadata": {},
   "source": [
    "## Distance Calculating Function"
   ]
  },
  {
   "cell_type": "code",
   "execution_count": 67,
   "metadata": {},
   "outputs": [],
   "source": [
    "def distance(bbox1, bbox2):\n",
    "    return np.sqrt(np.sum(np.square(bbox1[:2] - bbox2[:2])))"
   ]
  },
  {
   "cell_type": "markdown",
   "metadata": {},
   "source": [
    "## Training"
   ]
  },
  {
   "cell_type": "code",
   "execution_count": 68,
   "metadata": {
    "ExecuteTime": {
     "end_time": "2016-07-06T16:47:14.477000",
     "start_time": "2016-07-06T00:27:51.517000"
    },
    "code_folding": [
     2,
     17
    ],
    "scrolled": false
   },
   "outputs": [
    {
     "name": "stdout",
     "output_type": "stream",
     "text": [
      "Epoch 0\n",
      "1500/1500 [==============================] - 30s 20ms/step - loss: 0.1276 - val_loss: 0.1153\n",
      "Flipped 82.66666666666667 % of all elements\n",
      "Mean IOU: 0.23058025071392957\n",
      "Mean dist: 0.21457565326635086\n",
      "Mean mse: 0.017329829231718528\n",
      "Accuracy shapes: 0.4890486111111111\n",
      "Accuracy colors: 0.5998680555555556\n",
      "Epoch 1\n",
      "1500/1500 [==============================] - 27s 18ms/step - loss: 0.1084 - val_loss: 0.1197\n",
      "Flipped 36.96666666666666 % of all elements\n",
      "Mean IOU: 0.2966671048249239\n",
      "Mean dist: 0.17436140250770552\n",
      "Mean mse: 0.012712819098619267\n",
      "Accuracy shapes: 0.6004791666666666\n",
      "Accuracy colors: 0.7603124999999998\n",
      "Epoch 2\n",
      "1500/1500 [==============================] - 27s 18ms/step - loss: 0.0899 - val_loss: 0.1269\n",
      "Flipped 17.297916666666666 % of all elements\n",
      "Mean IOU: 0.3216232869396835\n",
      "Mean dist: 0.16304402962165793\n",
      "Mean mse: 0.011573743224905503\n",
      "Accuracy shapes: 0.6889652777777777\n",
      "Accuracy colors: 0.8208472222222222\n",
      "Epoch 3\n",
      "1500/1500 [==============================] - 28s 19ms/step - loss: 0.0795 - val_loss: 0.1332\n",
      "Flipped 12.03125 % of all elements\n",
      "Mean IOU: 0.3460274946352669\n",
      "Mean dist: 0.1548613743684215\n",
      "Mean mse: 0.01082792198372763\n",
      "Accuracy shapes: 0.7431180555555553\n",
      "Accuracy colors: 0.8467083333333332\n",
      "Epoch 4\n",
      "1500/1500 [==============================] - 28s 19ms/step - loss: 0.0724 - val_loss: 0.1349\n",
      "Flipped 10.18125 % of all elements\n",
      "Mean IOU: 0.3472338216908248\n",
      "Mean dist: 0.1529664540987994\n",
      "Mean mse: 0.010630797935071287\n",
      "Accuracy shapes: 0.7744583333333334\n",
      "Accuracy colors: 0.8585208333333333\n",
      "Epoch 5\n",
      "1500/1500 [==============================] - 29s 19ms/step - loss: 0.0676 - val_loss: 0.1386\n",
      "Flipped 13.164583333333333 % of all elements\n",
      "Mean IOU: 0.35482557235999\n",
      "Mean dist: 0.14910313736717207\n",
      "Mean mse: 0.01024404685545608\n",
      "Accuracy shapes: 0.7991458333333333\n",
      "Accuracy colors: 0.8643958333333334\n",
      "Epoch 6\n",
      "1500/1500 [==============================] - 34s 22ms/step - loss: 0.0639 - val_loss: 0.1413\n",
      "Flipped 9.629166666666666 % of all elements\n",
      "Mean IOU: 0.3647247625967249\n",
      "Mean dist: 0.14546408045737563\n",
      "Mean mse: 0.009929717549594853\n",
      "Accuracy shapes: 0.8194375\n",
      "Accuracy colors: 0.8765763888888889\n",
      "Epoch 7\n",
      "1500/1500 [==============================] - 29s 19ms/step - loss: 0.0603 - val_loss: 0.1439\n",
      "Flipped 9.102083333333333 % of all elements\n",
      "Mean IOU: 0.3750980982526401\n",
      "Mean dist: 0.14254373631737943\n",
      "Mean mse: 0.009681429092820906\n",
      "Accuracy shapes: 0.8354236111111112\n",
      "Accuracy colors: 0.8878402777777779\n",
      "Epoch 8\n",
      "1500/1500 [==============================] - 30s 20ms/step - loss: 0.0573 - val_loss: 0.1455\n",
      "Flipped 6.81875 % of all elements\n",
      "Mean IOU: 0.3782879584767391\n",
      "Mean dist: 0.13960441643906013\n",
      "Mean mse: 0.009402432234049508\n",
      "Accuracy shapes: 0.8475277777777779\n",
      "Accuracy colors: 0.9002638888888889\n",
      "Epoch 9\n",
      "1500/1500 [==============================] - 27s 18ms/step - loss: 0.0547 - val_loss: 0.1474\n",
      "Flipped 7.6395833333333325 % of all elements\n",
      "Mean IOU: 0.38683383880995176\n",
      "Mean dist: 0.1366278830532422\n",
      "Mean mse: 0.009186440786994434\n",
      "Accuracy shapes: 0.8489791666666666\n",
      "Accuracy colors: 0.9039583333333332\n",
      "Epoch 10\n",
      "1500/1500 [==============================] - 30s 20ms/step - loss: 0.0527 - val_loss: 0.1492\n",
      "Flipped 6.862500000000001 % of all elements\n",
      "Mean IOU: 0.3894441514906129\n",
      "Mean dist: 0.13530835217685344\n",
      "Mean mse: 0.009060623293579909\n",
      "Accuracy shapes: 0.8620138888888889\n",
      "Accuracy colors: 0.910048611111111\n",
      "Epoch 11\n",
      "1500/1500 [==============================] - 27s 18ms/step - loss: 0.0511 - val_loss: 0.1479\n",
      "Flipped 7.120833333333334 % of all elements\n",
      "Mean IOU: 0.3941125935162684\n",
      "Mean dist: 0.13366821087396782\n",
      "Mean mse: 0.008914969925522086\n",
      "Accuracy shapes: 0.863847222222222\n",
      "Accuracy colors: 0.9127291666666665\n",
      "Epoch 12\n",
      "1500/1500 [==============================] - 27s 18ms/step - loss: 0.0497 - val_loss: 0.1517\n",
      "Flipped 7.491666666666667 % of all elements\n",
      "Mean IOU: 0.3977865522266119\n",
      "Mean dist: 0.13176447379849157\n",
      "Mean mse: 0.00877510944042476\n",
      "Accuracy shapes: 0.8730833333333333\n",
      "Accuracy colors: 0.9145277777777777\n",
      "Epoch 13\n",
      "1500/1500 [==============================] - 27s 18ms/step - loss: 0.0484 - val_loss: 0.1515\n",
      "Flipped 5.879166666666666 % of all elements\n",
      "Mean IOU: 0.3944494685970638\n",
      "Mean dist: 0.13358105708702928\n",
      "Mean mse: 0.008896954164009192\n",
      "Accuracy shapes: 0.8718888888888888\n",
      "Accuracy colors: 0.9232638888888889\n",
      "Epoch 14\n",
      "1500/1500 [==============================] - 27s 18ms/step - loss: 0.0466 - val_loss: 0.1523\n",
      "Flipped 6.577083333333333 % of all elements\n",
      "Mean IOU: 0.3983758867995615\n",
      "Mean dist: 0.13091567122825098\n",
      "Mean mse: 0.00869686476118882\n",
      "Accuracy shapes: 0.8807430555555555\n",
      "Accuracy colors: 0.9236805555555555\n",
      "Epoch 15\n",
      "1500/1500 [==============================] - 29s 19ms/step - loss: 0.0458 - val_loss: 0.1544\n",
      "Flipped 5.972916666666666 % of all elements\n",
      "Mean IOU: 0.40471735225121386\n",
      "Mean dist: 0.12814281748760895\n",
      "Mean mse: 0.008462359826001188\n",
      "Accuracy shapes: 0.8893958333333334\n",
      "Accuracy colors: 0.9296944444444445\n",
      "Epoch 16\n",
      "1500/1500 [==============================] - 28s 19ms/step - loss: 0.0448 - val_loss: 0.1544\n",
      "Flipped 6.504166666666666 % of all elements\n",
      "Mean IOU: 0.4120429154471238\n",
      "Mean dist: 0.12582855161155806\n",
      "Mean mse: 0.008293373639865988\n",
      "Accuracy shapes: 0.8930486111111111\n",
      "Accuracy colors: 0.9324305555555555\n",
      "Epoch 17\n",
      "1500/1500 [==============================] - 28s 19ms/step - loss: 0.0438 - val_loss: 0.1545\n",
      "Flipped 5.675 % of all elements\n",
      "Mean IOU: 0.4109272019329081\n",
      "Mean dist: 0.12691244904391863\n",
      "Mean mse: 0.008371019926026728\n",
      "Accuracy shapes: 0.8962847222222222\n",
      "Accuracy colors: 0.9349444444444445\n",
      "Epoch 18\n",
      "1500/1500 [==============================] - 28s 19ms/step - loss: 0.0428 - val_loss: 0.1542\n",
      "Flipped 5.391666666666667 % of all elements\n",
      "Mean IOU: 0.4142351481188654\n",
      "Mean dist: 0.12498337651490624\n",
      "Mean mse: 0.008225455196685622\n",
      "Accuracy shapes: 0.9029375\n",
      "Accuracy colors: 0.9357777777777778\n",
      "Epoch 19\n",
      "1500/1500 [==============================] - 28s 19ms/step - loss: 0.0420 - val_loss: 0.1552\n",
      "Flipped 5.077083333333333 % of all elements\n",
      "Mean IOU: 0.41615941590850997\n",
      "Mean dist: 0.12370156485859272\n",
      "Mean mse: 0.008112833088880236\n",
      "Accuracy shapes: 0.9065763888888888\n",
      "Accuracy colors: 0.9397013888888889\n",
      "Epoch 20\n",
      "1500/1500 [==============================] - 28s 19ms/step - loss: 0.0410 - val_loss: 0.1540\n",
      "Flipped 5.089583333333334 % of all elements\n",
      "Mean IOU: 0.41058776480272363\n",
      "Mean dist: 0.1255606340527355\n",
      "Mean mse: 0.008233132942840242\n",
      "Accuracy shapes: 0.9044652777777776\n",
      "Accuracy colors: 0.9430555555555556\n",
      "Epoch 21\n",
      "1500/1500 [==============================] - 28s 19ms/step - loss: 0.0403 - val_loss: 0.1556\n",
      "Flipped 5.545833333333333 % of all elements\n",
      "Mean IOU: 0.411806645794377\n",
      "Mean dist: 0.12445544248765593\n",
      "Mean mse: 0.008158120358654906\n",
      "Accuracy shapes: 0.9112083333333332\n",
      "Accuracy colors: 0.9464791666666666\n",
      "Epoch 22\n",
      "1500/1500 [==============================] - 29s 20ms/step - loss: 0.0395 - val_loss: 0.1565\n",
      "Flipped 5.266666666666667 % of all elements\n",
      "Mean IOU: 0.41625153772389695\n",
      "Mean dist: 0.1233528593251479\n",
      "Mean mse: 0.008066334372404872\n",
      "Accuracy shapes: 0.913986111111111\n",
      "Accuracy colors: 0.9451319444444444\n",
      "Epoch 23\n",
      "1500/1500 [==============================] - 30s 20ms/step - loss: 0.0386 - val_loss: 0.1568\n",
      "Flipped 4.61875 % of all elements\n",
      "Mean IOU: 0.41752941722388187\n",
      "Mean dist: 0.12330455340236242\n",
      "Mean mse: 0.008052276956397528\n",
      "Accuracy shapes: 0.9194027777777777\n",
      "Accuracy colors: 0.949048611111111\n",
      "Epoch 24\n",
      "1500/1500 [==============================] - 30s 20ms/step - loss: 0.0379 - val_loss: 0.1588\n",
      "Flipped 4.527083333333334 % of all elements\n",
      "Mean IOU: 0.4217573347288478\n",
      "Mean dist: 0.12174303363284995\n",
      "Mean mse: 0.007956871337653267\n",
      "Accuracy shapes: 0.9198194444444445\n",
      "Accuracy colors: 0.9508472222222222\n",
      "Epoch 25\n",
      "1500/1500 [==============================] - 30s 20ms/step - loss: 0.0375 - val_loss: 0.1569\n",
      "Flipped 5.64375 % of all elements\n",
      "Mean IOU: 0.4216180563536694\n",
      "Mean dist: 0.12182742478087322\n",
      "Mean mse: 0.00794647176577426\n",
      "Accuracy shapes: 0.9193749999999998\n",
      "Accuracy colors: 0.9512569444444445\n",
      "Epoch 26\n",
      "1500/1500 [==============================] - 30s 20ms/step - loss: 0.0372 - val_loss: 0.1572\n",
      "Flipped 4.6125 % of all elements\n",
      "Mean IOU: 0.4206269820968991\n",
      "Mean dist: 0.12158978751774623\n",
      "Mean mse: 0.0079185966699263\n",
      "Accuracy shapes: 0.9238333333333332\n",
      "Accuracy colors: 0.9541041666666665\n",
      "Epoch 27\n"
     ]
    },
    {
     "name": "stdout",
     "output_type": "stream",
     "text": [
      "1500/1500 [==============================] - 29s 19ms/step - loss: 0.0364 - val_loss: 0.1569\n",
      "Flipped 4.829166666666667 % of all elements\n",
      "Mean IOU: 0.42484735259776085\n",
      "Mean dist: 0.12006215296437064\n",
      "Mean mse: 0.007805576683242387\n",
      "Accuracy shapes: 0.928361111111111\n",
      "Accuracy colors: 0.9555972222222222\n",
      "Epoch 28\n",
      "1500/1500 [==============================] - 29s 19ms/step - loss: 0.0360 - val_loss: 0.1583\n",
      "Flipped 4.160416666666666 % of all elements\n",
      "Mean IOU: 0.4262955405649327\n",
      "Mean dist: 0.11941490081097231\n",
      "Mean mse: 0.007762799828951434\n",
      "Accuracy shapes: 0.9295138888888889\n",
      "Accuracy colors: 0.9594444444444445\n",
      "Epoch 29\n",
      "1500/1500 [==============================] - 27s 18ms/step - loss: 0.0350 - val_loss: 0.1589\n",
      "Flipped 4.68125 % of all elements\n",
      "Mean IOU: 0.4238131012867172\n",
      "Mean dist: 0.12057160947564619\n",
      "Mean mse: 0.007837837130189314\n",
      "Accuracy shapes: 0.9294444444444445\n",
      "Accuracy colors: 0.9561041666666665\n",
      "Epoch 30\n",
      "1500/1500 [==============================] - 27s 18ms/step - loss: 0.0349 - val_loss: 0.1583\n",
      "Flipped 4.091666666666667 % of all elements\n",
      "Mean IOU: 0.4258221199787545\n",
      "Mean dist: 0.1199236315256879\n",
      "Mean mse: 0.007788465661077012\n",
      "Accuracy shapes: 0.9348402777777778\n",
      "Accuracy colors: 0.9607986111111112\n",
      "Epoch 31\n",
      "1500/1500 [==============================] - 28s 18ms/step - loss: 0.0342 - val_loss: 0.1590\n",
      "Flipped 3.889583333333333 % of all elements\n",
      "Mean IOU: 0.4211304440951541\n",
      "Mean dist: 0.12029807543130885\n",
      "Mean mse: 0.007790070869868476\n",
      "Accuracy shapes: 0.938111111111111\n",
      "Accuracy colors: 0.9634722222222223\n",
      "Epoch 32\n",
      "1500/1500 [==============================] - 28s 19ms/step - loss: 0.0334 - val_loss: 0.1589\n",
      "Flipped 4.247916666666667 % of all elements\n",
      "Mean IOU: 0.4282966663868477\n",
      "Mean dist: 0.11801807227117751\n",
      "Mean mse: 0.007641612601919416\n",
      "Accuracy shapes: 0.9403472222222222\n",
      "Accuracy colors: 0.9636597222222222\n",
      "Epoch 33\n",
      "1500/1500 [==============================] - 28s 19ms/step - loss: 0.0330 - val_loss: 0.1597\n",
      "Flipped 4.05 % of all elements\n",
      "Mean IOU: 0.4290838855223648\n",
      "Mean dist: 0.11878488570093836\n",
      "Mean mse: 0.007703592498060073\n",
      "Accuracy shapes: 0.9380833333333334\n",
      "Accuracy colors: 0.9643611111111111\n",
      "Epoch 34\n",
      "1500/1500 [==============================] - 27s 18ms/step - loss: 0.0325 - val_loss: 0.1601\n",
      "Flipped 4.054166666666666 % of all elements\n",
      "Mean IOU: 0.42792976646462677\n",
      "Mean dist: 0.11828742639797181\n",
      "Mean mse: 0.007648736037083166\n",
      "Accuracy shapes: 0.9421458333333333\n",
      "Accuracy colors: 0.965138888888889\n",
      "Epoch 35\n",
      "1500/1500 [==============================] - 28s 19ms/step - loss: 0.0323 - val_loss: 0.1603\n",
      "Flipped 4.002083333333333 % of all elements\n",
      "Mean IOU: 0.43199700719581674\n",
      "Mean dist: 0.11698142832809405\n",
      "Mean mse: 0.00754998407310464\n",
      "Accuracy shapes: 0.9449652777777778\n",
      "Accuracy colors: 0.9652361111111112\n",
      "Epoch 36\n",
      "1500/1500 [==============================] - 27s 18ms/step - loss: 0.0319 - val_loss: 0.1602\n",
      "Flipped 4.14375 % of all elements\n",
      "Mean IOU: 0.4296374586334718\n",
      "Mean dist: 0.11698844083360183\n",
      "Mean mse: 0.0075533468545884485\n",
      "Accuracy shapes: 0.9452291666666666\n",
      "Accuracy colors: 0.9667986111111112\n",
      "Epoch 37\n",
      "1500/1500 [==============================] - 27s 18ms/step - loss: 0.0317 - val_loss: 0.1589\n",
      "Flipped 3.8249999999999997 % of all elements\n",
      "Mean IOU: 0.4297593847889454\n",
      "Mean dist: 0.1172993632430498\n",
      "Mean mse: 0.007568525881305732\n",
      "Accuracy shapes: 0.9437847222222222\n",
      "Accuracy colors: 0.9672847222222223\n",
      "Epoch 38\n",
      "1500/1500 [==============================] - 27s 18ms/step - loss: 0.0312 - val_loss: 0.1598\n",
      "Flipped 3.8125 % of all elements\n",
      "Mean IOU: 0.4330912585364059\n",
      "Mean dist: 0.11578641303864687\n",
      "Mean mse: 0.007464587156454092\n",
      "Accuracy shapes: 0.9479027777777779\n",
      "Accuracy colors: 0.9686180555555555\n",
      "Epoch 39\n",
      "1500/1500 [==============================] - 29s 19ms/step - loss: 0.0310 - val_loss: 0.1593\n",
      "Flipped 3.904166666666667 % of all elements\n",
      "Mean IOU: 0.428028765391802\n",
      "Mean dist: 0.11798835902639013\n",
      "Mean mse: 0.007594165097327939\n",
      "Accuracy shapes: 0.949298611111111\n",
      "Accuracy colors: 0.9687777777777776\n"
     ]
    }
   ],
   "source": [
    "num_epochs = 40\n",
    "iou_max = 0.\n",
    "fact = math.factorial(num_objects)\n",
    "\n",
    "flipped_train_y = np.array(train_y)\n",
    "flipped = np.zeros((len(train_y), num_epochs))\n",
    "ious_epochs = np.zeros((len(train_y), num_epochs))\n",
    "dists_epochs = np.zeros((len(train_y), num_epochs))\n",
    "mses_epochs = np.zeros((len(train_y), num_epochs))\n",
    "acc_shapes_epoch = np.zeros((len(train_y), num_epochs))\n",
    "acc_colors_epoch = np.zeros((len(train_y), num_epochs))\n",
    "\n",
    "# TODO: Calculate ious directly for all samples (using slices of the array pred_y for x, y, w, h).\n",
    "for epoch in range(num_epochs):\n",
    "    print('Epoch', epoch)\n",
    "    model.fit(train_X, flipped_train_y, epochs = 1, validation_data = (test_X, test_y), verbose = 1)\n",
    "    pred_y = model.predict(train_X)\n",
    "\n",
    "    for i, (pred_bboxes, exp_bboxes) in enumerate(zip(pred_y, flipped_train_y)):\n",
    "        \n",
    "        pred = pred_bboxes.reshape(num_objects, -1)\n",
    "        exp = exp_bboxes.reshape(num_objects, -1)\n",
    "        p_exp = list(permutations(exp))\n",
    "        \n",
    "        # ignore the shape value\n",
    "        pred_bboxes = pred[:, :4]\n",
    "        exp_bboxes = exp[:, :4]\n",
    "        \n",
    "        p_exp_bboxes = list(permutations(exp_bboxes))\n",
    "        ious = np.zeros((fact, num_objects))\n",
    "        dists = np.zeros((fact, num_objects))\n",
    "        mses = np.zeros((fact, num_objects))\n",
    "        p_ious = np.zeros(fact)\n",
    "        p_mses = np.zeros(fact)\n",
    "        p_dists = np.zeros(fact)\n",
    "        \n",
    "        for j, exp_bboxes in enumerate(p_exp_bboxes):\n",
    "            exp_bboxes = list(exp_bboxes) \n",
    "            for k in range(num_objects):\n",
    "                ious[j, k] = IOU(exp_bboxes[k], pred_bboxes[k])\n",
    "                dists[j, k] = distance(exp_bboxes[k], pred_bboxes[k])\n",
    "                mses[j, k] = np.mean(np.square(exp_bboxes[k] - pred_bboxes[k]))\n",
    "            p_ious[j] = sum(ious[j, :])\n",
    "            p_dists[j] = sum(dists[j, :])\n",
    "            p_mses[j] = sum(mses[j, :])\n",
    "            \n",
    "        keymax = p_mses.argmin()\n",
    "        ious_epochs[i, epoch] += p_ious[keymax] / num_objects\n",
    "        dists_epochs[i, epoch] += p_dists[keymax] / num_objects\n",
    "        mses_epochs[i, epoch] += p_mses[keymax] / num_objects\n",
    "        \n",
    "        flipped_train_y[i] = np.array(p_exp[keymax]).flatten()\n",
    "        if keymax != 0:\n",
    "            flipped[i, epoch] = 1.\n",
    "        \n",
    "        if p_ious[keymax] > iou_max:\n",
    "            model.save('Colored_Multiple_Shapes_model.h5')\n",
    "            iou_max = p_ious[keymax]\n",
    "        \n",
    "        acc_shapes_epoch[i, epoch] = np.mean(np.argmax(pred[:, 4:4 + num_shapes], axis = -1) == np.argmax(exp[:, 4:4 + num_shapes], axis = -1))\n",
    "        acc_colors_epoch[i, epoch] = np.mean(np.argmax(pred[:, 4 + num_shapes:4 + num_shapes + num_colors], axis = -1) == np.argmax(exp[:, 4 + num_shapes:4 + num_shapes + num_colors], axis = -1))    \n",
    "            \n",
    "    print('Flipped {} % of all elements'.format(np.mean(flipped[:, epoch]) * 100.))\n",
    "    print('Mean IOU: {}'.format(np.mean(ious_epochs[:, epoch])))\n",
    "    print('Mean dist: {}'.format(np.mean(dists_epochs[:, epoch])))\n",
    "    print('Mean mse: {}'.format(np.mean(mses_epochs[:, epoch])))\n",
    "    print('Accuracy shapes: {}'.format(np.mean(acc_shapes_epoch[:, epoch])))\n",
    "    print('Accuracy colors: {}'.format(np.mean(acc_colors_epoch[:, epoch])))"
   ]
  },
  {
   "cell_type": "markdown",
   "metadata": {},
   "source": [
    "## Model Layers"
   ]
  },
  {
   "cell_type": "code",
   "execution_count": 69,
   "metadata": {
    "ExecuteTime": {
     "end_time": "2016-07-06T00:26:47.814000",
     "start_time": "2016-07-06T00:26:43.399000"
    }
   },
   "outputs": [
    {
     "name": "stdout",
     "output_type": "stream",
     "text": [
      "weights.shape: (32, 6, 6, 3)\n",
      "0.0004704142 0.07262626 -0.18783432 0.14475101\n",
      "127.6574074074074 18.512339246826013 80 164\n"
     ]
    },
    {
     "data": {
      "image/png": "[encoded data removed]",
      "text/plain": [
       "<Figure size 1152x576 with 24 Axes>"
      ]
     },
     "metadata": {
      "needs_background": "light"
     },
     "output_type": "display_data"
    }
   ],
   "source": [
    "weights = model.layers[0].get_weights()[0]\n",
    "weights = weights.transpose(3, 0, 1, 2)\n",
    "print('weights.shape:', weights.shape)\n",
    "print(np.mean(weights[0]), np.std(weights[0]), np.min(weights[0]), np.max(weights[0]))\n",
    "adj_weights = (weights * 255.) + 128.\n",
    "adj_weights = adj_weights.astype(np.uint8)\n",
    "print(np.mean(adj_weights[0]), np.std(adj_weights[0]), np.min(adj_weights[0]), np.max(adj_weights[0]))\n",
    "plt.figure(figsize = (16, 8))\n",
    "for i in range(24):\n",
    "    plt.subplot(4, 6, i + 1)\n",
    "    plt.imshow(adj_weights[i, :, :], interpolation = 'none', origin = 'lower', cmap = 'Greys')"
   ]
  },
  {
   "cell_type": "markdown",
   "metadata": {},
   "source": [
    "## Flipping Track"
   ]
  },
  {
   "cell_type": "code",
   "execution_count": 70,
   "metadata": {
    "ExecuteTime": {
     "end_time": "2016-07-05T23:54:37.858000",
     "start_time": "2016-07-05T23:54:35.466000"
    }
   },
   "outputs": [
    {
     "data": {
      "image/png": "[encoded data removed]",
      "text/plain": [
       "<Figure size 432x288 with 1 Axes>"
      ]
     },
     "metadata": {
      "needs_background": "light"
     },
     "output_type": "display_data"
    }
   ],
   "source": [
    "plt.pcolormesh(flipped[:, :], cmap = 'Greys')\n",
    "plt.xlabel('Epoch')\n",
    "plt.ylabel('Training sample')\n",
    "plt.savefig('colored_multiple_shapes_flips.png', dpi = 100)\n",
    "plt.show()"
   ]
  },
  {
   "cell_type": "markdown",
   "metadata": {},
   "source": [
    "## Metrics Track"
   ]
  },
  {
   "cell_type": "code",
   "execution_count": 71,
   "metadata": {
    "ExecuteTime": {
     "end_time": "2016-07-05T23:54:38.252000",
     "start_time": "2016-07-05T23:54:37.860000"
    }
   },
   "outputs": [
    {
     "data": {
      "image/png": "[encoded data removed]",
      "text/plain": [
       "<Figure size 432x288 with 1 Axes>"
      ]
     },
     "metadata": {
      "needs_background": "light"
     },
     "output_type": "display_data"
    }
   ],
   "source": [
    "mean_ious_epoch = np.mean(ious_epochs, axis = 0)\n",
    "mean_dists_epoch = np.mean(dists_epochs, axis = 0)\n",
    "mean_mses_epoch = np.mean(mses_epochs, axis = 0)\n",
    "plt.plot(mean_ious_epoch, label = 'Mean IOU')  # between predicted and assigned true bboxes\n",
    "plt.plot(mean_dists_epoch, label = 'Mean distance')  # relative to image size\n",
    "plt.plot(mean_mses_epoch, label = 'Mean mse')  # relative to image size\n",
    "plt.annotate(np.round(np.max(mean_ious_epoch), 3), (len(mean_ious_epoch) - 1, mean_ious_epoch[-1] + 0.02), horizontalalignment = 'right', color = 'b')\n",
    "plt.annotate(np.round(np.min(mean_dists_epoch), 3), (len(mean_dists_epoch) - 1, mean_dists_epoch[-1] + 0.02), horizontalalignment = 'right', color = 'r')\n",
    "plt.annotate(np.round(np.min(mean_mses_epoch), 3), (len(mean_mses_epoch) - 1, mean_mses_epoch[-1] + 0.02), horizontalalignment = 'right', color = 'g')\n",
    "\n",
    "plt.xlabel('Epoch')\n",
    "plt.legend(loc = 'upper left')\n",
    "plt.ylim(0, 0.6)\n",
    "ax = plt.gca()\n",
    "ax.axes.yaxis.set_visible(False)\n",
    "plt.savefig('training_metrics.png', dpi = 100)"
   ]
  },
  {
   "cell_type": "code",
   "execution_count": 72,
   "metadata": {
    "ExecuteTime": {
     "end_time": "2016-07-05T23:54:40.181000",
     "start_time": "2016-07-05T23:54:38.255000"
    },
    "scrolled": true
   },
   "outputs": [
    {
     "data": {
      "image/png": "[encoded data removed]",
      "text/plain": [
       "<Figure size 432x288 with 1 Axes>"
      ]
     },
     "metadata": {
      "needs_background": "light"
     },
     "output_type": "display_data"
    }
   ],
   "source": [
    "mean_acc_shapes_epoch = np.mean(acc_shapes_epoch, axis = 0)\n",
    "mean_acc_colors_epoch = np.mean(acc_colors_epoch, axis = 0)\n",
    "plt.plot(mean_acc_shapes_epoch, label = 'Accuracy shapes')  # between predicted and assigned true bboxes\n",
    "plt.plot(mean_acc_colors_epoch, label = 'Accuracy colors')\n",
    "plt.annotate(np.round(np.max(mean_acc_shapes_epoch), 3), (len(mean_acc_shapes_epoch) - 1, mean_acc_shapes_epoch[-1] + 0.01), horizontalalignment = 'right', color = 'b')\n",
    "plt.annotate(np.round(np.max(mean_acc_colors_epoch), 3), (len(mean_acc_colors_epoch) - 1, mean_acc_colors_epoch[-1] + 0.01), horizontalalignment = 'right', color = 'orange')\n",
    "\n",
    "plt.xlabel('Epoch')\n",
    "plt.legend(loc = 'lower right')\n",
    "plt.ylim(0.5, 1)\n",
    "\n",
    "plt.savefig('training_metrics_classification.png', dpi = 100)"
   ]
  },
  {
   "cell_type": "markdown",
   "metadata": {},
   "source": [
    "## Denormalize Data"
   ]
  },
  {
   "cell_type": "code",
   "execution_count": 73,
   "metadata": {
    "ExecuteTime": {
     "end_time": "2016-07-05T23:54:55.731000",
     "start_time": "2016-07-05T23:54:54.739000"
    }
   },
   "outputs": [
    {
     "data": {
      "text/plain": [
       "((12000, 3, 4), (12000, 3), (12000, 3))"
      ]
     },
     "execution_count": 73,
     "metadata": {},
     "output_type": "execute_result"
    }
   ],
   "source": [
    "pred_y = model.predict(test_X)\n",
    "pred_y = pred_y.reshape(len(pred_y), num_objects, -1)\n",
    "pred_bboxes = pred_y[..., :4] * img_size\n",
    "pred_shapes = np.argmax(pred_y[..., 4:4 + num_shapes], axis = -1).astype(int)  # take max from probabilities\n",
    "pred_colors = np.argmax(pred_y[..., 4 + num_shapes:4 + num_shapes + num_colors], axis = -1).astype(int)\n",
    "pred_bboxes.shape, pred_shapes.shape, pred_colors.shape"
   ]
  },
  {
   "cell_type": "markdown",
   "metadata": {},
   "source": [
    "## Visualize Results"
   ]
  },
  {
   "cell_type": "code",
   "execution_count": 74,
   "metadata": {
    "ExecuteTime": {
     "end_time": "2016-07-05T23:54:57.198000",
     "start_time": "2016-07-05T23:54:55.733000"
    }
   },
   "outputs": [
    {
     "data": {
      "image/png": "[encoded data removed]",
      "text/plain": [
       "<Figure size 1152x576 with 8 Axes>"
      ]
     },
     "metadata": {
      "needs_background": "light"
     },
     "output_type": "display_data"
    }
   ],
   "source": [
    "plt.figure(figsize = (16, 8))\n",
    "for i_subplot in range(1, 9):\n",
    "    plt.subplot(2, 4, i_subplot)\n",
    "    i = np.random.randint(len(test_X))\n",
    "    plt.imshow(test_imgs[i], interpolation = 'none', origin = 'lower', extent = [0, img_size, 0, img_size])\n",
    "    for bbox, shape, color in zip(pred_bboxes[i], pred_shapes[i], pred_colors[i]):\n",
    "        plt.gca().add_patch(matplotlib.patches.Rectangle((bbox[0], bbox[1]), bbox[2], bbox[3], lw = 2, ec = 'k', fc = 'none'))\n",
    "        plt.annotate(shape_labels[shape], (bbox[0], bbox[1] + bbox[3] + 0.7), color = color_labels[color], clip_on = False, bbox = {'fc': 'w', 'ec': 'none', 'pad': 1, 'alpha': 0.8})"
   ]
  },
  {
   "cell_type": "code",
   "execution_count": 75,
   "metadata": {
    "ExecuteTime": {
     "end_time": "2016-07-05T18:09:07.838000",
     "start_time": "2016-07-05T18:09:07.831000"
    }
   },
   "outputs": [
    {
     "data": {
      "text/plain": [
       "(11.029729, 0.5048759)"
      ]
     },
     "execution_count": 75,
     "metadata": {},
     "output_type": "execute_result"
    }
   ],
   "source": [
    "np.mean(pred_bboxes[:, :, 2]), np.std(pred_bboxes[:, :, 2])"
   ]
  },
  {
   "cell_type": "markdown",
   "metadata": {},
   "source": [
    "## Overall Assessment"
   ]
  },
  {
   "cell_type": "code",
   "execution_count": 98,
   "metadata": {},
   "outputs": [
    {
     "name": "stdout",
     "output_type": "stream",
     "text": [
      "IoU: 0.4266793472075412\n",
      "Distance: 0.12400554084571912\n",
      "MSE: 0.0085031728032688\n"
     ]
    }
   ],
   "source": [
    "from keras.models import load_model\n",
    "fact = math.factorial(num_objects)\n",
    "model_test = load_model('Colored_Multiple_Shapes_model.h5')\n",
    "pred_y = model_test.predict(test_X)\n",
    "sum_iou = 0.\n",
    "sum_dist = 0.\n",
    "sum_mse = 0.\n",
    "flipped_test_y = np.array(test_y)\n",
    "\n",
    "for pred_bboxes, test_bboxes in zip(pred_y, flipped_test_y):\n",
    "    \n",
    "    pred = pred_bboxes.reshape(num_objects, -1)\n",
    "    test = test_bboxes.reshape(num_objects, -1)\n",
    "    \n",
    "    pred_bboxes = pred[:, :4]\n",
    "    test_bboxes = test[:, :4]\n",
    "    p_test_bboxes = list(permutations(test_bboxes))\n",
    "    \n",
    "    p_ious = np.zeros(fact)\n",
    "    p_dists = np.zeros(fact)\n",
    "    p_mses = np.zeros(fact)\n",
    "    ious = np.zeros((fact, num_objects))\n",
    "    dists = np.zeros((fact, num_objects))\n",
    "    mses = np.zeros((fact, num_objects))\n",
    "    \n",
    "    for j, test_bboxes in enumerate(p_test_bboxes):\n",
    "        test_bboxes = list(test_bboxes) \n",
    "        for k in range(num_objects):\n",
    "            ious[j, k] = IOU(test_bboxes[k], pred_bboxes[k])\n",
    "            dists[j, k] = distance(test_bboxes[k], pred_bboxes[k])\n",
    "            mses[j, k] = np.mean(np.square(test_bboxes[k] - pred_bboxes[k]))\n",
    "        p_ious[j] = sum(ious[j, :])\n",
    "        p_dists[j] = sum(dists[j, :])\n",
    "        p_mses[j] = sum(mses[j, :])\n",
    "            \n",
    "    keymax = p_ious.argmax()\n",
    "    sum_iou += p_ious[keymax] \n",
    "    sum_dist += p_dists[keymax] \n",
    "    sum_mse += p_mses[keymax] \n",
    "\n",
    "mean_iou = sum_iou / (num_objects * len(pred_y))\n",
    "mean_dist = sum_dist / (num_objects * len(pred_y))\n",
    "mean_mse = sum_mse / (num_objects * len(pred_y))\n",
    "print('IoU:', mean_iou)\n",
    "print('Distance:', mean_dist)\n",
    "print('MSE:', mean_mse)"
   ]
  },
  {
   "cell_type": "code",
   "execution_count": null,
   "metadata": {},
   "outputs": [],
   "source": []
  }
 ],
 "metadata": {
  "kernelspec": {
   "display_name": "Python (tensorflow-gpu)",
   "language": "python",
   "name": "tf-gpu"
  },
  "language_info": {
   "codemirror_mode": {
    "name": "ipython",
    "version": 3
   },
   "file_extension": ".py",
   "mimetype": "text/x-python",
   "name": "python",
   "nbconvert_exporter": "python",
   "pygments_lexer": "ipython3",
   "version": "3.8.3"
  }
 },
 "nbformat": 4,
 "nbformat_minor": 1
}
