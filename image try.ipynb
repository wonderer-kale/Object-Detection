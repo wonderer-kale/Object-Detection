{
 "cells": [
  {
   "cell_type": "code",
   "execution_count": 35,
   "metadata": {},
   "outputs": [],
   "source": [
    "import numpy as np\n",
    "import matplotlib.pyplot as plt\n",
    "import matplotlib\n",
    "from PIL import Image\n",
    "from skimage import draw"
   ]
  },
  {
   "cell_type": "code",
   "execution_count": 365,
   "metadata": {},
   "outputs": [
    {
     "data": {
      "text/plain": [
       "((50000, 40, 40, 3), (50000, 3, 4), (50000, 3), (50000, 3))"
      ]
     },
     "execution_count": 365,
     "metadata": {},
     "output_type": "execute_result"
    }
   ],
   "source": [
    "num_imgs = 50000\n",
    "\n",
    "img_size = 40\n",
    "min_object_size = 7\n",
    "max_object_size = 20\n",
    "num_objects = 3\n",
    "num_shapes = 3\n",
    "num_colors = 3\n",
    "\n",
    "bboxes = np.zeros((num_imgs, num_objects, 4))\n",
    "imgs = np.zeros((num_imgs, img_size, img_size, 3)) + 1\n",
    "shapes = np.zeros((num_imgs, num_objects), dtype = int)\n",
    "shape_labels = ['rectangle', 'circle', 'triangle']\n",
    "colors = np.zeros((num_imgs, num_objects), dtype = int)\n",
    "color_labels = ['r', 'g', 'b']\n",
    "\n",
    "for i_img in range(num_imgs):\n",
    "    \n",
    "    for i_object in range(num_objects):\n",
    "        shape = np.random.randint(num_shapes)\n",
    "        shapes[i_img, i_object] = shape\n",
    "        color = np.random.randint(num_colors)\n",
    "        colors[i_img, i_object] = color\n",
    "        rgb = np.zeros(3)\n",
    "        \n",
    "        # TODO: Introduce some variation to the colors by adding a small random offset to the rgb values.\n",
    "        max_offset = 0.02\n",
    "        r_offset, g_offset, b_offset = max_offset * (np.random.rand(3) - 0.5)\n",
    "        if color == 0:\n",
    "            rgb = (1 - abs(r_offset), 0 + g_offset, 0 + b_offset)\n",
    "        elif color == 1:\n",
    "            rgb = (0 + r_offset, 1 - abs(g_offset), 0 + b_offset)\n",
    "        else:\n",
    "            rgb = (0 + r_offset, 0 + g_offset, 1 - abs(b_offset))\n",
    "            \n",
    "        if shape == 0: # rectangle\n",
    "            w, h = np.random.randint(min_object_size, max_object_size, size = 2)\n",
    "            x = np.random.randint(0, img_size - w)\n",
    "            y = np.random.randint(0, img_size - h)\n",
    "            imgs[i_img, x:x + w, y:y + h] = rgb\n",
    "            bboxes[i_img, i_object] = [x, y, w, h]\n",
    "            \n",
    "        elif shape == 1: # circle\n",
    "            r = 0.5 * np.random.randint(min_object_size, max_object_size)\n",
    "            r = (r + 0.5) - (r % 1)\n",
    "            x = np.random.randint(r, img_size - r)\n",
    "            y = np.random.randint(r, img_size - r)\n",
    "            bboxes[i_img, i_object] = [x - r, y - r, 2 * r, 2 * r]\n",
    "            r, c = draw.circle(x, y, radius = r, shape = (40, 40))\n",
    "            imgs[i_img, r, c] = rgb\n",
    "            \n",
    "        else: # triangle\n",
    "            size = np.random.randint(min_object_size, max_object_size)\n",
    "            x, y = np.random.randint(0, img_size - size, size = 2)\n",
    "            mask = np.tril_indices(size)\n",
    "            imgs[i_img, x + mask[0], y + mask[1]] = rgb\n",
    "            bboxes[i_img, i_object] = [x, y, size, size]\n",
    "            \n",
    "imgs = imgs * 255\n",
    "imgs = imgs.astype(np.uint8)\n",
    "\n",
    "imgs.shape, bboxes.shape, shapes.shape, colors.shape"
   ]
  },
  {
   "cell_type": "code",
   "execution_count": 461,
   "metadata": {},
   "outputs": [
    {
     "data": {
      "image/png": "[encoded data removed]",
      "text/plain": [
       "<Figure size 432x288 with 1 Axes>"
      ]
     },
     "metadata": {
      "needs_background": "light"
     },
     "output_type": "display_data"
    }
   ],
   "source": [
    "i = np.random.randint(num_imgs)\n",
    "plt.imshow(np.transpose(imgs[i], (1, 0, 2)), interpolation = 'none', origin = 'lower', extent = [0, img_size, 0, img_size])\n",
    "for bbox, shape, color in zip(bboxes[i], shapes[i], colors[i]):\n",
    "    plt.gca().add_patch(matplotlib.patches.Rectangle((bbox[0], bbox[1]), bbox[2], bbox[3], lw = 2, ec = 'k', fc = 'none'))\n",
    "    plt.annotate(shape_labels[shape], (bbox[0], bbox[1] + bbox[3] + 0.7), color = color_labels[color], clip_on = False)"
   ]
  },
  {
   "cell_type": "code",
   "execution_count": null,
   "metadata": {},
   "outputs": [],
   "source": []
  }
 ],
 "metadata": {
  "kernelspec": {
   "display_name": "Python (tensorflow-gpu)",
   "language": "python",
   "name": "tf-gpu"
  },
  "language_info": {
   "codemirror_mode": {
    "name": "ipython",
    "version": 3
   },
   "file_extension": ".py",
   "mimetype": "text/x-python",
   "name": "python",
   "nbconvert_exporter": "python",
   "pygments_lexer": "ipython3",
   "version": "3.8.3"
  }
 },
 "nbformat": 4,
 "nbformat_minor": 4
}
