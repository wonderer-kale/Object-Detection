{
 "cells": [
  {
   "cell_type": "markdown",
   "metadata": {},
   "source": [
    "# Two Rectangles or Triangles"
   ]
  },
  {
   "cell_type": "markdown",
   "metadata": {},
   "source": [
    "## Import Packages"
   ]
  },
  {
   "cell_type": "code",
   "execution_count": 1,
   "metadata": {
    "ExecuteTime": {
     "end_time": "2016-07-06T23:25:52.986000",
     "start_time": "2016-07-06T23:25:52.454000"
    }
   },
   "outputs": [],
   "source": [
    "import numpy as np\n",
    "import matplotlib.pyplot as plt\n",
    "import matplotlib\n",
    "%matplotlib inline"
   ]
  },
  {
   "cell_type": "markdown",
   "metadata": {},
   "source": [
    "## Data Generation"
   ]
  },
  {
   "cell_type": "code",
   "execution_count": 77,
   "metadata": {
    "ExecuteTime": {
     "end_time": "2016-07-06T23:25:58.288000",
     "start_time": "2016-07-06T23:25:54.225000"
    }
   },
   "outputs": [
    {
     "data": {
      "text/plain": [
       "((50000, 16, 16), (50000, 2, 4))"
      ]
     },
     "execution_count": 77,
     "metadata": {},
     "output_type": "execute_result"
    }
   ],
   "source": [
    "num_imgs = 50000\n",
    "\n",
    "img_size = 16\n",
    "min_rect_size = 3\n",
    "max_rect_size = 8\n",
    "num_objects = 2\n",
    "\n",
    "bboxes = np.zeros((num_imgs, num_objects, 4))\n",
    "imgs = np.zeros((num_imgs, img_size, img_size))\n",
    "shapes = np.zeros((num_imgs, num_objects, 1))\n",
    "\n",
    "for i_img in range(num_imgs):\n",
    "    for i_object in range(num_objects):\n",
    "        if np.random.choice([True, False]):\n",
    "            width, height = np.random.randint(min_rect_size, max_rect_size, size = 2)\n",
    "            x = np.random.randint(0, img_size - width)\n",
    "            y = np.random.randint(0, img_size - height)\n",
    "            imgs[i_img, x:x + width, y:y + height] = 1.\n",
    "            bboxes[i_img, i_object] = [x, y, width, height]\n",
    "            shapes[i_img, i_object] = [0]\n",
    "        else:\n",
    "            size = np.random.randint(min_rect_size, max_rect_size)\n",
    "            x, y = np.random.randint(0, img_size - size, size = 2)\n",
    "            mask = np.tril_indices(size)\n",
    "            imgs[i_img, x + mask[0], y + mask[1]] = 1.\n",
    "            bboxes[i_img, i_object] = [x, y, size, size]\n",
    "            shapes[i_img, i_object] = [1]\n",
    "\n",
    "imgs.shape, bboxes.shape"
   ]
  },
  {
   "cell_type": "code",
   "execution_count": 78,
   "metadata": {
    "ExecuteTime": {
     "end_time": "2016-07-06T23:25:58.544000",
     "start_time": "2016-07-06T23:25:58.291000"
    },
    "scrolled": true
   },
   "outputs": [
    {
     "data": {
      "image/png": "[encoded data removed]",
      "text/plain": [
       "<Figure size 432x288 with 1 Axes>"
      ]
     },
     "metadata": {
      "needs_background": "light"
     },
     "output_type": "display_data"
    }
   ],
   "source": [
    "i = 1\n",
    "plt.imshow(imgs[i].T, cmap = 'Greys', interpolation = 'none', origin = 'lower', extent = [0, img_size, 0, img_size])\n",
    "for bbox, shape in zip(bboxes[i], shapes[i]):\n",
    "    plt.gca().add_patch(matplotlib.patches.Rectangle((bbox[0], bbox[1]), bbox[2], bbox[3], lw = 2, ec = 'r' if shape[0] == 0 else 'b', fc = 'none'))"
   ]
  },
  {
   "cell_type": "markdown",
   "metadata": {},
   "source": [
    "## Preprocessing"
   ]
  },
  {
   "cell_type": "code",
   "execution_count": 79,
   "metadata": {
    "ExecuteTime": {
     "end_time": "2016-07-06T23:25:59.719000",
     "start_time": "2016-07-06T23:25:59.203000"
    }
   },
   "outputs": [
    {
     "data": {
      "text/plain": [
       "((50000, 256), 3.058442388237381e-17, 1.000000000000001)"
      ]
     },
     "execution_count": 79,
     "metadata": {},
     "output_type": "execute_result"
    }
   ],
   "source": [
    "X = (imgs.reshape(num_imgs, -1) - np.mean(imgs)) / np.std(imgs)\n",
    "X.shape, np.mean(X), np.std(X)"
   ]
  },
  {
   "cell_type": "code",
   "execution_count": 80,
   "metadata": {
    "ExecuteTime": {
     "end_time": "2016-07-06T23:26:00.476000",
     "start_time": "2016-07-06T23:26:00.464000"
    }
   },
   "outputs": [
    {
     "data": {
      "text/plain": [
       "((50000, 10), 0.349913375, 0.27457913305386)"
      ]
     },
     "execution_count": 80,
     "metadata": {},
     "output_type": "execute_result"
    }
   ],
   "source": [
    "# TODO: We use binary classification here - for multiple classes, convert classes to one-hot vectors.\n",
    "y = np.concatenate([bboxes / img_size, shapes], axis = -1).reshape(-1, 10)\n",
    "y.shape, np.mean(y), np.std(y)"
   ]
  },
  {
   "cell_type": "markdown",
   "metadata": {},
   "source": [
    "y = bboxes.reshape(num_imgs, -1) / img_size \n",
    "y.shape, np.mean(y), np.std(y)"
   ]
  },
  {
   "cell_type": "markdown",
   "metadata": {},
   "source": [
    "## Train Test Split"
   ]
  },
  {
   "cell_type": "code",
   "execution_count": 81,
   "metadata": {
    "ExecuteTime": {
     "end_time": "2016-07-06T23:26:01.233000",
     "start_time": "2016-07-06T23:26:01.226000"
    }
   },
   "outputs": [],
   "source": [
    "i = int(0.8 * num_imgs)\n",
    "train_X = X[:i]\n",
    "test_X = X[i:]\n",
    "train_y = y[:i]\n",
    "test_y = y[i:]\n",
    "test_imgs = imgs[i:]\n",
    "test_bboxes = bboxes[i:]"
   ]
  },
  {
   "cell_type": "markdown",
   "metadata": {},
   "source": [
    "## Model"
   ]
  },
  {
   "cell_type": "code",
   "execution_count": 82,
   "metadata": {
    "ExecuteTime": {
     "end_time": "2016-07-06T23:26:06.005000",
     "start_time": "2016-07-06T23:26:02.162000"
    }
   },
   "outputs": [
    {
     "name": "stdout",
     "output_type": "stream",
     "text": [
      "Model: \"sequential_6\"\n",
      "_________________________________________________________________\n",
      "Layer (type)                 Output Shape              Param #   \n",
      "=================================================================\n",
      "dense_12 (Dense)             (None, 256)               65792     \n",
      "_________________________________________________________________\n",
      "activation_6 (Activation)    (None, 256)               0         \n",
      "_________________________________________________________________\n",
      "dropout_6 (Dropout)          (None, 256)               0         \n",
      "_________________________________________________________________\n",
      "dense_13 (Dense)             (None, 10)                2570      \n",
      "=================================================================\n",
      "Total params: 68,362\n",
      "Trainable params: 68,362\n",
      "Non-trainable params: 0\n",
      "_________________________________________________________________\n"
     ]
    }
   ],
   "source": [
    "from keras.models import Sequential\n",
    "from keras.layers import Dense, Activation, Dropout\n",
    "from keras.callbacks import ModelCheckpoint\n",
    "from keras.models import load_model\n",
    "model = Sequential([\n",
    "        Dense(256, input_dim = X.shape[-1]), \n",
    "        Activation('relu'), \n",
    "        Dropout(0.5), \n",
    "        Dense(y.shape[-1])\n",
    "        ])\n",
    "model.compile(loss = 'mse', optimizer = 'adam')\n",
    "model.summary()"
   ]
  },
  {
   "cell_type": "markdown",
   "metadata": {},
   "source": [
    "## IoU Calculating Function"
   ]
  },
  {
   "cell_type": "code",
   "execution_count": 83,
   "metadata": {},
   "outputs": [],
   "source": [
    "def IOU(bbox1, bbox2):\n",
    "    '''Calculate overlap between two bounding boxes [x, y, w, h] as the area of intersection over the area of unity'''\n",
    "    x1, y1, w1, h1 = bbox1[0], bbox1[1], bbox1[2], bbox1[3]  # TODO: Check if its more performant if tensor elements are accessed directly below.\n",
    "    x2, y2, w2, h2 = bbox2[0], bbox2[1], bbox2[2], bbox2[3]\n",
    "\n",
    "    w_I = min(x1 + w1, x2 + w2) - max(x1, x2)\n",
    "    h_I = min(y1 + h1, y2 + h2) - max(y1, y2)\n",
    "    if w_I <= 0 or h_I <= 0:  # no overlap\n",
    "        return 0\n",
    "    I = w_I * h_I\n",
    "\n",
    "    U = w1 * h1 + w2 * h2 - I\n",
    "\n",
    "    return I / U"
   ]
  },
  {
   "cell_type": "markdown",
   "metadata": {},
   "source": [
    "## Distance Calculating Function"
   ]
  },
  {
   "cell_type": "code",
   "execution_count": 84,
   "metadata": {},
   "outputs": [],
   "source": [
    "def distance(bbox1, bbox2):\n",
    "    return np.sqrt(np.sum(np.square(bbox1[:2] - bbox2[:2])))"
   ]
  },
  {
   "cell_type": "markdown",
   "metadata": {},
   "source": [
    "## Training"
   ]
  },
  {
   "cell_type": "code",
   "execution_count": 92,
   "metadata": {
    "ExecuteTime": {
     "end_time": "2016-07-06T23:32:54.867000",
     "start_time": "2016-07-06T23:26:06.009000"
    },
    "code_folding": [
     2,
     17
    ],
    "scrolled": false
   },
   "outputs": [
    {
     "name": "stdout",
     "output_type": "stream",
     "text": [
      "Epoch 0\n",
      "1250/1250 [==============================] - 1s 997us/step - loss: 0.0456 - val_loss: 0.0417\n",
      "Flipped 19222.0 training samples (48.055 %)\n",
      "Mean IOU: 0.2741845205816994\n",
      "Mean dist: 0.22284639510366228\n",
      "Mean mse: 0.019772051942956802\n",
      "Epoch 1\n",
      "1250/1250 [==============================] - 1s 1ms/step - loss: 0.0423 - val_loss: 0.0440\n",
      "Flipped 8426.0 training samples (21.065 %)\n",
      "Mean IOU: 0.3187232970523486\n",
      "Mean dist: 0.2464609109747542\n",
      "Mean mse: 0.017099472894582732\n",
      "Epoch 2\n",
      "1250/1250 [==============================] - 1s 986us/step - loss: 0.0392 - val_loss: 0.0458\n",
      "Flipped 5700.0 training samples (14.249999999999998 %)\n",
      "Mean IOU: 0.347357065932537\n",
      "Mean dist: 0.25062559034000625\n",
      "Mean mse: 0.015201399476725544\n",
      "Epoch 3\n",
      "1250/1250 [==============================] - 1s 1ms/step - loss: 0.0369 - val_loss: 0.0479\n",
      "Flipped 4633.0 training samples (11.5825 %)\n",
      "Mean IOU: 0.3794344227946986\n",
      "Mean dist: 0.262117099803486\n",
      "Mean mse: 0.01389579953976677\n",
      "Epoch 4\n",
      "1250/1250 [==============================] - 1s 1ms/step - loss: 0.0352 - val_loss: 0.0487\n",
      "Flipped 3411.0 training samples (8.5275 %)\n",
      "Mean IOU: 0.39102891462207906\n",
      "Mean dist: 0.26224762934038326\n",
      "Mean mse: 0.01297830197195768\n",
      "Epoch 5\n",
      "1250/1250 [==============================] - 2s 1ms/step - loss: 0.0339 - val_loss: 0.0495\n",
      "Flipped 2892.0 training samples (7.23 %)\n",
      "Mean IOU: 0.4165573004770742\n",
      "Mean dist: 0.2739019242415498\n",
      "Mean mse: 0.012207251753451921\n",
      "Epoch 6\n",
      "1250/1250 [==============================] - 1s 967us/step - loss: 0.0325 - val_loss: 0.0503\n",
      "Flipped 2395.0 training samples (5.9875 %)\n",
      "Mean IOU: 0.42010726977102186\n",
      "Mean dist: 0.27445459346446777\n",
      "Mean mse: 0.011558971342432518\n",
      "Epoch 7\n",
      "1250/1250 [==============================] - 1s 975us/step - loss: 0.0320 - val_loss: 0.0510\n",
      "Flipped 2607.0 training samples (6.5175 %)\n",
      "Mean IOU: 0.42089013717891066\n",
      "Mean dist: 0.27335005964509196\n",
      "Mean mse: 0.011493617558082786\n",
      "Epoch 8\n",
      "1250/1250 [==============================] - 2s 2ms/step - loss: 0.0312 - val_loss: 0.0512\n",
      "Flipped 2225.0 training samples (5.5625 %)\n",
      "Mean IOU: 0.42320519031163584\n",
      "Mean dist: 0.2777427328893292\n",
      "Mean mse: 0.011252202211708872\n",
      "Epoch 9\n",
      "1250/1250 [==============================] - 1s 933us/step - loss: 0.0304 - val_loss: 0.0528\n",
      "Flipped 2197.0 training samples (5.4925 %)\n",
      "Mean IOU: 0.426395880461688\n",
      "Mean dist: 0.2679217250115271\n",
      "Mean mse: 0.010466141366210156\n",
      "Epoch 10\n",
      "1250/1250 [==============================] - 1s 981us/step - loss: 0.0299 - val_loss: 0.0536\n",
      "Flipped 1950.0 training samples (4.875 %)\n",
      "Mean IOU: 0.43513534739455906\n",
      "Mean dist: 0.26667849346130174\n",
      "Mean mse: 0.010481728306212535\n",
      "Epoch 11\n",
      "1250/1250 [==============================] - 2s 1ms/step - loss: 0.0294 - val_loss: 0.0527\n",
      "Flipped 1886.0 training samples (4.715 %)\n",
      "Mean IOU: 0.4457587378583167\n",
      "Mean dist: 0.2838950879610028\n",
      "Mean mse: 0.010140222763489361\n",
      "Epoch 12\n",
      "1250/1250 [==============================] - 1s 985us/step - loss: 0.0290 - val_loss: 0.0541\n",
      "Flipped 1806.0 training samples (4.515000000000001 %)\n",
      "Mean IOU: 0.44820777487207225\n",
      "Mean dist: 0.2791108688695121\n",
      "Mean mse: 0.009775964701455198\n",
      "Epoch 13\n",
      "1250/1250 [==============================] - 1s 933us/step - loss: 0.0287 - val_loss: 0.0533\n",
      "Flipped 1856.0 training samples (4.64 %)\n",
      "Mean IOU: 0.4452527086112148\n",
      "Mean dist: 0.27485099194228896\n",
      "Mean mse: 0.009771344804121816\n",
      "Epoch 14\n",
      "1250/1250 [==============================] - 1s 958us/step - loss: 0.0285 - val_loss: 0.0536\n",
      "Flipped 1817.0 training samples (4.5425 %)\n",
      "Mean IOU: 0.44709975812147207\n",
      "Mean dist: 0.2784075865299119\n",
      "Mean mse: 0.009566832800238841\n",
      "Epoch 15\n",
      "1250/1250 [==============================] - 1s 957us/step - loss: 0.0282 - val_loss: 0.0546\n",
      "Flipped 1864.0 training samples (4.66 %)\n",
      "Mean IOU: 0.44858999941706407\n",
      "Mean dist: 0.2806718648728352\n",
      "Mean mse: 0.00941252023816666\n",
      "Epoch 16\n",
      "1250/1250 [==============================] - 1s 953us/step - loss: 0.0279 - val_loss: 0.0552\n",
      "Flipped 1885.0 training samples (4.7125 %)\n",
      "Mean IOU: 0.45242335009531487\n",
      "Mean dist: 0.2825550286823053\n",
      "Mean mse: 0.009388869659683531\n",
      "Epoch 17\n",
      "1250/1250 [==============================] - 1s 961us/step - loss: 0.0278 - val_loss: 0.0539\n",
      "Flipped 1673.0 training samples (4.1825 %)\n",
      "Mean IOU: 0.45349317916355586\n",
      "Mean dist: 0.27550463276222475\n",
      "Mean mse: 0.009331203881639364\n",
      "Epoch 18\n",
      "1250/1250 [==============================] - 1s 949us/step - loss: 0.0277 - val_loss: 0.0544\n",
      "Flipped 1738.0 training samples (4.345000000000001 %)\n",
      "Mean IOU: 0.4565865080025721\n",
      "Mean dist: 0.2839076890823017\n",
      "Mean mse: 0.009289702927159539\n",
      "Epoch 19\n",
      "1250/1250 [==============================] - 1s 950us/step - loss: 0.0275 - val_loss: 0.0552\n",
      "Flipped 1623.0 training samples (4.0575 %)\n",
      "Mean IOU: 0.4485138335352806\n",
      "Mean dist: 0.28076223683847135\n",
      "Mean mse: 0.009143564613015485\n",
      "Epoch 20\n",
      "1250/1250 [==============================] - 1s 966us/step - loss: 0.0273 - val_loss: 0.0548\n",
      "Flipped 1782.0 training samples (4.455 %)\n",
      "Mean IOU: 0.4431515082042765\n",
      "Mean dist: 0.2760247307884092\n",
      "Mean mse: 0.009099949958639348\n",
      "Epoch 21\n",
      "1250/1250 [==============================] - 1s 1ms/step - loss: 0.0272 - val_loss: 0.0544\n",
      "Flipped 2050.0 training samples (5.125 %)\n",
      "Mean IOU: 0.4490141768008915\n",
      "Mean dist: 0.2688720880331707\n",
      "Mean mse: 0.009174482051713716\n",
      "Epoch 22\n",
      "1250/1250 [==============================] - 1s 972us/step - loss: 0.0273 - val_loss: 0.0537\n",
      "Flipped 1780.0 training samples (4.45 %)\n",
      "Mean IOU: 0.45037096606657423\n",
      "Mean dist: 0.2739271489942176\n",
      "Mean mse: 0.009089675077586094\n",
      "Epoch 23\n",
      "1250/1250 [==============================] - 1s 989us/step - loss: 0.0270 - val_loss: 0.0549\n",
      "Flipped 1636.0 training samples (4.09 %)\n",
      "Mean IOU: 0.46124422467810944\n",
      "Mean dist: 0.28166790496104294\n",
      "Mean mse: 0.008765774650994495\n",
      "Epoch 24\n",
      "1250/1250 [==============================] - 1s 1ms/step - loss: 0.0270 - val_loss: 0.0556\n",
      "Flipped 1692.0 training samples (4.2299999999999995 %)\n",
      "Mean IOU: 0.4514282151611003\n",
      "Mean dist: 0.27819595975392963\n",
      "Mean mse: 0.008779045007739827\n",
      "Epoch 25\n",
      "1250/1250 [==============================] - 1s 1ms/step - loss: 0.0269 - val_loss: 0.0555\n",
      "Flipped 1624.0 training samples (4.06 %)\n",
      "Mean IOU: 0.4567993597043841\n",
      "Mean dist: 0.28024461198487827\n",
      "Mean mse: 0.008759571121490888\n",
      "Epoch 26\n",
      "1250/1250 [==============================] - 1s 971us/step - loss: 0.0268 - val_loss: 0.0546\n",
      "Flipped 1632.0 training samples (4.08 %)\n",
      "Mean IOU: 0.4476744766917494\n",
      "Mean dist: 0.2714514770090625\n",
      "Mean mse: 0.009052607189874587\n",
      "Epoch 27\n",
      "1250/1250 [==============================] - 1s 977us/step - loss: 0.0268 - val_loss: 0.0538\n",
      "Flipped 1892.0 training samples (4.73 %)\n",
      "Mean IOU: 0.44479926680999626\n",
      "Mean dist: 0.2759641370236507\n",
      "Mean mse: 0.009002208833418885\n",
      "Epoch 28\n",
      "1250/1250 [==============================] - 1s 954us/step - loss: 0.0265 - val_loss: 0.0549\n",
      "Flipped 1712.0 training samples (4.279999999999999 %)\n",
      "Mean IOU: 0.4575686853394433\n",
      "Mean dist: 0.2751994637866024\n",
      "Mean mse: 0.008647768707784225\n",
      "Epoch 29\n",
      "1250/1250 [==============================] - 1s 1ms/step - loss: 0.0266 - val_loss: 0.0555\n",
      "Flipped 1716.0 training samples (4.29 %)\n",
      "Mean IOU: 0.43802029303378465\n",
      "Mean dist: 0.27092153454804935\n",
      "Mean mse: 0.00908109494434549\n",
      "Epoch 30\n",
      "1250/1250 [==============================] - 1s 1ms/step - loss: 0.0265 - val_loss: 0.0544\n",
      "Flipped 1804.0 training samples (4.51 %)\n",
      "Mean IOU: 0.4531932890510586\n",
      "Mean dist: 0.2822082859845452\n",
      "Mean mse: 0.008837816615348435\n",
      "Epoch 31\n",
      "1250/1250 [==============================] - 2s 1ms/step - loss: 0.0265 - val_loss: 0.0543\n",
      "Flipped 1862.0 training samples (4.655 %)\n",
      "Mean IOU: 0.44785223337045843\n",
      "Mean dist: 0.2709375310625878\n",
      "Mean mse: 0.00890808494025354\n",
      "Epoch 32\n",
      "1250/1250 [==============================] - 1s 958us/step - loss: 0.0264 - val_loss: 0.0552\n",
      "Flipped 1661.0 training samples (4.1525 %)\n",
      "Mean IOU: 0.4500843792502653\n",
      "Mean dist: 0.275745607321388\n",
      "Mean mse: 0.008741681557623301\n",
      "Epoch 33\n",
      "1250/1250 [==============================] - 1s 940us/step - loss: 0.0263 - val_loss: 0.0550\n",
      "Flipped 1711.0 training samples (4.2775 %)\n",
      "Mean IOU: 0.45325707459747483\n",
      "Mean dist: 0.2754889382314631\n",
      "Mean mse: 0.008849809853828675\n",
      "Epoch 34\n",
      "1250/1250 [==============================] - 1s 1ms/step - loss: 0.0264 - val_loss: 0.0553\n",
      "Flipped 1800.0 training samples (4.5 %)\n",
      "Mean IOU: 0.45798985859981906\n",
      "Mean dist: 0.2761388958438083\n",
      "Mean mse: 0.008681186852822336\n",
      "Epoch 35\n"
     ]
    },
    {
     "name": "stdout",
     "output_type": "stream",
     "text": [
      "1250/1250 [==============================] - 1s 1ms/step - loss: 0.0263 - val_loss: 0.0559\n",
      "Flipped 1764.0 training samples (4.41 %)\n",
      "Mean IOU: 0.46681888093547813\n",
      "Mean dist: 0.286106808820883\n",
      "Mean mse: 0.008425597399424414\n",
      "Epoch 36\n",
      "1250/1250 [==============================] - 1s 953us/step - loss: 0.0261 - val_loss: 0.0560\n",
      "Flipped 1673.0 training samples (4.1825 %)\n",
      "Mean IOU: 0.45159318669454207\n",
      "Mean dist: 0.27835448135947316\n",
      "Mean mse: 0.008443608771069052\n",
      "Epoch 37\n",
      "1250/1250 [==============================] - 1s 986us/step - loss: 0.0259 - val_loss: 0.0556\n",
      "Flipped 1486.0 training samples (3.7150000000000003 %)\n",
      "Mean IOU: 0.4621580491994794\n",
      "Mean dist: 0.28314066314035735\n",
      "Mean mse: 0.008447201113116533\n",
      "Epoch 38\n",
      "1250/1250 [==============================] - 1s 1ms/step - loss: 0.0260 - val_loss: 0.0557\n",
      "Flipped 1618.0 training samples (4.045 %)\n",
      "Mean IOU: 0.45388050722707873\n",
      "Mean dist: 0.2809018183779106\n",
      "Mean mse: 0.008572877457303887\n",
      "Epoch 39\n",
      "1250/1250 [==============================] - 1s 1ms/step - loss: 0.0259 - val_loss: 0.0560\n",
      "Flipped 1692.0 training samples (4.2299999999999995 %)\n",
      "Mean IOU: 0.4436650117613921\n",
      "Mean dist: 0.2795959253297446\n",
      "Mean mse: 0.008595844788176911\n",
      "Epoch 40\n",
      "1250/1250 [==============================] - 1s 1ms/step - loss: 0.0258 - val_loss: 0.0564\n",
      "Flipped 1646.0 training samples (4.115 %)\n",
      "Mean IOU: 0.45175377118266496\n",
      "Mean dist: 0.2769831873686124\n",
      "Mean mse: 0.008482612385424589\n",
      "Epoch 41\n",
      "1250/1250 [==============================] - 1s 1ms/step - loss: 0.0258 - val_loss: 0.0556\n",
      "Flipped 1853.0 training samples (4.632499999999999 %)\n",
      "Mean IOU: 0.45359301769482446\n",
      "Mean dist: 0.27788858564464614\n",
      "Mean mse: 0.008441198715743501\n",
      "Epoch 42\n",
      "1250/1250 [==============================] - 1s 1ms/step - loss: 0.0258 - val_loss: 0.0555\n",
      "Flipped 1466.0 training samples (3.665 %)\n",
      "Mean IOU: 0.4553376626970447\n",
      "Mean dist: 0.283411445755153\n",
      "Mean mse: 0.008465775511628937\n",
      "Epoch 43\n",
      "1250/1250 [==============================] - 1s 940us/step - loss: 0.0259 - val_loss: 0.0548\n",
      "Flipped 1696.0 training samples (4.24 %)\n",
      "Mean IOU: 0.4569836320829199\n",
      "Mean dist: 0.27034399390076463\n",
      "Mean mse: 0.00862436176278968\n",
      "Epoch 44\n",
      "1250/1250 [==============================] - 1s 1ms/step - loss: 0.0259 - val_loss: 0.0553\n",
      "Flipped 1669.0 training samples (4.172499999999999 %)\n",
      "Mean IOU: 0.4681370111652368\n",
      "Mean dist: 0.2905368765719685\n",
      "Mean mse: 0.00853106561955386\n",
      "Epoch 45\n",
      "1250/1250 [==============================] - 1s 983us/step - loss: 0.0259 - val_loss: 0.0555\n",
      "Flipped 1506.0 training samples (3.765 %)\n",
      "Mean IOU: 0.45945748503100875\n",
      "Mean dist: 0.2885857849494059\n",
      "Mean mse: 0.00839436147509208\n",
      "Epoch 46\n",
      "1250/1250 [==============================] - 1s 1ms/step - loss: 0.0256 - val_loss: 0.0553\n",
      "Flipped 1461.0 training samples (3.6525000000000003 %)\n",
      "Mean IOU: 0.46072755134216514\n",
      "Mean dist: 0.2796367986879357\n",
      "Mean mse: 0.008404074045694073\n",
      "Epoch 47\n",
      "1250/1250 [==============================] - 2s 1ms/step - loss: 0.0257 - val_loss: 0.0549\n",
      "Flipped 1558.0 training samples (3.895 %)\n",
      "Mean IOU: 0.4657930442344899\n",
      "Mean dist: 0.27853202841982355\n",
      "Mean mse: 0.008400803003112065\n",
      "Epoch 48\n",
      "1250/1250 [==============================] - 1s 991us/step - loss: 0.0257 - val_loss: 0.0558\n",
      "Flipped 1649.0 training samples (4.1225 %)\n",
      "Mean IOU: 0.46179953102202215\n",
      "Mean dist: 0.2837882281994919\n",
      "Mean mse: 0.008297209424511044\n",
      "Epoch 49\n",
      "1250/1250 [==============================] - 1s 1ms/step - loss: 0.0255 - val_loss: 0.0546\n",
      "Flipped 1593.0 training samples (3.9825 %)\n",
      "Mean IOU: 0.4542710605458793\n",
      "Mean dist: 0.2669367735699756\n",
      "Mean mse: 0.008592683948944201\n"
     ]
    }
   ],
   "source": [
    "# Flip bboxes during training.\n",
    "num_epochs = 50\n",
    "flipped_train_y = np.array(train_y)\n",
    "flipped = np.zeros((len(flipped_train_y), num_epochs))\n",
    "ious = np.zeros((len(flipped_train_y), num_epochs))\n",
    "dists = np.zeros((len(flipped_train_y), num_epochs))\n",
    "mses = np.zeros((len(flipped_train_y), num_epochs))\n",
    "\n",
    "for epoch in range(num_epochs):\n",
    "    print('Epoch', epoch)\n",
    "    model.fit(train_X, flipped_train_y, epochs = 1, validation_data = (test_X, test_y), verbose = 1, \n",
    "              callbacks = [ModelCheckpoint('Two_Rectangles_or_Triangles_model.h5', \n",
    "                                           monitor = 'val_loss',\n",
    "                                           save_best_only = True)])\n",
    "    pred_y = model.predict(train_X)\n",
    "\n",
    "    for i, (pred_bboxes, exp_bboxes) in enumerate(zip(pred_y, flipped_train_y)):\n",
    "        \n",
    "        flipped_exp_bboxes = np.concatenate([exp_bboxes[5:], exp_bboxes[:5]])\n",
    "        \n",
    "        mse = np.mean(np.square(pred_bboxes - exp_bboxes))\n",
    "        mse_flipped = np.mean(np.square(pred_bboxes - flipped_exp_bboxes))\n",
    "        \n",
    "        iou = IOU(pred_bboxes[0:4], exp_bboxes[0:4]) + IOU(pred_bboxes[5:9], exp_bboxes[5:9])\n",
    "        iou_flipped = IOU(pred_bboxes[0:4], flipped_exp_bboxes[0:4]) + IOU(pred_bboxes[5:9], flipped_exp_bboxes[5:9])\n",
    "        \n",
    "        dist = distance(pred_bboxes[0:4], exp_bboxes[0:4]) + IOU(pred_bboxes[5:9], exp_bboxes[5:9])\n",
    "        dist_flipped = distance(pred_bboxes[0:4], flipped_exp_bboxes[0:4]) + IOU(pred_bboxes[5:9], flipped_exp_bboxes[5:9])\n",
    "        \n",
    "        if iou_flipped > iou:  \n",
    "            flipped_train_y[i] = flipped_exp_bboxes\n",
    "            flipped[i, epoch] = 1\n",
    "            ious[i, epoch] = iou_flipped / 2.\n",
    "            dists[i, epoch] = dist_flipped / 2.\n",
    "            mses[i, epoch] = mse_flipped / 2.\n",
    "        else:\n",
    "            ious[i, epoch] = iou / 2.\n",
    "            dists[i, epoch] = dist / 2.\n",
    "            mses[i, epoch] = mse / 2.\n",
    "            \n",
    "    print('Flipped {} training samples ({} %)'.format(np.sum(flipped[:, epoch]), np.mean(flipped[:, epoch]) * 100.))\n",
    "    print('Mean IOU: {}'.format(np.mean(ious[:, epoch])))\n",
    "    print('Mean dist: {}'.format(np.mean(dists[:, epoch])))\n",
    "    print('Mean mse: {}'.format(np.mean(mses[:, epoch])))"
   ]
  },
  {
   "cell_type": "markdown",
   "metadata": {},
   "source": [
    "## Flipping Track"
   ]
  },
  {
   "cell_type": "code",
   "execution_count": 93,
   "metadata": {
    "ExecuteTime": {
     "end_time": "2016-07-06T23:55:00.367000",
     "start_time": "2016-07-06T23:54:57.699000"
    }
   },
   "outputs": [
    {
     "data": {
      "image/png": "[encoded data removed]",
      "text/plain": [
       "<Figure size 432x288 with 1 Axes>"
      ]
     },
     "metadata": {
      "needs_background": "light"
     },
     "output_type": "display_data"
    }
   ],
   "source": [
    "plt.pcolor(flipped[:1000], cmap = 'Greys')\n",
    "plt.xlabel('Epoch')\n",
    "plt.ylabel('Training sample')\n",
    "plt.savefig('two-rectangles-or-triangles_flips.png', dpi = 100)"
   ]
  },
  {
   "cell_type": "markdown",
   "metadata": {},
   "source": [
    "## Metrics Track"
   ]
  },
  {
   "cell_type": "code",
   "execution_count": 94,
   "metadata": {
    "ExecuteTime": {
     "end_time": "2016-07-06T23:55:01.541000",
     "start_time": "2016-07-06T23:55:01.245000"
    }
   },
   "outputs": [
    {
     "data": {
      "image/png": "[encoded data removed]",
      "text/plain": [
       "<Figure size 432x288 with 1 Axes>"
      ]
     },
     "metadata": {
      "needs_background": "light"
     },
     "output_type": "display_data"
    }
   ],
   "source": [
    "mean_ious_epoch = np.mean(ious, axis = 0)\n",
    "mean_dists_epoch = np.mean(dists, axis = 0)\n",
    "mean_mses_epoch = np.mean(mses, axis = 0)\n",
    "plt.plot(np.mean(ious, axis = 0), label = 'Mean IOU')  # between predicted and assigned true bboxes\n",
    "plt.plot(np.mean(dists, axis = 0), label = 'Mean distance')  # relative to image size\n",
    "plt.plot(np.mean(mses, axis = 0), label = 'Mean mse')\n",
    "plt.annotate(np.round(np.max(mean_ious_epoch), 3), (len(mean_ious_epoch) - 1, mean_ious_epoch[-1] + 0.02), horizontalalignment = 'right', color = 'b')\n",
    "plt.annotate(np.round(np.min(mean_dists_epoch), 3), (len(mean_dists_epoch) - 1, mean_dists_epoch[-1] + 0.02), horizontalalignment = 'right', color = 'g')\n",
    "plt.annotate(np.round(np.min(mean_mses_epoch), 3), (len(mean_mses_epoch) - 1, mean_mses_epoch[-1] + 0.02), horizontalalignment = 'right', color = 'r')\n",
    "\n",
    "plt.xlabel('Epoch')\n",
    "# Hide y tick\n",
    "ax = plt.gca()\n",
    "ax.axes.yaxis.set_visible(False)\n",
    "\n",
    "plt.legend()\n",
    "plt.ylim(0, 0.9)\n",
    "plt.savefig('training_metrics.png', dpi = 100)"
   ]
  },
  {
   "cell_type": "markdown",
   "metadata": {},
   "source": [
    "## Denormalize Data"
   ]
  },
  {
   "cell_type": "code",
   "execution_count": 95,
   "metadata": {
    "ExecuteTime": {
     "end_time": "2016-07-06T23:55:02.905000",
     "start_time": "2016-07-06T23:55:02.569000"
    }
   },
   "outputs": [
    {
     "data": {
      "text/plain": [
       "((10000, 2, 4), (10000, 2, 1))"
      ]
     },
     "execution_count": 95,
     "metadata": {},
     "output_type": "execute_result"
    }
   ],
   "source": [
    "pred_y = model.predict(test_X)\n",
    "pred_y = pred_y.reshape(len(pred_y), num_objects, -1)\n",
    "pred_bboxes = pred_y[..., :4] * img_size\n",
    "pred_shapes = pred_y[..., 4:5]\n",
    "pred_bboxes.shape, pred_shapes.shape"
   ]
  },
  {
   "cell_type": "markdown",
   "metadata": {},
   "source": [
    "## Visualize Results"
   ]
  },
  {
   "cell_type": "code",
   "execution_count": 108,
   "metadata": {
    "ExecuteTime": {
     "end_time": "2016-07-06T23:57:24.479000",
     "start_time": "2016-07-06T23:57:22.606000"
    },
    "scrolled": true
   },
   "outputs": [
    {
     "data": {
      "image/png": "[encoded data removed]",
      "text/plain": [
       "<Figure size 1152x576 with 4 Axes>"
      ]
     },
     "metadata": {
      "needs_background": "light"
     },
     "output_type": "display_data"
    }
   ],
   "source": [
    "plt.figure(figsize = (16, 8))\n",
    "for i_subplot in range(1, 5):\n",
    "    plt.subplot(1, 4, i_subplot)\n",
    "    i = np.random.randint(len(test_X))\n",
    "    plt.imshow(test_imgs[i].T, cmap = 'Greys', interpolation = 'none', origin = 'lower', extent = [0, img_size, 0, img_size])\n",
    "    for pred_bbox, exp_bbox, pred_shape in zip(pred_bboxes[i], test_bboxes[i], pred_shapes[i]):\n",
    "        plt.gca().add_patch(matplotlib.patches.Rectangle((pred_bbox[0], pred_bbox[1]), pred_bbox[2], pred_bbox[3], lw = 2, ec = 'r' if pred_shape[0] <= 0.5 else 'b', fc = 'none'))\n",
    "        # TODO: Calculate max IOU with all expected bounding boxes.\n",
    "        # plt.annotate('IOU: {:.2f}'.format(IOU(pred_bbox, exp_bbox)), (pred_bbox[0], pred_bbox[1]+pred_bbox[3]+0.4), color='r')\n",
    "\n",
    "plt.savefig('two-rectangles-or-triangles.png', dpi = 100)"
   ]
  },
  {
   "cell_type": "markdown",
   "metadata": {
    "collapsed": true
   },
   "source": [
    "## Overall Assessment"
   ]
  },
  {
   "cell_type": "code",
   "execution_count": 109,
   "metadata": {},
   "outputs": [
    {
     "data": {
      "text/plain": [
       "0.15768882794951197"
      ]
     },
     "execution_count": 109,
     "metadata": {},
     "output_type": "execute_result"
    }
   ],
   "source": [
    "from keras.models import load_model\n",
    "model_test = load_model('Two_Rectangles_or_Triangles_model.h5')\n",
    "pred_y = model_test.predict(test_X)\n",
    "pred_bboxes = pred_y * img_size\n",
    "pred_bboxes = pred_bboxes.reshape(len(pred_bboxes), num_objects, -1)\n",
    "summed_IOU = 0.\n",
    "for pred_bbox, test_bbox in zip(pred_bboxes.reshape(-1, 4), test_bboxes.reshape(-1, 4)):\n",
    "    summed_IOU += IOU(pred_bbox, test_bbox)\n",
    "mean_IOU = summed_IOU / len(pred_bboxes)\n",
    "mean_IOU"
   ]
  },
  {
   "cell_type": "code",
   "execution_count": null,
   "metadata": {},
   "outputs": [],
   "source": []
  }
 ],
 "metadata": {
  "kernelspec": {
   "display_name": "Python (tensorflow-gpu)",
   "language": "python",
   "name": "tf-gpu"
  },
  "language_info": {
   "codemirror_mode": {
    "name": "ipython",
    "version": 3
   },
   "file_extension": ".py",
   "mimetype": "text/x-python",
   "name": "python",
   "nbconvert_exporter": "python",
   "pygments_lexer": "ipython3",
   "version": "3.8.3"
  },
  "toc": {
   "nav_menu": {},
   "number_sections": true,
   "sideBar": true,
   "skip_h1_title": false,
   "title_cell": "Table of Contents",
   "title_sidebar": "Contents",
   "toc_cell": false,
   "toc_position": {},
   "toc_section_display": true,
   "toc_window_display": false
  }
 },
 "nbformat": 4,
 "nbformat_minor": 1
}
