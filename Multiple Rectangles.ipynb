{
 "cells": [
  {
   "cell_type": "markdown",
   "metadata": {},
   "source": [
    "# Multiple Rectangles Detection"
   ]
  },
  {
   "cell_type": "markdown",
   "metadata": {},
   "source": [
    "## Import Packages"
   ]
  },
  {
   "cell_type": "code",
   "execution_count": 1,
   "metadata": {
    "ExecuteTime": {
     "end_time": "2016-07-11T02:31:23.705000",
     "start_time": "2016-07-11T02:31:23.164000"
    }
   },
   "outputs": [],
   "source": [
    "import numpy as np\n",
    "import matplotlib.pyplot as plt\n",
    "import matplotlib\n",
    "%matplotlib inline"
   ]
  },
  {
   "cell_type": "markdown",
   "metadata": {},
   "source": [
    "## Data Generation"
   ]
  },
  {
   "cell_type": "code",
   "execution_count": 2,
   "metadata": {
    "ExecuteTime": {
     "end_time": "2016-07-11T02:31:26.922000",
     "start_time": "2016-07-11T02:31:24.029000"
    }
   },
   "outputs": [
    {
     "data": {
      "text/plain": [
       "((50000, 8, 8), (50000, 3, 4))"
      ]
     },
     "execution_count": 2,
     "metadata": {},
     "output_type": "execute_result"
    }
   ],
   "source": [
    "num_imgs = 50000\n",
    "\n",
    "img_size = 8\n",
    "min_rect_size = 1\n",
    "max_rect_size = 4\n",
    "num_objects = 3\n",
    "\n",
    "bboxes = np.zeros((num_imgs, num_objects, 4))\n",
    "imgs = np.zeros((num_imgs, img_size, img_size))\n",
    "\n",
    "for i_img in range(num_imgs):\n",
    "    for i_object in range(num_objects):\n",
    "        width, height = np.random.randint(min_rect_size, max_rect_size, size = 2)\n",
    "        x = np.random.randint(0, img_size - width)\n",
    "        y = np.random.randint(0, img_size - height)\n",
    "        imgs[i_img, x:x + width, y:y + height] = 1.\n",
    "        bboxes[i_img, i_object] = [x, y, width, height]\n",
    "\n",
    "'''\n",
    "    # Prevent overlap between rectangles.\n",
    "    # Makes results (i.e. mean IOU) slightly worse; probably because the shapes are smaller\n",
    "    # (i.e. they are harder to recognize and capture within a bbox)\n",
    "    # and further apart (i.e. the algorithm can't set all bboxes to the same location to get a good IOU).\n",
    "    i_object = 0\n",
    "    while i_object < num_objects:\n",
    "        width, height = np.random.randint(min_rect_size, max_rect_size, size = 2)\n",
    "        x = np.random.randint(0, img_size - width)\n",
    "        y = np.random.randint(0, img_size - height)\n",
    "        overlap = False\n",
    "        print('Creating object', i_object, ' - checking', len(bboxes[i_img, :i_object]), 'bboxes for overlap', )\n",
    "        for bbox in bboxes[i_img, :i_object]:  # TODO: Check if this includes all bboxes.\n",
    "            overlap = bool(IOU(bbox, [x - 1, y - 1, width + 2, height + 2]))  # at least one free field between objects\n",
    "            if overlap:\n",
    "                print('--> Found overlap')\n",
    "                break\n",
    "            if not overlap:\n",
    "                imgs[i_img, x:x + width, y:y + height] = 1.\n",
    "                bboxes[i_img, i_object] = [x, y, width, height]\n",
    "                i_object += 1\n",
    "                print('--> Found no overlap')\n",
    "'''\n",
    "\n",
    "imgs.shape, bboxes.shape"
   ]
  },
  {
   "cell_type": "code",
   "execution_count": 3,
   "metadata": {
    "ExecuteTime": {
     "end_time": "2016-07-11T02:31:27.836000",
     "start_time": "2016-07-11T02:31:27.576000"
    },
    "scrolled": true
   },
   "outputs": [
    {
     "data": {
      "image/png": "[encoded data removed]",
      "text/plain": [
       "<Figure size 432x288 with 1 Axes>"
      ]
     },
     "metadata": {
      "needs_background": "light"
     },
     "output_type": "display_data"
    }
   ],
   "source": [
    "i = 0\n",
    "plt.imshow(imgs[i].T, cmap = 'Greys', interpolation = 'none', origin = 'lower', extent = [0, img_size, 0, img_size])\n",
    "for bbox in bboxes[i]:\n",
    "    plt.gca().add_patch(matplotlib.patches.Rectangle((bbox[0], bbox[1]), bbox[2], bbox[3], lw = 2, ec = 'r', fc = 'none'))"
   ]
  },
  {
   "cell_type": "markdown",
   "metadata": {},
   "source": [
    "## Preprocessing"
   ]
  },
  {
   "cell_type": "code",
   "execution_count": 4,
   "metadata": {
    "ExecuteTime": {
     "end_time": "2016-07-11T02:31:29.292000",
     "start_time": "2016-07-11T02:31:29.159000"
    }
   },
   "outputs": [
    {
     "data": {
      "text/plain": [
       "((50000, 64), -8.094636072542016e-17, 1.0)"
      ]
     },
     "execution_count": 4,
     "metadata": {},
     "output_type": "execute_result"
    }
   ],
   "source": [
    "# Reshape and normalize the data to mean 0 and std 1.\n",
    "X = (imgs.reshape(num_imgs, -1) - np.mean(imgs)) / np.std(imgs)\n",
    "X.shape, np.mean(X), np.std(X)"
   ]
  },
  {
   "cell_type": "code",
   "execution_count": 5,
   "metadata": {
    "ExecuteTime": {
     "end_time": "2016-07-11T02:31:30.073000",
     "start_time": "2016-07-11T02:31:30.064000"
    }
   },
   "outputs": [
    {
     "data": {
      "text/plain": [
       "(50000, 12)"
      ]
     },
     "execution_count": 5,
     "metadata": {},
     "output_type": "execute_result"
    }
   ],
   "source": [
    "y = bboxes.reshape(num_imgs, -1) / img_size\n",
    "y.shape"
   ]
  },
  {
   "cell_type": "markdown",
   "metadata": {},
   "source": [
    "## Train Test Split"
   ]
  },
  {
   "cell_type": "code",
   "execution_count": 6,
   "metadata": {
    "ExecuteTime": {
     "end_time": "2016-07-11T02:31:31.033000",
     "start_time": "2016-07-11T02:31:31.028000"
    }
   },
   "outputs": [],
   "source": [
    "i = int(0.8 * num_imgs)\n",
    "train_X = X[:i]\n",
    "test_X = X[i:]\n",
    "train_y = y[:i]\n",
    "test_y = y[i:]\n",
    "test_imgs = imgs[i:]\n",
    "test_bboxes = bboxes[i:]"
   ]
  },
  {
   "cell_type": "markdown",
   "metadata": {},
   "source": [
    "## CNN Model"
   ]
  },
  {
   "cell_type": "code",
   "execution_count": 28,
   "metadata": {
    "ExecuteTime": {
     "end_time": "2016-07-11T02:31:38.581000",
     "start_time": "2016-07-11T02:31:32.040000"
    }
   },
   "outputs": [
    {
     "name": "stdout",
     "output_type": "stream",
     "text": [
      "Model: \"sequential_3\"\n",
      "_________________________________________________________________\n",
      "Layer (type)                 Output Shape              Param #   \n",
      "=================================================================\n",
      "dense_7 (Dense)              (None, 256)               16640     \n",
      "_________________________________________________________________\n",
      "activation_3 (Activation)    (None, 256)               0         \n",
      "_________________________________________________________________\n",
      "dropout_3 (Dropout)          (None, 256)               0         \n",
      "_________________________________________________________________\n",
      "dense_8 (Dense)              (None, 128)               32896     \n",
      "_________________________________________________________________\n",
      "dropout_4 (Dropout)          (None, 128)               0         \n",
      "_________________________________________________________________\n",
      "dense_9 (Dense)              (None, 12)                1548      \n",
      "=================================================================\n",
      "Total params: 51,084\n",
      "Trainable params: 51,084\n",
      "Non-trainable params: 0\n",
      "_________________________________________________________________\n"
     ]
    }
   ],
   "source": [
    "from keras.models import Sequential\n",
    "from keras.layers import Dense, Activation, Dropout\n",
    "from keras.callbacks import ModelCheckpoint\n",
    "from keras.optimizers import SGD\n",
    "from keras.models import load_model\n",
    "model = Sequential([\n",
    "        Dense(256, input_dim = X.shape[-1]), \n",
    "        Activation('relu'), \n",
    "        Dropout(0.4), \n",
    "        Dense(128),\n",
    "        Dropout(0.4),\n",
    "        Dense(y.shape[-1])\n",
    "    ])\n",
    "model.compile(loss = 'mse', optimizer = 'adam')\n",
    "model.summary()"
   ]
  },
  {
   "cell_type": "markdown",
   "metadata": {},
   "source": [
    "## IoU Calculating Function"
   ]
  },
  {
   "cell_type": "code",
   "execution_count": 29,
   "metadata": {},
   "outputs": [],
   "source": [
    "def IOU(bbox1, bbox2):\n",
    "    '''Calculate overlap between two bounding boxes [x, y, w, h] as the area of intersection over the area of unity'''\n",
    "    x1, y1, w1, h1 = bbox1[0], bbox1[1], bbox1[2], bbox1[3]  # TODO: Check if its more performant if tensor elements are accessed directly below.\n",
    "    x2, y2, w2, h2 = bbox2[0], bbox2[1], bbox2[2], bbox2[3]\n",
    "\n",
    "    w_I = min(x1 + w1, x2 + w2) - max(x1, x2)\n",
    "    h_I = min(y1 + h1, y2 + h2) - max(y1, y2)\n",
    "    if w_I <= 0 or h_I <= 0:  # no overlap\n",
    "        return 0\n",
    "    I = w_I * h_I\n",
    "\n",
    "    U = w1 * h1 + w2 * h2 - I\n",
    "\n",
    "    return I / U"
   ]
  },
  {
   "cell_type": "markdown",
   "metadata": {},
   "source": [
    "## Distance Calculating function"
   ]
  },
  {
   "cell_type": "code",
   "execution_count": 30,
   "metadata": {},
   "outputs": [],
   "source": [
    "def distance(bbox1, bbox2):\n",
    "    return np.sqrt(np.sum(np.square(bbox1[:2] - bbox2[:2])))"
   ]
  },
  {
   "cell_type": "markdown",
   "metadata": {},
   "source": [
    "## Training"
   ]
  },
  {
   "cell_type": "code",
   "execution_count": 31,
   "metadata": {
    "ExecuteTime": {
     "end_time": "2016-07-11T02:49:39.783000",
     "start_time": "2016-07-11T02:31:48.430000"
    },
    "code_folding": [
     2,
     17
    ]
   },
   "outputs": [
    {
     "name": "stdout",
     "output_type": "stream",
     "text": [
      "Epoch 0\n",
      "1250/1250 [==============================] - 1s 1ms/step - loss: 0.0608 - val_loss: 0.0243\n",
      "Flipped 0.0025 % of all elements\n",
      "Mean IOU: 0.30693785253109623\n",
      "Mean dist: 0.3965262642854464\n",
      "Mean mse: 0.03218868869002446\n",
      "Epoch 1\n",
      "1250/1250 [==============================] - 1s 958us/step - loss: 0.0254 - val_loss: 0.0229\n",
      "Flipped 0.0016666666666666668 % of all elements\n",
      "Mean IOU: 0.31076266175655426\n",
      "Mean dist: 0.3979434772012224\n",
      "Mean mse: 0.031890821098131066\n",
      "Epoch 2\n",
      "1250/1250 [==============================] - 1s 1ms/step - loss: 0.0240 - val_loss: 0.0224\n",
      "Flipped 0.0 % of all elements\n",
      "Mean IOU: 0.32954996920047386\n",
      "Mean dist: 0.3932893133747588\n",
      "Mean mse: 0.03115609369334619\n",
      "Epoch 3\n",
      "1250/1250 [==============================] - 1s 964us/step - loss: 0.0234 - val_loss: 0.0221\n",
      "Flipped 0.0016666666666666668 % of all elements\n",
      "Mean IOU: 0.3276841006719163\n",
      "Mean dist: 0.39220773468781644\n",
      "Mean mse: 0.030839675496543133\n",
      "Epoch 4\n",
      "1250/1250 [==============================] - 1s 1ms/step - loss: 0.0229 - val_loss: 0.0219\n",
      "Flipped 0.0016666666666666668 % of all elements\n",
      "Mean IOU: 0.33009443629939905\n",
      "Mean dist: 0.3891721452511855\n",
      "Mean mse: 0.03014601133382871\n",
      "Epoch 5\n",
      "1250/1250 [==============================] - 1s 966us/step - loss: 0.0226 - val_loss: 0.0218\n",
      "Flipped 0.0025 % of all elements\n",
      "Mean IOU: 0.3185891112902173\n",
      "Mean dist: 0.3923344268512385\n",
      "Mean mse: 0.030541663111449992\n",
      "Epoch 6\n",
      "1250/1250 [==============================] - 1s 1ms/step - loss: 0.0225 - val_loss: 0.0218\n",
      "Flipped 0.0016666666666666668 % of all elements\n",
      "Mean IOU: 0.33436386778271515\n",
      "Mean dist: 0.384368957556132\n",
      "Mean mse: 0.029693333010923924\n",
      "Epoch 7\n",
      "1250/1250 [==============================] - 2s 2ms/step - loss: 0.0224 - val_loss: 0.0216TA: 0s - los\n",
      "Flipped 0.0016666666666666668 % of all elements\n",
      "Mean IOU: 0.32502122267550837\n",
      "Mean dist: 0.3883382212938452\n",
      "Mean mse: 0.030046641450193534\n",
      "Epoch 8\n",
      "1250/1250 [==============================] - 1s 1ms/step - loss: 0.0224 - val_loss: 0.0217\n",
      "Flipped 0.0025 % of all elements\n",
      "Mean IOU: 0.3163473338975975\n",
      "Mean dist: 0.39313703254711074\n",
      "Mean mse: 0.030479710984590003\n",
      "Epoch 9\n",
      "1250/1250 [==============================] - 1s 1ms/step - loss: 0.0223 - val_loss: 0.0216\n",
      "Flipped 0.0025 % of all elements\n",
      "Mean IOU: 0.32717317926970324\n",
      "Mean dist: 0.3904788438222379\n",
      "Mean mse: 0.03017057124608764\n",
      "Epoch 10\n",
      "1250/1250 [==============================] - 1s 1ms/step - loss: 0.0223 - val_loss: 0.0216\n",
      "Flipped 0.0016666666666666668 % of all elements\n",
      "Mean IOU: 0.3225519020024211\n",
      "Mean dist: 0.39540210280989674\n",
      "Mean mse: 0.030476816496236563\n",
      "Epoch 11\n",
      "1250/1250 [==============================] - 1s 998us/step - loss: 0.0223 - val_loss: 0.0216\n",
      "Flipped 0.0 % of all elements\n",
      "Mean IOU: 0.3325146174005513\n",
      "Mean dist: 0.3891139467605939\n",
      "Mean mse: 0.02994479473002125\n",
      "Epoch 12\n",
      "1250/1250 [==============================] - 2s 1ms/step - loss: 0.0222 - val_loss: 0.0215\n",
      "Flipped 0.0025 % of all elements\n",
      "Mean IOU: 0.3271669309281271\n",
      "Mean dist: 0.39243645600899985\n",
      "Mean mse: 0.030324876760130366\n",
      "Epoch 13\n",
      "1250/1250 [==============================] - 1s 1ms/step - loss: 0.0222 - val_loss: 0.0215\n",
      "Flipped 0.0016666666666666668 % of all elements\n",
      "Mean IOU: 0.33059656558203976\n",
      "Mean dist: 0.39075158509193675\n",
      "Mean mse: 0.029980925517785518\n",
      "Epoch 14\n",
      "1250/1250 [==============================] - 1s 1ms/step - loss: 0.0222 - val_loss: 0.0215\n",
      "Flipped 0.0 % of all elements\n",
      "Mean IOU: 0.32518920682926067\n",
      "Mean dist: 0.3936379668575242\n",
      "Mean mse: 0.030337760328057555\n",
      "Epoch 15\n",
      "1250/1250 [==============================] - 2s 1ms/step - loss: 0.0222 - val_loss: 0.0215\n",
      "Flipped 0.0 % of all elements\n",
      "Mean IOU: 0.3329564990318411\n",
      "Mean dist: 0.38737925901738207\n",
      "Mean mse: 0.029819294488679607\n",
      "Epoch 16\n",
      "1250/1250 [==============================] - 1s 1ms/step - loss: 0.0222 - val_loss: 0.0215\n",
      "Flipped 0.0025 % of all elements\n",
      "Mean IOU: 0.3227630352491057\n",
      "Mean dist: 0.3919506235295658\n",
      "Mean mse: 0.030085280242195755\n",
      "Epoch 17\n",
      "1250/1250 [==============================] - 1s 1ms/step - loss: 0.0222 - val_loss: 0.0215\n",
      "Flipped 0.0016666666666666668 % of all elements\n",
      "Mean IOU: 0.3180156340872741\n",
      "Mean dist: 0.3919464140962043\n",
      "Mean mse: 0.02998409234129926\n",
      "Epoch 18\n",
      "1250/1250 [==============================] - 1s 1ms/step - loss: 0.0222 - val_loss: 0.0215\n",
      "Flipped 0.0016666666666666668 % of all elements\n",
      "Mean IOU: 0.3231529625060082\n",
      "Mean dist: 0.39236825635428174\n",
      "Mean mse: 0.03024347375613582\n",
      "Epoch 19\n",
      "1250/1250 [==============================] - 1s 1ms/step - loss: 0.0222 - val_loss: 0.0215\n",
      "Flipped 0.0016666666666666668 % of all elements\n",
      "Mean IOU: 0.3180204697358831\n",
      "Mean dist: 0.39430208427263524\n",
      "Mean mse: 0.030398230478918604\n",
      "Epoch 20\n",
      "1250/1250 [==============================] - 1s 1ms/step - loss: 0.0222 - val_loss: 0.0215\n",
      "Flipped 0.0016666666666666668 % of all elements\n",
      "Mean IOU: 0.3374132911147724\n",
      "Mean dist: 0.3867126869658921\n",
      "Mean mse: 0.029674329946014894\n",
      "Epoch 21\n",
      "1250/1250 [==============================] - 1s 1ms/step - loss: 0.0222 - val_loss: 0.0215\n",
      "Flipped 0.0025 % of all elements\n",
      "Mean IOU: 0.3247122594753187\n",
      "Mean dist: 0.3886948519683123\n",
      "Mean mse: 0.030053448996099325\n",
      "Epoch 22\n",
      "1250/1250 [==============================] - 2s 2ms/step - loss: 0.0222 - val_loss: 0.0215\n",
      "Flipped 0.0025 % of all elements\n",
      "Mean IOU: 0.32656693191174013\n",
      "Mean dist: 0.38904614250995667\n",
      "Mean mse: 0.029995547176326933\n",
      "Epoch 23\n",
      "1250/1250 [==============================] - 1s 988us/step - loss: 0.0221 - val_loss: 0.0216\n",
      "Flipped 0.0 % of all elements\n",
      "Mean IOU: 0.33886827216965676\n",
      "Mean dist: 0.3854927820586206\n",
      "Mean mse: 0.029598625352009873\n",
      "Epoch 24\n",
      "1250/1250 [==============================] - 1s 1ms/step - loss: 0.0221 - val_loss: 0.0215\n",
      "Flipped 0.0016666666666666668 % of all elements\n",
      "Mean IOU: 0.33174079345363794\n",
      "Mean dist: 0.384480272765523\n",
      "Mean mse: 0.029547925265733226\n",
      "Epoch 25\n",
      "1250/1250 [==============================] - 1s 1ms/step - loss: 0.0222 - val_loss: 0.0215\n",
      "Flipped 0.0016666666666666668 % of all elements\n",
      "Mean IOU: 0.328103039935757\n",
      "Mean dist: 0.38873762131842693\n",
      "Mean mse: 0.029779523047521156\n",
      "Epoch 26\n",
      "1250/1250 [==============================] - 1s 1ms/step - loss: 0.0221 - val_loss: 0.0215\n",
      "Flipped 0.0016666666666666668 % of all elements\n",
      "Mean IOU: 0.3244360058672674\n",
      "Mean dist: 0.38906932744961326\n",
      "Mean mse: 0.03009295385516483\n",
      "Epoch 27\n",
      "1250/1250 [==============================] - 1s 1ms/step - loss: 0.0221 - val_loss: 0.0215\n",
      "Flipped 0.0 % of all elements\n",
      "Mean IOU: 0.31506859527603825\n",
      "Mean dist: 0.39433285159413306\n",
      "Mean mse: 0.030639703443900608\n",
      "Epoch 28\n",
      "1250/1250 [==============================] - 1s 1ms/step - loss: 0.0221 - val_loss: 0.0216\n",
      "Flipped 0.0025 % of all elements\n",
      "Mean IOU: 0.32940002541199587\n",
      "Mean dist: 0.3875798931848993\n",
      "Mean mse: 0.029696150462784805\n",
      "Epoch 29\n",
      "1250/1250 [==============================] - 1s 1ms/step - loss: 0.0221 - val_loss: 0.0215\n"
     ]
    },
    {
     "ename": "KeyboardInterrupt",
     "evalue": "",
     "output_type": "error",
     "traceback": [
      "\u001b[1;31m---------------------------------------------------------------------------\u001b[0m",
      "\u001b[1;31mKeyboardInterrupt\u001b[0m                         Traceback (most recent call last)",
      "\u001b[1;32m<ipython-input-31-c78e1ffff376>\u001b[0m in \u001b[0;36m<module>\u001b[1;34m\u001b[0m\n\u001b[0;32m     26\u001b[0m                 \u001b[0mious\u001b[0m\u001b[1;33m[\u001b[0m\u001b[0mi\u001b[0m\u001b[1;33m,\u001b[0m \u001b[0mj\u001b[0m\u001b[1;33m]\u001b[0m \u001b[1;33m=\u001b[0m \u001b[0mIOU\u001b[0m\u001b[1;33m(\u001b[0m\u001b[0mexp_bbox\u001b[0m\u001b[1;33m,\u001b[0m \u001b[0mpred_bbox\u001b[0m\u001b[1;33m)\u001b[0m\u001b[1;33m\u001b[0m\u001b[1;33m\u001b[0m\u001b[0m\n\u001b[0;32m     27\u001b[0m                 \u001b[0mdists\u001b[0m\u001b[1;33m[\u001b[0m\u001b[0mi\u001b[0m\u001b[1;33m,\u001b[0m \u001b[0mj\u001b[0m\u001b[1;33m]\u001b[0m \u001b[1;33m=\u001b[0m \u001b[0mdistance\u001b[0m\u001b[1;33m(\u001b[0m\u001b[0mexp_bbox\u001b[0m\u001b[1;33m,\u001b[0m \u001b[0mpred_bbox\u001b[0m\u001b[1;33m)\u001b[0m\u001b[1;33m\u001b[0m\u001b[1;33m\u001b[0m\u001b[0m\n\u001b[1;32m---> 28\u001b[1;33m                 \u001b[0mmses\u001b[0m\u001b[1;33m[\u001b[0m\u001b[0mi\u001b[0m\u001b[1;33m,\u001b[0m \u001b[0mj\u001b[0m\u001b[1;33m]\u001b[0m \u001b[1;33m=\u001b[0m \u001b[0mnp\u001b[0m\u001b[1;33m.\u001b[0m\u001b[0mmean\u001b[0m\u001b[1;33m(\u001b[0m\u001b[0mnp\u001b[0m\u001b[1;33m.\u001b[0m\u001b[0msquare\u001b[0m\u001b[1;33m(\u001b[0m\u001b[0mexp_bbox\u001b[0m \u001b[1;33m-\u001b[0m \u001b[0mpred_bbox\u001b[0m\u001b[1;33m)\u001b[0m\u001b[1;33m)\u001b[0m\u001b[1;33m\u001b[0m\u001b[1;33m\u001b[0m\u001b[0m\n\u001b[0m\u001b[0;32m     29\u001b[0m \u001b[1;33m\u001b[0m\u001b[0m\n\u001b[0;32m     30\u001b[0m         \u001b[0mnew_order\u001b[0m \u001b[1;33m=\u001b[0m \u001b[0mnp\u001b[0m\u001b[1;33m.\u001b[0m\u001b[0mzeros\u001b[0m\u001b[1;33m(\u001b[0m\u001b[0mnum_objects\u001b[0m\u001b[1;33m,\u001b[0m \u001b[0mdtype\u001b[0m \u001b[1;33m=\u001b[0m \u001b[0mint\u001b[0m\u001b[1;33m)\u001b[0m\u001b[1;33m\u001b[0m\u001b[1;33m\u001b[0m\u001b[0m\n",
      "\u001b[1;31mKeyboardInterrupt\u001b[0m: "
     ]
    }
   ],
   "source": [
    "# Flip bboxes during training.\n",
    "# Note: The validation loss is always quite big here because we don't flip the bounding boxes for the validation data. \n",
    "\n",
    "num_epochs = 50\n",
    "flipped_train_y = np.array(train_y)\n",
    "flipped = np.zeros((len(flipped_train_y), num_epochs))\n",
    "ious_epoch = np.zeros((len(flipped_train_y), num_epochs))\n",
    "dists_epoch = np.zeros((len(flipped_train_y), num_epochs))\n",
    "mses_epoch = np.zeros((len(flipped_train_y), num_epochs))\n",
    "\n",
    "for epoch in range(num_epochs):\n",
    "    print('Epoch', epoch)\n",
    "    model.fit(train_X, flipped_train_y, epochs = 1, validation_data = (test_X, test_y), verbose = 1)\n",
    "    pred_y = model.predict(train_X)\n",
    "\n",
    "    for i, (pred_bboxes, exp_bboxes) in enumerate(zip(pred_y, flipped_train_y)):\n",
    "        \n",
    "        pred_bboxes = pred_bboxes.reshape(num_objects, -1)\n",
    "        exp_bboxes = exp_bboxes.reshape(num_objects, -1)\n",
    "\n",
    "        ious = np.zeros((num_objects, num_objects))\n",
    "        dists = np.zeros((num_objects, num_objects))\n",
    "        mses = np.zeros((num_objects, num_objects))\n",
    "        for i, exp_bbox in enumerate(exp_bboxes):\n",
    "            for j, pred_bbox in enumerate(pred_bboxes):\n",
    "                ious[i, j] = IOU(exp_bbox, pred_bbox)\n",
    "                dists[i, j] = distance(exp_bbox, pred_bbox)\n",
    "                mses[i, j] = np.mean(np.square(exp_bbox - pred_bbox))\n",
    "                \n",
    "        new_order = np.zeros(num_objects, dtype = int)\n",
    "        \n",
    "        for i in range(num_objects):\n",
    "            # Find pred and exp bbox with minimum mse and assign them to each other (i.e. switch the positions of the exp bboxes in y).\n",
    "            ind_exp_bbox, ind_pred_bbox = np.unravel_index(mses.argmin(), mses.shape)\n",
    "            ious_epoch[i, epoch] += ious[ind_exp_bbox, ind_pred_bbox]\n",
    "            dists_epoch[i, epoch] += dists[ind_exp_bbox, ind_pred_bbox]\n",
    "            mses_epoch[i, epoch] += mses[ind_exp_bbox, ind_pred_bbox]\n",
    "            mses[ind_exp_bbox] = 10000000  # set mse of assigned bboxes to a large number, so they don't get assigned again\n",
    "            mses[:, ind_pred_bbox] = 10000000\n",
    "            new_order[ind_pred_bbox] = ind_exp_bbox\n",
    "        \n",
    "        # Write flipped bboxes to training data.\n",
    "        flipped_train_y[i] = exp_bboxes[new_order].flatten()\n",
    "        \n",
    "        flipped[i, epoch] = 1. - np.mean(new_order == np.arange(num_objects, dtype = int))#np.array_equal(new_order, np.arange(num_objects, dtype=int))  \n",
    "        # TODO: Change this to reflect the number of flips.\n",
    "        ious_epoch[i, epoch] /= num_objects\n",
    "        dists_epoch[i, epoch] /= num_objects\n",
    "        mses_epoch[i, epoch] /= num_objects\n",
    "        \n",
    "            \n",
    "    print('Flipped {} % of all elements'.format(np.mean(flipped[:, epoch]) * 100.))\n",
    "    print('Mean IOU: {}'.format(np.mean(ious_epoch[:, epoch])))\n",
    "    print('Mean dist: {}'.format(np.mean(dists_epoch[:, epoch])))\n",
    "    print('Mean mse: {}'.format(np.mean(mses_epoch[:, epoch])))"
   ]
  },
  {
   "cell_type": "markdown",
   "metadata": {},
   "source": [
    "## Flipping Track"
   ]
  },
  {
   "cell_type": "code",
   "execution_count": 13,
   "metadata": {
    "ExecuteTime": {
     "end_time": "2016-07-03T16:51:28.611000",
     "start_time": "2016-07-03T16:51:25.540000"
    },
    "scrolled": true
   },
   "outputs": [
    {
     "data": {
      "image/png": "[encoded data removed]",
      "text/plain": [
       "<Figure size 432x288 with 1 Axes>"
      ]
     },
     "metadata": {
      "needs_background": "light"
     },
     "output_type": "display_data"
    }
   ],
   "source": [
    "# Show flippings for a few training samples.\n",
    "plt.pcolormesh(flipped[:, :], cmap = 'Greys')\n",
    "plt.xlabel('Epoch')\n",
    "plt.ylabel('Training sample')\n",
    "plt.savefig('multiple-rectangles_flips.png', dpi = 100)\n",
    "plt.show()"
   ]
  },
  {
   "cell_type": "markdown",
   "metadata": {},
   "source": [
    "## Metrics Track"
   ]
  },
  {
   "cell_type": "code",
   "execution_count": 22,
   "metadata": {
    "ExecuteTime": {
     "end_time": "2016-07-03T16:51:37.618000",
     "start_time": "2016-07-03T16:51:37.062000"
    }
   },
   "outputs": [
    {
     "data": {
      "text/plain": [
       "(0.0, 0.8)"
      ]
     },
     "execution_count": 22,
     "metadata": {},
     "output_type": "execute_result"
    },
    {
     "data": {
      "image/png": "[encoded data removed]",
      "text/plain": [
       "<Figure size 432x288 with 1 Axes>"
      ]
     },
     "metadata": {
      "needs_background": "light"
     },
     "output_type": "display_data"
    }
   ],
   "source": [
    "# Plot metrics on the training data.\n",
    "mean_ious_epoch = np.mean(ious_epoch, axis = 0)\n",
    "mean_dists_epoch = np.mean(dists_epoch, axis = 0)\n",
    "mean_mses_epoch = np.mean(mses_epoch, axis = 0)\n",
    "plt.plot(mean_ious_epoch, label = 'Mean IOU')  # between predicted and assigned true bboxes\n",
    "plt.plot(mean_dists_epoch, label = 'Mean distance')  # relative to image size\n",
    "plt.plot(mean_mses_epoch, label = 'Mean mse')\n",
    "plt.annotate(np.round(np.max(mean_ious_epoch), 3), (len(mean_ious_epoch) - 1, mean_ious_epoch[-1] + 0.02), horizontalalignment = 'right', color = 'b')\n",
    "plt.annotate(np.round(np.min(mean_dists_epoch), 3), (len(mean_dists_epoch) - 1, mean_dists_epoch[-1] + 0.02), horizontalalignment = 'right', color = 'g')\n",
    "plt.annotate(np.round(np.min(mean_mses_epoch), 3), (len(mean_mses_epoch) - 1, mean_mses_epoch[-1] + 0.02), horizontalalignment = 'right', color = 'r')\n",
    "\n",
    "plt.xlabel('Epoch')\n",
    "# Hide y tick\n",
    "ax = plt.gca()\n",
    "ax.axes.yaxis.set_visible(False)\n",
    "\n",
    "plt.legend()\n",
    "plt.ylim(0, 0.8)"
   ]
  },
  {
   "cell_type": "markdown",
   "metadata": {},
   "source": [
    "## Denormalize Data"
   ]
  },
  {
   "cell_type": "code",
   "execution_count": 15,
   "metadata": {
    "ExecuteTime": {
     "end_time": "2016-07-03T16:34:24.949000",
     "start_time": "2016-07-03T16:34:24.511000"
    }
   },
   "outputs": [
    {
     "data": {
      "text/plain": [
       "(10000, 3, 4)"
      ]
     },
     "execution_count": 15,
     "metadata": {},
     "output_type": "execute_result"
    }
   ],
   "source": [
    "pred_y = model.predict(test_X)\n",
    "pred_bboxes = pred_y * img_size\n",
    "pred_bboxes = pred_bboxes.reshape(len(pred_bboxes), num_objects, -1)\n",
    "pred_bboxes.shape"
   ]
  },
  {
   "cell_type": "markdown",
   "metadata": {},
   "source": [
    "## Visualize Results"
   ]
  },
  {
   "cell_type": "code",
   "execution_count": 24,
   "metadata": {
    "ExecuteTime": {
     "end_time": "2016-07-03T16:34:55.948000",
     "start_time": "2016-07-03T16:34:54.428000"
    },
    "scrolled": true
   },
   "outputs": [
    {
     "ename": "IndexError",
     "evalue": "index 9534 is out of bounds for axis 0 with size 3",
     "output_type": "error",
     "traceback": [
      "\u001b[1;31m---------------------------------------------------------------------------\u001b[0m",
      "\u001b[1;31mIndexError\u001b[0m                                Traceback (most recent call last)",
      "\u001b[1;32m<ipython-input-24-25b031bb2721>\u001b[0m in \u001b[0;36m<module>\u001b[1;34m\u001b[0m\n\u001b[0;32m      4\u001b[0m     \u001b[0mi\u001b[0m \u001b[1;33m=\u001b[0m \u001b[0mnp\u001b[0m\u001b[1;33m.\u001b[0m\u001b[0mrandom\u001b[0m\u001b[1;33m.\u001b[0m\u001b[0mrandint\u001b[0m\u001b[1;33m(\u001b[0m\u001b[0mlen\u001b[0m\u001b[1;33m(\u001b[0m\u001b[0mtest_X\u001b[0m\u001b[1;33m)\u001b[0m\u001b[1;33m)\u001b[0m\u001b[1;33m\u001b[0m\u001b[1;33m\u001b[0m\u001b[0m\n\u001b[0;32m      5\u001b[0m     \u001b[0mplt\u001b[0m\u001b[1;33m.\u001b[0m\u001b[0mimshow\u001b[0m\u001b[1;33m(\u001b[0m\u001b[0mtest_imgs\u001b[0m\u001b[1;33m[\u001b[0m\u001b[0mi\u001b[0m\u001b[1;33m]\u001b[0m\u001b[1;33m.\u001b[0m\u001b[0mT\u001b[0m\u001b[1;33m,\u001b[0m \u001b[0mcmap\u001b[0m \u001b[1;33m=\u001b[0m \u001b[1;34m'Greys'\u001b[0m\u001b[1;33m,\u001b[0m \u001b[0minterpolation\u001b[0m \u001b[1;33m=\u001b[0m \u001b[1;34m'none'\u001b[0m\u001b[1;33m,\u001b[0m \u001b[0morigin\u001b[0m \u001b[1;33m=\u001b[0m \u001b[1;34m'lower'\u001b[0m\u001b[1;33m,\u001b[0m \u001b[0mextent\u001b[0m \u001b[1;33m=\u001b[0m \u001b[1;33m[\u001b[0m\u001b[1;36m0\u001b[0m\u001b[1;33m,\u001b[0m \u001b[0mimg_size\u001b[0m\u001b[1;33m,\u001b[0m \u001b[1;36m0\u001b[0m\u001b[1;33m,\u001b[0m \u001b[0mimg_size\u001b[0m\u001b[1;33m]\u001b[0m\u001b[1;33m)\u001b[0m\u001b[1;33m\u001b[0m\u001b[1;33m\u001b[0m\u001b[0m\n\u001b[1;32m----> 6\u001b[1;33m     \u001b[1;32mfor\u001b[0m \u001b[0mpred_bbox\u001b[0m\u001b[1;33m,\u001b[0m \u001b[0mexp_bbox\u001b[0m \u001b[1;32min\u001b[0m \u001b[0mzip\u001b[0m\u001b[1;33m(\u001b[0m\u001b[0mpred_bboxes\u001b[0m\u001b[1;33m[\u001b[0m\u001b[0mi\u001b[0m\u001b[1;33m]\u001b[0m\u001b[1;33m,\u001b[0m \u001b[0mtest_bboxes\u001b[0m\u001b[1;33m[\u001b[0m\u001b[0mi\u001b[0m\u001b[1;33m]\u001b[0m\u001b[1;33m)\u001b[0m\u001b[1;33m:\u001b[0m\u001b[1;33m\u001b[0m\u001b[1;33m\u001b[0m\u001b[0m\n\u001b[0m\u001b[0;32m      7\u001b[0m         \u001b[0mplt\u001b[0m\u001b[1;33m.\u001b[0m\u001b[0mgca\u001b[0m\u001b[1;33m(\u001b[0m\u001b[1;33m)\u001b[0m\u001b[1;33m.\u001b[0m\u001b[0madd_patch\u001b[0m\u001b[1;33m(\u001b[0m\u001b[0mmatplotlib\u001b[0m\u001b[1;33m.\u001b[0m\u001b[0mpatches\u001b[0m\u001b[1;33m.\u001b[0m\u001b[0mRectangle\u001b[0m\u001b[1;33m(\u001b[0m\u001b[1;33m(\u001b[0m\u001b[0mpred_bbox\u001b[0m\u001b[1;33m[\u001b[0m\u001b[1;36m0\u001b[0m\u001b[1;33m]\u001b[0m\u001b[1;33m,\u001b[0m \u001b[0mpred_bbox\u001b[0m\u001b[1;33m[\u001b[0m\u001b[1;36m1\u001b[0m\u001b[1;33m]\u001b[0m\u001b[1;33m)\u001b[0m\u001b[1;33m,\u001b[0m \u001b[0mpred_bbox\u001b[0m\u001b[1;33m[\u001b[0m\u001b[1;36m2\u001b[0m\u001b[1;33m]\u001b[0m\u001b[1;33m,\u001b[0m \u001b[0mpred_bbox\u001b[0m\u001b[1;33m[\u001b[0m\u001b[1;36m3\u001b[0m\u001b[1;33m]\u001b[0m\u001b[1;33m,\u001b[0m \u001b[0mlw\u001b[0m \u001b[1;33m=\u001b[0m \u001b[1;36m2\u001b[0m\u001b[1;33m,\u001b[0m \u001b[0mec\u001b[0m \u001b[1;33m=\u001b[0m \u001b[1;34m'r'\u001b[0m\u001b[1;33m,\u001b[0m \u001b[0mfc\u001b[0m \u001b[1;33m=\u001b[0m \u001b[1;34m'none'\u001b[0m\u001b[1;33m)\u001b[0m\u001b[1;33m)\u001b[0m\u001b[1;33m\u001b[0m\u001b[1;33m\u001b[0m\u001b[0m\n\u001b[0;32m      8\u001b[0m         \u001b[1;31m# TODO: Calculate max IOU with all expected bounding boxes.\u001b[0m\u001b[1;33m\u001b[0m\u001b[1;33m\u001b[0m\u001b[1;33m\u001b[0m\u001b[0m\n",
      "\u001b[1;31mIndexError\u001b[0m: index 9534 is out of bounds for axis 0 with size 3"
     ]
    },
    {
     "data": {
      "image/png": "[encoded data removed]",
      "text/plain": [
       "<Figure size 864x216 with 1 Axes>"
      ]
     },
     "metadata": {
      "needs_background": "light"
     },
     "output_type": "display_data"
    }
   ],
   "source": [
    "plt.figure(figsize = (12, 3))\n",
    "for i_subplot in range(1, 5):\n",
    "    plt.subplot(1, 4, i_subplot)\n",
    "    i = np.random.randint(len(test_X))\n",
    "    plt.imshow(test_imgs[i].T, cmap = 'Greys', interpolation = 'none', origin = 'lower', extent = [0, img_size, 0, img_size])\n",
    "    for pred_bbox, exp_bbox in zip(pred_bboxes[i], test_bboxes[i]):\n",
    "        plt.gca().add_patch(matplotlib.patches.Rectangle((pred_bbox[0], pred_bbox[1]), pred_bbox[2], pred_bbox[3], lw = 2, ec = 'r', fc = 'none'))\n",
    "        # TODO: Calculate max IOU with all expected bounding boxes.\n",
    "#         plt.annotate('IOU: {:.2f}'.format(IOU(pred_bbox, exp_bbox)), (pred_bbox[0], pred_bbox[1]+pred_bbox[3]+0.4), color='r')"
   ]
  },
  {
   "cell_type": "markdown",
   "metadata": {},
   "source": [
    "## Overall Assessment"
   ]
  },
  {
   "cell_type": "code",
   "execution_count": 18,
   "metadata": {},
   "outputs": [
    {
     "data": {
      "text/plain": [
       "0.3386230901759131"
      ]
     },
     "execution_count": 18,
     "metadata": {},
     "output_type": "execute_result"
    }
   ],
   "source": [
    "from keras.models import load_model\n",
    "model_test = load_model('Multiple_Rectangles_model.h5')\n",
    "pred_y = model_test.predict(test_X)\n",
    "pred_bboxes = pred_y * img_size\n",
    "pred_bboxes = pred_bboxes.reshape(len(pred_bboxes), num_objects, -1)\n",
    "summed_IOU = 0.\n",
    "for pred_bbox, test_bbox in zip(pred_bboxes.reshape(-1, 4), test_bboxes.reshape(-1, 4)):\n",
    "    summed_IOU += IOU(pred_bbox, test_bbox)\n",
    "mean_IOU = summed_IOU / len(pred_bboxes)\n",
    "mean_IOU"
   ]
  },
  {
   "cell_type": "code",
   "execution_count": null,
   "metadata": {},
   "outputs": [],
   "source": []
  }
 ],
 "metadata": {
  "kernelspec": {
   "display_name": "Python (tensorflow-gpu)",
   "language": "python",
   "name": "tf-gpu"
  },
  "language_info": {
   "codemirror_mode": {
    "name": "ipython",
    "version": 3
   },
   "file_extension": ".py",
   "mimetype": "text/x-python",
   "name": "python",
   "nbconvert_exporter": "python",
   "pygments_lexer": "ipython3",
   "version": "3.8.3"
  }
 },
 "nbformat": 4,
 "nbformat_minor": 1
}
