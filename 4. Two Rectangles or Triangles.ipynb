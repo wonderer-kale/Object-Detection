{
 "cells": [
  {
   "cell_type": "markdown",
   "metadata": {},
   "source": [
    "# Two Rectangles or Triangles"
   ]
  },
  {
   "cell_type": "markdown",
   "metadata": {},
   "source": [
    "## Import Packages"
   ]
  },
  {
   "cell_type": "code",
   "execution_count": 2,
   "metadata": {
    "ExecuteTime": {
     "end_time": "2016-07-06T23:25:52.986000",
     "start_time": "2016-07-06T23:25:52.454000"
    }
   },
   "outputs": [],
   "source": [
    "import numpy as np\n",
    "import matplotlib.pyplot as plt\n",
    "import matplotlib\n",
    "%matplotlib inline"
   ]
  },
  {
   "cell_type": "markdown",
   "metadata": {},
   "source": [
    "## Data Generation"
   ]
  },
  {
   "cell_type": "code",
   "execution_count": 3,
   "metadata": {
    "ExecuteTime": {
     "end_time": "2016-07-06T23:25:58.288000",
     "start_time": "2016-07-06T23:25:54.225000"
    }
   },
   "outputs": [
    {
     "data": {
      "text/plain": [
       "((50000, 16, 16), (50000, 2, 4))"
      ]
     },
     "execution_count": 3,
     "metadata": {},
     "output_type": "execute_result"
    }
   ],
   "source": [
    "num_imgs = 50000\n",
    "\n",
    "img_size = 16\n",
    "min_rect_size = 3\n",
    "max_rect_size = 8\n",
    "num_objects = 2\n",
    "\n",
    "bboxes = np.zeros((num_imgs, num_objects, 4))\n",
    "imgs = np.zeros((num_imgs, img_size, img_size))\n",
    "shapes = np.zeros((num_imgs, num_objects, 1))\n",
    "\n",
    "for i_img in range(num_imgs):\n",
    "    for i_object in range(num_objects):\n",
    "        if np.random.choice([True, False]):\n",
    "            width, height = np.random.randint(min_rect_size, max_rect_size, size = 2)\n",
    "            x = np.random.randint(0, img_size - width)\n",
    "            y = np.random.randint(0, img_size - height)\n",
    "            imgs[i_img, x:x + width, y:y + height] = 1.\n",
    "            bboxes[i_img, i_object] = [x, y, width, height]\n",
    "            shapes[i_img, i_object] = [0]\n",
    "        else:\n",
    "            size = np.random.randint(min_rect_size, max_rect_size)\n",
    "            x, y = np.random.randint(0, img_size - size, size = 2)\n",
    "            mask = np.tril_indices(size)\n",
    "            imgs[i_img, x + mask[0], y + mask[1]] = 1.\n",
    "            bboxes[i_img, i_object] = [x, y, size, size]\n",
    "            shapes[i_img, i_object] = [1]\n",
    "\n",
    "imgs.shape, bboxes.shape"
   ]
  },
  {
   "cell_type": "code",
   "execution_count": 4,
   "metadata": {
    "ExecuteTime": {
     "end_time": "2016-07-06T23:25:58.544000",
     "start_time": "2016-07-06T23:25:58.291000"
    },
    "scrolled": true
   },
   "outputs": [
    {
     "data": {
      "image/png": "[encoded data removed]",
      "text/plain": [
       "<Figure size 432x288 with 1 Axes>"
      ]
     },
     "metadata": {
      "needs_background": "light"
     },
     "output_type": "display_data"
    }
   ],
   "source": [
    "i = 3\n",
    "plt.imshow(imgs[i].T, cmap='Greys', interpolation='none', origin='lower', extent=[0, img_size, 0, img_size])\n",
    "for bbox, shape in zip(bboxes[i], shapes[i]):\n",
    "    plt.gca().add_patch(matplotlib.patches.Rectangle((bbox[0], bbox[1]), bbox[2], bbox[3], lw = 2, ec='r' if shape[0] == 0 else 'b', fc='none'))"
   ]
  },
  {
   "cell_type": "markdown",
   "metadata": {},
   "source": [
    "## Preprocessing"
   ]
  },
  {
   "cell_type": "code",
   "execution_count": 5,
   "metadata": {
    "ExecuteTime": {
     "end_time": "2016-07-06T23:25:59.719000",
     "start_time": "2016-07-06T23:25:59.203000"
    }
   },
   "outputs": [
    {
     "data": {
      "text/plain": [
       "((50000, 256), 1.29414257088456e-16, 1.000000000000002)"
      ]
     },
     "execution_count": 5,
     "metadata": {},
     "output_type": "execute_result"
    }
   ],
   "source": [
    "X = (imgs.reshape(num_imgs, -1) - np.mean(imgs)) / np.std(imgs)\n",
    "X.shape, np.mean(X), np.std(X)"
   ]
  },
  {
   "cell_type": "code",
   "execution_count": 6,
   "metadata": {
    "ExecuteTime": {
     "end_time": "2016-07-06T23:26:00.476000",
     "start_time": "2016-07-06T23:26:00.464000"
    }
   },
   "outputs": [
    {
     "data": {
      "text/plain": [
       "(50000, 10)"
      ]
     },
     "execution_count": 6,
     "metadata": {},
     "output_type": "execute_result"
    }
   ],
   "source": [
    "# TODO: We use binary classification here - for multiple classes, convert classes to one-hot vectors.\n",
    "y = np.concatenate([bboxes / img_size, shapes], axis = -1).reshape(num_imgs, -1)\n",
    "y.shape"
   ]
  },
  {
   "cell_type": "markdown",
   "metadata": {},
   "source": [
    "## Train Test Split"
   ]
  },
  {
   "cell_type": "code",
   "execution_count": 7,
   "metadata": {
    "ExecuteTime": {
     "end_time": "2016-07-06T23:26:01.233000",
     "start_time": "2016-07-06T23:26:01.226000"
    }
   },
   "outputs": [],
   "source": [
    "i = int(0.8 * num_imgs)\n",
    "train_X = X[:i]\n",
    "test_X = X[i:]\n",
    "train_y = y[:i]\n",
    "test_y = y[i:]\n",
    "test_imgs = imgs[i:]\n",
    "test_bboxes = bboxes[i:]"
   ]
  },
  {
   "cell_type": "markdown",
   "metadata": {},
   "source": [
    "## Model"
   ]
  },
  {
   "cell_type": "code",
   "execution_count": 8,
   "metadata": {
    "ExecuteTime": {
     "end_time": "2016-07-06T23:26:06.005000",
     "start_time": "2016-07-06T23:26:02.162000"
    }
   },
   "outputs": [
    {
     "name": "stderr",
     "output_type": "stream",
     "text": [
      "WARNING:root:Limited tf.compat.v2.summary API due to missing TensorBoard installation.\n",
      "WARNING:root:Limited tf.compat.v2.summary API due to missing TensorBoard installation.\n",
      "WARNING:root:Limited tf.compat.v2.summary API due to missing TensorBoard installation.\n",
      "WARNING:root:Limited tf.summary API due to missing TensorBoard installation.\n"
     ]
    },
    {
     "name": "stdout",
     "output_type": "stream",
     "text": [
      "Model: \"sequential\"\n",
      "_________________________________________________________________\n",
      "Layer (type)                 Output Shape              Param #   \n",
      "=================================================================\n",
      "dense (Dense)                (None, 256)               65792     \n",
      "_________________________________________________________________\n",
      "activation (Activation)      (None, 256)               0         \n",
      "_________________________________________________________________\n",
      "dropout (Dropout)            (None, 256)               0         \n",
      "_________________________________________________________________\n",
      "dense_1 (Dense)              (None, 10)                2570      \n",
      "=================================================================\n",
      "Total params: 68,362\n",
      "Trainable params: 68,362\n",
      "Non-trainable params: 0\n",
      "_________________________________________________________________\n"
     ]
    }
   ],
   "source": [
    "from keras.models import Sequential\n",
    "from keras.layers import Dense, Activation, Dropout\n",
    "from keras.callbacks import ModelCheckpoint\n",
    "from keras.optimizers import SGD\n",
    "model = Sequential([\n",
    "        Dense(256, input_dim = X.shape[-1]), \n",
    "        Activation('relu'), \n",
    "        Dropout(0.4), \n",
    "        Dense(y.shape[-1])\n",
    "    ])\n",
    "model.compile(loss = 'mse', optimizer = 'adam')\n",
    "model.summary()"
   ]
  },
  {
   "cell_type": "markdown",
   "metadata": {},
   "source": [
    "## IoU Calculating Function"
   ]
  },
  {
   "cell_type": "code",
   "execution_count": 9,
   "metadata": {},
   "outputs": [],
   "source": [
    "def IOU(bbox1, bbox2):\n",
    "    '''Calculate overlap between two bounding boxes [x, y, w, h] as the area of intersection over the area of unity'''\n",
    "    x1, y1, w1, h1 = bbox1[0], bbox1[1], bbox1[2], bbox1[3]  # TODO: Check if its more performant if tensor elements are accessed directly below.\n",
    "    x2, y2, w2, h2 = bbox2[0], bbox2[1], bbox2[2], bbox2[3]\n",
    "\n",
    "    w_I = min(x1 + w1, x2 + w2) - max(x1, x2)\n",
    "    h_I = min(y1 + h1, y2 + h2) - max(y1, y2)\n",
    "    w_I = max(w_I, 0)  # set w_I and h_I zero if there is no intersection\n",
    "    h_I = max(h_I, 0)\n",
    "    I = w_I * h_I\n",
    "\n",
    "    U = w1 * h1 + w2 * h2 - I\n",
    "\n",
    "    return I / U"
   ]
  },
  {
   "cell_type": "markdown",
   "metadata": {},
   "source": [
    "## Distance Calculating Function"
   ]
  },
  {
   "cell_type": "code",
   "execution_count": 10,
   "metadata": {},
   "outputs": [],
   "source": [
    "def distance(bbox1, bbox2):\n",
    "    return np.sqrt(np.sum(np.square(bbox1[:2] - bbox2[:2])))"
   ]
  },
  {
   "cell_type": "markdown",
   "metadata": {},
   "source": [
    "## Training"
   ]
  },
  {
   "cell_type": "code",
   "execution_count": 11,
   "metadata": {
    "ExecuteTime": {
     "end_time": "2016-07-06T23:32:54.867000",
     "start_time": "2016-07-06T23:26:06.009000"
    },
    "code_folding": [
     2,
     17
    ]
   },
   "outputs": [
    {
     "name": "stdout",
     "output_type": "stream",
     "text": [
      "Epoch 0\n",
      "1250/1250 [==============================] - 3s 2ms/step - loss: 0.1007 - val_loss: 0.0516\n",
      "Flipped 4608.0 training samples (11.52 %)\n",
      "Mean IOU: 0.12434850951888493\n",
      "Mean dist: 0.1317837333210995\n",
      "Mean mse: 0.024891173562962315\n",
      "Epoch 1\n",
      "1250/1250 [==============================] - 3s 2ms/step - loss: 0.0519 - val_loss: 0.0481\n",
      "Flipped 2639.0 training samples (6.5975 %)\n",
      "Mean IOU: 0.13414989409567996\n",
      "Mean dist: 0.1370642387406094\n",
      "Mean mse: 0.022803483684475965\n",
      "Epoch 2\n",
      "1250/1250 [==============================] - 3s 3ms/step - loss: 0.0493 - val_loss: 0.0473\n",
      "Flipped 1880.0 training samples (4.7 %)\n",
      "Mean IOU: 0.13831240630364633\n",
      "Mean dist: 0.1413406762850663\n",
      "Mean mse: 0.022181555523393348\n",
      "Epoch 3\n",
      "1250/1250 [==============================] - 3s 2ms/step - loss: 0.0480 - val_loss: 0.0472\n",
      "Flipped 1626.0 training samples (4.0649999999999995 %)\n",
      "Mean IOU: 0.13636144697809627\n",
      "Mean dist: 0.143182244549104\n",
      "Mean mse: 0.02169421166456255\n",
      "Epoch 4\n",
      "1250/1250 [==============================] - 3s 2ms/step - loss: 0.0471 - val_loss: 0.0473\n",
      "Flipped 1372.0 training samples (3.4299999999999997 %)\n",
      "Mean IOU: 0.1370647522676884\n",
      "Mean dist: 0.14202195631216374\n",
      "Mean mse: 0.02133752055596855\n",
      "Epoch 5\n",
      "1250/1250 [==============================] - 3s 2ms/step - loss: 0.0465 - val_loss: 0.0473\n",
      "Flipped 1127.0 training samples (2.8175 %)\n",
      "Mean IOU: 0.13423094534969998\n",
      "Mean dist: 0.14456433065249885\n",
      "Mean mse: 0.02117446729732721\n",
      "Epoch 6\n",
      "1250/1250 [==============================] - 3s 2ms/step - loss: 0.0459 - val_loss: 0.0481\n",
      "Flipped 1576.0 training samples (3.94 %)\n",
      "Mean IOU: 0.13492418713377488\n",
      "Mean dist: 0.14495159836483182\n",
      "Mean mse: 0.02101580650775025\n",
      "Epoch 7\n",
      "1250/1250 [==============================] - 3s 2ms/step - loss: 0.0454 - val_loss: 0.0490\n",
      "Flipped 1153.0 training samples (2.8825 %)\n",
      "Mean IOU: 0.1328129972432335\n",
      "Mean dist: 0.141372525612438\n",
      "Mean mse: 0.020757653931232776\n",
      "Epoch 8\n",
      "1250/1250 [==============================] - 3s 2ms/step - loss: 0.0450 - val_loss: 0.0492\n",
      "Flipped 1643.0 training samples (4.1075 %)\n",
      "Mean IOU: 0.12949130413394713\n",
      "Mean dist: 0.1437161882633224\n",
      "Mean mse: 0.02036853332761949\n",
      "Epoch 9\n",
      "1250/1250 [==============================] - 3s 2ms/step - loss: 0.0444 - val_loss: 0.0492\n",
      "Flipped 1037.0 training samples (2.5925 %)\n",
      "Mean IOU: 0.1361130121513313\n",
      "Mean dist: 0.1464826943405405\n",
      "Mean mse: 0.020076523659711576\n",
      "Epoch 10\n",
      "1250/1250 [==============================] - 3s 2ms/step - loss: 0.0439 - val_loss: 0.0506\n",
      "Flipped 1448.0 training samples (3.62 %)\n",
      "Mean IOU: 0.12990190680858896\n",
      "Mean dist: 0.14308009250316345\n",
      "Mean mse: 0.01981851935888649\n",
      "Epoch 11\n",
      "1250/1250 [==============================] - 3s 2ms/step - loss: 0.0435 - val_loss: 0.0506\n"
     ]
    },
    {
     "ename": "KeyboardInterrupt",
     "evalue": "",
     "output_type": "error",
     "traceback": [
      "\u001b[1;31m---------------------------------------------------------------------------\u001b[0m",
      "\u001b[1;31mKeyboardInterrupt\u001b[0m                         Traceback (most recent call last)",
      "\u001b[1;32m<ipython-input-11-ef8a136d4ca3>\u001b[0m in \u001b[0;36m<module>\u001b[1;34m\u001b[0m\n\u001b[0;32m     16\u001b[0m         \u001b[0mflipped_exp_bboxes\u001b[0m \u001b[1;33m=\u001b[0m \u001b[0mnp\u001b[0m\u001b[1;33m.\u001b[0m\u001b[0mconcatenate\u001b[0m\u001b[1;33m(\u001b[0m\u001b[1;33m[\u001b[0m\u001b[0mexp_bboxes\u001b[0m\u001b[1;33m[\u001b[0m\u001b[1;36m4\u001b[0m\u001b[1;33m:\u001b[0m\u001b[1;33m]\u001b[0m\u001b[1;33m,\u001b[0m \u001b[0mexp_bboxes\u001b[0m\u001b[1;33m[\u001b[0m\u001b[1;33m:\u001b[0m\u001b[1;36m4\u001b[0m\u001b[1;33m]\u001b[0m\u001b[1;33m]\u001b[0m\u001b[1;33m)\u001b[0m\u001b[1;33m\u001b[0m\u001b[1;33m\u001b[0m\u001b[0m\n\u001b[0;32m     17\u001b[0m \u001b[1;33m\u001b[0m\u001b[0m\n\u001b[1;32m---> 18\u001b[1;33m         \u001b[0mmse\u001b[0m \u001b[1;33m=\u001b[0m \u001b[0mnp\u001b[0m\u001b[1;33m.\u001b[0m\u001b[0mmean\u001b[0m\u001b[1;33m(\u001b[0m\u001b[0mnp\u001b[0m\u001b[1;33m.\u001b[0m\u001b[0msquare\u001b[0m\u001b[1;33m(\u001b[0m\u001b[0mpred_bboxes\u001b[0m \u001b[1;33m-\u001b[0m \u001b[0mexp_bboxes\u001b[0m\u001b[1;33m)\u001b[0m\u001b[1;33m)\u001b[0m\u001b[1;33m\u001b[0m\u001b[1;33m\u001b[0m\u001b[0m\n\u001b[0m\u001b[0;32m     19\u001b[0m         \u001b[0mmse_flipped\u001b[0m \u001b[1;33m=\u001b[0m \u001b[0mnp\u001b[0m\u001b[1;33m.\u001b[0m\u001b[0mmean\u001b[0m\u001b[1;33m(\u001b[0m\u001b[0mnp\u001b[0m\u001b[1;33m.\u001b[0m\u001b[0msquare\u001b[0m\u001b[1;33m(\u001b[0m\u001b[0mpred_bboxes\u001b[0m \u001b[1;33m-\u001b[0m \u001b[0mflipped_exp_bboxes\u001b[0m\u001b[1;33m)\u001b[0m\u001b[1;33m)\u001b[0m\u001b[1;33m\u001b[0m\u001b[1;33m\u001b[0m\u001b[0m\n\u001b[0;32m     20\u001b[0m \u001b[1;33m\u001b[0m\u001b[0m\n",
      "\u001b[1;31mKeyboardInterrupt\u001b[0m: "
     ]
    }
   ],
   "source": [
    "# Flip bboxes during training.\n",
    "num_epochs = 50\n",
    "flipped_train_y = np.array(train_y)\n",
    "flipped = np.zeros((len(flipped_train_y), num_epochs))\n",
    "ious = np.zeros((len(flipped_train_y), num_epochs))\n",
    "dists = np.zeros((len(flipped_train_y), num_epochs))\n",
    "mses = np.zeros((len(flipped_train_y), num_epochs))\n",
    "\n",
    "for epoch in range(num_epochs):\n",
    "    print('Epoch', epoch)\n",
    "    model.fit(train_X, flipped_train_y, epochs = 1, validation_data = (test_X, test_y), verbose = 1)\n",
    "    pred_y = model.predict(train_X)\n",
    "\n",
    "    for i, (pred_bboxes, exp_bboxes) in enumerate(zip(pred_y, flipped_train_y)):\n",
    "        \n",
    "        flipped_exp_bboxes = np.concatenate([exp_bboxes[4:], exp_bboxes[:4]])\n",
    "        \n",
    "        mse = np.mean(np.square(pred_bboxes - exp_bboxes))\n",
    "        mse_flipped = np.mean(np.square(pred_bboxes - flipped_exp_bboxes))\n",
    "        \n",
    "        iou = IOU(pred_bboxes[:4], exp_bboxes[:4]) + IOU(pred_bboxes[4:], exp_bboxes[4:])\n",
    "        iou_flipped = IOU(pred_bboxes[:4], flipped_exp_bboxes[:4]) + IOU(pred_bboxes[4:], flipped_exp_bboxes[4:])\n",
    "        \n",
    "        dist = distance(pred_bboxes[:4], exp_bboxes[:4]) + IOU(pred_bboxes[4:], exp_bboxes[4:])\n",
    "        dist_flipped = distance(pred_bboxes[:4], flipped_exp_bboxes[:4]) + IOU(pred_bboxes[4:], flipped_exp_bboxes[4:])\n",
    "        \n",
    "        if mse_flipped < mse:  \n",
    "            flipped_train_y[i] = flipped_exp_bboxes\n",
    "            flipped[i, epoch] = 1\n",
    "            ious[i, epoch] = iou_flipped / 2.\n",
    "            dists[i, epoch] = dist_flipped / 2.\n",
    "            mses[i, epoch] = mse_flipped / 2.\n",
    "        else:\n",
    "            ious[i, epoch] = iou / 2.\n",
    "            dists[i, epoch] = dist / 2.\n",
    "            mses[i, epoch] = mse / 2.\n",
    "            \n",
    "    print('Flipped {} training samples ({} %)'.format(np.sum(flipped[:, epoch]), np.mean(flipped[:, epoch]) * 100.))\n",
    "    print('Mean IOU: {}'.format(np.mean(ious[:, epoch])))\n",
    "    print('Mean dist: {}'.format(np.mean(dists[:, epoch])))\n",
    "    print('Mean mse: {}'.format(np.mean(mses[:, epoch])))"
   ]
  },
  {
   "cell_type": "markdown",
   "metadata": {},
   "source": [
    "## Flipping Track"
   ]
  },
  {
   "cell_type": "code",
   "execution_count": 9,
   "metadata": {
    "ExecuteTime": {
     "end_time": "2016-07-06T23:55:00.367000",
     "start_time": "2016-07-06T23:54:57.699000"
    }
   },
   "outputs": [
    {
     "data": {
      "text/plain": [
       "<matplotlib.text.Text at 0x1ee69c18>"
      ]
     },
     "execution_count": 9,
     "metadata": {},
     "output_type": "execute_result"
    },
    {
     "data": {
      "image/png": "[encoded data removed]",
      "text/plain": [
       "<matplotlib.figure.Figure at 0x1edc4208>"
      ]
     },
     "metadata": {},
     "output_type": "display_data"
    }
   ],
   "source": [
    "plt.pcolor(flipped[:1000], cmap = 'Greys')\n",
    "plt.xlabel('Epoch')\n",
    "plt.ylabel('Training sample')"
   ]
  },
  {
   "cell_type": "markdown",
   "metadata": {},
   "source": [
    "## Metrics Track"
   ]
  },
  {
   "cell_type": "code",
   "execution_count": 10,
   "metadata": {
    "ExecuteTime": {
     "end_time": "2016-07-06T23:55:01.541000",
     "start_time": "2016-07-06T23:55:01.245000"
    }
   },
   "outputs": [
    {
     "data": {
      "text/plain": [
       "(0, 1)"
      ]
     },
     "execution_count": 10,
     "metadata": {},
     "output_type": "execute_result"
    },
    {
     "data": {
      "image/png": "[encoded data removed]",
      "text/plain": [
       "<matplotlib.figure.Figure at 0x1ede4390>"
      ]
     },
     "metadata": {},
     "output_type": "display_data"
    }
   ],
   "source": [
    "plt.plot(np.mean(ious, axis = 0), label = 'Mean IOU')  # between predicted and assigned true bboxes\n",
    "plt.plot(np.mean(dists, axis = 0), label = 'Mean distance')  # relative to image size\n",
    "plt.legend()\n",
    "plt.ylim(0, 1)"
   ]
  },
  {
   "cell_type": "markdown",
   "metadata": {},
   "source": [
    "## Denormalize Data"
   ]
  },
  {
   "cell_type": "code",
   "execution_count": 11,
   "metadata": {
    "ExecuteTime": {
     "end_time": "2016-07-06T23:55:02.905000",
     "start_time": "2016-07-06T23:55:02.569000"
    }
   },
   "outputs": [
    {
     "data": {
      "text/plain": [
       "((10000L, 2L, 4L), (10000L, 2L, 1L))"
      ]
     },
     "execution_count": 11,
     "metadata": {},
     "output_type": "execute_result"
    }
   ],
   "source": [
    "pred_y = model.predict(test_X)\n",
    "pred_y = pred_y.reshape(len(pred_y), num_objects, -1)\n",
    "pred_bboxes = pred_y[..., :4] * img_size\n",
    "pred_shapes = pred_y[..., 4:5]\n",
    "pred_bboxes.shape, pred_shapes.shape"
   ]
  },
  {
   "cell_type": "markdown",
   "metadata": {},
   "source": [
    "## Visualize Results"
   ]
  },
  {
   "cell_type": "code",
   "execution_count": 31,
   "metadata": {
    "ExecuteTime": {
     "end_time": "2016-07-06T23:57:24.479000",
     "start_time": "2016-07-06T23:57:22.606000"
    }
   },
   "outputs": [
    {
     "data": {
      "image/png": "[encoded data removed]",
      "text/plain": [
       "<matplotlib.figure.Figure at 0x257bab00>"
      ]
     },
     "metadata": {},
     "output_type": "display_data"
    }
   ],
   "source": [
    "plt.figure(figsize = (16, 8))\n",
    "for i_subplot in range(1, 5):\n",
    "    plt.subplot(1, 4, i_subplot)\n",
    "    i = np.random.randint(len(test_X))\n",
    "    plt.imshow(test_imgs[i].T, cmap = 'Greys', interpolation = 'none', origin = 'lower', extent = [0, img_size, 0, img_size])\n",
    "    for pred_bbox, exp_bbox, pred_shape in zip(pred_bboxes[i], test_bboxes[i], pred_shapes[i]):\n",
    "        plt.gca().add_patch(matplotlib.patches.Rectangle((pred_bbox[0], pred_bbox[1]), pred_bbox[2], pred_bbox[3], lw = 2, ec = 'r' if pred_shape[0] <= 0.5 else 'b', fc = 'none'))\n",
    "        # TODO: Calculate max IOU with all expected bounding boxes.\n",
    "#         plt.annotate('IOU: {:.2f}'.format(IOU(pred_bbox, exp_bbox)), (pred_bbox[0], pred_bbox[1]+pred_bbox[3]+0.4), color='r')\n",
    "\n",
    "plt.savefig('two-rectangles-or-triangles.png', dpi = 100)"
   ]
  },
  {
   "cell_type": "code",
   "execution_count": null,
   "metadata": {
    "collapsed": true
   },
   "outputs": [],
   "source": []
  }
 ],
 "metadata": {
  "kernelspec": {
   "display_name": "Python (tensorflow-gpu)",
   "language": "python",
   "name": "tf-gpu"
  },
  "language_info": {
   "codemirror_mode": {
    "name": "ipython",
    "version": 3
   },
   "file_extension": ".py",
   "mimetype": "text/x-python",
   "name": "python",
   "nbconvert_exporter": "python",
   "pygments_lexer": "ipython3",
   "version": "3.8.3"
  },
  "toc": {
   "nav_menu": {},
   "number_sections": true,
   "sideBar": true,
   "skip_h1_title": false,
   "title_cell": "Table of Contents",
   "title_sidebar": "Contents",
   "toc_cell": false,
   "toc_position": {},
   "toc_section_display": true,
   "toc_window_display": false
  }
 },
 "nbformat": 4,
 "nbformat_minor": 1
}
