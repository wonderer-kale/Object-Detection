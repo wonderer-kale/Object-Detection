{
 "cells": [
  {
   "cell_type": "markdown",
   "metadata": {},
   "source": [
    "# Single Rectangle Detection"
   ]
  },
  {
   "cell_type": "markdown",
   "metadata": {},
   "source": [
    "## Import Packages"
   ]
  },
  {
   "cell_type": "code",
   "execution_count": 1,
   "metadata": {},
   "outputs": [],
   "source": [
    "import numpy as np\n",
    "import matplotlib.pyplot as plt\n",
    "import matplotlib\n",
    "%matplotlib inline"
   ]
  },
  {
   "cell_type": "markdown",
   "metadata": {},
   "source": [
    "## Data Generation"
   ]
  },
  {
   "cell_type": "code",
   "execution_count": 2,
   "metadata": {},
   "outputs": [
    {
     "name": "stdout",
     "output_type": "stream",
     "text": [
      "Image Shape: (50000, 8, 8)\n",
      "Bounding Box Shape: (50000, 1, 4)\n"
     ]
    }
   ],
   "source": [
    "# Create images with random rectangles and bounding boxes. \n",
    "num_imgs = 50000\n",
    "\n",
    "img_size = 8\n",
    "min_object_size = 1\n",
    "max_object_size = 4\n",
    "num_objects = 1\n",
    "\n",
    "# create and zero two arrays, one is for the bounding boxes, the other is for the images\n",
    "bboxes = np.zeros((num_imgs, num_objects, 4))\n",
    "# set the pixel value of the background to 0\n",
    "imgs = np.zeros((num_imgs, img_size, img_size))\n",
    "\n",
    "for i_img in range(num_imgs):\n",
    "    for i_object in range(num_objects):\n",
    "        # set the width and height of the rectangle\n",
    "        w, h = np.random.randint(min_object_size, max_object_size, size = 2)\n",
    "        # set the location (x, y) of the rectangle\n",
    "        x = np.random.randint(0, img_size - w)\n",
    "        y = np.random.randint(0, img_size - h)\n",
    "        # set the pixel value of the rectangle to 1\n",
    "        imgs[i_img, x:x + w, y:y + h] = 1.0\n",
    "        bboxes[i_img, i_object] = [x, y, w, h]\n",
    "        \n",
    "print(\"Image Shape: {}\".format(imgs.shape))\n",
    "print(\"Bounding Box Shape: {}\".format(bboxes.shape))"
   ]
  },
  {
   "cell_type": "code",
   "execution_count": 3,
   "metadata": {
    "scrolled": true
   },
   "outputs": [
    {
     "data": {
      "image/png": "[encoded data removed]",
      "text/plain": [
       "<Figure size 432x288 with 1 Axes>"
      ]
     },
     "metadata": {
      "needs_background": "light"
     },
     "output_type": "display_data"
    }
   ],
   "source": [
    "i = 0\n",
    "# origin: place the [0, 0] index of the array in the upper left or lower left corner of the axes\n",
    "# extent: floats(left, right, bottom, top)\n",
    "plt.imshow(imgs[i].T, cmap = 'Greys', interpolation = 'none', origin = 'lower', extent = [0, img_size, 0, img_size])\n",
    "# tranverse(.T) and flip upside down(origin = 'lower') to fit in the bounding box\n",
    "for bbox in bboxes[i]:\n",
    "    plt.gca().add_patch(matplotlib.patches.Rectangle((bbox[0], bbox[1]), bbox[2], bbox[3], lw = 2, ec = 'r', fc = 'none'))\n",
    "    # patches.Rectangle((x, y), w, h, linewidth, edgecolor, facecolor)"
   ]
  },
  {
   "cell_type": "markdown",
   "metadata": {},
   "source": [
    "## Preprocessing"
   ]
  },
  {
   "cell_type": "code",
   "execution_count": 4,
   "metadata": {},
   "outputs": [
    {
     "data": {
      "text/plain": [
       "((50000, 64), 3.368416656712725e-18, 1.0)"
      ]
     },
     "execution_count": 4,
     "metadata": {},
     "output_type": "execute_result"
    }
   ],
   "source": [
    "# Reshape and normalize the image data to mean 0 and std 1. \n",
    "X = (imgs.reshape(num_imgs, -1) - np.mean(imgs)) / np.std(imgs)\n",
    "X.shape, np.mean(X), np.std(X)"
   ]
  },
  {
   "cell_type": "code",
   "execution_count": 5,
   "metadata": {},
   "outputs": [
    {
     "data": {
      "text/plain": [
       "((50000, 4), 0.281453125, 0.17495891747131487)"
      ]
     },
     "execution_count": 5,
     "metadata": {},
     "output_type": "execute_result"
    }
   ],
   "source": [
    "# Normalize x, y, w, h by img_size, so that all values are between 0 and 1.\n",
    "# Important: Do not shift to negative values (e.g. by setting to mean 0), because the IOU calculation needs positive w and h.\n",
    "y = bboxes.reshape(num_imgs, -1) / img_size\n",
    "y.shape, np.mean(y), np.std(y)"
   ]
  },
  {
   "cell_type": "markdown",
   "metadata": {},
   "source": [
    "## Train Test Split"
   ]
  },
  {
   "cell_type": "code",
   "execution_count": 6,
   "metadata": {},
   "outputs": [],
   "source": [
    "# Split training and test.\n",
    "i = int(0.8 * num_imgs)\n",
    "train_X, test_X = X[:i], X[i:]\n",
    "train_y ,test_y = y[:i], y[i:]\n",
    "test_imgs = imgs[i:]\n",
    "test_bboxes = bboxes[i:]"
   ]
  },
  {
   "cell_type": "markdown",
   "metadata": {},
   "source": [
    "## Model"
   ]
  },
  {
   "cell_type": "code",
   "execution_count": 8,
   "metadata": {},
   "outputs": [
    {
     "name": "stdout",
     "output_type": "stream",
     "text": [
      "Model: \"sequential_1\"\n",
      "_________________________________________________________________\n",
      "Layer (type)                 Output Shape              Param #   \n",
      "=================================================================\n",
      "dense_2 (Dense)              (None, 200)               13000     \n",
      "_________________________________________________________________\n",
      "activation_1 (Activation)    (None, 200)               0         \n",
      "_________________________________________________________________\n",
      "dropout_1 (Dropout)          (None, 200)               0         \n",
      "_________________________________________________________________\n",
      "dense_3 (Dense)              (None, 4)                 804       \n",
      "=================================================================\n",
      "Total params: 13,804\n",
      "Trainable params: 13,804\n",
      "Non-trainable params: 0\n",
      "_________________________________________________________________\n"
     ]
    }
   ],
   "source": [
    "# Build the model.\n",
    "from keras.models import Sequential\n",
    "from keras.layers import Dense, Activation, Dropout\n",
    "from keras.callbacks import ModelCheckpoint\n",
    "model = Sequential([\n",
    "        Dense(200, input_dim = X.shape[-1]),\n",
    "        Activation('relu'), \n",
    "        Dropout(0.2), \n",
    "        Dense(y.shape[-1])\n",
    "        ])\n",
    "model.compile(loss = 'mse', optimizer = 'adam', metrics = ['accuracy'])\n",
    "model.summary()"
   ]
  },
  {
   "cell_type": "markdown",
   "metadata": {},
   "source": [
    "## Training"
   ]
  },
  {
   "cell_type": "code",
   "execution_count": 19,
   "metadata": {},
   "outputs": [
    {
     "name": "stdout",
     "output_type": "stream",
     "text": [
      "Epoch 1/30\n",
      "1250/1250 [==============================] - 1s 883us/step - loss: 0.0260 - accuracy: 0.7088 - val_loss: 7.8385e-04 - val_accuracy: 0.8944\n",
      "Epoch 2/30\n",
      "1250/1250 [==============================] - 1s 783us/step - loss: 0.0023 - accuracy: 0.8438 - val_loss: 2.9428e-04 - val_accuracy: 0.8753\n",
      "Epoch 3/30\n",
      "1250/1250 [==============================] - 1s 787us/step - loss: 0.0014 - accuracy: 0.8486 - val_loss: 1.6840e-04 - val_accuracy: 0.8721\n",
      "Epoch 4/30\n",
      "1250/1250 [==============================] - 1s 781us/step - loss: 0.0011 - accuracy: 0.8478 - val_loss: 1.6911e-04 - val_accuracy: 0.8322\n",
      "Epoch 5/30\n",
      "1250/1250 [==============================] - 1s 785us/step - loss: 9.4217e-04 - accuracy: 0.8485 - val_loss: 2.1356e-04 - val_accuracy: 0.8855\n",
      "Epoch 6/30\n",
      "1250/1250 [==============================] - 1s 796us/step - loss: 8.4843e-04 - accuracy: 0.8477 - val_loss: 1.7260e-04 - val_accuracy: 0.8604\n",
      "Epoch 7/30\n",
      "1250/1250 [==============================] - 1s 850us/step - loss: 7.9675e-04 - accuracy: 0.8481 - val_loss: 2.1689e-04 - val_accuracy: 0.8247\n",
      "Epoch 8/30\n",
      "1250/1250 [==============================] - 1s 798us/step - loss: 7.5871e-04 - accuracy: 0.8460 - val_loss: 1.5603e-04 - val_accuracy: 0.8957\n",
      "Epoch 9/30\n",
      "1250/1250 [==============================] - 1s 783us/step - loss: 7.2384e-04 - accuracy: 0.8458 - val_loss: 1.4723e-04 - val_accuracy: 0.8149\n",
      "Epoch 10/30\n",
      "1250/1250 [==============================] - 1s 780us/step - loss: 6.9962e-04 - accuracy: 0.8449 - val_loss: 1.8782e-04 - val_accuracy: 0.8821\n",
      "Epoch 11/30\n",
      "1250/1250 [==============================] - 1s 787us/step - loss: 6.7483e-04 - accuracy: 0.8440 - val_loss: 1.6433e-04 - val_accuracy: 0.8681\n",
      "Epoch 12/30\n",
      "1250/1250 [==============================] - 1s 868us/step - loss: 6.6396e-04 - accuracy: 0.8460 - val_loss: 1.3507e-04 - val_accuracy: 0.9025\n",
      "Epoch 13/30\n",
      "1250/1250 [==============================] - 1s 786us/step - loss: 6.4136e-04 - accuracy: 0.8471 - val_loss: 1.5583e-04 - val_accuracy: 0.7690\n",
      "Epoch 14/30\n",
      "1250/1250 [==============================] - 1s 783us/step - loss: 6.4202e-04 - accuracy: 0.8441 - val_loss: 1.8472e-04 - val_accuracy: 0.8455\n",
      "Epoch 15/30\n",
      "1250/1250 [==============================] - 1s 786us/step - loss: 6.3617e-04 - accuracy: 0.8450 - val_loss: 1.4767e-04 - val_accuracy: 0.8408\n",
      "Epoch 16/30\n",
      "1250/1250 [==============================] - 1s 786us/step - loss: 6.2387e-04 - accuracy: 0.8423 - val_loss: 1.2489e-04 - val_accuracy: 0.8794\n",
      "Epoch 17/30\n",
      "1250/1250 [==============================] - 1s 790us/step - loss: 6.2030e-04 - accuracy: 0.8457 - val_loss: 1.2101e-04 - val_accuracy: 0.8418\n",
      "Epoch 18/30\n",
      "1250/1250 [==============================] - 1s 797us/step - loss: 6.1403e-04 - accuracy: 0.8442 - val_loss: 1.3876e-04 - val_accuracy: 0.8647\n",
      "Epoch 19/30\n",
      "1250/1250 [==============================] - 1s 862us/step - loss: 6.1252e-04 - accuracy: 0.8446 - val_loss: 1.5315e-04 - val_accuracy: 0.8532\n",
      "Epoch 20/30\n",
      "1250/1250 [==============================] - 1s 804us/step - loss: 6.0236e-04 - accuracy: 0.8443 - val_loss: 1.5798e-04 - val_accuracy: 0.8758\n",
      "Epoch 21/30\n",
      "1250/1250 [==============================] - 1s 824us/step - loss: 6.0480e-04 - accuracy: 0.8432 - val_loss: 1.4356e-04 - val_accuracy: 0.8213\n",
      "Epoch 22/30\n",
      "1250/1250 [==============================] - 1s 832us/step - loss: 6.0359e-04 - accuracy: 0.8450 - val_loss: 1.5483e-04 - val_accuracy: 0.8857\n",
      "Epoch 23/30\n",
      "1250/1250 [==============================] - 1s 844us/step - loss: 5.9842e-04 - accuracy: 0.8440 - val_loss: 1.1426e-04 - val_accuracy: 0.8725\n",
      "Epoch 24/30\n",
      "1250/1250 [==============================] - 1s 786us/step - loss: 5.9508e-04 - accuracy: 0.8463 - val_loss: 1.1130e-04 - val_accuracy: 0.8416\n",
      "Epoch 25/30\n",
      "1250/1250 [==============================] - 1s 790us/step - loss: 5.8894e-04 - accuracy: 0.8450 - val_loss: 1.5980e-04 - val_accuracy: 0.8763\n",
      "Epoch 26/30\n",
      "1250/1250 [==============================] - 1s 785us/step - loss: 5.8735e-04 - accuracy: 0.8444 - val_loss: 9.0072e-05 - val_accuracy: 0.8562\n",
      "Epoch 27/30\n",
      "1250/1250 [==============================] - 1s 797us/step - loss: 5.9452e-04 - accuracy: 0.8444 - val_loss: 1.4270e-04 - val_accuracy: 0.8320\n",
      "Epoch 28/30\n",
      "1250/1250 [==============================] - 1s 831us/step - loss: 5.9434e-04 - accuracy: 0.8435 - val_loss: 1.5426e-04 - val_accuracy: 0.8295\n",
      "Epoch 29/30\n",
      "1250/1250 [==============================] - 1s 913us/step - loss: 5.8904e-04 - accuracy: 0.8447 - val_loss: 1.4293e-04 - val_accuracy: 0.8209\n",
      "Epoch 30/30\n",
      "1250/1250 [==============================] - 1s 882us/step - loss: 5.8940e-04 - accuracy: 0.8442 - val_loss: 1.1991e-04 - val_accuracy: 0.8594\n"
     ]
    },
    {
     "data": {
      "text/plain": [
       "<tensorflow.python.keras.callbacks.History at 0x1ed4a918820>"
      ]
     },
     "execution_count": 19,
     "metadata": {},
     "output_type": "execute_result"
    }
   ],
   "source": [
    "# Train\n",
    "model.fit(train_X, train_y, epochs = 30, validation_data = (test_X, test_y), verbose = 1,\n",
    "          callbacks = [ModelCheckpoint('Single_Rectangle_model.h5',\n",
    "                                       monitor = 'val_accuracy',\n",
    "                                       save_best_only = True)])"
   ]
  },
  {
   "cell_type": "markdown",
   "metadata": {},
   "source": [
    "## Prediction"
   ]
  },
  {
   "cell_type": "code",
   "execution_count": 20,
   "metadata": {},
   "outputs": [
    {
     "data": {
      "text/plain": [
       "(10000, 1, 4)"
      ]
     },
     "execution_count": 20,
     "metadata": {},
     "output_type": "execute_result"
    }
   ],
   "source": [
    "# Predict bounding boxes on the test images.\n",
    "from keras.models import load_model\n",
    "model_test = load_model('Single_Rectangle_model.h5')\n",
    "prediction = model_test.predict(test_X)\n",
    "pred_bboxes = prediction * img_size\n",
    "pred_bboxes = pred_bboxes.reshape(len(pred_bboxes), num_objects, -1)\n",
    "pred_bboxes.shape"
   ]
  },
  {
   "cell_type": "markdown",
   "metadata": {},
   "source": [
    "## IoU Calculating Function"
   ]
  },
  {
   "cell_type": "code",
   "execution_count": 21,
   "metadata": {},
   "outputs": [],
   "source": [
    "def IOU(bbox1, bbox2):\n",
    "    '''Calculate overlap between two bounding boxes [x, y, w, h] as the area of intersection over the area of unity'''\n",
    "    x1, y1, w1, h1 = bbox1[0], bbox1[1], bbox1[2], bbox1[3]\n",
    "    x2, y2, w2, h2 = bbox2[0], bbox2[1], bbox2[2], bbox2[3]\n",
    "\n",
    "    w_I = min(x1 + w1, x2 + w2) - max(x1, x2)\n",
    "    h_I = min(y1 + h1, y2 + h2) - max(y1, y2)\n",
    "    if w_I <= 0 or h_I <= 0:  # no overlap\n",
    "        return 0.\n",
    "    I = w_I * h_I\n",
    "\n",
    "    U = w1 * h1 + w2 * h2 - I\n",
    "\n",
    "    return I / U"
   ]
  },
  {
   "cell_type": "markdown",
   "metadata": {},
   "source": [
    "## Visualize Results"
   ]
  },
  {
   "cell_type": "code",
   "execution_count": 24,
   "metadata": {},
   "outputs": [
    {
     "data": {
      "image/png": "[encoded data removed]",
      "text/plain": [
       "<Figure size 864x216 with 4 Axes>"
      ]
     },
     "metadata": {
      "needs_background": "light"
     },
     "output_type": "display_data"
    }
   ],
   "source": [
    "# Show a few images and predicted bounding boxes from the test dataset. \n",
    "plt.figure(figsize = (12, 3))\n",
    "for i_subplot in range(1, 5):\n",
    "    plt.subplot(1, 4, i_subplot)\n",
    "    i = np.random.randint(len(test_imgs))\n",
    "    plt.imshow(test_imgs[i].T, cmap = 'Greys', interpolation = 'none', origin = 'lower', extent = [0, img_size, 0, img_size])\n",
    "    for pred_bbox, exp_bbox in zip(pred_bboxes[i], test_bboxes[i]):\n",
    "        plt.gca().add_patch(matplotlib.patches.Rectangle((pred_bbox[0], pred_bbox[1]), pred_bbox[2], pred_bbox[3], lw = 2, ec = 'r', fc = 'none'))\n",
    "        plt.annotate(\"IOU: {:.2f}\".format(IOU(pred_bbox, exp_bbox)), (pred_bbox[0], pred_bbox[1] + pred_bbox[3] + 0.2), color = 'r')\n",
    "        # plt.annotate(text, (x, y), color)\n",
    "        \n",
    "plt.savefig(\"single-rectangle_prediction.png\", dpi = 100)"
   ]
  },
  {
   "cell_type": "markdown",
   "metadata": {},
   "source": [
    "## Overall Assessment"
   ]
  },
  {
   "cell_type": "code",
   "execution_count": 25,
   "metadata": {},
   "outputs": [
    {
     "data": {
      "text/plain": [
       "0.8310774643257784"
      ]
     },
     "execution_count": 25,
     "metadata": {},
     "output_type": "execute_result"
    }
   ],
   "source": [
    "# Calculate the mean IOU (overlap) between the predicted and expected bounding boxes on the test dataset. \n",
    "summed_IOU = 0.\n",
    "for pred_bbox, test_bbox in zip(pred_bboxes.reshape(-1, 4), test_bboxes.reshape(-1, 4)):\n",
    "    summed_IOU += IOU(pred_bbox, test_bbox)\n",
    "mean_IOU = summed_IOU / len(pred_bboxes)\n",
    "mean_IOU"
   ]
  },
  {
   "cell_type": "code",
   "execution_count": null,
   "metadata": {},
   "outputs": [],
   "source": []
  }
 ],
 "metadata": {
  "kernelspec": {
   "display_name": "Python (tensorflow-gpu)",
   "language": "python",
   "name": "tf-gpu"
  },
  "language_info": {
   "codemirror_mode": {
    "name": "ipython",
    "version": 3
   },
   "file_extension": ".py",
   "mimetype": "text/x-python",
   "name": "python",
   "nbconvert_exporter": "python",
   "pygments_lexer": "ipython3",
   "version": "3.8.3"
  }
 },
 "nbformat": 4,
 "nbformat_minor": 4
}
